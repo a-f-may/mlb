{
  "nbformat": 4,
  "nbformat_minor": 5,
  "metadata": {
    "kernelspec": {
      "display_name": "Python 3",
      "language": "python",
      "name": "python3"
    },
    "language_info": {
      "codemirror_mode": {
        "name": "ipython",
        "version": 3
      },
      "file_extension": ".py",
      "mimetype": "text/x-python",
      "name": "python",
      "nbconvert_exporter": "python",
      "pygments_lexer": "ipython3",
      "version": "3.7.10"
    },
    "papermill": {
      "default_parameters": {},
      "duration": 346.121966,
      "end_time": "2021-06-25T22:24:11.045344",
      "environment_variables": {},
      "exception": null,
      "input_path": "__notebook__.ipynb",
      "output_path": "__notebook__.ipynb",
      "parameters": {},
      "start_time": "2021-06-25T22:18:24.923378",
      "version": "2.3.3"
    },
    "colab": {
      "name": "submit2.ipynb",
      "provenance": [],
      "collapsed_sections": [],
      "machine_shape": "hm",
      "include_colab_link": true
    },
    "accelerator": "TPU"
  },
  "cells": [
    {
      "cell_type": "markdown",
      "metadata": {
        "id": "view-in-github",
        "colab_type": "text"
      },
      "source": [
        "<a href=\"https://colab.research.google.com/github/gdollp/mlb/blob/main/submit2.ipynb\" target=\"_parent\"><img src=\"https://colab.research.google.com/assets/colab-badge.svg\" alt=\"Open In Colab\"/></a>"
      ]
    },
    {
      "cell_type": "markdown",
      "metadata": {
        "_cell_guid": "b1076dfc-b9ad-4769-8c92-a6c4dae69d19",
        "_uuid": "8f2839f25d086af736a60e9eeb907d3b93b6e0e5",
        "papermill": {
          "duration": 0.024709,
          "end_time": "2021-06-25T22:18:33.032989",
          "exception": false,
          "start_time": "2021-06-25T22:18:33.008280",
          "status": "completed"
        },
        "tags": [],
        "id": "resident-birthday"
      },
      "source": [
        "This notebook uses lightGBM to make predictions.\n",
        "\n",
        "We use the following features\n",
        "* playerId\n",
        "* position\n",
        "* teamId(rosters)\n",
        "* status(rosters)\n",
        "* playerBoxScores\n",
        "\n",
        "and the date 20200401~20200431 as the validation data.\n",
        "\n",
        "But I think there is room for improvement.  \n",
        "If you have better ways, I would appreciate it if you could comment on it.\n",
        "\n",
        "このnotebookではlightGBMを使って予測します。\n",
        "\n",
        "特徴量は以下のものを使用しています。\n",
        "* playerId\n",
        "* position\n",
        "* teamId(rosters)\n",
        "* status(rosters)\n",
        "* playerBoxScores\n",
        "\n",
        "20200401~20200431を日時をvalidation dataとしていますが、一考の余地がありそうです。  \n",
        "もし良さそうな方法があればコメントしていただけると幸いです。"
      ],
      "id": "resident-birthday"
    },
    {
      "cell_type": "markdown",
      "metadata": {
        "papermill": {
          "duration": 0.027024,
          "end_time": "2021-06-25T22:18:33.083611",
          "exception": false,
          "start_time": "2021-06-25T22:18:33.056587",
          "status": "completed"
        },
        "tags": [],
        "id": "vital-water"
      },
      "source": [
        ""
      ],
      "id": "vital-water"
    },
    {
      "cell_type": "markdown",
      "metadata": {
        "papermill": {
          "duration": 0.025051,
          "end_time": "2021-06-25T22:18:33.139292",
          "exception": false,
          "start_time": "2021-06-25T22:18:33.114241",
          "status": "completed"
        },
        "tags": [],
        "id": "operating-thunder"
      },
      "source": [
        "https://www.kaggle.com/columbia2131/mlb-lightgbm-starter-dataset-code-en-ja"
      ],
      "id": "operating-thunder"
    },
    {
      "cell_type": "markdown",
      "metadata": {
        "papermill": {
          "duration": 0.026534,
          "end_time": "2021-06-25T22:18:33.190839",
          "exception": false,
          "start_time": "2021-06-25T22:18:33.164305",
          "status": "completed"
        },
        "tags": [],
        "id": "theoretical-damages"
      },
      "source": [
        "## About Dataset"
      ],
      "id": "theoretical-damages"
    },
    {
      "cell_type": "markdown",
      "metadata": {
        "papermill": {
          "duration": 0.02311,
          "end_time": "2021-06-25T22:18:33.237635",
          "exception": false,
          "start_time": "2021-06-25T22:18:33.214525",
          "status": "completed"
        },
        "tags": [],
        "id": "clinical-cheat"
      },
      "source": [
        "Train.csv is stored as a csv file with each column as follows.  \n",
        "\n",
        "train.csvを以下のようにして各カラムをcsvファイルとして保管しています。"
      ],
      "id": "clinical-cheat"
    },
    {
      "cell_type": "code",
      "metadata": {
        "execution": {
          "iopub.execute_input": "2021-06-25T22:18:33.300733Z",
          "iopub.status.busy": "2021-06-25T22:18:33.299967Z",
          "iopub.status.idle": "2021-06-25T22:18:33.302980Z",
          "shell.execute_reply": "2021-06-25T22:18:33.302209Z",
          "shell.execute_reply.started": "2021-06-25T21:58:13.679983Z"
        },
        "papermill": {
          "duration": 0.042271,
          "end_time": "2021-06-25T22:18:33.303166",
          "exception": false,
          "start_time": "2021-06-25T22:18:33.260895",
          "status": "completed"
        },
        "tags": [],
        "id": "reasonable-assistant"
      },
      "source": [
        "%%capture\n",
        "\"\"\"\n",
        "!pip install pandarallel \n",
        "\n",
        "import gc\n",
        "\n",
        "import numpy as np\n",
        "import pandas as pd\n",
        "from pathlib import Path\n",
        "\n",
        "from pandarallel import pandarallel\n",
        "pandarallel.initialize()\n",
        "\n",
        "BASE_DIR = Path('../input/mlb-player-digital-engagement-forecasting')\n",
        "train = pd.read_csv(BASE_DIR / 'train.csv')\n",
        "\n",
        "null = np.nan\n",
        "true = True\n",
        "false = False\n",
        "\n",
        "for col in train.columns:\n",
        "\n",
        "    if col == 'date': continue\n",
        "\n",
        "    _index = train[col].notnull()\n",
        "    train.loc[_index, col] = train.loc[_index, col].parallel_apply(lambda x: eval(x))\n",
        "\n",
        "    outputs = []\n",
        "    for index, date, record in train.loc[_index, ['date', col]].itertuples():\n",
        "        _df = pd.DataFrame(record)\n",
        "        _df['index'] = index\n",
        "        _df['date'] = date\n",
        "        outputs.append(_df)\n",
        "\n",
        "    outputs = pd.concat(outputs).reset_index(drop=True)\n",
        "\n",
        "    outputs.to_csv(f'{col}_train.csv', index=False)\n",
        "    outputs.to_pickle(f'{col}_train.pkl')\n",
        "\n",
        "    del outputs\n",
        "    del train[col]\n",
        "    gc.collect()\n",
        "\"\"\""
      ],
      "id": "reasonable-assistant",
      "execution_count": 159,
      "outputs": []
    },
    {
      "cell_type": "code",
      "metadata": {
        "colab": {
          "base_uri": "https://localhost:8080/"
        },
        "id": "APDXL7SxlCT1",
        "outputId": "6645a32c-8512-45ba-e653-851ec0bbd44d"
      },
      "source": [
        "!pip install optuna"
      ],
      "id": "APDXL7SxlCT1",
      "execution_count": 160,
      "outputs": [
        {
          "output_type": "stream",
          "text": [
            "Requirement already satisfied: optuna in /usr/local/lib/python3.7/dist-packages (2.8.0)\n",
            "Requirement already satisfied: packaging>=20.0 in /usr/local/lib/python3.7/dist-packages (from optuna) (20.9)\n",
            "Requirement already satisfied: scipy!=1.4.0 in /usr/local/lib/python3.7/dist-packages (from optuna) (1.4.1)\n",
            "Requirement already satisfied: tqdm in /usr/local/lib/python3.7/dist-packages (from optuna) (4.41.1)\n",
            "Requirement already satisfied: alembic in /usr/local/lib/python3.7/dist-packages (from optuna) (1.6.5)\n",
            "Requirement already satisfied: numpy in /usr/local/lib/python3.7/dist-packages (from optuna) (1.19.5)\n",
            "Requirement already satisfied: cmaes>=0.8.2 in /usr/local/lib/python3.7/dist-packages (from optuna) (0.8.2)\n",
            "Requirement already satisfied: cliff in /usr/local/lib/python3.7/dist-packages (from optuna) (3.8.0)\n",
            "Requirement already satisfied: sqlalchemy>=1.1.0 in /usr/local/lib/python3.7/dist-packages (from optuna) (1.4.18)\n",
            "Requirement already satisfied: colorlog in /usr/local/lib/python3.7/dist-packages (from optuna) (5.0.1)\n",
            "Requirement already satisfied: pyparsing>=2.0.2 in /usr/local/lib/python3.7/dist-packages (from packaging>=20.0->optuna) (2.4.7)\n",
            "Requirement already satisfied: python-dateutil in /usr/local/lib/python3.7/dist-packages (from alembic->optuna) (2.8.1)\n",
            "Requirement already satisfied: python-editor>=0.3 in /usr/local/lib/python3.7/dist-packages (from alembic->optuna) (1.0.4)\n",
            "Requirement already satisfied: Mako in /usr/local/lib/python3.7/dist-packages (from alembic->optuna) (1.1.4)\n",
            "Requirement already satisfied: stevedore>=2.0.1 in /usr/local/lib/python3.7/dist-packages (from cliff->optuna) (3.3.0)\n",
            "Requirement already satisfied: PrettyTable>=0.7.2 in /usr/local/lib/python3.7/dist-packages (from cliff->optuna) (2.1.0)\n",
            "Requirement already satisfied: PyYAML>=3.12 in /usr/local/lib/python3.7/dist-packages (from cliff->optuna) (3.13)\n",
            "Requirement already satisfied: cmd2>=1.0.0 in /usr/local/lib/python3.7/dist-packages (from cliff->optuna) (2.1.2)\n",
            "Requirement already satisfied: pbr!=2.1.0,>=2.0.0 in /usr/local/lib/python3.7/dist-packages (from cliff->optuna) (5.6.0)\n",
            "Requirement already satisfied: greenlet!=0.4.17; python_version >= \"3\" in /usr/local/lib/python3.7/dist-packages (from sqlalchemy>=1.1.0->optuna) (1.1.0)\n",
            "Requirement already satisfied: importlib-metadata; python_version < \"3.8\" in /usr/local/lib/python3.7/dist-packages (from sqlalchemy>=1.1.0->optuna) (4.5.0)\n",
            "Requirement already satisfied: six>=1.5 in /usr/local/lib/python3.7/dist-packages (from python-dateutil->alembic->optuna) (1.15.0)\n",
            "Requirement already satisfied: MarkupSafe>=0.9.2 in /usr/local/lib/python3.7/dist-packages (from Mako->alembic->optuna) (2.0.1)\n",
            "Requirement already satisfied: wcwidth in /usr/local/lib/python3.7/dist-packages (from PrettyTable>=0.7.2->cliff->optuna) (0.2.5)\n",
            "Requirement already satisfied: colorama>=0.3.7 in /usr/local/lib/python3.7/dist-packages (from cmd2>=1.0.0->cliff->optuna) (0.4.4)\n",
            "Requirement already satisfied: typing-extensions; python_version < \"3.8\" in /usr/local/lib/python3.7/dist-packages (from cmd2>=1.0.0->cliff->optuna) (3.7.4.3)\n",
            "Requirement already satisfied: pyperclip>=1.6 in /usr/local/lib/python3.7/dist-packages (from cmd2>=1.0.0->cliff->optuna) (1.8.2)\n",
            "Requirement already satisfied: attrs>=16.3.0 in /usr/local/lib/python3.7/dist-packages (from cmd2>=1.0.0->cliff->optuna) (21.2.0)\n",
            "Requirement already satisfied: zipp>=0.5 in /usr/local/lib/python3.7/dist-packages (from importlib-metadata; python_version < \"3.8\"->sqlalchemy>=1.1.0->optuna) (3.4.1)\n"
          ],
          "name": "stdout"
        }
      ]
    },
    {
      "cell_type": "markdown",
      "metadata": {
        "execution": {
          "iopub.execute_input": "2021-06-16T09:14:33.869905Z",
          "iopub.status.busy": "2021-06-16T09:14:33.869464Z",
          "iopub.status.idle": "2021-06-16T09:14:33.874766Z",
          "shell.execute_reply": "2021-06-16T09:14:33.873097Z",
          "shell.execute_reply.started": "2021-06-16T09:14:33.869879Z"
        },
        "papermill": {
          "duration": 0.025072,
          "end_time": "2021-06-25T22:18:33.352190",
          "exception": false,
          "start_time": "2021-06-25T22:18:33.327118",
          "status": "completed"
        },
        "tags": [],
        "id": "frozen-alfred"
      },
      "source": [
        "## Training"
      ],
      "id": "frozen-alfred"
    },
    {
      "cell_type": "code",
      "metadata": {
        "execution": {
          "iopub.execute_input": "2021-06-25T22:18:33.415350Z",
          "iopub.status.busy": "2021-06-25T22:18:33.414585Z",
          "iopub.status.idle": "2021-06-25T22:18:36.343351Z",
          "shell.execute_reply": "2021-06-25T22:18:36.343900Z",
          "shell.execute_reply.started": "2021-06-25T21:58:13.707952Z"
        },
        "papermill": {
          "duration": 2.967463,
          "end_time": "2021-06-25T22:18:36.344129",
          "exception": false,
          "start_time": "2021-06-25T22:18:33.376666",
          "status": "completed"
        },
        "tags": [],
        "id": "concrete-cruise"
      },
      "source": [
        "import numpy as np\n",
        "import pandas as pd\n",
        "from pathlib import Path\n",
        "from sklearn.metrics import mean_absolute_error\n",
        "from datetime import timedelta\n",
        "from functools import reduce\n",
        "from tqdm import tqdm\n",
        "import optuna.integration.lightgbm as lgbm\n",
        "#import lightgbm as lgbm\n",
        "#import mlb\n",
        "import pickle\n",
        "from datetime import datetime as dt\n",
        "import copy\n",
        "import gc\n",
        "from sklearn.decomposition import PCA\n",
        "import math"
      ],
      "id": "concrete-cruise",
      "execution_count": 161,
      "outputs": []
    },
    {
      "cell_type": "code",
      "metadata": {
        "colab": {
          "base_uri": "https://localhost:8080/"
        },
        "id": "ykU9DkvWXkRB",
        "outputId": "572d847f-1a6a-4602-cbf3-162b5413e9c7"
      },
      "source": [
        "from google.colab import drive\n",
        "drive.mount('/content/drive')"
      ],
      "id": "ykU9DkvWXkRB",
      "execution_count": 162,
      "outputs": [
        {
          "output_type": "stream",
          "text": [
            "Drive already mounted at /content/drive; to attempt to forcibly remount, call drive.mount(\"/content/drive\", force_remount=True).\n"
          ],
          "name": "stdout"
        }
      ]
    },
    {
      "cell_type": "code",
      "metadata": {
        "execution": {
          "iopub.execute_input": "2021-06-25T22:18:36.397396Z",
          "iopub.status.busy": "2021-06-25T22:18:36.396731Z",
          "iopub.status.idle": "2021-06-25T22:18:36.401367Z",
          "shell.execute_reply": "2021-06-25T22:18:36.400852Z",
          "shell.execute_reply.started": "2021-06-25T21:58:16.647196Z"
        },
        "papermill": {
          "duration": 0.032131,
          "end_time": "2021-06-25T22:18:36.401524",
          "exception": false,
          "start_time": "2021-06-25T22:18:36.369393",
          "status": "completed"
        },
        "tags": [],
        "id": "declared-principal"
      },
      "source": [
        "BASE_DIR = Path('/content/drive/MyDrive/mlb/input')\n",
        "TRAIN_DIR = Path('/content/drive/MyDrive/mlb/input/archive')"
      ],
      "id": "declared-principal",
      "execution_count": 163,
      "outputs": []
    },
    {
      "cell_type": "code",
      "metadata": {
        "execution": {
          "iopub.execute_input": "2021-06-25T22:18:36.461288Z",
          "iopub.status.busy": "2021-06-25T22:18:36.460608Z",
          "iopub.status.idle": "2021-06-25T22:18:55.337941Z",
          "shell.execute_reply": "2021-06-25T22:18:55.336912Z",
          "shell.execute_reply.started": "2021-06-25T21:58:16.654219Z"
        },
        "papermill": {
          "duration": 18.911828,
          "end_time": "2021-06-25T22:18:55.338134",
          "exception": false,
          "start_time": "2021-06-25T22:18:36.426306",
          "status": "completed"
        },
        "tags": [],
        "id": "tough-launch"
      },
      "source": [
        "players = pd.read_csv(BASE_DIR / 'players.csv')\n",
        "\n",
        "rosters = pd.read_pickle(TRAIN_DIR / 'rosters_train.pkl')\n",
        "targets = pd.read_pickle(TRAIN_DIR / 'nextDayPlayerEngagement_train.pkl')\n",
        "scores1 = pd.read_pickle(TRAIN_DIR / 'playerBoxScores_train.pkl')\n",
        "scores = scores1.groupby(['playerId', 'date']).sum().reset_index()\n",
        "twitter = pd.read_pickle(\"/content/drive/MyDrive/mlb/input/archive/playerTwitterFollowers_train.pkl\")\n",
        "games = pd.read_pickle(TRAIN_DIR / 'games_train.pkl')\n",
        "events = pd.read_pickle(TRAIN_DIR / 'events_train.pkl')\n",
        "standings = pd.read_pickle(TRAIN_DIR / 'standings_train.pkl')\n",
        "teamtwitter = pd.read_pickle(TRAIN_DIR / 'teamTwitterFollowers_train.pkl')\n",
        "transaction = pd.read_pickle(TRAIN_DIR / 'teamTwitterFollowers_train.pkl')\n",
        "awards = pd.read_csv(BASE_DIR / 'awards.csv')\n",
        "seasons = pd.read_csv(BASE_DIR / 'seasons.csv')\n",
        "teams = pd.read_csv(BASE_DIR / 'teams.csv')\n",
        "player_target_stats = pd.read_csv(\"/content/drive/MyDrive/mlb/input/player_target_stats.csv\")\n",
        "from sklearn.model_selection import KFold"
      ],
      "id": "tough-launch",
      "execution_count": 164,
      "outputs": []
    },
    {
      "cell_type": "code",
      "metadata": {
        "id": "4BRMq9l8YfYI",
        "colab": {
          "base_uri": "https://localhost:8080/",
          "height": 419
        },
        "outputId": "9dbfb994-9021-498d-fcb9-45da060aed6d"
      },
      "source": [
        "twitter = twitter.groupby(\"playerId\").mean().reset_index()\n",
        "twitter"
      ],
      "id": "4BRMq9l8YfYI",
      "execution_count": 165,
      "outputs": [
        {
          "output_type": "execute_result",
          "data": {
            "text/html": [
              "<div>\n",
              "<style scoped>\n",
              "    .dataframe tbody tr th:only-of-type {\n",
              "        vertical-align: middle;\n",
              "    }\n",
              "\n",
              "    .dataframe tbody tr th {\n",
              "        vertical-align: top;\n",
              "    }\n",
              "\n",
              "    .dataframe thead th {\n",
              "        text-align: right;\n",
              "    }\n",
              "</style>\n",
              "<table border=\"1\" class=\"dataframe\">\n",
              "  <thead>\n",
              "    <tr style=\"text-align: right;\">\n",
              "      <th></th>\n",
              "      <th>playerId</th>\n",
              "      <th>date</th>\n",
              "      <th>numberOfFollowers</th>\n",
              "      <th>index</th>\n",
              "    </tr>\n",
              "  </thead>\n",
              "  <tbody>\n",
              "    <tr>\n",
              "      <th>0</th>\n",
              "      <td>115629</td>\n",
              "      <td>2.019261e+07</td>\n",
              "      <td>3.486485e+04</td>\n",
              "      <td>592.700000</td>\n",
              "    </tr>\n",
              "    <tr>\n",
              "      <th>1</th>\n",
              "      <td>116338</td>\n",
              "      <td>2.019261e+07</td>\n",
              "      <td>2.627433e+05</td>\n",
              "      <td>592.700000</td>\n",
              "    </tr>\n",
              "    <tr>\n",
              "      <th>2</th>\n",
              "      <td>120074</td>\n",
              "      <td>2.019261e+07</td>\n",
              "      <td>1.559375e+06</td>\n",
              "      <td>592.700000</td>\n",
              "    </tr>\n",
              "    <tr>\n",
              "      <th>3</th>\n",
              "      <td>121347</td>\n",
              "      <td>2.019261e+07</td>\n",
              "      <td>1.250843e+06</td>\n",
              "      <td>592.700000</td>\n",
              "    </tr>\n",
              "    <tr>\n",
              "      <th>4</th>\n",
              "      <td>136600</td>\n",
              "      <td>2.019261e+07</td>\n",
              "      <td>3.420270e+04</td>\n",
              "      <td>592.700000</td>\n",
              "    </tr>\n",
              "    <tr>\n",
              "      <th>...</th>\n",
              "      <td>...</td>\n",
              "      <td>...</td>\n",
              "      <td>...</td>\n",
              "      <td>...</td>\n",
              "    </tr>\n",
              "    <tr>\n",
              "      <th>1442</th>\n",
              "      <td>680777</td>\n",
              "      <td>2.019477e+07</td>\n",
              "      <td>8.681471e+02</td>\n",
              "      <td>684.029412</td>\n",
              "    </tr>\n",
              "    <tr>\n",
              "      <th>1443</th>\n",
              "      <td>680911</td>\n",
              "      <td>2.020430e+07</td>\n",
              "      <td>1.082455e+03</td>\n",
              "      <td>1034.454545</td>\n",
              "    </tr>\n",
              "    <tr>\n",
              "      <th>1444</th>\n",
              "      <td>681911</td>\n",
              "      <td>2.020371e+07</td>\n",
              "      <td>8.636923e+02</td>\n",
              "      <td>1003.923077</td>\n",
              "    </tr>\n",
              "    <tr>\n",
              "      <th>1445</th>\n",
              "      <td>682033</td>\n",
              "      <td>2.019477e+07</td>\n",
              "      <td>1.147412e+03</td>\n",
              "      <td>684.029412</td>\n",
              "    </tr>\n",
              "    <tr>\n",
              "      <th>1446</th>\n",
              "      <td>683734</td>\n",
              "      <td>2.020467e+07</td>\n",
              "      <td>1.610800e+03</td>\n",
              "      <td>1049.700000</td>\n",
              "    </tr>\n",
              "  </tbody>\n",
              "</table>\n",
              "<p>1447 rows × 4 columns</p>\n",
              "</div>"
            ],
            "text/plain": [
              "      playerId          date  numberOfFollowers        index\n",
              "0       115629  2.019261e+07       3.486485e+04   592.700000\n",
              "1       116338  2.019261e+07       2.627433e+05   592.700000\n",
              "2       120074  2.019261e+07       1.559375e+06   592.700000\n",
              "3       121347  2.019261e+07       1.250843e+06   592.700000\n",
              "4       136600  2.019261e+07       3.420270e+04   592.700000\n",
              "...        ...           ...                ...          ...\n",
              "1442    680777  2.019477e+07       8.681471e+02   684.029412\n",
              "1443    680911  2.020430e+07       1.082455e+03  1034.454545\n",
              "1444    681911  2.020371e+07       8.636923e+02  1003.923077\n",
              "1445    682033  2.019477e+07       1.147412e+03   684.029412\n",
              "1446    683734  2.020467e+07       1.610800e+03  1049.700000\n",
              "\n",
              "[1447 rows x 4 columns]"
            ]
          },
          "metadata": {
            "tags": []
          },
          "execution_count": 165
        }
      ]
    },
    {
      "cell_type": "code",
      "metadata": {
        "execution": {
          "iopub.execute_input": "2021-06-25T22:18:55.398266Z",
          "iopub.status.busy": "2021-06-25T22:18:55.397258Z",
          "iopub.status.idle": "2021-06-25T22:18:55.429108Z",
          "shell.execute_reply": "2021-06-25T22:18:55.428347Z",
          "shell.execute_reply.started": "2021-06-25T21:58:36.71955Z"
        },
        "papermill": {
          "duration": 0.065838,
          "end_time": "2021-06-25T22:18:55.429265",
          "exception": false,
          "start_time": "2021-06-25T22:18:55.363427",
          "status": "completed"
        },
        "tags": [],
        "id": "joined-traffic"
      },
      "source": [
        "awards2 = awards.groupby(\"playerId\").count()\n",
        "awards2 = awards2.reset_index()"
      ],
      "id": "joined-traffic",
      "execution_count": 166,
      "outputs": []
    },
    {
      "cell_type": "code",
      "metadata": {
        "id": "dRXO92-ROJ2_"
      },
      "source": [
        "teamtwitter[\"teamnumberOfFollowers\"] = teamtwitter[\"numberOfFollowers\"]\n",
        "teamtwi = teamtwitter.groupby(\"teamId\").mean()[\"teamnumberOfFollowers\"].reset_index()"
      ],
      "id": "dRXO92-ROJ2_",
      "execution_count": 167,
      "outputs": []
    },
    {
      "cell_type": "code",
      "metadata": {
        "colab": {
          "base_uri": "https://localhost:8080/",
          "height": 419
        },
        "id": "M8Mvi9up7ypT",
        "outputId": "0e0ac61d-5297-40d5-f1bc-248212e99a01"
      },
      "source": [
        "players"
      ],
      "id": "M8Mvi9up7ypT",
      "execution_count": 168,
      "outputs": [
        {
          "output_type": "execute_result",
          "data": {
            "text/html": [
              "<div>\n",
              "<style scoped>\n",
              "    .dataframe tbody tr th:only-of-type {\n",
              "        vertical-align: middle;\n",
              "    }\n",
              "\n",
              "    .dataframe tbody tr th {\n",
              "        vertical-align: top;\n",
              "    }\n",
              "\n",
              "    .dataframe thead th {\n",
              "        text-align: right;\n",
              "    }\n",
              "</style>\n",
              "<table border=\"1\" class=\"dataframe\">\n",
              "  <thead>\n",
              "    <tr style=\"text-align: right;\">\n",
              "      <th></th>\n",
              "      <th>playerId</th>\n",
              "      <th>playerName</th>\n",
              "      <th>DOB</th>\n",
              "      <th>mlbDebutDate</th>\n",
              "      <th>birthCity</th>\n",
              "      <th>birthStateProvince</th>\n",
              "      <th>birthCountry</th>\n",
              "      <th>heightInches</th>\n",
              "      <th>weight</th>\n",
              "      <th>primaryPositionCode</th>\n",
              "      <th>primaryPositionName</th>\n",
              "      <th>playerForTestSetAndFuturePreds</th>\n",
              "    </tr>\n",
              "  </thead>\n",
              "  <tbody>\n",
              "    <tr>\n",
              "      <th>0</th>\n",
              "      <td>665482</td>\n",
              "      <td>Gilberto Celestino</td>\n",
              "      <td>1999-02-13</td>\n",
              "      <td>2021-06-02</td>\n",
              "      <td>Santo Domingo</td>\n",
              "      <td>NaN</td>\n",
              "      <td>Dominican Republic</td>\n",
              "      <td>72</td>\n",
              "      <td>170</td>\n",
              "      <td>8</td>\n",
              "      <td>Outfielder</td>\n",
              "      <td>False</td>\n",
              "    </tr>\n",
              "    <tr>\n",
              "      <th>1</th>\n",
              "      <td>593590</td>\n",
              "      <td>Webster Rivas</td>\n",
              "      <td>1990-08-08</td>\n",
              "      <td>2021-05-28</td>\n",
              "      <td>Nagua</td>\n",
              "      <td>NaN</td>\n",
              "      <td>Dominican Republic</td>\n",
              "      <td>73</td>\n",
              "      <td>219</td>\n",
              "      <td>3</td>\n",
              "      <td>First Base</td>\n",
              "      <td>True</td>\n",
              "    </tr>\n",
              "    <tr>\n",
              "      <th>2</th>\n",
              "      <td>661269</td>\n",
              "      <td>Vladimir Gutierrez</td>\n",
              "      <td>1995-09-18</td>\n",
              "      <td>2021-05-28</td>\n",
              "      <td>Havana</td>\n",
              "      <td>NaN</td>\n",
              "      <td>Cuba</td>\n",
              "      <td>73</td>\n",
              "      <td>190</td>\n",
              "      <td>1</td>\n",
              "      <td>Pitcher</td>\n",
              "      <td>True</td>\n",
              "    </tr>\n",
              "    <tr>\n",
              "      <th>3</th>\n",
              "      <td>669212</td>\n",
              "      <td>Eli Morgan</td>\n",
              "      <td>1996-05-13</td>\n",
              "      <td>2021-05-28</td>\n",
              "      <td>Rancho Palos Verdes</td>\n",
              "      <td>CA</td>\n",
              "      <td>USA</td>\n",
              "      <td>70</td>\n",
              "      <td>190</td>\n",
              "      <td>1</td>\n",
              "      <td>Pitcher</td>\n",
              "      <td>True</td>\n",
              "    </tr>\n",
              "    <tr>\n",
              "      <th>4</th>\n",
              "      <td>666201</td>\n",
              "      <td>Alek Manoah</td>\n",
              "      <td>1998-01-09</td>\n",
              "      <td>2021-05-27</td>\n",
              "      <td>Homestead</td>\n",
              "      <td>FL</td>\n",
              "      <td>USA</td>\n",
              "      <td>78</td>\n",
              "      <td>260</td>\n",
              "      <td>1</td>\n",
              "      <td>Pitcher</td>\n",
              "      <td>True</td>\n",
              "    </tr>\n",
              "    <tr>\n",
              "      <th>...</th>\n",
              "      <td>...</td>\n",
              "      <td>...</td>\n",
              "      <td>...</td>\n",
              "      <td>...</td>\n",
              "      <td>...</td>\n",
              "      <td>...</td>\n",
              "      <td>...</td>\n",
              "      <td>...</td>\n",
              "      <td>...</td>\n",
              "      <td>...</td>\n",
              "      <td>...</td>\n",
              "      <td>...</td>\n",
              "    </tr>\n",
              "    <tr>\n",
              "      <th>2056</th>\n",
              "      <td>672695</td>\n",
              "      <td>Geraldo Perdomo</td>\n",
              "      <td>1999-10-22</td>\n",
              "      <td>NaN</td>\n",
              "      <td>Santo Domingo</td>\n",
              "      <td>NaN</td>\n",
              "      <td>Dominican Republic</td>\n",
              "      <td>74</td>\n",
              "      <td>203</td>\n",
              "      <td>6</td>\n",
              "      <td>Shortstop</td>\n",
              "      <td>True</td>\n",
              "    </tr>\n",
              "    <tr>\n",
              "      <th>2057</th>\n",
              "      <td>672911</td>\n",
              "      <td>Jesus Cruz</td>\n",
              "      <td>1995-04-15</td>\n",
              "      <td>NaN</td>\n",
              "      <td>Salinas de Hidalgo</td>\n",
              "      <td>San Luis Potosi</td>\n",
              "      <td>Mexico</td>\n",
              "      <td>73</td>\n",
              "      <td>230</td>\n",
              "      <td>1</td>\n",
              "      <td>Pitcher</td>\n",
              "      <td>False</td>\n",
              "    </tr>\n",
              "    <tr>\n",
              "      <th>2058</th>\n",
              "      <td>676103</td>\n",
              "      <td>Damon Jones</td>\n",
              "      <td>1994-09-30</td>\n",
              "      <td>NaN</td>\n",
              "      <td>Twin Falls</td>\n",
              "      <td>ID</td>\n",
              "      <td>USA</td>\n",
              "      <td>77</td>\n",
              "      <td>233</td>\n",
              "      <td>1</td>\n",
              "      <td>Pitcher</td>\n",
              "      <td>True</td>\n",
              "    </tr>\n",
              "    <tr>\n",
              "      <th>2059</th>\n",
              "      <td>676755</td>\n",
              "      <td>Isaac Mattson</td>\n",
              "      <td>1995-07-14</td>\n",
              "      <td>NaN</td>\n",
              "      <td>Erie</td>\n",
              "      <td>PA</td>\n",
              "      <td>USA</td>\n",
              "      <td>74</td>\n",
              "      <td>205</td>\n",
              "      <td>1</td>\n",
              "      <td>Pitcher</td>\n",
              "      <td>True</td>\n",
              "    </tr>\n",
              "    <tr>\n",
              "      <th>2060</th>\n",
              "      <td>680430</td>\n",
              "      <td>Nick Allgeyer</td>\n",
              "      <td>1996-02-03</td>\n",
              "      <td>NaN</td>\n",
              "      <td>St. Louis</td>\n",
              "      <td>MO</td>\n",
              "      <td>USA</td>\n",
              "      <td>75</td>\n",
              "      <td>210</td>\n",
              "      <td>1</td>\n",
              "      <td>Pitcher</td>\n",
              "      <td>True</td>\n",
              "    </tr>\n",
              "  </tbody>\n",
              "</table>\n",
              "<p>2061 rows × 12 columns</p>\n",
              "</div>"
            ],
            "text/plain": [
              "      playerId  ... playerForTestSetAndFuturePreds\n",
              "0       665482  ...                          False\n",
              "1       593590  ...                           True\n",
              "2       661269  ...                           True\n",
              "3       669212  ...                           True\n",
              "4       666201  ...                           True\n",
              "...        ...  ...                            ...\n",
              "2056    672695  ...                           True\n",
              "2057    672911  ...                          False\n",
              "2058    676103  ...                           True\n",
              "2059    676755  ...                           True\n",
              "2060    680430  ...                           True\n",
              "\n",
              "[2061 rows x 12 columns]"
            ]
          },
          "metadata": {
            "tags": []
          },
          "execution_count": 168
        }
      ]
    },
    {
      "cell_type": "code",
      "metadata": {
        "execution": {
          "iopub.execute_input": "2021-06-25T22:18:55.485487Z",
          "iopub.status.busy": "2021-06-25T22:18:55.484858Z",
          "iopub.status.idle": "2021-06-25T22:18:55.559589Z",
          "shell.execute_reply": "2021-06-25T22:18:55.560093Z",
          "shell.execute_reply.started": "2021-06-25T21:58:36.751087Z"
        },
        "papermill": {
          "duration": 0.105303,
          "end_time": "2021-06-25T22:18:55.560260",
          "exception": false,
          "start_time": "2021-06-25T22:18:55.454957",
          "status": "completed"
        },
        "tags": [],
        "id": "saved-assignment"
      },
      "source": [
        "games = pd.read_pickle(TRAIN_DIR / 'games_train.pkl')\n",
        "#games.index[games[\"detailedGameState\"] == \"Postponed\"].shape\n",
        "#games.drop(games.loc[games['detailedGameState']=='Postponed'].index, inplace=True)\n",
        "#games[\"detailedGameState\"].unique()\n",
        "#games[games.duplicated(subset=[\"gamePk\"], keep=False)]\n",
        "#games['detailedGameState']=='Postponed']だとスコアはキロクされていない"
      ],
      "id": "saved-assignment",
      "execution_count": 169,
      "outputs": []
    },
    {
      "cell_type": "code",
      "metadata": {
        "id": "s5mtlhAlBjJw",
        "colab": {
          "base_uri": "https://localhost:8080/"
        },
        "outputId": "f01125f6-0c88-4de4-e917-0045771bc405"
      },
      "source": [
        "targets[\"engagementMetricsDate\"] = targets[\"engagementMetricsDate\"].str.replace('-', '')\n",
        "yesterday_targets = targets.drop('date', axis=1)\n",
        "yesterday_targets = yesterday_targets.rename(columns={'engagementMetricsDate':'date', 'target1': 'yest_target1','target2': 'yest_target2','target3': 'yest_target3','target4': 'yest_target4'})\n",
        "yesterday_targets[\"date\"] = yesterday_targets[\"date\"].astype(int)\n",
        "yesterday_targets[\"date\"]"
      ],
      "id": "s5mtlhAlBjJw",
      "execution_count": 170,
      "outputs": [
        {
          "output_type": "execute_result",
          "data": {
            "text/plain": [
              "0          20180102\n",
              "1          20180102\n",
              "2          20180102\n",
              "3          20180102\n",
              "4          20180102\n",
              "             ...   \n",
              "2506171    20210501\n",
              "2506172    20210501\n",
              "2506173    20210501\n",
              "2506174    20210501\n",
              "2506175    20210501\n",
              "Name: date, Length: 2506176, dtype: int64"
            ]
          },
          "metadata": {
            "tags": []
          },
          "execution_count": 170
        }
      ]
    },
    {
      "cell_type": "code",
      "metadata": {
        "colab": {
          "base_uri": "https://localhost:8080/"
        },
        "id": "oSBa69W9UBGk",
        "outputId": "bcd6f40f-4243-47eb-cf0c-2c205a2c5d5a"
      },
      "source": [
        "targets_cols = ['playerId', 'target1', 'target2', 'target3', 'target4', 'date']\n",
        "players_cols = ['playerId', 'primaryPositionName',\"playerName\"]\n",
        "rosters_cols = ['playerId', 'teamId', 'status', 'date']\n",
        "yesterday_targets_cols = [\"date\",\"playerId\",\"yest_target1\",\"yest_target2\",\"yest_target3\",\"yest_target4\"]\n",
        "scores_cols = ['playerId', 'battingOrder', 'gamesPlayedBatting', 'flyOuts',\n",
        "       'groundOuts', 'runsScored', 'doubles', 'triples', 'homeRuns',\n",
        "       'strikeOuts', 'baseOnBalls', 'intentionalWalks', 'hits', 'hitByPitch',\n",
        "       'atBats', 'caughtStealing', 'stolenBases', 'groundIntoDoublePlay',\n",
        "       'groundIntoTriplePlay', 'plateAppearances', 'totalBases', 'rbi',\n",
        "       'leftOnBase', 'sacBunts', 'sacFlies', 'catchersInterference',\n",
        "       'pickoffs', 'gamesPlayedPitching', 'gamesStartedPitching',\n",
        "       'completeGamesPitching', 'shutoutsPitching', 'winsPitching',\n",
        "       'lossesPitching', 'flyOutsPitching', 'airOutsPitching',\n",
        "       'groundOutsPitching', 'runsPitching', 'doublesPitching',\n",
        "       'triplesPitching', 'homeRunsPitching', 'strikeOutsPitching',\n",
        "       'baseOnBallsPitching', 'intentionalWalksPitching', 'hitsPitching',\n",
        "       'hitByPitchPitching', 'atBatsPitching', 'caughtStealingPitching',\n",
        "       'stolenBasesPitching', 'inningsPitched', 'saveOpportunities',\n",
        "       'earnedRuns', 'battersFaced', 'outsPitching', 'pitchesThrown', 'balls',\n",
        "       'strikes', 'hitBatsmen', 'balks', 'wildPitches', 'pickoffsPitching',\n",
        "       'rbiPitching', 'gamesFinishedPitching', 'inheritedRunners',\n",
        "       'inheritedRunnersScored', 'catchersInterferencePitching',\n",
        "       'sacBuntsPitching', 'sacFliesPitching', 'saves', 'holds', 'blownSaves',\n",
        "       'assists', 'putOuts', 'errors', 'chances', 'date',\"gamePk\"]\n",
        "games_cols = [\"gamePk\",\"homeId\",\"dayNight\",\"seriesDescription\",\"gamesInSeries\",\"homeWinner\",\"awayWinner\",\"homeScore\",\"awayScore\",\"gameType\",\n",
        "              \"gameDate\"]\n",
        "playertwitter_cols = [\"playerId\",\"numberOfFollowers\"]\n",
        "awards_cols = [\"playerId\",\"awardName\"]\n",
        "standings_cols = [\"date\",\"teamId\",\"divisionRank\",\"divisionLeader\",\"wildCardLeader\",\"leagueRank\",\"divisionId\",\"gameDate\"]\n",
        "teamtwitter_cols = [\"teamId\",\"teamnumberOfFollowers\"]\n",
        "targets[\"engagementMetricsDate\"] = targets[\"engagementMetricsDate\"].str.replace('-', '')\n",
        "yesterday_targets = targets.drop('date', axis=1)\n",
        "yesterday_targets = yesterday_targets.rename(columns={'engagementMetricsDate':'date', 'target1': 'yest_target1','target2': 'yest_target2','target3': 'yest_target3','target4': 'yest_target4'})\n",
        "yesterday_targets[\"date\"] = yesterday_targets[\"date\"].astype(int)\n",
        "yesterday_targets[\"date\"]"
      ],
      "id": "oSBa69W9UBGk",
      "execution_count": 171,
      "outputs": [
        {
          "output_type": "execute_result",
          "data": {
            "text/plain": [
              "0          20180102\n",
              "1          20180102\n",
              "2          20180102\n",
              "3          20180102\n",
              "4          20180102\n",
              "             ...   \n",
              "2506171    20210501\n",
              "2506172    20210501\n",
              "2506173    20210501\n",
              "2506174    20210501\n",
              "2506175    20210501\n",
              "Name: date, Length: 2506176, dtype: int64"
            ]
          },
          "metadata": {
            "tags": []
          },
          "execution_count": 171
        }
      ]
    },
    {
      "cell_type": "code",
      "metadata": {
        "id": "ZBRcuG-4ty69"
      },
      "source": [
        "feature_cols = ['label_playerId', 'label_primaryPositionName', 'label_teamId',\n",
        "       'label_status', 'battingOrder', 'gamesPlayedBatting', 'flyOuts',\n",
        "       'groundOuts', 'runsScored','homeRuns',\n",
        "       'strikeOuts', 'baseOnBalls',  'hits', 'hitByPitch',\n",
        "       'atBats', 'stolenBases', \n",
        "       'plateAppearances', 'totalBases', 'rbi',\n",
        "       'leftOnBase', 'sacFlies',\n",
        "       'gamesPlayedPitching', 'gamesStartedPitching',\n",
        "       'completeGamesPitching','winsPitching',\n",
        "       'lossesPitching', 'flyOutsPitching', 'airOutsPitching',\n",
        "       'groundOutsPitching', 'runsPitching', 'doublesPitching',\n",
        "       'triplesPitching', 'homeRunsPitching', 'strikeOutsPitching',\n",
        "       'baseOnBallsPitching',  'hitsPitching',\n",
        "       'hitByPitchPitching', 'atBatsPitching', 'caughtStealingPitching',\n",
        "       'stolenBasesPitching', 'inningsPitched', 'saveOpportunities',\n",
        "       'earnedRuns', 'battersFaced', 'outsPitching', 'pitchesThrown', 'balls',\n",
        "       'strikes', 'hitBatsmen', 'balks', 'wildPitches', 'pickoffsPitching',\n",
        "       'rbiPitching', 'gamesFinishedPitching', 'inheritedRunners',\n",
        "       'inheritedRunnersScored',\n",
        "       'sacFliesPitching', 'saves', 'holds',\n",
        "       'assists', 'putOuts', 'errors', 'chances','target1_mean',\n",
        " 'target1_median',\n",
        " 'target1_std',\n",
        " 'target1_min',\n",
        " 'target1_max',\n",
        " 'target1_prob',\n",
        " 'target2_mean',\n",
        " 'target2_median',\n",
        " 'target2_std',\n",
        " 'target2_min',\n",
        " 'target2_max',\n",
        " 'target2_prob',\n",
        " 'target3_mean',\n",
        " 'target3_median',\n",
        " 'target3_std',\n",
        " 'target3_min',\n",
        " 'target3_max',\n",
        " 'target3_prob',\n",
        " 'target4_mean',\n",
        " 'target4_median',\n",
        " 'target4_std',\n",
        " 'target4_min',\n",
        " 'target4_max',\n",
        " 'target4_prob',\"divisionId\",\"teamnumberOfFollowers\",\"preseasonhits\"]\n",
        "feature_cols2 = ['label_playerId', 'label_primaryPositionName', 'label_teamId',\n",
        "       'label_status', 'battingOrder', 'gamesPlayedBatting', 'flyOuts',\n",
        "       'groundOuts', 'runsScored',# 'doubles', 'triples', 'homeRuns',\n",
        "       'baseOnBalls', 'hits',\n",
        "      # 'atBats', 'caughtStealing', 'stolenBases', 'groundIntoDoublePlay',\n",
        "       'plateAppearances', 'totalBases', 'rbi',\n",
        "      # 'leftOnBase', 'sacBunts', 'sacFlies', 'catchersInterference',\n",
        "       'pickoffs', 'gamesPlayedPitching', 'gamesStartedPitching',\n",
        "       'winsPitching',\n",
        "       'lossesPitching',# 'flyOutsPitching', 'airOutsPitching',\n",
        "       'runsPitching', \n",
        "       'strikeOutsPitching',\n",
        "       #'hitsPitching',\n",
        "       'hitByPitchPitching',  'caughtStealingPitching',\n",
        "       'stolenBasesPitching', 'inningsPitched',\n",
        "        'battersFaced', \n",
        "        'balks', 'pickoffsPitching',\n",
        "        'inheritedRunners',\n",
        "        \n",
        "       #'sacBuntsPitching', 'sacFliesPitching', 'saves', 'holds', 'blownSaves',\n",
        "       'putOuts','chances','target1_mean',\n",
        " 'target1_median',\n",
        " 'target1_std',\n",
        " 'target1_min',\n",
        " 'target1_max',\n",
        " 'target1_prob',\n",
        " 'target2_mean',\n",
        " 'target2_median',\n",
        " 'target2_std',\n",
        " 'target2_min',\n",
        " 'target2_max',\n",
        " 'target2_prob',\n",
        " 'target3_mean',\n",
        " 'target3_median',\n",
        " 'target3_std',\n",
        " 'target3_min',\n",
        " 'target3_max',\n",
        " 'target3_prob',\n",
        " 'target4_mean',\n",
        " 'target4_median',\n",
        " 'target4_std',\n",
        " 'target4_min',\n",
        " 'target4_max',\n",
        " 'target4_prob',\n",
        "    'target1',\"divisionId\",\"teamnumberOfFollowers\",\"preseasonhits\"]\n",
        "feature_cols3 = ['label_playerId', 'label_primaryPositionName', 'label_teamId',\n",
        "       'label_status', #'gamesPlayedBatting', 'flyOuts',\n",
        "        'homeRuns',\n",
        "      # 'strikeOuts', 'baseOnBalls', 'intentionalWalks', 'hits', 'hitByPitch',\n",
        "     # 'atBats', 'caughtStealing', 'stolenBases', 'groundIntoDoublePlay',\n",
        "        'totalBases', 'rbi',\n",
        "      # 'leftOnBase', 'sacBunts', 'sacFlies', 'catchersInterference',\n",
        "        'gamesStartedPitching',\n",
        "      # 'completeGamesPitching', 'shutoutsPitching', 'winsPitching',\n",
        "       'lossesPitching', \n",
        "      # 'groundOutsPitching', 'runsPitching', 'doublesPitching',\n",
        "      # 'triplesPitching', 'homeRunsPitching', 'strikeOutsPitching',\n",
        "       #'baseOnBallsPitching', 'intentionalWalksPitching', 'hitsPitching',\n",
        "       #'hitByPitchPitching', 'atBatsPitching', 'caughtStealingPitching',\n",
        "       'inningsPitched', \n",
        "        'battersFaced', 'pitchesThrown', \n",
        "      # 'strikes', 'hitBatsmen', 'balks', 'wildPitches', 'pickoffsPitching',\n",
        "      # 'rbiPitching', 'gamesFinishedPitching', 'inheritedRunners',\n",
        "       #'inheritedRunnersScored', 'catchersInterferencePitching',\n",
        "       #'sacBuntsPitching', 'sacFliesPitching', 'saves', 'holds', 'blownSaves',\n",
        "      # 'assists', 'putOuts', 'errors', 'chances',\n",
        "      'target1_mean',\n",
        " 'target1_median',\n",
        " 'target1_std',\n",
        " 'target1_min',\n",
        " 'target1_max',\n",
        " 'target1_prob',\n",
        " 'target2_mean',\n",
        " 'target2_median',\n",
        " 'target2_std',\n",
        " 'target2_min',\n",
        " 'target2_max',\n",
        " 'target2_prob',\n",
        " 'target3_mean',\n",
        " 'target3_median',\n",
        " 'target3_std',\n",
        " 'target3_min',\n",
        " 'target3_max',\n",
        " 'target3_prob',\n",
        " 'target4_mean',\n",
        " 'target4_median',\n",
        " 'target4_std',\n",
        " 'target4_min',\n",
        " 'target4_max',\n",
        " 'target4_prob',\n",
        "    \"divisionId\",\"teamnumberOfFollowers\",\"target2\",\"preseasonhits\"]\n",
        "feature_cols4 = ['label_playerId', 'label_primaryPositionName', 'label_teamId',\n",
        "       'label_status', 'battingOrder', 'gamesPlayedBatting', 'flyOuts',\n",
        "        'runsScored','triples','groundIntoDoublePlay',\n",
        "       'strikeOuts', 'baseOnBalls','hits', \n",
        "       'atBats', 'caughtStealing',\n",
        "       'plateAppearances', 'totalBases', 'rbi',\n",
        "       'leftOnBase', 'sacBunts', 'sacFlies',\n",
        "        'gamesPlayedPitching',\n",
        "        'winsPitching',\n",
        "       'airOutsPitching',\n",
        "       'runsPitching', 'doublesPitching',\n",
        "       'triplesPitching', 'homeRunsPitching', 'strikeOutsPitching',\n",
        "        'intentionalWalksPitching', 'hitsPitching',\n",
        "       'hitByPitchPitching', 'atBatsPitching', \n",
        "        'inningsPitched', 'saveOpportunities',\n",
        "       'battersFaced', 'outsPitching', 'pitchesThrown', 'balls',\n",
        "       'strikes','wildPitches', \n",
        "       'rbiPitching', 'gamesFinishedPitching', 'inheritedRunners',\n",
        "       'inheritedRunnersScored', \n",
        "       'sacBuntsPitching', 'holds', 'blownSaves',\n",
        "       'assists', 'putOuts', 'errors', 'chances','target1_mean',\n",
        " 'target1_median',\n",
        " 'target1_std',\n",
        " 'target1_min',\n",
        " 'target1_max',\n",
        " 'target1_prob',\n",
        " 'target2_mean',\n",
        " 'target2_median',\n",
        " 'target2_std',\n",
        " 'target2_min',\n",
        " 'target2_max',\n",
        " 'target2_prob',\n",
        " 'target3_mean',\n",
        " 'target3_median',\n",
        " 'target3_std',\n",
        " 'target3_min',\n",
        " 'target3_max',\n",
        " 'target3_prob',\n",
        " 'target4_mean',\n",
        " 'target4_median',\n",
        " 'target4_std',\n",
        " 'target4_min',\n",
        " 'target4_max',\n",
        " 'target4_prob',\n",
        " 'target1', \"divisionId\",\"target2\",\"target3\",\"teamnumberOfFollowers\",\"preseasonhits\"]"
      ],
      "id": "ZBRcuG-4ty69",
      "execution_count": 172,
      "outputs": []
    },
    {
      "cell_type": "code",
      "metadata": {
        "id": "WrdnRRfZtzBL"
      },
      "source": [
        ""
      ],
      "id": "WrdnRRfZtzBL",
      "execution_count": 172,
      "outputs": []
    },
    {
      "cell_type": "code",
      "metadata": {
        "id": "e-haSgyI78O6"
      },
      "source": [
        "twitter[\"strdate\"] = twitter[\"date\"].astype(str)\n",
        "twitter[\"year_months\"] = twitter[\"strdate\"].str[0:6].astype(int)\n"
      ],
      "id": "e-haSgyI78O6",
      "execution_count": 173,
      "outputs": []
    },
    {
      "cell_type": "code",
      "metadata": {
        "id": "HyLf8gpubQJA"
      },
      "source": [
        "targets['hasTwitterAccount'] = targets.playerId.isin(twitter.playerId)"
      ],
      "id": "HyLf8gpubQJA",
      "execution_count": 174,
      "outputs": []
    },
    {
      "cell_type": "code",
      "metadata": {
        "execution": {
          "iopub.execute_input": "2021-06-25T22:18:55.703085Z",
          "iopub.status.busy": "2021-06-25T22:18:55.702455Z",
          "iopub.status.idle": "2021-06-25T22:19:05.117538Z",
          "shell.execute_reply": "2021-06-25T22:19:05.116598Z",
          "shell.execute_reply.started": "2021-06-25T21:58:36.852876Z"
        },
        "papermill": {
          "duration": 9.448263,
          "end_time": "2021-06-25T22:19:05.117741",
          "exception": false,
          "start_time": "2021-06-25T22:18:55.669478",
          "status": "completed"
        },
        "tags": [],
        "id": "unauthorized-stretch"
      },
      "source": [
        "train = targets[targets_cols].merge(players[players_cols], on=['playerId'], how='left')\n",
        "train = train.merge(rosters[rosters_cols], on=['playerId', 'date'], how='left')\n",
        "train = train.merge(scores[scores_cols], on=['playerId', 'date'], how='left')\n",
        "train = train.merge(games[games_cols], on=[\"gamePk\"], how=\"left\")\n",
        "train = train.merge(standings[standings_cols], on=['date',\"teamId\"], how='left')\n",
        "train = train.merge(awards2[awards_cols], on=['playerId'], how='left')\n",
        "train = train.merge(player_target_stats, how='inner', left_on=[\"playerId\"],right_on=[\"playerId\"])\n",
        "train[\"strdate\"] = train[\"date\"].astype(str)\n",
        "train[\"year_months\"] = train[\"strdate\"].str[0:6].astype(int)\n",
        "train = train.merge(twitter[playertwitter_cols], on=['playerId'], how='left')\n",
        "train = train.merge(teamtwi[teamtwitter_cols], on=['teamId'], how='left')\n",
        "\n"
      ],
      "id": "unauthorized-stretch",
      "execution_count": 175,
      "outputs": []
    },
    {
      "cell_type": "code",
      "metadata": {
        "id": "mVHPPnE8GSqG"
      },
      "source": [
        "targets['hasTwitterAccount'] = targets.playerId.isin(twitter.playerId)"
      ],
      "id": "mVHPPnE8GSqG",
      "execution_count": 176,
      "outputs": []
    },
    {
      "cell_type": "code",
      "metadata": {
        "id": "iCSDWeWFAPc9"
      },
      "source": [
        "\n"
      ],
      "id": "iCSDWeWFAPc9",
      "execution_count": 176,
      "outputs": []
    },
    {
      "cell_type": "code",
      "metadata": {
        "id": "4nTLjBWC6hki",
        "colab": {
          "base_uri": "https://localhost:8080/",
          "height": 317
        },
        "outputId": "40203e1b-5a88-48c1-8b74-0980f5bdda5c"
      },
      "source": [
        "train[['target1_mean',\n",
        " 'target1_median',\n",
        " 'target1_std',\n",
        " 'target1_min',\n",
        " 'target1_max',\n",
        " 'target1_prob',\n",
        " 'target2_mean',\n",
        " 'target2_median',\n",
        " 'target2_std',\n",
        " 'target2_min',\n",
        " 'target2_max',\n",
        " 'target2_prob',\n",
        " 'target3_mean',\n",
        " 'target3_median',\n",
        " 'target3_std',\n",
        " 'target3_min',\n",
        " 'target3_max',\n",
        " 'target3_prob',\n",
        " 'target4_mean',\n",
        " 'target4_median',\n",
        " 'target4_std',\n",
        " 'target4_min',\n",
        " 'target4_max',\n",
        " 'target4_prob',\n",
        "    'target1',\"divisionId\",\"target2\",\"target3\"]].describe()"
      ],
      "id": "4nTLjBWC6hki",
      "execution_count": 177,
      "outputs": [
        {
          "output_type": "execute_result",
          "data": {
            "text/html": [
              "<div>\n",
              "<style scoped>\n",
              "    .dataframe tbody tr th:only-of-type {\n",
              "        vertical-align: middle;\n",
              "    }\n",
              "\n",
              "    .dataframe tbody tr th {\n",
              "        vertical-align: top;\n",
              "    }\n",
              "\n",
              "    .dataframe thead th {\n",
              "        text-align: right;\n",
              "    }\n",
              "</style>\n",
              "<table border=\"1\" class=\"dataframe\">\n",
              "  <thead>\n",
              "    <tr style=\"text-align: right;\">\n",
              "      <th></th>\n",
              "      <th>target1_mean</th>\n",
              "      <th>target1_median</th>\n",
              "      <th>target1_std</th>\n",
              "      <th>target1_min</th>\n",
              "      <th>target1_max</th>\n",
              "      <th>target1_prob</th>\n",
              "      <th>target2_mean</th>\n",
              "      <th>target2_median</th>\n",
              "      <th>target2_std</th>\n",
              "      <th>target2_min</th>\n",
              "      <th>target2_max</th>\n",
              "      <th>target2_prob</th>\n",
              "      <th>target3_mean</th>\n",
              "      <th>target3_median</th>\n",
              "      <th>target3_std</th>\n",
              "      <th>target3_min</th>\n",
              "      <th>target3_max</th>\n",
              "      <th>target3_prob</th>\n",
              "      <th>target4_mean</th>\n",
              "      <th>target4_median</th>\n",
              "      <th>target4_std</th>\n",
              "      <th>target4_min</th>\n",
              "      <th>target4_max</th>\n",
              "      <th>target4_prob</th>\n",
              "      <th>target1</th>\n",
              "      <th>divisionId</th>\n",
              "      <th>target2</th>\n",
              "      <th>target3</th>\n",
              "    </tr>\n",
              "  </thead>\n",
              "  <tbody>\n",
              "    <tr>\n",
              "      <th>count</th>\n",
              "      <td>2.508784e+06</td>\n",
              "      <td>2.508784e+06</td>\n",
              "      <td>2.508784e+06</td>\n",
              "      <td>2.508784e+06</td>\n",
              "      <td>2.508784e+06</td>\n",
              "      <td>2.508784e+06</td>\n",
              "      <td>2.508784e+06</td>\n",
              "      <td>2.508784e+06</td>\n",
              "      <td>2.508784e+06</td>\n",
              "      <td>2.508784e+06</td>\n",
              "      <td>2.508784e+06</td>\n",
              "      <td>2.508784e+06</td>\n",
              "      <td>2.508784e+06</td>\n",
              "      <td>2.508784e+06</td>\n",
              "      <td>2.508784e+06</td>\n",
              "      <td>2.508784e+06</td>\n",
              "      <td>2.508784e+06</td>\n",
              "      <td>2.508784e+06</td>\n",
              "      <td>2.508784e+06</td>\n",
              "      <td>2.508784e+06</td>\n",
              "      <td>2.508784e+06</td>\n",
              "      <td>2.508784e+06</td>\n",
              "      <td>2.508784e+06</td>\n",
              "      <td>2.508784e+06</td>\n",
              "      <td>2.508784e+06</td>\n",
              "      <td>664141.000000</td>\n",
              "      <td>2.508784e+06</td>\n",
              "      <td>2.508784e+06</td>\n",
              "    </tr>\n",
              "    <tr>\n",
              "      <th>mean</th>\n",
              "      <td>8.076858e-01</td>\n",
              "      <td>2.086643e-01</td>\n",
              "      <td>1.491682e+00</td>\n",
              "      <td>5.020743e-03</td>\n",
              "      <td>6.708475e+00</td>\n",
              "      <td>1.127729e+00</td>\n",
              "      <td>2.099070e+00</td>\n",
              "      <td>1.240186e+00</td>\n",
              "      <td>2.463639e+00</td>\n",
              "      <td>3.085880e-01</td>\n",
              "      <td>1.121529e+01</td>\n",
              "      <td>2.467225e+00</td>\n",
              "      <td>5.694316e-01</td>\n",
              "      <td>7.745038e-02</td>\n",
              "      <td>1.400443e+00</td>\n",
              "      <td>7.896621e-03</td>\n",
              "      <td>6.701864e+00</td>\n",
              "      <td>3.599559e-01</td>\n",
              "      <td>1.637258e+00</td>\n",
              "      <td>1.148316e+00</td>\n",
              "      <td>1.656985e+00</td>\n",
              "      <td>2.317022e-01</td>\n",
              "      <td>7.629292e+00</td>\n",
              "      <td>1.803057e+00</td>\n",
              "      <td>5.705360e-01</td>\n",
              "      <td>202.500016</td>\n",
              "      <td>2.459199e+00</td>\n",
              "      <td>6.899692e-01</td>\n",
              "    </tr>\n",
              "    <tr>\n",
              "      <th>std</th>\n",
              "      <td>2.345066e+00</td>\n",
              "      <td>1.035032e+00</td>\n",
              "      <td>3.735682e+00</td>\n",
              "      <td>2.681383e-02</td>\n",
              "      <td>1.673603e+01</td>\n",
              "      <td>5.960057e+00</td>\n",
              "      <td>3.812537e+00</td>\n",
              "      <td>2.774199e+00</td>\n",
              "      <td>4.353143e+00</td>\n",
              "      <td>7.452425e-01</td>\n",
              "      <td>1.939111e+01</td>\n",
              "      <td>7.834035e+00</td>\n",
              "      <td>1.812547e+00</td>\n",
              "      <td>5.275353e-01</td>\n",
              "      <td>3.645426e+00</td>\n",
              "      <td>2.884410e-02</td>\n",
              "      <td>1.675997e+01</td>\n",
              "      <td>2.807083e+00</td>\n",
              "      <td>3.375947e+00</td>\n",
              "      <td>2.673816e+00</td>\n",
              "      <td>3.324605e+00</td>\n",
              "      <td>5.438217e-01</td>\n",
              "      <td>1.490432e+01</td>\n",
              "      <td>5.750086e+00</td>\n",
              "      <td>4.179290e+00</td>\n",
              "      <td>1.708287</td>\n",
              "      <td>6.237921e+00</td>\n",
              "      <td>5.073026e+00</td>\n",
              "    </tr>\n",
              "    <tr>\n",
              "      <th>min</th>\n",
              "      <td>0.000000e+00</td>\n",
              "      <td>0.000000e+00</td>\n",
              "      <td>0.000000e+00</td>\n",
              "      <td>0.000000e+00</td>\n",
              "      <td>0.000000e+00</td>\n",
              "      <td>0.000000e+00</td>\n",
              "      <td>2.006257e-03</td>\n",
              "      <td>0.000000e+00</td>\n",
              "      <td>2.742816e-03</td>\n",
              "      <td>0.000000e+00</td>\n",
              "      <td>8.734387e-03</td>\n",
              "      <td>0.000000e+00</td>\n",
              "      <td>0.000000e+00</td>\n",
              "      <td>0.000000e+00</td>\n",
              "      <td>0.000000e+00</td>\n",
              "      <td>0.000000e+00</td>\n",
              "      <td>0.000000e+00</td>\n",
              "      <td>0.000000e+00</td>\n",
              "      <td>0.000000e+00</td>\n",
              "      <td>0.000000e+00</td>\n",
              "      <td>0.000000e+00</td>\n",
              "      <td>0.000000e+00</td>\n",
              "      <td>0.000000e+00</td>\n",
              "      <td>0.000000e+00</td>\n",
              "      <td>0.000000e+00</td>\n",
              "      <td>200.000000</td>\n",
              "      <td>0.000000e+00</td>\n",
              "      <td>0.000000e+00</td>\n",
              "    </tr>\n",
              "    <tr>\n",
              "      <th>25%</th>\n",
              "      <td>1.469648e-04</td>\n",
              "      <td>0.000000e+00</td>\n",
              "      <td>2.039305e-04</td>\n",
              "      <td>0.000000e+00</td>\n",
              "      <td>8.597541e-04</td>\n",
              "      <td>0.000000e+00</td>\n",
              "      <td>4.304230e-02</td>\n",
              "      <td>3.550086e-02</td>\n",
              "      <td>3.021539e-02</td>\n",
              "      <td>7.722604e-03</td>\n",
              "      <td>1.509848e-01</td>\n",
              "      <td>3.744477e-02</td>\n",
              "      <td>5.350206e-04</td>\n",
              "      <td>0.000000e+00</td>\n",
              "      <td>8.661010e-04</td>\n",
              "      <td>0.000000e+00</td>\n",
              "      <td>3.466685e-03</td>\n",
              "      <td>0.000000e+00</td>\n",
              "      <td>1.682062e-01</td>\n",
              "      <td>1.245330e-01</td>\n",
              "      <td>1.259744e-01</td>\n",
              "      <td>2.410859e-02</td>\n",
              "      <td>5.491057e-01</td>\n",
              "      <td>9.594096e-02</td>\n",
              "      <td>0.000000e+00</td>\n",
              "      <td>201.000000</td>\n",
              "      <td>7.727312e-02</td>\n",
              "      <td>0.000000e+00</td>\n",
              "    </tr>\n",
              "    <tr>\n",
              "      <th>50%</th>\n",
              "      <td>2.298143e-03</td>\n",
              "      <td>7.948978e-04</td>\n",
              "      <td>2.027149e-03</td>\n",
              "      <td>0.000000e+00</td>\n",
              "      <td>1.107237e-02</td>\n",
              "      <td>8.083251e-04</td>\n",
              "      <td>3.892553e-01</td>\n",
              "      <td>1.959924e-01</td>\n",
              "      <td>3.804404e-01</td>\n",
              "      <td>6.435571e-02</td>\n",
              "      <td>2.036706e+00</td>\n",
              "      <td>1.908192e-01</td>\n",
              "      <td>6.800752e-03</td>\n",
              "      <td>3.120125e-03</td>\n",
              "      <td>6.719478e-03</td>\n",
              "      <td>0.000000e+00</td>\n",
              "      <td>3.280409e-02</td>\n",
              "      <td>3.005112e-03</td>\n",
              "      <td>5.513352e-01</td>\n",
              "      <td>3.548320e-01</td>\n",
              "      <td>5.017860e-01</td>\n",
              "      <td>6.982174e-02</td>\n",
              "      <td>2.263134e+00</td>\n",
              "      <td>3.502988e-01</td>\n",
              "      <td>1.070771e-03</td>\n",
              "      <td>203.000000</td>\n",
              "      <td>5.575155e-01</td>\n",
              "      <td>1.698937e-03</td>\n",
              "    </tr>\n",
              "    <tr>\n",
              "      <th>75%</th>\n",
              "      <td>3.930881e-01</td>\n",
              "      <td>1.362733e-02</td>\n",
              "      <td>9.672931e-01</td>\n",
              "      <td>1.668067e-03</td>\n",
              "      <td>4.532737e+00</td>\n",
              "      <td>1.688280e-02</td>\n",
              "      <td>2.718152e+00</td>\n",
              "      <td>1.341537e+00</td>\n",
              "      <td>2.816320e+00</td>\n",
              "      <td>3.178461e-01</td>\n",
              "      <td>1.301789e+01</td>\n",
              "      <td>1.808318e+00</td>\n",
              "      <td>3.037478e-01</td>\n",
              "      <td>2.156877e-02</td>\n",
              "      <td>9.168443e-01</td>\n",
              "      <td>3.192542e-03</td>\n",
              "      <td>4.347933e+00</td>\n",
              "      <td>2.131486e-02</td>\n",
              "      <td>1.662670e+00</td>\n",
              "      <td>1.049403e+00</td>\n",
              "      <td>1.692484e+00</td>\n",
              "      <td>2.072833e-01</td>\n",
              "      <td>7.636422e+00</td>\n",
              "      <td>1.215743e+00</td>\n",
              "      <td>1.833517e-02</td>\n",
              "      <td>204.000000</td>\n",
              "      <td>2.239762e+00</td>\n",
              "      <td>2.089282e-02</td>\n",
              "    </tr>\n",
              "    <tr>\n",
              "      <th>max</th>\n",
              "      <td>2.861945e+01</td>\n",
              "      <td>2.251564e+01</td>\n",
              "      <td>3.398812e+01</td>\n",
              "      <td>7.040277e-01</td>\n",
              "      <td>1.000000e+02</td>\n",
              "      <td>1.000000e+02</td>\n",
              "      <td>4.969193e+01</td>\n",
              "      <td>4.431772e+01</td>\n",
              "      <td>3.288215e+01</td>\n",
              "      <td>1.550033e+01</td>\n",
              "      <td>1.000000e+02</td>\n",
              "      <td>1.000000e+02</td>\n",
              "      <td>3.218307e+01</td>\n",
              "      <td>1.590317e+01</td>\n",
              "      <td>3.533198e+01</td>\n",
              "      <td>6.190328e-01</td>\n",
              "      <td>1.000000e+02</td>\n",
              "      <td>6.304345e+01</td>\n",
              "      <td>3.933404e+01</td>\n",
              "      <td>3.842898e+01</td>\n",
              "      <td>3.410180e+01</td>\n",
              "      <td>8.647749e+00</td>\n",
              "      <td>1.000000e+02</td>\n",
              "      <td>1.000000e+02</td>\n",
              "      <td>1.000000e+02</td>\n",
              "      <td>205.000000</td>\n",
              "      <td>1.000000e+02</td>\n",
              "      <td>1.000000e+02</td>\n",
              "    </tr>\n",
              "  </tbody>\n",
              "</table>\n",
              "</div>"
            ],
            "text/plain": [
              "       target1_mean  target1_median  ...       target2       target3\n",
              "count  2.508784e+06    2.508784e+06  ...  2.508784e+06  2.508784e+06\n",
              "mean   8.076858e-01    2.086643e-01  ...  2.459199e+00  6.899692e-01\n",
              "std    2.345066e+00    1.035032e+00  ...  6.237921e+00  5.073026e+00\n",
              "min    0.000000e+00    0.000000e+00  ...  0.000000e+00  0.000000e+00\n",
              "25%    1.469648e-04    0.000000e+00  ...  7.727312e-02  0.000000e+00\n",
              "50%    2.298143e-03    7.948978e-04  ...  5.575155e-01  1.698937e-03\n",
              "75%    3.930881e-01    1.362733e-02  ...  2.239762e+00  2.089282e-02\n",
              "max    2.861945e+01    2.251564e+01  ...  1.000000e+02  1.000000e+02\n",
              "\n",
              "[8 rows x 28 columns]"
            ]
          },
          "metadata": {
            "tags": []
          },
          "execution_count": 177
        }
      ]
    },
    {
      "cell_type": "code",
      "metadata": {
        "id": "70LUMHqddn6f",
        "colab": {
          "base_uri": "https://localhost:8080/",
          "height": 609
        },
        "outputId": "e82e0f6e-3c8a-4c7b-d2f8-fe07e2eb4ee0"
      },
      "source": [
        "train[[\"target1\",\"target2\",\"target3\",\"target4\"]].describe()\n",
        "train[train[\"target1\"]==train[\"target1\"].max()]\n",
        "train[train[\"playerId\"]==519317]"
      ],
      "id": "70LUMHqddn6f",
      "execution_count": 178,
      "outputs": [
        {
          "output_type": "execute_result",
          "data": {
            "text/html": [
              "<div>\n",
              "<style scoped>\n",
              "    .dataframe tbody tr th:only-of-type {\n",
              "        vertical-align: middle;\n",
              "    }\n",
              "\n",
              "    .dataframe tbody tr th {\n",
              "        vertical-align: top;\n",
              "    }\n",
              "\n",
              "    .dataframe thead th {\n",
              "        text-align: right;\n",
              "    }\n",
              "</style>\n",
              "<table border=\"1\" class=\"dataframe\">\n",
              "  <thead>\n",
              "    <tr style=\"text-align: right;\">\n",
              "      <th></th>\n",
              "      <th>playerId</th>\n",
              "      <th>target1</th>\n",
              "      <th>target2</th>\n",
              "      <th>target3</th>\n",
              "      <th>target4</th>\n",
              "      <th>date</th>\n",
              "      <th>primaryPositionName</th>\n",
              "      <th>playerName</th>\n",
              "      <th>teamId</th>\n",
              "      <th>status</th>\n",
              "      <th>battingOrder</th>\n",
              "      <th>gamesPlayedBatting</th>\n",
              "      <th>flyOuts</th>\n",
              "      <th>groundOuts</th>\n",
              "      <th>runsScored</th>\n",
              "      <th>doubles</th>\n",
              "      <th>triples</th>\n",
              "      <th>homeRuns</th>\n",
              "      <th>strikeOuts</th>\n",
              "      <th>baseOnBalls</th>\n",
              "      <th>intentionalWalks</th>\n",
              "      <th>hits</th>\n",
              "      <th>hitByPitch</th>\n",
              "      <th>atBats</th>\n",
              "      <th>caughtStealing</th>\n",
              "      <th>stolenBases</th>\n",
              "      <th>groundIntoDoublePlay</th>\n",
              "      <th>groundIntoTriplePlay</th>\n",
              "      <th>plateAppearances</th>\n",
              "      <th>totalBases</th>\n",
              "      <th>rbi</th>\n",
              "      <th>leftOnBase</th>\n",
              "      <th>sacBunts</th>\n",
              "      <th>sacFlies</th>\n",
              "      <th>catchersInterference</th>\n",
              "      <th>pickoffs</th>\n",
              "      <th>gamesPlayedPitching</th>\n",
              "      <th>gamesStartedPitching</th>\n",
              "      <th>completeGamesPitching</th>\n",
              "      <th>shutoutsPitching</th>\n",
              "      <th>...</th>\n",
              "      <th>awayWinner</th>\n",
              "      <th>homeScore</th>\n",
              "      <th>awayScore</th>\n",
              "      <th>gameType</th>\n",
              "      <th>gameDate_x</th>\n",
              "      <th>divisionRank</th>\n",
              "      <th>divisionLeader</th>\n",
              "      <th>wildCardLeader</th>\n",
              "      <th>leagueRank</th>\n",
              "      <th>divisionId</th>\n",
              "      <th>gameDate_y</th>\n",
              "      <th>awardName</th>\n",
              "      <th>target1_mean</th>\n",
              "      <th>target1_median</th>\n",
              "      <th>target1_std</th>\n",
              "      <th>target1_min</th>\n",
              "      <th>target1_max</th>\n",
              "      <th>target1_prob</th>\n",
              "      <th>target2_mean</th>\n",
              "      <th>target2_median</th>\n",
              "      <th>target2_std</th>\n",
              "      <th>target2_min</th>\n",
              "      <th>target2_max</th>\n",
              "      <th>target2_prob</th>\n",
              "      <th>target3_mean</th>\n",
              "      <th>target3_median</th>\n",
              "      <th>target3_std</th>\n",
              "      <th>target3_min</th>\n",
              "      <th>target3_max</th>\n",
              "      <th>target3_prob</th>\n",
              "      <th>target4_mean</th>\n",
              "      <th>target4_median</th>\n",
              "      <th>target4_std</th>\n",
              "      <th>target4_min</th>\n",
              "      <th>target4_max</th>\n",
              "      <th>target4_prob</th>\n",
              "      <th>strdate</th>\n",
              "      <th>year_months</th>\n",
              "      <th>numberOfFollowers</th>\n",
              "      <th>teamnumberOfFollowers</th>\n",
              "    </tr>\n",
              "  </thead>\n",
              "  <tbody>\n",
              "    <tr>\n",
              "      <th>2435</th>\n",
              "      <td>519317</td>\n",
              "      <td>0.974327</td>\n",
              "      <td>56.177043</td>\n",
              "      <td>13.693746</td>\n",
              "      <td>64.166667</td>\n",
              "      <td>20180101</td>\n",
              "      <td>Designated Hitter</td>\n",
              "      <td>Giancarlo Stanton</td>\n",
              "      <td>147.0</td>\n",
              "      <td>Active</td>\n",
              "      <td>NaN</td>\n",
              "      <td>NaN</td>\n",
              "      <td>NaN</td>\n",
              "      <td>NaN</td>\n",
              "      <td>NaN</td>\n",
              "      <td>NaN</td>\n",
              "      <td>NaN</td>\n",
              "      <td>NaN</td>\n",
              "      <td>NaN</td>\n",
              "      <td>NaN</td>\n",
              "      <td>NaN</td>\n",
              "      <td>NaN</td>\n",
              "      <td>NaN</td>\n",
              "      <td>NaN</td>\n",
              "      <td>NaN</td>\n",
              "      <td>NaN</td>\n",
              "      <td>NaN</td>\n",
              "      <td>NaN</td>\n",
              "      <td>NaN</td>\n",
              "      <td>NaN</td>\n",
              "      <td>NaN</td>\n",
              "      <td>NaN</td>\n",
              "      <td>NaN</td>\n",
              "      <td>NaN</td>\n",
              "      <td>NaN</td>\n",
              "      <td>NaN</td>\n",
              "      <td>NaN</td>\n",
              "      <td>NaN</td>\n",
              "      <td>NaN</td>\n",
              "      <td>NaN</td>\n",
              "      <td>...</td>\n",
              "      <td>NaN</td>\n",
              "      <td>NaN</td>\n",
              "      <td>NaN</td>\n",
              "      <td>NaN</td>\n",
              "      <td>NaN</td>\n",
              "      <td>NaN</td>\n",
              "      <td>NaN</td>\n",
              "      <td>NaN</td>\n",
              "      <td>NaN</td>\n",
              "      <td>NaN</td>\n",
              "      <td>NaN</td>\n",
              "      <td>42.0</td>\n",
              "      <td>16.57155</td>\n",
              "      <td>6.296399</td>\n",
              "      <td>24.090019</td>\n",
              "      <td>0.087622</td>\n",
              "      <td>100.0</td>\n",
              "      <td>15.112738</td>\n",
              "      <td>17.019935</td>\n",
              "      <td>15.442759</td>\n",
              "      <td>8.480908</td>\n",
              "      <td>4.489628</td>\n",
              "      <td>33.868643</td>\n",
              "      <td>12.036823</td>\n",
              "      <td>5.245218</td>\n",
              "      <td>0.40027</td>\n",
              "      <td>11.07997</td>\n",
              "      <td>0.077679</td>\n",
              "      <td>39.703651</td>\n",
              "      <td>2.993143</td>\n",
              "      <td>13.301593</td>\n",
              "      <td>12.0</td>\n",
              "      <td>8.016774</td>\n",
              "      <td>2.059741</td>\n",
              "      <td>34.008584</td>\n",
              "      <td>6.248675</td>\n",
              "      <td>20180101</td>\n",
              "      <td>201801</td>\n",
              "      <td>326974.5</td>\n",
              "      <td>3399726.125</td>\n",
              "    </tr>\n",
              "    <tr>\n",
              "      <th>2436</th>\n",
              "      <td>519317</td>\n",
              "      <td>0.743145</td>\n",
              "      <td>31.715912</td>\n",
              "      <td>11.397756</td>\n",
              "      <td>47.248120</td>\n",
              "      <td>20180102</td>\n",
              "      <td>Designated Hitter</td>\n",
              "      <td>Giancarlo Stanton</td>\n",
              "      <td>147.0</td>\n",
              "      <td>Active</td>\n",
              "      <td>NaN</td>\n",
              "      <td>NaN</td>\n",
              "      <td>NaN</td>\n",
              "      <td>NaN</td>\n",
              "      <td>NaN</td>\n",
              "      <td>NaN</td>\n",
              "      <td>NaN</td>\n",
              "      <td>NaN</td>\n",
              "      <td>NaN</td>\n",
              "      <td>NaN</td>\n",
              "      <td>NaN</td>\n",
              "      <td>NaN</td>\n",
              "      <td>NaN</td>\n",
              "      <td>NaN</td>\n",
              "      <td>NaN</td>\n",
              "      <td>NaN</td>\n",
              "      <td>NaN</td>\n",
              "      <td>NaN</td>\n",
              "      <td>NaN</td>\n",
              "      <td>NaN</td>\n",
              "      <td>NaN</td>\n",
              "      <td>NaN</td>\n",
              "      <td>NaN</td>\n",
              "      <td>NaN</td>\n",
              "      <td>NaN</td>\n",
              "      <td>NaN</td>\n",
              "      <td>NaN</td>\n",
              "      <td>NaN</td>\n",
              "      <td>NaN</td>\n",
              "      <td>NaN</td>\n",
              "      <td>...</td>\n",
              "      <td>NaN</td>\n",
              "      <td>NaN</td>\n",
              "      <td>NaN</td>\n",
              "      <td>NaN</td>\n",
              "      <td>NaN</td>\n",
              "      <td>NaN</td>\n",
              "      <td>NaN</td>\n",
              "      <td>NaN</td>\n",
              "      <td>NaN</td>\n",
              "      <td>NaN</td>\n",
              "      <td>NaN</td>\n",
              "      <td>42.0</td>\n",
              "      <td>16.57155</td>\n",
              "      <td>6.296399</td>\n",
              "      <td>24.090019</td>\n",
              "      <td>0.087622</td>\n",
              "      <td>100.0</td>\n",
              "      <td>15.112738</td>\n",
              "      <td>17.019935</td>\n",
              "      <td>15.442759</td>\n",
              "      <td>8.480908</td>\n",
              "      <td>4.489628</td>\n",
              "      <td>33.868643</td>\n",
              "      <td>12.036823</td>\n",
              "      <td>5.245218</td>\n",
              "      <td>0.40027</td>\n",
              "      <td>11.07997</td>\n",
              "      <td>0.077679</td>\n",
              "      <td>39.703651</td>\n",
              "      <td>2.993143</td>\n",
              "      <td>13.301593</td>\n",
              "      <td>12.0</td>\n",
              "      <td>8.016774</td>\n",
              "      <td>2.059741</td>\n",
              "      <td>34.008584</td>\n",
              "      <td>6.248675</td>\n",
              "      <td>20180102</td>\n",
              "      <td>201801</td>\n",
              "      <td>326974.5</td>\n",
              "      <td>3399726.125</td>\n",
              "    </tr>\n",
              "    <tr>\n",
              "      <th>2437</th>\n",
              "      <td>519317</td>\n",
              "      <td>0.741518</td>\n",
              "      <td>30.998168</td>\n",
              "      <td>25.975685</td>\n",
              "      <td>79.879622</td>\n",
              "      <td>20180103</td>\n",
              "      <td>Designated Hitter</td>\n",
              "      <td>Giancarlo Stanton</td>\n",
              "      <td>147.0</td>\n",
              "      <td>Active</td>\n",
              "      <td>NaN</td>\n",
              "      <td>NaN</td>\n",
              "      <td>NaN</td>\n",
              "      <td>NaN</td>\n",
              "      <td>NaN</td>\n",
              "      <td>NaN</td>\n",
              "      <td>NaN</td>\n",
              "      <td>NaN</td>\n",
              "      <td>NaN</td>\n",
              "      <td>NaN</td>\n",
              "      <td>NaN</td>\n",
              "      <td>NaN</td>\n",
              "      <td>NaN</td>\n",
              "      <td>NaN</td>\n",
              "      <td>NaN</td>\n",
              "      <td>NaN</td>\n",
              "      <td>NaN</td>\n",
              "      <td>NaN</td>\n",
              "      <td>NaN</td>\n",
              "      <td>NaN</td>\n",
              "      <td>NaN</td>\n",
              "      <td>NaN</td>\n",
              "      <td>NaN</td>\n",
              "      <td>NaN</td>\n",
              "      <td>NaN</td>\n",
              "      <td>NaN</td>\n",
              "      <td>NaN</td>\n",
              "      <td>NaN</td>\n",
              "      <td>NaN</td>\n",
              "      <td>NaN</td>\n",
              "      <td>...</td>\n",
              "      <td>NaN</td>\n",
              "      <td>NaN</td>\n",
              "      <td>NaN</td>\n",
              "      <td>NaN</td>\n",
              "      <td>NaN</td>\n",
              "      <td>NaN</td>\n",
              "      <td>NaN</td>\n",
              "      <td>NaN</td>\n",
              "      <td>NaN</td>\n",
              "      <td>NaN</td>\n",
              "      <td>NaN</td>\n",
              "      <td>42.0</td>\n",
              "      <td>16.57155</td>\n",
              "      <td>6.296399</td>\n",
              "      <td>24.090019</td>\n",
              "      <td>0.087622</td>\n",
              "      <td>100.0</td>\n",
              "      <td>15.112738</td>\n",
              "      <td>17.019935</td>\n",
              "      <td>15.442759</td>\n",
              "      <td>8.480908</td>\n",
              "      <td>4.489628</td>\n",
              "      <td>33.868643</td>\n",
              "      <td>12.036823</td>\n",
              "      <td>5.245218</td>\n",
              "      <td>0.40027</td>\n",
              "      <td>11.07997</td>\n",
              "      <td>0.077679</td>\n",
              "      <td>39.703651</td>\n",
              "      <td>2.993143</td>\n",
              "      <td>13.301593</td>\n",
              "      <td>12.0</td>\n",
              "      <td>8.016774</td>\n",
              "      <td>2.059741</td>\n",
              "      <td>34.008584</td>\n",
              "      <td>6.248675</td>\n",
              "      <td>20180103</td>\n",
              "      <td>201801</td>\n",
              "      <td>326974.5</td>\n",
              "      <td>3399726.125</td>\n",
              "    </tr>\n",
              "    <tr>\n",
              "      <th>2438</th>\n",
              "      <td>519317</td>\n",
              "      <td>0.434217</td>\n",
              "      <td>40.828745</td>\n",
              "      <td>6.552563</td>\n",
              "      <td>86.740331</td>\n",
              "      <td>20180104</td>\n",
              "      <td>Designated Hitter</td>\n",
              "      <td>Giancarlo Stanton</td>\n",
              "      <td>147.0</td>\n",
              "      <td>Active</td>\n",
              "      <td>NaN</td>\n",
              "      <td>NaN</td>\n",
              "      <td>NaN</td>\n",
              "      <td>NaN</td>\n",
              "      <td>NaN</td>\n",
              "      <td>NaN</td>\n",
              "      <td>NaN</td>\n",
              "      <td>NaN</td>\n",
              "      <td>NaN</td>\n",
              "      <td>NaN</td>\n",
              "      <td>NaN</td>\n",
              "      <td>NaN</td>\n",
              "      <td>NaN</td>\n",
              "      <td>NaN</td>\n",
              "      <td>NaN</td>\n",
              "      <td>NaN</td>\n",
              "      <td>NaN</td>\n",
              "      <td>NaN</td>\n",
              "      <td>NaN</td>\n",
              "      <td>NaN</td>\n",
              "      <td>NaN</td>\n",
              "      <td>NaN</td>\n",
              "      <td>NaN</td>\n",
              "      <td>NaN</td>\n",
              "      <td>NaN</td>\n",
              "      <td>NaN</td>\n",
              "      <td>NaN</td>\n",
              "      <td>NaN</td>\n",
              "      <td>NaN</td>\n",
              "      <td>NaN</td>\n",
              "      <td>...</td>\n",
              "      <td>NaN</td>\n",
              "      <td>NaN</td>\n",
              "      <td>NaN</td>\n",
              "      <td>NaN</td>\n",
              "      <td>NaN</td>\n",
              "      <td>NaN</td>\n",
              "      <td>NaN</td>\n",
              "      <td>NaN</td>\n",
              "      <td>NaN</td>\n",
              "      <td>NaN</td>\n",
              "      <td>NaN</td>\n",
              "      <td>42.0</td>\n",
              "      <td>16.57155</td>\n",
              "      <td>6.296399</td>\n",
              "      <td>24.090019</td>\n",
              "      <td>0.087622</td>\n",
              "      <td>100.0</td>\n",
              "      <td>15.112738</td>\n",
              "      <td>17.019935</td>\n",
              "      <td>15.442759</td>\n",
              "      <td>8.480908</td>\n",
              "      <td>4.489628</td>\n",
              "      <td>33.868643</td>\n",
              "      <td>12.036823</td>\n",
              "      <td>5.245218</td>\n",
              "      <td>0.40027</td>\n",
              "      <td>11.07997</td>\n",
              "      <td>0.077679</td>\n",
              "      <td>39.703651</td>\n",
              "      <td>2.993143</td>\n",
              "      <td>13.301593</td>\n",
              "      <td>12.0</td>\n",
              "      <td>8.016774</td>\n",
              "      <td>2.059741</td>\n",
              "      <td>34.008584</td>\n",
              "      <td>6.248675</td>\n",
              "      <td>20180104</td>\n",
              "      <td>201801</td>\n",
              "      <td>326974.5</td>\n",
              "      <td>3399726.125</td>\n",
              "    </tr>\n",
              "    <tr>\n",
              "      <th>2439</th>\n",
              "      <td>519317</td>\n",
              "      <td>1.700575</td>\n",
              "      <td>20.981956</td>\n",
              "      <td>26.427778</td>\n",
              "      <td>34.202094</td>\n",
              "      <td>20180105</td>\n",
              "      <td>Designated Hitter</td>\n",
              "      <td>Giancarlo Stanton</td>\n",
              "      <td>147.0</td>\n",
              "      <td>Active</td>\n",
              "      <td>NaN</td>\n",
              "      <td>NaN</td>\n",
              "      <td>NaN</td>\n",
              "      <td>NaN</td>\n",
              "      <td>NaN</td>\n",
              "      <td>NaN</td>\n",
              "      <td>NaN</td>\n",
              "      <td>NaN</td>\n",
              "      <td>NaN</td>\n",
              "      <td>NaN</td>\n",
              "      <td>NaN</td>\n",
              "      <td>NaN</td>\n",
              "      <td>NaN</td>\n",
              "      <td>NaN</td>\n",
              "      <td>NaN</td>\n",
              "      <td>NaN</td>\n",
              "      <td>NaN</td>\n",
              "      <td>NaN</td>\n",
              "      <td>NaN</td>\n",
              "      <td>NaN</td>\n",
              "      <td>NaN</td>\n",
              "      <td>NaN</td>\n",
              "      <td>NaN</td>\n",
              "      <td>NaN</td>\n",
              "      <td>NaN</td>\n",
              "      <td>NaN</td>\n",
              "      <td>NaN</td>\n",
              "      <td>NaN</td>\n",
              "      <td>NaN</td>\n",
              "      <td>NaN</td>\n",
              "      <td>...</td>\n",
              "      <td>NaN</td>\n",
              "      <td>NaN</td>\n",
              "      <td>NaN</td>\n",
              "      <td>NaN</td>\n",
              "      <td>NaN</td>\n",
              "      <td>NaN</td>\n",
              "      <td>NaN</td>\n",
              "      <td>NaN</td>\n",
              "      <td>NaN</td>\n",
              "      <td>NaN</td>\n",
              "      <td>NaN</td>\n",
              "      <td>42.0</td>\n",
              "      <td>16.57155</td>\n",
              "      <td>6.296399</td>\n",
              "      <td>24.090019</td>\n",
              "      <td>0.087622</td>\n",
              "      <td>100.0</td>\n",
              "      <td>15.112738</td>\n",
              "      <td>17.019935</td>\n",
              "      <td>15.442759</td>\n",
              "      <td>8.480908</td>\n",
              "      <td>4.489628</td>\n",
              "      <td>33.868643</td>\n",
              "      <td>12.036823</td>\n",
              "      <td>5.245218</td>\n",
              "      <td>0.40027</td>\n",
              "      <td>11.07997</td>\n",
              "      <td>0.077679</td>\n",
              "      <td>39.703651</td>\n",
              "      <td>2.993143</td>\n",
              "      <td>13.301593</td>\n",
              "      <td>12.0</td>\n",
              "      <td>8.016774</td>\n",
              "      <td>2.059741</td>\n",
              "      <td>34.008584</td>\n",
              "      <td>6.248675</td>\n",
              "      <td>20180105</td>\n",
              "      <td>201801</td>\n",
              "      <td>326974.5</td>\n",
              "      <td>3399726.125</td>\n",
              "    </tr>\n",
              "    <tr>\n",
              "      <th>...</th>\n",
              "      <td>...</td>\n",
              "      <td>...</td>\n",
              "      <td>...</td>\n",
              "      <td>...</td>\n",
              "      <td>...</td>\n",
              "      <td>...</td>\n",
              "      <td>...</td>\n",
              "      <td>...</td>\n",
              "      <td>...</td>\n",
              "      <td>...</td>\n",
              "      <td>...</td>\n",
              "      <td>...</td>\n",
              "      <td>...</td>\n",
              "      <td>...</td>\n",
              "      <td>...</td>\n",
              "      <td>...</td>\n",
              "      <td>...</td>\n",
              "      <td>...</td>\n",
              "      <td>...</td>\n",
              "      <td>...</td>\n",
              "      <td>...</td>\n",
              "      <td>...</td>\n",
              "      <td>...</td>\n",
              "      <td>...</td>\n",
              "      <td>...</td>\n",
              "      <td>...</td>\n",
              "      <td>...</td>\n",
              "      <td>...</td>\n",
              "      <td>...</td>\n",
              "      <td>...</td>\n",
              "      <td>...</td>\n",
              "      <td>...</td>\n",
              "      <td>...</td>\n",
              "      <td>...</td>\n",
              "      <td>...</td>\n",
              "      <td>...</td>\n",
              "      <td>...</td>\n",
              "      <td>...</td>\n",
              "      <td>...</td>\n",
              "      <td>...</td>\n",
              "      <td>...</td>\n",
              "      <td>...</td>\n",
              "      <td>...</td>\n",
              "      <td>...</td>\n",
              "      <td>...</td>\n",
              "      <td>...</td>\n",
              "      <td>...</td>\n",
              "      <td>...</td>\n",
              "      <td>...</td>\n",
              "      <td>...</td>\n",
              "      <td>...</td>\n",
              "      <td>...</td>\n",
              "      <td>...</td>\n",
              "      <td>...</td>\n",
              "      <td>...</td>\n",
              "      <td>...</td>\n",
              "      <td>...</td>\n",
              "      <td>...</td>\n",
              "      <td>...</td>\n",
              "      <td>...</td>\n",
              "      <td>...</td>\n",
              "      <td>...</td>\n",
              "      <td>...</td>\n",
              "      <td>...</td>\n",
              "      <td>...</td>\n",
              "      <td>...</td>\n",
              "      <td>...</td>\n",
              "      <td>...</td>\n",
              "      <td>...</td>\n",
              "      <td>...</td>\n",
              "      <td>...</td>\n",
              "      <td>...</td>\n",
              "      <td>...</td>\n",
              "      <td>...</td>\n",
              "      <td>...</td>\n",
              "      <td>...</td>\n",
              "      <td>...</td>\n",
              "      <td>...</td>\n",
              "      <td>...</td>\n",
              "      <td>...</td>\n",
              "      <td>...</td>\n",
              "    </tr>\n",
              "    <tr>\n",
              "      <th>3652</th>\n",
              "      <td>519317</td>\n",
              "      <td>14.208138</td>\n",
              "      <td>16.863095</td>\n",
              "      <td>6.386838</td>\n",
              "      <td>12.489944</td>\n",
              "      <td>20210426</td>\n",
              "      <td>Designated Hitter</td>\n",
              "      <td>Giancarlo Stanton</td>\n",
              "      <td>147.0</td>\n",
              "      <td>Active</td>\n",
              "      <td>200.0</td>\n",
              "      <td>1.0</td>\n",
              "      <td>1.0</td>\n",
              "      <td>0.0</td>\n",
              "      <td>1.0</td>\n",
              "      <td>1.0</td>\n",
              "      <td>0.0</td>\n",
              "      <td>0.0</td>\n",
              "      <td>1.0</td>\n",
              "      <td>1.0</td>\n",
              "      <td>0.0</td>\n",
              "      <td>1.0</td>\n",
              "      <td>0.0</td>\n",
              "      <td>3.0</td>\n",
              "      <td>0.0</td>\n",
              "      <td>0.0</td>\n",
              "      <td>0.0</td>\n",
              "      <td>0.0</td>\n",
              "      <td>4.0</td>\n",
              "      <td>2.0</td>\n",
              "      <td>0.0</td>\n",
              "      <td>2.0</td>\n",
              "      <td>0.0</td>\n",
              "      <td>0.0</td>\n",
              "      <td>0.0</td>\n",
              "      <td>0.0</td>\n",
              "      <td>0.0</td>\n",
              "      <td>0.0</td>\n",
              "      <td>0.0</td>\n",
              "      <td>0.0</td>\n",
              "      <td>...</td>\n",
              "      <td>False</td>\n",
              "      <td>4.0</td>\n",
              "      <td>2.0</td>\n",
              "      <td>R</td>\n",
              "      <td>2021-04-26</td>\n",
              "      <td>5</td>\n",
              "      <td>False</td>\n",
              "      <td>NaN</td>\n",
              "      <td>12</td>\n",
              "      <td>201.0</td>\n",
              "      <td>2021-04-26</td>\n",
              "      <td>42.0</td>\n",
              "      <td>16.57155</td>\n",
              "      <td>6.296399</td>\n",
              "      <td>24.090019</td>\n",
              "      <td>0.087622</td>\n",
              "      <td>100.0</td>\n",
              "      <td>15.112738</td>\n",
              "      <td>17.019935</td>\n",
              "      <td>15.442759</td>\n",
              "      <td>8.480908</td>\n",
              "      <td>4.489628</td>\n",
              "      <td>33.868643</td>\n",
              "      <td>12.036823</td>\n",
              "      <td>5.245218</td>\n",
              "      <td>0.40027</td>\n",
              "      <td>11.07997</td>\n",
              "      <td>0.077679</td>\n",
              "      <td>39.703651</td>\n",
              "      <td>2.993143</td>\n",
              "      <td>13.301593</td>\n",
              "      <td>12.0</td>\n",
              "      <td>8.016774</td>\n",
              "      <td>2.059741</td>\n",
              "      <td>34.008584</td>\n",
              "      <td>6.248675</td>\n",
              "      <td>20210426</td>\n",
              "      <td>202104</td>\n",
              "      <td>326974.5</td>\n",
              "      <td>3399726.125</td>\n",
              "    </tr>\n",
              "    <tr>\n",
              "      <th>3653</th>\n",
              "      <td>519317</td>\n",
              "      <td>15.521546</td>\n",
              "      <td>17.074740</td>\n",
              "      <td>39.703651</td>\n",
              "      <td>14.683431</td>\n",
              "      <td>20210427</td>\n",
              "      <td>Designated Hitter</td>\n",
              "      <td>Giancarlo Stanton</td>\n",
              "      <td>147.0</td>\n",
              "      <td>Active</td>\n",
              "      <td>200.0</td>\n",
              "      <td>1.0</td>\n",
              "      <td>0.0</td>\n",
              "      <td>2.0</td>\n",
              "      <td>1.0</td>\n",
              "      <td>0.0</td>\n",
              "      <td>0.0</td>\n",
              "      <td>1.0</td>\n",
              "      <td>1.0</td>\n",
              "      <td>0.0</td>\n",
              "      <td>0.0</td>\n",
              "      <td>2.0</td>\n",
              "      <td>0.0</td>\n",
              "      <td>5.0</td>\n",
              "      <td>0.0</td>\n",
              "      <td>0.0</td>\n",
              "      <td>1.0</td>\n",
              "      <td>0.0</td>\n",
              "      <td>5.0</td>\n",
              "      <td>5.0</td>\n",
              "      <td>1.0</td>\n",
              "      <td>3.0</td>\n",
              "      <td>0.0</td>\n",
              "      <td>0.0</td>\n",
              "      <td>0.0</td>\n",
              "      <td>0.0</td>\n",
              "      <td>0.0</td>\n",
              "      <td>0.0</td>\n",
              "      <td>0.0</td>\n",
              "      <td>0.0</td>\n",
              "      <td>...</td>\n",
              "      <td>True</td>\n",
              "      <td>1.0</td>\n",
              "      <td>5.0</td>\n",
              "      <td>R</td>\n",
              "      <td>2021-04-27</td>\n",
              "      <td>5</td>\n",
              "      <td>False</td>\n",
              "      <td>NaN</td>\n",
              "      <td>12</td>\n",
              "      <td>201.0</td>\n",
              "      <td>2021-04-27</td>\n",
              "      <td>42.0</td>\n",
              "      <td>16.57155</td>\n",
              "      <td>6.296399</td>\n",
              "      <td>24.090019</td>\n",
              "      <td>0.087622</td>\n",
              "      <td>100.0</td>\n",
              "      <td>15.112738</td>\n",
              "      <td>17.019935</td>\n",
              "      <td>15.442759</td>\n",
              "      <td>8.480908</td>\n",
              "      <td>4.489628</td>\n",
              "      <td>33.868643</td>\n",
              "      <td>12.036823</td>\n",
              "      <td>5.245218</td>\n",
              "      <td>0.40027</td>\n",
              "      <td>11.07997</td>\n",
              "      <td>0.077679</td>\n",
              "      <td>39.703651</td>\n",
              "      <td>2.993143</td>\n",
              "      <td>13.301593</td>\n",
              "      <td>12.0</td>\n",
              "      <td>8.016774</td>\n",
              "      <td>2.059741</td>\n",
              "      <td>34.008584</td>\n",
              "      <td>6.248675</td>\n",
              "      <td>20210427</td>\n",
              "      <td>202104</td>\n",
              "      <td>326974.5</td>\n",
              "      <td>3399726.125</td>\n",
              "    </tr>\n",
              "    <tr>\n",
              "      <th>3654</th>\n",
              "      <td>519317</td>\n",
              "      <td>0.947361</td>\n",
              "      <td>32.279561</td>\n",
              "      <td>2.343270</td>\n",
              "      <td>17.021057</td>\n",
              "      <td>20210428</td>\n",
              "      <td>Designated Hitter</td>\n",
              "      <td>Giancarlo Stanton</td>\n",
              "      <td>147.0</td>\n",
              "      <td>Active</td>\n",
              "      <td>200.0</td>\n",
              "      <td>1.0</td>\n",
              "      <td>0.0</td>\n",
              "      <td>1.0</td>\n",
              "      <td>2.0</td>\n",
              "      <td>0.0</td>\n",
              "      <td>0.0</td>\n",
              "      <td>0.0</td>\n",
              "      <td>1.0</td>\n",
              "      <td>0.0</td>\n",
              "      <td>0.0</td>\n",
              "      <td>3.0</td>\n",
              "      <td>0.0</td>\n",
              "      <td>5.0</td>\n",
              "      <td>0.0</td>\n",
              "      <td>0.0</td>\n",
              "      <td>1.0</td>\n",
              "      <td>0.0</td>\n",
              "      <td>5.0</td>\n",
              "      <td>3.0</td>\n",
              "      <td>0.0</td>\n",
              "      <td>1.0</td>\n",
              "      <td>0.0</td>\n",
              "      <td>0.0</td>\n",
              "      <td>0.0</td>\n",
              "      <td>0.0</td>\n",
              "      <td>0.0</td>\n",
              "      <td>0.0</td>\n",
              "      <td>0.0</td>\n",
              "      <td>0.0</td>\n",
              "      <td>...</td>\n",
              "      <td>True</td>\n",
              "      <td>0.0</td>\n",
              "      <td>7.0</td>\n",
              "      <td>R</td>\n",
              "      <td>2021-04-28</td>\n",
              "      <td>4</td>\n",
              "      <td>False</td>\n",
              "      <td>NaN</td>\n",
              "      <td>11</td>\n",
              "      <td>201.0</td>\n",
              "      <td>2021-04-28</td>\n",
              "      <td>42.0</td>\n",
              "      <td>16.57155</td>\n",
              "      <td>6.296399</td>\n",
              "      <td>24.090019</td>\n",
              "      <td>0.087622</td>\n",
              "      <td>100.0</td>\n",
              "      <td>15.112738</td>\n",
              "      <td>17.019935</td>\n",
              "      <td>15.442759</td>\n",
              "      <td>8.480908</td>\n",
              "      <td>4.489628</td>\n",
              "      <td>33.868643</td>\n",
              "      <td>12.036823</td>\n",
              "      <td>5.245218</td>\n",
              "      <td>0.40027</td>\n",
              "      <td>11.07997</td>\n",
              "      <td>0.077679</td>\n",
              "      <td>39.703651</td>\n",
              "      <td>2.993143</td>\n",
              "      <td>13.301593</td>\n",
              "      <td>12.0</td>\n",
              "      <td>8.016774</td>\n",
              "      <td>2.059741</td>\n",
              "      <td>34.008584</td>\n",
              "      <td>6.248675</td>\n",
              "      <td>20210428</td>\n",
              "      <td>202104</td>\n",
              "      <td>326974.5</td>\n",
              "      <td>3399726.125</td>\n",
              "    </tr>\n",
              "    <tr>\n",
              "      <th>3655</th>\n",
              "      <td>519317</td>\n",
              "      <td>0.276774</td>\n",
              "      <td>29.430518</td>\n",
              "      <td>0.485191</td>\n",
              "      <td>16.408387</td>\n",
              "      <td>20210429</td>\n",
              "      <td>Designated Hitter</td>\n",
              "      <td>Giancarlo Stanton</td>\n",
              "      <td>147.0</td>\n",
              "      <td>Active</td>\n",
              "      <td>200.0</td>\n",
              "      <td>1.0</td>\n",
              "      <td>1.0</td>\n",
              "      <td>0.0</td>\n",
              "      <td>0.0</td>\n",
              "      <td>0.0</td>\n",
              "      <td>0.0</td>\n",
              "      <td>0.0</td>\n",
              "      <td>1.0</td>\n",
              "      <td>0.0</td>\n",
              "      <td>0.0</td>\n",
              "      <td>3.0</td>\n",
              "      <td>0.0</td>\n",
              "      <td>5.0</td>\n",
              "      <td>0.0</td>\n",
              "      <td>0.0</td>\n",
              "      <td>0.0</td>\n",
              "      <td>0.0</td>\n",
              "      <td>5.0</td>\n",
              "      <td>3.0</td>\n",
              "      <td>0.0</td>\n",
              "      <td>2.0</td>\n",
              "      <td>0.0</td>\n",
              "      <td>0.0</td>\n",
              "      <td>0.0</td>\n",
              "      <td>0.0</td>\n",
              "      <td>0.0</td>\n",
              "      <td>0.0</td>\n",
              "      <td>0.0</td>\n",
              "      <td>0.0</td>\n",
              "      <td>...</td>\n",
              "      <td>False</td>\n",
              "      <td>4.0</td>\n",
              "      <td>3.0</td>\n",
              "      <td>R</td>\n",
              "      <td>2021-04-29</td>\n",
              "      <td>5</td>\n",
              "      <td>False</td>\n",
              "      <td>NaN</td>\n",
              "      <td>12</td>\n",
              "      <td>201.0</td>\n",
              "      <td>2021-04-29</td>\n",
              "      <td>42.0</td>\n",
              "      <td>16.57155</td>\n",
              "      <td>6.296399</td>\n",
              "      <td>24.090019</td>\n",
              "      <td>0.087622</td>\n",
              "      <td>100.0</td>\n",
              "      <td>15.112738</td>\n",
              "      <td>17.019935</td>\n",
              "      <td>15.442759</td>\n",
              "      <td>8.480908</td>\n",
              "      <td>4.489628</td>\n",
              "      <td>33.868643</td>\n",
              "      <td>12.036823</td>\n",
              "      <td>5.245218</td>\n",
              "      <td>0.40027</td>\n",
              "      <td>11.07997</td>\n",
              "      <td>0.077679</td>\n",
              "      <td>39.703651</td>\n",
              "      <td>2.993143</td>\n",
              "      <td>13.301593</td>\n",
              "      <td>12.0</td>\n",
              "      <td>8.016774</td>\n",
              "      <td>2.059741</td>\n",
              "      <td>34.008584</td>\n",
              "      <td>6.248675</td>\n",
              "      <td>20210429</td>\n",
              "      <td>202104</td>\n",
              "      <td>326974.5</td>\n",
              "      <td>3399726.125</td>\n",
              "    </tr>\n",
              "    <tr>\n",
              "      <th>3656</th>\n",
              "      <td>519317</td>\n",
              "      <td>0.243648</td>\n",
              "      <td>16.343241</td>\n",
              "      <td>0.239870</td>\n",
              "      <td>11.835666</td>\n",
              "      <td>20210430</td>\n",
              "      <td>Designated Hitter</td>\n",
              "      <td>Giancarlo Stanton</td>\n",
              "      <td>147.0</td>\n",
              "      <td>Active</td>\n",
              "      <td>200.0</td>\n",
              "      <td>1.0</td>\n",
              "      <td>0.0</td>\n",
              "      <td>1.0</td>\n",
              "      <td>2.0</td>\n",
              "      <td>1.0</td>\n",
              "      <td>0.0</td>\n",
              "      <td>0.0</td>\n",
              "      <td>0.0</td>\n",
              "      <td>0.0</td>\n",
              "      <td>0.0</td>\n",
              "      <td>3.0</td>\n",
              "      <td>0.0</td>\n",
              "      <td>5.0</td>\n",
              "      <td>0.0</td>\n",
              "      <td>0.0</td>\n",
              "      <td>0.0</td>\n",
              "      <td>0.0</td>\n",
              "      <td>5.0</td>\n",
              "      <td>4.0</td>\n",
              "      <td>0.0</td>\n",
              "      <td>2.0</td>\n",
              "      <td>0.0</td>\n",
              "      <td>0.0</td>\n",
              "      <td>0.0</td>\n",
              "      <td>0.0</td>\n",
              "      <td>0.0</td>\n",
              "      <td>0.0</td>\n",
              "      <td>0.0</td>\n",
              "      <td>0.0</td>\n",
              "      <td>...</td>\n",
              "      <td>False</td>\n",
              "      <td>10.0</td>\n",
              "      <td>0.0</td>\n",
              "      <td>R</td>\n",
              "      <td>2021-04-30</td>\n",
              "      <td>5</td>\n",
              "      <td>False</td>\n",
              "      <td>NaN</td>\n",
              "      <td>12</td>\n",
              "      <td>201.0</td>\n",
              "      <td>2021-04-30</td>\n",
              "      <td>42.0</td>\n",
              "      <td>16.57155</td>\n",
              "      <td>6.296399</td>\n",
              "      <td>24.090019</td>\n",
              "      <td>0.087622</td>\n",
              "      <td>100.0</td>\n",
              "      <td>15.112738</td>\n",
              "      <td>17.019935</td>\n",
              "      <td>15.442759</td>\n",
              "      <td>8.480908</td>\n",
              "      <td>4.489628</td>\n",
              "      <td>33.868643</td>\n",
              "      <td>12.036823</td>\n",
              "      <td>5.245218</td>\n",
              "      <td>0.40027</td>\n",
              "      <td>11.07997</td>\n",
              "      <td>0.077679</td>\n",
              "      <td>39.703651</td>\n",
              "      <td>2.993143</td>\n",
              "      <td>13.301593</td>\n",
              "      <td>12.0</td>\n",
              "      <td>8.016774</td>\n",
              "      <td>2.059741</td>\n",
              "      <td>34.008584</td>\n",
              "      <td>6.248675</td>\n",
              "      <td>20210430</td>\n",
              "      <td>202104</td>\n",
              "      <td>326974.5</td>\n",
              "      <td>3399726.125</td>\n",
              "    </tr>\n",
              "  </tbody>\n",
              "</table>\n",
              "<p>1222 rows × 129 columns</p>\n",
              "</div>"
            ],
            "text/plain": [
              "      playerId    target1  ...  numberOfFollowers  teamnumberOfFollowers\n",
              "2435    519317   0.974327  ...           326974.5            3399726.125\n",
              "2436    519317   0.743145  ...           326974.5            3399726.125\n",
              "2437    519317   0.741518  ...           326974.5            3399726.125\n",
              "2438    519317   0.434217  ...           326974.5            3399726.125\n",
              "2439    519317   1.700575  ...           326974.5            3399726.125\n",
              "...        ...        ...  ...                ...                    ...\n",
              "3652    519317  14.208138  ...           326974.5            3399726.125\n",
              "3653    519317  15.521546  ...           326974.5            3399726.125\n",
              "3654    519317   0.947361  ...           326974.5            3399726.125\n",
              "3655    519317   0.276774  ...           326974.5            3399726.125\n",
              "3656    519317   0.243648  ...           326974.5            3399726.125\n",
              "\n",
              "[1222 rows x 129 columns]"
            ]
          },
          "metadata": {
            "tags": []
          },
          "execution_count": 178
        }
      ]
    },
    {
      "cell_type": "code",
      "metadata": {
        "id": "vrevhu0a0MP0"
      },
      "source": [
        "train[\"stryear\"] = train[\"date\"].astype(str)\n",
        "train[\"year\"] = train[\"stryear\"].str[0:4].astype(int)"
      ],
      "id": "vrevhu0a0MP0",
      "execution_count": 179,
      "outputs": []
    },
    {
      "cell_type": "code",
      "metadata": {
        "id": "ViJ9Gl9aezst"
      },
      "source": [
        ""
      ],
      "id": "ViJ9Gl9aezst",
      "execution_count": 179,
      "outputs": []
    },
    {
      "cell_type": "code",
      "metadata": {
        "id": "2CkB9FJX3_Te",
        "colab": {
          "base_uri": "https://localhost:8080/"
        },
        "outputId": "a129f671-14be-4ce8-8f4c-f63b425d0e41"
      },
      "source": [
        "#make feature\n",
        "train[\"strdate\"] = train[\"date\"].astype(str)\n",
        "train[\"month\"] = train[\"strdate\"].str[5].astype(int)\n",
        "train[\"month\"]\n",
        "train[\"stryear\"] = train[\"date\"].astype(str)\n",
        "train[\"year\"] = train[\"stryear\"].str[0:4].astype(int)\n",
        "train[\"nullc\"] = train.isnull().sum(axis=1)\n",
        "train[\"ongame\"] = np.where(train[\"gamePk\"].isnull() == 1,0,1)\n",
        "train[\"ongame\"].unique()"
      ],
      "id": "2CkB9FJX3_Te",
      "execution_count": 180,
      "outputs": [
        {
          "output_type": "execute_result",
          "data": {
            "text/plain": [
              "array([0, 1])"
            ]
          },
          "metadata": {
            "tags": []
          },
          "execution_count": 180
        }
      ]
    },
    {
      "cell_type": "code",
      "metadata": {
        "id": "adY9aY39Y2ez"
      },
      "source": [
        "del awards\n",
        "del scores\n",
        "del rosters\n",
        "del standings"
      ],
      "id": "adY9aY39Y2ez",
      "execution_count": 181,
      "outputs": []
    },
    {
      "cell_type": "code",
      "metadata": {
        "execution": {
          "iopub.execute_input": "2021-06-25T22:19:05.280987Z",
          "iopub.status.busy": "2021-06-25T22:19:05.280074Z",
          "iopub.status.idle": "2021-06-25T22:19:06.308927Z",
          "shell.execute_reply": "2021-06-25T22:19:06.308036Z",
          "shell.execute_reply.started": "2021-06-25T21:58:44.298952Z"
        },
        "papermill": {
          "duration": 1.157038,
          "end_time": "2021-06-25T22:19:06.309107",
          "exception": false,
          "start_time": "2021-06-25T22:19:05.152069",
          "status": "completed"
        },
        "tags": [],
        "id": "identified-resource"
      },
      "source": [
        ""
      ],
      "id": "identified-resource",
      "execution_count": 181,
      "outputs": []
    },
    {
      "cell_type": "code",
      "metadata": {
        "execution": {
          "iopub.execute_input": "2021-06-25T22:19:06.379223Z",
          "iopub.status.busy": "2021-06-25T22:19:06.378433Z",
          "iopub.status.idle": "2021-06-25T22:19:09.364865Z",
          "shell.execute_reply": "2021-06-25T22:19:09.364128Z",
          "shell.execute_reply.started": "2021-06-25T21:58:45.283486Z"
        },
        "papermill": {
          "duration": 3.0266,
          "end_time": "2021-06-25T22:19:09.365076",
          "exception": false,
          "start_time": "2021-06-25T22:19:06.338476",
          "status": "completed"
        },
        "tags": [],
        "id": "outstanding-spoke"
      },
      "source": [
        "# label encoding\n",
        "player2num = {c: i for i, c in enumerate(train['playerId'].unique())}\n",
        "position2num = {c: i for i, c in enumerate(train['primaryPositionName'].unique())}\n",
        "teamid2num = {c: i for i, c in enumerate(train['teamId'].unique())}\n",
        "status2num = {c: i for i, c in enumerate(train['status'].unique())}\n",
        "daynight2num = {c: i for i, c in enumerate(train['dayNight'].unique())}\n",
        "seriesDescription2num = {c: i for i, c in enumerate(train['seriesDescription'].unique())}\n",
        "gameType2num = {c: i for i, c in enumerate(train['gameType'].unique())}\n",
        "#bitrhCountry2num = {c: i for i, c in enumerate(train[\"birthCountry\"].unique())}\n",
        "train['label_playerId'] = train['playerId'].map(player2num)\n",
        "train['label_primaryPositionName'] = train['primaryPositionName'].map(position2num)\n",
        "train['label_teamId'] = train['teamId'].map(teamid2num)\n",
        "train['label_status'] = train['status'].map(status2num)\n",
        "train[\"label_daynight\"] = train['dayNight'].map(daynight2num)\n",
        "train[\"label_seriesDescription\"] = train[\"seriesDescription\"].map(seriesDescription2num)\n",
        "#train[\"birthCountry\"] = train[\"birthCountry\"].map(bitrhCountry2num)\n",
        "\n",
        "from sklearn.compose import TransformedTargetRegressor\n"
      ],
      "id": "outstanding-spoke",
      "execution_count": 182,
      "outputs": []
    },
    {
      "cell_type": "code",
      "metadata": {
        "id": "G3RKg8r9QpDf"
      },
      "source": [
        "#train.to_csv(\"/content/drive/MyDrive/mlb/script/output/train.csv\")"
      ],
      "id": "G3RKg8r9QpDf",
      "execution_count": 183,
      "outputs": []
    },
    {
      "cell_type": "code",
      "metadata": {
        "id": "tnDAqSAkc7pP"
      },
      "source": [
        "playerlist = train[\"playerId\"].unique()"
      ],
      "id": "tnDAqSAkc7pP",
      "execution_count": 184,
      "outputs": []
    },
    {
      "cell_type": "code",
      "metadata": {
        "colab": {
          "base_uri": "https://localhost:8080/"
        },
        "id": "cIq6Ji3fewUr",
        "outputId": "ffdae303-44a5-4008-afbc-deb657c1b4f1"
      },
      "source": [
        "train[\"playerId\"]"
      ],
      "id": "cIq6Ji3fewUr",
      "execution_count": 185,
      "outputs": [
        {
          "output_type": "execute_result",
          "data": {
            "text/plain": [
              "0          628317\n",
              "1          628317\n",
              "2          628317\n",
              "3          628317\n",
              "4          628317\n",
              "            ...  \n",
              "2508779    656775\n",
              "2508780    656775\n",
              "2508781    656775\n",
              "2508782    656775\n",
              "2508783    656775\n",
              "Name: playerId, Length: 2508784, dtype: int64"
            ]
          },
          "metadata": {
            "tags": []
          },
          "execution_count": 185
        }
      ]
    },
    {
      "cell_type": "code",
      "metadata": {
        "id": "SnLF5qfiaTAm"
      },
      "source": [
        "\n",
        "train_2017post = train[train[\"date\"]<=20180328]\n",
        "train_2018reg = train[(train[\"date\"]>=20180329)&(train[\"date\"]<=20181001)]\n",
        "train_2018post = train[(train[\"date\"]>=20181002)&(train[\"date\"]<=20190319)]\n",
        "train_2019reg = train[(train[\"date\"]>=20190320)&(train[\"date\"]<=20190929)]\n",
        "train_2019post = train[(train[\"date\"]>=20190930)&(train[\"date\"]<=20200722)]\n",
        "train_2020reg = train[(train[\"date\"]>=20200723)&(train[\"date\"]<=20200927)]\n",
        "train_2020post = train[(train[\"date\"]>=20200928)&(train[\"date\"]<=20210331)]\n",
        "train_2021reg = train[(train[\"date\"]>=20210401)&(train[\"date\"]<=20211003)]\n"
      ],
      "id": "SnLF5qfiaTAm",
      "execution_count": 186,
      "outputs": []
    },
    {
      "cell_type": "code",
      "metadata": {
        "colab": {
          "base_uri": "https://localhost:8080/",
          "height": 204
        },
        "id": "5wU1G9E899HT",
        "outputId": "825696ba-0edd-4db9-b8e6-67ef7a1b4ece"
      },
      "source": [
        "seasons"
      ],
      "id": "5wU1G9E899HT",
      "execution_count": 187,
      "outputs": [
        {
          "output_type": "execute_result",
          "data": {
            "text/html": [
              "<div>\n",
              "<style scoped>\n",
              "    .dataframe tbody tr th:only-of-type {\n",
              "        vertical-align: middle;\n",
              "    }\n",
              "\n",
              "    .dataframe tbody tr th {\n",
              "        vertical-align: top;\n",
              "    }\n",
              "\n",
              "    .dataframe thead th {\n",
              "        text-align: right;\n",
              "    }\n",
              "</style>\n",
              "<table border=\"1\" class=\"dataframe\">\n",
              "  <thead>\n",
              "    <tr style=\"text-align: right;\">\n",
              "      <th></th>\n",
              "      <th>seasonId</th>\n",
              "      <th>seasonStartDate</th>\n",
              "      <th>seasonEndDate</th>\n",
              "      <th>preSeasonStartDate</th>\n",
              "      <th>preSeasonEndDate</th>\n",
              "      <th>regularSeasonStartDate</th>\n",
              "      <th>regularSeasonEndDate</th>\n",
              "      <th>lastDate1stHalf</th>\n",
              "      <th>allStarDate</th>\n",
              "      <th>firstDate2ndHalf</th>\n",
              "      <th>postSeasonStartDate</th>\n",
              "      <th>postSeasonEndDate</th>\n",
              "    </tr>\n",
              "  </thead>\n",
              "  <tbody>\n",
              "    <tr>\n",
              "      <th>0</th>\n",
              "      <td>2017</td>\n",
              "      <td>2017-04-02</td>\n",
              "      <td>2017-11-01</td>\n",
              "      <td>2017-02-22</td>\n",
              "      <td>2017-04-01</td>\n",
              "      <td>2017-04-02</td>\n",
              "      <td>2017-10-01</td>\n",
              "      <td>2017-07-09</td>\n",
              "      <td>2017-07-11</td>\n",
              "      <td>2017-07-14</td>\n",
              "      <td>2017-10-03</td>\n",
              "      <td>2017-11-01</td>\n",
              "    </tr>\n",
              "    <tr>\n",
              "      <th>1</th>\n",
              "      <td>2018</td>\n",
              "      <td>2018-03-29</td>\n",
              "      <td>2018-10-28</td>\n",
              "      <td>2018-02-21</td>\n",
              "      <td>2018-03-27</td>\n",
              "      <td>2018-03-29</td>\n",
              "      <td>2018-10-01</td>\n",
              "      <td>2018-07-15</td>\n",
              "      <td>2018-07-17</td>\n",
              "      <td>2018-07-19</td>\n",
              "      <td>2018-10-02</td>\n",
              "      <td>2018-10-28</td>\n",
              "    </tr>\n",
              "    <tr>\n",
              "      <th>2</th>\n",
              "      <td>2019</td>\n",
              "      <td>2019-03-20</td>\n",
              "      <td>2019-10-30</td>\n",
              "      <td>2019-02-21</td>\n",
              "      <td>2019-03-26</td>\n",
              "      <td>2019-03-20</td>\n",
              "      <td>2019-09-29</td>\n",
              "      <td>2019-07-07</td>\n",
              "      <td>2019-07-09</td>\n",
              "      <td>2019-07-11</td>\n",
              "      <td>2019-10-01</td>\n",
              "      <td>2019-10-30</td>\n",
              "    </tr>\n",
              "    <tr>\n",
              "      <th>3</th>\n",
              "      <td>2020</td>\n",
              "      <td>2020-07-23</td>\n",
              "      <td>2020-10-28</td>\n",
              "      <td>2020-02-21</td>\n",
              "      <td>2020-07-22</td>\n",
              "      <td>2020-07-23</td>\n",
              "      <td>2020-09-27</td>\n",
              "      <td>2020-08-25</td>\n",
              "      <td>NaN</td>\n",
              "      <td>2020-08-26</td>\n",
              "      <td>2020-09-29</td>\n",
              "      <td>2020-10-28</td>\n",
              "    </tr>\n",
              "    <tr>\n",
              "      <th>4</th>\n",
              "      <td>2021</td>\n",
              "      <td>2021-02-28</td>\n",
              "      <td>2021-10-31</td>\n",
              "      <td>2021-02-28</td>\n",
              "      <td>2021-03-30</td>\n",
              "      <td>2021-04-01</td>\n",
              "      <td>2021-10-03</td>\n",
              "      <td>2021-07-11</td>\n",
              "      <td>2021-07-13</td>\n",
              "      <td>2021-07-15</td>\n",
              "      <td>2021-10-04</td>\n",
              "      <td>2021-10-31</td>\n",
              "    </tr>\n",
              "  </tbody>\n",
              "</table>\n",
              "</div>"
            ],
            "text/plain": [
              "   seasonId seasonStartDate  ... postSeasonStartDate postSeasonEndDate\n",
              "0      2017      2017-04-02  ...          2017-10-03        2017-11-01\n",
              "1      2018      2018-03-29  ...          2018-10-02        2018-10-28\n",
              "2      2019      2019-03-20  ...          2019-10-01        2019-10-30\n",
              "3      2020      2020-07-23  ...          2020-09-29        2020-10-28\n",
              "4      2021      2021-02-28  ...          2021-10-04        2021-10-31\n",
              "\n",
              "[5 rows x 12 columns]"
            ]
          },
          "metadata": {
            "tags": []
          },
          "execution_count": 187
        }
      ]
    },
    {
      "cell_type": "code",
      "metadata": {
        "id": "49AjMLJDhv97",
        "colab": {
          "base_uri": "https://localhost:8080/"
        },
        "outputId": "d9c29ab3-276f-4a75-d8b3-2e4d24107de3"
      },
      "source": [
        "#make feature\n",
        "hitscol = [\"playerId\",\"preseasonhits\"]\n",
        "hits_2018 = train_2018reg.groupby(\"playerId\").sum()[\"hits\"].reset_index()\n",
        "hits_2018[\"preseasonhits\"] = hits_2018[\"hits\"]\n",
        "train_2018post = train_2018post.merge(hits_2018[hitscol], on=['playerId'], how='left')\n",
        "train_2019reg = train_2019reg.merge(hits_2018[hitscol], on=['playerId'], how='left')\n",
        "\n",
        "hits2019col = [\"playerId\",\"hits2019\"]\n",
        "hits_2019 = train_2019reg.groupby(\"playerId\").sum()[\"hits\"].reset_index()\n",
        "hits_2019[\"preseasonhits\"] = hits_2019[\"hits\"]\n",
        "train_2019post = train_2019post.merge(hits_2019[hitscol], on=['playerId'], how='left')\n",
        "train_2020reg = train_2020reg.merge(hits_2019[hitscol], on=['playerId'], how='left')\n",
        "\n",
        "hits2020col = [\"playerId\",\"hits2020\"]\n",
        "hits_2020 = train_2020reg.groupby(\"playerId\").sum()[\"hits\"].reset_index()\n",
        "hits_2020[\"preseasonhits\"] = hits_2020[\"hits\"]\n",
        "train_2020post = train_2020post.merge(hits_2020[hitscol], on=['playerId'], how='left')\n",
        "train_2021reg = train_2021reg.merge(hits_2020[hitscol], on=['playerId'], how='left')\n",
        "del hits_2018,hits_2019,hits_2020\n",
        "gc.collect()\n",
        "\n",
        "gamescol = [\"playerId\",\"preseasonpt\"]\n",
        "game2018 = train_2018reg.groupby(\"playerId\").sum()[\"ongame\"].reset_index()\n",
        "game2018[\"preseasonpt\"] = game2018[\"ongame\"]\n",
        "train_2018post = train_2018post.merge(game2018[gamescol], on=['playerId'], how='left')\n",
        "train_2019reg = train_2019reg.merge(game2018[gamescol], on=['playerId'], how='left')\n",
        "\n",
        "game2019 = train_2019reg.groupby(\"playerId\").sum()[\"ongame\"].reset_index()\n",
        "game2019[\"preseasonpt\"] = game2019[\"ongame\"]\n",
        "train_2019post = train_2019post.merge(game2019[gamescol], on=['playerId'], how='left')\n",
        "train_2020reg = train_2020reg.merge(game2019[gamescol], on=['playerId'], how='left')\n",
        "\n",
        "game2020 = train_2020reg.groupby(\"playerId\").sum()[\"ongame\"].reset_index()\n",
        "game2020[\"preseasonpt\"] = game2020[\"ongame\"]\n",
        "train_2020post = train_2020post.merge(game2020[gamescol], on=['playerId'], how='left')\n",
        "train_2021reg = train_2021reg.merge(game2020[gamescol], on=['playerId'], how='left')\n",
        "\n",
        "del game2018,game2019,game2020\n",
        "gc.collect()"
      ],
      "id": "49AjMLJDhv97",
      "execution_count": 188,
      "outputs": [
        {
          "output_type": "execute_result",
          "data": {
            "text/plain": [
              "0"
            ]
          },
          "metadata": {
            "tags": []
          },
          "execution_count": 188
        }
      ]
    },
    {
      "cell_type": "code",
      "metadata": {
        "id": "xT9yVB1Qzz44"
      },
      "source": [
        "train = pd.concat([train_2017post,train_2018reg,train_2018post,train_2019reg,train_2019post,train_2020reg,train_2020post,train_2021reg])\n",
        "train[\"preseasonhits\"]\n",
        "del train_2017post,train_2018post,train_2019post, train_2020post, train_2018reg, train_2019reg, train_2020reg"
      ],
      "id": "xT9yVB1Qzz44",
      "execution_count": 189,
      "outputs": []
    },
    {
      "cell_type": "code",
      "metadata": {
        "id": "P7S_fxrw4NCB"
      },
      "source": [
        "train[\"hitpergame\"] = train[\"preseasonhits\"] / train[\"preseasonpt\"]"
      ],
      "id": "P7S_fxrw4NCB",
      "execution_count": 190,
      "outputs": []
    },
    {
      "cell_type": "code",
      "metadata": {
        "id": "SwHCG2X0rmhR"
      },
      "source": [
        ""
      ],
      "id": "SwHCG2X0rmhR",
      "execution_count": 190,
      "outputs": []
    },
    {
      "cell_type": "code",
      "metadata": {
        "id": "krSBoczTuaVd"
      },
      "source": [
        ""
      ],
      "id": "krSBoczTuaVd",
      "execution_count": 190,
      "outputs": []
    },
    {
      "cell_type": "code",
      "metadata": {
        "execution": {
          "iopub.execute_input": "2021-06-25T22:19:09.441422Z",
          "iopub.status.busy": "2021-06-25T22:19:09.438428Z",
          "iopub.status.idle": "2021-06-25T22:19:17.553819Z",
          "shell.execute_reply": "2021-06-25T22:19:17.554566Z",
          "shell.execute_reply.started": "2021-06-25T21:58:48.179255Z"
        },
        "papermill": {
          "duration": 8.158299,
          "end_time": "2021-06-25T22:19:17.555101",
          "exception": false,
          "start_time": "2021-06-25T22:19:09.396802",
          "status": "completed"
        },
        "tags": [],
        "id": "negative-offset",
        "colab": {
          "base_uri": "https://localhost:8080/"
        },
        "outputId": "fda32291-7150-4000-ec48-d67edd19309d"
      },
      "source": [
        "\n",
        "train_y = train[['target1', 'target2', 'target3', 'target4']]\n",
        "\n",
        "\n",
        "_index = (train['date'] < 20210401)\n",
        "gc.collect()\n",
        "\n",
        "\n",
        "x_train = train.loc[_index].reset_index(drop=True)\n",
        "y_train = train_y.loc[_index].reset_index(drop=True)\n",
        "x_valid = train.loc[~_index].reset_index(drop=True)\n",
        "y_valid = train_y.loc[~_index].reset_index(drop=True)\n",
        "\n",
        "\n",
        "\n",
        "gc.collect()"
      ],
      "id": "negative-offset",
      "execution_count": 191,
      "outputs": [
        {
          "output_type": "execute_result",
          "data": {
            "text/plain": [
              "0"
            ]
          },
          "metadata": {
            "tags": []
          },
          "execution_count": 191
        }
      ]
    },
    {
      "cell_type": "code",
      "metadata": {
        "colab": {
          "base_uri": "https://localhost:8080/",
          "height": 609
        },
        "id": "1bOsn97CzD8q",
        "outputId": "d3b99495-4a44-42b8-da07-123878b89076"
      },
      "source": [
        "train"
      ],
      "id": "1bOsn97CzD8q",
      "execution_count": 192,
      "outputs": [
        {
          "output_type": "execute_result",
          "data": {
            "text/html": [
              "<div>\n",
              "<style scoped>\n",
              "    .dataframe tbody tr th:only-of-type {\n",
              "        vertical-align: middle;\n",
              "    }\n",
              "\n",
              "    .dataframe tbody tr th {\n",
              "        vertical-align: top;\n",
              "    }\n",
              "\n",
              "    .dataframe thead th {\n",
              "        text-align: right;\n",
              "    }\n",
              "</style>\n",
              "<table border=\"1\" class=\"dataframe\">\n",
              "  <thead>\n",
              "    <tr style=\"text-align: right;\">\n",
              "      <th></th>\n",
              "      <th>playerId</th>\n",
              "      <th>target1</th>\n",
              "      <th>target2</th>\n",
              "      <th>target3</th>\n",
              "      <th>target4</th>\n",
              "      <th>date</th>\n",
              "      <th>primaryPositionName</th>\n",
              "      <th>playerName</th>\n",
              "      <th>teamId</th>\n",
              "      <th>status</th>\n",
              "      <th>battingOrder</th>\n",
              "      <th>gamesPlayedBatting</th>\n",
              "      <th>flyOuts</th>\n",
              "      <th>groundOuts</th>\n",
              "      <th>runsScored</th>\n",
              "      <th>doubles</th>\n",
              "      <th>triples</th>\n",
              "      <th>homeRuns</th>\n",
              "      <th>strikeOuts</th>\n",
              "      <th>baseOnBalls</th>\n",
              "      <th>intentionalWalks</th>\n",
              "      <th>hits</th>\n",
              "      <th>hitByPitch</th>\n",
              "      <th>atBats</th>\n",
              "      <th>caughtStealing</th>\n",
              "      <th>stolenBases</th>\n",
              "      <th>groundIntoDoublePlay</th>\n",
              "      <th>groundIntoTriplePlay</th>\n",
              "      <th>plateAppearances</th>\n",
              "      <th>totalBases</th>\n",
              "      <th>rbi</th>\n",
              "      <th>leftOnBase</th>\n",
              "      <th>sacBunts</th>\n",
              "      <th>sacFlies</th>\n",
              "      <th>catchersInterference</th>\n",
              "      <th>pickoffs</th>\n",
              "      <th>gamesPlayedPitching</th>\n",
              "      <th>gamesStartedPitching</th>\n",
              "      <th>completeGamesPitching</th>\n",
              "      <th>shutoutsPitching</th>\n",
              "      <th>...</th>\n",
              "      <th>target1_std</th>\n",
              "      <th>target1_min</th>\n",
              "      <th>target1_max</th>\n",
              "      <th>target1_prob</th>\n",
              "      <th>target2_mean</th>\n",
              "      <th>target2_median</th>\n",
              "      <th>target2_std</th>\n",
              "      <th>target2_min</th>\n",
              "      <th>target2_max</th>\n",
              "      <th>target2_prob</th>\n",
              "      <th>target3_mean</th>\n",
              "      <th>target3_median</th>\n",
              "      <th>target3_std</th>\n",
              "      <th>target3_min</th>\n",
              "      <th>target3_max</th>\n",
              "      <th>target3_prob</th>\n",
              "      <th>target4_mean</th>\n",
              "      <th>target4_median</th>\n",
              "      <th>target4_std</th>\n",
              "      <th>target4_min</th>\n",
              "      <th>target4_max</th>\n",
              "      <th>target4_prob</th>\n",
              "      <th>strdate</th>\n",
              "      <th>year_months</th>\n",
              "      <th>numberOfFollowers</th>\n",
              "      <th>teamnumberOfFollowers</th>\n",
              "      <th>stryear</th>\n",
              "      <th>year</th>\n",
              "      <th>month</th>\n",
              "      <th>nullc</th>\n",
              "      <th>ongame</th>\n",
              "      <th>label_playerId</th>\n",
              "      <th>label_primaryPositionName</th>\n",
              "      <th>label_teamId</th>\n",
              "      <th>label_status</th>\n",
              "      <th>label_daynight</th>\n",
              "      <th>label_seriesDescription</th>\n",
              "      <th>preseasonhits</th>\n",
              "      <th>preseasonpt</th>\n",
              "      <th>hitpergame</th>\n",
              "    </tr>\n",
              "  </thead>\n",
              "  <tbody>\n",
              "    <tr>\n",
              "      <th>0</th>\n",
              "      <td>628317</td>\n",
              "      <td>0.011167</td>\n",
              "      <td>4.474708</td>\n",
              "      <td>0.005168</td>\n",
              "      <td>5.735294</td>\n",
              "      <td>20180101</td>\n",
              "      <td>Pitcher</td>\n",
              "      <td>Kenta Maeda</td>\n",
              "      <td>119.0</td>\n",
              "      <td>Active</td>\n",
              "      <td>NaN</td>\n",
              "      <td>NaN</td>\n",
              "      <td>NaN</td>\n",
              "      <td>NaN</td>\n",
              "      <td>NaN</td>\n",
              "      <td>NaN</td>\n",
              "      <td>NaN</td>\n",
              "      <td>NaN</td>\n",
              "      <td>NaN</td>\n",
              "      <td>NaN</td>\n",
              "      <td>NaN</td>\n",
              "      <td>NaN</td>\n",
              "      <td>NaN</td>\n",
              "      <td>NaN</td>\n",
              "      <td>NaN</td>\n",
              "      <td>NaN</td>\n",
              "      <td>NaN</td>\n",
              "      <td>NaN</td>\n",
              "      <td>NaN</td>\n",
              "      <td>NaN</td>\n",
              "      <td>NaN</td>\n",
              "      <td>NaN</td>\n",
              "      <td>NaN</td>\n",
              "      <td>NaN</td>\n",
              "      <td>NaN</td>\n",
              "      <td>NaN</td>\n",
              "      <td>NaN</td>\n",
              "      <td>NaN</td>\n",
              "      <td>NaN</td>\n",
              "      <td>NaN</td>\n",
              "      <td>...</td>\n",
              "      <td>1.372738</td>\n",
              "      <td>0.003102</td>\n",
              "      <td>7.193825</td>\n",
              "      <td>0.038621</td>\n",
              "      <td>7.595162</td>\n",
              "      <td>3.207558</td>\n",
              "      <td>11.575222</td>\n",
              "      <td>0.793096</td>\n",
              "      <td>49.982843</td>\n",
              "      <td>5.240148</td>\n",
              "      <td>0.369429</td>\n",
              "      <td>0.130267</td>\n",
              "      <td>0.733202</td>\n",
              "      <td>0.018696</td>\n",
              "      <td>3.236853</td>\n",
              "      <td>0.244629</td>\n",
              "      <td>2.997316</td>\n",
              "      <td>2.331033</td>\n",
              "      <td>2.187388</td>\n",
              "      <td>0.597849</td>\n",
              "      <td>9.648069</td>\n",
              "      <td>3.094059</td>\n",
              "      <td>20180101</td>\n",
              "      <td>201801</td>\n",
              "      <td>163952.357143</td>\n",
              "      <td>2137878.1</td>\n",
              "      <td>20180101</td>\n",
              "      <td>2018</td>\n",
              "      <td>1</td>\n",
              "      <td>90</td>\n",
              "      <td>0</td>\n",
              "      <td>0</td>\n",
              "      <td>0</td>\n",
              "      <td>0</td>\n",
              "      <td>0</td>\n",
              "      <td>0</td>\n",
              "      <td>0</td>\n",
              "      <td>NaN</td>\n",
              "      <td>NaN</td>\n",
              "      <td>NaN</td>\n",
              "    </tr>\n",
              "    <tr>\n",
              "      <th>1</th>\n",
              "      <td>628317</td>\n",
              "      <td>0.006356</td>\n",
              "      <td>2.521008</td>\n",
              "      <td>0.001648</td>\n",
              "      <td>2.766917</td>\n",
              "      <td>20180102</td>\n",
              "      <td>Pitcher</td>\n",
              "      <td>Kenta Maeda</td>\n",
              "      <td>119.0</td>\n",
              "      <td>Active</td>\n",
              "      <td>NaN</td>\n",
              "      <td>NaN</td>\n",
              "      <td>NaN</td>\n",
              "      <td>NaN</td>\n",
              "      <td>NaN</td>\n",
              "      <td>NaN</td>\n",
              "      <td>NaN</td>\n",
              "      <td>NaN</td>\n",
              "      <td>NaN</td>\n",
              "      <td>NaN</td>\n",
              "      <td>NaN</td>\n",
              "      <td>NaN</td>\n",
              "      <td>NaN</td>\n",
              "      <td>NaN</td>\n",
              "      <td>NaN</td>\n",
              "      <td>NaN</td>\n",
              "      <td>NaN</td>\n",
              "      <td>NaN</td>\n",
              "      <td>NaN</td>\n",
              "      <td>NaN</td>\n",
              "      <td>NaN</td>\n",
              "      <td>NaN</td>\n",
              "      <td>NaN</td>\n",
              "      <td>NaN</td>\n",
              "      <td>NaN</td>\n",
              "      <td>NaN</td>\n",
              "      <td>NaN</td>\n",
              "      <td>NaN</td>\n",
              "      <td>NaN</td>\n",
              "      <td>NaN</td>\n",
              "      <td>...</td>\n",
              "      <td>1.372738</td>\n",
              "      <td>0.003102</td>\n",
              "      <td>7.193825</td>\n",
              "      <td>0.038621</td>\n",
              "      <td>7.595162</td>\n",
              "      <td>3.207558</td>\n",
              "      <td>11.575222</td>\n",
              "      <td>0.793096</td>\n",
              "      <td>49.982843</td>\n",
              "      <td>5.240148</td>\n",
              "      <td>0.369429</td>\n",
              "      <td>0.130267</td>\n",
              "      <td>0.733202</td>\n",
              "      <td>0.018696</td>\n",
              "      <td>3.236853</td>\n",
              "      <td>0.244629</td>\n",
              "      <td>2.997316</td>\n",
              "      <td>2.331033</td>\n",
              "      <td>2.187388</td>\n",
              "      <td>0.597849</td>\n",
              "      <td>9.648069</td>\n",
              "      <td>3.094059</td>\n",
              "      <td>20180102</td>\n",
              "      <td>201801</td>\n",
              "      <td>163952.357143</td>\n",
              "      <td>2137878.1</td>\n",
              "      <td>20180102</td>\n",
              "      <td>2018</td>\n",
              "      <td>1</td>\n",
              "      <td>90</td>\n",
              "      <td>0</td>\n",
              "      <td>0</td>\n",
              "      <td>0</td>\n",
              "      <td>0</td>\n",
              "      <td>0</td>\n",
              "      <td>0</td>\n",
              "      <td>0</td>\n",
              "      <td>NaN</td>\n",
              "      <td>NaN</td>\n",
              "      <td>NaN</td>\n",
              "    </tr>\n",
              "    <tr>\n",
              "      <th>2</th>\n",
              "      <td>628317</td>\n",
              "      <td>0.003556</td>\n",
              "      <td>2.380952</td>\n",
              "      <td>0.003624</td>\n",
              "      <td>3.439381</td>\n",
              "      <td>20180103</td>\n",
              "      <td>Pitcher</td>\n",
              "      <td>Kenta Maeda</td>\n",
              "      <td>119.0</td>\n",
              "      <td>Active</td>\n",
              "      <td>NaN</td>\n",
              "      <td>NaN</td>\n",
              "      <td>NaN</td>\n",
              "      <td>NaN</td>\n",
              "      <td>NaN</td>\n",
              "      <td>NaN</td>\n",
              "      <td>NaN</td>\n",
              "      <td>NaN</td>\n",
              "      <td>NaN</td>\n",
              "      <td>NaN</td>\n",
              "      <td>NaN</td>\n",
              "      <td>NaN</td>\n",
              "      <td>NaN</td>\n",
              "      <td>NaN</td>\n",
              "      <td>NaN</td>\n",
              "      <td>NaN</td>\n",
              "      <td>NaN</td>\n",
              "      <td>NaN</td>\n",
              "      <td>NaN</td>\n",
              "      <td>NaN</td>\n",
              "      <td>NaN</td>\n",
              "      <td>NaN</td>\n",
              "      <td>NaN</td>\n",
              "      <td>NaN</td>\n",
              "      <td>NaN</td>\n",
              "      <td>NaN</td>\n",
              "      <td>NaN</td>\n",
              "      <td>NaN</td>\n",
              "      <td>NaN</td>\n",
              "      <td>NaN</td>\n",
              "      <td>...</td>\n",
              "      <td>1.372738</td>\n",
              "      <td>0.003102</td>\n",
              "      <td>7.193825</td>\n",
              "      <td>0.038621</td>\n",
              "      <td>7.595162</td>\n",
              "      <td>3.207558</td>\n",
              "      <td>11.575222</td>\n",
              "      <td>0.793096</td>\n",
              "      <td>49.982843</td>\n",
              "      <td>5.240148</td>\n",
              "      <td>0.369429</td>\n",
              "      <td>0.130267</td>\n",
              "      <td>0.733202</td>\n",
              "      <td>0.018696</td>\n",
              "      <td>3.236853</td>\n",
              "      <td>0.244629</td>\n",
              "      <td>2.997316</td>\n",
              "      <td>2.331033</td>\n",
              "      <td>2.187388</td>\n",
              "      <td>0.597849</td>\n",
              "      <td>9.648069</td>\n",
              "      <td>3.094059</td>\n",
              "      <td>20180103</td>\n",
              "      <td>201801</td>\n",
              "      <td>163952.357143</td>\n",
              "      <td>2137878.1</td>\n",
              "      <td>20180103</td>\n",
              "      <td>2018</td>\n",
              "      <td>1</td>\n",
              "      <td>90</td>\n",
              "      <td>0</td>\n",
              "      <td>0</td>\n",
              "      <td>0</td>\n",
              "      <td>0</td>\n",
              "      <td>0</td>\n",
              "      <td>0</td>\n",
              "      <td>0</td>\n",
              "      <td>NaN</td>\n",
              "      <td>NaN</td>\n",
              "      <td>NaN</td>\n",
              "    </tr>\n",
              "    <tr>\n",
              "      <th>3</th>\n",
              "      <td>628317</td>\n",
              "      <td>0.003363</td>\n",
              "      <td>3.332367</td>\n",
              "      <td>0.012294</td>\n",
              "      <td>4.849601</td>\n",
              "      <td>20180104</td>\n",
              "      <td>Pitcher</td>\n",
              "      <td>Kenta Maeda</td>\n",
              "      <td>119.0</td>\n",
              "      <td>Active</td>\n",
              "      <td>NaN</td>\n",
              "      <td>NaN</td>\n",
              "      <td>NaN</td>\n",
              "      <td>NaN</td>\n",
              "      <td>NaN</td>\n",
              "      <td>NaN</td>\n",
              "      <td>NaN</td>\n",
              "      <td>NaN</td>\n",
              "      <td>NaN</td>\n",
              "      <td>NaN</td>\n",
              "      <td>NaN</td>\n",
              "      <td>NaN</td>\n",
              "      <td>NaN</td>\n",
              "      <td>NaN</td>\n",
              "      <td>NaN</td>\n",
              "      <td>NaN</td>\n",
              "      <td>NaN</td>\n",
              "      <td>NaN</td>\n",
              "      <td>NaN</td>\n",
              "      <td>NaN</td>\n",
              "      <td>NaN</td>\n",
              "      <td>NaN</td>\n",
              "      <td>NaN</td>\n",
              "      <td>NaN</td>\n",
              "      <td>NaN</td>\n",
              "      <td>NaN</td>\n",
              "      <td>NaN</td>\n",
              "      <td>NaN</td>\n",
              "      <td>NaN</td>\n",
              "      <td>NaN</td>\n",
              "      <td>...</td>\n",
              "      <td>1.372738</td>\n",
              "      <td>0.003102</td>\n",
              "      <td>7.193825</td>\n",
              "      <td>0.038621</td>\n",
              "      <td>7.595162</td>\n",
              "      <td>3.207558</td>\n",
              "      <td>11.575222</td>\n",
              "      <td>0.793096</td>\n",
              "      <td>49.982843</td>\n",
              "      <td>5.240148</td>\n",
              "      <td>0.369429</td>\n",
              "      <td>0.130267</td>\n",
              "      <td>0.733202</td>\n",
              "      <td>0.018696</td>\n",
              "      <td>3.236853</td>\n",
              "      <td>0.244629</td>\n",
              "      <td>2.997316</td>\n",
              "      <td>2.331033</td>\n",
              "      <td>2.187388</td>\n",
              "      <td>0.597849</td>\n",
              "      <td>9.648069</td>\n",
              "      <td>3.094059</td>\n",
              "      <td>20180104</td>\n",
              "      <td>201801</td>\n",
              "      <td>163952.357143</td>\n",
              "      <td>2137878.1</td>\n",
              "      <td>20180104</td>\n",
              "      <td>2018</td>\n",
              "      <td>1</td>\n",
              "      <td>90</td>\n",
              "      <td>0</td>\n",
              "      <td>0</td>\n",
              "      <td>0</td>\n",
              "      <td>0</td>\n",
              "      <td>0</td>\n",
              "      <td>0</td>\n",
              "      <td>0</td>\n",
              "      <td>NaN</td>\n",
              "      <td>NaN</td>\n",
              "      <td>NaN</td>\n",
              "    </tr>\n",
              "    <tr>\n",
              "      <th>4</th>\n",
              "      <td>628317</td>\n",
              "      <td>0.023976</td>\n",
              "      <td>1.440761</td>\n",
              "      <td>0.001501</td>\n",
              "      <td>2.371288</td>\n",
              "      <td>20180105</td>\n",
              "      <td>Pitcher</td>\n",
              "      <td>Kenta Maeda</td>\n",
              "      <td>119.0</td>\n",
              "      <td>Active</td>\n",
              "      <td>NaN</td>\n",
              "      <td>NaN</td>\n",
              "      <td>NaN</td>\n",
              "      <td>NaN</td>\n",
              "      <td>NaN</td>\n",
              "      <td>NaN</td>\n",
              "      <td>NaN</td>\n",
              "      <td>NaN</td>\n",
              "      <td>NaN</td>\n",
              "      <td>NaN</td>\n",
              "      <td>NaN</td>\n",
              "      <td>NaN</td>\n",
              "      <td>NaN</td>\n",
              "      <td>NaN</td>\n",
              "      <td>NaN</td>\n",
              "      <td>NaN</td>\n",
              "      <td>NaN</td>\n",
              "      <td>NaN</td>\n",
              "      <td>NaN</td>\n",
              "      <td>NaN</td>\n",
              "      <td>NaN</td>\n",
              "      <td>NaN</td>\n",
              "      <td>NaN</td>\n",
              "      <td>NaN</td>\n",
              "      <td>NaN</td>\n",
              "      <td>NaN</td>\n",
              "      <td>NaN</td>\n",
              "      <td>NaN</td>\n",
              "      <td>NaN</td>\n",
              "      <td>NaN</td>\n",
              "      <td>...</td>\n",
              "      <td>1.372738</td>\n",
              "      <td>0.003102</td>\n",
              "      <td>7.193825</td>\n",
              "      <td>0.038621</td>\n",
              "      <td>7.595162</td>\n",
              "      <td>3.207558</td>\n",
              "      <td>11.575222</td>\n",
              "      <td>0.793096</td>\n",
              "      <td>49.982843</td>\n",
              "      <td>5.240148</td>\n",
              "      <td>0.369429</td>\n",
              "      <td>0.130267</td>\n",
              "      <td>0.733202</td>\n",
              "      <td>0.018696</td>\n",
              "      <td>3.236853</td>\n",
              "      <td>0.244629</td>\n",
              "      <td>2.997316</td>\n",
              "      <td>2.331033</td>\n",
              "      <td>2.187388</td>\n",
              "      <td>0.597849</td>\n",
              "      <td>9.648069</td>\n",
              "      <td>3.094059</td>\n",
              "      <td>20180105</td>\n",
              "      <td>201801</td>\n",
              "      <td>163952.357143</td>\n",
              "      <td>2137878.1</td>\n",
              "      <td>20180105</td>\n",
              "      <td>2018</td>\n",
              "      <td>1</td>\n",
              "      <td>90</td>\n",
              "      <td>0</td>\n",
              "      <td>0</td>\n",
              "      <td>0</td>\n",
              "      <td>0</td>\n",
              "      <td>0</td>\n",
              "      <td>0</td>\n",
              "      <td>0</td>\n",
              "      <td>NaN</td>\n",
              "      <td>NaN</td>\n",
              "      <td>NaN</td>\n",
              "    </tr>\n",
              "    <tr>\n",
              "      <th>...</th>\n",
              "      <td>...</td>\n",
              "      <td>...</td>\n",
              "      <td>...</td>\n",
              "      <td>...</td>\n",
              "      <td>...</td>\n",
              "      <td>...</td>\n",
              "      <td>...</td>\n",
              "      <td>...</td>\n",
              "      <td>...</td>\n",
              "      <td>...</td>\n",
              "      <td>...</td>\n",
              "      <td>...</td>\n",
              "      <td>...</td>\n",
              "      <td>...</td>\n",
              "      <td>...</td>\n",
              "      <td>...</td>\n",
              "      <td>...</td>\n",
              "      <td>...</td>\n",
              "      <td>...</td>\n",
              "      <td>...</td>\n",
              "      <td>...</td>\n",
              "      <td>...</td>\n",
              "      <td>...</td>\n",
              "      <td>...</td>\n",
              "      <td>...</td>\n",
              "      <td>...</td>\n",
              "      <td>...</td>\n",
              "      <td>...</td>\n",
              "      <td>...</td>\n",
              "      <td>...</td>\n",
              "      <td>...</td>\n",
              "      <td>...</td>\n",
              "      <td>...</td>\n",
              "      <td>...</td>\n",
              "      <td>...</td>\n",
              "      <td>...</td>\n",
              "      <td>...</td>\n",
              "      <td>...</td>\n",
              "      <td>...</td>\n",
              "      <td>...</td>\n",
              "      <td>...</td>\n",
              "      <td>...</td>\n",
              "      <td>...</td>\n",
              "      <td>...</td>\n",
              "      <td>...</td>\n",
              "      <td>...</td>\n",
              "      <td>...</td>\n",
              "      <td>...</td>\n",
              "      <td>...</td>\n",
              "      <td>...</td>\n",
              "      <td>...</td>\n",
              "      <td>...</td>\n",
              "      <td>...</td>\n",
              "      <td>...</td>\n",
              "      <td>...</td>\n",
              "      <td>...</td>\n",
              "      <td>...</td>\n",
              "      <td>...</td>\n",
              "      <td>...</td>\n",
              "      <td>...</td>\n",
              "      <td>...</td>\n",
              "      <td>...</td>\n",
              "      <td>...</td>\n",
              "      <td>...</td>\n",
              "      <td>...</td>\n",
              "      <td>...</td>\n",
              "      <td>...</td>\n",
              "      <td>...</td>\n",
              "      <td>...</td>\n",
              "      <td>...</td>\n",
              "      <td>...</td>\n",
              "      <td>...</td>\n",
              "      <td>...</td>\n",
              "      <td>...</td>\n",
              "      <td>...</td>\n",
              "      <td>...</td>\n",
              "      <td>...</td>\n",
              "      <td>...</td>\n",
              "      <td>...</td>\n",
              "      <td>...</td>\n",
              "      <td>...</td>\n",
              "    </tr>\n",
              "    <tr>\n",
              "      <th>61835</th>\n",
              "      <td>656775</td>\n",
              "      <td>16.920553</td>\n",
              "      <td>13.339693</td>\n",
              "      <td>5.035756</td>\n",
              "      <td>4.136498</td>\n",
              "      <td>20210426</td>\n",
              "      <td>Outfielder</td>\n",
              "      <td>Cedric Mullins</td>\n",
              "      <td>110.0</td>\n",
              "      <td>Active</td>\n",
              "      <td>100.0</td>\n",
              "      <td>1.0</td>\n",
              "      <td>1.0</td>\n",
              "      <td>0.0</td>\n",
              "      <td>2.0</td>\n",
              "      <td>1.0</td>\n",
              "      <td>0.0</td>\n",
              "      <td>2.0</td>\n",
              "      <td>0.0</td>\n",
              "      <td>0.0</td>\n",
              "      <td>0.0</td>\n",
              "      <td>3.0</td>\n",
              "      <td>0.0</td>\n",
              "      <td>4.0</td>\n",
              "      <td>0.0</td>\n",
              "      <td>0.0</td>\n",
              "      <td>0.0</td>\n",
              "      <td>0.0</td>\n",
              "      <td>4.0</td>\n",
              "      <td>10.0</td>\n",
              "      <td>2.0</td>\n",
              "      <td>0.0</td>\n",
              "      <td>0.0</td>\n",
              "      <td>0.0</td>\n",
              "      <td>0.0</td>\n",
              "      <td>0.0</td>\n",
              "      <td>0.0</td>\n",
              "      <td>0.0</td>\n",
              "      <td>0.0</td>\n",
              "      <td>0.0</td>\n",
              "      <td>...</td>\n",
              "      <td>8.189448</td>\n",
              "      <td>0.001855</td>\n",
              "      <td>43.288911</td>\n",
              "      <td>1.447754</td>\n",
              "      <td>9.850177</td>\n",
              "      <td>8.171621</td>\n",
              "      <td>6.465414</td>\n",
              "      <td>1.317686</td>\n",
              "      <td>26.322296</td>\n",
              "      <td>8.339773</td>\n",
              "      <td>1.634240</td>\n",
              "      <td>0.093914</td>\n",
              "      <td>3.148632</td>\n",
              "      <td>0.002389</td>\n",
              "      <td>11.281962</td>\n",
              "      <td>0.035505</td>\n",
              "      <td>2.294898</td>\n",
              "      <td>1.479832</td>\n",
              "      <td>2.269158</td>\n",
              "      <td>0.244376</td>\n",
              "      <td>10.180258</td>\n",
              "      <td>1.069359</td>\n",
              "      <td>20210426</td>\n",
              "      <td>202104</td>\n",
              "      <td>4718.468750</td>\n",
              "      <td>785074.3</td>\n",
              "      <td>20210426</td>\n",
              "      <td>2021</td>\n",
              "      <td>4</td>\n",
              "      <td>1</td>\n",
              "      <td>1</td>\n",
              "      <td>2060</td>\n",
              "      <td>3</td>\n",
              "      <td>20</td>\n",
              "      <td>0</td>\n",
              "      <td>1</td>\n",
              "      <td>1</td>\n",
              "      <td>38.0</td>\n",
              "      <td>46.0</td>\n",
              "      <td>0.826087</td>\n",
              "    </tr>\n",
              "    <tr>\n",
              "      <th>61836</th>\n",
              "      <td>656775</td>\n",
              "      <td>1.779862</td>\n",
              "      <td>8.035688</td>\n",
              "      <td>0.287214</td>\n",
              "      <td>2.361922</td>\n",
              "      <td>20210427</td>\n",
              "      <td>Outfielder</td>\n",
              "      <td>Cedric Mullins</td>\n",
              "      <td>110.0</td>\n",
              "      <td>Active</td>\n",
              "      <td>100.0</td>\n",
              "      <td>1.0</td>\n",
              "      <td>0.0</td>\n",
              "      <td>1.0</td>\n",
              "      <td>0.0</td>\n",
              "      <td>0.0</td>\n",
              "      <td>0.0</td>\n",
              "      <td>0.0</td>\n",
              "      <td>1.0</td>\n",
              "      <td>0.0</td>\n",
              "      <td>0.0</td>\n",
              "      <td>1.0</td>\n",
              "      <td>0.0</td>\n",
              "      <td>5.0</td>\n",
              "      <td>0.0</td>\n",
              "      <td>0.0</td>\n",
              "      <td>0.0</td>\n",
              "      <td>0.0</td>\n",
              "      <td>5.0</td>\n",
              "      <td>1.0</td>\n",
              "      <td>0.0</td>\n",
              "      <td>1.0</td>\n",
              "      <td>0.0</td>\n",
              "      <td>0.0</td>\n",
              "      <td>0.0</td>\n",
              "      <td>0.0</td>\n",
              "      <td>0.0</td>\n",
              "      <td>0.0</td>\n",
              "      <td>0.0</td>\n",
              "      <td>0.0</td>\n",
              "      <td>...</td>\n",
              "      <td>8.189448</td>\n",
              "      <td>0.001855</td>\n",
              "      <td>43.288911</td>\n",
              "      <td>1.447754</td>\n",
              "      <td>9.850177</td>\n",
              "      <td>8.171621</td>\n",
              "      <td>6.465414</td>\n",
              "      <td>1.317686</td>\n",
              "      <td>26.322296</td>\n",
              "      <td>8.339773</td>\n",
              "      <td>1.634240</td>\n",
              "      <td>0.093914</td>\n",
              "      <td>3.148632</td>\n",
              "      <td>0.002389</td>\n",
              "      <td>11.281962</td>\n",
              "      <td>0.035505</td>\n",
              "      <td>2.294898</td>\n",
              "      <td>1.479832</td>\n",
              "      <td>2.269158</td>\n",
              "      <td>0.244376</td>\n",
              "      <td>10.180258</td>\n",
              "      <td>1.069359</td>\n",
              "      <td>20210427</td>\n",
              "      <td>202104</td>\n",
              "      <td>4718.468750</td>\n",
              "      <td>785074.3</td>\n",
              "      <td>20210427</td>\n",
              "      <td>2021</td>\n",
              "      <td>4</td>\n",
              "      <td>1</td>\n",
              "      <td>1</td>\n",
              "      <td>2060</td>\n",
              "      <td>3</td>\n",
              "      <td>20</td>\n",
              "      <td>0</td>\n",
              "      <td>1</td>\n",
              "      <td>1</td>\n",
              "      <td>38.0</td>\n",
              "      <td>46.0</td>\n",
              "      <td>0.826087</td>\n",
              "    </tr>\n",
              "    <tr>\n",
              "      <th>61837</th>\n",
              "      <td>656775</td>\n",
              "      <td>12.440696</td>\n",
              "      <td>17.293955</td>\n",
              "      <td>11.027232</td>\n",
              "      <td>4.128819</td>\n",
              "      <td>20210428</td>\n",
              "      <td>Outfielder</td>\n",
              "      <td>Cedric Mullins</td>\n",
              "      <td>110.0</td>\n",
              "      <td>Active</td>\n",
              "      <td>100.0</td>\n",
              "      <td>1.0</td>\n",
              "      <td>1.0</td>\n",
              "      <td>2.0</td>\n",
              "      <td>0.0</td>\n",
              "      <td>0.0</td>\n",
              "      <td>0.0</td>\n",
              "      <td>0.0</td>\n",
              "      <td>0.0</td>\n",
              "      <td>0.0</td>\n",
              "      <td>0.0</td>\n",
              "      <td>0.0</td>\n",
              "      <td>0.0</td>\n",
              "      <td>4.0</td>\n",
              "      <td>0.0</td>\n",
              "      <td>0.0</td>\n",
              "      <td>0.0</td>\n",
              "      <td>0.0</td>\n",
              "      <td>4.0</td>\n",
              "      <td>0.0</td>\n",
              "      <td>0.0</td>\n",
              "      <td>0.0</td>\n",
              "      <td>0.0</td>\n",
              "      <td>0.0</td>\n",
              "      <td>0.0</td>\n",
              "      <td>0.0</td>\n",
              "      <td>0.0</td>\n",
              "      <td>0.0</td>\n",
              "      <td>0.0</td>\n",
              "      <td>0.0</td>\n",
              "      <td>...</td>\n",
              "      <td>8.189448</td>\n",
              "      <td>0.001855</td>\n",
              "      <td>43.288911</td>\n",
              "      <td>1.447754</td>\n",
              "      <td>9.850177</td>\n",
              "      <td>8.171621</td>\n",
              "      <td>6.465414</td>\n",
              "      <td>1.317686</td>\n",
              "      <td>26.322296</td>\n",
              "      <td>8.339773</td>\n",
              "      <td>1.634240</td>\n",
              "      <td>0.093914</td>\n",
              "      <td>3.148632</td>\n",
              "      <td>0.002389</td>\n",
              "      <td>11.281962</td>\n",
              "      <td>0.035505</td>\n",
              "      <td>2.294898</td>\n",
              "      <td>1.479832</td>\n",
              "      <td>2.269158</td>\n",
              "      <td>0.244376</td>\n",
              "      <td>10.180258</td>\n",
              "      <td>1.069359</td>\n",
              "      <td>20210428</td>\n",
              "      <td>202104</td>\n",
              "      <td>4718.468750</td>\n",
              "      <td>785074.3</td>\n",
              "      <td>20210428</td>\n",
              "      <td>2021</td>\n",
              "      <td>4</td>\n",
              "      <td>1</td>\n",
              "      <td>1</td>\n",
              "      <td>2060</td>\n",
              "      <td>3</td>\n",
              "      <td>20</td>\n",
              "      <td>0</td>\n",
              "      <td>1</td>\n",
              "      <td>1</td>\n",
              "      <td>38.0</td>\n",
              "      <td>46.0</td>\n",
              "      <td>0.826087</td>\n",
              "    </tr>\n",
              "    <tr>\n",
              "      <th>61838</th>\n",
              "      <td>656775</td>\n",
              "      <td>10.765473</td>\n",
              "      <td>9.599092</td>\n",
              "      <td>7.968079</td>\n",
              "      <td>2.995182</td>\n",
              "      <td>20210429</td>\n",
              "      <td>Outfielder</td>\n",
              "      <td>Cedric Mullins</td>\n",
              "      <td>110.0</td>\n",
              "      <td>Active</td>\n",
              "      <td>100.0</td>\n",
              "      <td>1.0</td>\n",
              "      <td>1.0</td>\n",
              "      <td>0.0</td>\n",
              "      <td>2.0</td>\n",
              "      <td>0.0</td>\n",
              "      <td>0.0</td>\n",
              "      <td>0.0</td>\n",
              "      <td>1.0</td>\n",
              "      <td>1.0</td>\n",
              "      <td>0.0</td>\n",
              "      <td>1.0</td>\n",
              "      <td>0.0</td>\n",
              "      <td>3.0</td>\n",
              "      <td>0.0</td>\n",
              "      <td>0.0</td>\n",
              "      <td>0.0</td>\n",
              "      <td>0.0</td>\n",
              "      <td>5.0</td>\n",
              "      <td>1.0</td>\n",
              "      <td>1.0</td>\n",
              "      <td>0.0</td>\n",
              "      <td>0.0</td>\n",
              "      <td>1.0</td>\n",
              "      <td>0.0</td>\n",
              "      <td>0.0</td>\n",
              "      <td>0.0</td>\n",
              "      <td>0.0</td>\n",
              "      <td>0.0</td>\n",
              "      <td>0.0</td>\n",
              "      <td>...</td>\n",
              "      <td>8.189448</td>\n",
              "      <td>0.001855</td>\n",
              "      <td>43.288911</td>\n",
              "      <td>1.447754</td>\n",
              "      <td>9.850177</td>\n",
              "      <td>8.171621</td>\n",
              "      <td>6.465414</td>\n",
              "      <td>1.317686</td>\n",
              "      <td>26.322296</td>\n",
              "      <td>8.339773</td>\n",
              "      <td>1.634240</td>\n",
              "      <td>0.093914</td>\n",
              "      <td>3.148632</td>\n",
              "      <td>0.002389</td>\n",
              "      <td>11.281962</td>\n",
              "      <td>0.035505</td>\n",
              "      <td>2.294898</td>\n",
              "      <td>1.479832</td>\n",
              "      <td>2.269158</td>\n",
              "      <td>0.244376</td>\n",
              "      <td>10.180258</td>\n",
              "      <td>1.069359</td>\n",
              "      <td>20210429</td>\n",
              "      <td>202104</td>\n",
              "      <td>4718.468750</td>\n",
              "      <td>785074.3</td>\n",
              "      <td>20210429</td>\n",
              "      <td>2021</td>\n",
              "      <td>4</td>\n",
              "      <td>1</td>\n",
              "      <td>1</td>\n",
              "      <td>2060</td>\n",
              "      <td>3</td>\n",
              "      <td>20</td>\n",
              "      <td>0</td>\n",
              "      <td>2</td>\n",
              "      <td>1</td>\n",
              "      <td>38.0</td>\n",
              "      <td>46.0</td>\n",
              "      <td>0.826087</td>\n",
              "    </tr>\n",
              "    <tr>\n",
              "      <th>61839</th>\n",
              "      <td>656775</td>\n",
              "      <td>7.448023</td>\n",
              "      <td>8.171621</td>\n",
              "      <td>0.855258</td>\n",
              "      <td>2.674405</td>\n",
              "      <td>20210430</td>\n",
              "      <td>Outfielder</td>\n",
              "      <td>Cedric Mullins</td>\n",
              "      <td>110.0</td>\n",
              "      <td>Active</td>\n",
              "      <td>100.0</td>\n",
              "      <td>1.0</td>\n",
              "      <td>0.0</td>\n",
              "      <td>1.0</td>\n",
              "      <td>1.0</td>\n",
              "      <td>0.0</td>\n",
              "      <td>0.0</td>\n",
              "      <td>1.0</td>\n",
              "      <td>2.0</td>\n",
              "      <td>0.0</td>\n",
              "      <td>0.0</td>\n",
              "      <td>1.0</td>\n",
              "      <td>0.0</td>\n",
              "      <td>4.0</td>\n",
              "      <td>0.0</td>\n",
              "      <td>0.0</td>\n",
              "      <td>0.0</td>\n",
              "      <td>0.0</td>\n",
              "      <td>4.0</td>\n",
              "      <td>4.0</td>\n",
              "      <td>2.0</td>\n",
              "      <td>1.0</td>\n",
              "      <td>0.0</td>\n",
              "      <td>0.0</td>\n",
              "      <td>0.0</td>\n",
              "      <td>0.0</td>\n",
              "      <td>0.0</td>\n",
              "      <td>0.0</td>\n",
              "      <td>0.0</td>\n",
              "      <td>0.0</td>\n",
              "      <td>...</td>\n",
              "      <td>8.189448</td>\n",
              "      <td>0.001855</td>\n",
              "      <td>43.288911</td>\n",
              "      <td>1.447754</td>\n",
              "      <td>9.850177</td>\n",
              "      <td>8.171621</td>\n",
              "      <td>6.465414</td>\n",
              "      <td>1.317686</td>\n",
              "      <td>26.322296</td>\n",
              "      <td>8.339773</td>\n",
              "      <td>1.634240</td>\n",
              "      <td>0.093914</td>\n",
              "      <td>3.148632</td>\n",
              "      <td>0.002389</td>\n",
              "      <td>11.281962</td>\n",
              "      <td>0.035505</td>\n",
              "      <td>2.294898</td>\n",
              "      <td>1.479832</td>\n",
              "      <td>2.269158</td>\n",
              "      <td>0.244376</td>\n",
              "      <td>10.180258</td>\n",
              "      <td>1.069359</td>\n",
              "      <td>20210430</td>\n",
              "      <td>202104</td>\n",
              "      <td>4718.468750</td>\n",
              "      <td>785074.3</td>\n",
              "      <td>20210430</td>\n",
              "      <td>2021</td>\n",
              "      <td>4</td>\n",
              "      <td>1</td>\n",
              "      <td>1</td>\n",
              "      <td>2060</td>\n",
              "      <td>3</td>\n",
              "      <td>20</td>\n",
              "      <td>0</td>\n",
              "      <td>1</td>\n",
              "      <td>1</td>\n",
              "      <td>38.0</td>\n",
              "      <td>46.0</td>\n",
              "      <td>0.826087</td>\n",
              "    </tr>\n",
              "  </tbody>\n",
              "</table>\n",
              "<p>2508784 rows × 143 columns</p>\n",
              "</div>"
            ],
            "text/plain": [
              "       playerId    target1    target2  ...  preseasonhits  preseasonpt  hitpergame\n",
              "0        628317   0.011167   4.474708  ...            NaN          NaN         NaN\n",
              "1        628317   0.006356   2.521008  ...            NaN          NaN         NaN\n",
              "2        628317   0.003556   2.380952  ...            NaN          NaN         NaN\n",
              "3        628317   0.003363   3.332367  ...            NaN          NaN         NaN\n",
              "4        628317   0.023976   1.440761  ...            NaN          NaN         NaN\n",
              "...         ...        ...        ...  ...            ...          ...         ...\n",
              "61835    656775  16.920553  13.339693  ...           38.0         46.0    0.826087\n",
              "61836    656775   1.779862   8.035688  ...           38.0         46.0    0.826087\n",
              "61837    656775  12.440696  17.293955  ...           38.0         46.0    0.826087\n",
              "61838    656775  10.765473   9.599092  ...           38.0         46.0    0.826087\n",
              "61839    656775   7.448023   8.171621  ...           38.0         46.0    0.826087\n",
              "\n",
              "[2508784 rows x 143 columns]"
            ]
          },
          "metadata": {
            "tags": []
          },
          "execution_count": 192
        }
      ]
    },
    {
      "cell_type": "code",
      "metadata": {
        "execution": {
          "iopub.execute_input": "2021-06-25T22:19:17.614762Z",
          "iopub.status.busy": "2021-06-25T22:19:17.614054Z",
          "iopub.status.idle": "2021-06-25T22:19:17.624743Z",
          "shell.execute_reply": "2021-06-25T22:19:17.625239Z",
          "shell.execute_reply.started": "2021-06-25T21:58:57.444888Z"
        },
        "papermill": {
          "duration": 0.04094,
          "end_time": "2021-06-25T22:19:17.625445",
          "exception": false,
          "start_time": "2021-06-25T22:19:17.584505",
          "status": "completed"
        },
        "tags": [],
        "id": "sticky-stand",
        "colab": {
          "base_uri": "https://localhost:8080/"
        },
        "outputId": "c8815d40-2bbb-48f5-8289-6a187d6eda28"
      },
      "source": [
        "def fit_lgbm(x_train, y_train, x_valid, y_valid, params: dict=None, verbose=100):\n",
        "    oof_pred = np.zeros(len(y_valid), dtype=np.float32)\n",
        "    #model = lgbm.LGBMRegressor(**params)\n",
        "    best_params, tuning_history = {}, []\n",
        "    \n",
        "    lgb_train = lgbm.Dataset(x_train, y_train)\n",
        "    lgb_eval = lgbm.Dataset(x_valid, y_valid, reference=lgb_train)\n",
        "    model = lgbm.train(params, \n",
        "        lgb_train, valid_sets=lgb_eval,  \n",
        "        early_stopping_rounds=100,\n",
        "        num_boost_round=500,\n",
        "        verbose_eval=100,\n",
        "        #verbose=verbose,               \n",
        "        )\n",
        "    oof_pred = model.predict(x_valid)\n",
        "    score = mean_absolute_error(oof_pred, y_valid)\n",
        "    print('mae:', score)\n",
        "    return oof_pred, model, score\n",
        "\n",
        "\n",
        "\n",
        "# training lightgbm\n",
        "\n",
        "\n",
        "params = {\n",
        " 'objective':'mae',\n",
        " 'metric': 'mae',\n",
        " 'reg_alpha': 0.1,\n",
        " 'reg_lambda': 0.1, \n",
        " 'n_estimators': 10000,\n",
        " 'learning_rate': 0.1,\n",
        " 'random_state': 42,\n",
        " \"num_leaves\": 100\n",
        "}\n",
        "\n",
        "\n",
        "oof1, model1, score1 = fit_lgbm(\n",
        "    x_train[feature_cols], y_train['target1'],\n",
        "    x_valid[feature_cols], y_valid['target1'],\n",
        "    params\n",
        ")\n",
        "\n",
        "file = '/content/drive/MyDrive/mlb/script/output/model1.pkl'\n",
        "pickle.dump(model1, open(file, 'wb'))\n",
        "\n",
        "oof2, model2, score2 = fit_lgbm(\n",
        "    x_train[feature_cols2], y_train['target2'],\n",
        "    x_valid[feature_cols2], y_valid['target2'],\n",
        "    params\n",
        ")\n",
        "\n",
        "file = '/content/drive/MyDrive/mlb/script/output/model2.pkl'\n",
        "pickle.dump(model2, open(file, 'wb'))\n",
        "\n",
        "oof3, model3, score3 = fit_lgbm(\n",
        "    x_train[feature_cols3], y_train['target3'],\n",
        "    x_valid[feature_cols3], y_valid['target3'],\n",
        "    params\n",
        ")\n",
        "\n",
        "file = '/content/drive/MyDrive/mlb/script/output/model3.pkl'\n",
        "pickle.dump(model3, open(file, 'wb'))\n",
        "\n",
        "\n",
        "oof4, model4, score4 = fit_lgbm(\n",
        "    x_train[feature_cols4], y_train['target4'],\n",
        "    x_valid[feature_cols4], y_valid['target4'],\n",
        "    params\n",
        ")\n",
        "\n",
        "\n",
        "file = '/content/drive/MyDrive/mlb/script/output/model4.pkl'\n",
        "pickle.dump(model4, open(file, 'wb'))\n",
        "score = (score1+score2+score3+score4) / 4\n",
        "print(f'score: {score}')\n"
      ],
      "id": "sticky-stand",
      "execution_count": 193,
      "outputs": [
        {
          "output_type": "stream",
          "text": [
            "\u001b[32m[I 2021-07-07 20:17:17,955]\u001b[0m A new study created in memory with name: no-name-8057c8fc-1a69-4eb4-ad52-d52ce2be7616\u001b[0m\n",
            "\n",
            "\n",
            "  0%|          | 0/7 [00:00<?, ?it/s]\u001b[A\u001b[A\n",
            "\n",
            "feature_fraction, val_score: inf:   0%|          | 0/7 [00:00<?, ?it/s]\u001b[A\u001b[A/usr/local/lib/python3.7/dist-packages/lightgbm/engine.py:118: UserWarning:\n",
            "\n",
            "Found `n_estimators` in params. Will use it instead of argument\n",
            "\n"
          ],
          "name": "stderr"
        },
        {
          "output_type": "stream",
          "text": [
            "Training until validation scores don't improve for 100 rounds.\n",
            "[100]\tvalid_0's l1: 0.708775\n"
          ],
          "name": "stdout"
        },
        {
          "output_type": "stream",
          "text": [
            "\n",
            "\n",
            "feature_fraction, val_score: 0.708529:   0%|          | 0/7 [00:20<?, ?it/s]\u001b[A\u001b[A\n",
            "\n",
            "feature_fraction, val_score: 0.708529:  14%|#4        | 1/7 [00:20<02:03, 20.62s/it]\u001b[A\u001b[A\u001b[32m[I 2021-07-07 20:17:38,606]\u001b[0m Trial 0 finished with value: 0.7085292018038543 and parameters: {'feature_fraction': 0.4}. Best is trial 0 with value: 0.7085292018038543.\u001b[0m\n",
            "\n",
            "\n",
            "feature_fraction, val_score: 0.708529:  14%|#4        | 1/7 [00:20<02:03, 20.62s/it]\u001b[A\u001b[A"
          ],
          "name": "stderr"
        },
        {
          "output_type": "stream",
          "text": [
            "[200]\tvalid_0's l1: 0.708531\n",
            "Early stopping, best iteration is:\n",
            "[101]\tvalid_0's l1: 0.708529\n",
            "Training until validation scores don't improve for 100 rounds.\n",
            "[100]\tvalid_0's l1: 0.705712\n"
          ],
          "name": "stdout"
        },
        {
          "output_type": "stream",
          "text": [
            "\n",
            "\n",
            "feature_fraction, val_score: 0.705711:  14%|#4        | 1/7 [00:40<02:03, 20.62s/it]\u001b[A\u001b[A\n",
            "\n",
            "feature_fraction, val_score: 0.705711:  29%|##8       | 2/7 [00:40<01:41, 20.39s/it]\u001b[A\u001b[A\u001b[32m[I 2021-07-07 20:17:58,463]\u001b[0m Trial 1 finished with value: 0.7057110908672632 and parameters: {'feature_fraction': 0.7}. Best is trial 1 with value: 0.7057110908672632.\u001b[0m\n",
            "\n",
            "\n",
            "feature_fraction, val_score: 0.705711:  29%|##8       | 2/7 [00:40<01:41, 20.39s/it]\u001b[A\u001b[A"
          ],
          "name": "stderr"
        },
        {
          "output_type": "stream",
          "text": [
            "Early stopping, best iteration is:\n",
            "[96]\tvalid_0's l1: 0.705711\n",
            "Training until validation scores don't improve for 100 rounds.\n",
            "[100]\tvalid_0's l1: 0.706819\n",
            "[200]\tvalid_0's l1: 0.706814\n"
          ],
          "name": "stdout"
        },
        {
          "output_type": "stream",
          "text": [
            "\n",
            "\n",
            "feature_fraction, val_score: 0.705711:  29%|##8       | 2/7 [01:03<01:41, 20.39s/it]\u001b[A\u001b[A\n",
            "\n",
            "feature_fraction, val_score: 0.705711:  43%|####2     | 3/7 [01:03<01:25, 21.32s/it]\u001b[A\u001b[A\u001b[32m[I 2021-07-07 20:18:21,935]\u001b[0m Trial 2 finished with value: 0.7068113839460541 and parameters: {'feature_fraction': 0.8}. Best is trial 1 with value: 0.7057110908672632.\u001b[0m\n",
            "\n",
            "\n",
            "feature_fraction, val_score: 0.705711:  43%|####2     | 3/7 [01:03<01:25, 21.32s/it]\u001b[A\u001b[A"
          ],
          "name": "stderr"
        },
        {
          "output_type": "stream",
          "text": [
            "Early stopping, best iteration is:\n",
            "[142]\tvalid_0's l1: 0.706811\n",
            "Training until validation scores don't improve for 100 rounds.\n",
            "[100]\tvalid_0's l1: 0.704683\n"
          ],
          "name": "stdout"
        },
        {
          "output_type": "stream",
          "text": [
            "\n",
            "\n",
            "feature_fraction, val_score: 0.704678:  43%|####2     | 3/7 [01:20<01:25, 21.32s/it]\u001b[A\u001b[A\n",
            "\n",
            "feature_fraction, val_score: 0.704678:  57%|#####7    | 4/7 [01:20<00:59, 20.00s/it]\u001b[A\u001b[A\u001b[32m[I 2021-07-07 20:18:38,859]\u001b[0m Trial 3 finished with value: 0.7046778489190827 and parameters: {'feature_fraction': 0.6}. Best is trial 3 with value: 0.7046778489190827.\u001b[0m\n",
            "\n",
            "\n",
            "feature_fraction, val_score: 0.704678:  57%|#####7    | 4/7 [01:20<00:59, 20.00s/it]\u001b[A\u001b[A"
          ],
          "name": "stderr"
        },
        {
          "output_type": "stream",
          "text": [
            "Early stopping, best iteration is:\n",
            "[61]\tvalid_0's l1: 0.704678\n",
            "Training until validation scores don't improve for 100 rounds.\n",
            "[100]\tvalid_0's l1: 0.706447\n"
          ],
          "name": "stdout"
        },
        {
          "output_type": "stream",
          "text": [
            "\n",
            "\n",
            "feature_fraction, val_score: 0.704678:  57%|#####7    | 4/7 [01:39<00:59, 20.00s/it]\u001b[A\u001b[A\n",
            "\n",
            "feature_fraction, val_score: 0.704678:  71%|#######1  | 5/7 [01:39<00:39, 19.69s/it]\u001b[A\u001b[A\u001b[32m[I 2021-07-07 20:18:57,837]\u001b[0m Trial 4 finished with value: 0.7063661026625933 and parameters: {'feature_fraction': 1.0}. Best is trial 3 with value: 0.7046778489190827.\u001b[0m\n",
            "\n",
            "\n",
            "feature_fraction, val_score: 0.704678:  71%|#######1  | 5/7 [01:39<00:39, 19.69s/it]\u001b[A\u001b[A"
          ],
          "name": "stderr"
        },
        {
          "output_type": "stream",
          "text": [
            "Early stopping, best iteration is:\n",
            "[50]\tvalid_0's l1: 0.706366\n",
            "Training until validation scores don't improve for 100 rounds.\n",
            "[100]\tvalid_0's l1: 0.705383\n",
            "[200]\tvalid_0's l1: 0.70519\n"
          ],
          "name": "stdout"
        },
        {
          "output_type": "stream",
          "text": [
            "\n",
            "\n",
            "feature_fraction, val_score: 0.704678:  71%|#######1  | 5/7 [02:01<00:39, 19.69s/it]\u001b[A\u001b[A\n",
            "\n",
            "feature_fraction, val_score: 0.704678:  86%|########5 | 6/7 [02:01<00:20, 20.13s/it]\u001b[A\u001b[A\u001b[32m[I 2021-07-07 20:19:18,998]\u001b[0m Trial 5 finished with value: 0.7051684404330602 and parameters: {'feature_fraction': 0.8999999999999999}. Best is trial 3 with value: 0.7046778489190827.\u001b[0m\n",
            "\n",
            "\n",
            "feature_fraction, val_score: 0.704678:  86%|########5 | 6/7 [02:01<00:20, 20.13s/it]\u001b[A\u001b[A"
          ],
          "name": "stderr"
        },
        {
          "output_type": "stream",
          "text": [
            "Early stopping, best iteration is:\n",
            "[113]\tvalid_0's l1: 0.705168\n",
            "Training until validation scores don't improve for 100 rounds.\n",
            "[100]\tvalid_0's l1: 0.708186\n",
            "[200]\tvalid_0's l1: 0.708189\n"
          ],
          "name": "stdout"
        },
        {
          "output_type": "stream",
          "text": [
            "\n",
            "\n",
            "feature_fraction, val_score: 0.704678:  86%|########5 | 6/7 [02:21<00:20, 20.13s/it]\u001b[A\u001b[A\n",
            "\n",
            "feature_fraction, val_score: 0.704678: 100%|##########| 7/7 [02:21<00:00, 20.14s/it]\u001b[A\u001b[A\u001b[32m[I 2021-07-07 20:19:39,145]\u001b[0m Trial 6 finished with value: 0.708181503892437 and parameters: {'feature_fraction': 0.5}. Best is trial 3 with value: 0.7046778489190827.\u001b[0m\n",
            "feature_fraction, val_score: 0.704678: 100%|##########| 7/7 [02:21<00:00, 20.17s/it]\n",
            "\n",
            "\n",
            "  0%|          | 0/20 [00:00<?, ?it/s]\u001b[A\u001b[A\n",
            "\n",
            "num_leaves, val_score: 0.704678:   0%|          | 0/20 [00:00<?, ?it/s]\u001b[A\u001b[A"
          ],
          "name": "stderr"
        },
        {
          "output_type": "stream",
          "text": [
            "Early stopping, best iteration is:\n",
            "[106]\tvalid_0's l1: 0.708182\n",
            "Training until validation scores don't improve for 100 rounds.\n",
            "[100]\tvalid_0's l1: 0.702477\n",
            "[200]\tvalid_0's l1: 0.701977\n"
          ],
          "name": "stdout"
        },
        {
          "output_type": "stream",
          "text": [
            "\n",
            "\n",
            "num_leaves, val_score: 0.701958:   0%|          | 0/20 [00:22<?, ?it/s]\u001b[A\u001b[A\n",
            "\n",
            "num_leaves, val_score: 0.701958:   5%|5         | 1/20 [00:22<07:02, 22.23s/it]\u001b[A\u001b[A\u001b[32m[I 2021-07-07 20:20:01,393]\u001b[0m Trial 7 finished with value: 0.7019584684573832 and parameters: {'num_leaves': 116}. Best is trial 7 with value: 0.7019584684573832.\u001b[0m\n",
            "\n",
            "\n",
            "num_leaves, val_score: 0.701958:   5%|5         | 1/20 [00:22<07:02, 22.23s/it]\u001b[A\u001b[A"
          ],
          "name": "stderr"
        },
        {
          "output_type": "stream",
          "text": [
            "Early stopping, best iteration is:\n",
            "[118]\tvalid_0's l1: 0.701958\n",
            "Training until validation scores don't improve for 100 rounds.\n",
            "[100]\tvalid_0's l1: 0.692558\n",
            "[200]\tvalid_0's l1: 0.692431\n",
            "[300]\tvalid_0's l1: 0.692372\n"
          ],
          "name": "stdout"
        },
        {
          "output_type": "stream",
          "text": [
            "\n",
            "\n",
            "num_leaves, val_score: 0.692370:   5%|5         | 1/20 [00:57<07:02, 22.23s/it]\u001b[A\u001b[A\n",
            "\n",
            "num_leaves, val_score: 0.692370:  10%|#         | 2/20 [00:57<07:48, 26.00s/it]\u001b[A\u001b[A\u001b[32m[I 2021-07-07 20:20:36,204]\u001b[0m Trial 8 finished with value: 0.6923699544771913 and parameters: {'num_leaves': 218}. Best is trial 8 with value: 0.6923699544771913.\u001b[0m\n",
            "\n",
            "\n",
            "num_leaves, val_score: 0.692370:  10%|#         | 2/20 [00:57<07:48, 26.00s/it]\u001b[A\u001b[A"
          ],
          "name": "stderr"
        },
        {
          "output_type": "stream",
          "text": [
            "Early stopping, best iteration is:\n",
            "[220]\tvalid_0's l1: 0.69237\n",
            "Training until validation scores don't improve for 100 rounds.\n",
            "[100]\tvalid_0's l1: 0.712825\n",
            "[200]\tvalid_0's l1: 0.712185\n",
            "[300]\tvalid_0's l1: 0.712183\n",
            "[400]\tvalid_0's l1: 0.712182\n",
            "[500]\tvalid_0's l1: 0.71218\n",
            "[600]\tvalid_0's l1: 0.712013\n",
            "[700]\tvalid_0's l1: 0.712014\n"
          ],
          "name": "stdout"
        },
        {
          "output_type": "stream",
          "text": [
            "\n",
            "\n",
            "num_leaves, val_score: 0.692370:  10%|#         | 2/20 [01:57<07:48, 26.00s/it]\u001b[A\u001b[A\n",
            "\n",
            "num_leaves, val_score: 0.692370:  15%|#5        | 3/20 [01:57<10:17, 36.34s/it]\u001b[A\u001b[A\u001b[32m[I 2021-07-07 20:21:36,671]\u001b[0m Trial 9 finished with value: 0.7120121506203757 and parameters: {'num_leaves': 56}. Best is trial 8 with value: 0.6923699544771913.\u001b[0m\n",
            "\n",
            "\n",
            "num_leaves, val_score: 0.692370:  15%|#5        | 3/20 [01:57<10:17, 36.34s/it]\u001b[A\u001b[A"
          ],
          "name": "stderr"
        },
        {
          "output_type": "stream",
          "text": [
            "Early stopping, best iteration is:\n",
            "[615]\tvalid_0's l1: 0.712012\n",
            "Training until validation scores don't improve for 100 rounds.\n",
            "[100]\tvalid_0's l1: 0.710035\n",
            "[200]\tvalid_0's l1: 0.709831\n",
            "[300]\tvalid_0's l1: 0.709833\n",
            "[400]\tvalid_0's l1: 0.709695\n",
            "[500]\tvalid_0's l1: 0.709248\n"
          ],
          "name": "stdout"
        },
        {
          "output_type": "stream",
          "text": [
            "\n",
            "\n",
            "num_leaves, val_score: 0.692370:  15%|#5        | 3/20 [02:48<10:17, 36.34s/it]\u001b[A\u001b[A\n",
            "\n",
            "num_leaves, val_score: 0.692370:  20%|##        | 4/20 [02:48<10:53, 40.81s/it]\u001b[A\u001b[A\u001b[32m[I 2021-07-07 20:22:27,926]\u001b[0m Trial 10 finished with value: 0.7092476049554073 and parameters: {'num_leaves': 79}. Best is trial 8 with value: 0.6923699544771913.\u001b[0m\n",
            "\n",
            "\n",
            "num_leaves, val_score: 0.692370:  20%|##        | 4/20 [02:48<10:53, 40.81s/it]\u001b[A\u001b[A"
          ],
          "name": "stderr"
        },
        {
          "output_type": "stream",
          "text": [
            "Early stopping, best iteration is:\n",
            "[455]\tvalid_0's l1: 0.709248\n",
            "Training until validation scores don't improve for 100 rounds.\n",
            "[100]\tvalid_0's l1: 0.695139\n",
            "[200]\tvalid_0's l1: 0.695153\n"
          ],
          "name": "stdout"
        },
        {
          "output_type": "stream",
          "text": [
            "\n",
            "\n",
            "num_leaves, val_score: 0.692370:  20%|##        | 4/20 [03:13<10:53, 40.81s/it]\u001b[A\u001b[A\n",
            "\n",
            "num_leaves, val_score: 0.692370:  25%|##5       | 5/20 [03:13<08:59, 35.94s/it]\u001b[A\u001b[A\u001b[32m[I 2021-07-07 20:22:52,474]\u001b[0m Trial 11 finished with value: 0.6951299900586934 and parameters: {'num_leaves': 181}. Best is trial 8 with value: 0.6923699544771913.\u001b[0m\n",
            "\n",
            "\n",
            "num_leaves, val_score: 0.692370:  25%|##5       | 5/20 [03:13<08:59, 35.94s/it]\u001b[A\u001b[A"
          ],
          "name": "stderr"
        },
        {
          "output_type": "stream",
          "text": [
            "Early stopping, best iteration is:\n",
            "[105]\tvalid_0's l1: 0.69513\n",
            "Training until validation scores don't improve for 100 rounds.\n",
            "[100]\tvalid_0's l1: 0.691684\n",
            "[200]\tvalid_0's l1: 0.690792\n",
            "[300]\tvalid_0's l1: 0.690773\n"
          ],
          "name": "stdout"
        },
        {
          "output_type": "stream",
          "text": [
            "\n",
            "\n",
            "num_leaves, val_score: 0.690762:  25%|##5       | 5/20 [03:52<08:59, 35.94s/it]\u001b[A\u001b[A\n",
            "\n",
            "num_leaves, val_score: 0.690762:  30%|###       | 6/20 [03:52<08:36, 36.86s/it]\u001b[A\u001b[A\u001b[32m[I 2021-07-07 20:23:31,499]\u001b[0m Trial 12 finished with value: 0.6907621920727092 and parameters: {'num_leaves': 230}. Best is trial 12 with value: 0.6907621920727092.\u001b[0m\n",
            "\n",
            "\n",
            "num_leaves, val_score: 0.690762:  30%|###       | 6/20 [03:52<08:36, 36.86s/it]\u001b[A\u001b[A"
          ],
          "name": "stderr"
        },
        {
          "output_type": "stream",
          "text": [
            "Early stopping, best iteration is:\n",
            "[221]\tvalid_0's l1: 0.690762\n",
            "Training until validation scores don't improve for 100 rounds.\n",
            "[100]\tvalid_0's l1: 0.691295\n",
            "[200]\tvalid_0's l1: 0.691329\n"
          ],
          "name": "stdout"
        },
        {
          "output_type": "stream",
          "text": [
            "\n",
            "\n",
            "num_leaves, val_score: 0.690762:  30%|###       | 6/20 [04:24<08:36, 36.86s/it]\u001b[A\u001b[A\n",
            "\n",
            "num_leaves, val_score: 0.690762:  35%|###5      | 7/20 [04:24<07:41, 35.50s/it]\u001b[A\u001b[A\u001b[32m[I 2021-07-07 20:24:03,812]\u001b[0m Trial 13 finished with value: 0.6912809887736069 and parameters: {'num_leaves': 234}. Best is trial 12 with value: 0.6907621920727092.\u001b[0m\n",
            "\n",
            "\n",
            "num_leaves, val_score: 0.690762:  35%|###5      | 7/20 [04:24<07:41, 35.50s/it]\u001b[A\u001b[A"
          ],
          "name": "stderr"
        },
        {
          "output_type": "stream",
          "text": [
            "Early stopping, best iteration is:\n",
            "[164]\tvalid_0's l1: 0.691281\n",
            "Training until validation scores don't improve for 100 rounds.\n",
            "[100]\tvalid_0's l1: 0.698186\n",
            "[200]\tvalid_0's l1: 0.697892\n",
            "[300]\tvalid_0's l1: 0.697891\n",
            "[400]\tvalid_0's l1: 0.69787\n"
          ],
          "name": "stdout"
        },
        {
          "output_type": "stream",
          "text": [
            "\n",
            "\n",
            "num_leaves, val_score: 0.690762:  35%|###5      | 7/20 [05:16<07:41, 35.50s/it]\u001b[A\u001b[A\n",
            "\n",
            "num_leaves, val_score: 0.690762:  40%|####      | 8/20 [05:16<08:05, 40.49s/it]\u001b[A\u001b[A\u001b[32m[I 2021-07-07 20:24:55,947]\u001b[0m Trial 14 finished with value: 0.6978674450612212 and parameters: {'num_leaves': 170}. Best is trial 12 with value: 0.6907621920727092.\u001b[0m\n",
            "\n",
            "\n",
            "num_leaves, val_score: 0.690762:  40%|####      | 8/20 [05:16<08:05, 40.49s/it]\u001b[A\u001b[A"
          ],
          "name": "stderr"
        },
        {
          "output_type": "stream",
          "text": [
            "Early stopping, best iteration is:\n",
            "[352]\tvalid_0's l1: 0.697867\n",
            "Training until validation scores don't improve for 100 rounds.\n",
            "[100]\tvalid_0's l1: 0.720099\n",
            "[200]\tvalid_0's l1: 0.720054\n"
          ],
          "name": "stdout"
        },
        {
          "output_type": "stream",
          "text": [
            "\n",
            "\n",
            "num_leaves, val_score: 0.690762:  40%|####      | 8/20 [05:37<08:05, 40.49s/it]\u001b[A\u001b[A\n",
            "\n",
            "num_leaves, val_score: 0.690762:  45%|####5     | 9/20 [05:37<06:21, 34.68s/it]\u001b[A\u001b[A\u001b[32m[I 2021-07-07 20:25:17,083]\u001b[0m Trial 15 finished with value: 0.72005136483567 and parameters: {'num_leaves': 34}. Best is trial 12 with value: 0.6907621920727092.\u001b[0m\n",
            "\n",
            "\n",
            "num_leaves, val_score: 0.690762:  45%|####5     | 9/20 [05:37<06:21, 34.68s/it]\u001b[A\u001b[A"
          ],
          "name": "stderr"
        },
        {
          "output_type": "stream",
          "text": [
            "Early stopping, best iteration is:\n",
            "[133]\tvalid_0's l1: 0.720051\n",
            "Training until validation scores don't improve for 100 rounds.\n",
            "[100]\tvalid_0's l1: 0.701814\n",
            "[200]\tvalid_0's l1: 0.701377\n",
            "[300]\tvalid_0's l1: 0.701369\n",
            "[400]\tvalid_0's l1: 0.701369\n"
          ],
          "name": "stdout"
        },
        {
          "output_type": "stream",
          "text": [
            "\n",
            "\n",
            "num_leaves, val_score: 0.690762:  45%|####5     | 9/20 [06:20<06:21, 34.68s/it]\u001b[A\u001b[A\n",
            "\n",
            "num_leaves, val_score: 0.690762:  50%|#####     | 10/20 [06:20<06:10, 37.03s/it]\u001b[A\u001b[A\u001b[32m[I 2021-07-07 20:25:59,594]\u001b[0m Trial 16 finished with value: 0.701368891594395 and parameters: {'num_leaves': 128}. Best is trial 12 with value: 0.6907621920727092.\u001b[0m\n",
            "\n",
            "\n",
            "num_leaves, val_score: 0.690762:  50%|#####     | 10/20 [06:20<06:10, 37.03s/it]\u001b[A\u001b[A"
          ],
          "name": "stderr"
        },
        {
          "output_type": "stream",
          "text": [
            "Early stopping, best iteration is:\n",
            "[320]\tvalid_0's l1: 0.701369\n",
            "Training until validation scores don't improve for 100 rounds.\n",
            "[100]\tvalid_0's l1: 0.690408\n",
            "[200]\tvalid_0's l1: 0.690328\n",
            "[300]\tvalid_0's l1: 0.690248\n",
            "[400]\tvalid_0's l1: 0.690075\n",
            "[500]\tvalid_0's l1: 0.689865\n",
            "[600]\tvalid_0's l1: 0.68983\n"
          ],
          "name": "stdout"
        },
        {
          "output_type": "stream",
          "text": [
            "\n",
            "\n",
            "num_leaves, val_score: 0.689826:  50%|#####     | 10/20 [07:33<06:10, 37.03s/it]\u001b[A\u001b[A\n",
            "\n",
            "num_leaves, val_score: 0.689826:  55%|#####5    | 11/20 [07:33<07:11, 47.96s/it]\u001b[A\u001b[A\u001b[32m[I 2021-07-07 20:27:13,061]\u001b[0m Trial 17 finished with value: 0.6898261518851524 and parameters: {'num_leaves': 251}. Best is trial 17 with value: 0.6898261518851524.\u001b[0m\n",
            "\n",
            "\n",
            "num_leaves, val_score: 0.689826:  55%|#####5    | 11/20 [07:33<07:11, 47.96s/it]\u001b[A\u001b[A"
          ],
          "name": "stderr"
        },
        {
          "output_type": "stream",
          "text": [
            "Early stopping, best iteration is:\n",
            "[557]\tvalid_0's l1: 0.689826\n",
            "Training until validation scores don't improve for 100 rounds.\n",
            "[100]\tvalid_0's l1: 0.689807\n",
            "[200]\tvalid_0's l1: 0.689804\n"
          ],
          "name": "stdout"
        },
        {
          "output_type": "stream",
          "text": [
            "\n",
            "\n",
            "num_leaves, val_score: 0.689801:  55%|#####5    | 11/20 [08:01<07:11, 47.96s/it]\u001b[A\u001b[A\n",
            "\n",
            "num_leaves, val_score: 0.689801:  60%|######    | 12/20 [08:01<05:35, 41.92s/it]\u001b[A\u001b[A\u001b[32m[I 2021-07-07 20:27:40,874]\u001b[0m Trial 18 finished with value: 0.6898007760442136 and parameters: {'num_leaves': 243}. Best is trial 18 with value: 0.6898007760442136.\u001b[0m\n",
            "\n",
            "\n",
            "num_leaves, val_score: 0.689801:  60%|######    | 12/20 [08:01<05:35, 41.92s/it]\u001b[A\u001b[A"
          ],
          "name": "stderr"
        },
        {
          "output_type": "stream",
          "text": [
            "Early stopping, best iteration is:\n",
            "[130]\tvalid_0's l1: 0.689801\n",
            "Training until validation scores don't improve for 100 rounds.\n",
            "[100]\tvalid_0's l1: 0.690488\n"
          ],
          "name": "stdout"
        },
        {
          "output_type": "stream",
          "text": [
            "\n",
            "\n",
            "num_leaves, val_score: 0.689801:  60%|######    | 12/20 [08:26<05:35, 41.92s/it]\u001b[A\u001b[A\n",
            "\n",
            "num_leaves, val_score: 0.689801:  65%|######5   | 13/20 [08:26<04:17, 36.84s/it]\u001b[A\u001b[A\u001b[32m[I 2021-07-07 20:28:05,882]\u001b[0m Trial 19 finished with value: 0.6904827595001869 and parameters: {'num_leaves': 255}. Best is trial 18 with value: 0.6898007760442136.\u001b[0m\n",
            "\n",
            "\n",
            "num_leaves, val_score: 0.689801:  65%|######5   | 13/20 [08:26<04:17, 36.84s/it]\u001b[A\u001b[A"
          ],
          "name": "stderr"
        },
        {
          "output_type": "stream",
          "text": [
            "Early stopping, best iteration is:\n",
            "[91]\tvalid_0's l1: 0.690483\n",
            "Training until validation scores don't improve for 100 rounds.\n",
            "[100]\tvalid_0's l1: 0.693238\n",
            "[200]\tvalid_0's l1: 0.693207\n"
          ],
          "name": "stdout"
        },
        {
          "output_type": "stream",
          "text": [
            "\n",
            "\n",
            "num_leaves, val_score: 0.689801:  65%|######5   | 13/20 [08:52<04:17, 36.84s/it]\u001b[A\u001b[A\n",
            "\n",
            "num_leaves, val_score: 0.689801:  70%|#######   | 14/20 [08:52<03:20, 33.48s/it]\u001b[A\u001b[A\u001b[32m[I 2021-07-07 20:28:31,530]\u001b[0m Trial 20 finished with value: 0.6932031223475915 and parameters: {'num_leaves': 178}. Best is trial 18 with value: 0.6898007760442136.\u001b[0m\n",
            "\n",
            "\n",
            "num_leaves, val_score: 0.689801:  70%|#######   | 14/20 [08:52<03:20, 33.48s/it]\u001b[A\u001b[A"
          ],
          "name": "stderr"
        },
        {
          "output_type": "stream",
          "text": [
            "Early stopping, best iteration is:\n",
            "[136]\tvalid_0's l1: 0.693203\n",
            "Training until validation scores don't improve for 100 rounds.\n",
            "[100]\tvalid_0's l1: 0.690408\n",
            "[200]\tvalid_0's l1: 0.690328\n",
            "[300]\tvalid_0's l1: 0.690248\n",
            "[400]\tvalid_0's l1: 0.690075\n",
            "[500]\tvalid_0's l1: 0.689865\n",
            "[600]\tvalid_0's l1: 0.68983\n"
          ],
          "name": "stdout"
        },
        {
          "output_type": "stream",
          "text": [
            "\n",
            "\n",
            "num_leaves, val_score: 0.689801:  70%|#######   | 14/20 [10:02<03:20, 33.48s/it]\u001b[A\u001b[A\n",
            "\n",
            "num_leaves, val_score: 0.689801:  75%|#######5  | 15/20 [10:02<03:41, 44.40s/it]\u001b[A\u001b[A\u001b[32m[I 2021-07-07 20:29:41,378]\u001b[0m Trial 21 finished with value: 0.6898261518851521 and parameters: {'num_leaves': 251}. Best is trial 18 with value: 0.6898007760442136.\u001b[0m\n",
            "\n",
            "\n",
            "num_leaves, val_score: 0.689801:  75%|#######5  | 15/20 [10:02<03:41, 44.40s/it]\u001b[A\u001b[A"
          ],
          "name": "stderr"
        },
        {
          "output_type": "stream",
          "text": [
            "Early stopping, best iteration is:\n",
            "[557]\tvalid_0's l1: 0.689826\n",
            "Training until validation scores don't improve for 100 rounds.\n",
            "[100]\tvalid_0's l1: 0.692152\n",
            "[200]\tvalid_0's l1: 0.692122\n"
          ],
          "name": "stdout"
        },
        {
          "output_type": "stream",
          "text": [
            "\n",
            "\n",
            "num_leaves, val_score: 0.689801:  75%|#######5  | 15/20 [10:28<03:41, 44.40s/it]\u001b[A\u001b[A\n",
            "\n",
            "num_leaves, val_score: 0.689801:  80%|########  | 16/20 [10:28<02:35, 38.88s/it]\u001b[A\u001b[A\u001b[32m[I 2021-07-07 20:30:07,392]\u001b[0m Trial 22 finished with value: 0.6921151016052369 and parameters: {'num_leaves': 199}. Best is trial 18 with value: 0.6898007760442136.\u001b[0m\n",
            "\n",
            "\n",
            "num_leaves, val_score: 0.689801:  80%|########  | 16/20 [10:28<02:35, 38.88s/it]\u001b[A\u001b[A"
          ],
          "name": "stderr"
        },
        {
          "output_type": "stream",
          "text": [
            "Early stopping, best iteration is:\n",
            "[132]\tvalid_0's l1: 0.692115\n",
            "Training until validation scores don't improve for 100 rounds.\n",
            "[100]\tvalid_0's l1: 0.691117\n",
            "[200]\tvalid_0's l1: 0.690013\n",
            "[300]\tvalid_0's l1: 0.689992\n"
          ],
          "name": "stdout"
        },
        {
          "output_type": "stream",
          "text": [
            "\n",
            "\n",
            "num_leaves, val_score: 0.689801:  80%|########  | 16/20 [11:05<02:35, 38.88s/it]\u001b[A\u001b[A\n",
            "\n",
            "num_leaves, val_score: 0.689801:  85%|########5 | 17/20 [11:05<01:54, 38.31s/it]\u001b[A\u001b[A\u001b[32m[I 2021-07-07 20:30:44,358]\u001b[0m Trial 23 finished with value: 0.6899858698662833 and parameters: {'num_leaves': 253}. Best is trial 18 with value: 0.6898007760442136.\u001b[0m\n",
            "\n",
            "\n",
            "num_leaves, val_score: 0.689801:  85%|########5 | 17/20 [11:05<01:54, 38.31s/it]\u001b[A\u001b[A"
          ],
          "name": "stderr"
        },
        {
          "output_type": "stream",
          "text": [
            "Early stopping, best iteration is:\n",
            "[209]\tvalid_0's l1: 0.689986\n",
            "Training until validation scores don't improve for 100 rounds.\n",
            "[100]\tvalid_0's l1: 0.693306\n",
            "[200]\tvalid_0's l1: 0.692674\n"
          ],
          "name": "stdout"
        },
        {
          "output_type": "stream",
          "text": [
            "\n",
            "\n",
            "num_leaves, val_score: 0.689801:  85%|########5 | 17/20 [11:36<01:54, 38.31s/it]\u001b[A\u001b[A\n",
            "\n",
            "num_leaves, val_score: 0.689801:  90%|######### | 18/20 [11:36<01:12, 36.34s/it]\u001b[A\u001b[A\u001b[32m[I 2021-07-07 20:31:16,102]\u001b[0m Trial 24 finished with value: 0.6926723877414903 and parameters: {'num_leaves': 206}. Best is trial 18 with value: 0.6898007760442136.\u001b[0m\n",
            "\n",
            "\n",
            "num_leaves, val_score: 0.689801:  90%|######### | 18/20 [11:36<01:12, 36.34s/it]\u001b[A\u001b[A"
          ],
          "name": "stderr"
        },
        {
          "output_type": "stream",
          "text": [
            "Early stopping, best iteration is:\n",
            "[181]\tvalid_0's l1: 0.692672\n",
            "Training until validation scores don't improve for 100 rounds.\n",
            "[100]\tvalid_0's l1: 0.788312\n",
            "[200]\tvalid_0's l1: 0.779778\n",
            "[300]\tvalid_0's l1: 0.774496\n"
          ],
          "name": "stdout"
        },
        {
          "output_type": "stream",
          "text": [
            "\n",
            "\n",
            "num_leaves, val_score: 0.689801:  90%|######### | 18/20 [12:00<01:12, 36.34s/it]\u001b[A\u001b[A\n",
            "\n",
            "num_leaves, val_score: 0.689801:  95%|#########5| 19/20 [12:00<00:32, 32.39s/it]\u001b[A\u001b[A\u001b[32m[I 2021-07-07 20:31:39,278]\u001b[0m Trial 25 finished with value: 0.7744958626011759 and parameters: {'num_leaves': 3}. Best is trial 18 with value: 0.6898007760442136.\u001b[0m\n",
            "\n",
            "\n",
            "num_leaves, val_score: 0.689801:  95%|#########5| 19/20 [12:00<00:32, 32.39s/it]\u001b[A\u001b[A"
          ],
          "name": "stderr"
        },
        {
          "output_type": "stream",
          "text": [
            "Early stopping, best iteration is:\n",
            "[224]\tvalid_0's l1: 0.774496\n",
            "Training until validation scores don't improve for 100 rounds.\n",
            "[100]\tvalid_0's l1: 0.699409\n",
            "[200]\tvalid_0's l1: 0.699284\n",
            "[300]\tvalid_0's l1: 0.699281\n",
            "[400]\tvalid_0's l1: 0.699281\n",
            "[500]\tvalid_0's l1: 0.699277\n",
            "[600]\tvalid_0's l1: 0.69926\n",
            "[700]\tvalid_0's l1: 0.699259\n"
          ],
          "name": "stdout"
        },
        {
          "output_type": "stream",
          "text": [
            "\n",
            "\n",
            "num_leaves, val_score: 0.689801:  95%|#########5| 19/20 [13:08<00:32, 32.39s/it]\u001b[A\u001b[A\n",
            "\n",
            "num_leaves, val_score: 0.689801: 100%|##########| 20/20 [13:08<00:00, 43.22s/it]\u001b[A\u001b[A\u001b[32m[I 2021-07-07 20:32:47,774]\u001b[0m Trial 26 finished with value: 0.6992582118784632 and parameters: {'num_leaves': 149}. Best is trial 18 with value: 0.6898007760442136.\u001b[0m\n",
            "num_leaves, val_score: 0.689801: 100%|##########| 20/20 [13:08<00:00, 39.43s/it]\n",
            "\n",
            "\n",
            "  0%|          | 0/10 [00:00<?, ?it/s]\u001b[A\u001b[A\n",
            "\n",
            "bagging, val_score: 0.689801:   0%|          | 0/10 [00:00<?, ?it/s]\u001b[A\u001b[A"
          ],
          "name": "stderr"
        },
        {
          "output_type": "stream",
          "text": [
            "Early stopping, best iteration is:\n",
            "[631]\tvalid_0's l1: 0.699258\n",
            "Training until validation scores don't improve for 100 rounds.\n",
            "[100]\tvalid_0's l1: 0.691822\n",
            "[200]\tvalid_0's l1: 0.691718\n",
            "[300]\tvalid_0's l1: 0.691666\n",
            "[400]\tvalid_0's l1: 0.691649\n",
            "[500]\tvalid_0's l1: 0.691606\n",
            "[600]\tvalid_0's l1: 0.691568\n"
          ],
          "name": "stdout"
        },
        {
          "output_type": "stream",
          "text": [
            "\n",
            "\n",
            "bagging, val_score: 0.689801:   0%|          | 0/10 [01:19<?, ?it/s]\u001b[A\u001b[A\n",
            "\n",
            "bagging, val_score: 0.689801:  10%|#         | 1/10 [01:19<11:57, 79.71s/it]\u001b[A\u001b[A\u001b[32m[I 2021-07-07 20:34:07,502]\u001b[0m Trial 27 finished with value: 0.6915612226431329 and parameters: {'bagging_fraction': 0.9596808200713002, 'bagging_freq': 1}. Best is trial 27 with value: 0.6915612226431329.\u001b[0m\n",
            "\n",
            "\n",
            "bagging, val_score: 0.689801:  10%|#         | 1/10 [01:19<11:57, 79.71s/it]\u001b[A\u001b[A"
          ],
          "name": "stderr"
        },
        {
          "output_type": "stream",
          "text": [
            "Early stopping, best iteration is:\n",
            "[582]\tvalid_0's l1: 0.691561\n",
            "Training until validation scores don't improve for 100 rounds.\n",
            "[100]\tvalid_0's l1: 0.691267\n",
            "[200]\tvalid_0's l1: 0.691186\n",
            "[300]\tvalid_0's l1: 0.691127\n",
            "[400]\tvalid_0's l1: 0.691123\n",
            "[500]\tvalid_0's l1: 0.6911\n",
            "[600]\tvalid_0's l1: 0.691044\n",
            "[700]\tvalid_0's l1: 0.690836\n",
            "[800]\tvalid_0's l1: 0.690828\n",
            "[900]\tvalid_0's l1: 0.690831\n",
            "Early stopping, best iteration is:\n",
            "[812]\tvalid_0's l1: 0.690827\n"
          ],
          "name": "stdout"
        },
        {
          "output_type": "stream",
          "text": [
            "\n",
            "\n",
            "bagging, val_score: 0.689801:  10%|#         | 1/10 [03:22<11:57, 79.71s/it]\u001b[A\u001b[A\n",
            "\n",
            "bagging, val_score: 0.689801:  20%|##        | 2/10 [03:22<12:20, 92.62s/it]\u001b[A\u001b[A\u001b[32m[I 2021-07-07 20:36:10,241]\u001b[0m Trial 28 finished with value: 0.6908273548776335 and parameters: {'bagging_fraction': 0.9714482622850475, 'bagging_freq': 2}. Best is trial 28 with value: 0.6908273548776335.\u001b[0m\n",
            "\n",
            "\n",
            "bagging, val_score: 0.689801:  20%|##        | 2/10 [03:22<12:20, 92.62s/it]\u001b[A\u001b[A"
          ],
          "name": "stderr"
        },
        {
          "output_type": "stream",
          "text": [
            "Training until validation scores don't improve for 100 rounds.\n",
            "[100]\tvalid_0's l1: 0.691294\n",
            "[200]\tvalid_0's l1: 0.691141\n"
          ],
          "name": "stdout"
        },
        {
          "output_type": "stream",
          "text": [
            "\n",
            "\n",
            "bagging, val_score: 0.689801:  20%|##        | 2/10 [03:52<12:20, 92.62s/it]\u001b[A\u001b[A\n",
            "\n",
            "bagging, val_score: 0.689801:  30%|###       | 3/10 [03:52<08:37, 73.94s/it]\u001b[A\u001b[A\u001b[32m[I 2021-07-07 20:36:40,617]\u001b[0m Trial 29 finished with value: 0.6911345812010287 and parameters: {'bagging_fraction': 0.7431533119991778, 'bagging_freq': 5}. Best is trial 28 with value: 0.6908273548776335.\u001b[0m\n",
            "\n",
            "\n",
            "bagging, val_score: 0.689801:  30%|###       | 3/10 [03:52<08:37, 73.94s/it]\u001b[A\u001b[A"
          ],
          "name": "stderr"
        },
        {
          "output_type": "stream",
          "text": [
            "Early stopping, best iteration is:\n",
            "[171]\tvalid_0's l1: 0.691135\n",
            "Training until validation scores don't improve for 100 rounds.\n",
            "[100]\tvalid_0's l1: 0.690962\n",
            "[200]\tvalid_0's l1: 0.688919\n"
          ],
          "name": "stdout"
        },
        {
          "output_type": "stream",
          "text": [
            "\n",
            "\n",
            "bagging, val_score: 0.688912:  30%|###       | 3/10 [04:15<08:37, 73.94s/it]\u001b[A\u001b[A\n",
            "\n",
            "bagging, val_score: 0.688912:  40%|####      | 4/10 [04:15<05:52, 58.71s/it]\u001b[A\u001b[A\u001b[32m[I 2021-07-07 20:37:03,795]\u001b[0m Trial 30 finished with value: 0.6889115946794526 and parameters: {'bagging_fraction': 0.5172220580421916, 'bagging_freq': 1}. Best is trial 30 with value: 0.6889115946794526.\u001b[0m\n",
            "\n",
            "\n",
            "bagging, val_score: 0.688912:  40%|####      | 4/10 [04:16<05:52, 58.71s/it]\u001b[A\u001b[A"
          ],
          "name": "stderr"
        },
        {
          "output_type": "stream",
          "text": [
            "Early stopping, best iteration is:\n",
            "[164]\tvalid_0's l1: 0.688912\n",
            "Training until validation scores don't improve for 100 rounds.\n",
            "[100]\tvalid_0's l1: 0.691157\n",
            "[200]\tvalid_0's l1: 0.691147\n"
          ],
          "name": "stdout"
        },
        {
          "output_type": "stream",
          "text": [
            "\n",
            "\n",
            "bagging, val_score: 0.688912:  40%|####      | 4/10 [04:42<05:52, 58.71s/it]\u001b[A\u001b[A\n",
            "\n",
            "bagging, val_score: 0.688912:  50%|#####     | 5/10 [04:42<04:05, 49.06s/it]\u001b[A\u001b[A\u001b[32m[I 2021-07-07 20:37:30,344]\u001b[0m Trial 31 finished with value: 0.691119250275226 and parameters: {'bagging_fraction': 0.7998853343784078, 'bagging_freq': 5}. Best is trial 30 with value: 0.6889115946794526.\u001b[0m\n",
            "\n",
            "\n",
            "bagging, val_score: 0.688912:  50%|#####     | 5/10 [04:42<04:05, 49.06s/it]\u001b[A\u001b[A"
          ],
          "name": "stderr"
        },
        {
          "output_type": "stream",
          "text": [
            "Early stopping, best iteration is:\n",
            "[122]\tvalid_0's l1: 0.691119\n",
            "Training until validation scores don't improve for 100 rounds.\n",
            "[100]\tvalid_0's l1: 0.689588\n",
            "[200]\tvalid_0's l1: 0.689645\n"
          ],
          "name": "stdout"
        },
        {
          "output_type": "stream",
          "text": [
            "\n",
            "\n",
            "bagging, val_score: 0.688912:  50%|#####     | 5/10 [05:00<04:05, 49.06s/it]\u001b[A\u001b[A\n",
            "\n",
            "bagging, val_score: 0.688912:  60%|######    | 6/10 [05:00<02:38, 39.65s/it]\u001b[A\u001b[A\u001b[32m[I 2021-07-07 20:37:48,015]\u001b[0m Trial 32 finished with value: 0.6895866247749515 and parameters: {'bagging_fraction': 0.41522695858120634, 'bagging_freq': 6}. Best is trial 30 with value: 0.6889115946794526.\u001b[0m\n",
            "\n",
            "\n",
            "bagging, val_score: 0.688912:  60%|######    | 6/10 [05:00<02:38, 39.65s/it]\u001b[A\u001b[A"
          ],
          "name": "stderr"
        },
        {
          "output_type": "stream",
          "text": [
            "Early stopping, best iteration is:\n",
            "[105]\tvalid_0's l1: 0.689587\n",
            "Training until validation scores don't improve for 100 rounds.\n",
            "[100]\tvalid_0's l1: 0.690138\n",
            "[200]\tvalid_0's l1: 0.690102\n"
          ],
          "name": "stdout"
        },
        {
          "output_type": "stream",
          "text": [
            "\n",
            "\n",
            "bagging, val_score: 0.688912:  60%|######    | 6/10 [05:26<02:38, 39.65s/it]\u001b[A\u001b[A\n",
            "\n",
            "bagging, val_score: 0.688912:  70%|#######   | 7/10 [05:26<01:47, 35.74s/it]\u001b[A\u001b[A\u001b[32m[I 2021-07-07 20:38:14,624]\u001b[0m Trial 33 finished with value: 0.6900674339510527 and parameters: {'bagging_fraction': 0.7110798453653279, 'bagging_freq': 7}. Best is trial 30 with value: 0.6889115946794526.\u001b[0m\n",
            "\n",
            "\n",
            "bagging, val_score: 0.688912:  70%|#######   | 7/10 [05:26<01:47, 35.74s/it]\u001b[A\u001b[A"
          ],
          "name": "stderr"
        },
        {
          "output_type": "stream",
          "text": [
            "Early stopping, best iteration is:\n",
            "[129]\tvalid_0's l1: 0.690067\n",
            "Training until validation scores don't improve for 100 rounds.\n",
            "[100]\tvalid_0's l1: 0.691431\n"
          ],
          "name": "stdout"
        },
        {
          "output_type": "stream",
          "text": [
            "\n",
            "\n",
            "bagging, val_score: 0.688912:  70%|#######   | 7/10 [05:52<01:47, 35.74s/it]\u001b[A\u001b[A\n",
            "\n",
            "bagging, val_score: 0.688912:  80%|########  | 8/10 [05:52<01:05, 32.79s/it]\u001b[A\u001b[A\u001b[32m[I 2021-07-07 20:38:40,561]\u001b[0m Trial 34 finished with value: 0.6914062535292348 and parameters: {'bagging_fraction': 0.9911449740507219, 'bagging_freq': 2}. Best is trial 30 with value: 0.6889115946794526.\u001b[0m\n",
            "\n",
            "\n",
            "bagging, val_score: 0.688912:  80%|########  | 8/10 [05:52<01:05, 32.79s/it]\u001b[A\u001b[A"
          ],
          "name": "stderr"
        },
        {
          "output_type": "stream",
          "text": [
            "Early stopping, best iteration is:\n",
            "[75]\tvalid_0's l1: 0.691406\n",
            "Training until validation scores don't improve for 100 rounds.\n",
            "[100]\tvalid_0's l1: 0.691877\n",
            "[200]\tvalid_0's l1: 0.691688\n"
          ],
          "name": "stdout"
        },
        {
          "output_type": "stream",
          "text": [
            "\n",
            "\n",
            "bagging, val_score: 0.688912:  80%|########  | 8/10 [06:32<01:05, 32.79s/it]\u001b[A\u001b[A\n",
            "\n",
            "bagging, val_score: 0.688912:  90%|######### | 9/10 [06:32<00:34, 34.97s/it]\u001b[A\u001b[A\u001b[32m[I 2021-07-07 20:39:20,616]\u001b[0m Trial 35 finished with value: 0.6916851480536917 and parameters: {'bagging_fraction': 0.9652063370016003, 'bagging_freq': 4}. Best is trial 30 with value: 0.6889115946794526.\u001b[0m\n",
            "\n",
            "\n",
            "bagging, val_score: 0.688912:  90%|######### | 9/10 [06:32<00:34, 34.97s/it]\u001b[A\u001b[A"
          ],
          "name": "stderr"
        },
        {
          "output_type": "stream",
          "text": [
            "Early stopping, best iteration is:\n",
            "[194]\tvalid_0's l1: 0.691685\n",
            "Training until validation scores don't improve for 100 rounds.\n",
            "[100]\tvalid_0's l1: 0.691324\n",
            "[200]\tvalid_0's l1: 0.691071\n",
            "[300]\tvalid_0's l1: 0.69045\n"
          ],
          "name": "stdout"
        },
        {
          "output_type": "stream",
          "text": [
            "\n",
            "\n",
            "bagging, val_score: 0.688912:  90%|######### | 9/10 [07:07<00:34, 34.97s/it]\u001b[A\u001b[A\n",
            "\n",
            "bagging, val_score: 0.688912: 100%|##########| 10/10 [07:07<00:00, 34.84s/it]\u001b[A\u001b[A\u001b[32m[I 2021-07-07 20:39:55,156]\u001b[0m Trial 36 finished with value: 0.6904455959581561 and parameters: {'bagging_fraction': 0.5069682783268029, 'bagging_freq': 5}. Best is trial 30 with value: 0.6889115946794526.\u001b[0m\n",
            "bagging, val_score: 0.688912: 100%|##########| 10/10 [07:07<00:00, 42.74s/it]\n",
            "\n",
            "\n",
            "  0%|          | 0/6 [00:00<?, ?it/s]\u001b[A\u001b[A\n",
            "\n",
            "feature_fraction_stage2, val_score: 0.688912:   0%|          | 0/6 [00:00<?, ?it/s]\u001b[A\u001b[A"
          ],
          "name": "stderr"
        },
        {
          "output_type": "stream",
          "text": [
            "Early stopping, best iteration is:\n",
            "[250]\tvalid_0's l1: 0.690446\n",
            "Training until validation scores don't improve for 100 rounds.\n",
            "[100]\tvalid_0's l1: 0.6898\n",
            "[200]\tvalid_0's l1: 0.689091\n"
          ],
          "name": "stdout"
        },
        {
          "output_type": "stream",
          "text": [
            "\n",
            "\n",
            "feature_fraction_stage2, val_score: 0.688912:   0%|          | 0/6 [00:23<?, ?it/s]\u001b[A\u001b[A\n",
            "\n",
            "feature_fraction_stage2, val_score: 0.688912:  17%|#6        | 1/6 [00:23<01:59, 23.83s/it]\u001b[A\u001b[A\u001b[32m[I 2021-07-07 20:40:19,016]\u001b[0m Trial 37 finished with value: 0.6890803897057627 and parameters: {'feature_fraction': 0.584}. Best is trial 37 with value: 0.6890803897057627.\u001b[0m\n",
            "\n",
            "\n",
            "feature_fraction_stage2, val_score: 0.688912:  17%|#6        | 1/6 [00:23<01:59, 23.83s/it]\u001b[A\u001b[A"
          ],
          "name": "stderr"
        },
        {
          "output_type": "stream",
          "text": [
            "Early stopping, best iteration is:\n",
            "[156]\tvalid_0's l1: 0.68908\n",
            "Training until validation scores don't improve for 100 rounds.\n",
            "[100]\tvalid_0's l1: 0.689368\n",
            "[200]\tvalid_0's l1: 0.689363\n",
            "[300]\tvalid_0's l1: 0.689292\n",
            "[400]\tvalid_0's l1: 0.689298\n"
          ],
          "name": "stdout"
        },
        {
          "output_type": "stream",
          "text": [
            "\n",
            "\n",
            "feature_fraction_stage2, val_score: 0.688912:  17%|#6        | 1/6 [01:00<01:59, 23.83s/it]\u001b[A\u001b[A\n",
            "\n",
            "feature_fraction_stage2, val_score: 0.688912:  33%|###3      | 2/6 [01:00<01:50, 27.67s/it]\u001b[A\u001b[A\u001b[32m[I 2021-07-07 20:40:55,644]\u001b[0m Trial 38 finished with value: 0.6892912757071388 and parameters: {'feature_fraction': 0.616}. Best is trial 37 with value: 0.6890803897057627.\u001b[0m\n",
            "\n",
            "\n",
            "feature_fraction_stage2, val_score: 0.688912:  33%|###3      | 2/6 [01:00<01:50, 27.67s/it]\u001b[A\u001b[A"
          ],
          "name": "stderr"
        },
        {
          "output_type": "stream",
          "text": [
            "Early stopping, best iteration is:\n",
            "[311]\tvalid_0's l1: 0.689291\n",
            "Training until validation scores don't improve for 100 rounds.\n",
            "[100]\tvalid_0's l1: 0.691099\n",
            "[200]\tvalid_0's l1: 0.689823\n",
            "[300]\tvalid_0's l1: 0.689775\n"
          ],
          "name": "stdout"
        },
        {
          "output_type": "stream",
          "text": [
            "\n",
            "\n",
            "feature_fraction_stage2, val_score: 0.688912:  33%|###3      | 2/6 [01:31<01:50, 27.67s/it]\u001b[A\u001b[A\n",
            "\n",
            "feature_fraction_stage2, val_score: 0.688912:  50%|#####     | 3/6 [01:31<01:26, 28.79s/it]\u001b[A\u001b[A\u001b[32m[I 2021-07-07 20:41:27,049]\u001b[0m Trial 39 finished with value: 0.6897699710983 and parameters: {'feature_fraction': 0.6479999999999999}. Best is trial 37 with value: 0.6890803897057627.\u001b[0m\n",
            "\n",
            "\n",
            "feature_fraction_stage2, val_score: 0.688912:  50%|#####     | 3/6 [01:31<01:26, 28.79s/it]\u001b[A\u001b[A"
          ],
          "name": "stderr"
        },
        {
          "output_type": "stream",
          "text": [
            "Early stopping, best iteration is:\n",
            "[246]\tvalid_0's l1: 0.68977\n",
            "Training until validation scores don't improve for 100 rounds.\n",
            "[100]\tvalid_0's l1: 0.69318\n",
            "[200]\tvalid_0's l1: 0.693169\n"
          ],
          "name": "stdout"
        },
        {
          "output_type": "stream",
          "text": [
            "\n",
            "\n",
            "feature_fraction_stage2, val_score: 0.688912:  50%|#####     | 3/6 [01:55<01:26, 28.79s/it]\u001b[A\u001b[A\n",
            "\n",
            "feature_fraction_stage2, val_score: 0.688912:  67%|######6   | 4/6 [01:55<00:54, 27.34s/it]\u001b[A\u001b[A\u001b[32m[I 2021-07-07 20:41:51,003]\u001b[0m Trial 40 finished with value: 0.6931443437527598 and parameters: {'feature_fraction': 0.52}. Best is trial 37 with value: 0.6890803897057627.\u001b[0m\n",
            "\n",
            "\n",
            "feature_fraction_stage2, val_score: 0.688912:  67%|######6   | 4/6 [01:55<00:54, 27.34s/it]\u001b[A\u001b[A"
          ],
          "name": "stderr"
        },
        {
          "output_type": "stream",
          "text": [
            "Early stopping, best iteration is:\n",
            "[143]\tvalid_0's l1: 0.693144\n",
            "Training until validation scores don't improve for 100 rounds.\n",
            "[100]\tvalid_0's l1: 0.68982\n",
            "[200]\tvalid_0's l1: 0.68952\n",
            "[300]\tvalid_0's l1: 0.68947\n"
          ],
          "name": "stdout"
        },
        {
          "output_type": "stream",
          "text": [
            "\n",
            "\n",
            "feature_fraction_stage2, val_score: 0.688912:  67%|######6   | 4/6 [02:23<00:54, 27.34s/it]\u001b[A\u001b[A\n",
            "\n",
            "feature_fraction_stage2, val_score: 0.688912:  83%|########3 | 5/6 [02:23<00:27, 27.50s/it]\u001b[A\u001b[A\u001b[32m[I 2021-07-07 20:42:18,860]\u001b[0m Trial 41 finished with value: 0.689462362830712 and parameters: {'feature_fraction': 0.6799999999999999}. Best is trial 37 with value: 0.6890803897057627.\u001b[0m\n",
            "\n",
            "\n",
            "feature_fraction_stage2, val_score: 0.688912:  83%|########3 | 5/6 [02:23<00:27, 27.50s/it]\u001b[A\u001b[A"
          ],
          "name": "stderr"
        },
        {
          "output_type": "stream",
          "text": [
            "Early stopping, best iteration is:\n",
            "[209]\tvalid_0's l1: 0.689462\n",
            "Training until validation scores don't improve for 100 rounds.\n",
            "[100]\tvalid_0's l1: 0.689658\n",
            "[200]\tvalid_0's l1: 0.689486\n",
            "[300]\tvalid_0's l1: 0.689464\n",
            "[400]\tvalid_0's l1: 0.689471\n"
          ],
          "name": "stdout"
        },
        {
          "output_type": "stream",
          "text": [
            "\n",
            "\n",
            "feature_fraction_stage2, val_score: 0.688912:  83%|########3 | 5/6 [03:02<00:27, 27.50s/it]\u001b[A\u001b[A\n",
            "\n",
            "feature_fraction_stage2, val_score: 0.688912: 100%|##########| 6/6 [03:02<00:00, 30.99s/it]\u001b[A\u001b[A\u001b[32m[I 2021-07-07 20:42:58,006]\u001b[0m Trial 42 finished with value: 0.6894568271105439 and parameters: {'feature_fraction': 0.552}. Best is trial 37 with value: 0.6890803897057627.\u001b[0m\n",
            "feature_fraction_stage2, val_score: 0.688912: 100%|##########| 6/6 [03:02<00:00, 30.47s/it]\n",
            "\n",
            "\n",
            "  0%|          | 0/20 [00:00<?, ?it/s]\u001b[A\u001b[A\n",
            "\n",
            "regularization_factors, val_score: 0.688912:   0%|          | 0/20 [00:00<?, ?it/s]\u001b[A\u001b[A"
          ],
          "name": "stderr"
        },
        {
          "output_type": "stream",
          "text": [
            "Early stopping, best iteration is:\n",
            "[343]\tvalid_0's l1: 0.689457\n",
            "Training until validation scores don't improve for 100 rounds.\n",
            "[100]\tvalid_0's l1: 0.687786\n",
            "[200]\tvalid_0's l1: 0.687685\n",
            "[300]\tvalid_0's l1: 0.687687\n",
            "[400]\tvalid_0's l1: 0.687655\n",
            "[500]\tvalid_0's l1: 0.687659\n"
          ],
          "name": "stdout"
        },
        {
          "output_type": "stream",
          "text": [
            "\n",
            "\n",
            "regularization_factors, val_score: 0.687646:   0%|          | 0/20 [00:43<?, ?it/s]\u001b[A\u001b[A\n",
            "\n",
            "regularization_factors, val_score: 0.687646:   5%|5         | 1/20 [00:43<13:44, 43.40s/it]\u001b[A\u001b[A\u001b[32m[I 2021-07-07 20:43:41,423]\u001b[0m Trial 43 finished with value: 0.687646024793094 and parameters: {'lambda_l1': 0.024769896353648194, 'lambda_l2': 7.356368358294655}. Best is trial 43 with value: 0.687646024793094.\u001b[0m\n",
            "\n",
            "\n",
            "regularization_factors, val_score: 0.687646:   5%|5         | 1/20 [00:43<13:44, 43.40s/it]\u001b[A\u001b[A"
          ],
          "name": "stderr"
        },
        {
          "output_type": "stream",
          "text": [
            "Early stopping, best iteration is:\n",
            "[405]\tvalid_0's l1: 0.687646\n",
            "Training until validation scores don't improve for 100 rounds.\n",
            "[100]\tvalid_0's l1: 0.689462\n",
            "[200]\tvalid_0's l1: 0.689332\n",
            "[300]\tvalid_0's l1: 0.689346\n"
          ],
          "name": "stdout"
        },
        {
          "output_type": "stream",
          "text": [
            "\n",
            "\n",
            "regularization_factors, val_score: 0.687646:   5%|5         | 1/20 [01:12<13:44, 43.40s/it]\u001b[A\u001b[A\n",
            "\n",
            "regularization_factors, val_score: 0.687646:  10%|#         | 2/20 [01:12<11:42, 39.05s/it]\u001b[A\u001b[A\u001b[32m[I 2021-07-07 20:44:10,337]\u001b[0m Trial 44 finished with value: 0.6893310584938217 and parameters: {'lambda_l1': 0.0006520231782527003, 'lambda_l2': 9.60796955409598e-05}. Best is trial 43 with value: 0.687646024793094.\u001b[0m\n",
            "\n",
            "\n",
            "regularization_factors, val_score: 0.687646:  10%|#         | 2/20 [01:12<11:42, 39.05s/it]\u001b[A\u001b[A"
          ],
          "name": "stderr"
        },
        {
          "output_type": "stream",
          "text": [
            "Early stopping, best iteration is:\n",
            "[207]\tvalid_0's l1: 0.689331\n",
            "Training until validation scores don't improve for 100 rounds.\n",
            "[100]\tvalid_0's l1: 0.690107\n",
            "[200]\tvalid_0's l1: 0.689942\n",
            "[300]\tvalid_0's l1: 0.689933\n"
          ],
          "name": "stdout"
        },
        {
          "output_type": "stream",
          "text": [
            "\n",
            "\n",
            "regularization_factors, val_score: 0.687646:  10%|#         | 2/20 [01:40<11:42, 39.05s/it]\u001b[A\u001b[A\n",
            "\n",
            "regularization_factors, val_score: 0.687646:  15%|#5        | 3/20 [01:40<10:09, 35.85s/it]\u001b[A\u001b[A\u001b[32m[I 2021-07-07 20:44:38,702]\u001b[0m Trial 45 finished with value: 0.6899224961485149 and parameters: {'lambda_l1': 0.04834235381530208, 'lambda_l2': 2.090969490725055e-07}. Best is trial 43 with value: 0.687646024793094.\u001b[0m\n",
            "\n",
            "\n",
            "regularization_factors, val_score: 0.687646:  15%|#5        | 3/20 [01:40<10:09, 35.85s/it]\u001b[A\u001b[A"
          ],
          "name": "stderr"
        },
        {
          "output_type": "stream",
          "text": [
            "Early stopping, best iteration is:\n",
            "[225]\tvalid_0's l1: 0.689922\n",
            "Training until validation scores don't improve for 100 rounds.\n",
            "[100]\tvalid_0's l1: 0.6881\n",
            "[200]\tvalid_0's l1: 0.688023\n",
            "[300]\tvalid_0's l1: 0.687955\n"
          ],
          "name": "stdout"
        },
        {
          "output_type": "stream",
          "text": [
            "\n",
            "\n",
            "regularization_factors, val_score: 0.687646:  15%|#5        | 3/20 [02:08<10:09, 35.85s/it]\u001b[A\u001b[A\n",
            "\n",
            "regularization_factors, val_score: 0.687646:  20%|##        | 4/20 [02:08<08:53, 33.33s/it]\u001b[A\u001b[A\u001b[32m[I 2021-07-07 20:45:06,155]\u001b[0m Trial 46 finished with value: 0.6879501840231537 and parameters: {'lambda_l1': 9.223285088584816e-06, 'lambda_l2': 0.00034974833149412576}. Best is trial 43 with value: 0.687646024793094.\u001b[0m\n",
            "\n",
            "\n",
            "regularization_factors, val_score: 0.687646:  20%|##        | 4/20 [02:08<08:53, 33.33s/it]\u001b[A\u001b[A"
          ],
          "name": "stderr"
        },
        {
          "output_type": "stream",
          "text": [
            "Early stopping, best iteration is:\n",
            "[222]\tvalid_0's l1: 0.68795\n",
            "Training until validation scores don't improve for 100 rounds.\n",
            "[100]\tvalid_0's l1: 0.690194\n",
            "[200]\tvalid_0's l1: 0.689147\n"
          ],
          "name": "stdout"
        },
        {
          "output_type": "stream",
          "text": [
            "\n",
            "\n",
            "regularization_factors, val_score: 0.687646:  20%|##        | 4/20 [02:29<08:53, 33.33s/it]\u001b[A\u001b[A\n",
            "\n",
            "regularization_factors, val_score: 0.687646:  25%|##5       | 5/20 [02:29<07:27, 29.83s/it]\u001b[A\u001b[A\u001b[32m[I 2021-07-07 20:45:27,821]\u001b[0m Trial 47 finished with value: 0.6891447091530292 and parameters: {'lambda_l1': 1.2506726970895332e-06, 'lambda_l2': 1.098761373267529}. Best is trial 43 with value: 0.687646024793094.\u001b[0m\n",
            "\n",
            "\n",
            "regularization_factors, val_score: 0.687646:  25%|##5       | 5/20 [02:29<07:27, 29.83s/it]\u001b[A\u001b[A"
          ],
          "name": "stderr"
        },
        {
          "output_type": "stream",
          "text": [
            "Early stopping, best iteration is:\n",
            "[142]\tvalid_0's l1: 0.689145\n",
            "Training until validation scores don't improve for 100 rounds.\n",
            "[100]\tvalid_0's l1: 0.68886\n",
            "[200]\tvalid_0's l1: 0.688755\n",
            "[300]\tvalid_0's l1: 0.68874\n"
          ],
          "name": "stdout"
        },
        {
          "output_type": "stream",
          "text": [
            "\n",
            "\n",
            "regularization_factors, val_score: 0.687646:  25%|##5       | 5/20 [02:56<07:27, 29.83s/it]\u001b[A\u001b[A\n",
            "\n",
            "regularization_factors, val_score: 0.687646:  30%|###       | 6/20 [02:56<06:42, 28.76s/it]\u001b[A\u001b[A\u001b[32m[I 2021-07-07 20:45:54,070]\u001b[0m Trial 48 finished with value: 0.6887194629547988 and parameters: {'lambda_l1': 0.011734837662082259, 'lambda_l2': 4.931059214708743}. Best is trial 43 with value: 0.687646024793094.\u001b[0m\n",
            "\n",
            "\n",
            "regularization_factors, val_score: 0.687646:  30%|###       | 6/20 [02:56<06:42, 28.76s/it]\u001b[A\u001b[A"
          ],
          "name": "stderr"
        },
        {
          "output_type": "stream",
          "text": [
            "Early stopping, best iteration is:\n",
            "[205]\tvalid_0's l1: 0.688719\n",
            "Training until validation scores don't improve for 100 rounds.\n",
            "[100]\tvalid_0's l1: 0.692566\n",
            "[200]\tvalid_0's l1: 0.692449\n"
          ],
          "name": "stdout"
        },
        {
          "output_type": "stream",
          "text": [
            "\n",
            "\n",
            "regularization_factors, val_score: 0.687646:  30%|###       | 6/20 [03:21<06:42, 28.76s/it]\u001b[A\u001b[A\n",
            "\n",
            "regularization_factors, val_score: 0.687646:  35%|###5      | 7/20 [03:21<05:59, 27.65s/it]\u001b[A\u001b[A\u001b[32m[I 2021-07-07 20:46:19,140]\u001b[0m Trial 49 finished with value: 0.6924471735045594 and parameters: {'lambda_l1': 0.02682039826524588, 'lambda_l2': 2.1763828413172375}. Best is trial 43 with value: 0.687646024793094.\u001b[0m\n",
            "\n",
            "\n",
            "regularization_factors, val_score: 0.687646:  35%|###5      | 7/20 [03:21<05:59, 27.65s/it]\u001b[A\u001b[A"
          ],
          "name": "stderr"
        },
        {
          "output_type": "stream",
          "text": [
            "Early stopping, best iteration is:\n",
            "[188]\tvalid_0's l1: 0.692447\n",
            "Training until validation scores don't improve for 100 rounds.\n",
            "[100]\tvalid_0's l1: 0.690783\n",
            "[200]\tvalid_0's l1: 0.690748\n",
            "[300]\tvalid_0's l1: 0.69064\n"
          ],
          "name": "stdout"
        },
        {
          "output_type": "stream",
          "text": [
            "\n",
            "\n",
            "regularization_factors, val_score: 0.687646:  35%|###5      | 7/20 [03:54<05:59, 27.65s/it]\u001b[A\u001b[A\n",
            "\n",
            "regularization_factors, val_score: 0.687646:  40%|####      | 8/20 [03:54<05:51, 29.29s/it]\u001b[A\u001b[A\u001b[32m[I 2021-07-07 20:46:52,241]\u001b[0m Trial 50 finished with value: 0.6906401916652622 and parameters: {'lambda_l1': 1.515125751239425e-08, 'lambda_l2': 0.16950454125858475}. Best is trial 43 with value: 0.687646024793094.\u001b[0m\n",
            "\n",
            "\n",
            "regularization_factors, val_score: 0.687646:  40%|####      | 8/20 [03:54<05:51, 29.29s/it]\u001b[A\u001b[A"
          ],
          "name": "stderr"
        },
        {
          "output_type": "stream",
          "text": [
            "Early stopping, best iteration is:\n",
            "[298]\tvalid_0's l1: 0.69064\n",
            "Training until validation scores don't improve for 100 rounds.\n",
            "[100]\tvalid_0's l1: 0.689894\n",
            "[200]\tvalid_0's l1: 0.688852\n",
            "[300]\tvalid_0's l1: 0.688834\n"
          ],
          "name": "stdout"
        },
        {
          "output_type": "stream",
          "text": [
            "\n",
            "\n",
            "regularization_factors, val_score: 0.687646:  40%|####      | 8/20 [04:21<05:51, 29.29s/it]\u001b[A\u001b[A\n",
            "\n",
            "regularization_factors, val_score: 0.687646:  45%|####5     | 9/20 [04:21<05:13, 28.54s/it]\u001b[A\u001b[A\u001b[32m[I 2021-07-07 20:47:19,047]\u001b[0m Trial 51 finished with value: 0.68882235998688 and parameters: {'lambda_l1': 3.596350890905916e-07, 'lambda_l2': 4.348279095251392}. Best is trial 43 with value: 0.687646024793094.\u001b[0m\n",
            "\n",
            "\n",
            "regularization_factors, val_score: 0.687646:  45%|####5     | 9/20 [04:21<05:13, 28.54s/it]\u001b[A\u001b[A"
          ],
          "name": "stderr"
        },
        {
          "output_type": "stream",
          "text": [
            "Early stopping, best iteration is:\n",
            "[211]\tvalid_0's l1: 0.688822\n",
            "Training until validation scores don't improve for 100 rounds.\n",
            "[100]\tvalid_0's l1: 0.693209\n"
          ],
          "name": "stdout"
        },
        {
          "output_type": "stream",
          "text": [
            "\n",
            "\n",
            "regularization_factors, val_score: 0.687646:  45%|####5     | 9/20 [04:37<05:13, 28.54s/it]\u001b[A\u001b[A\n",
            "\n",
            "regularization_factors, val_score: 0.687646:  50%|#####     | 10/20 [04:37<04:08, 24.86s/it]\u001b[A\u001b[A\u001b[32m[I 2021-07-07 20:47:35,336]\u001b[0m Trial 52 finished with value: 0.693189594061747 and parameters: {'lambda_l1': 0.003317955283688452, 'lambda_l2': 2.0193679288912336}. Best is trial 43 with value: 0.687646024793094.\u001b[0m\n",
            "\n",
            "\n",
            "regularization_factors, val_score: 0.687646:  50%|#####     | 10/20 [04:37<04:08, 24.86s/it]\u001b[A\u001b[A"
          ],
          "name": "stderr"
        },
        {
          "output_type": "stream",
          "text": [
            "Early stopping, best iteration is:\n",
            "[72]\tvalid_0's l1: 0.69319\n",
            "Training until validation scores don't improve for 100 rounds.\n",
            "[100]\tvalid_0's l1: 0.690054\n",
            "[200]\tvalid_0's l1: 0.688958\n",
            "[300]\tvalid_0's l1: 0.688695\n"
          ],
          "name": "stdout"
        },
        {
          "output_type": "stream",
          "text": [
            "\n",
            "\n",
            "regularization_factors, val_score: 0.687646:  50%|#####     | 10/20 [05:10<04:08, 24.86s/it]\u001b[A\u001b[A\n",
            "\n",
            "regularization_factors, val_score: 0.687646:  55%|#####5    | 11/20 [05:10<04:05, 27.26s/it]\u001b[A\u001b[A\u001b[32m[I 2021-07-07 20:48:08,176]\u001b[0m Trial 53 finished with value: 0.6886954115150243 and parameters: {'lambda_l1': 3.2060710780618833, 'lambda_l2': 0.012946490518767244}. Best is trial 43 with value: 0.687646024793094.\u001b[0m\n",
            "\n",
            "\n",
            "regularization_factors, val_score: 0.687646:  55%|#####5    | 11/20 [05:10<04:05, 27.26s/it]\u001b[A\u001b[A"
          ],
          "name": "stderr"
        },
        {
          "output_type": "stream",
          "text": [
            "Early stopping, best iteration is:\n",
            "[293]\tvalid_0's l1: 0.688695\n",
            "Training until validation scores don't improve for 100 rounds.\n",
            "[100]\tvalid_0's l1: 0.6881\n",
            "[200]\tvalid_0's l1: 0.688023\n",
            "[300]\tvalid_0's l1: 0.687955\n"
          ],
          "name": "stdout"
        },
        {
          "output_type": "stream",
          "text": [
            "\n",
            "\n",
            "regularization_factors, val_score: 0.687646:  55%|#####5    | 11/20 [05:37<04:05, 27.26s/it]\u001b[A\u001b[A\n",
            "\n",
            "regularization_factors, val_score: 0.687646:  60%|######    | 12/20 [05:37<03:38, 27.37s/it]\u001b[A\u001b[A\u001b[32m[I 2021-07-07 20:48:35,816]\u001b[0m Trial 54 finished with value: 0.6879501840231534 and parameters: {'lambda_l1': 1.1895541168445663e-05, 'lambda_l2': 2.428271696913036e-05}. Best is trial 43 with value: 0.687646024793094.\u001b[0m\n",
            "\n",
            "\n",
            "regularization_factors, val_score: 0.687646:  60%|######    | 12/20 [05:37<03:38, 27.37s/it]\u001b[A\u001b[A"
          ],
          "name": "stderr"
        },
        {
          "output_type": "stream",
          "text": [
            "Early stopping, best iteration is:\n",
            "[222]\tvalid_0's l1: 0.68795\n",
            "Training until validation scores don't improve for 100 rounds.\n",
            "[100]\tvalid_0's l1: 0.6881\n",
            "[200]\tvalid_0's l1: 0.688023\n",
            "[300]\tvalid_0's l1: 0.687955\n"
          ],
          "name": "stdout"
        },
        {
          "output_type": "stream",
          "text": [
            "\n",
            "\n",
            "regularization_factors, val_score: 0.687646:  60%|######    | 12/20 [06:05<03:38, 27.37s/it]\u001b[A\u001b[A\n",
            "\n",
            "regularization_factors, val_score: 0.687646:  65%|######5   | 13/20 [06:05<03:11, 27.43s/it]\u001b[A\u001b[A\u001b[32m[I 2021-07-07 20:49:03,369]\u001b[0m Trial 55 finished with value: 0.6879501840231538 and parameters: {'lambda_l1': 5.008161822927528e-05, 'lambda_l2': 1.4978588481141597e-07}. Best is trial 43 with value: 0.687646024793094.\u001b[0m\n",
            "\n",
            "\n",
            "regularization_factors, val_score: 0.687646:  65%|######5   | 13/20 [06:05<03:11, 27.43s/it]\u001b[A\u001b[A"
          ],
          "name": "stderr"
        },
        {
          "output_type": "stream",
          "text": [
            "Early stopping, best iteration is:\n",
            "[222]\tvalid_0's l1: 0.68795\n",
            "Training until validation scores don't improve for 100 rounds.\n",
            "[100]\tvalid_0's l1: 0.689931\n",
            "[200]\tvalid_0's l1: 0.688807\n"
          ],
          "name": "stdout"
        },
        {
          "output_type": "stream",
          "text": [
            "\n",
            "\n",
            "regularization_factors, val_score: 0.687646:  65%|######5   | 13/20 [06:28<03:11, 27.43s/it]\u001b[A\u001b[A\n",
            "\n",
            "regularization_factors, val_score: 0.687646:  70%|#######   | 14/20 [06:28<02:37, 26.19s/it]\u001b[A\u001b[A\u001b[32m[I 2021-07-07 20:49:26,685]\u001b[0m Trial 56 finished with value: 0.688799935965914 and parameters: {'lambda_l1': 5.510098011658532, 'lambda_l2': 1.4134853614739334e-05}. Best is trial 43 with value: 0.687646024793094.\u001b[0m\n",
            "\n",
            "\n",
            "regularization_factors, val_score: 0.687646:  70%|#######   | 14/20 [06:28<02:37, 26.19s/it]\u001b[A\u001b[A"
          ],
          "name": "stderr"
        },
        {
          "output_type": "stream",
          "text": [
            "Early stopping, best iteration is:\n",
            "[167]\tvalid_0's l1: 0.6888\n",
            "Training until validation scores don't improve for 100 rounds.\n",
            "[100]\tvalid_0's l1: 0.690365\n",
            "[200]\tvalid_0's l1: 0.689358\n"
          ],
          "name": "stdout"
        },
        {
          "output_type": "stream",
          "text": [
            "\n",
            "\n",
            "regularization_factors, val_score: 0.687646:  70%|#######   | 14/20 [06:52<02:37, 26.19s/it]\u001b[A\u001b[A\n",
            "\n",
            "regularization_factors, val_score: 0.687646:  75%|#######5  | 15/20 [06:52<02:07, 25.54s/it]\u001b[A\u001b[A\u001b[32m[I 2021-07-07 20:49:50,711]\u001b[0m Trial 57 finished with value: 0.6893537536733132 and parameters: {'lambda_l1': 0.34347853702338665, 'lambda_l2': 5.854509005525844e-06}. Best is trial 43 with value: 0.687646024793094.\u001b[0m\n",
            "\n",
            "\n",
            "regularization_factors, val_score: 0.687646:  75%|#######5  | 15/20 [06:52<02:07, 25.54s/it]\u001b[A\u001b[A"
          ],
          "name": "stderr"
        },
        {
          "output_type": "stream",
          "text": [
            "Early stopping, best iteration is:\n",
            "[170]\tvalid_0's l1: 0.689354\n",
            "Training until validation scores don't improve for 100 rounds.\n",
            "[100]\tvalid_0's l1: 0.688074\n",
            "[200]\tvalid_0's l1: 0.687949\n"
          ],
          "name": "stdout"
        },
        {
          "output_type": "stream",
          "text": [
            "\n",
            "\n",
            "regularization_factors, val_score: 0.687646:  75%|#######5  | 15/20 [07:15<02:07, 25.54s/it]\u001b[A\u001b[A\n",
            "\n",
            "regularization_factors, val_score: 0.687646:  80%|########  | 16/20 [07:15<01:39, 24.82s/it]\u001b[A\u001b[A\u001b[32m[I 2021-07-07 20:50:13,843]\u001b[0m Trial 58 finished with value: 0.687938975621912 and parameters: {'lambda_l1': 0.0002103246532038834, 'lambda_l2': 0.004368895229198471}. Best is trial 43 with value: 0.687646024793094.\u001b[0m\n",
            "\n",
            "\n",
            "regularization_factors, val_score: 0.687646:  80%|########  | 16/20 [07:15<01:39, 24.82s/it]\u001b[A\u001b[A"
          ],
          "name": "stderr"
        },
        {
          "output_type": "stream",
          "text": [
            "Early stopping, best iteration is:\n",
            "[158]\tvalid_0's l1: 0.687939\n",
            "Training until validation scores don't improve for 100 rounds.\n",
            "[100]\tvalid_0's l1: 0.689646\n",
            "[200]\tvalid_0's l1: 0.689394\n",
            "[300]\tvalid_0's l1: 0.689295\n",
            "[400]\tvalid_0's l1: 0.689233\n",
            "[500]\tvalid_0's l1: 0.689224\n"
          ],
          "name": "stdout"
        },
        {
          "output_type": "stream",
          "text": [
            "\n",
            "\n",
            "regularization_factors, val_score: 0.687646:  80%|########  | 16/20 [07:58<01:39, 24.82s/it]\u001b[A\u001b[A\n",
            "\n",
            "regularization_factors, val_score: 0.687646:  85%|########5 | 17/20 [07:58<01:30, 30.23s/it]\u001b[A\u001b[A\u001b[32m[I 2021-07-07 20:50:56,681]\u001b[0m Trial 59 finished with value: 0.6891991065612886 and parameters: {'lambda_l1': 0.0002552939077658488, 'lambda_l2': 0.005076458504011787}. Best is trial 43 with value: 0.687646024793094.\u001b[0m\n",
            "\n",
            "\n",
            "regularization_factors, val_score: 0.687646:  85%|########5 | 17/20 [07:58<01:30, 30.23s/it]\u001b[A\u001b[A"
          ],
          "name": "stderr"
        },
        {
          "output_type": "stream",
          "text": [
            "Early stopping, best iteration is:\n",
            "[408]\tvalid_0's l1: 0.689199\n",
            "Training until validation scores don't improve for 100 rounds.\n",
            "[100]\tvalid_0's l1: 0.690878\n",
            "[200]\tvalid_0's l1: 0.689822\n"
          ],
          "name": "stdout"
        },
        {
          "output_type": "stream",
          "text": [
            "\n",
            "\n",
            "regularization_factors, val_score: 0.687646:  85%|########5 | 17/20 [08:19<01:30, 30.23s/it]\u001b[A\u001b[A\n",
            "\n",
            "regularization_factors, val_score: 0.687646:  90%|######### | 18/20 [08:19<00:54, 27.31s/it]\u001b[A\u001b[A\u001b[32m[I 2021-07-07 20:51:17,194]\u001b[0m Trial 60 finished with value: 0.6898007510960036 and parameters: {'lambda_l1': 0.16672094818212546, 'lambda_l2': 0.04528102946297892}. Best is trial 43 with value: 0.687646024793094.\u001b[0m\n",
            "\n",
            "\n",
            "regularization_factors, val_score: 0.687646:  90%|######### | 18/20 [08:19<00:54, 27.31s/it]\u001b[A\u001b[A"
          ],
          "name": "stderr"
        },
        {
          "output_type": "stream",
          "text": [
            "Early stopping, best iteration is:\n",
            "[104]\tvalid_0's l1: 0.689801\n",
            "Training until validation scores don't improve for 100 rounds.\n",
            "[100]\tvalid_0's l1: 0.689463\n",
            "[200]\tvalid_0's l1: 0.689507\n"
          ],
          "name": "stdout"
        },
        {
          "output_type": "stream",
          "text": [
            "\n",
            "\n",
            "regularization_factors, val_score: 0.687646:  90%|######### | 18/20 [08:40<00:54, 27.31s/it]\u001b[A\u001b[A\n",
            "\n",
            "regularization_factors, val_score: 0.687646:  95%|#########5| 19/20 [08:40<00:25, 25.56s/it]\u001b[A\u001b[A\u001b[32m[I 2021-07-07 20:51:38,676]\u001b[0m Trial 61 finished with value: 0.6894513369760096 and parameters: {'lambda_l1': 0.0008869118205135191, 'lambda_l2': 0.0009390205900434262}. Best is trial 43 with value: 0.687646024793094.\u001b[0m\n",
            "\n",
            "\n",
            "regularization_factors, val_score: 0.687646:  95%|#########5| 19/20 [08:40<00:25, 25.56s/it]\u001b[A\u001b[A"
          ],
          "name": "stderr"
        },
        {
          "output_type": "stream",
          "text": [
            "Early stopping, best iteration is:\n",
            "[120]\tvalid_0's l1: 0.689451\n",
            "Training until validation scores don't improve for 100 rounds.\n",
            "[100]\tvalid_0's l1: 0.68998\n",
            "[200]\tvalid_0's l1: 0.689901\n"
          ],
          "name": "stdout"
        },
        {
          "output_type": "stream",
          "text": [
            "\n",
            "\n",
            "regularization_factors, val_score: 0.687646:  95%|#########5| 19/20 [09:02<00:25, 25.56s/it]\u001b[A\u001b[A\n",
            "\n",
            "regularization_factors, val_score: 0.687646: 100%|##########| 20/20 [09:03<00:00, 24.60s/it]\u001b[A\u001b[A\u001b[32m[I 2021-07-07 20:52:01,034]\u001b[0m Trial 62 finished with value: 0.6898938396396956 and parameters: {'lambda_l1': 0.6102541994113322, 'lambda_l2': 0.1284131320650475}. Best is trial 43 with value: 0.687646024793094.\u001b[0m\n",
            "regularization_factors, val_score: 0.687646: 100%|##########| 20/20 [09:03<00:00, 27.15s/it]\n",
            "\n",
            "\n",
            "  0%|          | 0/5 [00:00<?, ?it/s]\u001b[A\u001b[A\n",
            "\n",
            "min_data_in_leaf, val_score: 0.687646:   0%|          | 0/5 [00:00<?, ?it/s]\u001b[A\u001b[A"
          ],
          "name": "stderr"
        },
        {
          "output_type": "stream",
          "text": [
            "Early stopping, best iteration is:\n",
            "[137]\tvalid_0's l1: 0.689894\n",
            "Training until validation scores don't improve for 100 rounds.\n",
            "[100]\tvalid_0's l1: 0.69141\n",
            "[200]\tvalid_0's l1: 0.690115\n"
          ],
          "name": "stdout"
        },
        {
          "output_type": "stream",
          "text": [
            "\n",
            "\n",
            "min_data_in_leaf, val_score: 0.687646:   0%|          | 0/5 [00:22<?, ?it/s]\u001b[A\u001b[A\n",
            "\n",
            "min_data_in_leaf, val_score: 0.687646:  20%|##        | 1/5 [00:22<01:30, 22.65s/it]\u001b[A\u001b[A\u001b[32m[I 2021-07-07 20:52:23,715]\u001b[0m Trial 63 finished with value: 0.6900798450016129 and parameters: {'min_child_samples': 50}. Best is trial 63 with value: 0.6900798450016129.\u001b[0m\n",
            "\n",
            "\n",
            "min_data_in_leaf, val_score: 0.687646:  20%|##        | 1/5 [00:22<01:30, 22.65s/it]\u001b[A\u001b[A"
          ],
          "name": "stderr"
        },
        {
          "output_type": "stream",
          "text": [
            "Early stopping, best iteration is:\n",
            "[149]\tvalid_0's l1: 0.69008\n",
            "Training until validation scores don't improve for 100 rounds.\n",
            "[100]\tvalid_0's l1: 0.6904\n",
            "[200]\tvalid_0's l1: 0.690391\n"
          ],
          "name": "stdout"
        },
        {
          "output_type": "stream",
          "text": [
            "\n",
            "\n",
            "min_data_in_leaf, val_score: 0.687646:  20%|##        | 1/5 [00:41<01:30, 22.65s/it]\u001b[A\u001b[A\n",
            "\n",
            "min_data_in_leaf, val_score: 0.687646:  40%|####      | 2/5 [00:41<01:04, 21.64s/it]\u001b[A\u001b[A\u001b[32m[I 2021-07-07 20:52:42,992]\u001b[0m Trial 64 finished with value: 0.6903587619400752 and parameters: {'min_child_samples': 100}. Best is trial 63 with value: 0.6900798450016129.\u001b[0m\n",
            "\n",
            "\n",
            "min_data_in_leaf, val_score: 0.687646:  40%|####      | 2/5 [00:41<01:04, 21.64s/it]\u001b[A\u001b[A"
          ],
          "name": "stderr"
        },
        {
          "output_type": "stream",
          "text": [
            "Early stopping, best iteration is:\n",
            "[109]\tvalid_0's l1: 0.690359\n",
            "Training until validation scores don't improve for 100 rounds.\n",
            "[100]\tvalid_0's l1: 0.687812\n",
            "[200]\tvalid_0's l1: 0.687099\n",
            "[300]\tvalid_0's l1: 0.687105\n"
          ],
          "name": "stdout"
        },
        {
          "output_type": "stream",
          "text": [
            "\n",
            "\n",
            "min_data_in_leaf, val_score: 0.687095:  40%|####      | 2/5 [01:08<01:04, 21.64s/it]\u001b[A\u001b[A\n",
            "\n",
            "min_data_in_leaf, val_score: 0.687095:  60%|######    | 3/5 [01:08<00:46, 23.25s/it]\u001b[A\u001b[A\u001b[32m[I 2021-07-07 20:53:09,990]\u001b[0m Trial 65 finished with value: 0.6870954052085507 and parameters: {'min_child_samples': 5}. Best is trial 65 with value: 0.6870954052085507.\u001b[0m\n",
            "\n",
            "\n",
            "min_data_in_leaf, val_score: 0.687095:  60%|######    | 3/5 [01:08<00:46, 23.25s/it]\u001b[A\u001b[A"
          ],
          "name": "stderr"
        },
        {
          "output_type": "stream",
          "text": [
            "Early stopping, best iteration is:\n",
            "[203]\tvalid_0's l1: 0.687095\n",
            "Training until validation scores don't improve for 100 rounds.\n",
            "[100]\tvalid_0's l1: 0.687786\n",
            "[200]\tvalid_0's l1: 0.687685\n"
          ],
          "name": "stdout"
        },
        {
          "output_type": "stream",
          "text": [
            "\n",
            "\n",
            "min_data_in_leaf, val_score: 0.687095:  60%|######    | 3/5 [01:33<00:46, 23.25s/it]\u001b[A\u001b[A\n",
            "\n",
            "min_data_in_leaf, val_score: 0.687095:  80%|########  | 4/5 [01:33<00:23, 23.53s/it]\u001b[A\u001b[A\u001b[32m[I 2021-07-07 20:53:34,166]\u001b[0m Trial 66 finished with value: 0.6876839645944123 and parameters: {'min_child_samples': 25}. Best is trial 65 with value: 0.6870954052085507.\u001b[0m\n",
            "\n",
            "\n",
            "min_data_in_leaf, val_score: 0.687095:  80%|########  | 4/5 [01:33<00:23, 23.53s/it]\u001b[A\u001b[A"
          ],
          "name": "stderr"
        },
        {
          "output_type": "stream",
          "text": [
            "Early stopping, best iteration is:\n",
            "[155]\tvalid_0's l1: 0.687684\n",
            "Training until validation scores don't improve for 100 rounds.\n",
            "[100]\tvalid_0's l1: 0.687885\n",
            "[200]\tvalid_0's l1: 0.687877\n",
            "[300]\tvalid_0's l1: 0.687846\n"
          ],
          "name": "stdout"
        },
        {
          "output_type": "stream",
          "text": [
            "\n",
            "\n",
            "min_data_in_leaf, val_score: 0.687095:  80%|########  | 4/5 [02:04<00:23, 23.53s/it]\u001b[A\u001b[A\n",
            "\n",
            "min_data_in_leaf, val_score: 0.687095: 100%|##########| 5/5 [02:04<00:00, 26.01s/it]\u001b[A\u001b[A\u001b[32m[I 2021-07-07 20:54:05,985]\u001b[0m Trial 67 finished with value: 0.6878377011009524 and parameters: {'min_child_samples': 10}. Best is trial 65 with value: 0.6870954052085507.\u001b[0m\n",
            "min_data_in_leaf, val_score: 0.687095: 100%|##########| 5/5 [02:04<00:00, 24.99s/it]"
          ],
          "name": "stderr"
        },
        {
          "output_type": "stream",
          "text": [
            "Early stopping, best iteration is:\n",
            "[232]\tvalid_0's l1: 0.687838\n"
          ],
          "name": "stdout"
        },
        {
          "output_type": "stream",
          "text": [
            "\n"
          ],
          "name": "stderr"
        },
        {
          "output_type": "stream",
          "text": [
            "mae: 0.6870954052101628\n"
          ],
          "name": "stdout"
        },
        {
          "output_type": "stream",
          "text": [
            "\u001b[32m[I 2021-07-07 20:54:08,135]\u001b[0m A new study created in memory with name: no-name-49654c57-d008-4d48-99e5-67d6e0f07089\u001b[0m\n",
            "\n",
            "\n",
            "  0%|          | 0/7 [00:00<?, ?it/s]\u001b[A\u001b[A\n",
            "\n",
            "feature_fraction, val_score: inf:   0%|          | 0/7 [00:00<?, ?it/s]\u001b[A\u001b[A/usr/local/lib/python3.7/dist-packages/lightgbm/engine.py:118: UserWarning:\n",
            "\n",
            "Found `n_estimators` in params. Will use it instead of argument\n",
            "\n"
          ],
          "name": "stderr"
        },
        {
          "output_type": "stream",
          "text": [
            "Training until validation scores don't improve for 100 rounds.\n",
            "[100]\tvalid_0's l1: 1.33534\n"
          ],
          "name": "stdout"
        },
        {
          "output_type": "stream",
          "text": [
            "\n",
            "\n",
            "feature_fraction, val_score: 1.327846:   0%|          | 0/7 [00:17<?, ?it/s]\u001b[A\u001b[A\n",
            "\n",
            "feature_fraction, val_score: 1.327846:  14%|#4        | 1/7 [00:17<01:42, 17.01s/it]\u001b[A\u001b[A\u001b[32m[I 2021-07-07 20:54:25,162]\u001b[0m Trial 0 finished with value: 1.3278461965695627 and parameters: {'feature_fraction': 0.8999999999999999}. Best is trial 0 with value: 1.3278461965695627.\u001b[0m\n",
            "\n",
            "\n",
            "feature_fraction, val_score: 1.327846:  14%|#4        | 1/7 [00:17<01:42, 17.01s/it]\u001b[A\u001b[A"
          ],
          "name": "stderr"
        },
        {
          "output_type": "stream",
          "text": [
            "Early stopping, best iteration is:\n",
            "[41]\tvalid_0's l1: 1.32785\n",
            "Training until validation scores don't improve for 100 rounds.\n",
            "[100]\tvalid_0's l1: 1.33237\n"
          ],
          "name": "stdout"
        },
        {
          "output_type": "stream",
          "text": [
            "\n",
            "\n",
            "feature_fraction, val_score: 1.327846:  14%|#4        | 1/7 [00:32<01:42, 17.01s/it]\u001b[A\u001b[A\n",
            "\n",
            "feature_fraction, val_score: 1.327846:  29%|##8       | 2/7 [00:32<01:22, 16.56s/it]\u001b[A\u001b[A\u001b[32m[I 2021-07-07 20:54:40,680]\u001b[0m Trial 1 finished with value: 1.3298325255376289 and parameters: {'feature_fraction': 0.8}. Best is trial 0 with value: 1.3278461965695627.\u001b[0m\n",
            "\n",
            "\n",
            "feature_fraction, val_score: 1.327846:  29%|##8       | 2/7 [00:32<01:22, 16.56s/it]\u001b[A\u001b[A"
          ],
          "name": "stderr"
        },
        {
          "output_type": "stream",
          "text": [
            "Early stopping, best iteration is:\n",
            "[41]\tvalid_0's l1: 1.32983\n",
            "Training until validation scores don't improve for 100 rounds.\n",
            "[100]\tvalid_0's l1: 1.33509\n",
            "[200]\tvalid_0's l1: 1.33408\n"
          ],
          "name": "stdout"
        },
        {
          "output_type": "stream",
          "text": [
            "\n",
            "\n",
            "feature_fraction, val_score: 1.327846:  29%|##8       | 2/7 [00:51<01:22, 16.56s/it]\u001b[A\u001b[A\n",
            "\n",
            "feature_fraction, val_score: 1.327846:  43%|####2     | 3/7 [00:51<01:08, 17.21s/it]\u001b[A\u001b[A\u001b[32m[I 2021-07-07 20:54:59,413]\u001b[0m Trial 2 finished with value: 1.3322424837054343 and parameters: {'feature_fraction': 0.4}. Best is trial 0 with value: 1.3278461965695627.\u001b[0m\n",
            "\n",
            "\n",
            "feature_fraction, val_score: 1.327846:  43%|####2     | 3/7 [00:51<01:08, 17.21s/it]\u001b[A\u001b[A"
          ],
          "name": "stderr"
        },
        {
          "output_type": "stream",
          "text": [
            "Early stopping, best iteration is:\n",
            "[121]\tvalid_0's l1: 1.33224\n",
            "Training until validation scores don't improve for 100 rounds.\n",
            "[100]\tvalid_0's l1: 1.33719\n"
          ],
          "name": "stdout"
        },
        {
          "output_type": "stream",
          "text": [
            "\n",
            "\n",
            "feature_fraction, val_score: 1.327846:  43%|####2     | 3/7 [01:06<01:08, 17.21s/it]\u001b[A\u001b[A\n",
            "\n",
            "feature_fraction, val_score: 1.327846:  57%|#####7    | 4/7 [01:06<00:49, 16.58s/it]\u001b[A\u001b[A\u001b[32m[I 2021-07-07 20:55:14,529]\u001b[0m Trial 3 finished with value: 1.3345872658170508 and parameters: {'feature_fraction': 0.5}. Best is trial 0 with value: 1.3278461965695627.\u001b[0m\n",
            "\n",
            "\n",
            "feature_fraction, val_score: 1.327846:  57%|#####7    | 4/7 [01:06<00:49, 16.58s/it]\u001b[A\u001b[A"
          ],
          "name": "stderr"
        },
        {
          "output_type": "stream",
          "text": [
            "Early stopping, best iteration is:\n",
            "[66]\tvalid_0's l1: 1.33459\n",
            "Training until validation scores don't improve for 100 rounds.\n",
            "[100]\tvalid_0's l1: 1.33606\n"
          ],
          "name": "stdout"
        },
        {
          "output_type": "stream",
          "text": [
            "\n",
            "\n",
            "feature_fraction, val_score: 1.327846:  57%|#####7    | 4/7 [01:22<00:49, 16.58s/it]\u001b[A\u001b[A\n",
            "\n",
            "feature_fraction, val_score: 1.327846:  71%|#######1  | 5/7 [01:22<00:32, 16.46s/it]\u001b[A\u001b[A\u001b[32m[I 2021-07-07 20:55:30,700]\u001b[0m Trial 4 finished with value: 1.3308125464380538 and parameters: {'feature_fraction': 1.0}. Best is trial 0 with value: 1.3278461965695627.\u001b[0m\n",
            "\n",
            "\n",
            "feature_fraction, val_score: 1.327846:  71%|#######1  | 5/7 [01:22<00:32, 16.46s/it]\u001b[A\u001b[A"
          ],
          "name": "stderr"
        },
        {
          "output_type": "stream",
          "text": [
            "Early stopping, best iteration is:\n",
            "[44]\tvalid_0's l1: 1.33081\n",
            "Training until validation scores don't improve for 100 rounds.\n",
            "[100]\tvalid_0's l1: 1.33396\n",
            "[200]\tvalid_0's l1: 1.33569\n"
          ],
          "name": "stdout"
        },
        {
          "output_type": "stream",
          "text": [
            "\n",
            "\n",
            "feature_fraction, val_score: 1.327846:  71%|#######1  | 5/7 [01:43<00:32, 16.46s/it]\u001b[A\u001b[A\n",
            "\n",
            "feature_fraction, val_score: 1.327846:  86%|########5 | 6/7 [01:43<00:17, 17.75s/it]\u001b[A\u001b[A\u001b[32m[I 2021-07-07 20:55:51,480]\u001b[0m Trial 5 finished with value: 1.3321862091810217 and parameters: {'feature_fraction': 0.7}. Best is trial 0 with value: 1.3278461965695627.\u001b[0m\n",
            "\n",
            "\n",
            "feature_fraction, val_score: 1.327846:  86%|########5 | 6/7 [01:43<00:17, 17.75s/it]\u001b[A\u001b[A"
          ],
          "name": "stderr"
        },
        {
          "output_type": "stream",
          "text": [
            "Early stopping, best iteration is:\n",
            "[120]\tvalid_0's l1: 1.33219\n",
            "Training until validation scores don't improve for 100 rounds.\n",
            "[100]\tvalid_0's l1: 1.33765\n"
          ],
          "name": "stdout"
        },
        {
          "output_type": "stream",
          "text": [
            "\n",
            "\n",
            "feature_fraction, val_score: 1.327846:  86%|########5 | 6/7 [01:59<00:17, 17.75s/it]\u001b[A\u001b[A\n",
            "\n",
            "feature_fraction, val_score: 1.327846: 100%|##########| 7/7 [01:59<00:00, 17.34s/it]\u001b[A\u001b[A\u001b[32m[I 2021-07-07 20:56:07,861]\u001b[0m Trial 6 finished with value: 1.3366202617315548 and parameters: {'feature_fraction': 0.6}. Best is trial 0 with value: 1.3278461965695627.\u001b[0m\n",
            "feature_fraction, val_score: 1.327846: 100%|##########| 7/7 [01:59<00:00, 17.10s/it]\n",
            "\n",
            "\n",
            "  0%|          | 0/20 [00:00<?, ?it/s]\u001b[A\u001b[A\n",
            "\n",
            "num_leaves, val_score: 1.327846:   0%|          | 0/20 [00:00<?, ?it/s]\u001b[A\u001b[A"
          ],
          "name": "stderr"
        },
        {
          "output_type": "stream",
          "text": [
            "Early stopping, best iteration is:\n",
            "[84]\tvalid_0's l1: 1.33662\n",
            "Training until validation scores don't improve for 100 rounds.\n",
            "[100]\tvalid_0's l1: 1.34196\n"
          ],
          "name": "stdout"
        },
        {
          "output_type": "stream",
          "text": [
            "\n",
            "\n",
            "num_leaves, val_score: 1.327846:   0%|          | 0/20 [00:16<?, ?it/s]\u001b[A\u001b[A\n",
            "\n",
            "num_leaves, val_score: 1.327846:   5%|5         | 1/20 [00:16<05:08, 16.24s/it]\u001b[A\u001b[A\u001b[32m[I 2021-07-07 20:56:24,130]\u001b[0m Trial 7 finished with value: 1.3319779277588415 and parameters: {'num_leaves': 204}. Best is trial 7 with value: 1.3319779277588415.\u001b[0m\n",
            "\n",
            "\n",
            "num_leaves, val_score: 1.327846:   5%|5         | 1/20 [00:16<05:08, 16.24s/it]\u001b[A\u001b[A"
          ],
          "name": "stderr"
        },
        {
          "output_type": "stream",
          "text": [
            "Early stopping, best iteration is:\n",
            "[38]\tvalid_0's l1: 1.33198\n",
            "Training until validation scores don't improve for 100 rounds.\n",
            "[100]\tvalid_0's l1: 1.33471\n"
          ],
          "name": "stdout"
        },
        {
          "output_type": "stream",
          "text": [
            "\n",
            "\n",
            "num_leaves, val_score: 1.327846:   5%|5         | 1/20 [00:32<05:08, 16.24s/it]\u001b[A\u001b[A\n",
            "\n",
            "num_leaves, val_score: 1.327846:  10%|#         | 2/20 [00:32<04:54, 16.38s/it]\u001b[A\u001b[A\u001b[32m[I 2021-07-07 20:56:40,827]\u001b[0m Trial 8 finished with value: 1.3285316464623786 and parameters: {'num_leaves': 178}. Best is trial 8 with value: 1.3285316464623786.\u001b[0m\n",
            "\n",
            "\n",
            "num_leaves, val_score: 1.327846:  10%|#         | 2/20 [00:32<04:54, 16.38s/it]\u001b[A\u001b[A"
          ],
          "name": "stderr"
        },
        {
          "output_type": "stream",
          "text": [
            "Early stopping, best iteration is:\n",
            "[38]\tvalid_0's l1: 1.32853\n",
            "Training until validation scores don't improve for 100 rounds.\n",
            "[100]\tvalid_0's l1: 1.3367\n"
          ],
          "name": "stdout"
        },
        {
          "output_type": "stream",
          "text": [
            "\n",
            "\n",
            "num_leaves, val_score: 1.327846:  10%|#         | 2/20 [00:53<04:54, 16.38s/it]\u001b[A\u001b[A\n",
            "\n",
            "num_leaves, val_score: 1.327846:  15%|#5        | 3/20 [00:53<04:57, 17.51s/it]\u001b[A\u001b[A\u001b[32m[I 2021-07-07 20:57:00,984]\u001b[0m Trial 9 finished with value: 1.3328799241250417 and parameters: {'num_leaves': 234}. Best is trial 8 with value: 1.3285316464623786.\u001b[0m\n",
            "\n",
            "\n",
            "num_leaves, val_score: 1.327846:  15%|#5        | 3/20 [00:53<04:57, 17.51s/it]\u001b[A\u001b[A"
          ],
          "name": "stderr"
        },
        {
          "output_type": "stream",
          "text": [
            "Early stopping, best iteration is:\n",
            "[53]\tvalid_0's l1: 1.33288\n",
            "Training until validation scores don't improve for 100 rounds.\n",
            "[100]\tvalid_0's l1: 1.33403\n",
            "[200]\tvalid_0's l1: 1.33373\n",
            "[300]\tvalid_0's l1: 1.33323\n"
          ],
          "name": "stdout"
        },
        {
          "output_type": "stream",
          "text": [
            "\n",
            "\n",
            "num_leaves, val_score: 1.327846:  15%|#5        | 3/20 [01:19<04:57, 17.51s/it]\u001b[A\u001b[A\n",
            "\n",
            "num_leaves, val_score: 1.327846:  20%|##        | 4/20 [01:19<05:23, 20.20s/it]\u001b[A\u001b[A\u001b[32m[I 2021-07-07 20:57:27,470]\u001b[0m Trial 10 finished with value: 1.3318741163034415 and parameters: {'num_leaves': 43}. Best is trial 8 with value: 1.3285316464623786.\u001b[0m\n",
            "\n",
            "\n",
            "num_leaves, val_score: 1.327846:  20%|##        | 4/20 [01:19<05:23, 20.20s/it]\u001b[A\u001b[A"
          ],
          "name": "stderr"
        },
        {
          "output_type": "stream",
          "text": [
            "Early stopping, best iteration is:\n",
            "[213]\tvalid_0's l1: 1.33187\n",
            "Training until validation scores don't improve for 100 rounds.\n",
            "[100]\tvalid_0's l1: 1.33621\n"
          ],
          "name": "stdout"
        },
        {
          "output_type": "stream",
          "text": [
            "\n",
            "\n",
            "num_leaves, val_score: 1.327846:  20%|##        | 4/20 [01:34<05:23, 20.20s/it]\u001b[A\u001b[A\n",
            "\n",
            "num_leaves, val_score: 1.327846:  25%|##5       | 5/20 [01:34<04:39, 18.62s/it]\u001b[A\u001b[A\u001b[32m[I 2021-07-07 20:57:42,401]\u001b[0m Trial 11 finished with value: 1.3301538054971556 and parameters: {'num_leaves': 118}. Best is trial 8 with value: 1.3285316464623786.\u001b[0m\n",
            "\n",
            "\n",
            "num_leaves, val_score: 1.327846:  25%|##5       | 5/20 [01:34<04:39, 18.62s/it]\u001b[A\u001b[A"
          ],
          "name": "stderr"
        },
        {
          "output_type": "stream",
          "text": [
            "Early stopping, best iteration is:\n",
            "[40]\tvalid_0's l1: 1.33015\n",
            "Training until validation scores don't improve for 100 rounds.\n",
            "[100]\tvalid_0's l1: 1.33763\n"
          ],
          "name": "stdout"
        },
        {
          "output_type": "stream",
          "text": [
            "\n",
            "\n",
            "num_leaves, val_score: 1.327846:  25%|##5       | 5/20 [01:50<04:39, 18.62s/it]\u001b[A\u001b[A\n",
            "\n",
            "num_leaves, val_score: 1.327846:  30%|###       | 6/20 [01:50<04:11, 17.93s/it]\u001b[A\u001b[A\u001b[32m[I 2021-07-07 20:57:58,725]\u001b[0m Trial 12 finished with value: 1.3325366689494824 and parameters: {'num_leaves': 174}. Best is trial 8 with value: 1.3285316464623786.\u001b[0m\n",
            "\n",
            "\n",
            "num_leaves, val_score: 1.327846:  30%|###       | 6/20 [01:50<04:11, 17.93s/it]\u001b[A\u001b[A"
          ],
          "name": "stderr"
        },
        {
          "output_type": "stream",
          "text": [
            "Early stopping, best iteration is:\n",
            "[39]\tvalid_0's l1: 1.33254\n",
            "Training until validation scores don't improve for 100 rounds.\n",
            "[100]\tvalid_0's l1: 1.33312\n",
            "[200]\tvalid_0's l1: 1.32923\n"
          ],
          "name": "stdout"
        },
        {
          "output_type": "stream",
          "text": [
            "\n",
            "\n",
            "num_leaves, val_score: 1.327846:  30%|###       | 6/20 [02:14<04:11, 17.93s/it]\u001b[A\u001b[A\n",
            "\n",
            "num_leaves, val_score: 1.327846:  35%|###5      | 7/20 [02:14<04:16, 19.74s/it]\u001b[A\u001b[A\u001b[32m[I 2021-07-07 20:58:22,666]\u001b[0m Trial 13 finished with value: 1.329096095256259 and parameters: {'num_leaves': 34}. Best is trial 8 with value: 1.3285316464623786.\u001b[0m\n",
            "\n",
            "\n",
            "num_leaves, val_score: 1.327846:  35%|###5      | 7/20 [02:14<04:16, 19.74s/it]\u001b[A\u001b[A"
          ],
          "name": "stderr"
        },
        {
          "output_type": "stream",
          "text": [
            "Early stopping, best iteration is:\n",
            "[196]\tvalid_0's l1: 1.3291\n",
            "Training until validation scores don't improve for 100 rounds.\n",
            "[100]\tvalid_0's l1: 1.34007\n"
          ],
          "name": "stdout"
        },
        {
          "output_type": "stream",
          "text": [
            "\n",
            "\n",
            "num_leaves, val_score: 1.327846:  35%|###5      | 7/20 [02:30<04:16, 19.74s/it]\u001b[A\u001b[A\n",
            "\n",
            "num_leaves, val_score: 1.327846:  40%|####      | 8/20 [02:30<03:41, 18.49s/it]\u001b[A\u001b[A\u001b[32m[I 2021-07-07 20:58:38,255]\u001b[0m Trial 14 finished with value: 1.335895368524951 and parameters: {'num_leaves': 149}. Best is trial 8 with value: 1.3285316464623786.\u001b[0m\n",
            "\n",
            "\n",
            "num_leaves, val_score: 1.327846:  40%|####      | 8/20 [02:30<03:41, 18.49s/it]\u001b[A\u001b[A"
          ],
          "name": "stderr"
        },
        {
          "output_type": "stream",
          "text": [
            "Early stopping, best iteration is:\n",
            "[41]\tvalid_0's l1: 1.3359\n",
            "Training until validation scores don't improve for 100 rounds.\n",
            "[100]\tvalid_0's l1: 1.33483\n"
          ],
          "name": "stdout"
        },
        {
          "output_type": "stream",
          "text": [
            "\n",
            "\n",
            "num_leaves, val_score: 1.327846:  40%|####      | 8/20 [02:45<03:41, 18.49s/it]\u001b[A\u001b[A\n",
            "\n",
            "num_leaves, val_score: 1.327846:  45%|####5     | 9/20 [02:45<03:11, 17.39s/it]\u001b[A\u001b[A\u001b[32m[I 2021-07-07 20:58:53,082]\u001b[0m Trial 15 finished with value: 1.333155654384592 and parameters: {'num_leaves': 143}. Best is trial 8 with value: 1.3285316464623786.\u001b[0m\n",
            "\n",
            "\n",
            "num_leaves, val_score: 1.327846:  45%|####5     | 9/20 [02:45<03:11, 17.39s/it]\u001b[A\u001b[A"
          ],
          "name": "stderr"
        },
        {
          "output_type": "stream",
          "text": [
            "Early stopping, best iteration is:\n",
            "[36]\tvalid_0's l1: 1.33316\n",
            "Training until validation scores don't improve for 100 rounds.\n",
            "[100]\tvalid_0's l1: 1.32985\n"
          ],
          "name": "stdout"
        },
        {
          "output_type": "stream",
          "text": [
            "\n",
            "\n",
            "num_leaves, val_score: 1.327846:  45%|####5     | 9/20 [03:01<03:11, 17.39s/it]\u001b[A\u001b[A\n",
            "\n",
            "num_leaves, val_score: 1.327846:  50%|#####     | 10/20 [03:01<02:51, 17.14s/it]\u001b[A\u001b[A\u001b[32m[I 2021-07-07 20:59:09,639]\u001b[0m Trial 16 finished with value: 1.3298497908422984 and parameters: {'num_leaves': 31}. Best is trial 8 with value: 1.3285316464623786.\u001b[0m\n",
            "\n",
            "\n",
            "num_leaves, val_score: 1.327846:  50%|#####     | 10/20 [03:01<02:51, 17.14s/it]\u001b[A\u001b[A"
          ],
          "name": "stderr"
        },
        {
          "output_type": "stream",
          "text": [
            "[200]\tvalid_0's l1: 1.33123\n",
            "Early stopping, best iteration is:\n",
            "[100]\tvalid_0's l1: 1.32985\n",
            "Training until validation scores don't improve for 100 rounds.\n",
            "[100]\tvalid_0's l1: 1.33667\n"
          ],
          "name": "stdout"
        },
        {
          "output_type": "stream",
          "text": [
            "\n",
            "\n",
            "num_leaves, val_score: 1.327846:  50%|#####     | 10/20 [03:15<02:51, 17.14s/it]\u001b[A\u001b[A\n",
            "\n",
            "num_leaves, val_score: 1.327846:  55%|#####5    | 11/20 [03:15<02:25, 16.21s/it]\u001b[A\u001b[A\u001b[32m[I 2021-07-07 20:59:23,678]\u001b[0m Trial 17 finished with value: 1.3329660760440956 and parameters: {'num_leaves': 89}. Best is trial 8 with value: 1.3285316464623786.\u001b[0m\n",
            "\n",
            "\n",
            "num_leaves, val_score: 1.327846:  55%|#####5    | 11/20 [03:15<02:25, 16.21s/it]\u001b[A\u001b[A"
          ],
          "name": "stderr"
        },
        {
          "output_type": "stream",
          "text": [
            "Early stopping, best iteration is:\n",
            "[38]\tvalid_0's l1: 1.33297\n",
            "Training until validation scores don't improve for 100 rounds.\n",
            "[100]\tvalid_0's l1: 1.34162\n"
          ],
          "name": "stdout"
        },
        {
          "output_type": "stream",
          "text": [
            "\n",
            "\n",
            "num_leaves, val_score: 1.327846:  55%|#####5    | 11/20 [03:33<02:25, 16.21s/it]\u001b[A\u001b[A\n",
            "\n",
            "num_leaves, val_score: 1.327846:  60%|######    | 12/20 [03:33<02:12, 16.56s/it]\u001b[A\u001b[A\u001b[32m[I 2021-07-07 20:59:41,038]\u001b[0m Trial 18 finished with value: 1.3318563990186814 and parameters: {'num_leaves': 255}. Best is trial 8 with value: 1.3285316464623786.\u001b[0m\n",
            "\n",
            "\n",
            "num_leaves, val_score: 1.327846:  60%|######    | 12/20 [03:33<02:12, 16.56s/it]\u001b[A\u001b[A"
          ],
          "name": "stderr"
        },
        {
          "output_type": "stream",
          "text": [
            "Early stopping, best iteration is:\n",
            "[41]\tvalid_0's l1: 1.33186\n",
            "Training until validation scores don't improve for 100 rounds.\n",
            "[100]\tvalid_0's l1: 1.32933\n",
            "[200]\tvalid_0's l1: 1.32869\n"
          ],
          "name": "stdout"
        },
        {
          "output_type": "stream",
          "text": [
            "\n",
            "\n",
            "num_leaves, val_score: 1.326272:  60%|######    | 12/20 [03:56<02:12, 16.56s/it]\u001b[A\u001b[A\n",
            "\n",
            "num_leaves, val_score: 1.326272:  65%|######5   | 13/20 [03:56<02:09, 18.52s/it]\u001b[A\u001b[A\u001b[32m[I 2021-07-07 21:00:04,151]\u001b[0m Trial 19 finished with value: 1.326271853407953 and parameters: {'num_leaves': 80}. Best is trial 19 with value: 1.326271853407953.\u001b[0m\n",
            "\n",
            "\n",
            "num_leaves, val_score: 1.326272:  65%|######5   | 13/20 [03:56<02:09, 18.52s/it]\u001b[A\u001b[A"
          ],
          "name": "stderr"
        },
        {
          "output_type": "stream",
          "text": [
            "Early stopping, best iteration is:\n",
            "[151]\tvalid_0's l1: 1.32627\n",
            "Training until validation scores don't improve for 100 rounds.\n",
            "[100]\tvalid_0's l1: 1.33593\n",
            "[200]\tvalid_0's l1: 1.33742\n"
          ],
          "name": "stdout"
        },
        {
          "output_type": "stream",
          "text": [
            "\n",
            "\n",
            "num_leaves, val_score: 1.326272:  65%|######5   | 13/20 [04:16<02:09, 18.52s/it]\u001b[A\u001b[A\n",
            "\n",
            "num_leaves, val_score: 1.326272:  70%|#######   | 14/20 [04:16<01:54, 19.11s/it]\u001b[A\u001b[A\u001b[32m[I 2021-07-07 21:00:24,629]\u001b[0m Trial 20 finished with value: 1.3356473052327826 and parameters: {'num_leaves': 86}. Best is trial 19 with value: 1.326271853407953.\u001b[0m\n",
            "\n",
            "\n",
            "num_leaves, val_score: 1.326272:  70%|#######   | 14/20 [04:16<01:54, 19.11s/it]\u001b[A\u001b[A"
          ],
          "name": "stderr"
        },
        {
          "output_type": "stream",
          "text": [
            "Early stopping, best iteration is:\n",
            "[104]\tvalid_0's l1: 1.33565\n",
            "Training until validation scores don't improve for 100 rounds.\n",
            "[100]\tvalid_0's l1: 1.33788\n"
          ],
          "name": "stdout"
        },
        {
          "output_type": "stream",
          "text": [
            "\n",
            "\n",
            "num_leaves, val_score: 1.326272:  70%|#######   | 14/20 [04:33<01:54, 19.11s/it]\u001b[A\u001b[A\n",
            "\n",
            "num_leaves, val_score: 1.326272:  75%|#######5  | 15/20 [04:33<01:32, 18.50s/it]\u001b[A\u001b[A\u001b[32m[I 2021-07-07 21:00:41,701]\u001b[0m Trial 21 finished with value: 1.330239917595005 and parameters: {'num_leaves': 188}. Best is trial 19 with value: 1.326271853407953.\u001b[0m\n",
            "\n",
            "\n",
            "num_leaves, val_score: 1.326272:  75%|#######5  | 15/20 [04:33<01:32, 18.50s/it]\u001b[A\u001b[A"
          ],
          "name": "stderr"
        },
        {
          "output_type": "stream",
          "text": [
            "Early stopping, best iteration is:\n",
            "[34]\tvalid_0's l1: 1.33024\n",
            "Training until validation scores don't improve for 100 rounds.\n",
            "[100]\tvalid_0's l1: 1.32698\n",
            "[200]\tvalid_0's l1: 1.32624\n"
          ],
          "name": "stdout"
        },
        {
          "output_type": "stream",
          "text": [
            "\n",
            "\n",
            "num_leaves, val_score: 1.325527:  75%|#######5  | 15/20 [04:59<01:32, 18.50s/it]\u001b[A\u001b[A\n",
            "\n",
            "num_leaves, val_score: 1.325527:  80%|########  | 16/20 [04:59<01:22, 20.64s/it]\u001b[A\u001b[A\u001b[32m[I 2021-07-07 21:01:07,347]\u001b[0m Trial 22 finished with value: 1.3255272320881555 and parameters: {'num_leaves': 79}. Best is trial 22 with value: 1.3255272320881555.\u001b[0m\n",
            "\n",
            "\n",
            "num_leaves, val_score: 1.325527:  80%|########  | 16/20 [04:59<01:22, 20.64s/it]\u001b[A\u001b[A"
          ],
          "name": "stderr"
        },
        {
          "output_type": "stream",
          "text": [
            "Early stopping, best iteration is:\n",
            "[179]\tvalid_0's l1: 1.32553\n",
            "Training until validation scores don't improve for 100 rounds.\n",
            "[100]\tvalid_0's l1: 1.33114\n"
          ],
          "name": "stdout"
        },
        {
          "output_type": "stream",
          "text": [
            "\n",
            "\n",
            "num_leaves, val_score: 1.325527:  80%|########  | 16/20 [05:13<01:22, 20.64s/it]\u001b[A\u001b[A\n",
            "\n",
            "num_leaves, val_score: 1.325527:  85%|########5 | 17/20 [05:13<00:56, 18.72s/it]\u001b[A\u001b[A\u001b[32m[I 2021-07-07 21:01:21,583]\u001b[0m Trial 23 finished with value: 1.3296561576498667 and parameters: {'num_leaves': 74}. Best is trial 22 with value: 1.3255272320881555.\u001b[0m\n",
            "\n",
            "\n",
            "num_leaves, val_score: 1.325527:  85%|########5 | 17/20 [05:13<00:56, 18.72s/it]\u001b[A\u001b[A"
          ],
          "name": "stderr"
        },
        {
          "output_type": "stream",
          "text": [
            "Early stopping, best iteration is:\n",
            "[41]\tvalid_0's l1: 1.32966\n",
            "Training until validation scores don't improve for 100 rounds.\n",
            "[100]\tvalid_0's l1: 1.35057\n",
            "[200]\tvalid_0's l1: 1.33269\n",
            "[300]\tvalid_0's l1: 1.32747\n",
            "[400]\tvalid_0's l1: 1.32523\n",
            "[500]\tvalid_0's l1: 1.32365\n",
            "[600]\tvalid_0's l1: 1.3244\n"
          ],
          "name": "stdout"
        },
        {
          "output_type": "stream",
          "text": [
            "\n",
            "\n",
            "num_leaves, val_score: 1.322841:  85%|########5 | 17/20 [05:57<00:56, 18.72s/it]\u001b[A\u001b[A\n",
            "\n",
            "num_leaves, val_score: 1.322841:  90%|######### | 18/20 [05:57<00:52, 26.24s/it]\u001b[A\u001b[A\u001b[32m[I 2021-07-07 21:02:05,356]\u001b[0m Trial 24 finished with value: 1.3228405430600882 and parameters: {'num_leaves': 6}. Best is trial 24 with value: 1.3228405430600882.\u001b[0m\n",
            "\n",
            "\n",
            "num_leaves, val_score: 1.322841:  90%|######### | 18/20 [05:57<00:52, 26.24s/it]\u001b[A\u001b[A"
          ],
          "name": "stderr"
        },
        {
          "output_type": "stream",
          "text": [
            "Early stopping, best iteration is:\n",
            "[537]\tvalid_0's l1: 1.32284\n",
            "Training until validation scores don't improve for 100 rounds.\n",
            "[100]\tvalid_0's l1: 1.33421\n",
            "[200]\tvalid_0's l1: 1.32728\n",
            "[300]\tvalid_0's l1: 1.32656\n",
            "[400]\tvalid_0's l1: 1.32599\n",
            "[500]\tvalid_0's l1: 1.32601\n"
          ],
          "name": "stdout"
        },
        {
          "output_type": "stream",
          "text": [
            "\n",
            "\n",
            "num_leaves, val_score: 1.322841:  90%|######### | 18/20 [06:36<00:52, 26.24s/it]\u001b[A\u001b[A\n",
            "\n",
            "num_leaves, val_score: 1.322841:  95%|#########5| 19/20 [06:36<00:30, 30.13s/it]\u001b[A\u001b[A\u001b[32m[I 2021-07-07 21:02:44,579]\u001b[0m Trial 25 finished with value: 1.3253135971915677 and parameters: {'num_leaves': 13}. Best is trial 24 with value: 1.3228405430600882.\u001b[0m\n",
            "\n",
            "\n",
            "num_leaves, val_score: 1.322841:  95%|#########5| 19/20 [06:36<00:30, 30.13s/it]\u001b[A\u001b[A"
          ],
          "name": "stderr"
        },
        {
          "output_type": "stream",
          "text": [
            "Early stopping, best iteration is:\n",
            "[439]\tvalid_0's l1: 1.32531\n",
            "Training until validation scores don't improve for 100 rounds.\n",
            "[100]\tvalid_0's l1: 1.38286\n",
            "[200]\tvalid_0's l1: 1.35554\n",
            "[300]\tvalid_0's l1: 1.34617\n",
            "[400]\tvalid_0's l1: 1.34089\n",
            "[500]\tvalid_0's l1: 1.33808\n",
            "[600]\tvalid_0's l1: 1.33782\n"
          ],
          "name": "stdout"
        },
        {
          "output_type": "stream",
          "text": [
            "\n",
            "\n",
            "num_leaves, val_score: 1.322841:  95%|#########5| 19/20 [07:16<00:30, 30.13s/it]\u001b[A\u001b[A\n",
            "\n",
            "num_leaves, val_score: 1.322841: 100%|##########| 20/20 [07:16<00:00, 33.09s/it]\u001b[A\u001b[A\u001b[32m[I 2021-07-07 21:03:24,563]\u001b[0m Trial 26 finished with value: 1.3376340659116777 and parameters: {'num_leaves': 3}. Best is trial 24 with value: 1.3228405430600882.\u001b[0m\n",
            "num_leaves, val_score: 1.322841: 100%|##########| 20/20 [07:16<00:00, 21.83s/it]\n",
            "\n",
            "\n",
            "  0%|          | 0/10 [00:00<?, ?it/s]\u001b[A\u001b[A\n",
            "\n",
            "bagging, val_score: 1.322841:   0%|          | 0/10 [00:00<?, ?it/s]\u001b[A\u001b[A"
          ],
          "name": "stderr"
        },
        {
          "output_type": "stream",
          "text": [
            "Early stopping, best iteration is:\n",
            "[512]\tvalid_0's l1: 1.33763\n",
            "Training until validation scores don't improve for 100 rounds.\n",
            "[100]\tvalid_0's l1: 1.34659\n",
            "[200]\tvalid_0's l1: 1.33363\n",
            "[300]\tvalid_0's l1: 1.32675\n",
            "[400]\tvalid_0's l1: 1.3245\n",
            "[500]\tvalid_0's l1: 1.32336\n",
            "[600]\tvalid_0's l1: 1.32296\n",
            "[700]\tvalid_0's l1: 1.32228\n",
            "[800]\tvalid_0's l1: 1.32157\n"
          ],
          "name": "stdout"
        },
        {
          "output_type": "stream",
          "text": [
            "\n",
            "\n",
            "bagging, val_score: 1.321467:   0%|          | 0/10 [00:48<?, ?it/s]\u001b[A\u001b[A\n",
            "\n",
            "bagging, val_score: 1.321467:  10%|#         | 1/10 [00:48<07:12, 48.10s/it]\u001b[A\u001b[A\u001b[32m[I 2021-07-07 21:04:12,685]\u001b[0m Trial 27 finished with value: 1.321467251307744 and parameters: {'bagging_fraction': 0.6608943341765314, 'bagging_freq': 7}. Best is trial 27 with value: 1.321467251307744.\u001b[0m\n",
            "\n",
            "\n",
            "bagging, val_score: 1.321467:  10%|#         | 1/10 [00:48<07:12, 48.10s/it]\u001b[A\u001b[A"
          ],
          "name": "stderr"
        },
        {
          "output_type": "stream",
          "text": [
            "Early stopping, best iteration is:\n",
            "[758]\tvalid_0's l1: 1.32147\n",
            "Training until validation scores don't improve for 100 rounds.\n",
            "[100]\tvalid_0's l1: 1.34122\n",
            "[200]\tvalid_0's l1: 1.32658\n",
            "[300]\tvalid_0's l1: 1.32201\n",
            "[400]\tvalid_0's l1: 1.31929\n",
            "[500]\tvalid_0's l1: 1.31843\n"
          ],
          "name": "stdout"
        },
        {
          "output_type": "stream",
          "text": [
            "\n",
            "\n",
            "bagging, val_score: 1.317854:  10%|#         | 1/10 [01:27<07:12, 48.10s/it]\u001b[A\u001b[A\n",
            "\n",
            "bagging, val_score: 1.317854:  20%|##        | 2/10 [01:27<06:04, 45.55s/it]\u001b[A\u001b[A\u001b[32m[I 2021-07-07 21:04:52,266]\u001b[0m Trial 28 finished with value: 1.3178538100253632 and parameters: {'bagging_fraction': 0.9015181204445673, 'bagging_freq': 4}. Best is trial 28 with value: 1.3178538100253632.\u001b[0m\n",
            "\n",
            "\n",
            "bagging, val_score: 1.317854:  20%|##        | 2/10 [01:27<06:04, 45.55s/it]\u001b[A\u001b[A"
          ],
          "name": "stderr"
        },
        {
          "output_type": "stream",
          "text": [
            "Early stopping, best iteration is:\n",
            "[449]\tvalid_0's l1: 1.31785\n",
            "Training until validation scores don't improve for 100 rounds.\n",
            "[100]\tvalid_0's l1: 1.3442\n",
            "[200]\tvalid_0's l1: 1.32741\n",
            "[300]\tvalid_0's l1: 1.32342\n",
            "[400]\tvalid_0's l1: 1.32276\n"
          ],
          "name": "stdout"
        },
        {
          "output_type": "stream",
          "text": [
            "\n",
            "\n",
            "bagging, val_score: 1.317854:  20%|##        | 2/10 [01:48<06:04, 45.55s/it]\u001b[A\u001b[A\n",
            "\n",
            "bagging, val_score: 1.317854:  30%|###       | 3/10 [01:48<04:26, 38.09s/it]\u001b[A\u001b[A\u001b[32m[I 2021-07-07 21:05:12,955]\u001b[0m Trial 29 finished with value: 1.3216925169777496 and parameters: {'bagging_fraction': 0.5027668731746445, 'bagging_freq': 5}. Best is trial 28 with value: 1.3178538100253632.\u001b[0m\n",
            "\n",
            "\n",
            "bagging, val_score: 1.317854:  30%|###       | 3/10 [01:48<04:26, 38.09s/it]\u001b[A\u001b[A"
          ],
          "name": "stderr"
        },
        {
          "output_type": "stream",
          "text": [
            "Early stopping, best iteration is:\n",
            "[337]\tvalid_0's l1: 1.32169\n",
            "Training until validation scores don't improve for 100 rounds.\n",
            "[100]\tvalid_0's l1: 1.34243\n",
            "[200]\tvalid_0's l1: 1.32898\n",
            "[300]\tvalid_0's l1: 1.32325\n",
            "[400]\tvalid_0's l1: 1.3216\n",
            "[500]\tvalid_0's l1: 1.32197\n"
          ],
          "name": "stdout"
        },
        {
          "output_type": "stream",
          "text": [
            "\n",
            "\n",
            "bagging, val_score: 1.317854:  30%|###       | 3/10 [02:20<04:26, 38.09s/it]\u001b[A\u001b[A\n",
            "\n",
            "bagging, val_score: 1.317854:  40%|####      | 4/10 [02:20<03:38, 36.41s/it]\u001b[A\u001b[A\u001b[32m[I 2021-07-07 21:05:45,450]\u001b[0m Trial 30 finished with value: 1.3204946087224902 and parameters: {'bagging_fraction': 0.7246785769581263, 'bagging_freq': 3}. Best is trial 28 with value: 1.3178538100253632.\u001b[0m\n",
            "\n",
            "\n",
            "bagging, val_score: 1.317854:  40%|####      | 4/10 [02:20<03:38, 36.41s/it]\u001b[A\u001b[A"
          ],
          "name": "stderr"
        },
        {
          "output_type": "stream",
          "text": [
            "Early stopping, best iteration is:\n",
            "[430]\tvalid_0's l1: 1.32049\n",
            "Training until validation scores don't improve for 100 rounds.\n",
            "[100]\tvalid_0's l1: 1.34292\n",
            "[200]\tvalid_0's l1: 1.33013\n",
            "[300]\tvalid_0's l1: 1.32433\n",
            "[400]\tvalid_0's l1: 1.32389\n"
          ],
          "name": "stdout"
        },
        {
          "output_type": "stream",
          "text": [
            "\n",
            "\n",
            "bagging, val_score: 1.317854:  40%|####      | 4/10 [02:42<03:38, 36.41s/it]\u001b[A\u001b[A\n",
            "\n",
            "bagging, val_score: 1.317854:  50%|#####     | 5/10 [02:42<02:40, 32.06s/it]\u001b[A\u001b[A\u001b[32m[I 2021-07-07 21:06:07,359]\u001b[0m Trial 31 finished with value: 1.323009748089463 and parameters: {'bagging_fraction': 0.5093874748331155, 'bagging_freq': 3}. Best is trial 28 with value: 1.3178538100253632.\u001b[0m\n",
            "\n",
            "\n",
            "bagging, val_score: 1.317854:  50%|#####     | 5/10 [02:42<02:40, 32.06s/it]\u001b[A\u001b[A"
          ],
          "name": "stderr"
        },
        {
          "output_type": "stream",
          "text": [
            "Early stopping, best iteration is:\n",
            "[356]\tvalid_0's l1: 1.32301\n",
            "Training until validation scores don't improve for 100 rounds.\n",
            "[100]\tvalid_0's l1: 1.3439\n",
            "[200]\tvalid_0's l1: 1.32858\n",
            "[300]\tvalid_0's l1: 1.32451\n",
            "[400]\tvalid_0's l1: 1.32138\n"
          ],
          "name": "stdout"
        },
        {
          "output_type": "stream",
          "text": [
            "\n",
            "\n",
            "bagging, val_score: 1.317854:  50%|#####     | 5/10 [03:18<02:40, 32.06s/it]\u001b[A\u001b[A\n",
            "\n",
            "bagging, val_score: 1.317854:  60%|######    | 6/10 [03:18<02:12, 33.07s/it]\u001b[A\u001b[A\u001b[32m[I 2021-07-07 21:06:42,795]\u001b[0m Trial 32 finished with value: 1.3212303435131185 and parameters: {'bagging_fraction': 0.8689746671930902, 'bagging_freq': 6}. Best is trial 28 with value: 1.3178538100253632.\u001b[0m\n",
            "\n",
            "\n",
            "bagging, val_score: 1.317854:  60%|######    | 6/10 [03:18<02:12, 33.07s/it]\u001b[A\u001b[A"
          ],
          "name": "stderr"
        },
        {
          "output_type": "stream",
          "text": [
            "Early stopping, best iteration is:\n",
            "[392]\tvalid_0's l1: 1.32123\n",
            "Training until validation scores don't improve for 100 rounds.\n",
            "[100]\tvalid_0's l1: 1.34535\n",
            "[200]\tvalid_0's l1: 1.32663\n",
            "[300]\tvalid_0's l1: 1.32338\n",
            "[400]\tvalid_0's l1: 1.32081\n",
            "[500]\tvalid_0's l1: 1.31971\n"
          ],
          "name": "stdout"
        },
        {
          "output_type": "stream",
          "text": [
            "\n",
            "\n",
            "bagging, val_score: 1.317854:  60%|######    | 6/10 [03:57<02:12, 33.07s/it]\u001b[A\u001b[A\n",
            "\n",
            "bagging, val_score: 1.317854:  70%|#######   | 7/10 [03:57<01:44, 34.86s/it]\u001b[A\u001b[A\u001b[32m[I 2021-07-07 21:07:21,825]\u001b[0m Trial 33 finished with value: 1.3191595825536435 and parameters: {'bagging_fraction': 0.8775013723258436, 'bagging_freq': 3}. Best is trial 28 with value: 1.3178538100253632.\u001b[0m\n",
            "\n",
            "\n",
            "bagging, val_score: 1.317854:  70%|#######   | 7/10 [03:57<01:44, 34.86s/it]\u001b[A\u001b[A"
          ],
          "name": "stderr"
        },
        {
          "output_type": "stream",
          "text": [
            "Early stopping, best iteration is:\n",
            "[439]\tvalid_0's l1: 1.31916\n",
            "Training until validation scores don't improve for 100 rounds.\n",
            "[100]\tvalid_0's l1: 1.34395\n",
            "[200]\tvalid_0's l1: 1.32888\n",
            "[300]\tvalid_0's l1: 1.32228\n",
            "[400]\tvalid_0's l1: 1.32203\n"
          ],
          "name": "stdout"
        },
        {
          "output_type": "stream",
          "text": [
            "\n",
            "\n",
            "bagging, val_score: 1.317854:  70%|#######   | 7/10 [04:18<01:44, 34.86s/it]\u001b[A\u001b[A\n",
            "\n",
            "bagging, val_score: 1.317854:  80%|########  | 8/10 [04:18<01:01, 30.64s/it]\u001b[A\u001b[A\u001b[32m[I 2021-07-07 21:07:42,604]\u001b[0m Trial 34 finished with value: 1.321340084412357 and parameters: {'bagging_fraction': 0.48166668792487966, 'bagging_freq': 6}. Best is trial 28 with value: 1.3178538100253632.\u001b[0m\n",
            "\n",
            "\n",
            "bagging, val_score: 1.317854:  80%|########  | 8/10 [04:18<01:01, 30.64s/it]\u001b[A\u001b[A"
          ],
          "name": "stderr"
        },
        {
          "output_type": "stream",
          "text": [
            "Early stopping, best iteration is:\n",
            "[351]\tvalid_0's l1: 1.32134\n",
            "Training until validation scores don't improve for 100 rounds.\n",
            "[100]\tvalid_0's l1: 1.34552\n",
            "[200]\tvalid_0's l1: 1.32933\n",
            "[300]\tvalid_0's l1: 1.32571\n",
            "[400]\tvalid_0's l1: 1.32252\n",
            "[500]\tvalid_0's l1: 1.32232\n",
            "[600]\tvalid_0's l1: 1.32457\n"
          ],
          "name": "stdout"
        },
        {
          "output_type": "stream",
          "text": [
            "\n",
            "\n",
            "bagging, val_score: 1.317854:  80%|########  | 8/10 [04:47<01:01, 30.64s/it]\u001b[A\u001b[A\n",
            "\n",
            "bagging, val_score: 1.317854:  90%|######### | 9/10 [04:47<00:30, 30.37s/it]\u001b[A\u001b[A\u001b[32m[I 2021-07-07 21:08:12,352]\u001b[0m Trial 35 finished with value: 1.322126022132076 and parameters: {'bagging_fraction': 0.5483689998488402, 'bagging_freq': 5}. Best is trial 28 with value: 1.3178538100253632.\u001b[0m\n",
            "\n",
            "\n",
            "bagging, val_score: 1.317854:  90%|######### | 9/10 [04:47<00:30, 30.37s/it]\u001b[A\u001b[A"
          ],
          "name": "stderr"
        },
        {
          "output_type": "stream",
          "text": [
            "Early stopping, best iteration is:\n",
            "[506]\tvalid_0's l1: 1.32213\n",
            "Training until validation scores don't improve for 100 rounds.\n",
            "[100]\tvalid_0's l1: 1.34388\n",
            "[200]\tvalid_0's l1: 1.33049\n",
            "[300]\tvalid_0's l1: 1.32368\n",
            "[400]\tvalid_0's l1: 1.32295\n"
          ],
          "name": "stdout"
        },
        {
          "output_type": "stream",
          "text": [
            "\n",
            "\n",
            "bagging, val_score: 1.317854:  90%|######### | 9/10 [05:23<00:30, 30.37s/it]\u001b[A\u001b[A\n",
            "\n",
            "bagging, val_score: 1.317854: 100%|##########| 10/10 [05:23<00:00, 32.05s/it]\u001b[A\u001b[A\u001b[32m[I 2021-07-07 21:08:48,337]\u001b[0m Trial 36 finished with value: 1.3215672989089524 and parameters: {'bagging_fraction': 0.9444607831683163, 'bagging_freq': 1}. Best is trial 28 with value: 1.3178538100253632.\u001b[0m\n",
            "bagging, val_score: 1.317854: 100%|##########| 10/10 [05:23<00:00, 32.38s/it]\n",
            "\n",
            "\n",
            "  0%|          | 0/6 [00:00<?, ?it/s]\u001b[A\u001b[A\n",
            "\n",
            "feature_fraction_stage2, val_score: 1.317854:   0%|          | 0/6 [00:00<?, ?it/s]\u001b[A\u001b[A"
          ],
          "name": "stderr"
        },
        {
          "output_type": "stream",
          "text": [
            "Early stopping, best iteration is:\n",
            "[368]\tvalid_0's l1: 1.32157\n",
            "Training until validation scores don't improve for 100 rounds.\n",
            "[100]\tvalid_0's l1: 1.34175\n",
            "[200]\tvalid_0's l1: 1.32696\n",
            "[300]\tvalid_0's l1: 1.32458\n",
            "[400]\tvalid_0's l1: 1.31978\n",
            "[500]\tvalid_0's l1: 1.31919\n"
          ],
          "name": "stdout"
        },
        {
          "output_type": "stream",
          "text": [
            "\n",
            "\n",
            "feature_fraction_stage2, val_score: 1.317854:   0%|          | 0/6 [00:37<?, ?it/s]\u001b[A\u001b[A\n",
            "\n",
            "feature_fraction_stage2, val_score: 1.317854:  17%|#6        | 1/6 [00:37<03:08, 37.76s/it]\u001b[A\u001b[A\u001b[32m[I 2021-07-07 21:09:26,120]\u001b[0m Trial 37 finished with value: 1.318780723361296 and parameters: {'feature_fraction': 0.852}. Best is trial 37 with value: 1.318780723361296.\u001b[0m\n",
            "\n",
            "\n",
            "feature_fraction_stage2, val_score: 1.317854:  17%|#6        | 1/6 [00:37<03:08, 37.76s/it]\u001b[A\u001b[A"
          ],
          "name": "stderr"
        },
        {
          "output_type": "stream",
          "text": [
            "Early stopping, best iteration is:\n",
            "[415]\tvalid_0's l1: 1.31878\n",
            "Training until validation scores don't improve for 100 rounds.\n",
            "[100]\tvalid_0's l1: 1.34377\n",
            "[200]\tvalid_0's l1: 1.33039\n",
            "[300]\tvalid_0's l1: 1.32423\n",
            "[400]\tvalid_0's l1: 1.3206\n",
            "[500]\tvalid_0's l1: 1.31917\n",
            "[600]\tvalid_0's l1: 1.31868\n"
          ],
          "name": "stdout"
        },
        {
          "output_type": "stream",
          "text": [
            "\n",
            "\n",
            "feature_fraction_stage2, val_score: 1.317854:  17%|#6        | 1/6 [01:22<03:08, 37.76s/it]\u001b[A\u001b[A\n",
            "\n",
            "feature_fraction_stage2, val_score: 1.317854:  33%|###3      | 2/6 [01:22<02:39, 39.91s/it]\u001b[A\u001b[A\u001b[32m[I 2021-07-07 21:10:11,050]\u001b[0m Trial 38 finished with value: 1.318039025957011 and parameters: {'feature_fraction': 0.82}. Best is trial 38 with value: 1.318039025957011.\u001b[0m\n",
            "\n",
            "\n",
            "feature_fraction_stage2, val_score: 1.317854:  33%|###3      | 2/6 [01:22<02:39, 39.91s/it]\u001b[A\u001b[A"
          ],
          "name": "stderr"
        },
        {
          "output_type": "stream",
          "text": [
            "Early stopping, best iteration is:\n",
            "[542]\tvalid_0's l1: 1.31804\n",
            "Training until validation scores don't improve for 100 rounds.\n",
            "[100]\tvalid_0's l1: 1.34742\n",
            "[200]\tvalid_0's l1: 1.33249\n",
            "[300]\tvalid_0's l1: 1.32598\n",
            "[400]\tvalid_0's l1: 1.32291\n"
          ],
          "name": "stdout"
        },
        {
          "output_type": "stream",
          "text": [
            "\n",
            "\n",
            "feature_fraction_stage2, val_score: 1.317854:  33%|###3      | 2/6 [01:57<02:39, 39.91s/it]\u001b[A\u001b[A\n",
            "\n",
            "feature_fraction_stage2, val_score: 1.317854:  50%|#####     | 3/6 [01:57<01:55, 38.45s/it]\u001b[A\u001b[A\u001b[32m[I 2021-07-07 21:10:46,074]\u001b[0m Trial 39 finished with value: 1.3228905745599233 and parameters: {'feature_fraction': 0.948}. Best is trial 38 with value: 1.318039025957011.\u001b[0m\n",
            "\n",
            "\n",
            "feature_fraction_stage2, val_score: 1.317854:  50%|#####     | 3/6 [01:57<01:55, 38.45s/it]\u001b[A\u001b[A"
          ],
          "name": "stderr"
        },
        {
          "output_type": "stream",
          "text": [
            "Early stopping, best iteration is:\n",
            "[395]\tvalid_0's l1: 1.32289\n",
            "Training until validation scores don't improve for 100 rounds.\n",
            "[100]\tvalid_0's l1: 1.34329\n",
            "[200]\tvalid_0's l1: 1.32852\n",
            "[300]\tvalid_0's l1: 1.32464\n",
            "[400]\tvalid_0's l1: 1.32282\n",
            "[500]\tvalid_0's l1: 1.3207\n"
          ],
          "name": "stdout"
        },
        {
          "output_type": "stream",
          "text": [
            "\n",
            "\n",
            "feature_fraction_stage2, val_score: 1.317854:  50%|#####     | 3/6 [02:37<01:55, 38.45s/it]\u001b[A\u001b[A\n",
            "\n",
            "feature_fraction_stage2, val_score: 1.317854:  67%|######6   | 4/6 [02:37<01:17, 38.79s/it]\u001b[A\u001b[A\u001b[32m[I 2021-07-07 21:11:25,674]\u001b[0m Trial 40 finished with value: 1.3194390717377444 and parameters: {'feature_fraction': 0.9159999999999999}. Best is trial 38 with value: 1.318039025957011.\u001b[0m\n",
            "\n",
            "\n",
            "feature_fraction_stage2, val_score: 1.317854:  67%|######6   | 4/6 [02:37<01:17, 38.79s/it]\u001b[A\u001b[A"
          ],
          "name": "stderr"
        },
        {
          "output_type": "stream",
          "text": [
            "Early stopping, best iteration is:\n",
            "[470]\tvalid_0's l1: 1.31944\n",
            "Training until validation scores don't improve for 100 rounds.\n",
            "[100]\tvalid_0's l1: 1.35313\n",
            "[200]\tvalid_0's l1: 1.33285\n",
            "[300]\tvalid_0's l1: 1.32707\n",
            "[400]\tvalid_0's l1: 1.32521\n",
            "[500]\tvalid_0's l1: 1.32448\n",
            "[600]\tvalid_0's l1: 1.32585\n"
          ],
          "name": "stdout"
        },
        {
          "output_type": "stream",
          "text": [
            "\n",
            "\n",
            "feature_fraction_stage2, val_score: 1.317854:  67%|######6   | 4/6 [03:24<01:17, 38.79s/it]\u001b[A\u001b[A\n",
            "\n",
            "feature_fraction_stage2, val_score: 1.317854:  83%|########3 | 5/6 [03:24<00:41, 41.46s/it]\u001b[A\u001b[A\u001b[32m[I 2021-07-07 21:12:13,345]\u001b[0m Trial 41 finished with value: 1.323778624951851 and parameters: {'feature_fraction': 0.9799999999999999}. Best is trial 38 with value: 1.318039025957011.\u001b[0m\n",
            "\n",
            "\n",
            "feature_fraction_stage2, val_score: 1.317854:  83%|########3 | 5/6 [03:25<00:41, 41.46s/it]\u001b[A\u001b[A"
          ],
          "name": "stderr"
        },
        {
          "output_type": "stream",
          "text": [
            "Early stopping, best iteration is:\n",
            "[574]\tvalid_0's l1: 1.32378\n",
            "Training until validation scores don't improve for 100 rounds.\n",
            "[100]\tvalid_0's l1: 1.34829\n",
            "[200]\tvalid_0's l1: 1.3323\n",
            "[300]\tvalid_0's l1: 1.33061\n",
            "[400]\tvalid_0's l1: 1.32511\n",
            "[500]\tvalid_0's l1: 1.32453\n"
          ],
          "name": "stdout"
        },
        {
          "output_type": "stream",
          "text": [
            "\n",
            "\n",
            "feature_fraction_stage2, val_score: 1.317854:  83%|########3 | 5/6 [04:03<00:41, 41.46s/it]\u001b[A\u001b[A\n",
            "\n",
            "feature_fraction_stage2, val_score: 1.317854: 100%|##########| 6/6 [04:03<00:00, 40.45s/it]\u001b[A\u001b[A\u001b[32m[I 2021-07-07 21:12:51,433]\u001b[0m Trial 42 finished with value: 1.3244545053744785 and parameters: {'feature_fraction': 0.8839999999999999}. Best is trial 38 with value: 1.318039025957011.\u001b[0m\n",
            "feature_fraction_stage2, val_score: 1.317854: 100%|##########| 6/6 [04:03<00:00, 40.52s/it]\n",
            "\n",
            "\n",
            "  0%|          | 0/20 [00:00<?, ?it/s]\u001b[A\u001b[A\n",
            "\n",
            "regularization_factors, val_score: 1.317854:   0%|          | 0/20 [00:00<?, ?it/s]\u001b[A\u001b[A"
          ],
          "name": "stderr"
        },
        {
          "output_type": "stream",
          "text": [
            "Early stopping, best iteration is:\n",
            "[443]\tvalid_0's l1: 1.32445\n",
            "Training until validation scores don't improve for 100 rounds.\n",
            "[100]\tvalid_0's l1: 1.34122\n",
            "[200]\tvalid_0's l1: 1.32668\n",
            "[300]\tvalid_0's l1: 1.32167\n",
            "[400]\tvalid_0's l1: 1.32033\n",
            "[500]\tvalid_0's l1: 1.3189\n"
          ],
          "name": "stdout"
        },
        {
          "output_type": "stream",
          "text": [
            "\n",
            "\n",
            "regularization_factors, val_score: 1.317854:   0%|          | 0/20 [00:40<?, ?it/s]\u001b[A\u001b[A\n",
            "\n",
            "regularization_factors, val_score: 1.317854:   5%|5         | 1/20 [00:40<12:44, 40.24s/it]\u001b[A\u001b[A\u001b[32m[I 2021-07-07 21:13:31,694]\u001b[0m Trial 43 finished with value: 1.3182561801899952 and parameters: {'lambda_l1': 2.246350582676371e-06, 'lambda_l2': 0.005154234078225806}. Best is trial 43 with value: 1.3182561801899952.\u001b[0m\n",
            "\n",
            "\n",
            "regularization_factors, val_score: 1.317854:   5%|5         | 1/20 [00:40<12:44, 40.24s/it]\u001b[A\u001b[A"
          ],
          "name": "stderr"
        },
        {
          "output_type": "stream",
          "text": [
            "Early stopping, best iteration is:\n",
            "[472]\tvalid_0's l1: 1.31826\n",
            "Training until validation scores don't improve for 100 rounds.\n",
            "[100]\tvalid_0's l1: 1.34122\n",
            "[200]\tvalid_0's l1: 1.32766\n",
            "[300]\tvalid_0's l1: 1.32301\n",
            "[400]\tvalid_0's l1: 1.32221\n",
            "[500]\tvalid_0's l1: 1.32155\n",
            "[600]\tvalid_0's l1: 1.32117\n"
          ],
          "name": "stdout"
        },
        {
          "output_type": "stream",
          "text": [
            "\n",
            "\n",
            "regularization_factors, val_score: 1.317854:   5%|5         | 1/20 [01:25<12:44, 40.24s/it]\u001b[A\u001b[A\n",
            "\n",
            "regularization_factors, val_score: 1.317854:  10%|#         | 2/20 [01:25<12:28, 41.60s/it]\u001b[A\u001b[A\u001b[32m[I 2021-07-07 21:14:16,468]\u001b[0m Trial 44 finished with value: 1.3196059328276235 and parameters: {'lambda_l1': 1.1389130204520952, 'lambda_l2': 8.717748715086686e-07}. Best is trial 43 with value: 1.3182561801899952.\u001b[0m\n",
            "\n",
            "\n",
            "regularization_factors, val_score: 1.317854:  10%|#         | 2/20 [01:25<12:28, 41.60s/it]\u001b[A\u001b[A"
          ],
          "name": "stderr"
        },
        {
          "output_type": "stream",
          "text": [
            "Early stopping, best iteration is:\n",
            "[524]\tvalid_0's l1: 1.31961\n",
            "Training until validation scores don't improve for 100 rounds.\n",
            "[100]\tvalid_0's l1: 1.34122\n",
            "[200]\tvalid_0's l1: 1.32658\n",
            "[300]\tvalid_0's l1: 1.32197\n",
            "[400]\tvalid_0's l1: 1.31792\n",
            "[500]\tvalid_0's l1: 1.31714\n"
          ],
          "name": "stdout"
        },
        {
          "output_type": "stream",
          "text": [
            "\n",
            "\n",
            "regularization_factors, val_score: 1.316166:  10%|#         | 2/20 [02:03<12:28, 41.60s/it]\u001b[A\u001b[A\n",
            "\n",
            "regularization_factors, val_score: 1.316166:  15%|#5        | 3/20 [02:03<11:32, 40.74s/it]\u001b[A\u001b[A\u001b[32m[I 2021-07-07 21:14:55,213]\u001b[0m Trial 45 finished with value: 1.3161656288466548 and parameters: {'lambda_l1': 0.2070886425654103, 'lambda_l2': 0.08843980655682826}. Best is trial 45 with value: 1.3161656288466548.\u001b[0m\n",
            "\n",
            "\n",
            "regularization_factors, val_score: 1.316166:  15%|#5        | 3/20 [02:03<11:32, 40.74s/it]\u001b[A\u001b[A"
          ],
          "name": "stderr"
        },
        {
          "output_type": "stream",
          "text": [
            "Early stopping, best iteration is:\n",
            "[434]\tvalid_0's l1: 1.31617\n",
            "Training until validation scores don't improve for 100 rounds.\n",
            "[100]\tvalid_0's l1: 1.34122\n",
            "[200]\tvalid_0's l1: 1.32668\n",
            "[300]\tvalid_0's l1: 1.32167\n",
            "[400]\tvalid_0's l1: 1.32033\n",
            "[500]\tvalid_0's l1: 1.3189\n"
          ],
          "name": "stdout"
        },
        {
          "output_type": "stream",
          "text": [
            "\n",
            "\n",
            "regularization_factors, val_score: 1.316166:  15%|#5        | 3/20 [02:45<11:32, 40.74s/it]\u001b[A\u001b[A\n",
            "\n",
            "regularization_factors, val_score: 1.316166:  20%|##        | 4/20 [02:45<10:54, 40.90s/it]\u001b[A\u001b[A\u001b[32m[I 2021-07-07 21:15:36,470]\u001b[0m Trial 46 finished with value: 1.3182561801899948 and parameters: {'lambda_l1': 0.0001829114324557605, 'lambda_l2': 8.681659056332668e-05}. Best is trial 45 with value: 1.3161656288466548.\u001b[0m\n",
            "\n",
            "\n",
            "regularization_factors, val_score: 1.316166:  20%|##        | 4/20 [02:45<10:54, 40.90s/it]\u001b[A\u001b[A"
          ],
          "name": "stderr"
        },
        {
          "output_type": "stream",
          "text": [
            "Early stopping, best iteration is:\n",
            "[472]\tvalid_0's l1: 1.31826\n",
            "Training until validation scores don't improve for 100 rounds.\n",
            "[100]\tvalid_0's l1: 1.34122\n",
            "[200]\tvalid_0's l1: 1.32658\n",
            "[300]\tvalid_0's l1: 1.32201\n",
            "[400]\tvalid_0's l1: 1.31963\n",
            "[500]\tvalid_0's l1: 1.31848\n"
          ],
          "name": "stdout"
        },
        {
          "output_type": "stream",
          "text": [
            "\n",
            "\n",
            "regularization_factors, val_score: 1.316166:  20%|##        | 4/20 [03:28<10:54, 40.90s/it]\u001b[A\u001b[A\n",
            "\n",
            "regularization_factors, val_score: 1.316166:  25%|##5       | 5/20 [03:28<10:23, 41.60s/it]\u001b[A\u001b[A\u001b[32m[I 2021-07-07 21:16:19,694]\u001b[0m Trial 47 finished with value: 1.3184446180431362 and parameters: {'lambda_l1': 0.0006938068138332973, 'lambda_l2': 0.9160462399143711}. Best is trial 45 with value: 1.3161656288466548.\u001b[0m\n",
            "\n",
            "\n",
            "regularization_factors, val_score: 1.316166:  25%|##5       | 5/20 [03:28<10:23, 41.60s/it]\u001b[A\u001b[A"
          ],
          "name": "stderr"
        },
        {
          "output_type": "stream",
          "text": [
            "Early stopping, best iteration is:\n",
            "[498]\tvalid_0's l1: 1.31844\n",
            "Training until validation scores don't improve for 100 rounds.\n",
            "[100]\tvalid_0's l1: 1.34122\n",
            "[200]\tvalid_0's l1: 1.32668\n",
            "[300]\tvalid_0's l1: 1.32167\n",
            "[400]\tvalid_0's l1: 1.32033\n",
            "[500]\tvalid_0's l1: 1.3189\n"
          ],
          "name": "stdout"
        },
        {
          "output_type": "stream",
          "text": [
            "\n",
            "\n",
            "regularization_factors, val_score: 1.316166:  25%|##5       | 5/20 [04:09<10:23, 41.60s/it]\u001b[A\u001b[A\n",
            "\n",
            "regularization_factors, val_score: 1.316166:  30%|###       | 6/20 [04:09<09:41, 41.51s/it]\u001b[A\u001b[A\u001b[32m[I 2021-07-07 21:17:01,012]\u001b[0m Trial 48 finished with value: 1.3182561801899948 and parameters: {'lambda_l1': 0.0012631108599207097, 'lambda_l2': 5.281222499279632e-05}. Best is trial 45 with value: 1.3161656288466548.\u001b[0m\n",
            "\n",
            "\n",
            "regularization_factors, val_score: 1.316166:  30%|###       | 6/20 [04:09<09:41, 41.51s/it]\u001b[A\u001b[A"
          ],
          "name": "stderr"
        },
        {
          "output_type": "stream",
          "text": [
            "Early stopping, best iteration is:\n",
            "[472]\tvalid_0's l1: 1.31826\n",
            "Training until validation scores don't improve for 100 rounds.\n",
            "[100]\tvalid_0's l1: 1.34122\n",
            "[200]\tvalid_0's l1: 1.32668\n",
            "[300]\tvalid_0's l1: 1.32167\n",
            "[400]\tvalid_0's l1: 1.32033\n",
            "[500]\tvalid_0's l1: 1.3189\n"
          ],
          "name": "stdout"
        },
        {
          "output_type": "stream",
          "text": [
            "\n",
            "\n",
            "regularization_factors, val_score: 1.316166:  30%|###       | 6/20 [04:51<09:41, 41.51s/it]\u001b[A\u001b[A\n",
            "\n",
            "regularization_factors, val_score: 1.316166:  35%|###5      | 7/20 [04:51<09:01, 41.66s/it]\u001b[A\u001b[A\u001b[32m[I 2021-07-07 21:17:43,017]\u001b[0m Trial 49 finished with value: 1.3182561801899952 and parameters: {'lambda_l1': 0.00039048465274688684, 'lambda_l2': 0.0027733239035165947}. Best is trial 45 with value: 1.3161656288466548.\u001b[0m\n",
            "\n",
            "\n",
            "regularization_factors, val_score: 1.316166:  35%|###5      | 7/20 [04:51<09:01, 41.66s/it]\u001b[A\u001b[A"
          ],
          "name": "stderr"
        },
        {
          "output_type": "stream",
          "text": [
            "Early stopping, best iteration is:\n",
            "[472]\tvalid_0's l1: 1.31826\n",
            "Training until validation scores don't improve for 100 rounds.\n",
            "[100]\tvalid_0's l1: 1.34122\n",
            "[200]\tvalid_0's l1: 1.32668\n",
            "[300]\tvalid_0's l1: 1.32167\n",
            "[400]\tvalid_0's l1: 1.32033\n",
            "[500]\tvalid_0's l1: 1.3189\n"
          ],
          "name": "stdout"
        },
        {
          "output_type": "stream",
          "text": [
            "\n",
            "\n",
            "regularization_factors, val_score: 1.316166:  35%|###5      | 7/20 [05:33<09:01, 41.66s/it]\u001b[A\u001b[A\n",
            "\n",
            "regularization_factors, val_score: 1.316166:  40%|####      | 8/20 [05:33<08:21, 41.75s/it]\u001b[A\u001b[A\u001b[32m[I 2021-07-07 21:18:24,990]\u001b[0m Trial 50 finished with value: 1.3182561801899952 and parameters: {'lambda_l1': 1.2207167465438068e-08, 'lambda_l2': 0.0020877663388757257}. Best is trial 45 with value: 1.3161656288466548.\u001b[0m\n",
            "\n",
            "\n",
            "regularization_factors, val_score: 1.316166:  40%|####      | 8/20 [05:33<08:21, 41.75s/it]\u001b[A\u001b[A"
          ],
          "name": "stderr"
        },
        {
          "output_type": "stream",
          "text": [
            "Early stopping, best iteration is:\n",
            "[472]\tvalid_0's l1: 1.31826\n",
            "Training until validation scores don't improve for 100 rounds.\n",
            "[100]\tvalid_0's l1: 1.34122\n",
            "[200]\tvalid_0's l1: 1.32658\n",
            "[300]\tvalid_0's l1: 1.32239\n",
            "[400]\tvalid_0's l1: 1.32365\n"
          ],
          "name": "stdout"
        },
        {
          "output_type": "stream",
          "text": [
            "\n",
            "\n",
            "regularization_factors, val_score: 1.316166:  40%|####      | 8/20 [06:06<08:21, 41.75s/it]\u001b[A\u001b[A\n",
            "\n",
            "regularization_factors, val_score: 1.316166:  45%|####5     | 9/20 [06:06<07:10, 39.11s/it]\u001b[A\u001b[A\u001b[32m[I 2021-07-07 21:18:57,938]\u001b[0m Trial 51 finished with value: 1.3210962231781376 and parameters: {'lambda_l1': 4.214630311051658e-06, 'lambda_l2': 1.5822602289576584}. Best is trial 45 with value: 1.3161656288466548.\u001b[0m\n",
            "\n",
            "\n",
            "regularization_factors, val_score: 1.316166:  45%|####5     | 9/20 [06:06<07:10, 39.11s/it]\u001b[A\u001b[A"
          ],
          "name": "stderr"
        },
        {
          "output_type": "stream",
          "text": [
            "Early stopping, best iteration is:\n",
            "[344]\tvalid_0's l1: 1.3211\n",
            "Training until validation scores don't improve for 100 rounds.\n",
            "[100]\tvalid_0's l1: 1.34122\n",
            "[200]\tvalid_0's l1: 1.32668\n",
            "[300]\tvalid_0's l1: 1.32167\n",
            "[400]\tvalid_0's l1: 1.32033\n",
            "[500]\tvalid_0's l1: 1.3189\n"
          ],
          "name": "stdout"
        },
        {
          "output_type": "stream",
          "text": [
            "\n",
            "\n",
            "regularization_factors, val_score: 1.316166:  45%|####5     | 9/20 [06:47<07:10, 39.11s/it]\u001b[A\u001b[A\n",
            "\n",
            "regularization_factors, val_score: 1.316166:  50%|#####     | 10/20 [06:47<06:36, 39.68s/it]\u001b[A\u001b[A\u001b[32m[I 2021-07-07 21:19:38,932]\u001b[0m Trial 52 finished with value: 1.3182561801899952 and parameters: {'lambda_l1': 3.5312498473791557e-07, 'lambda_l2': 7.097177916431332e-05}. Best is trial 45 with value: 1.3161656288466548.\u001b[0m\n",
            "\n",
            "\n",
            "regularization_factors, val_score: 1.316166:  50%|#####     | 10/20 [06:47<06:36, 39.68s/it]\u001b[A\u001b[A"
          ],
          "name": "stderr"
        },
        {
          "output_type": "stream",
          "text": [
            "Early stopping, best iteration is:\n",
            "[472]\tvalid_0's l1: 1.31826\n",
            "Training until validation scores don't improve for 100 rounds.\n",
            "[100]\tvalid_0's l1: 1.34338\n",
            "[200]\tvalid_0's l1: 1.3303\n",
            "[300]\tvalid_0's l1: 1.32471\n",
            "[400]\tvalid_0's l1: 1.32047\n",
            "[500]\tvalid_0's l1: 1.3208\n"
          ],
          "name": "stdout"
        },
        {
          "output_type": "stream",
          "text": [
            "\n",
            "\n",
            "regularization_factors, val_score: 1.316166:  50%|#####     | 10/20 [07:24<06:36, 39.68s/it]\u001b[A\u001b[A\n",
            "\n",
            "regularization_factors, val_score: 1.316166:  55%|#####5    | 11/20 [07:24<05:48, 38.73s/it]\u001b[A\u001b[A\u001b[32m[I 2021-07-07 21:20:15,465]\u001b[0m Trial 53 finished with value: 1.3198465636759629 and parameters: {'lambda_l1': 6.485358088428953, 'lambda_l2': 7.454065445145409}. Best is trial 45 with value: 1.3161656288466548.\u001b[0m\n",
            "\n",
            "\n",
            "regularization_factors, val_score: 1.316166:  55%|#####5    | 11/20 [07:24<05:48, 38.73s/it]\u001b[A\u001b[A"
          ],
          "name": "stderr"
        },
        {
          "output_type": "stream",
          "text": [
            "Early stopping, best iteration is:\n",
            "[418]\tvalid_0's l1: 1.31985\n",
            "Training until validation scores don't improve for 100 rounds.\n",
            "[100]\tvalid_0's l1: 1.34122\n",
            "[200]\tvalid_0's l1: 1.32658\n",
            "[300]\tvalid_0's l1: 1.32201\n",
            "[400]\tvalid_0's l1: 1.31929\n",
            "[500]\tvalid_0's l1: 1.31843\n"
          ],
          "name": "stdout"
        },
        {
          "output_type": "stream",
          "text": [
            "\n",
            "\n",
            "regularization_factors, val_score: 1.316166:  55%|#####5    | 11/20 [08:02<05:48, 38.73s/it]\u001b[A\u001b[A\n",
            "\n",
            "regularization_factors, val_score: 1.316166:  60%|######    | 12/20 [08:02<05:09, 38.70s/it]\u001b[A\u001b[A\u001b[32m[I 2021-07-07 21:20:54,084]\u001b[0m Trial 54 finished with value: 1.3178538100253634 and parameters: {'lambda_l1': 0.06198165238217857, 'lambda_l2': 1.5117019643615168e-08}. Best is trial 45 with value: 1.3161656288466548.\u001b[0m\n",
            "\n",
            "\n",
            "regularization_factors, val_score: 1.316166:  60%|######    | 12/20 [08:02<05:09, 38.70s/it]\u001b[A\u001b[A"
          ],
          "name": "stderr"
        },
        {
          "output_type": "stream",
          "text": [
            "Early stopping, best iteration is:\n",
            "[449]\tvalid_0's l1: 1.31785\n",
            "Training until validation scores don't improve for 100 rounds.\n",
            "[100]\tvalid_0's l1: 1.34122\n",
            "[200]\tvalid_0's l1: 1.32658\n",
            "[300]\tvalid_0's l1: 1.32201\n",
            "[400]\tvalid_0's l1: 1.31929\n",
            "[500]\tvalid_0's l1: 1.31843\n"
          ],
          "name": "stdout"
        },
        {
          "output_type": "stream",
          "text": [
            "\n",
            "\n",
            "regularization_factors, val_score: 1.316166:  60%|######    | 12/20 [08:41<05:09, 38.70s/it]\u001b[A\u001b[A\n",
            "\n",
            "regularization_factors, val_score: 1.316166:  65%|######5   | 13/20 [08:41<04:31, 38.78s/it]\u001b[A\u001b[A\u001b[32m[I 2021-07-07 21:21:33,045]\u001b[0m Trial 55 finished with value: 1.3178538100253632 and parameters: {'lambda_l1': 0.16683409824420084, 'lambda_l2': 7.759406936363116e-08}. Best is trial 45 with value: 1.3161656288466548.\u001b[0m\n",
            "\n",
            "\n",
            "regularization_factors, val_score: 1.316166:  65%|######5   | 13/20 [08:41<04:31, 38.78s/it]\u001b[A\u001b[A"
          ],
          "name": "stderr"
        },
        {
          "output_type": "stream",
          "text": [
            "Early stopping, best iteration is:\n",
            "[449]\tvalid_0's l1: 1.31785\n",
            "Training until validation scores don't improve for 100 rounds.\n",
            "[100]\tvalid_0's l1: 1.34122\n",
            "[200]\tvalid_0's l1: 1.32658\n",
            "[300]\tvalid_0's l1: 1.32201\n",
            "[400]\tvalid_0's l1: 1.31929\n",
            "[500]\tvalid_0's l1: 1.31843\n"
          ],
          "name": "stdout"
        },
        {
          "output_type": "stream",
          "text": [
            "\n",
            "\n",
            "regularization_factors, val_score: 1.316166:  65%|######5   | 13/20 [09:20<04:31, 38.78s/it]\u001b[A\u001b[A\n",
            "\n",
            "regularization_factors, val_score: 1.316166:  70%|#######   | 14/20 [09:20<03:53, 38.90s/it]\u001b[A\u001b[A\u001b[32m[I 2021-07-07 21:22:12,229]\u001b[0m Trial 56 finished with value: 1.3178538100253636 and parameters: {'lambda_l1': 0.10449800283049346, 'lambda_l2': 1.2998008825972704e-07}. Best is trial 45 with value: 1.3161656288466548.\u001b[0m\n",
            "\n",
            "\n",
            "regularization_factors, val_score: 1.316166:  70%|#######   | 14/20 [09:20<03:53, 38.90s/it]\u001b[A\u001b[A"
          ],
          "name": "stderr"
        },
        {
          "output_type": "stream",
          "text": [
            "Early stopping, best iteration is:\n",
            "[449]\tvalid_0's l1: 1.31785\n",
            "Training until validation scores don't improve for 100 rounds.\n",
            "[100]\tvalid_0's l1: 1.34122\n",
            "[200]\tvalid_0's l1: 1.32668\n",
            "[300]\tvalid_0's l1: 1.32167\n",
            "[400]\tvalid_0's l1: 1.32033\n",
            "[500]\tvalid_0's l1: 1.3189\n"
          ],
          "name": "stdout"
        },
        {
          "output_type": "stream",
          "text": [
            "\n",
            "\n",
            "regularization_factors, val_score: 1.316166:  70%|#######   | 14/20 [10:00<03:53, 38.90s/it]\u001b[A\u001b[A\n",
            "\n",
            "regularization_factors, val_score: 1.316166:  75%|#######5  | 15/20 [10:01<03:16, 39.30s/it]\u001b[A\u001b[A\u001b[32m[I 2021-07-07 21:22:52,455]\u001b[0m Trial 57 finished with value: 1.318256180189995 and parameters: {'lambda_l1': 0.03309229582213424, 'lambda_l2': 0.027431237085764924}. Best is trial 45 with value: 1.3161656288466548.\u001b[0m\n",
            "\n",
            "\n",
            "regularization_factors, val_score: 1.316166:  75%|#######5  | 15/20 [10:01<03:16, 39.30s/it]\u001b[A\u001b[A"
          ],
          "name": "stderr"
        },
        {
          "output_type": "stream",
          "text": [
            "Early stopping, best iteration is:\n",
            "[472]\tvalid_0's l1: 1.31826\n",
            "Training until validation scores don't improve for 100 rounds.\n",
            "[100]\tvalid_0's l1: 1.34664\n",
            "[200]\tvalid_0's l1: 1.32818\n",
            "[300]\tvalid_0's l1: 1.32375\n",
            "[400]\tvalid_0's l1: 1.32107\n",
            "[500]\tvalid_0's l1: 1.3214\n"
          ],
          "name": "stdout"
        },
        {
          "output_type": "stream",
          "text": [
            "\n",
            "\n",
            "regularization_factors, val_score: 1.316166:  75%|#######5  | 15/20 [10:37<03:16, 39.30s/it]\u001b[A\u001b[A\n",
            "\n",
            "regularization_factors, val_score: 1.316166:  80%|########  | 16/20 [10:37<02:33, 38.46s/it]\u001b[A\u001b[A\u001b[32m[I 2021-07-07 21:23:28,959]\u001b[0m Trial 58 finished with value: 1.3203995445918633 and parameters: {'lambda_l1': 9.982258670383072, 'lambda_l2': 0.11669981157706456}. Best is trial 45 with value: 1.3161656288466548.\u001b[0m\n",
            "\n",
            "\n",
            "regularization_factors, val_score: 1.316166:  80%|########  | 16/20 [10:37<02:33, 38.46s/it]\u001b[A\u001b[A"
          ],
          "name": "stderr"
        },
        {
          "output_type": "stream",
          "text": [
            "Early stopping, best iteration is:\n",
            "[417]\tvalid_0's l1: 1.3204\n",
            "Training until validation scores don't improve for 100 rounds.\n",
            "[100]\tvalid_0's l1: 1.34122\n",
            "[200]\tvalid_0's l1: 1.32766\n",
            "[300]\tvalid_0's l1: 1.32301\n",
            "[400]\tvalid_0's l1: 1.32221\n",
            "[500]\tvalid_0's l1: 1.32127\n"
          ],
          "name": "stdout"
        },
        {
          "output_type": "stream",
          "text": [
            "\n",
            "\n",
            "regularization_factors, val_score: 1.316166:  80%|########  | 16/20 [11:14<02:33, 38.46s/it]\u001b[A\u001b[A\n",
            "\n",
            "regularization_factors, val_score: 1.316166:  85%|########5 | 17/20 [11:14<01:54, 38.06s/it]\u001b[A\u001b[A\u001b[32m[I 2021-07-07 21:24:06,079]\u001b[0m Trial 59 finished with value: 1.32111648353452 and parameters: {'lambda_l1': 0.8519221183993085, 'lambda_l2': 5.150552244502841e-06}. Best is trial 45 with value: 1.3161656288466548.\u001b[0m\n",
            "\n",
            "\n",
            "regularization_factors, val_score: 1.316166:  85%|########5 | 17/20 [11:14<01:54, 38.06s/it]\u001b[A\u001b[A"
          ],
          "name": "stderr"
        },
        {
          "output_type": "stream",
          "text": [
            "Early stopping, best iteration is:\n",
            "[422]\tvalid_0's l1: 1.32112\n",
            "Training until validation scores don't improve for 100 rounds.\n",
            "[100]\tvalid_0's l1: 1.34122\n",
            "[200]\tvalid_0's l1: 1.32668\n",
            "[300]\tvalid_0's l1: 1.32167\n",
            "[400]\tvalid_0's l1: 1.32033\n",
            "[500]\tvalid_0's l1: 1.3189\n"
          ],
          "name": "stdout"
        },
        {
          "output_type": "stream",
          "text": [
            "\n",
            "\n",
            "regularization_factors, val_score: 1.316166:  85%|########5 | 17/20 [11:54<01:54, 38.06s/it]\u001b[A\u001b[A\n",
            "\n",
            "regularization_factors, val_score: 1.316166:  90%|######### | 18/20 [11:54<01:17, 38.72s/it]\u001b[A\u001b[A\u001b[32m[I 2021-07-07 21:24:46,336]\u001b[0m Trial 60 finished with value: 1.3182561801899948 and parameters: {'lambda_l1': 0.006715345634591371, 'lambda_l2': 0.1127161856681487}. Best is trial 45 with value: 1.3161656288466548.\u001b[0m\n",
            "\n",
            "\n",
            "regularization_factors, val_score: 1.316166:  90%|######### | 18/20 [11:54<01:17, 38.72s/it]\u001b[A\u001b[A"
          ],
          "name": "stderr"
        },
        {
          "output_type": "stream",
          "text": [
            "Early stopping, best iteration is:\n",
            "[472]\tvalid_0's l1: 1.31826\n",
            "Training until validation scores don't improve for 100 rounds.\n",
            "[100]\tvalid_0's l1: 1.34122\n",
            "[200]\tvalid_0's l1: 1.32658\n",
            "[300]\tvalid_0's l1: 1.32239\n",
            "[400]\tvalid_0's l1: 1.32365\n"
          ],
          "name": "stdout"
        },
        {
          "output_type": "stream",
          "text": [
            "\n",
            "\n",
            "regularization_factors, val_score: 1.316166:  90%|######### | 18/20 [12:26<01:17, 38.72s/it]\u001b[A\u001b[A\n",
            "\n",
            "regularization_factors, val_score: 1.316166:  95%|#########5| 19/20 [12:26<00:36, 36.70s/it]\u001b[A\u001b[A\u001b[32m[I 2021-07-07 21:25:18,339]\u001b[0m Trial 61 finished with value: 1.321096223178138 and parameters: {'lambda_l1': 0.5460104534214026, 'lambda_l2': 2.1607946309621178e-08}. Best is trial 45 with value: 1.3161656288466548.\u001b[0m\n",
            "\n",
            "\n",
            "regularization_factors, val_score: 1.316166:  95%|#########5| 19/20 [12:26<00:36, 36.70s/it]\u001b[A\u001b[A"
          ],
          "name": "stderr"
        },
        {
          "output_type": "stream",
          "text": [
            "Early stopping, best iteration is:\n",
            "[344]\tvalid_0's l1: 1.3211\n",
            "Training until validation scores don't improve for 100 rounds.\n",
            "[100]\tvalid_0's l1: 1.34122\n",
            "[200]\tvalid_0's l1: 1.32668\n",
            "[300]\tvalid_0's l1: 1.32167\n",
            "[400]\tvalid_0's l1: 1.32033\n",
            "[500]\tvalid_0's l1: 1.3189\n"
          ],
          "name": "stdout"
        },
        {
          "output_type": "stream",
          "text": [
            "\n",
            "\n",
            "regularization_factors, val_score: 1.316166:  95%|#########5| 19/20 [13:09<00:36, 36.70s/it]\u001b[A\u001b[A\n",
            "\n",
            "regularization_factors, val_score: 1.316166: 100%|##########| 20/20 [13:09<00:00, 38.53s/it]\u001b[A\u001b[A\u001b[32m[I 2021-07-07 21:26:01,130]\u001b[0m Trial 62 finished with value: 1.3182561801899948 and parameters: {'lambda_l1': 0.009759175558807013, 'lambda_l2': 2.632992341010699e-06}. Best is trial 45 with value: 1.3161656288466548.\u001b[0m\n",
            "regularization_factors, val_score: 1.316166: 100%|##########| 20/20 [13:09<00:00, 39.48s/it]\n",
            "\n",
            "\n",
            "  0%|          | 0/5 [00:00<?, ?it/s]\u001b[A\u001b[A\n",
            "\n",
            "min_data_in_leaf, val_score: 1.316166:   0%|          | 0/5 [00:00<?, ?it/s]\u001b[A\u001b[A"
          ],
          "name": "stderr"
        },
        {
          "output_type": "stream",
          "text": [
            "Early stopping, best iteration is:\n",
            "[472]\tvalid_0's l1: 1.31826\n",
            "Training until validation scores don't improve for 100 rounds.\n",
            "[100]\tvalid_0's l1: 1.34122\n",
            "[200]\tvalid_0's l1: 1.32658\n",
            "[300]\tvalid_0's l1: 1.32197\n",
            "[400]\tvalid_0's l1: 1.31792\n",
            "[500]\tvalid_0's l1: 1.31714\n"
          ],
          "name": "stdout"
        },
        {
          "output_type": "stream",
          "text": [
            "\n",
            "\n",
            "min_data_in_leaf, val_score: 1.316166:   0%|          | 0/5 [00:38<?, ?it/s]\u001b[A\u001b[A\n",
            "\n",
            "min_data_in_leaf, val_score: 1.316166:  20%|##        | 1/5 [00:38<02:35, 38.96s/it]\u001b[A\u001b[A\u001b[32m[I 2021-07-07 21:26:40,102]\u001b[0m Trial 63 finished with value: 1.3161656288466548 and parameters: {'min_child_samples': 10}. Best is trial 63 with value: 1.3161656288466548.\u001b[0m\n",
            "\n",
            "\n",
            "min_data_in_leaf, val_score: 1.316166:  20%|##        | 1/5 [00:38<02:35, 38.96s/it]\u001b[A\u001b[A"
          ],
          "name": "stderr"
        },
        {
          "output_type": "stream",
          "text": [
            "Early stopping, best iteration is:\n",
            "[434]\tvalid_0's l1: 1.31617\n",
            "Training until validation scores don't improve for 100 rounds.\n",
            "[100]\tvalid_0's l1: 1.34122\n",
            "[200]\tvalid_0's l1: 1.32658\n",
            "[300]\tvalid_0's l1: 1.32197\n",
            "[400]\tvalid_0's l1: 1.31792\n",
            "[500]\tvalid_0's l1: 1.31714\n"
          ],
          "name": "stdout"
        },
        {
          "output_type": "stream",
          "text": [
            "\n",
            "\n",
            "min_data_in_leaf, val_score: 1.316166:  20%|##        | 1/5 [01:17<02:35, 38.96s/it]\u001b[A\u001b[A\n",
            "\n",
            "min_data_in_leaf, val_score: 1.316166:  40%|####      | 2/5 [01:17<01:56, 38.80s/it]\u001b[A\u001b[A\u001b[32m[I 2021-07-07 21:27:18,530]\u001b[0m Trial 64 finished with value: 1.316165628846655 and parameters: {'min_child_samples': 50}. Best is trial 63 with value: 1.3161656288466548.\u001b[0m\n",
            "\n",
            "\n",
            "min_data_in_leaf, val_score: 1.316166:  40%|####      | 2/5 [01:17<01:56, 38.80s/it]\u001b[A\u001b[A"
          ],
          "name": "stderr"
        },
        {
          "output_type": "stream",
          "text": [
            "Early stopping, best iteration is:\n",
            "[434]\tvalid_0's l1: 1.31617\n",
            "Training until validation scores don't improve for 100 rounds.\n",
            "[100]\tvalid_0's l1: 1.34122\n",
            "[200]\tvalid_0's l1: 1.32658\n",
            "[300]\tvalid_0's l1: 1.32197\n",
            "[400]\tvalid_0's l1: 1.31792\n",
            "[500]\tvalid_0's l1: 1.31714\n"
          ],
          "name": "stdout"
        },
        {
          "output_type": "stream",
          "text": [
            "\n",
            "\n",
            "min_data_in_leaf, val_score: 1.316166:  40%|####      | 2/5 [01:55<01:56, 38.80s/it]\u001b[A\u001b[A\n",
            "\n",
            "min_data_in_leaf, val_score: 1.316166:  60%|######    | 3/5 [01:55<01:17, 38.71s/it]\u001b[A\u001b[A\u001b[32m[I 2021-07-07 21:27:57,050]\u001b[0m Trial 65 finished with value: 1.316165628846655 and parameters: {'min_child_samples': 5}. Best is trial 63 with value: 1.3161656288466548.\u001b[0m\n",
            "\n",
            "\n",
            "min_data_in_leaf, val_score: 1.316166:  60%|######    | 3/5 [01:55<01:17, 38.71s/it]\u001b[A\u001b[A"
          ],
          "name": "stderr"
        },
        {
          "output_type": "stream",
          "text": [
            "Early stopping, best iteration is:\n",
            "[434]\tvalid_0's l1: 1.31617\n",
            "Training until validation scores don't improve for 100 rounds.\n",
            "[100]\tvalid_0's l1: 1.34122\n",
            "[200]\tvalid_0's l1: 1.32658\n",
            "[300]\tvalid_0's l1: 1.32197\n",
            "[400]\tvalid_0's l1: 1.31792\n",
            "[500]\tvalid_0's l1: 1.31714\n"
          ],
          "name": "stdout"
        },
        {
          "output_type": "stream",
          "text": [
            "\n",
            "\n",
            "min_data_in_leaf, val_score: 1.316166:  60%|######    | 3/5 [02:33<01:17, 38.71s/it]\u001b[A\u001b[A\n",
            "\n",
            "min_data_in_leaf, val_score: 1.316166:  80%|########  | 4/5 [02:33<00:38, 38.49s/it]\u001b[A\u001b[A\u001b[32m[I 2021-07-07 21:28:35,025]\u001b[0m Trial 66 finished with value: 1.316165628846655 and parameters: {'min_child_samples': 25}. Best is trial 63 with value: 1.3161656288466548.\u001b[0m\n",
            "\n",
            "\n",
            "min_data_in_leaf, val_score: 1.316166:  80%|########  | 4/5 [02:33<00:38, 38.49s/it]\u001b[A\u001b[A"
          ],
          "name": "stderr"
        },
        {
          "output_type": "stream",
          "text": [
            "Early stopping, best iteration is:\n",
            "[434]\tvalid_0's l1: 1.31617\n",
            "Training until validation scores don't improve for 100 rounds.\n",
            "[100]\tvalid_0's l1: 1.34122\n",
            "[200]\tvalid_0's l1: 1.32658\n",
            "[300]\tvalid_0's l1: 1.32197\n",
            "[400]\tvalid_0's l1: 1.31792\n",
            "[500]\tvalid_0's l1: 1.3191\n"
          ],
          "name": "stdout"
        },
        {
          "output_type": "stream",
          "text": [
            "\n",
            "\n",
            "min_data_in_leaf, val_score: 1.316166:  80%|########  | 4/5 [03:12<00:38, 38.49s/it]\u001b[A\u001b[A\n",
            "\n",
            "min_data_in_leaf, val_score: 1.316166: 100%|##########| 5/5 [03:12<00:00, 38.49s/it]\u001b[A\u001b[A\u001b[32m[I 2021-07-07 21:29:13,514]\u001b[0m Trial 67 finished with value: 1.3163378962220238 and parameters: {'min_child_samples': 100}. Best is trial 63 with value: 1.3161656288466548.\u001b[0m\n",
            "min_data_in_leaf, val_score: 1.316166: 100%|##########| 5/5 [03:12<00:00, 38.48s/it]"
          ],
          "name": "stderr"
        },
        {
          "output_type": "stream",
          "text": [
            "Early stopping, best iteration is:\n",
            "[436]\tvalid_0's l1: 1.31634\n",
            "mae: 1.3161656282053067\n"
          ],
          "name": "stdout"
        },
        {
          "output_type": "stream",
          "text": [
            "\n",
            "\u001b[32m[I 2021-07-07 21:29:14,480]\u001b[0m A new study created in memory with name: no-name-282222cf-fa2b-433c-bb4d-8128e896edab\u001b[0m\n",
            "\n",
            "\n",
            "  0%|          | 0/7 [00:00<?, ?it/s]\u001b[A\u001b[A\n",
            "\n",
            "feature_fraction, val_score: inf:   0%|          | 0/7 [00:00<?, ?it/s]\u001b[A\u001b[A/usr/local/lib/python3.7/dist-packages/lightgbm/engine.py:118: UserWarning:\n",
            "\n",
            "Found `n_estimators` in params. Will use it instead of argument\n",
            "\n"
          ],
          "name": "stderr"
        },
        {
          "output_type": "stream",
          "text": [
            "Training until validation scores don't improve for 100 rounds.\n",
            "[100]\tvalid_0's l1: 0.542571\n",
            "[200]\tvalid_0's l1: 0.541046\n",
            "[300]\tvalid_0's l1: 0.540615\n"
          ],
          "name": "stdout"
        },
        {
          "output_type": "stream",
          "text": [
            "\n",
            "\n",
            "feature_fraction, val_score: 0.540517:   0%|          | 0/7 [00:22<?, ?it/s]\u001b[A\u001b[A\n",
            "\n",
            "feature_fraction, val_score: 0.540517:  14%|#4        | 1/7 [00:22<02:17, 22.83s/it]\u001b[A\u001b[A\u001b[32m[I 2021-07-07 21:29:37,335]\u001b[0m Trial 0 finished with value: 0.5405173569611152 and parameters: {'feature_fraction': 0.4}. Best is trial 0 with value: 0.5405173569611152.\u001b[0m\n",
            "\n",
            "\n",
            "feature_fraction, val_score: 0.540517:  14%|#4        | 1/7 [00:22<02:17, 22.83s/it]\u001b[A\u001b[A"
          ],
          "name": "stderr"
        },
        {
          "output_type": "stream",
          "text": [
            "Early stopping, best iteration is:\n",
            "[250]\tvalid_0's l1: 0.540517\n",
            "Training until validation scores don't improve for 100 rounds.\n",
            "[100]\tvalid_0's l1: 0.537406\n",
            "[200]\tvalid_0's l1: 0.537406\n"
          ],
          "name": "stdout"
        },
        {
          "output_type": "stream",
          "text": [
            "\n",
            "\n",
            "feature_fraction, val_score: 0.537405:  14%|#4        | 1/7 [00:43<02:17, 22.83s/it]\u001b[A\u001b[A\n",
            "\n",
            "feature_fraction, val_score: 0.537405:  29%|##8       | 2/7 [00:43<01:50, 22.10s/it]\u001b[A\u001b[A\u001b[32m[I 2021-07-07 21:29:57,713]\u001b[0m Trial 1 finished with value: 0.5374051777893601 and parameters: {'feature_fraction': 0.8999999999999999}. Best is trial 1 with value: 0.5374051777893601.\u001b[0m\n",
            "\n",
            "\n",
            "feature_fraction, val_score: 0.537405:  29%|##8       | 2/7 [00:43<01:50, 22.10s/it]\u001b[A\u001b[A"
          ],
          "name": "stderr"
        },
        {
          "output_type": "stream",
          "text": [
            "Early stopping, best iteration is:\n",
            "[133]\tvalid_0's l1: 0.537405\n",
            "Training until validation scores don't improve for 100 rounds.\n",
            "[100]\tvalid_0's l1: 0.539275\n",
            "[200]\tvalid_0's l1: 0.53894\n",
            "[300]\tvalid_0's l1: 0.538457\n",
            "[400]\tvalid_0's l1: 0.538408\n",
            "[500]\tvalid_0's l1: 0.538355\n",
            "[600]\tvalid_0's l1: 0.538273\n",
            "[700]\tvalid_0's l1: 0.537085\n",
            "[800]\tvalid_0's l1: 0.53706\n",
            "[900]\tvalid_0's l1: 0.536845\n",
            "[1000]\tvalid_0's l1: 0.536723\n",
            "[1100]\tvalid_0's l1: 0.536435\n",
            "[1200]\tvalid_0's l1: 0.536452\n"
          ],
          "name": "stdout"
        },
        {
          "output_type": "stream",
          "text": [
            "\n",
            "\n",
            "feature_fraction, val_score: 0.536435:  29%|##8       | 2/7 [02:07<01:50, 22.10s/it]\u001b[A\u001b[A\n",
            "\n",
            "feature_fraction, val_score: 0.536435:  43%|####2     | 3/7 [02:07<02:42, 40.75s/it]\u001b[A\u001b[A\u001b[32m[I 2021-07-07 21:31:21,976]\u001b[0m Trial 2 finished with value: 0.5364349952685202 and parameters: {'feature_fraction': 0.6}. Best is trial 2 with value: 0.5364349952685202.\u001b[0m\n",
            "\n",
            "\n",
            "feature_fraction, val_score: 0.536435:  43%|####2     | 3/7 [02:07<02:42, 40.75s/it]\u001b[A\u001b[A"
          ],
          "name": "stderr"
        },
        {
          "output_type": "stream",
          "text": [
            "Early stopping, best iteration is:\n",
            "[1110]\tvalid_0's l1: 0.536435\n",
            "Training until validation scores don't improve for 100 rounds.\n",
            "[100]\tvalid_0's l1: 0.538456\n",
            "[200]\tvalid_0's l1: 0.538381\n",
            "[300]\tvalid_0's l1: 0.538277\n",
            "[400]\tvalid_0's l1: 0.538198\n",
            "[500]\tvalid_0's l1: 0.537884\n",
            "[600]\tvalid_0's l1: 0.537904\n",
            "[700]\tvalid_0's l1: 0.537522\n",
            "[800]\tvalid_0's l1: 0.537175\n"
          ],
          "name": "stdout"
        },
        {
          "output_type": "stream",
          "text": [
            "\n",
            "\n",
            "feature_fraction, val_score: 0.536435:  43%|####2     | 3/7 [03:15<02:42, 40.75s/it]\u001b[A\u001b[A\n",
            "\n",
            "feature_fraction, val_score: 0.536435:  57%|#####7    | 4/7 [03:15<02:26, 48.85s/it]\u001b[A\u001b[A\u001b[32m[I 2021-07-07 21:32:29,719]\u001b[0m Trial 3 finished with value: 0.5371430537131698 and parameters: {'feature_fraction': 0.8}. Best is trial 2 with value: 0.5364349952685202.\u001b[0m\n",
            "\n",
            "\n",
            "feature_fraction, val_score: 0.536435:  57%|#####7    | 4/7 [03:15<02:26, 48.85s/it]\u001b[A\u001b[A"
          ],
          "name": "stderr"
        },
        {
          "output_type": "stream",
          "text": [
            "Early stopping, best iteration is:\n",
            "[789]\tvalid_0's l1: 0.537143\n",
            "Training until validation scores don't improve for 100 rounds.\n",
            "[100]\tvalid_0's l1: 0.540268\n",
            "[200]\tvalid_0's l1: 0.539799\n",
            "[300]\tvalid_0's l1: 0.539721\n",
            "[400]\tvalid_0's l1: 0.539598\n"
          ],
          "name": "stdout"
        },
        {
          "output_type": "stream",
          "text": [
            "\n",
            "\n",
            "feature_fraction, val_score: 0.536435:  57%|#####7    | 4/7 [03:48<02:26, 48.85s/it]\u001b[A\u001b[A\n",
            "\n",
            "feature_fraction, val_score: 0.536435:  71%|#######1  | 5/7 [03:48<01:28, 44.30s/it]\u001b[A\u001b[A\u001b[32m[I 2021-07-07 21:33:03,401]\u001b[0m Trial 4 finished with value: 0.5395313380561895 and parameters: {'feature_fraction': 0.7}. Best is trial 2 with value: 0.5364349952685202.\u001b[0m\n",
            "\n",
            "\n",
            "feature_fraction, val_score: 0.536435:  71%|#######1  | 5/7 [03:48<01:28, 44.30s/it]\u001b[A\u001b[A"
          ],
          "name": "stderr"
        },
        {
          "output_type": "stream",
          "text": [
            "Early stopping, best iteration is:\n",
            "[339]\tvalid_0's l1: 0.539531\n",
            "Training until validation scores don't improve for 100 rounds.\n",
            "[100]\tvalid_0's l1: 0.538417\n",
            "[200]\tvalid_0's l1: 0.537846\n"
          ],
          "name": "stdout"
        },
        {
          "output_type": "stream",
          "text": [
            "\n",
            "\n",
            "feature_fraction, val_score: 0.536435:  71%|#######1  | 5/7 [04:09<01:28, 44.30s/it]\u001b[A\u001b[A\n",
            "\n",
            "feature_fraction, val_score: 0.536435:  86%|########5 | 6/7 [04:09<00:37, 37.31s/it]\u001b[A\u001b[A\u001b[32m[I 2021-07-07 21:33:24,404]\u001b[0m Trial 5 finished with value: 0.5378456359075124 and parameters: {'feature_fraction': 1.0}. Best is trial 2 with value: 0.5364349952685202.\u001b[0m\n",
            "\n",
            "\n",
            "feature_fraction, val_score: 0.536435:  86%|########5 | 6/7 [04:09<00:37, 37.31s/it]\u001b[A\u001b[A"
          ],
          "name": "stderr"
        },
        {
          "output_type": "stream",
          "text": [
            "Early stopping, best iteration is:\n",
            "[135]\tvalid_0's l1: 0.537846\n",
            "Training until validation scores don't improve for 100 rounds.\n",
            "[100]\tvalid_0's l1: 0.539713\n",
            "[200]\tvalid_0's l1: 0.538859\n"
          ],
          "name": "stdout"
        },
        {
          "output_type": "stream",
          "text": [
            "\n",
            "\n",
            "feature_fraction, val_score: 0.536435:  86%|########5 | 6/7 [04:31<00:37, 37.31s/it]\u001b[A\u001b[A\n",
            "\n",
            "feature_fraction, val_score: 0.536435: 100%|##########| 7/7 [04:31<00:00, 32.72s/it]\u001b[A\u001b[A\u001b[32m[I 2021-07-07 21:33:46,409]\u001b[0m Trial 6 finished with value: 0.5388576317491944 and parameters: {'feature_fraction': 0.5}. Best is trial 2 with value: 0.5364349952685202.\u001b[0m\n",
            "feature_fraction, val_score: 0.536435: 100%|##########| 7/7 [04:31<00:00, 38.85s/it]\n",
            "\n",
            "\n",
            "  0%|          | 0/20 [00:00<?, ?it/s]\u001b[A\u001b[A\n",
            "\n",
            "num_leaves, val_score: 0.536435:   0%|          | 0/20 [00:00<?, ?it/s]\u001b[A\u001b[A"
          ],
          "name": "stderr"
        },
        {
          "output_type": "stream",
          "text": [
            "Early stopping, best iteration is:\n",
            "[193]\tvalid_0's l1: 0.538858\n",
            "Training until validation scores don't improve for 100 rounds.\n",
            "[100]\tvalid_0's l1: 0.536319\n",
            "[200]\tvalid_0's l1: 0.536572\n"
          ],
          "name": "stdout"
        },
        {
          "output_type": "stream",
          "text": [
            "\n",
            "\n",
            "num_leaves, val_score: 0.536270:   0%|          | 0/20 [00:21<?, ?it/s]\u001b[A\u001b[A\n",
            "\n",
            "num_leaves, val_score: 0.536270:   5%|5         | 1/20 [00:21<06:45, 21.35s/it]\u001b[A\u001b[A\u001b[32m[I 2021-07-07 21:34:07,778]\u001b[0m Trial 7 finished with value: 0.5362702224780359 and parameters: {'num_leaves': 242}. Best is trial 7 with value: 0.5362702224780359.\u001b[0m\n",
            "\n",
            "\n",
            "num_leaves, val_score: 0.536270:   5%|5         | 1/20 [00:21<06:45, 21.35s/it]\u001b[A\u001b[A"
          ],
          "name": "stderr"
        },
        {
          "output_type": "stream",
          "text": [
            "Early stopping, best iteration is:\n",
            "[120]\tvalid_0's l1: 0.53627\n",
            "Training until validation scores don't improve for 100 rounds.\n",
            "[100]\tvalid_0's l1: 0.538265\n",
            "[200]\tvalid_0's l1: 0.537946\n",
            "[300]\tvalid_0's l1: 0.537968\n"
          ],
          "name": "stdout"
        },
        {
          "output_type": "stream",
          "text": [
            "\n",
            "\n",
            "num_leaves, val_score: 0.536270:   5%|5         | 1/20 [00:49<06:45, 21.35s/it]\u001b[A\u001b[A\n",
            "\n",
            "num_leaves, val_score: 0.536270:  10%|#         | 2/20 [00:49<07:01, 23.41s/it]\u001b[A\u001b[A\u001b[32m[I 2021-07-07 21:34:35,983]\u001b[0m Trial 8 finished with value: 0.5379354418661922 and parameters: {'num_leaves': 131}. Best is trial 7 with value: 0.5362702224780359.\u001b[0m\n",
            "\n",
            "\n",
            "num_leaves, val_score: 0.536270:  10%|#         | 2/20 [00:49<07:01, 23.41s/it]\u001b[A\u001b[A"
          ],
          "name": "stderr"
        },
        {
          "output_type": "stream",
          "text": [
            "Early stopping, best iteration is:\n",
            "[265]\tvalid_0's l1: 0.537935\n",
            "Training until validation scores don't improve for 100 rounds.\n",
            "[100]\tvalid_0's l1: 0.544406\n",
            "[200]\tvalid_0's l1: 0.544207\n",
            "[300]\tvalid_0's l1: 0.544014\n",
            "[400]\tvalid_0's l1: 0.54337\n",
            "[500]\tvalid_0's l1: 0.543003\n",
            "[600]\tvalid_0's l1: 0.54244\n",
            "[700]\tvalid_0's l1: 0.54145\n",
            "[800]\tvalid_0's l1: 0.540516\n",
            "[900]\tvalid_0's l1: 0.5405\n",
            "[1000]\tvalid_0's l1: 0.53932\n"
          ],
          "name": "stdout"
        },
        {
          "output_type": "stream",
          "text": [
            "\n",
            "\n",
            "num_leaves, val_score: 0.536270:  10%|#         | 2/20 [01:57<07:01, 23.41s/it]\u001b[A\u001b[A\n",
            "\n",
            "num_leaves, val_score: 0.536270:  15%|#5        | 3/20 [01:57<10:27, 36.90s/it]\u001b[A\u001b[A\u001b[32m[I 2021-07-07 21:35:44,375]\u001b[0m Trial 9 finished with value: 0.539301783107497 and parameters: {'num_leaves': 49}. Best is trial 7 with value: 0.5362702224780359.\u001b[0m\n",
            "\n",
            "\n",
            "num_leaves, val_score: 0.536270:  15%|#5        | 3/20 [01:57<10:27, 36.90s/it]\u001b[A\u001b[A"
          ],
          "name": "stderr"
        },
        {
          "output_type": "stream",
          "text": [
            "Early stopping, best iteration is:\n",
            "[986]\tvalid_0's l1: 0.539302\n",
            "Training until validation scores don't improve for 100 rounds.\n",
            "[100]\tvalid_0's l1: 0.538884\n",
            "[200]\tvalid_0's l1: 0.538792\n",
            "[300]\tvalid_0's l1: 0.53872\n",
            "[400]\tvalid_0's l1: 0.538483\n"
          ],
          "name": "stdout"
        },
        {
          "output_type": "stream",
          "text": [
            "\n",
            "\n",
            "num_leaves, val_score: 0.536270:  15%|#5        | 3/20 [02:29<10:27, 36.90s/it]\u001b[A\u001b[A\n",
            "\n",
            "num_leaves, val_score: 0.536270:  20%|##        | 4/20 [02:29<09:25, 35.35s/it]\u001b[A\u001b[A\u001b[32m[I 2021-07-07 21:36:16,113]\u001b[0m Trial 10 finished with value: 0.5384657583982994 and parameters: {'num_leaves': 96}. Best is trial 7 with value: 0.5362702224780359.\u001b[0m\n",
            "\n",
            "\n",
            "num_leaves, val_score: 0.536270:  20%|##        | 4/20 [02:29<09:25, 35.35s/it]\u001b[A\u001b[A"
          ],
          "name": "stderr"
        },
        {
          "output_type": "stream",
          "text": [
            "Early stopping, best iteration is:\n",
            "[360]\tvalid_0's l1: 0.538466\n",
            "Training until validation scores don't improve for 100 rounds.\n",
            "[100]\tvalid_0's l1: 0.538354\n",
            "[200]\tvalid_0's l1: 0.538369\n"
          ],
          "name": "stdout"
        },
        {
          "output_type": "stream",
          "text": [
            "\n",
            "\n",
            "num_leaves, val_score: 0.536270:  20%|##        | 4/20 [02:49<09:25, 35.35s/it]\u001b[A\u001b[A\n",
            "\n",
            "num_leaves, val_score: 0.536270:  25%|##5       | 5/20 [02:49<07:42, 30.82s/it]\u001b[A\u001b[A\u001b[32m[I 2021-07-07 21:36:36,357]\u001b[0m Trial 11 finished with value: 0.5383176314655612 and parameters: {'num_leaves': 149}. Best is trial 7 with value: 0.5362702224780359.\u001b[0m\n",
            "\n",
            "\n",
            "num_leaves, val_score: 0.536270:  25%|##5       | 5/20 [02:49<07:42, 30.82s/it]\u001b[A\u001b[A"
          ],
          "name": "stderr"
        },
        {
          "output_type": "stream",
          "text": [
            "Early stopping, best iteration is:\n",
            "[144]\tvalid_0's l1: 0.538318\n",
            "Training until validation scores don't improve for 100 rounds.\n",
            "[100]\tvalid_0's l1: 0.555641\n"
          ],
          "name": "stdout"
        },
        {
          "output_type": "stream",
          "text": [
            "\n",
            "\n",
            "num_leaves, val_score: 0.536270:  25%|##5       | 5/20 [03:01<07:42, 30.82s/it]\u001b[A\u001b[A\n",
            "\n",
            "num_leaves, val_score: 0.536270:  30%|###       | 6/20 [03:01<05:52, 25.15s/it]\u001b[A\u001b[A\u001b[32m[I 2021-07-07 21:36:48,272]\u001b[0m Trial 12 finished with value: 0.5556381661851958 and parameters: {'num_leaves': 8}. Best is trial 7 with value: 0.5362702224780359.\u001b[0m\n",
            "\n",
            "\n",
            "num_leaves, val_score: 0.536270:  30%|###       | 6/20 [03:01<05:52, 25.15s/it]\u001b[A\u001b[A"
          ],
          "name": "stderr"
        },
        {
          "output_type": "stream",
          "text": [
            "Early stopping, best iteration is:\n",
            "[77]\tvalid_0's l1: 0.555638\n",
            "Training until validation scores don't improve for 100 rounds.\n",
            "[100]\tvalid_0's l1: 0.54326\n",
            "[200]\tvalid_0's l1: 0.542837\n",
            "[300]\tvalid_0's l1: 0.54283\n",
            "[400]\tvalid_0's l1: 0.542143\n",
            "[500]\tvalid_0's l1: 0.541913\n",
            "[600]\tvalid_0's l1: 0.541141\n",
            "[700]\tvalid_0's l1: 0.54067\n",
            "[800]\tvalid_0's l1: 0.540553\n",
            "[900]\tvalid_0's l1: 0.540252\n",
            "[1000]\tvalid_0's l1: 0.540039\n",
            "[1100]\tvalid_0's l1: 0.540034\n"
          ],
          "name": "stdout"
        },
        {
          "output_type": "stream",
          "text": [
            "\n",
            "\n",
            "num_leaves, val_score: 0.536270:  30%|###       | 6/20 [04:15<05:52, 25.15s/it]\u001b[A\u001b[A\n",
            "\n",
            "num_leaves, val_score: 0.536270:  35%|###5      | 7/20 [04:15<08:35, 39.66s/it]\u001b[A\u001b[A\u001b[32m[I 2021-07-07 21:38:01,790]\u001b[0m Trial 13 finished with value: 0.5399955768841201 and parameters: {'num_leaves': 54}. Best is trial 7 with value: 0.5362702224780359.\u001b[0m\n",
            "\n",
            "\n",
            "num_leaves, val_score: 0.536270:  35%|###5      | 7/20 [04:15<08:35, 39.66s/it]\u001b[A\u001b[A"
          ],
          "name": "stderr"
        },
        {
          "output_type": "stream",
          "text": [
            "Early stopping, best iteration is:\n",
            "[1014]\tvalid_0's l1: 0.539996\n",
            "Training until validation scores don't improve for 100 rounds.\n",
            "[100]\tvalid_0's l1: 0.537002\n",
            "[200]\tvalid_0's l1: 0.536838\n"
          ],
          "name": "stdout"
        },
        {
          "output_type": "stream",
          "text": [
            "\n",
            "\n",
            "num_leaves, val_score: 0.536270:  35%|###5      | 7/20 [04:36<08:35, 39.66s/it]\u001b[A\u001b[A\n",
            "\n",
            "num_leaves, val_score: 0.536270:  40%|####      | 8/20 [04:36<06:50, 34.19s/it]\u001b[A\u001b[A\u001b[32m[I 2021-07-07 21:38:23,220]\u001b[0m Trial 14 finished with value: 0.5367954348219922 and parameters: {'num_leaves': 159}. Best is trial 7 with value: 0.5362702224780359.\u001b[0m\n",
            "\n",
            "\n",
            "num_leaves, val_score: 0.536270:  40%|####      | 8/20 [04:36<06:50, 34.19s/it]\u001b[A\u001b[A"
          ],
          "name": "stderr"
        },
        {
          "output_type": "stream",
          "text": [
            "Early stopping, best iteration is:\n",
            "[158]\tvalid_0's l1: 0.536795\n",
            "Training until validation scores don't improve for 100 rounds.\n",
            "[100]\tvalid_0's l1: 0.53737\n",
            "[200]\tvalid_0's l1: 0.537343\n"
          ],
          "name": "stdout"
        },
        {
          "output_type": "stream",
          "text": [
            "\n",
            "\n",
            "num_leaves, val_score: 0.536270:  40%|####      | 8/20 [04:54<06:50, 34.19s/it]\u001b[A\u001b[A\n",
            "\n",
            "num_leaves, val_score: 0.536270:  45%|####5     | 9/20 [04:54<05:20, 29.13s/it]\u001b[A\u001b[A\u001b[32m[I 2021-07-07 21:38:40,525]\u001b[0m Trial 15 finished with value: 0.5372845739997051 and parameters: {'num_leaves': 122}. Best is trial 7 with value: 0.5362702224780359.\u001b[0m\n",
            "\n",
            "\n",
            "num_leaves, val_score: 0.536270:  45%|####5     | 9/20 [04:54<05:20, 29.13s/it]\u001b[A\u001b[A"
          ],
          "name": "stderr"
        },
        {
          "output_type": "stream",
          "text": [
            "Early stopping, best iteration is:\n",
            "[120]\tvalid_0's l1: 0.537285\n",
            "Training until validation scores don't improve for 100 rounds.\n",
            "[100]\tvalid_0's l1: 0.5354\n"
          ],
          "name": "stdout"
        },
        {
          "output_type": "stream",
          "text": [
            "\n",
            "\n",
            "num_leaves, val_score: 0.535212:  45%|####5     | 9/20 [05:09<05:20, 29.13s/it]\u001b[A\u001b[A\n",
            "\n",
            "num_leaves, val_score: 0.535212:  50%|#####     | 10/20 [05:09<04:09, 24.92s/it]\u001b[A\u001b[A\u001b[32m[I 2021-07-07 21:38:55,621]\u001b[0m Trial 16 finished with value: 0.5352122778764348 and parameters: {'num_leaves': 225}. Best is trial 16 with value: 0.5352122778764348.\u001b[0m\n",
            "\n",
            "\n",
            "num_leaves, val_score: 0.535212:  50%|#####     | 10/20 [05:09<04:09, 24.92s/it]\u001b[A\u001b[A"
          ],
          "name": "stderr"
        },
        {
          "output_type": "stream",
          "text": [
            "Early stopping, best iteration is:\n",
            "[56]\tvalid_0's l1: 0.535212\n",
            "Training until validation scores don't improve for 100 rounds.\n",
            "[100]\tvalid_0's l1: 0.535986\n"
          ],
          "name": "stdout"
        },
        {
          "output_type": "stream",
          "text": [
            "\n",
            "\n",
            "num_leaves, val_score: 0.535212:  50%|#####     | 10/20 [05:23<04:09, 24.92s/it]\u001b[A\u001b[A\n",
            "\n",
            "num_leaves, val_score: 0.535212:  55%|#####5    | 11/20 [05:23<03:16, 21.87s/it]\u001b[A\u001b[A\u001b[32m[I 2021-07-07 21:39:10,395]\u001b[0m Trial 17 finished with value: 0.5358794943977847 and parameters: {'num_leaves': 238}. Best is trial 16 with value: 0.5352122778764348.\u001b[0m\n",
            "\n",
            "\n",
            "num_leaves, val_score: 0.535212:  55%|#####5    | 11/20 [05:23<03:16, 21.87s/it]\u001b[A\u001b[A"
          ],
          "name": "stderr"
        },
        {
          "output_type": "stream",
          "text": [
            "Early stopping, best iteration is:\n",
            "[58]\tvalid_0's l1: 0.535879\n",
            "Training until validation scores don't improve for 100 rounds.\n",
            "[100]\tvalid_0's l1: 0.537021\n",
            "[200]\tvalid_0's l1: 0.537008\n"
          ],
          "name": "stdout"
        },
        {
          "output_type": "stream",
          "text": [
            "\n",
            "\n",
            "num_leaves, val_score: 0.535212:  55%|#####5    | 11/20 [05:44<03:16, 21.87s/it]\u001b[A\u001b[A\n",
            "\n",
            "num_leaves, val_score: 0.535212:  60%|######    | 12/20 [05:44<02:52, 21.62s/it]\u001b[A\u001b[A\u001b[32m[I 2021-07-07 21:39:31,406]\u001b[0m Trial 18 finished with value: 0.5367186299441783 and parameters: {'num_leaves': 254}. Best is trial 16 with value: 0.5352122778764348.\u001b[0m\n",
            "\n",
            "\n",
            "num_leaves, val_score: 0.535212:  60%|######    | 12/20 [05:44<02:52, 21.62s/it]\u001b[A\u001b[A"
          ],
          "name": "stderr"
        },
        {
          "output_type": "stream",
          "text": [
            "Early stopping, best iteration is:\n",
            "[133]\tvalid_0's l1: 0.536719\n",
            "Training until validation scores don't improve for 100 rounds.\n",
            "[100]\tvalid_0's l1: 0.535121\n",
            "[200]\tvalid_0's l1: 0.535227\n"
          ],
          "name": "stdout"
        },
        {
          "output_type": "stream",
          "text": [
            "\n",
            "\n",
            "num_leaves, val_score: 0.534921:  60%|######    | 12/20 [06:03<02:52, 21.62s/it]\u001b[A\u001b[A\n",
            "\n",
            "num_leaves, val_score: 0.534921:  65%|######5   | 13/20 [06:03<02:25, 20.79s/it]\u001b[A\u001b[A\u001b[32m[I 2021-07-07 21:39:50,276]\u001b[0m Trial 19 finished with value: 0.5349208676153148 and parameters: {'num_leaves': 212}. Best is trial 19 with value: 0.5349208676153148.\u001b[0m\n",
            "\n",
            "\n",
            "num_leaves, val_score: 0.534921:  65%|######5   | 13/20 [06:03<02:25, 20.79s/it]\u001b[A\u001b[A"
          ],
          "name": "stderr"
        },
        {
          "output_type": "stream",
          "text": [
            "Early stopping, best iteration is:\n",
            "[120]\tvalid_0's l1: 0.534921\n",
            "Training until validation scores don't improve for 100 rounds.\n",
            "[100]\tvalid_0's l1: 0.5348\n"
          ],
          "name": "stdout"
        },
        {
          "output_type": "stream",
          "text": [
            "\n",
            "\n",
            "num_leaves, val_score: 0.534680:  65%|######5   | 13/20 [06:17<02:25, 20.79s/it]\u001b[A\u001b[A\n",
            "\n",
            "num_leaves, val_score: 0.534680:  70%|#######   | 14/20 [06:17<01:52, 18.72s/it]\u001b[A\u001b[A\u001b[32m[I 2021-07-07 21:40:04,170]\u001b[0m Trial 20 finished with value: 0.5346803737986399 and parameters: {'num_leaves': 199}. Best is trial 20 with value: 0.5346803737986399.\u001b[0m\n",
            "\n",
            "\n",
            "num_leaves, val_score: 0.534680:  70%|#######   | 14/20 [06:17<01:52, 18.72s/it]\u001b[A\u001b[A"
          ],
          "name": "stderr"
        },
        {
          "output_type": "stream",
          "text": [
            "Early stopping, best iteration is:\n",
            "[58]\tvalid_0's l1: 0.53468\n",
            "Training until validation scores don't improve for 100 rounds.\n",
            "[100]\tvalid_0's l1: 0.536707\n",
            "[200]\tvalid_0's l1: 0.536774\n"
          ],
          "name": "stdout"
        },
        {
          "output_type": "stream",
          "text": [
            "\n",
            "\n",
            "num_leaves, val_score: 0.534680:  70%|#######   | 14/20 [06:35<01:52, 18.72s/it]\u001b[A\u001b[A\n",
            "\n",
            "num_leaves, val_score: 0.534680:  75%|#######5  | 15/20 [06:35<01:32, 18.43s/it]\u001b[A\u001b[A\u001b[32m[I 2021-07-07 21:40:21,929]\u001b[0m Trial 21 finished with value: 0.5366742248110914 and parameters: {'num_leaves': 194}. Best is trial 20 with value: 0.5346803737986399.\u001b[0m\n",
            "\n",
            "\n",
            "num_leaves, val_score: 0.534680:  75%|#######5  | 15/20 [06:35<01:32, 18.43s/it]\u001b[A\u001b[A"
          ],
          "name": "stderr"
        },
        {
          "output_type": "stream",
          "text": [
            "Early stopping, best iteration is:\n",
            "[112]\tvalid_0's l1: 0.536674\n",
            "Training until validation scores don't improve for 100 rounds.\n",
            "[100]\tvalid_0's l1: 0.53636\n"
          ],
          "name": "stdout"
        },
        {
          "output_type": "stream",
          "text": [
            "\n",
            "\n",
            "num_leaves, val_score: 0.534680:  75%|#######5  | 15/20 [06:52<01:32, 18.43s/it]\u001b[A\u001b[A\n",
            "\n",
            "num_leaves, val_score: 0.534680:  80%|########  | 16/20 [06:52<01:11, 17.93s/it]\u001b[A\u001b[A\u001b[32m[I 2021-07-07 21:40:38,695]\u001b[0m Trial 22 finished with value: 0.5363492615604325 and parameters: {'num_leaves': 188}. Best is trial 20 with value: 0.5346803737986399.\u001b[0m\n",
            "\n",
            "\n",
            "num_leaves, val_score: 0.534680:  80%|########  | 16/20 [06:52<01:11, 17.93s/it]\u001b[A\u001b[A"
          ],
          "name": "stderr"
        },
        {
          "output_type": "stream",
          "text": [
            "[200]\tvalid_0's l1: 0.536378\n",
            "Early stopping, best iteration is:\n",
            "[102]\tvalid_0's l1: 0.536349\n",
            "Training until validation scores don't improve for 100 rounds.\n",
            "[100]\tvalid_0's l1: 0.535727\n"
          ],
          "name": "stdout"
        },
        {
          "output_type": "stream",
          "text": [
            "\n",
            "\n",
            "num_leaves, val_score: 0.534680:  80%|########  | 16/20 [07:09<01:11, 17.93s/it]\u001b[A\u001b[A\n",
            "\n",
            "num_leaves, val_score: 0.534680:  85%|########5 | 17/20 [07:09<00:52, 17.61s/it]\u001b[A\u001b[A\u001b[32m[I 2021-07-07 21:40:55,538]\u001b[0m Trial 23 finished with value: 0.5357266871044778 and parameters: {'num_leaves': 203}. Best is trial 20 with value: 0.5346803737986399.\u001b[0m\n",
            "\n",
            "\n",
            "num_leaves, val_score: 0.534680:  85%|########5 | 17/20 [07:09<00:52, 17.61s/it]\u001b[A\u001b[A"
          ],
          "name": "stderr"
        },
        {
          "output_type": "stream",
          "text": [
            "Early stopping, best iteration is:\n",
            "[98]\tvalid_0's l1: 0.535727\n",
            "Training until validation scores don't improve for 100 rounds.\n",
            "[100]\tvalid_0's l1: 0.537009\n",
            "[200]\tvalid_0's l1: 0.537245\n"
          ],
          "name": "stdout"
        },
        {
          "output_type": "stream",
          "text": [
            "\n",
            "\n",
            "num_leaves, val_score: 0.534680:  85%|########5 | 17/20 [07:26<00:52, 17.61s/it]\u001b[A\u001b[A\n",
            "\n",
            "num_leaves, val_score: 0.534680:  90%|######### | 18/20 [07:26<00:35, 17.52s/it]\u001b[A\u001b[A\u001b[32m[I 2021-07-07 21:41:12,849]\u001b[0m Trial 24 finished with value: 0.5369794424694496 and parameters: {'num_leaves': 172}. Best is trial 20 with value: 0.5346803737986399.\u001b[0m\n",
            "\n",
            "\n",
            "num_leaves, val_score: 0.534680:  90%|######### | 18/20 [07:26<00:35, 17.52s/it]\u001b[A\u001b[A"
          ],
          "name": "stderr"
        },
        {
          "output_type": "stream",
          "text": [
            "Early stopping, best iteration is:\n",
            "[113]\tvalid_0's l1: 0.536979\n",
            "Training until validation scores don't improve for 100 rounds.\n",
            "[100]\tvalid_0's l1: 0.535943\n",
            "[200]\tvalid_0's l1: 0.536019\n",
            "[300]\tvalid_0's l1: 0.53585\n"
          ],
          "name": "stdout"
        },
        {
          "output_type": "stream",
          "text": [
            "\n",
            "\n",
            "num_leaves, val_score: 0.534680:  90%|######### | 18/20 [07:53<00:35, 17.52s/it]\u001b[A\u001b[A\n",
            "\n",
            "num_leaves, val_score: 0.534680:  95%|#########5| 19/20 [07:53<00:20, 20.43s/it]\u001b[A\u001b[A\u001b[32m[I 2021-07-07 21:41:40,084]\u001b[0m Trial 25 finished with value: 0.5355513831397793 and parameters: {'num_leaves': 216}. Best is trial 20 with value: 0.5346803737986399.\u001b[0m\n",
            "\n",
            "\n",
            "num_leaves, val_score: 0.534680:  95%|#########5| 19/20 [07:53<00:20, 20.43s/it]\u001b[A\u001b[A"
          ],
          "name": "stderr"
        },
        {
          "output_type": "stream",
          "text": [
            "Early stopping, best iteration is:\n",
            "[232]\tvalid_0's l1: 0.535551\n",
            "Training until validation scores don't improve for 100 rounds.\n",
            "[100]\tvalid_0's l1: 0.536568\n"
          ],
          "name": "stdout"
        },
        {
          "output_type": "stream",
          "text": [
            "\n",
            "\n",
            "num_leaves, val_score: 0.534680:  95%|#########5| 19/20 [08:10<00:20, 20.43s/it]\u001b[A\u001b[A\n",
            "\n",
            "num_leaves, val_score: 0.534680: 100%|##########| 20/20 [08:10<00:00, 19.37s/it]\u001b[A\u001b[A\u001b[32m[I 2021-07-07 21:41:56,959]\u001b[0m Trial 26 finished with value: 0.5365587091675249 and parameters: {'num_leaves': 184}. Best is trial 20 with value: 0.5346803737986399.\u001b[0m\n",
            "num_leaves, val_score: 0.534680: 100%|##########| 20/20 [08:10<00:00, 24.53s/it]\n",
            "\n",
            "\n"
          ],
          "name": "stderr"
        },
        {
          "output_type": "stream",
          "text": [
            "[200]\tvalid_0's l1: 0.536604\n",
            "Early stopping, best iteration is:\n",
            "[102]\tvalid_0's l1: 0.536559\n"
          ],
          "name": "stdout"
        },
        {
          "output_type": "stream",
          "text": [
            "\r  0%|          | 0/10 [00:00<?, ?it/s]\u001b[A\u001b[A\n",
            "\n",
            "bagging, val_score: 0.534680:   0%|          | 0/10 [00:00<?, ?it/s]\u001b[A\u001b[A"
          ],
          "name": "stderr"
        },
        {
          "output_type": "stream",
          "text": [
            "Training until validation scores don't improve for 100 rounds.\n",
            "[100]\tvalid_0's l1: 0.536722\n"
          ],
          "name": "stdout"
        },
        {
          "output_type": "stream",
          "text": [
            "\n",
            "\n",
            "bagging, val_score: 0.534680:   0%|          | 0/10 [00:12<?, ?it/s]\u001b[A\u001b[A\n",
            "\n",
            "bagging, val_score: 0.534680:  10%|#         | 1/10 [00:12<01:53, 12.57s/it]\u001b[A\u001b[A\u001b[32m[I 2021-07-07 21:42:09,546]\u001b[0m Trial 27 finished with value: 0.5367138764543827 and parameters: {'bagging_fraction': 0.4231485115810025, 'bagging_freq': 1}. Best is trial 27 with value: 0.5367138764543827.\u001b[0m\n",
            "\n",
            "\n",
            "bagging, val_score: 0.534680:  10%|#         | 1/10 [00:12<01:53, 12.57s/it]\u001b[A\u001b[A"
          ],
          "name": "stderr"
        },
        {
          "output_type": "stream",
          "text": [
            "Early stopping, best iteration is:\n",
            "[88]\tvalid_0's l1: 0.536714\n",
            "Training until validation scores don't improve for 100 rounds.\n",
            "[100]\tvalid_0's l1: 0.535795\n"
          ],
          "name": "stdout"
        },
        {
          "output_type": "stream",
          "text": [
            "\n",
            "\n",
            "bagging, val_score: 0.534680:  10%|#         | 1/10 [00:29<01:53, 12.57s/it]\u001b[A\u001b[A\n",
            "\n",
            "bagging, val_score: 0.534680:  20%|##        | 2/10 [00:29<01:50, 13.83s/it]\u001b[A\u001b[A\u001b[32m[I 2021-07-07 21:42:26,323]\u001b[0m Trial 28 finished with value: 0.5357603597471388 and parameters: {'bagging_fraction': 0.9762360305905191, 'bagging_freq': 4}. Best is trial 28 with value: 0.5357603597471388.\u001b[0m\n",
            "\n",
            "\n",
            "bagging, val_score: 0.534680:  20%|##        | 2/10 [00:29<01:50, 13.83s/it]\u001b[A\u001b[A"
          ],
          "name": "stderr"
        },
        {
          "output_type": "stream",
          "text": [
            "Early stopping, best iteration is:\n",
            "[71]\tvalid_0's l1: 0.53576\n",
            "Training until validation scores don't improve for 100 rounds.\n",
            "[100]\tvalid_0's l1: 0.537328\n"
          ],
          "name": "stdout"
        },
        {
          "output_type": "stream",
          "text": [
            "\n",
            "\n",
            "bagging, val_score: 0.534680:  20%|##        | 2/10 [00:41<01:50, 13.83s/it]\u001b[A\u001b[A\n",
            "\n",
            "bagging, val_score: 0.534680:  30%|###       | 3/10 [00:41<01:32, 13.25s/it]\u001b[A\u001b[A\u001b[32m[I 2021-07-07 21:42:38,214]\u001b[0m Trial 29 finished with value: 0.5372266045517993 and parameters: {'bagging_fraction': 0.5161048426833332, 'bagging_freq': 3}. Best is trial 28 with value: 0.5357603597471388.\u001b[0m\n",
            "\n",
            "\n",
            "bagging, val_score: 0.534680:  30%|###       | 3/10 [00:41<01:32, 13.25s/it]\u001b[A\u001b[A"
          ],
          "name": "stderr"
        },
        {
          "output_type": "stream",
          "text": [
            "Early stopping, best iteration is:\n",
            "[68]\tvalid_0's l1: 0.537227\n",
            "Training until validation scores don't improve for 100 rounds.\n",
            "[100]\tvalid_0's l1: 0.536273\n",
            "[200]\tvalid_0's l1: 0.536304\n",
            "[300]\tvalid_0's l1: 0.536286\n",
            "[400]\tvalid_0's l1: 0.536419\n"
          ],
          "name": "stdout"
        },
        {
          "output_type": "stream",
          "text": [
            "\n",
            "\n",
            "bagging, val_score: 0.534680:  30%|###       | 3/10 [01:20<01:32, 13.25s/it]\u001b[A\u001b[A\n",
            "\n",
            "bagging, val_score: 0.534680:  40%|####      | 4/10 [01:20<02:06, 21.08s/it]\u001b[A\u001b[A\u001b[32m[I 2021-07-07 21:43:17,576]\u001b[0m Trial 30 finished with value: 0.5361851598812026 and parameters: {'bagging_fraction': 0.9388500054407636, 'bagging_freq': 7}. Best is trial 28 with value: 0.5357603597471388.\u001b[0m\n",
            "\n",
            "\n",
            "bagging, val_score: 0.534680:  40%|####      | 4/10 [01:20<02:06, 21.08s/it]\u001b[A\u001b[A"
          ],
          "name": "stderr"
        },
        {
          "output_type": "stream",
          "text": [
            "Early stopping, best iteration is:\n",
            "[335]\tvalid_0's l1: 0.536185\n",
            "Training until validation scores don't improve for 100 rounds.\n",
            "[100]\tvalid_0's l1: 0.536231\n"
          ],
          "name": "stdout"
        },
        {
          "output_type": "stream",
          "text": [
            "\n",
            "\n",
            "bagging, val_score: 0.534680:  40%|####      | 4/10 [01:35<02:06, 21.08s/it]\u001b[A\u001b[A\n",
            "\n",
            "bagging, val_score: 0.534680:  50%|#####     | 5/10 [01:35<01:35, 19.19s/it]\u001b[A\u001b[A\u001b[32m[I 2021-07-07 21:43:32,346]\u001b[0m Trial 31 finished with value: 0.536164989522694 and parameters: {'bagging_fraction': 0.6766638281758801, 'bagging_freq': 7}. Best is trial 28 with value: 0.5357603597471388.\u001b[0m\n",
            "\n",
            "\n",
            "bagging, val_score: 0.534680:  50%|#####     | 5/10 [01:35<01:35, 19.19s/it]\u001b[A\u001b[A"
          ],
          "name": "stderr"
        },
        {
          "output_type": "stream",
          "text": [
            "Early stopping, best iteration is:\n",
            "[84]\tvalid_0's l1: 0.536165\n",
            "Training until validation scores don't improve for 100 rounds.\n",
            "[100]\tvalid_0's l1: 0.536215\n"
          ],
          "name": "stdout"
        },
        {
          "output_type": "stream",
          "text": [
            "\n",
            "\n",
            "bagging, val_score: 0.534680:  50%|#####     | 5/10 [01:47<01:35, 19.19s/it]\u001b[A\u001b[A\n",
            "\n",
            "bagging, val_score: 0.534680:  60%|######    | 6/10 [01:47<01:08, 17.20s/it]\u001b[A\u001b[A\u001b[32m[I 2021-07-07 21:43:44,923]\u001b[0m Trial 32 finished with value: 0.536200754644345 and parameters: {'bagging_fraction': 0.6573397372353078, 'bagging_freq': 6}. Best is trial 28 with value: 0.5357603597471388.\u001b[0m\n",
            "\n",
            "\n",
            "bagging, val_score: 0.534680:  60%|######    | 6/10 [01:47<01:08, 17.20s/it]\u001b[A\u001b[A"
          ],
          "name": "stderr"
        },
        {
          "output_type": "stream",
          "text": [
            "Early stopping, best iteration is:\n",
            "[57]\tvalid_0's l1: 0.536201\n",
            "Training until validation scores don't improve for 100 rounds.\n",
            "[100]\tvalid_0's l1: 0.537887\n",
            "[200]\tvalid_0's l1: 0.53801\n"
          ],
          "name": "stdout"
        },
        {
          "output_type": "stream",
          "text": [
            "\n",
            "\n",
            "bagging, val_score: 0.534680:  60%|######    | 6/10 [02:01<01:08, 17.20s/it]\u001b[A\u001b[A\n",
            "\n",
            "bagging, val_score: 0.534680:  70%|#######   | 7/10 [02:01<00:48, 16.16s/it]\u001b[A\u001b[A\u001b[32m[I 2021-07-07 21:43:58,660]\u001b[0m Trial 33 finished with value: 0.5377915975024394 and parameters: {'bagging_fraction': 0.43902312125240056, 'bagging_freq': 7}. Best is trial 28 with value: 0.5357603597471388.\u001b[0m\n",
            "\n",
            "\n",
            "bagging, val_score: 0.534680:  70%|#######   | 7/10 [02:01<00:48, 16.16s/it]\u001b[A\u001b[A"
          ],
          "name": "stderr"
        },
        {
          "output_type": "stream",
          "text": [
            "Early stopping, best iteration is:\n",
            "[115]\tvalid_0's l1: 0.537792\n",
            "Training until validation scores don't improve for 100 rounds.\n",
            "[100]\tvalid_0's l1: 0.535655\n"
          ],
          "name": "stdout"
        },
        {
          "output_type": "stream",
          "text": [
            "\n",
            "\n",
            "bagging, val_score: 0.534680:  70%|#######   | 7/10 [02:14<00:48, 16.16s/it]\u001b[A\u001b[A\n",
            "\n",
            "bagging, val_score: 0.534680:  80%|########  | 8/10 [02:14<00:30, 15.02s/it]\u001b[A\u001b[A\u001b[32m[I 2021-07-07 21:44:11,008]\u001b[0m Trial 34 finished with value: 0.5348820491555755 and parameters: {'bagging_fraction': 0.6237992071453988, 'bagging_freq': 5}. Best is trial 34 with value: 0.5348820491555755.\u001b[0m\n",
            "\n",
            "\n",
            "bagging, val_score: 0.534680:  80%|########  | 8/10 [02:14<00:30, 15.02s/it]\u001b[A\u001b[A"
          ],
          "name": "stderr"
        },
        {
          "output_type": "stream",
          "text": [
            "Early stopping, best iteration is:\n",
            "[56]\tvalid_0's l1: 0.534882\n",
            "Training until validation scores don't improve for 100 rounds.\n",
            "[100]\tvalid_0's l1: 0.537728\n",
            "[200]\tvalid_0's l1: 0.537882\n"
          ],
          "name": "stdout"
        },
        {
          "output_type": "stream",
          "text": [
            "\n",
            "\n",
            "bagging, val_score: 0.534680:  80%|########  | 8/10 [02:33<00:30, 15.02s/it]\u001b[A\u001b[A\n",
            "\n",
            "bagging, val_score: 0.534680:  90%|######### | 9/10 [02:33<00:16, 16.35s/it]\u001b[A\u001b[A\u001b[32m[I 2021-07-07 21:44:30,472]\u001b[0m Trial 35 finished with value: 0.5377197063393807 and parameters: {'bagging_fraction': 0.7043226676725918, 'bagging_freq': 2}. Best is trial 34 with value: 0.5348820491555755.\u001b[0m\n",
            "\n",
            "\n",
            "bagging, val_score: 0.534680:  90%|######### | 9/10 [02:33<00:16, 16.35s/it]\u001b[A\u001b[A"
          ],
          "name": "stderr"
        },
        {
          "output_type": "stream",
          "text": [
            "Early stopping, best iteration is:\n",
            "[133]\tvalid_0's l1: 0.53772\n",
            "Training until validation scores don't improve for 100 rounds.\n",
            "[100]\tvalid_0's l1: 0.536901\n",
            "[200]\tvalid_0's l1: 0.536827\n"
          ],
          "name": "stdout"
        },
        {
          "output_type": "stream",
          "text": [
            "\n",
            "\n",
            "bagging, val_score: 0.534680:  90%|######### | 9/10 [02:49<00:16, 16.35s/it]\u001b[A\u001b[A\n",
            "\n",
            "bagging, val_score: 0.534680: 100%|##########| 10/10 [02:49<00:00, 16.10s/it]\u001b[A\u001b[A\u001b[32m[I 2021-07-07 21:44:45,993]\u001b[0m Trial 36 finished with value: 0.5368033313391716 and parameters: {'bagging_fraction': 0.6474037679464004, 'bagging_freq': 1}. Best is trial 34 with value: 0.5348820491555755.\u001b[0m\n",
            "bagging, val_score: 0.534680: 100%|##########| 10/10 [02:49<00:00, 16.90s/it]\n",
            "\n",
            "\n",
            "  0%|          | 0/6 [00:00<?, ?it/s]\u001b[A\u001b[A\n",
            "\n",
            "feature_fraction_stage2, val_score: 0.534680:   0%|          | 0/6 [00:00<?, ?it/s]\u001b[A\u001b[A"
          ],
          "name": "stderr"
        },
        {
          "output_type": "stream",
          "text": [
            "Early stopping, best iteration is:\n",
            "[115]\tvalid_0's l1: 0.536803\n",
            "Training until validation scores don't improve for 100 rounds.\n",
            "[100]\tvalid_0's l1: 0.535752\n"
          ],
          "name": "stdout"
        },
        {
          "output_type": "stream",
          "text": [
            "\n",
            "\n",
            "feature_fraction_stage2, val_score: 0.534680:   0%|          | 0/6 [00:14<?, ?it/s]\u001b[A\u001b[A\n",
            "\n",
            "feature_fraction_stage2, val_score: 0.534680:  17%|#6        | 1/6 [00:14<01:10, 14.10s/it]\u001b[A\u001b[A\u001b[32m[I 2021-07-07 21:45:00,113]\u001b[0m Trial 37 finished with value: 0.5355368667748976 and parameters: {'feature_fraction': 0.6479999999999999}. Best is trial 37 with value: 0.5355368667748976.\u001b[0m\n",
            "\n",
            "\n",
            "feature_fraction_stage2, val_score: 0.534680:  17%|#6        | 1/6 [00:14<01:10, 14.10s/it]\u001b[A\u001b[A"
          ],
          "name": "stderr"
        },
        {
          "output_type": "stream",
          "text": [
            "Early stopping, best iteration is:\n",
            "[57]\tvalid_0's l1: 0.535537\n",
            "Training until validation scores don't improve for 100 rounds.\n",
            "[100]\tvalid_0's l1: 0.536358\n"
          ],
          "name": "stdout"
        },
        {
          "output_type": "stream",
          "text": [
            "\n",
            "\n",
            "feature_fraction_stage2, val_score: 0.534680:  17%|#6        | 1/6 [00:27<01:10, 14.10s/it]\u001b[A\u001b[A\n",
            "\n",
            "feature_fraction_stage2, val_score: 0.534680:  33%|###3      | 2/6 [00:27<00:55, 13.93s/it]\u001b[A\u001b[A\u001b[32m[I 2021-07-07 21:45:13,631]\u001b[0m Trial 38 finished with value: 0.5362106668010058 and parameters: {'feature_fraction': 0.552}. Best is trial 37 with value: 0.5355368667748976.\u001b[0m\n",
            "\n",
            "\n",
            "feature_fraction_stage2, val_score: 0.534680:  33%|###3      | 2/6 [00:27<00:55, 13.93s/it]\u001b[A\u001b[A"
          ],
          "name": "stderr"
        },
        {
          "output_type": "stream",
          "text": [
            "Early stopping, best iteration is:\n",
            "[58]\tvalid_0's l1: 0.536211\n",
            "Training until validation scores don't improve for 100 rounds.\n",
            "[100]\tvalid_0's l1: 0.5348\n"
          ],
          "name": "stdout"
        },
        {
          "output_type": "stream",
          "text": [
            "\n",
            "\n",
            "feature_fraction_stage2, val_score: 0.534680:  33%|###3      | 2/6 [00:41<00:55, 13.93s/it]\u001b[A\u001b[A\n",
            "\n",
            "feature_fraction_stage2, val_score: 0.534680:  50%|#####     | 3/6 [00:41<00:41, 13.92s/it]\u001b[A\u001b[A\u001b[32m[I 2021-07-07 21:45:27,531]\u001b[0m Trial 39 finished with value: 0.5346803737986399 and parameters: {'feature_fraction': 0.616}. Best is trial 39 with value: 0.5346803737986399.\u001b[0m\n",
            "\n",
            "\n",
            "feature_fraction_stage2, val_score: 0.534680:  50%|#####     | 3/6 [00:41<00:41, 13.92s/it]\u001b[A\u001b[A"
          ],
          "name": "stderr"
        },
        {
          "output_type": "stream",
          "text": [
            "Early stopping, best iteration is:\n",
            "[58]\tvalid_0's l1: 0.53468\n",
            "Training until validation scores don't improve for 100 rounds.\n",
            "[100]\tvalid_0's l1: 0.535247\n",
            "[200]\tvalid_0's l1: 0.535003\n"
          ],
          "name": "stdout"
        },
        {
          "output_type": "stream",
          "text": [
            "\n",
            "\n",
            "feature_fraction_stage2, val_score: 0.534680:  50%|#####     | 3/6 [01:04<00:41, 13.92s/it]\u001b[A\u001b[A\n",
            "\n",
            "feature_fraction_stage2, val_score: 0.534680:  67%|######6   | 4/6 [01:04<00:33, 16.58s/it]\u001b[A\u001b[A\u001b[32m[I 2021-07-07 21:45:50,324]\u001b[0m Trial 40 finished with value: 0.5349879988420094 and parameters: {'feature_fraction': 0.584}. Best is trial 39 with value: 0.5346803737986399.\u001b[0m\n",
            "\n",
            "\n",
            "feature_fraction_stage2, val_score: 0.534680:  67%|######6   | 4/6 [01:04<00:33, 16.58s/it]\u001b[A\u001b[A"
          ],
          "name": "stderr"
        },
        {
          "output_type": "stream",
          "text": [
            "Early stopping, best iteration is:\n",
            "[185]\tvalid_0's l1: 0.534988\n",
            "Training until validation scores don't improve for 100 rounds.\n",
            "[100]\tvalid_0's l1: 0.535158\n"
          ],
          "name": "stdout"
        },
        {
          "output_type": "stream",
          "text": [
            "\n",
            "\n",
            "feature_fraction_stage2, val_score: 0.534680:  67%|######6   | 4/6 [01:21<00:33, 16.58s/it]\u001b[A\u001b[A\n",
            "\n",
            "feature_fraction_stage2, val_score: 0.534680:  83%|########3 | 5/6 [01:21<00:16, 16.85s/it]\u001b[A\u001b[A\u001b[32m[I 2021-07-07 21:46:07,794]\u001b[0m Trial 41 finished with value: 0.5351575291912903 and parameters: {'feature_fraction': 0.6799999999999999}. Best is trial 39 with value: 0.5346803737986399.\u001b[0m\n",
            "\n",
            "\n",
            "feature_fraction_stage2, val_score: 0.534680:  83%|########3 | 5/6 [01:21<00:16, 16.85s/it]\u001b[A\u001b[A"
          ],
          "name": "stderr"
        },
        {
          "output_type": "stream",
          "text": [
            "[200]\tvalid_0's l1: 0.535159\n",
            "Early stopping, best iteration is:\n",
            "[101]\tvalid_0's l1: 0.535158\n",
            "Training until validation scores don't improve for 100 rounds.\n",
            "[100]\tvalid_0's l1: 0.536037\n",
            "[200]\tvalid_0's l1: 0.535988\n"
          ],
          "name": "stdout"
        },
        {
          "output_type": "stream",
          "text": [
            "\n",
            "\n",
            "feature_fraction_stage2, val_score: 0.534680:  83%|########3 | 5/6 [01:39<00:16, 16.85s/it]\u001b[A\u001b[A\n",
            "\n",
            "feature_fraction_stage2, val_score: 0.534680: 100%|##########| 6/6 [01:39<00:00, 17.12s/it]\u001b[A\u001b[A\u001b[32m[I 2021-07-07 21:46:25,556]\u001b[0m Trial 42 finished with value: 0.5357937232684448 and parameters: {'feature_fraction': 0.52}. Best is trial 39 with value: 0.5346803737986399.\u001b[0m\n",
            "feature_fraction_stage2, val_score: 0.534680: 100%|##########| 6/6 [01:39<00:00, 16.59s/it]\n",
            "\n",
            "\n",
            "  0%|          | 0/20 [00:00<?, ?it/s]\u001b[A\u001b[A\n",
            "\n",
            "regularization_factors, val_score: 0.534680:   0%|          | 0/20 [00:00<?, ?it/s]\u001b[A\u001b[A"
          ],
          "name": "stderr"
        },
        {
          "output_type": "stream",
          "text": [
            "Early stopping, best iteration is:\n",
            "[120]\tvalid_0's l1: 0.535794\n",
            "Training until validation scores don't improve for 100 rounds.\n",
            "[100]\tvalid_0's l1: 0.536231\n"
          ],
          "name": "stdout"
        },
        {
          "output_type": "stream",
          "text": [
            "\n",
            "\n",
            "regularization_factors, val_score: 0.534680:   0%|          | 0/20 [00:16<?, ?it/s]\u001b[A\u001b[A\n",
            "\n",
            "regularization_factors, val_score: 0.534680:   5%|5         | 1/20 [00:16<05:08, 16.25s/it]\u001b[A\u001b[A\u001b[32m[I 2021-07-07 21:46:41,819]\u001b[0m Trial 43 finished with value: 0.5362305501802375 and parameters: {'lambda_l1': 7.735315778906786, 'lambda_l2': 9.979671789536182e-06}. Best is trial 43 with value: 0.5362305501802375.\u001b[0m\n",
            "\n",
            "\n",
            "regularization_factors, val_score: 0.534680:   5%|5         | 1/20 [00:16<05:08, 16.25s/it]\u001b[A\u001b[A"
          ],
          "name": "stderr"
        },
        {
          "output_type": "stream",
          "text": [
            "Early stopping, best iteration is:\n",
            "[93]\tvalid_0's l1: 0.536231\n",
            "Training until validation scores don't improve for 100 rounds.\n",
            "[100]\tvalid_0's l1: 0.535513\n"
          ],
          "name": "stdout"
        },
        {
          "output_type": "stream",
          "text": [
            "\n",
            "\n",
            "regularization_factors, val_score: 0.534680:   5%|5         | 1/20 [00:30<05:08, 16.25s/it]\u001b[A\u001b[A\n",
            "\n",
            "regularization_factors, val_score: 0.534680:  10%|#         | 2/20 [00:30<04:43, 15.78s/it]\u001b[A\u001b[A\u001b[32m[I 2021-07-07 21:46:56,496]\u001b[0m Trial 44 finished with value: 0.5354693153133636 and parameters: {'lambda_l1': 2.8148312689386807e-06, 'lambda_l2': 1.1270445838496549e-05}. Best is trial 44 with value: 0.5354693153133636.\u001b[0m\n",
            "\n",
            "\n",
            "regularization_factors, val_score: 0.534680:  10%|#         | 2/20 [00:30<04:43, 15.78s/it]\u001b[A\u001b[A"
          ],
          "name": "stderr"
        },
        {
          "output_type": "stream",
          "text": [
            "Early stopping, best iteration is:\n",
            "[70]\tvalid_0's l1: 0.535469\n",
            "Training until validation scores don't improve for 100 rounds.\n",
            "[100]\tvalid_0's l1: 0.534481\n",
            "[200]\tvalid_0's l1: 0.534656\n"
          ],
          "name": "stdout"
        },
        {
          "output_type": "stream",
          "text": [
            "\n",
            "\n",
            "regularization_factors, val_score: 0.534446:  10%|#         | 2/20 [00:51<04:43, 15.78s/it]\u001b[A\u001b[A\n",
            "\n",
            "regularization_factors, val_score: 0.534446:  15%|#5        | 3/20 [00:51<04:51, 17.16s/it]\u001b[A\u001b[A\u001b[32m[I 2021-07-07 21:47:16,882]\u001b[0m Trial 45 finished with value: 0.5344461548978733 and parameters: {'lambda_l1': 0.020415119691790145, 'lambda_l2': 9.518915869690485e-06}. Best is trial 45 with value: 0.5344461548978733.\u001b[0m\n",
            "\n",
            "\n",
            "regularization_factors, val_score: 0.534446:  15%|#5        | 3/20 [00:51<04:51, 17.16s/it]\u001b[A\u001b[A"
          ],
          "name": "stderr"
        },
        {
          "output_type": "stream",
          "text": [
            "Early stopping, best iteration is:\n",
            "[149]\tvalid_0's l1: 0.534446\n",
            "Training until validation scores don't improve for 100 rounds.\n",
            "[100]\tvalid_0's l1: 0.535215\n"
          ],
          "name": "stdout"
        },
        {
          "output_type": "stream",
          "text": [
            "\n",
            "\n",
            "regularization_factors, val_score: 0.534446:  15%|#5        | 3/20 [01:05<04:51, 17.16s/it]\u001b[A\u001b[A\n",
            "\n",
            "regularization_factors, val_score: 0.534446:  20%|##        | 4/20 [01:05<04:18, 16.19s/it]\u001b[A\u001b[A\u001b[32m[I 2021-07-07 21:47:30,804]\u001b[0m Trial 46 finished with value: 0.5351142290473725 and parameters: {'lambda_l1': 5.54848136958812, 'lambda_l2': 8.589862984761805e-06}. Best is trial 45 with value: 0.5344461548978733.\u001b[0m\n",
            "\n",
            "\n",
            "regularization_factors, val_score: 0.534446:  20%|##        | 4/20 [01:05<04:18, 16.19s/it]\u001b[A\u001b[A"
          ],
          "name": "stderr"
        },
        {
          "output_type": "stream",
          "text": [
            "Early stopping, best iteration is:\n",
            "[56]\tvalid_0's l1: 0.535114\n",
            "Training until validation scores don't improve for 100 rounds.\n",
            "[100]\tvalid_0's l1: 0.534906\n",
            "[200]\tvalid_0's l1: 0.535099\n"
          ],
          "name": "stdout"
        },
        {
          "output_type": "stream",
          "text": [
            "\n",
            "\n",
            "regularization_factors, val_score: 0.534446:  20%|##        | 4/20 [01:23<04:18, 16.19s/it]\u001b[A\u001b[A\n",
            "\n",
            "regularization_factors, val_score: 0.534446:  25%|##5       | 5/20 [01:23<04:13, 16.89s/it]\u001b[A\u001b[A\u001b[32m[I 2021-07-07 21:47:49,343]\u001b[0m Trial 47 finished with value: 0.5348714378161545 and parameters: {'lambda_l1': 0.30515111221097496, 'lambda_l2': 2.098367876838177e-05}. Best is trial 45 with value: 0.5344461548978733.\u001b[0m\n",
            "\n",
            "\n",
            "regularization_factors, val_score: 0.534446:  25%|##5       | 5/20 [01:23<04:13, 16.89s/it]\u001b[A\u001b[A"
          ],
          "name": "stderr"
        },
        {
          "output_type": "stream",
          "text": [
            "Early stopping, best iteration is:\n",
            "[122]\tvalid_0's l1: 0.534871\n",
            "Training until validation scores don't improve for 100 rounds.\n",
            "[100]\tvalid_0's l1: 0.535151\n",
            "[200]\tvalid_0's l1: 0.535186\n"
          ],
          "name": "stdout"
        },
        {
          "output_type": "stream",
          "text": [
            "\n",
            "\n",
            "regularization_factors, val_score: 0.534446:  25%|##5       | 5/20 [01:42<04:13, 16.89s/it]\u001b[A\u001b[A\n",
            "\n",
            "regularization_factors, val_score: 0.534446:  30%|###       | 6/20 [01:42<04:05, 17.54s/it]\u001b[A\u001b[A\u001b[32m[I 2021-07-07 21:48:08,376]\u001b[0m Trial 48 finished with value: 0.5349176631734189 and parameters: {'lambda_l1': 0.05639868370701302, 'lambda_l2': 1.074289174558863e-07}. Best is trial 45 with value: 0.5344461548978733.\u001b[0m\n",
            "\n",
            "\n",
            "regularization_factors, val_score: 0.534446:  30%|###       | 6/20 [01:42<04:05, 17.54s/it]\u001b[A\u001b[A"
          ],
          "name": "stderr"
        },
        {
          "output_type": "stream",
          "text": [
            "Early stopping, best iteration is:\n",
            "[123]\tvalid_0's l1: 0.534918\n",
            "Training until validation scores don't improve for 100 rounds.\n",
            "[100]\tvalid_0's l1: 0.535513\n"
          ],
          "name": "stdout"
        },
        {
          "output_type": "stream",
          "text": [
            "\n",
            "\n",
            "regularization_factors, val_score: 0.534446:  30%|###       | 6/20 [01:59<04:05, 17.54s/it]\u001b[A\u001b[A\n",
            "\n",
            "regularization_factors, val_score: 0.534446:  35%|###5      | 7/20 [01:59<03:43, 17.22s/it]\u001b[A\u001b[A\u001b[32m[I 2021-07-07 21:48:24,845]\u001b[0m Trial 49 finished with value: 0.5354693153133636 and parameters: {'lambda_l1': 2.5239839601766515e-08, 'lambda_l2': 0.0003787790294155998}. Best is trial 45 with value: 0.5344461548978733.\u001b[0m\n",
            "\n",
            "\n",
            "regularization_factors, val_score: 0.534446:  35%|###5      | 7/20 [01:59<03:43, 17.22s/it]\u001b[A\u001b[A"
          ],
          "name": "stderr"
        },
        {
          "output_type": "stream",
          "text": [
            "Early stopping, best iteration is:\n",
            "[70]\tvalid_0's l1: 0.535469\n",
            "Training until validation scores don't improve for 100 rounds.\n",
            "[100]\tvalid_0's l1: 0.535513\n"
          ],
          "name": "stdout"
        },
        {
          "output_type": "stream",
          "text": [
            "\n",
            "\n",
            "regularization_factors, val_score: 0.534446:  35%|###5      | 7/20 [02:15<03:43, 17.22s/it]\u001b[A\u001b[A\n",
            "\n",
            "regularization_factors, val_score: 0.534446:  40%|####      | 8/20 [02:15<03:23, 16.94s/it]\u001b[A\u001b[A\u001b[32m[I 2021-07-07 21:48:41,148]\u001b[0m Trial 50 finished with value: 0.5354693153133635 and parameters: {'lambda_l1': 8.922833969871075e-08, 'lambda_l2': 0.005528533809383026}. Best is trial 45 with value: 0.5344461548978733.\u001b[0m\n",
            "\n",
            "\n",
            "regularization_factors, val_score: 0.534446:  40%|####      | 8/20 [02:15<03:23, 16.94s/it]\u001b[A\u001b[A"
          ],
          "name": "stderr"
        },
        {
          "output_type": "stream",
          "text": [
            "Early stopping, best iteration is:\n",
            "[70]\tvalid_0's l1: 0.535469\n",
            "Training until validation scores don't improve for 100 rounds.\n",
            "[100]\tvalid_0's l1: 0.535145\n",
            "[200]\tvalid_0's l1: 0.53515\n"
          ],
          "name": "stdout"
        },
        {
          "output_type": "stream",
          "text": [
            "\n",
            "\n",
            "regularization_factors, val_score: 0.534446:  40%|####      | 8/20 [02:40<03:23, 16.94s/it]\u001b[A\u001b[A\n",
            "\n",
            "regularization_factors, val_score: 0.534446:  45%|####5     | 9/20 [02:40<03:32, 19.31s/it]\u001b[A\u001b[A\u001b[32m[I 2021-07-07 21:49:05,990]\u001b[0m Trial 51 finished with value: 0.5350946876865785 and parameters: {'lambda_l1': 3.6165359607748043e-06, 'lambda_l2': 2.3915669959256505}. Best is trial 45 with value: 0.5344461548978733.\u001b[0m\n",
            "\n",
            "\n",
            "regularization_factors, val_score: 0.534446:  45%|####5     | 9/20 [02:40<03:32, 19.31s/it]\u001b[A\u001b[A"
          ],
          "name": "stderr"
        },
        {
          "output_type": "stream",
          "text": [
            "Early stopping, best iteration is:\n",
            "[172]\tvalid_0's l1: 0.535095\n",
            "Training until validation scores don't improve for 100 rounds.\n",
            "[100]\tvalid_0's l1: 0.535459\n"
          ],
          "name": "stdout"
        },
        {
          "output_type": "stream",
          "text": [
            "\n",
            "\n",
            "regularization_factors, val_score: 0.534446:  45%|####5     | 9/20 [02:56<03:32, 19.31s/it]\u001b[A\u001b[A\n",
            "\n",
            "regularization_factors, val_score: 0.534446:  50%|#####     | 10/20 [02:56<03:03, 18.32s/it]\u001b[A\u001b[A\u001b[32m[I 2021-07-07 21:49:21,992]\u001b[0m Trial 52 finished with value: 0.5354131851481782 and parameters: {'lambda_l1': 0.17004709472089874, 'lambda_l2': 2.4930731084061105e-06}. Best is trial 45 with value: 0.5344461548978733.\u001b[0m\n",
            "\n",
            "\n",
            "regularization_factors, val_score: 0.534446:  50%|#####     | 10/20 [02:56<03:03, 18.32s/it]\u001b[A\u001b[A"
          ],
          "name": "stderr"
        },
        {
          "output_type": "stream",
          "text": [
            "Early stopping, best iteration is:\n",
            "[72]\tvalid_0's l1: 0.535413\n",
            "Training until validation scores don't improve for 100 rounds.\n",
            "[100]\tvalid_0's l1: 0.535513\n"
          ],
          "name": "stdout"
        },
        {
          "output_type": "stream",
          "text": [
            "\n",
            "\n",
            "regularization_factors, val_score: 0.534446:  50%|#####     | 10/20 [03:12<03:03, 18.32s/it]\u001b[A\u001b[A\n",
            "\n",
            "regularization_factors, val_score: 0.534446:  55%|#####5    | 11/20 [03:12<02:39, 17.71s/it]\u001b[A\u001b[A\u001b[32m[I 2021-07-07 21:49:38,269]\u001b[0m Trial 53 finished with value: 0.5354693153133636 and parameters: {'lambda_l1': 0.0005750173586662258, 'lambda_l2': 3.1901466240841e-08}. Best is trial 45 with value: 0.5344461548978733.\u001b[0m\n",
            "\n",
            "\n",
            "regularization_factors, val_score: 0.534446:  55%|#####5    | 11/20 [03:12<02:39, 17.71s/it]\u001b[A\u001b[A"
          ],
          "name": "stderr"
        },
        {
          "output_type": "stream",
          "text": [
            "Early stopping, best iteration is:\n",
            "[70]\tvalid_0's l1: 0.535469\n",
            "Training until validation scores don't improve for 100 rounds.\n",
            "[100]\tvalid_0's l1: 0.534481\n",
            "[200]\tvalid_0's l1: 0.534656\n"
          ],
          "name": "stdout"
        },
        {
          "output_type": "stream",
          "text": [
            "\n",
            "\n",
            "regularization_factors, val_score: 0.534446:  55%|#####5    | 11/20 [03:35<02:39, 17.71s/it]\u001b[A\u001b[A\n",
            "\n",
            "regularization_factors, val_score: 0.534446:  60%|######    | 12/20 [03:35<02:34, 19.33s/it]\u001b[A\u001b[A\u001b[32m[I 2021-07-07 21:50:01,381]\u001b[0m Trial 54 finished with value: 0.5344461548978732 and parameters: {'lambda_l1': 0.016121917522426005, 'lambda_l2': 0.0051886746185875795}. Best is trial 54 with value: 0.5344461548978732.\u001b[0m\n",
            "\n",
            "\n",
            "regularization_factors, val_score: 0.534446:  60%|######    | 12/20 [03:35<02:34, 19.33s/it]\u001b[A\u001b[A"
          ],
          "name": "stderr"
        },
        {
          "output_type": "stream",
          "text": [
            "Early stopping, best iteration is:\n",
            "[149]\tvalid_0's l1: 0.534446\n",
            "Training until validation scores don't improve for 100 rounds.\n",
            "[100]\tvalid_0's l1: 0.534398\n",
            "[200]\tvalid_0's l1: 0.534468\n"
          ],
          "name": "stdout"
        },
        {
          "output_type": "stream",
          "text": [
            "\n",
            "\n",
            "regularization_factors, val_score: 0.534359:  60%|######    | 12/20 [03:56<02:34, 19.33s/it]\u001b[A\u001b[A\n",
            "\n",
            "regularization_factors, val_score: 0.534359:  65%|######5   | 13/20 [03:56<02:18, 19.77s/it]\u001b[A\u001b[A\u001b[32m[I 2021-07-07 21:50:22,184]\u001b[0m Trial 55 finished with value: 0.5343585977070973 and parameters: {'lambda_l1': 0.005280876457531908, 'lambda_l2': 0.03969070524531009}. Best is trial 55 with value: 0.5343585977070973.\u001b[0m\n",
            "\n",
            "\n",
            "regularization_factors, val_score: 0.534359:  65%|######5   | 13/20 [03:56<02:18, 19.77s/it]\u001b[A\u001b[A"
          ],
          "name": "stderr"
        },
        {
          "output_type": "stream",
          "text": [
            "Early stopping, best iteration is:\n",
            "[122]\tvalid_0's l1: 0.534359\n",
            "Training until validation scores don't improve for 100 rounds.\n",
            "[100]\tvalid_0's l1: 0.534124\n"
          ],
          "name": "stdout"
        },
        {
          "output_type": "stream",
          "text": [
            "\n",
            "\n",
            "regularization_factors, val_score: 0.534072:  65%|######5   | 13/20 [04:11<02:18, 19.77s/it]\u001b[A\u001b[A\n",
            "\n",
            "regularization_factors, val_score: 0.534072:  70%|#######   | 14/20 [04:11<01:50, 18.38s/it]\u001b[A\u001b[A\u001b[32m[I 2021-07-07 21:50:37,326]\u001b[0m Trial 56 finished with value: 0.5340721315341624 and parameters: {'lambda_l1': 0.0008996397919984004, 'lambda_l2': 0.1728373799794376}. Best is trial 56 with value: 0.5340721315341624.\u001b[0m\n",
            "\n",
            "\n",
            "regularization_factors, val_score: 0.534072:  70%|#######   | 14/20 [04:11<01:50, 18.38s/it]\u001b[A\u001b[A"
          ],
          "name": "stderr"
        },
        {
          "output_type": "stream",
          "text": [
            "Early stopping, best iteration is:\n",
            "[55]\tvalid_0's l1: 0.534072\n",
            "Training until validation scores don't improve for 100 rounds.\n",
            "[100]\tvalid_0's l1: 0.534502\n",
            "[200]\tvalid_0's l1: 0.53465\n"
          ],
          "name": "stdout"
        },
        {
          "output_type": "stream",
          "text": [
            "\n",
            "\n",
            "regularization_factors, val_score: 0.534072:  70%|#######   | 14/20 [04:34<01:50, 18.38s/it]\u001b[A\u001b[A\n",
            "\n",
            "regularization_factors, val_score: 0.534072:  75%|#######5  | 15/20 [04:34<01:37, 19.55s/it]\u001b[A\u001b[A\u001b[32m[I 2021-07-07 21:50:59,613]\u001b[0m Trial 57 finished with value: 0.534478178385879 and parameters: {'lambda_l1': 0.0005528949289317467, 'lambda_l2': 3.1946328352950855}. Best is trial 56 with value: 0.5340721315341624.\u001b[0m\n",
            "\n",
            "\n",
            "regularization_factors, val_score: 0.534072:  75%|#######5  | 15/20 [04:34<01:37, 19.55s/it]\u001b[A\u001b[A"
          ],
          "name": "stderr"
        },
        {
          "output_type": "stream",
          "text": [
            "Early stopping, best iteration is:\n",
            "[137]\tvalid_0's l1: 0.534478\n",
            "Training until validation scores don't improve for 100 rounds.\n",
            "[100]\tvalid_0's l1: 0.535972\n",
            "[200]\tvalid_0's l1: 0.535947\n",
            "[300]\tvalid_0's l1: 0.535951\n"
          ],
          "name": "stdout"
        },
        {
          "output_type": "stream",
          "text": [
            "\n",
            "\n",
            "regularization_factors, val_score: 0.534072:  75%|#######5  | 15/20 [05:07<01:37, 19.55s/it]\u001b[A\u001b[A\n",
            "\n",
            "regularization_factors, val_score: 0.534072:  80%|########  | 16/20 [05:07<01:35, 23.76s/it]\u001b[A\u001b[A\u001b[32m[I 2021-07-07 21:51:33,202]\u001b[0m Trial 58 finished with value: 0.5359172614724702 and parameters: {'lambda_l1': 5.03743922141613e-05, 'lambda_l2': 0.1362270707965474}. Best is trial 56 with value: 0.5340721315341624.\u001b[0m\n",
            "\n",
            "\n",
            "regularization_factors, val_score: 0.534072:  80%|########  | 16/20 [05:07<01:35, 23.76s/it]\u001b[A\u001b[A"
          ],
          "name": "stderr"
        },
        {
          "output_type": "stream",
          "text": [
            "Early stopping, best iteration is:\n",
            "[285]\tvalid_0's l1: 0.535917\n",
            "Training until validation scores don't improve for 100 rounds.\n",
            "[100]\tvalid_0's l1: 0.534398\n",
            "[200]\tvalid_0's l1: 0.534475\n"
          ],
          "name": "stdout"
        },
        {
          "output_type": "stream",
          "text": [
            "\n",
            "\n",
            "regularization_factors, val_score: 0.534072:  80%|########  | 16/20 [05:27<01:35, 23.76s/it]\u001b[A\u001b[A\n",
            "\n",
            "regularization_factors, val_score: 0.534072:  85%|########5 | 17/20 [05:27<01:07, 22.63s/it]\u001b[A\u001b[A\u001b[32m[I 2021-07-07 21:51:53,198]\u001b[0m Trial 59 finished with value: 0.5343663341528971 and parameters: {'lambda_l1': 0.00230825099065731, 'lambda_l2': 0.11586338548249268}. Best is trial 56 with value: 0.5340721315341624.\u001b[0m\n",
            "\n",
            "\n",
            "regularization_factors, val_score: 0.534072:  85%|########5 | 17/20 [05:27<01:07, 22.63s/it]\u001b[A\u001b[A"
          ],
          "name": "stderr"
        },
        {
          "output_type": "stream",
          "text": [
            "Early stopping, best iteration is:\n",
            "[113]\tvalid_0's l1: 0.534366\n",
            "Training until validation scores don't improve for 100 rounds.\n",
            "[100]\tvalid_0's l1: 0.53537\n",
            "[200]\tvalid_0's l1: 0.535303\n"
          ],
          "name": "stdout"
        },
        {
          "output_type": "stream",
          "text": [
            "\n",
            "\n",
            "regularization_factors, val_score: 0.534072:  85%|########5 | 17/20 [05:49<01:07, 22.63s/it]\u001b[A\u001b[A\n",
            "\n",
            "regularization_factors, val_score: 0.534072:  90%|######### | 18/20 [05:49<00:44, 22.41s/it]\u001b[A\u001b[A\u001b[32m[I 2021-07-07 21:52:15,092]\u001b[0m Trial 60 finished with value: 0.5352842567506925 and parameters: {'lambda_l1': 8.150011188118333e-05, 'lambda_l2': 0.1719958657761311}. Best is trial 56 with value: 0.5340721315341624.\u001b[0m\n",
            "\n",
            "\n",
            "regularization_factors, val_score: 0.534072:  90%|######### | 18/20 [05:49<00:44, 22.41s/it]\u001b[A\u001b[A"
          ],
          "name": "stderr"
        },
        {
          "output_type": "stream",
          "text": [
            "Early stopping, best iteration is:\n",
            "[161]\tvalid_0's l1: 0.535284\n",
            "Training until validation scores don't improve for 100 rounds.\n",
            "[100]\tvalid_0's l1: 0.535513\n"
          ],
          "name": "stdout"
        },
        {
          "output_type": "stream",
          "text": [
            "\n",
            "\n",
            "regularization_factors, val_score: 0.534072:  90%|######### | 18/20 [06:04<00:44, 22.41s/it]\u001b[A\u001b[A\n",
            "\n",
            "regularization_factors, val_score: 0.534072:  95%|#########5| 19/20 [06:04<00:20, 20.19s/it]\u001b[A\u001b[A\u001b[32m[I 2021-07-07 21:52:30,113]\u001b[0m Trial 61 finished with value: 0.5354693153133637 and parameters: {'lambda_l1': 5.0679605473917194e-06, 'lambda_l2': 0.005682623173856333}. Best is trial 56 with value: 0.5340721315341624.\u001b[0m\n",
            "\n",
            "\n",
            "regularization_factors, val_score: 0.534072:  95%|#########5| 19/20 [06:04<00:20, 20.19s/it]\u001b[A\u001b[A"
          ],
          "name": "stderr"
        },
        {
          "output_type": "stream",
          "text": [
            "Early stopping, best iteration is:\n",
            "[70]\tvalid_0's l1: 0.535469\n",
            "Training until validation scores don't improve for 100 rounds.\n",
            "[100]\tvalid_0's l1: 0.536921\n",
            "[200]\tvalid_0's l1: 0.536784\n"
          ],
          "name": "stdout"
        },
        {
          "output_type": "stream",
          "text": [
            "\n",
            "\n",
            "regularization_factors, val_score: 0.534072:  95%|#########5| 19/20 [06:23<00:20, 20.19s/it]\u001b[A\u001b[A\n",
            "\n",
            "regularization_factors, val_score: 0.534072: 100%|##########| 20/20 [06:23<00:00, 19.84s/it]\u001b[A\u001b[A\u001b[32m[I 2021-07-07 21:52:49,139]\u001b[0m Trial 62 finished with value: 0.5366537774110723 and parameters: {'lambda_l1': 0.005212184858564013, 'lambda_l2': 6.034684561333057}. Best is trial 56 with value: 0.5340721315341624.\u001b[0m\n",
            "regularization_factors, val_score: 0.534072: 100%|##########| 20/20 [06:23<00:00, 19.18s/it]\n",
            "\n",
            "\n",
            "  0%|          | 0/5 [00:00<?, ?it/s]\u001b[A\u001b[A\n",
            "\n",
            "min_data_in_leaf, val_score: 0.534072:   0%|          | 0/5 [00:00<?, ?it/s]\u001b[A\u001b[A"
          ],
          "name": "stderr"
        },
        {
          "output_type": "stream",
          "text": [
            "Early stopping, best iteration is:\n",
            "[117]\tvalid_0's l1: 0.536654\n",
            "Training until validation scores don't improve for 100 rounds.\n",
            "[100]\tvalid_0's l1: 0.535221\n"
          ],
          "name": "stdout"
        },
        {
          "output_type": "stream",
          "text": [
            "\n",
            "\n",
            "min_data_in_leaf, val_score: 0.534072:   0%|          | 0/5 [00:14<?, ?it/s]\u001b[A\u001b[A\n",
            "\n",
            "min_data_in_leaf, val_score: 0.534072:  20%|##        | 1/5 [00:14<00:59, 14.97s/it]\u001b[A\u001b[A\u001b[32m[I 2021-07-07 21:53:04,129]\u001b[0m Trial 63 finished with value: 0.5351566340623231 and parameters: {'min_child_samples': 100}. Best is trial 63 with value: 0.5351566340623231.\u001b[0m\n",
            "\n",
            "\n",
            "min_data_in_leaf, val_score: 0.534072:  20%|##        | 1/5 [00:14<00:59, 14.97s/it]\u001b[A\u001b[A"
          ],
          "name": "stderr"
        },
        {
          "output_type": "stream",
          "text": [
            "Early stopping, best iteration is:\n",
            "[70]\tvalid_0's l1: 0.535157\n",
            "Training until validation scores don't improve for 100 rounds.\n",
            "[100]\tvalid_0's l1: 0.534124\n"
          ],
          "name": "stdout"
        },
        {
          "output_type": "stream",
          "text": [
            "\n",
            "\n",
            "min_data_in_leaf, val_score: 0.534072:  20%|##        | 1/5 [00:29<00:59, 14.97s/it]\u001b[A\u001b[A\n",
            "\n",
            "min_data_in_leaf, val_score: 0.534072:  40%|####      | 2/5 [00:29<00:44, 14.75s/it]\u001b[A\u001b[A\u001b[32m[I 2021-07-07 21:53:18,353]\u001b[0m Trial 64 finished with value: 0.5340721315341624 and parameters: {'min_child_samples': 25}. Best is trial 64 with value: 0.5340721315341624.\u001b[0m\n",
            "\n",
            "\n",
            "min_data_in_leaf, val_score: 0.534072:  40%|####      | 2/5 [00:29<00:44, 14.75s/it]\u001b[A\u001b[A"
          ],
          "name": "stderr"
        },
        {
          "output_type": "stream",
          "text": [
            "Early stopping, best iteration is:\n",
            "[55]\tvalid_0's l1: 0.534072\n",
            "Training until validation scores don't improve for 100 rounds.\n",
            "[100]\tvalid_0's l1: 0.534124\n"
          ],
          "name": "stdout"
        },
        {
          "output_type": "stream",
          "text": [
            "\n",
            "\n",
            "min_data_in_leaf, val_score: 0.534072:  40%|####      | 2/5 [00:43<00:44, 14.75s/it]\u001b[A\u001b[A\n",
            "\n",
            "min_data_in_leaf, val_score: 0.534072:  60%|######    | 3/5 [00:43<00:29, 14.53s/it]\u001b[A\u001b[A\u001b[32m[I 2021-07-07 21:53:32,378]\u001b[0m Trial 65 finished with value: 0.5340721315341624 and parameters: {'min_child_samples': 10}. Best is trial 64 with value: 0.5340721315341624.\u001b[0m\n",
            "\n",
            "\n",
            "min_data_in_leaf, val_score: 0.534072:  60%|######    | 3/5 [00:43<00:29, 14.53s/it]\u001b[A\u001b[A"
          ],
          "name": "stderr"
        },
        {
          "output_type": "stream",
          "text": [
            "Early stopping, best iteration is:\n",
            "[55]\tvalid_0's l1: 0.534072\n",
            "Training until validation scores don't improve for 100 rounds.\n",
            "[100]\tvalid_0's l1: 0.534124\n"
          ],
          "name": "stdout"
        },
        {
          "output_type": "stream",
          "text": [
            "\n",
            "\n",
            "min_data_in_leaf, val_score: 0.534072:  60%|######    | 3/5 [00:57<00:29, 14.53s/it]\u001b[A\u001b[A\n",
            "\n",
            "min_data_in_leaf, val_score: 0.534072:  80%|########  | 4/5 [00:57<00:14, 14.37s/it]\u001b[A\u001b[A\u001b[32m[I 2021-07-07 21:53:46,375]\u001b[0m Trial 66 finished with value: 0.5340721315341624 and parameters: {'min_child_samples': 5}. Best is trial 64 with value: 0.5340721315341624.\u001b[0m\n",
            "\n",
            "\n",
            "min_data_in_leaf, val_score: 0.534072:  80%|########  | 4/5 [00:57<00:14, 14.37s/it]\u001b[A\u001b[A"
          ],
          "name": "stderr"
        },
        {
          "output_type": "stream",
          "text": [
            "Early stopping, best iteration is:\n",
            "[55]\tvalid_0's l1: 0.534072\n",
            "Training until validation scores don't improve for 100 rounds.\n",
            "[100]\tvalid_0's l1: 0.534134\n"
          ],
          "name": "stdout"
        },
        {
          "output_type": "stream",
          "text": [
            "\n",
            "\n",
            "min_data_in_leaf, val_score: 0.534056:  80%|########  | 4/5 [01:11<00:14, 14.37s/it]\u001b[A\u001b[A\n",
            "\n",
            "min_data_in_leaf, val_score: 0.534056: 100%|##########| 5/5 [01:11<00:00, 14.25s/it]\u001b[A\u001b[A\u001b[32m[I 2021-07-07 21:54:00,353]\u001b[0m Trial 67 finished with value: 0.534056126086749 and parameters: {'min_child_samples': 50}. Best is trial 67 with value: 0.534056126086749.\u001b[0m\n",
            "min_data_in_leaf, val_score: 0.534056: 100%|##########| 5/5 [01:11<00:00, 14.24s/it]"
          ],
          "name": "stderr"
        },
        {
          "output_type": "stream",
          "text": [
            "Early stopping, best iteration is:\n",
            "[55]\tvalid_0's l1: 0.534056\n",
            "mae: 0.5340561259366874\n"
          ],
          "name": "stdout"
        },
        {
          "output_type": "stream",
          "text": [
            "\n",
            "\u001b[32m[I 2021-07-07 21:54:01,955]\u001b[0m A new study created in memory with name: no-name-33168ce0-42b0-4ec8-ae6d-2b93decae71d\u001b[0m\n",
            "\n",
            "\n",
            "  0%|          | 0/7 [00:00<?, ?it/s]\u001b[A\u001b[A\n",
            "\n",
            "feature_fraction, val_score: inf:   0%|          | 0/7 [00:00<?, ?it/s]\u001b[A\u001b[A/usr/local/lib/python3.7/dist-packages/lightgbm/engine.py:118: UserWarning:\n",
            "\n",
            "Found `n_estimators` in params. Will use it instead of argument\n",
            "\n"
          ],
          "name": "stderr"
        },
        {
          "output_type": "stream",
          "text": [
            "Training until validation scores don't improve for 100 rounds.\n",
            "[100]\tvalid_0's l1: 1.0115\n",
            "[200]\tvalid_0's l1: 1.0038\n",
            "[300]\tvalid_0's l1: 1.00146\n",
            "[400]\tvalid_0's l1: 0.998469\n",
            "[500]\tvalid_0's l1: 0.998167\n",
            "[600]\tvalid_0's l1: 0.996295\n",
            "[700]\tvalid_0's l1: 0.994413\n",
            "[800]\tvalid_0's l1: 0.993614\n",
            "[900]\tvalid_0's l1: 0.992557\n"
          ],
          "name": "stdout"
        },
        {
          "output_type": "stream",
          "text": [
            "\n",
            "\n",
            "feature_fraction, val_score: 0.992423:   0%|          | 0/7 [01:15<?, ?it/s]\u001b[A\u001b[A\n",
            "\n",
            "feature_fraction, val_score: 0.992423:  14%|#4        | 1/7 [01:15<07:35, 75.88s/it]\u001b[A\u001b[A\u001b[32m[I 2021-07-07 21:55:17,857]\u001b[0m Trial 0 finished with value: 0.9924233058157496 and parameters: {'feature_fraction': 0.4}. Best is trial 0 with value: 0.9924233058157496.\u001b[0m\n",
            "\n",
            "\n",
            "feature_fraction, val_score: 0.992423:  14%|#4        | 1/7 [01:15<07:35, 75.88s/it]\u001b[A\u001b[A"
          ],
          "name": "stderr"
        },
        {
          "output_type": "stream",
          "text": [
            "Early stopping, best iteration is:\n",
            "[882]\tvalid_0's l1: 0.992423\n",
            "Training until validation scores don't improve for 100 rounds.\n",
            "[100]\tvalid_0's l1: 1.0183\n",
            "[200]\tvalid_0's l1: 1.0107\n",
            "[300]\tvalid_0's l1: 1.00629\n",
            "[400]\tvalid_0's l1: 1.00402\n",
            "[500]\tvalid_0's l1: 1.00346\n",
            "[600]\tvalid_0's l1: 1.00101\n",
            "[700]\tvalid_0's l1: 1.00024\n",
            "[800]\tvalid_0's l1: 1.0003\n",
            "[900]\tvalid_0's l1: 0.999761\n"
          ],
          "name": "stdout"
        },
        {
          "output_type": "stream",
          "text": [
            "\n",
            "\n",
            "feature_fraction, val_score: 0.992423:  14%|#4        | 1/7 [02:36<07:35, 75.88s/it]\u001b[A\u001b[A\n",
            "\n",
            "feature_fraction, val_score: 0.992423:  29%|##8       | 2/7 [02:36<06:26, 77.33s/it]\u001b[A\u001b[A\u001b[32m[I 2021-07-07 21:56:38,568]\u001b[0m Trial 1 finished with value: 0.9996635047387197 and parameters: {'feature_fraction': 0.8}. Best is trial 0 with value: 0.9924233058157496.\u001b[0m\n",
            "\n",
            "\n",
            "feature_fraction, val_score: 0.992423:  29%|##8       | 2/7 [02:36<06:26, 77.33s/it]\u001b[A\u001b[A"
          ],
          "name": "stderr"
        },
        {
          "output_type": "stream",
          "text": [
            "Early stopping, best iteration is:\n",
            "[868]\tvalid_0's l1: 0.999664\n",
            "Training until validation scores don't improve for 100 rounds.\n",
            "[100]\tvalid_0's l1: 1.02025\n",
            "[200]\tvalid_0's l1: 1.01196\n",
            "[300]\tvalid_0's l1: 1.00659\n",
            "[400]\tvalid_0's l1: 1.00607\n",
            "[500]\tvalid_0's l1: 1.00304\n",
            "[600]\tvalid_0's l1: 1.00179\n",
            "[700]\tvalid_0's l1: 1.00052\n",
            "[800]\tvalid_0's l1: 1.00061\n"
          ],
          "name": "stdout"
        },
        {
          "output_type": "stream",
          "text": [
            "\n",
            "\n",
            "feature_fraction, val_score: 0.992423:  29%|##8       | 2/7 [03:44<06:26, 77.33s/it]\u001b[A\u001b[A\n",
            "\n",
            "feature_fraction, val_score: 0.992423:  43%|####2     | 3/7 [03:44<04:57, 74.49s/it]\u001b[A\u001b[A\u001b[32m[I 2021-07-07 21:57:46,448]\u001b[0m Trial 2 finished with value: 1.0005232544139413 and parameters: {'feature_fraction': 0.8999999999999999}. Best is trial 0 with value: 0.9924233058157496.\u001b[0m\n",
            "\n",
            "\n",
            "feature_fraction, val_score: 0.992423:  43%|####2     | 3/7 [03:44<04:57, 74.49s/it]\u001b[A\u001b[A"
          ],
          "name": "stderr"
        },
        {
          "output_type": "stream",
          "text": [
            "Early stopping, best iteration is:\n",
            "[717]\tvalid_0's l1: 1.00052\n",
            "Training until validation scores don't improve for 100 rounds.\n",
            "[100]\tvalid_0's l1: 1.01921\n",
            "[200]\tvalid_0's l1: 1.01649\n",
            "[300]\tvalid_0's l1: 1.01552\n"
          ],
          "name": "stdout"
        },
        {
          "output_type": "stream",
          "text": [
            "\n",
            "\n",
            "feature_fraction, val_score: 0.992423:  43%|####2     | 3/7 [04:16<04:57, 74.49s/it]\u001b[A\u001b[A\n",
            "\n",
            "feature_fraction, val_score: 0.992423:  57%|#####7    | 4/7 [04:16<03:04, 61.66s/it]\u001b[A\u001b[A\u001b[32m[I 2021-07-07 21:58:18,178]\u001b[0m Trial 3 finished with value: 1.015508723683214 and parameters: {'feature_fraction': 1.0}. Best is trial 0 with value: 0.9924233058157496.\u001b[0m\n",
            "\n",
            "\n",
            "feature_fraction, val_score: 0.992423:  57%|#####7    | 4/7 [04:16<03:04, 61.66s/it]\u001b[A\u001b[A"
          ],
          "name": "stderr"
        },
        {
          "output_type": "stream",
          "text": [
            "Early stopping, best iteration is:\n",
            "[217]\tvalid_0's l1: 1.01551\n",
            "Training until validation scores don't improve for 100 rounds.\n",
            "[100]\tvalid_0's l1: 1.01384\n",
            "[200]\tvalid_0's l1: 1.00543\n",
            "[300]\tvalid_0's l1: 1.00225\n",
            "[400]\tvalid_0's l1: 0.999315\n",
            "[500]\tvalid_0's l1: 0.997916\n",
            "[600]\tvalid_0's l1: 0.997508\n",
            "[700]\tvalid_0's l1: 0.997105\n",
            "[800]\tvalid_0's l1: 0.996961\n",
            "[900]\tvalid_0's l1: 0.996153\n",
            "[1000]\tvalid_0's l1: 0.995711\n",
            "[1100]\tvalid_0's l1: 0.99542\n",
            "[1200]\tvalid_0's l1: 0.994809\n",
            "[1300]\tvalid_0's l1: 0.994284\n",
            "[1400]\tvalid_0's l1: 0.994039\n",
            "[1500]\tvalid_0's l1: 0.993653\n",
            "[1600]\tvalid_0's l1: 0.992743\n",
            "[1700]\tvalid_0's l1: 0.992277\n"
          ],
          "name": "stdout"
        },
        {
          "output_type": "stream",
          "text": [
            "\n",
            "\n",
            "feature_fraction, val_score: 0.992272:  57%|#####7    | 4/7 [06:38<03:04, 61.66s/it]\u001b[A\u001b[A\n",
            "\n",
            "feature_fraction, val_score: 0.992272:  71%|#######1  | 5/7 [06:38<02:51, 85.94s/it]\u001b[A\u001b[A\u001b[32m[I 2021-07-07 22:00:40,756]\u001b[0m Trial 4 finished with value: 0.9922724793631138 and parameters: {'feature_fraction': 0.5}. Best is trial 4 with value: 0.9922724793631138.\u001b[0m\n",
            "\n",
            "\n",
            "feature_fraction, val_score: 0.992272:  71%|#######1  | 5/7 [06:38<02:51, 85.94s/it]\u001b[A\u001b[A"
          ],
          "name": "stderr"
        },
        {
          "output_type": "stream",
          "text": [
            "Early stopping, best iteration is:\n",
            "[1699]\tvalid_0's l1: 0.992272\n",
            "Training until validation scores don't improve for 100 rounds.\n",
            "[100]\tvalid_0's l1: 1.01816\n",
            "[200]\tvalid_0's l1: 1.01318\n",
            "[300]\tvalid_0's l1: 1.00927\n",
            "[400]\tvalid_0's l1: 1.0064\n",
            "[500]\tvalid_0's l1: 1.00308\n",
            "[600]\tvalid_0's l1: 1.00278\n",
            "[700]\tvalid_0's l1: 1.00282\n",
            "[800]\tvalid_0's l1: 1.00123\n",
            "[900]\tvalid_0's l1: 1.00064\n"
          ],
          "name": "stdout"
        },
        {
          "output_type": "stream",
          "text": [
            "\n",
            "\n",
            "feature_fraction, val_score: 0.992272:  71%|#######1  | 5/7 [08:06<02:51, 85.94s/it]\u001b[A\u001b[A\n",
            "\n",
            "feature_fraction, val_score: 0.992272:  86%|########5 | 6/7 [08:06<01:26, 86.40s/it]\u001b[A\u001b[A\u001b[32m[I 2021-07-07 22:02:08,227]\u001b[0m Trial 5 finished with value: 1.000563443020739 and parameters: {'feature_fraction': 0.7}. Best is trial 4 with value: 0.9922724793631138.\u001b[0m\n",
            "\n",
            "\n",
            "feature_fraction, val_score: 0.992272:  86%|########5 | 6/7 [08:06<01:26, 86.40s/it]\u001b[A\u001b[A"
          ],
          "name": "stderr"
        },
        {
          "output_type": "stream",
          "text": [
            "Early stopping, best iteration is:\n",
            "[885]\tvalid_0's l1: 1.00056\n",
            "Training until validation scores don't improve for 100 rounds.\n",
            "[100]\tvalid_0's l1: 1.01393\n",
            "[200]\tvalid_0's l1: 1.00753\n",
            "[300]\tvalid_0's l1: 1.00313\n",
            "[400]\tvalid_0's l1: 1.00053\n",
            "[500]\tvalid_0's l1: 0.997817\n",
            "[600]\tvalid_0's l1: 0.997722\n",
            "[700]\tvalid_0's l1: 0.996503\n",
            "[800]\tvalid_0's l1: 0.996571\n"
          ],
          "name": "stdout"
        },
        {
          "output_type": "stream",
          "text": [
            "\n",
            "\n",
            "feature_fraction, val_score: 0.992272:  86%|########5 | 6/7 [09:17<01:26, 86.40s/it]\u001b[A\u001b[A\n",
            "\n",
            "feature_fraction, val_score: 0.992272: 100%|##########| 7/7 [09:17<00:00, 81.99s/it]\u001b[A\u001b[A\u001b[32m[I 2021-07-07 22:03:19,940]\u001b[0m Trial 6 finished with value: 0.9963482356212418 and parameters: {'feature_fraction': 0.6}. Best is trial 4 with value: 0.9922724793631138.\u001b[0m\n",
            "feature_fraction, val_score: 0.992272: 100%|##########| 7/7 [09:17<00:00, 79.71s/it]\n",
            "\n",
            "\n",
            "  0%|          | 0/20 [00:00<?, ?it/s]\u001b[A\u001b[A\n",
            "\n",
            "num_leaves, val_score: 0.992272:   0%|          | 0/20 [00:00<?, ?it/s]\u001b[A\u001b[A"
          ],
          "name": "stderr"
        },
        {
          "output_type": "stream",
          "text": [
            "Early stopping, best iteration is:\n",
            "[714]\tvalid_0's l1: 0.996348\n",
            "Training until validation scores don't improve for 100 rounds.\n",
            "[100]\tvalid_0's l1: 1.01275\n",
            "[200]\tvalid_0's l1: 1.0044\n",
            "[300]\tvalid_0's l1: 1.00231\n",
            "[400]\tvalid_0's l1: 1.00033\n",
            "[500]\tvalid_0's l1: 0.999364\n",
            "[600]\tvalid_0's l1: 0.998628\n",
            "[700]\tvalid_0's l1: 0.996438\n",
            "[800]\tvalid_0's l1: 0.996051\n",
            "[900]\tvalid_0's l1: 0.995007\n"
          ],
          "name": "stdout"
        },
        {
          "output_type": "stream",
          "text": [
            "\n",
            "\n",
            "num_leaves, val_score: 0.992272:   0%|          | 0/20 [01:23<?, ?it/s]\u001b[A\u001b[A\n",
            "\n",
            "num_leaves, val_score: 0.992272:   5%|5         | 1/20 [01:23<26:35, 83.98s/it]\u001b[A\u001b[A\u001b[32m[I 2021-07-07 22:04:43,939]\u001b[0m Trial 7 finished with value: 0.9949639966220104 and parameters: {'num_leaves': 114}. Best is trial 7 with value: 0.9949639966220104.\u001b[0m\n",
            "\n",
            "\n",
            "num_leaves, val_score: 0.992272:   5%|5         | 1/20 [01:23<26:35, 83.98s/it]\u001b[A\u001b[A"
          ],
          "name": "stderr"
        },
        {
          "output_type": "stream",
          "text": [
            "Early stopping, best iteration is:\n",
            "[884]\tvalid_0's l1: 0.994964\n",
            "Training until validation scores don't improve for 100 rounds.\n",
            "[100]\tvalid_0's l1: 1.00366\n",
            "[200]\tvalid_0's l1: 0.999383\n",
            "[300]\tvalid_0's l1: 0.995972\n",
            "[400]\tvalid_0's l1: 0.994082\n",
            "[500]\tvalid_0's l1: 0.992009\n",
            "[600]\tvalid_0's l1: 0.990547\n",
            "[700]\tvalid_0's l1: 0.989723\n",
            "[800]\tvalid_0's l1: 0.9895\n"
          ],
          "name": "stdout"
        },
        {
          "output_type": "stream",
          "text": [
            "\n",
            "\n",
            "num_leaves, val_score: 0.989152:   5%|5         | 1/20 [02:44<26:35, 83.98s/it]\u001b[A\u001b[A\n",
            "\n",
            "num_leaves, val_score: 0.989152:  10%|#         | 2/20 [02:44<24:51, 82.85s/it]\u001b[A\u001b[A\u001b[32m[I 2021-07-07 22:06:04,163]\u001b[0m Trial 8 finished with value: 0.9891518354774508 and parameters: {'num_leaves': 224}. Best is trial 8 with value: 0.9891518354774508.\u001b[0m\n",
            "\n",
            "\n",
            "num_leaves, val_score: 0.989152:  10%|#         | 2/20 [02:44<24:51, 82.85s/it]\u001b[A\u001b[A"
          ],
          "name": "stderr"
        },
        {
          "output_type": "stream",
          "text": [
            "Early stopping, best iteration is:\n",
            "[714]\tvalid_0's l1: 0.989152\n",
            "Training until validation scores don't improve for 100 rounds.\n",
            "[100]\tvalid_0's l1: 1.01827\n",
            "[200]\tvalid_0's l1: 1.00982\n",
            "[300]\tvalid_0's l1: 1.00629\n",
            "[400]\tvalid_0's l1: 1.00432\n",
            "[500]\tvalid_0's l1: 1.00169\n",
            "[600]\tvalid_0's l1: 1.00082\n",
            "[700]\tvalid_0's l1: 1.00065\n",
            "[800]\tvalid_0's l1: 1.0003\n",
            "[900]\tvalid_0's l1: 0.999814\n",
            "[1000]\tvalid_0's l1: 0.999635\n",
            "[1100]\tvalid_0's l1: 0.999249\n",
            "[1200]\tvalid_0's l1: 0.998217\n"
          ],
          "name": "stdout"
        },
        {
          "output_type": "stream",
          "text": [
            "\n",
            "\n",
            "num_leaves, val_score: 0.989152:  10%|#         | 2/20 [04:24<24:51, 82.85s/it]\u001b[A\u001b[A\n",
            "\n",
            "num_leaves, val_score: 0.989152:  15%|#5        | 3/20 [04:24<24:55, 87.97s/it]\u001b[A\u001b[A\u001b[32m[I 2021-07-07 22:07:44,070]\u001b[0m Trial 9 finished with value: 0.9981522088558719 and parameters: {'num_leaves': 71}. Best is trial 8 with value: 0.9891518354774508.\u001b[0m\n",
            "\n",
            "\n",
            "num_leaves, val_score: 0.989152:  15%|#5        | 3/20 [04:24<24:55, 87.97s/it]\u001b[A\u001b[A"
          ],
          "name": "stderr"
        },
        {
          "output_type": "stream",
          "text": [
            "Early stopping, best iteration is:\n",
            "[1195]\tvalid_0's l1: 0.998152\n",
            "Training until validation scores don't improve for 100 rounds.\n",
            "[100]\tvalid_0's l1: 1.01109\n",
            "[200]\tvalid_0's l1: 1.00442\n",
            "[300]\tvalid_0's l1: 0.998991\n",
            "[400]\tvalid_0's l1: 0.998182\n",
            "[500]\tvalid_0's l1: 0.997118\n",
            "[600]\tvalid_0's l1: 0.996243\n",
            "[700]\tvalid_0's l1: 0.995205\n"
          ],
          "name": "stdout"
        },
        {
          "output_type": "stream",
          "text": [
            "\n",
            "\n",
            "num_leaves, val_score: 0.989152:  15%|#5        | 3/20 [05:30<24:55, 87.97s/it]\u001b[A\u001b[A\n",
            "\n",
            "num_leaves, val_score: 0.989152:  20%|##        | 4/20 [05:30<21:42, 81.42s/it]\u001b[A\u001b[A\u001b[32m[I 2021-07-07 22:08:50,195]\u001b[0m Trial 10 finished with value: 0.9951379134045388 and parameters: {'num_leaves': 122}. Best is trial 8 with value: 0.9891518354774508.\u001b[0m\n",
            "\n",
            "\n",
            "num_leaves, val_score: 0.989152:  20%|##        | 4/20 [05:30<21:42, 81.42s/it]\u001b[A\u001b[A"
          ],
          "name": "stderr"
        },
        {
          "output_type": "stream",
          "text": [
            "Early stopping, best iteration is:\n",
            "[698]\tvalid_0's l1: 0.995138\n",
            "Training until validation scores don't improve for 100 rounds.\n",
            "[100]\tvalid_0's l1: 1.00431\n",
            "[200]\tvalid_0's l1: 0.999617\n",
            "[300]\tvalid_0's l1: 0.996876\n",
            "[400]\tvalid_0's l1: 0.994599\n",
            "[500]\tvalid_0's l1: 0.992984\n",
            "[600]\tvalid_0's l1: 0.992088\n",
            "[700]\tvalid_0's l1: 0.990355\n",
            "[800]\tvalid_0's l1: 0.989183\n",
            "[900]\tvalid_0's l1: 0.98836\n",
            "[1000]\tvalid_0's l1: 0.987012\n",
            "[1100]\tvalid_0's l1: 0.98667\n",
            "[1200]\tvalid_0's l1: 0.986018\n",
            "[1300]\tvalid_0's l1: 0.985668\n",
            "[1400]\tvalid_0's l1: 0.985665\n",
            "[1500]\tvalid_0's l1: 0.985143\n",
            "[1600]\tvalid_0's l1: 0.984432\n",
            "[1700]\tvalid_0's l1: 0.984265\n",
            "[1800]\tvalid_0's l1: 0.98372\n",
            "[1900]\tvalid_0's l1: 0.983373\n",
            "[2000]\tvalid_0's l1: 0.983327\n",
            "[2100]\tvalid_0's l1: 0.983112\n",
            "[2200]\tvalid_0's l1: 0.982705\n",
            "[2300]\tvalid_0's l1: 0.982403\n",
            "[2400]\tvalid_0's l1: 0.982259\n",
            "[2500]\tvalid_0's l1: 0.981809\n",
            "[2600]\tvalid_0's l1: 0.981596\n",
            "[2700]\tvalid_0's l1: 0.981129\n",
            "[2800]\tvalid_0's l1: 0.980792\n",
            "[2900]\tvalid_0's l1: 0.98061\n",
            "[3000]\tvalid_0's l1: 0.980314\n",
            "[3100]\tvalid_0's l1: 0.980231\n",
            "Early stopping, best iteration is:\n",
            "[3088]\tvalid_0's l1: 0.980163\n"
          ],
          "name": "stdout"
        },
        {
          "output_type": "stream",
          "text": [
            "\n",
            "\n",
            "num_leaves, val_score: 0.980163:  20%|##        | 4/20 [10:01<21:42, 81.42s/it]\u001b[A\u001b[A\n",
            "\n",
            "num_leaves, val_score: 0.980163:  25%|##5       | 5/20 [10:01<34:35, 138.34s/it]\u001b[A\u001b[A\u001b[32m[I 2021-07-07 22:13:21,367]\u001b[0m Trial 11 finished with value: 0.9801626321772016 and parameters: {'num_leaves': 197}. Best is trial 11 with value: 0.9801626321772016.\u001b[0m\n",
            "\n",
            "\n",
            "num_leaves, val_score: 0.980163:  25%|##5       | 5/20 [10:01<34:35, 138.34s/it]\u001b[A\u001b[A"
          ],
          "name": "stderr"
        },
        {
          "output_type": "stream",
          "text": [
            "Training until validation scores don't improve for 100 rounds.\n",
            "[100]\tvalid_0's l1: 1.01218\n",
            "[200]\tvalid_0's l1: 1.00361\n",
            "[300]\tvalid_0's l1: 1.0012\n",
            "[400]\tvalid_0's l1: 0.998519\n",
            "[500]\tvalid_0's l1: 0.995996\n",
            "[600]\tvalid_0's l1: 0.993784\n",
            "[700]\tvalid_0's l1: 0.99341\n",
            "[800]\tvalid_0's l1: 0.993218\n",
            "[900]\tvalid_0's l1: 0.992461\n",
            "[1000]\tvalid_0's l1: 0.991598\n",
            "[1100]\tvalid_0's l1: 0.991475\n",
            "[1200]\tvalid_0's l1: 0.991181\n",
            "[1300]\tvalid_0's l1: 0.990683\n",
            "[1400]\tvalid_0's l1: 0.990754\n",
            "Early stopping, best iteration is:\n",
            "[1302]\tvalid_0's l1: 0.990683\n"
          ],
          "name": "stdout"
        },
        {
          "output_type": "stream",
          "text": [
            "\n",
            "\n",
            "num_leaves, val_score: 0.980163:  25%|##5       | 5/20 [11:55<34:35, 138.34s/it]\u001b[A\u001b[A\n",
            "\n",
            "num_leaves, val_score: 0.980163:  30%|###       | 6/20 [11:55<30:33, 130.95s/it]\u001b[A\u001b[A\u001b[32m[I 2021-07-07 22:15:15,063]\u001b[0m Trial 12 finished with value: 0.9906825244569977 and parameters: {'num_leaves': 124}. Best is trial 11 with value: 0.9801626321772016.\u001b[0m\n",
            "\n",
            "\n",
            "num_leaves, val_score: 0.980163:  30%|###       | 6/20 [11:55<30:33, 130.95s/it]\u001b[A\u001b[A"
          ],
          "name": "stderr"
        },
        {
          "output_type": "stream",
          "text": [
            "Training until validation scores don't improve for 100 rounds.\n",
            "[100]\tvalid_0's l1: 1.00386\n",
            "[200]\tvalid_0's l1: 0.999961\n",
            "[300]\tvalid_0's l1: 0.997816\n",
            "[400]\tvalid_0's l1: 0.995979\n",
            "[500]\tvalid_0's l1: 0.992905\n",
            "[600]\tvalid_0's l1: 0.9911\n",
            "[700]\tvalid_0's l1: 0.990777\n",
            "[800]\tvalid_0's l1: 0.989339\n",
            "[900]\tvalid_0's l1: 0.988318\n",
            "[1000]\tvalid_0's l1: 0.98759\n",
            "[1100]\tvalid_0's l1: 0.987046\n",
            "[1200]\tvalid_0's l1: 0.98598\n",
            "[1300]\tvalid_0's l1: 0.985809\n",
            "[1400]\tvalid_0's l1: 0.985639\n",
            "[1500]\tvalid_0's l1: 0.984772\n",
            "[1600]\tvalid_0's l1: 0.984734\n",
            "[1700]\tvalid_0's l1: 0.984254\n",
            "[1800]\tvalid_0's l1: 0.984025\n",
            "[1900]\tvalid_0's l1: 0.983626\n",
            "[2000]\tvalid_0's l1: 0.983391\n",
            "[2100]\tvalid_0's l1: 0.983449\n",
            "Early stopping, best iteration is:\n",
            "[2019]\tvalid_0's l1: 0.983368\n"
          ],
          "name": "stdout"
        },
        {
          "output_type": "stream",
          "text": [
            "\n",
            "\n",
            "num_leaves, val_score: 0.980163:  30%|###       | 6/20 [15:02<30:33, 130.95s/it]\u001b[A\u001b[A\n",
            "\n",
            "num_leaves, val_score: 0.980163:  35%|###5      | 7/20 [15:02<32:03, 147.98s/it]\u001b[A\u001b[A\u001b[32m[I 2021-07-07 22:18:22,786]\u001b[0m Trial 13 finished with value: 0.9833677523725405 and parameters: {'num_leaves': 200}. Best is trial 11 with value: 0.9801626321772016.\u001b[0m\n",
            "\n",
            "\n",
            "num_leaves, val_score: 0.980163:  35%|###5      | 7/20 [15:02<32:03, 147.98s/it]\u001b[A\u001b[A"
          ],
          "name": "stderr"
        },
        {
          "output_type": "stream",
          "text": [
            "Training until validation scores don't improve for 100 rounds.\n",
            "[100]\tvalid_0's l1: 1.0108\n",
            "[200]\tvalid_0's l1: 1.00417\n",
            "[300]\tvalid_0's l1: 1.00164\n",
            "[400]\tvalid_0's l1: 0.999049\n",
            "[500]\tvalid_0's l1: 0.997071\n",
            "[600]\tvalid_0's l1: 0.997207\n",
            "[700]\tvalid_0's l1: 0.99529\n",
            "[800]\tvalid_0's l1: 0.994889\n",
            "[900]\tvalid_0's l1: 0.994047\n",
            "[1000]\tvalid_0's l1: 0.993434\n",
            "[1100]\tvalid_0's l1: 0.992694\n",
            "[1200]\tvalid_0's l1: 0.992446\n",
            "[1300]\tvalid_0's l1: 0.991983\n",
            "[1400]\tvalid_0's l1: 0.992014\n",
            "[1500]\tvalid_0's l1: 0.991706\n",
            "[1600]\tvalid_0's l1: 0.991548\n",
            "[1700]\tvalid_0's l1: 0.991353\n",
            "[1800]\tvalid_0's l1: 0.991309\n",
            "[1900]\tvalid_0's l1: 0.991136\n",
            "Early stopping, best iteration is:\n",
            "[1876]\tvalid_0's l1: 0.990997\n"
          ],
          "name": "stdout"
        },
        {
          "output_type": "stream",
          "text": [
            "\n",
            "\n",
            "num_leaves, val_score: 0.980163:  35%|###5      | 7/20 [17:54<32:03, 147.98s/it]\u001b[A\u001b[A\n",
            "\n",
            "num_leaves, val_score: 0.980163:  40%|####      | 8/20 [17:54<31:00, 155.04s/it]\u001b[A\u001b[A\u001b[32m[I 2021-07-07 22:21:14,303]\u001b[0m Trial 14 finished with value: 0.9909972297910342 and parameters: {'num_leaves': 131}. Best is trial 11 with value: 0.9801626321772016.\u001b[0m\n",
            "\n",
            "\n",
            "num_leaves, val_score: 0.980163:  40%|####      | 8/20 [17:54<31:00, 155.04s/it]\u001b[A\u001b[A"
          ],
          "name": "stderr"
        },
        {
          "output_type": "stream",
          "text": [
            "Training until validation scores don't improve for 100 rounds.\n",
            "[100]\tvalid_0's l1: 1.00386\n",
            "[200]\tvalid_0's l1: 0.999961\n",
            "[300]\tvalid_0's l1: 0.997816\n",
            "[400]\tvalid_0's l1: 0.995979\n",
            "[500]\tvalid_0's l1: 0.992905\n",
            "[600]\tvalid_0's l1: 0.9911\n",
            "[700]\tvalid_0's l1: 0.990777\n",
            "[800]\tvalid_0's l1: 0.989339\n",
            "[900]\tvalid_0's l1: 0.988318\n",
            "[1000]\tvalid_0's l1: 0.98759\n",
            "[1100]\tvalid_0's l1: 0.987046\n",
            "[1200]\tvalid_0's l1: 0.98598\n",
            "[1300]\tvalid_0's l1: 0.985809\n",
            "[1400]\tvalid_0's l1: 0.985639\n",
            "[1500]\tvalid_0's l1: 0.984772\n",
            "[1600]\tvalid_0's l1: 0.984734\n",
            "[1700]\tvalid_0's l1: 0.984254\n",
            "[1800]\tvalid_0's l1: 0.984025\n",
            "[1900]\tvalid_0's l1: 0.983626\n",
            "[2000]\tvalid_0's l1: 0.983391\n",
            "[2100]\tvalid_0's l1: 0.983449\n",
            "Early stopping, best iteration is:\n",
            "[2019]\tvalid_0's l1: 0.983368\n"
          ],
          "name": "stdout"
        },
        {
          "output_type": "stream",
          "text": [
            "\n",
            "\n",
            "num_leaves, val_score: 0.980163:  40%|####      | 8/20 [21:06<31:00, 155.04s/it]\u001b[A\u001b[A\n",
            "\n",
            "num_leaves, val_score: 0.980163:  45%|####5     | 9/20 [21:06<30:28, 166.23s/it]\u001b[A\u001b[A\u001b[32m[I 2021-07-07 22:24:26,641]\u001b[0m Trial 15 finished with value: 0.9833677523725406 and parameters: {'num_leaves': 200}. Best is trial 11 with value: 0.9801626321772016.\u001b[0m\n",
            "\n",
            "\n",
            "num_leaves, val_score: 0.980163:  45%|####5     | 9/20 [21:06<30:28, 166.23s/it]\u001b[A\u001b[A"
          ],
          "name": "stderr"
        },
        {
          "output_type": "stream",
          "text": [
            "Training until validation scores don't improve for 100 rounds.\n",
            "[100]\tvalid_0's l1: 1.00386\n",
            "[200]\tvalid_0's l1: 0.999961\n",
            "[300]\tvalid_0's l1: 0.997816\n",
            "[400]\tvalid_0's l1: 0.995979\n",
            "[500]\tvalid_0's l1: 0.992905\n",
            "[600]\tvalid_0's l1: 0.9911\n",
            "[700]\tvalid_0's l1: 0.990777\n",
            "[800]\tvalid_0's l1: 0.989339\n",
            "[900]\tvalid_0's l1: 0.988318\n",
            "[1000]\tvalid_0's l1: 0.98759\n",
            "[1100]\tvalid_0's l1: 0.987046\n",
            "[1200]\tvalid_0's l1: 0.98598\n",
            "[1300]\tvalid_0's l1: 0.985809\n",
            "[1400]\tvalid_0's l1: 0.985639\n",
            "[1500]\tvalid_0's l1: 0.984772\n",
            "[1600]\tvalid_0's l1: 0.984734\n",
            "[1700]\tvalid_0's l1: 0.984254\n",
            "[1800]\tvalid_0's l1: 0.984025\n",
            "[1900]\tvalid_0's l1: 0.983626\n",
            "[2000]\tvalid_0's l1: 0.983391\n",
            "[2100]\tvalid_0's l1: 0.983449\n",
            "Early stopping, best iteration is:\n",
            "[2019]\tvalid_0's l1: 0.983368\n"
          ],
          "name": "stdout"
        },
        {
          "output_type": "stream",
          "text": [
            "\n",
            "\n",
            "num_leaves, val_score: 0.980163:  45%|####5     | 9/20 [24:17<30:28, 166.23s/it]\u001b[A\u001b[A\n",
            "\n",
            "num_leaves, val_score: 0.980163:  50%|#####     | 10/20 [24:17<28:57, 173.73s/it]\u001b[A\u001b[A\u001b[32m[I 2021-07-07 22:27:37,861]\u001b[0m Trial 16 finished with value: 0.9833677523725407 and parameters: {'num_leaves': 200}. Best is trial 11 with value: 0.9801626321772016.\u001b[0m\n",
            "\n",
            "\n",
            "num_leaves, val_score: 0.980163:  50%|#####     | 10/20 [24:17<28:57, 173.73s/it]\u001b[A\u001b[A"
          ],
          "name": "stderr"
        },
        {
          "output_type": "stream",
          "text": [
            "Training until validation scores don't improve for 100 rounds.\n",
            "[100]\tvalid_0's l1: 1.00041\n",
            "[200]\tvalid_0's l1: 0.996277\n",
            "[300]\tvalid_0's l1: 0.993919\n",
            "[400]\tvalid_0's l1: 0.991639\n",
            "[500]\tvalid_0's l1: 0.99072\n",
            "[600]\tvalid_0's l1: 0.988953\n",
            "[700]\tvalid_0's l1: 0.987199\n",
            "[800]\tvalid_0's l1: 0.986529\n",
            "[900]\tvalid_0's l1: 0.985952\n",
            "[1000]\tvalid_0's l1: 0.985005\n",
            "[1100]\tvalid_0's l1: 0.984059\n",
            "[1200]\tvalid_0's l1: 0.983628\n",
            "[1300]\tvalid_0's l1: 0.98322\n",
            "[1400]\tvalid_0's l1: 0.981948\n",
            "[1500]\tvalid_0's l1: 0.981886\n",
            "Early stopping, best iteration is:\n",
            "[1417]\tvalid_0's l1: 0.981824\n"
          ],
          "name": "stdout"
        },
        {
          "output_type": "stream",
          "text": [
            "\n",
            "\n",
            "num_leaves, val_score: 0.980163:  50%|#####     | 10/20 [26:44<28:57, 173.73s/it]\u001b[A\u001b[A\n",
            "\n",
            "num_leaves, val_score: 0.980163:  55%|#####5    | 11/20 [26:44<24:51, 165.69s/it]\u001b[A\u001b[A\u001b[32m[I 2021-07-07 22:30:04,796]\u001b[0m Trial 17 finished with value: 0.9818243275965048 and parameters: {'num_leaves': 240}. Best is trial 11 with value: 0.9801626321772016.\u001b[0m\n",
            "\n",
            "\n",
            "num_leaves, val_score: 0.980163:  55%|#####5    | 11/20 [26:44<24:51, 165.69s/it]\u001b[A\u001b[A"
          ],
          "name": "stderr"
        },
        {
          "output_type": "stream",
          "text": [
            "Training until validation scores don't improve for 100 rounds.\n",
            "[100]\tvalid_0's l1: 0.998069\n",
            "[200]\tvalid_0's l1: 0.992216\n",
            "[300]\tvalid_0's l1: 0.98916\n",
            "[400]\tvalid_0's l1: 0.985494\n",
            "[500]\tvalid_0's l1: 0.984016\n",
            "[600]\tvalid_0's l1: 0.983083\n",
            "[700]\tvalid_0's l1: 0.981963\n",
            "[800]\tvalid_0's l1: 0.981364\n",
            "[900]\tvalid_0's l1: 0.980557\n",
            "[1000]\tvalid_0's l1: 0.980086\n",
            "[1100]\tvalid_0's l1: 0.979469\n",
            "[1200]\tvalid_0's l1: 0.978951\n",
            "[1300]\tvalid_0's l1: 0.978207\n",
            "[1400]\tvalid_0's l1: 0.97811\n",
            "[1500]\tvalid_0's l1: 0.97765\n",
            "[1600]\tvalid_0's l1: 0.977096\n",
            "[1700]\tvalid_0's l1: 0.976153\n",
            "[1800]\tvalid_0's l1: 0.975891\n",
            "Early stopping, best iteration is:\n",
            "[1724]\tvalid_0's l1: 0.975736\n"
          ],
          "name": "stdout"
        },
        {
          "output_type": "stream",
          "text": [
            "\n",
            "\n",
            "num_leaves, val_score: 0.975736:  55%|#####5    | 11/20 [29:36<24:51, 165.69s/it]\u001b[A\u001b[A\n",
            "\n",
            "num_leaves, val_score: 0.975736:  60%|######    | 12/20 [29:36<22:20, 167.50s/it]\u001b[A\u001b[A\u001b[32m[I 2021-07-07 22:32:56,522]\u001b[0m Trial 18 finished with value: 0.9757358803061795 and parameters: {'num_leaves': 248}. Best is trial 18 with value: 0.9757358803061795.\u001b[0m\n",
            "\n",
            "\n",
            "num_leaves, val_score: 0.975736:  60%|######    | 12/20 [29:36<22:20, 167.50s/it]\u001b[A\u001b[A"
          ],
          "name": "stderr"
        },
        {
          "output_type": "stream",
          "text": [
            "Training until validation scores don't improve for 100 rounds.\n",
            "[100]\tvalid_0's l1: 1.00498\n",
            "[200]\tvalid_0's l1: 1.00148\n",
            "[300]\tvalid_0's l1: 0.998933\n",
            "[400]\tvalid_0's l1: 0.996995\n",
            "[500]\tvalid_0's l1: 0.995122\n",
            "[600]\tvalid_0's l1: 0.993733\n",
            "[700]\tvalid_0's l1: 0.992512\n",
            "[800]\tvalid_0's l1: 0.991644\n",
            "[900]\tvalid_0's l1: 0.990408\n",
            "[1000]\tvalid_0's l1: 0.989689\n",
            "[1100]\tvalid_0's l1: 0.989565\n",
            "[1200]\tvalid_0's l1: 0.988434\n",
            "[1300]\tvalid_0's l1: 0.988047\n",
            "[1400]\tvalid_0's l1: 0.987656\n",
            "Early stopping, best iteration is:\n",
            "[1397]\tvalid_0's l1: 0.987639\n"
          ],
          "name": "stdout"
        },
        {
          "output_type": "stream",
          "text": [
            "\n",
            "\n",
            "num_leaves, val_score: 0.975736:  60%|######    | 12/20 [31:42<22:20, 167.50s/it]\u001b[A\u001b[A\n",
            "\n",
            "num_leaves, val_score: 0.975736:  65%|######5   | 13/20 [31:42<18:04, 154.91s/it]\u001b[A\u001b[A\u001b[32m[I 2021-07-07 22:35:02,040]\u001b[0m Trial 19 finished with value: 0.9876390623200565 and parameters: {'num_leaves': 169}. Best is trial 18 with value: 0.9757358803061795.\u001b[0m\n",
            "\n",
            "\n",
            "num_leaves, val_score: 0.975736:  65%|######5   | 13/20 [31:42<18:04, 154.91s/it]\u001b[A\u001b[A"
          ],
          "name": "stderr"
        },
        {
          "output_type": "stream",
          "text": [
            "Training until validation scores don't improve for 100 rounds.\n",
            "[100]\tvalid_0's l1: 1.00111\n",
            "[200]\tvalid_0's l1: 0.995889\n",
            "[300]\tvalid_0's l1: 0.993842\n",
            "[400]\tvalid_0's l1: 0.991467\n",
            "[500]\tvalid_0's l1: 0.987251\n",
            "[600]\tvalid_0's l1: 0.985987\n",
            "[700]\tvalid_0's l1: 0.985214\n",
            "[800]\tvalid_0's l1: 0.984108\n",
            "[900]\tvalid_0's l1: 0.983395\n",
            "[1000]\tvalid_0's l1: 0.982762\n",
            "[1100]\tvalid_0's l1: 0.982065\n",
            "[1200]\tvalid_0's l1: 0.98146\n",
            "[1300]\tvalid_0's l1: 0.980665\n",
            "[1400]\tvalid_0's l1: 0.980628\n",
            "[1500]\tvalid_0's l1: 0.980239\n",
            "[1600]\tvalid_0's l1: 0.98032\n",
            "Early stopping, best iteration is:\n",
            "[1524]\tvalid_0's l1: 0.980098\n"
          ],
          "name": "stdout"
        },
        {
          "output_type": "stream",
          "text": [
            "\n",
            "\n",
            "num_leaves, val_score: 0.975736:  65%|######5   | 13/20 [34:11<18:04, 154.91s/it]\u001b[A\u001b[A\n",
            "\n",
            "num_leaves, val_score: 0.975736:  70%|#######   | 14/20 [34:11<15:19, 153.22s/it]\u001b[A\u001b[A\u001b[32m[I 2021-07-07 22:37:31,342]\u001b[0m Trial 20 finished with value: 0.9800978302772493 and parameters: {'num_leaves': 254}. Best is trial 18 with value: 0.9757358803061795.\u001b[0m\n",
            "\n",
            "\n",
            "num_leaves, val_score: 0.975736:  70%|#######   | 14/20 [34:11<15:19, 153.22s/it]\u001b[A\u001b[A"
          ],
          "name": "stderr"
        },
        {
          "output_type": "stream",
          "text": [
            "Training until validation scores don't improve for 100 rounds.\n",
            "[100]\tvalid_0's l1: 0.999147\n",
            "[200]\tvalid_0's l1: 0.994146\n",
            "[300]\tvalid_0's l1: 0.989993\n",
            "[400]\tvalid_0's l1: 0.987605\n",
            "[500]\tvalid_0's l1: 0.986041\n",
            "[600]\tvalid_0's l1: 0.985259\n",
            "[700]\tvalid_0's l1: 0.98445\n",
            "[800]\tvalid_0's l1: 0.983907\n",
            "[900]\tvalid_0's l1: 0.98335\n",
            "[1000]\tvalid_0's l1: 0.98239\n",
            "[1100]\tvalid_0's l1: 0.982241\n",
            "[1200]\tvalid_0's l1: 0.981811\n",
            "[1300]\tvalid_0's l1: 0.981343\n",
            "[1400]\tvalid_0's l1: 0.981294\n",
            "[1500]\tvalid_0's l1: 0.980791\n",
            "[1600]\tvalid_0's l1: 0.980432\n",
            "[1700]\tvalid_0's l1: 0.979944\n",
            "[1800]\tvalid_0's l1: 0.979942\n",
            "Early stopping, best iteration is:\n",
            "[1718]\tvalid_0's l1: 0.979906\n"
          ],
          "name": "stdout"
        },
        {
          "output_type": "stream",
          "text": [
            "\n",
            "\n",
            "num_leaves, val_score: 0.975736:  70%|#######   | 14/20 [37:10<15:19, 153.22s/it]\u001b[A\u001b[A\n",
            "\n",
            "num_leaves, val_score: 0.975736:  75%|#######5  | 15/20 [37:10<13:24, 160.91s/it]\u001b[A\u001b[A\u001b[32m[I 2021-07-07 22:40:30,189]\u001b[0m Trial 21 finished with value: 0.9799064748432884 and parameters: {'num_leaves': 255}. Best is trial 18 with value: 0.9757358803061795.\u001b[0m\n",
            "\n",
            "\n",
            "num_leaves, val_score: 0.975736:  75%|#######5  | 15/20 [37:10<13:24, 160.91s/it]\u001b[A\u001b[A"
          ],
          "name": "stderr"
        },
        {
          "output_type": "stream",
          "text": [
            "Training until validation scores don't improve for 100 rounds.\n",
            "[100]\tvalid_0's l1: 0.999928\n",
            "[200]\tvalid_0's l1: 0.995758\n",
            "[300]\tvalid_0's l1: 0.9922\n",
            "[400]\tvalid_0's l1: 0.988813\n",
            "[500]\tvalid_0's l1: 0.986765\n",
            "[600]\tvalid_0's l1: 0.985973\n",
            "[700]\tvalid_0's l1: 0.984868\n",
            "[800]\tvalid_0's l1: 0.983355\n",
            "[900]\tvalid_0's l1: 0.981047\n",
            "[1000]\tvalid_0's l1: 0.980668\n",
            "[1100]\tvalid_0's l1: 0.980094\n",
            "[1200]\tvalid_0's l1: 0.97976\n",
            "[1300]\tvalid_0's l1: 0.979214\n",
            "[1400]\tvalid_0's l1: 0.978612\n",
            "[1500]\tvalid_0's l1: 0.978116\n",
            "[1600]\tvalid_0's l1: 0.978086\n",
            "[1700]\tvalid_0's l1: 0.977546\n",
            "[1800]\tvalid_0's l1: 0.977157\n",
            "Early stopping, best iteration is:\n",
            "[1725]\tvalid_0's l1: 0.97714\n"
          ],
          "name": "stdout"
        },
        {
          "output_type": "stream",
          "text": [
            "\n",
            "\n",
            "num_leaves, val_score: 0.975736:  75%|#######5  | 15/20 [40:00<13:24, 160.91s/it]\u001b[A\u001b[A\n",
            "\n",
            "num_leaves, val_score: 0.975736:  80%|########  | 16/20 [40:00<10:55, 163.78s/it]\u001b[A\u001b[A\u001b[32m[I 2021-07-07 22:43:20,662]\u001b[0m Trial 22 finished with value: 0.9771400748686804 and parameters: {'num_leaves': 252}. Best is trial 18 with value: 0.9757358803061795.\u001b[0m\n",
            "\n",
            "\n",
            "num_leaves, val_score: 0.975736:  80%|########  | 16/20 [40:00<10:55, 163.78s/it]\u001b[A\u001b[A"
          ],
          "name": "stderr"
        },
        {
          "output_type": "stream",
          "text": [
            "Training until validation scores don't improve for 100 rounds.\n",
            "[100]\tvalid_0's l1: 1.04325\n",
            "[200]\tvalid_0's l1: 1.02795\n",
            "[300]\tvalid_0's l1: 1.02398\n",
            "[400]\tvalid_0's l1: 1.0236\n",
            "[500]\tvalid_0's l1: 1.02338\n",
            "[600]\tvalid_0's l1: 1.01963\n"
          ],
          "name": "stdout"
        },
        {
          "output_type": "stream",
          "text": [
            "\n",
            "\n",
            "num_leaves, val_score: 0.975736:  80%|########  | 16/20 [40:50<10:55, 163.78s/it]\u001b[A\u001b[A\n",
            "\n",
            "num_leaves, val_score: 0.975736:  85%|########5 | 17/20 [40:50<06:28, 129.45s/it]\u001b[A\u001b[A\u001b[32m[I 2021-07-07 22:44:10,020]\u001b[0m Trial 23 finished with value: 1.0195840577862212 and parameters: {'num_leaves': 9}. Best is trial 18 with value: 0.9757358803061795.\u001b[0m\n",
            "\n",
            "\n",
            "num_leaves, val_score: 0.975736:  85%|########5 | 17/20 [40:50<06:28, 129.45s/it]\u001b[A\u001b[A"
          ],
          "name": "stderr"
        },
        {
          "output_type": "stream",
          "text": [
            "Early stopping, best iteration is:\n",
            "[598]\tvalid_0's l1: 1.01958\n",
            "Training until validation scores don't improve for 100 rounds.\n",
            "[100]\tvalid_0's l1: 1.00618\n",
            "[200]\tvalid_0's l1: 0.998766\n",
            "[300]\tvalid_0's l1: 0.99624\n",
            "[400]\tvalid_0's l1: 0.99391\n",
            "[500]\tvalid_0's l1: 0.992192\n",
            "[600]\tvalid_0's l1: 0.991232\n",
            "[700]\tvalid_0's l1: 0.989606\n",
            "[800]\tvalid_0's l1: 0.989236\n",
            "[900]\tvalid_0's l1: 0.988023\n",
            "[1000]\tvalid_0's l1: 0.987354\n",
            "[1100]\tvalid_0's l1: 0.987218\n",
            "[1200]\tvalid_0's l1: 0.986668\n"
          ],
          "name": "stdout"
        },
        {
          "output_type": "stream",
          "text": [
            "\n",
            "\n",
            "num_leaves, val_score: 0.975736:  85%|########5 | 17/20 [42:40<06:28, 129.45s/it]\u001b[A\u001b[A\n",
            "\n",
            "num_leaves, val_score: 0.975736:  90%|######### | 18/20 [42:40<04:07, 123.61s/it]\u001b[A\u001b[A"
          ],
          "name": "stderr"
        },
        {
          "output_type": "stream",
          "text": [
            "Early stopping, best iteration is:\n",
            "[1161]\tvalid_0's l1: 0.986398\n"
          ],
          "name": "stdout"
        },
        {
          "output_type": "stream",
          "text": [
            "\u001b[32m[I 2021-07-07 22:46:00,012]\u001b[0m Trial 24 finished with value: 0.9863983990877558 and parameters: {'num_leaves': 165}. Best is trial 18 with value: 0.9757358803061795.\u001b[0m\n",
            "\n",
            "\n",
            "num_leaves, val_score: 0.975736:  90%|######### | 18/20 [42:40<04:07, 123.61s/it]\u001b[A\u001b[A"
          ],
          "name": "stderr"
        },
        {
          "output_type": "stream",
          "text": [
            "Training until validation scores don't improve for 100 rounds.\n",
            "[100]\tvalid_0's l1: 1.09474\n",
            "[200]\tvalid_0's l1: 1.05596\n",
            "[300]\tvalid_0's l1: 1.04437\n",
            "[400]\tvalid_0's l1: 1.03867\n",
            "[500]\tvalid_0's l1: 1.03599\n",
            "[600]\tvalid_0's l1: 1.03117\n",
            "[700]\tvalid_0's l1: 1.02922\n",
            "[800]\tvalid_0's l1: 1.02929\n",
            "[900]\tvalid_0's l1: 1.02914\n"
          ],
          "name": "stdout"
        },
        {
          "output_type": "stream",
          "text": [
            "\n",
            "\n",
            "num_leaves, val_score: 0.975736:  90%|######### | 18/20 [43:44<04:07, 123.61s/it]\u001b[A\u001b[A\n",
            "\n",
            "num_leaves, val_score: 0.975736:  95%|#########5| 19/20 [43:44<01:45, 105.96s/it]\u001b[A\u001b[A\u001b[32m[I 2021-07-07 22:47:04,765]\u001b[0m Trial 25 finished with value: 1.0287035913297584 and parameters: {'num_leaves': 4}. Best is trial 18 with value: 0.9757358803061795.\u001b[0m\n",
            "\n",
            "\n",
            "num_leaves, val_score: 0.975736:  95%|#########5| 19/20 [43:44<01:45, 105.96s/it]\u001b[A\u001b[A"
          ],
          "name": "stderr"
        },
        {
          "output_type": "stream",
          "text": [
            "Early stopping, best iteration is:\n",
            "[837]\tvalid_0's l1: 1.0287\n",
            "Training until validation scores don't improve for 100 rounds.\n",
            "[100]\tvalid_0's l1: 1.00361\n",
            "[200]\tvalid_0's l1: 0.998499\n",
            "[300]\tvalid_0's l1: 0.994101\n",
            "[400]\tvalid_0's l1: 0.992992\n",
            "[500]\tvalid_0's l1: 0.990991\n",
            "[600]\tvalid_0's l1: 0.989619\n",
            "[700]\tvalid_0's l1: 0.987894\n",
            "[800]\tvalid_0's l1: 0.987173\n",
            "[900]\tvalid_0's l1: 0.98647\n",
            "[1000]\tvalid_0's l1: 0.98599\n",
            "[1100]\tvalid_0's l1: 0.985341\n",
            "[1200]\tvalid_0's l1: 0.98479\n",
            "[1300]\tvalid_0's l1: 0.984196\n",
            "[1400]\tvalid_0's l1: 0.984045\n",
            "Early stopping, best iteration is:\n",
            "[1354]\tvalid_0's l1: 0.983863\n"
          ],
          "name": "stdout"
        },
        {
          "output_type": "stream",
          "text": [
            "\n",
            "\n",
            "num_leaves, val_score: 0.975736:  95%|#########5| 19/20 [46:01<01:45, 105.96s/it]\u001b[A\u001b[A\n",
            "\n",
            "num_leaves, val_score: 0.975736: 100%|##########| 20/20 [46:01<00:00, 115.31s/it]\u001b[A\u001b[A\u001b[32m[I 2021-07-07 22:49:21,908]\u001b[0m Trial 26 finished with value: 0.9838629535144343 and parameters: {'num_leaves': 233}. Best is trial 18 with value: 0.9757358803061795.\u001b[0m\n",
            "num_leaves, val_score: 0.975736: 100%|##########| 20/20 [46:01<00:00, 138.10s/it]\n",
            "\n",
            "\n",
            "  0%|          | 0/10 [00:00<?, ?it/s]\u001b[A\u001b[A\n",
            "\n",
            "bagging, val_score: 0.975736:   0%|          | 0/10 [00:00<?, ?it/s]\u001b[A\u001b[A"
          ],
          "name": "stderr"
        },
        {
          "output_type": "stream",
          "text": [
            "Training until validation scores don't improve for 100 rounds.\n",
            "[100]\tvalid_0's l1: 1.00148\n",
            "[200]\tvalid_0's l1: 0.995661\n",
            "[300]\tvalid_0's l1: 0.991098\n",
            "[400]\tvalid_0's l1: 0.989183\n",
            "[500]\tvalid_0's l1: 0.986667\n",
            "[600]\tvalid_0's l1: 0.985362\n",
            "[700]\tvalid_0's l1: 0.983693\n",
            "[800]\tvalid_0's l1: 0.982607\n",
            "[900]\tvalid_0's l1: 0.981817\n",
            "[1000]\tvalid_0's l1: 0.981132\n",
            "[1100]\tvalid_0's l1: 0.980689\n",
            "[1200]\tvalid_0's l1: 0.980387\n",
            "[1300]\tvalid_0's l1: 0.979558\n",
            "[1400]\tvalid_0's l1: 0.979244\n",
            "[1500]\tvalid_0's l1: 0.97871\n",
            "Early stopping, best iteration is:\n",
            "[1478]\tvalid_0's l1: 0.978655\n"
          ],
          "name": "stdout"
        },
        {
          "output_type": "stream",
          "text": [
            "\n",
            "\n",
            "bagging, val_score: 0.975736:   0%|          | 0/10 [02:30<?, ?it/s]\u001b[A\u001b[A\n",
            "\n",
            "bagging, val_score: 0.975736:  10%|#         | 1/10 [02:30<22:36, 150.71s/it]\u001b[A\u001b[A\u001b[32m[I 2021-07-07 22:51:52,643]\u001b[0m Trial 27 finished with value: 0.9786549983571959 and parameters: {'bagging_fraction': 0.8012468856554639, 'bagging_freq': 4}. Best is trial 27 with value: 0.9786549983571959.\u001b[0m\n",
            "\n",
            "\n",
            "bagging, val_score: 0.975736:  10%|#         | 1/10 [02:30<22:36, 150.71s/it]\u001b[A\u001b[A"
          ],
          "name": "stderr"
        },
        {
          "output_type": "stream",
          "text": [
            "Training until validation scores don't improve for 100 rounds.\n",
            "[100]\tvalid_0's l1: 1.00109\n",
            "[200]\tvalid_0's l1: 0.996026\n",
            "[300]\tvalid_0's l1: 0.991731\n",
            "[400]\tvalid_0's l1: 0.989111\n",
            "[500]\tvalid_0's l1: 0.986792\n",
            "[600]\tvalid_0's l1: 0.984589\n",
            "[700]\tvalid_0's l1: 0.983368\n",
            "[800]\tvalid_0's l1: 0.982965\n",
            "[900]\tvalid_0's l1: 0.982234\n",
            "[1000]\tvalid_0's l1: 0.9815\n",
            "[1100]\tvalid_0's l1: 0.980511\n",
            "[1200]\tvalid_0's l1: 0.980621\n",
            "Early stopping, best iteration is:\n",
            "[1114]\tvalid_0's l1: 0.980479\n"
          ],
          "name": "stdout"
        },
        {
          "output_type": "stream",
          "text": [
            "\n",
            "\n",
            "bagging, val_score: 0.975736:  10%|#         | 1/10 [04:11<22:36, 150.71s/it]\u001b[A\u001b[A\n",
            "\n",
            "bagging, val_score: 0.975736:  20%|##        | 2/10 [04:11<18:05, 135.70s/it]\u001b[A\u001b[A\u001b[32m[I 2021-07-07 22:53:33,312]\u001b[0m Trial 28 finished with value: 0.9804789078755901 and parameters: {'bagging_fraction': 0.5866021678077386, 'bagging_freq': 2}. Best is trial 27 with value: 0.9786549983571959.\u001b[0m\n",
            "\n",
            "\n",
            "bagging, val_score: 0.975736:  20%|##        | 2/10 [04:11<18:05, 135.70s/it]\u001b[A\u001b[A"
          ],
          "name": "stderr"
        },
        {
          "output_type": "stream",
          "text": [
            "Training until validation scores don't improve for 100 rounds.\n",
            "[100]\tvalid_0's l1: 1.00079\n",
            "[200]\tvalid_0's l1: 0.994693\n",
            "[300]\tvalid_0's l1: 0.991293\n",
            "[400]\tvalid_0's l1: 0.989056\n",
            "[500]\tvalid_0's l1: 0.987489\n",
            "[600]\tvalid_0's l1: 0.985176\n",
            "[700]\tvalid_0's l1: 0.983834\n",
            "[800]\tvalid_0's l1: 0.983003\n",
            "[900]\tvalid_0's l1: 0.9821\n",
            "[1000]\tvalid_0's l1: 0.981131\n",
            "[1100]\tvalid_0's l1: 0.980246\n",
            "[1200]\tvalid_0's l1: 0.98056\n",
            "[1300]\tvalid_0's l1: 0.97989\n",
            "[1400]\tvalid_0's l1: 0.979586\n",
            "[1500]\tvalid_0's l1: 0.97937\n",
            "[1600]\tvalid_0's l1: 0.979028\n",
            "Early stopping, best iteration is:\n",
            "[1564]\tvalid_0's l1: 0.978993\n"
          ],
          "name": "stdout"
        },
        {
          "output_type": "stream",
          "text": [
            "\n",
            "\n",
            "bagging, val_score: 0.975736:  20%|##        | 2/10 [07:03<18:05, 135.70s/it]\u001b[A\u001b[A\n",
            "\n",
            "bagging, val_score: 0.975736:  30%|###       | 3/10 [07:03<17:07, 146.76s/it]\u001b[A\u001b[A\u001b[32m[I 2021-07-07 22:56:25,897]\u001b[0m Trial 29 finished with value: 0.9789934576870929 and parameters: {'bagging_fraction': 0.8446724818177791, 'bagging_freq': 4}. Best is trial 27 with value: 0.9786549983571959.\u001b[0m\n",
            "\n",
            "\n",
            "bagging, val_score: 0.975736:  30%|###       | 3/10 [07:03<17:07, 146.76s/it]\u001b[A\u001b[A"
          ],
          "name": "stderr"
        },
        {
          "output_type": "stream",
          "text": [
            "Training until validation scores don't improve for 100 rounds.\n",
            "[100]\tvalid_0's l1: 0.999285\n",
            "[200]\tvalid_0's l1: 0.994685\n",
            "[300]\tvalid_0's l1: 0.992228\n",
            "[400]\tvalid_0's l1: 0.990467\n",
            "[500]\tvalid_0's l1: 0.988735\n",
            "[600]\tvalid_0's l1: 0.986882\n",
            "[700]\tvalid_0's l1: 0.985461\n",
            "[800]\tvalid_0's l1: 0.984277\n",
            "[900]\tvalid_0's l1: 0.983228\n",
            "[1000]\tvalid_0's l1: 0.982382\n",
            "[1100]\tvalid_0's l1: 0.981959\n",
            "Early stopping, best iteration is:\n",
            "[1081]\tvalid_0's l1: 0.981914\n"
          ],
          "name": "stdout"
        },
        {
          "output_type": "stream",
          "text": [
            "\n",
            "\n",
            "bagging, val_score: 0.975736:  30%|###       | 3/10 [08:59<17:07, 146.76s/it]\u001b[A\u001b[A\n",
            "\n",
            "bagging, val_score: 0.975736:  40%|####      | 4/10 [08:59<13:44, 137.50s/it]\u001b[A\u001b[A\u001b[32m[I 2021-07-07 22:58:21,783]\u001b[0m Trial 30 finished with value: 0.981913896680827 and parameters: {'bagging_fraction': 0.7837731755459136, 'bagging_freq': 7}. Best is trial 27 with value: 0.9786549983571959.\u001b[0m\n",
            "\n",
            "\n",
            "bagging, val_score: 0.975736:  40%|####      | 4/10 [08:59<13:44, 137.50s/it]\u001b[A\u001b[A"
          ],
          "name": "stderr"
        },
        {
          "output_type": "stream",
          "text": [
            "Training until validation scores don't improve for 100 rounds.\n",
            "[100]\tvalid_0's l1: 0.99936\n",
            "[200]\tvalid_0's l1: 0.995394\n",
            "[300]\tvalid_0's l1: 0.991732\n",
            "[400]\tvalid_0's l1: 0.989606\n",
            "[500]\tvalid_0's l1: 0.987422\n",
            "[600]\tvalid_0's l1: 0.98608\n",
            "[700]\tvalid_0's l1: 0.984809\n",
            "[800]\tvalid_0's l1: 0.984021\n",
            "[900]\tvalid_0's l1: 0.983408\n",
            "[1000]\tvalid_0's l1: 0.981377\n",
            "[1100]\tvalid_0's l1: 0.981602\n",
            "Early stopping, best iteration is:\n",
            "[1000]\tvalid_0's l1: 0.981377\n"
          ],
          "name": "stdout"
        },
        {
          "output_type": "stream",
          "text": [
            "\n",
            "\n",
            "bagging, val_score: 0.975736:  40%|####      | 4/10 [11:02<13:44, 137.50s/it]\u001b[A\u001b[A\n",
            "\n",
            "bagging, val_score: 0.975736:  50%|#####     | 5/10 [11:02<11:04, 132.94s/it]\u001b[A\u001b[A\u001b[32m[I 2021-07-07 23:00:24,088]\u001b[0m Trial 31 finished with value: 0.9813769421054662 and parameters: {'bagging_fraction': 0.9144086641445323, 'bagging_freq': 3}. Best is trial 27 with value: 0.9786549983571959.\u001b[0m\n",
            "\n",
            "\n",
            "bagging, val_score: 0.975736:  50%|#####     | 5/10 [11:02<11:04, 132.94s/it]\u001b[A\u001b[A"
          ],
          "name": "stderr"
        },
        {
          "output_type": "stream",
          "text": [
            "Training until validation scores don't improve for 100 rounds.\n",
            "[100]\tvalid_0's l1: 1.0009\n",
            "[200]\tvalid_0's l1: 0.996262\n",
            "[300]\tvalid_0's l1: 0.992458\n",
            "[400]\tvalid_0's l1: 0.989758\n",
            "[500]\tvalid_0's l1: 0.987133\n",
            "[600]\tvalid_0's l1: 0.986169\n",
            "[700]\tvalid_0's l1: 0.985286\n",
            "[800]\tvalid_0's l1: 0.984822\n",
            "[900]\tvalid_0's l1: 0.983762\n",
            "[1000]\tvalid_0's l1: 0.983065\n",
            "[1100]\tvalid_0's l1: 0.982675\n",
            "[1200]\tvalid_0's l1: 0.981783\n",
            "[1300]\tvalid_0's l1: 0.981196\n",
            "[1400]\tvalid_0's l1: 0.980655\n",
            "[1500]\tvalid_0's l1: 0.979981\n",
            "[1600]\tvalid_0's l1: 0.979408\n",
            "[1700]\tvalid_0's l1: 0.978961\n",
            "[1800]\tvalid_0's l1: 0.978876\n",
            "[1900]\tvalid_0's l1: 0.978353\n",
            "Early stopping, best iteration is:\n",
            "[1876]\tvalid_0's l1: 0.97828\n"
          ],
          "name": "stdout"
        },
        {
          "output_type": "stream",
          "text": [
            "\n",
            "\n",
            "bagging, val_score: 0.975736:  50%|#####     | 5/10 [14:19<11:04, 132.94s/it]\u001b[A\u001b[A\n",
            "\n",
            "bagging, val_score: 0.975736:  60%|######    | 6/10 [14:19<10:09, 152.33s/it]\u001b[A\u001b[A\u001b[32m[I 2021-07-07 23:03:41,662]\u001b[0m Trial 32 finished with value: 0.9782800593507526 and parameters: {'bagging_fraction': 0.9913147944889543, 'bagging_freq': 1}. Best is trial 32 with value: 0.9782800593507526.\u001b[0m\n",
            "\n",
            "\n",
            "bagging, val_score: 0.975736:  60%|######    | 6/10 [14:19<10:09, 152.33s/it]\u001b[A\u001b[A"
          ],
          "name": "stderr"
        },
        {
          "output_type": "stream",
          "text": [
            "Training until validation scores don't improve for 100 rounds.\n",
            "[100]\tvalid_0's l1: 0.999708\n",
            "[200]\tvalid_0's l1: 0.995157\n",
            "[300]\tvalid_0's l1: 0.992224\n",
            "[400]\tvalid_0's l1: 0.990227\n",
            "[500]\tvalid_0's l1: 0.987563\n",
            "[600]\tvalid_0's l1: 0.986241\n",
            "[700]\tvalid_0's l1: 0.983989\n",
            "[800]\tvalid_0's l1: 0.982338\n",
            "[900]\tvalid_0's l1: 0.981435\n",
            "[1000]\tvalid_0's l1: 0.980314\n",
            "[1100]\tvalid_0's l1: 0.979983\n",
            "[1200]\tvalid_0's l1: 0.979247\n",
            "[1300]\tvalid_0's l1: 0.978877\n",
            "[1400]\tvalid_0's l1: 0.978917\n",
            "Early stopping, best iteration is:\n",
            "[1328]\tvalid_0's l1: 0.978793\n"
          ],
          "name": "stdout"
        },
        {
          "output_type": "stream",
          "text": [
            "\n",
            "\n",
            "bagging, val_score: 0.975736:  60%|######    | 6/10 [16:27<10:09, 152.33s/it]\u001b[A\u001b[A\n",
            "\n",
            "bagging, val_score: 0.975736:  70%|#######   | 7/10 [16:27<07:14, 144.90s/it]\u001b[A\u001b[A\u001b[32m[I 2021-07-07 23:05:49,207]\u001b[0m Trial 33 finished with value: 0.9787929533992134 and parameters: {'bagging_fraction': 0.701784551998311, 'bagging_freq': 6}. Best is trial 32 with value: 0.9782800593507526.\u001b[0m\n",
            "\n",
            "\n",
            "bagging, val_score: 0.975736:  70%|#######   | 7/10 [16:27<07:14, 144.90s/it]\u001b[A\u001b[A"
          ],
          "name": "stderr"
        },
        {
          "output_type": "stream",
          "text": [
            "Training until validation scores don't improve for 100 rounds.\n",
            "[100]\tvalid_0's l1: 0.997643\n",
            "[200]\tvalid_0's l1: 0.992525\n",
            "[300]\tvalid_0's l1: 0.989503\n",
            "[400]\tvalid_0's l1: 0.987223\n",
            "[500]\tvalid_0's l1: 0.985988\n",
            "[600]\tvalid_0's l1: 0.985236\n",
            "[700]\tvalid_0's l1: 0.982953\n",
            "[800]\tvalid_0's l1: 0.981888\n",
            "[900]\tvalid_0's l1: 0.981111\n",
            "[1000]\tvalid_0's l1: 0.980153\n",
            "[1100]\tvalid_0's l1: 0.979438\n",
            "[1200]\tvalid_0's l1: 0.979195\n",
            "Early stopping, best iteration is:\n",
            "[1105]\tvalid_0's l1: 0.979097\n"
          ],
          "name": "stdout"
        },
        {
          "output_type": "stream",
          "text": [
            "\n",
            "\n",
            "bagging, val_score: 0.975736:  70%|#######   | 7/10 [18:08<07:14, 144.90s/it]\u001b[A\u001b[A\n",
            "\n",
            "bagging, val_score: 0.975736:  80%|########  | 8/10 [18:08<04:23, 131.82s/it]\u001b[A\u001b[A\u001b[32m[I 2021-07-07 23:07:30,514]\u001b[0m Trial 34 finished with value: 0.9790973023303531 and parameters: {'bagging_fraction': 0.5758948280922237, 'bagging_freq': 3}. Best is trial 32 with value: 0.9782800593507526.\u001b[0m\n",
            "\n",
            "\n",
            "bagging, val_score: 0.975736:  80%|########  | 8/10 [18:08<04:23, 131.82s/it]\u001b[A\u001b[A"
          ],
          "name": "stderr"
        },
        {
          "output_type": "stream",
          "text": [
            "Training until validation scores don't improve for 100 rounds.\n",
            "[100]\tvalid_0's l1: 0.997644\n",
            "[200]\tvalid_0's l1: 0.992285\n",
            "[300]\tvalid_0's l1: 0.987056\n",
            "[400]\tvalid_0's l1: 0.985042\n",
            "[500]\tvalid_0's l1: 0.984434\n",
            "[600]\tvalid_0's l1: 0.982558\n",
            "[700]\tvalid_0's l1: 0.981441\n",
            "[800]\tvalid_0's l1: 0.980179\n",
            "[900]\tvalid_0's l1: 0.979175\n",
            "[1000]\tvalid_0's l1: 0.978689\n",
            "[1100]\tvalid_0's l1: 0.977795\n",
            "[1200]\tvalid_0's l1: 0.977254\n",
            "Early stopping, best iteration is:\n",
            "[1192]\tvalid_0's l1: 0.977211\n"
          ],
          "name": "stdout"
        },
        {
          "output_type": "stream",
          "text": [
            "\n",
            "\n",
            "bagging, val_score: 0.975736:  80%|########  | 8/10 [20:28<04:23, 131.82s/it]\u001b[A\u001b[A\n",
            "\n",
            "bagging, val_score: 0.975736:  90%|######### | 9/10 [20:28<02:14, 134.28s/it]\u001b[A\u001b[A\u001b[32m[I 2021-07-07 23:09:50,545]\u001b[0m Trial 35 finished with value: 0.9772114372008004 and parameters: {'bagging_fraction': 0.8479680292345133, 'bagging_freq': 2}. Best is trial 35 with value: 0.9772114372008004.\u001b[0m\n",
            "\n",
            "\n",
            "bagging, val_score: 0.975736:  90%|######### | 9/10 [20:28<02:14, 134.28s/it]\u001b[A\u001b[A"
          ],
          "name": "stderr"
        },
        {
          "output_type": "stream",
          "text": [
            "Training until validation scores don't improve for 100 rounds.\n",
            "[100]\tvalid_0's l1: 0.997945\n",
            "[200]\tvalid_0's l1: 0.993656\n",
            "[300]\tvalid_0's l1: 0.99128\n",
            "[400]\tvalid_0's l1: 0.98877\n",
            "[500]\tvalid_0's l1: 0.986195\n",
            "[600]\tvalid_0's l1: 0.98369\n",
            "[700]\tvalid_0's l1: 0.982796\n",
            "[800]\tvalid_0's l1: 0.981198\n",
            "[900]\tvalid_0's l1: 0.981205\n"
          ],
          "name": "stdout"
        },
        {
          "output_type": "stream",
          "text": [
            "\n",
            "\n",
            "bagging, val_score: 0.975736:  90%|######### | 9/10 [21:35<02:14, 134.28s/it]\u001b[A\u001b[A\n",
            "\n",
            "bagging, val_score: 0.975736: 100%|##########| 10/10 [21:35<00:00, 114.12s/it]\u001b[A\u001b[A"
          ],
          "name": "stderr"
        },
        {
          "output_type": "stream",
          "text": [
            "Early stopping, best iteration is:\n",
            "[806]\tvalid_0's l1: 0.981032\n"
          ],
          "name": "stdout"
        },
        {
          "output_type": "stream",
          "text": [
            "\u001b[32m[I 2021-07-07 23:10:57,603]\u001b[0m Trial 36 finished with value: 0.9810316178439513 and parameters: {'bagging_fraction': 0.40663307502501156, 'bagging_freq': 2}. Best is trial 35 with value: 0.9772114372008004.\u001b[0m\n",
            "bagging, val_score: 0.975736: 100%|##########| 10/10 [21:35<00:00, 129.57s/it]\n",
            "\n",
            "\n",
            "  0%|          | 0/6 [00:00<?, ?it/s]\u001b[A\u001b[A\n",
            "\n",
            "feature_fraction_stage2, val_score: 0.975736:   0%|          | 0/6 [00:00<?, ?it/s]\u001b[A\u001b[A"
          ],
          "name": "stderr"
        },
        {
          "output_type": "stream",
          "text": [
            "Training until validation scores don't improve for 100 rounds.\n",
            "[100]\tvalid_0's l1: 0.999342\n",
            "[200]\tvalid_0's l1: 0.993945\n",
            "[300]\tvalid_0's l1: 0.990227\n",
            "[400]\tvalid_0's l1: 0.987781\n",
            "[500]\tvalid_0's l1: 0.98631\n",
            "[600]\tvalid_0's l1: 0.984385\n",
            "[700]\tvalid_0's l1: 0.984068\n",
            "[800]\tvalid_0's l1: 0.983811\n",
            "[900]\tvalid_0's l1: 0.981864\n",
            "[1000]\tvalid_0's l1: 0.981511\n",
            "[1100]\tvalid_0's l1: 0.980827\n",
            "[1200]\tvalid_0's l1: 0.979783\n",
            "[1300]\tvalid_0's l1: 0.97928\n",
            "[1400]\tvalid_0's l1: 0.978669\n",
            "[1500]\tvalid_0's l1: 0.978446\n",
            "[1600]\tvalid_0's l1: 0.978104\n",
            "[1700]\tvalid_0's l1: 0.977781\n",
            "[1800]\tvalid_0's l1: 0.977639\n",
            "[1900]\tvalid_0's l1: 0.97779\n",
            "Early stopping, best iteration is:\n",
            "[1893]\tvalid_0's l1: 0.977165\n"
          ],
          "name": "stdout"
        },
        {
          "output_type": "stream",
          "text": [
            "\n",
            "\n",
            "feature_fraction_stage2, val_score: 0.975736:   0%|          | 0/6 [02:49<?, ?it/s]\u001b[A\u001b[A\n",
            "\n",
            "feature_fraction_stage2, val_score: 0.975736:  17%|#6        | 1/6 [02:49<14:09, 169.87s/it]\u001b[A\u001b[A\u001b[32m[I 2021-07-07 23:13:47,495]\u001b[0m Trial 37 finished with value: 0.977165444224487 and parameters: {'feature_fraction': 0.42}. Best is trial 37 with value: 0.977165444224487.\u001b[0m\n",
            "\n",
            "\n",
            "feature_fraction_stage2, val_score: 0.975736:  17%|#6        | 1/6 [02:49<14:09, 169.87s/it]\u001b[A\u001b[A"
          ],
          "name": "stderr"
        },
        {
          "output_type": "stream",
          "text": [
            "Training until validation scores don't improve for 100 rounds.\n",
            "[100]\tvalid_0's l1: 0.998927\n",
            "[200]\tvalid_0's l1: 0.995254\n",
            "[300]\tvalid_0's l1: 0.992067\n",
            "[400]\tvalid_0's l1: 0.989109\n",
            "[500]\tvalid_0's l1: 0.986881\n",
            "[600]\tvalid_0's l1: 0.986525\n",
            "[700]\tvalid_0's l1: 0.984995\n",
            "[800]\tvalid_0's l1: 0.98275\n",
            "[900]\tvalid_0's l1: 0.981412\n",
            "[1000]\tvalid_0's l1: 0.979787\n",
            "[1100]\tvalid_0's l1: 0.979557\n",
            "[1200]\tvalid_0's l1: 0.979318\n",
            "Early stopping, best iteration is:\n",
            "[1120]\tvalid_0's l1: 0.979301\n"
          ],
          "name": "stdout"
        },
        {
          "output_type": "stream",
          "text": [
            "\n",
            "\n",
            "feature_fraction_stage2, val_score: 0.975736:  17%|#6        | 1/6 [04:36<14:09, 169.87s/it]\u001b[A\u001b[A\n",
            "\n",
            "feature_fraction_stage2, val_score: 0.975736:  33%|###3      | 2/6 [04:36<10:03, 150.87s/it]\u001b[A\u001b[A\u001b[32m[I 2021-07-07 23:15:34,019]\u001b[0m Trial 38 finished with value: 0.9793008056005748 and parameters: {'feature_fraction': 0.45199999999999996}. Best is trial 37 with value: 0.977165444224487.\u001b[0m\n",
            "\n",
            "\n",
            "feature_fraction_stage2, val_score: 0.975736:  33%|###3      | 2/6 [04:36<10:03, 150.87s/it]\u001b[A\u001b[A"
          ],
          "name": "stderr"
        },
        {
          "output_type": "stream",
          "text": [
            "Training until validation scores don't improve for 100 rounds.\n",
            "[100]\tvalid_0's l1: 0.999848\n",
            "[200]\tvalid_0's l1: 0.995645\n",
            "[300]\tvalid_0's l1: 0.993758\n",
            "[400]\tvalid_0's l1: 0.991268\n",
            "[500]\tvalid_0's l1: 0.989205\n",
            "[600]\tvalid_0's l1: 0.987593\n",
            "[700]\tvalid_0's l1: 0.985927\n",
            "[800]\tvalid_0's l1: 0.985326\n",
            "[900]\tvalid_0's l1: 0.984285\n",
            "[1000]\tvalid_0's l1: 0.983744\n",
            "[1100]\tvalid_0's l1: 0.983155\n",
            "[1200]\tvalid_0's l1: 0.982631\n",
            "[1300]\tvalid_0's l1: 0.982403\n",
            "[1400]\tvalid_0's l1: 0.981873\n",
            "[1500]\tvalid_0's l1: 0.981\n",
            "[1600]\tvalid_0's l1: 0.980959\n",
            "Early stopping, best iteration is:\n",
            "[1549]\tvalid_0's l1: 0.980736\n"
          ],
          "name": "stdout"
        },
        {
          "output_type": "stream",
          "text": [
            "\n",
            "\n",
            "feature_fraction_stage2, val_score: 0.975736:  33%|###3      | 2/6 [07:06<10:03, 150.87s/it]\u001b[A\u001b[A\n",
            "\n",
            "feature_fraction_stage2, val_score: 0.975736:  50%|#####     | 3/6 [07:06<07:32, 150.74s/it]\u001b[A\u001b[A\u001b[32m[I 2021-07-07 23:18:04,472]\u001b[0m Trial 39 finished with value: 0.9807355140319096 and parameters: {'feature_fraction': 0.5479999999999999}. Best is trial 37 with value: 0.977165444224487.\u001b[0m\n",
            "\n",
            "\n",
            "feature_fraction_stage2, val_score: 0.975736:  50%|#####     | 3/6 [07:06<07:32, 150.74s/it]\u001b[A\u001b[A"
          ],
          "name": "stderr"
        },
        {
          "output_type": "stream",
          "text": [
            "Training until validation scores don't improve for 100 rounds.\n",
            "[100]\tvalid_0's l1: 1.00035\n",
            "[200]\tvalid_0's l1: 0.998033\n",
            "[300]\tvalid_0's l1: 0.994666\n",
            "[400]\tvalid_0's l1: 0.992165\n",
            "[500]\tvalid_0's l1: 0.990668\n",
            "[600]\tvalid_0's l1: 0.989533\n",
            "[700]\tvalid_0's l1: 0.988117\n",
            "[800]\tvalid_0's l1: 0.986684\n",
            "[900]\tvalid_0's l1: 0.986052\n",
            "[1000]\tvalid_0's l1: 0.98571\n",
            "[1100]\tvalid_0's l1: 0.985443\n",
            "[1200]\tvalid_0's l1: 0.983519\n",
            "[1300]\tvalid_0's l1: 0.982574\n",
            "[1400]\tvalid_0's l1: 0.981927\n",
            "[1500]\tvalid_0's l1: 0.981628\n",
            "[1600]\tvalid_0's l1: 0.981587\n",
            "Early stopping, best iteration is:\n",
            "[1560]\tvalid_0's l1: 0.981434\n"
          ],
          "name": "stdout"
        },
        {
          "output_type": "stream",
          "text": [
            "\n",
            "\n",
            "feature_fraction_stage2, val_score: 0.975736:  50%|#####     | 3/6 [09:41<07:32, 150.74s/it]\u001b[A\u001b[A\n",
            "\n",
            "feature_fraction_stage2, val_score: 0.975736:  67%|######6   | 4/6 [09:41<05:04, 152.00s/it]\u001b[A\u001b[A\u001b[32m[I 2021-07-07 23:20:39,413]\u001b[0m Trial 40 finished with value: 0.9814338564441131 and parameters: {'feature_fraction': 0.58}. Best is trial 37 with value: 0.977165444224487.\u001b[0m\n",
            "\n",
            "\n",
            "feature_fraction_stage2, val_score: 0.975736:  67%|######6   | 4/6 [09:41<05:04, 152.00s/it]\u001b[A\u001b[A"
          ],
          "name": "stderr"
        },
        {
          "output_type": "stream",
          "text": [
            "Training until validation scores don't improve for 100 rounds.\n",
            "[100]\tvalid_0's l1: 0.999606\n",
            "[200]\tvalid_0's l1: 0.995017\n",
            "[300]\tvalid_0's l1: 0.991548\n",
            "[400]\tvalid_0's l1: 0.988907\n",
            "[500]\tvalid_0's l1: 0.98608\n",
            "[600]\tvalid_0's l1: 0.984593\n",
            "[700]\tvalid_0's l1: 0.98367\n",
            "[800]\tvalid_0's l1: 0.981965\n",
            "[900]\tvalid_0's l1: 0.980952\n",
            "[1000]\tvalid_0's l1: 0.980087\n",
            "[1100]\tvalid_0's l1: 0.979894\n",
            "Early stopping, best iteration is:\n",
            "[1075]\tvalid_0's l1: 0.979808\n"
          ],
          "name": "stdout"
        },
        {
          "output_type": "stream",
          "text": [
            "\n",
            "\n",
            "feature_fraction_stage2, val_score: 0.975736:  67%|######6   | 4/6 [11:29<05:04, 152.00s/it]\u001b[A\u001b[A\n",
            "\n",
            "feature_fraction_stage2, val_score: 0.975736:  83%|########3 | 5/6 [11:29<02:18, 138.78s/it]\u001b[A\u001b[A\u001b[32m[I 2021-07-07 23:22:27,335]\u001b[0m Trial 41 finished with value: 0.9798080032980299 and parameters: {'feature_fraction': 0.516}. Best is trial 37 with value: 0.977165444224487.\u001b[0m\n",
            "\n",
            "\n",
            "feature_fraction_stage2, val_score: 0.975736:  83%|########3 | 5/6 [11:29<02:18, 138.78s/it]\u001b[A\u001b[A"
          ],
          "name": "stderr"
        },
        {
          "output_type": "stream",
          "text": [
            "Training until validation scores don't improve for 100 rounds.\n",
            "[100]\tvalid_0's l1: 1.00065\n",
            "[200]\tvalid_0's l1: 0.99544\n",
            "[300]\tvalid_0's l1: 0.992561\n",
            "[400]\tvalid_0's l1: 0.990271\n",
            "[500]\tvalid_0's l1: 0.988418\n",
            "[600]\tvalid_0's l1: 0.986151\n",
            "[700]\tvalid_0's l1: 0.984965\n",
            "[800]\tvalid_0's l1: 0.983642\n",
            "[900]\tvalid_0's l1: 0.983017\n",
            "[1000]\tvalid_0's l1: 0.982478\n",
            "[1100]\tvalid_0's l1: 0.982566\n",
            "Early stopping, best iteration is:\n",
            "[1060]\tvalid_0's l1: 0.982395\n"
          ],
          "name": "stdout"
        },
        {
          "output_type": "stream",
          "text": [
            "\n",
            "\n",
            "feature_fraction_stage2, val_score: 0.975736:  83%|########3 | 5/6 [13:14<02:18, 138.78s/it]\u001b[A\u001b[A\n",
            "\n",
            "feature_fraction_stage2, val_score: 0.975736: 100%|##########| 6/6 [13:14<00:00, 128.54s/it]\u001b[A\u001b[A\u001b[32m[I 2021-07-07 23:24:11,997]\u001b[0m Trial 42 finished with value: 0.9823953117287642 and parameters: {'feature_fraction': 0.484}. Best is trial 37 with value: 0.977165444224487.\u001b[0m\n",
            "feature_fraction_stage2, val_score: 0.975736: 100%|##########| 6/6 [13:14<00:00, 132.40s/it]\n",
            "\n",
            "\n",
            "  0%|          | 0/20 [00:00<?, ?it/s]\u001b[A\u001b[A\n",
            "\n",
            "regularization_factors, val_score: 0.975736:   0%|          | 0/20 [00:00<?, ?it/s]\u001b[A\u001b[A"
          ],
          "name": "stderr"
        },
        {
          "output_type": "stream",
          "text": [
            "Training until validation scores don't improve for 100 rounds.\n",
            "[100]\tvalid_0's l1: 0.999376\n",
            "[200]\tvalid_0's l1: 0.994462\n",
            "[300]\tvalid_0's l1: 0.993295\n",
            "[400]\tvalid_0's l1: 0.991145\n",
            "[500]\tvalid_0's l1: 0.988706\n",
            "[600]\tvalid_0's l1: 0.986434\n",
            "[700]\tvalid_0's l1: 0.984676\n",
            "[800]\tvalid_0's l1: 0.984438\n",
            "[900]\tvalid_0's l1: 0.982989\n",
            "[1000]\tvalid_0's l1: 0.982178\n",
            "[1100]\tvalid_0's l1: 0.982507\n",
            "Early stopping, best iteration is:\n",
            "[1007]\tvalid_0's l1: 0.982146\n"
          ],
          "name": "stdout"
        },
        {
          "output_type": "stream",
          "text": [
            "\n",
            "\n",
            "regularization_factors, val_score: 0.975736:   0%|          | 0/20 [01:40<?, ?it/s]\u001b[A\u001b[A\n",
            "\n",
            "regularization_factors, val_score: 0.975736:   5%|5         | 1/20 [01:40<31:51, 100.63s/it]\u001b[A\u001b[A\u001b[32m[I 2021-07-07 23:25:52,649]\u001b[0m Trial 43 finished with value: 0.9821458609541203 and parameters: {'lambda_l1': 0.06028488628347753, 'lambda_l2': 3.555537173077242e-06}. Best is trial 43 with value: 0.9821458609541203.\u001b[0m\n",
            "\n",
            "\n",
            "regularization_factors, val_score: 0.975736:   5%|5         | 1/20 [01:40<31:51, 100.63s/it]\u001b[A\u001b[A"
          ],
          "name": "stderr"
        },
        {
          "output_type": "stream",
          "text": [
            "Training until validation scores don't improve for 100 rounds.\n",
            "[100]\tvalid_0's l1: 0.998543\n",
            "[200]\tvalid_0's l1: 0.995503\n",
            "[300]\tvalid_0's l1: 0.992364\n",
            "[400]\tvalid_0's l1: 0.990568\n",
            "[500]\tvalid_0's l1: 0.9886\n",
            "[600]\tvalid_0's l1: 0.987289\n",
            "[700]\tvalid_0's l1: 0.985876\n",
            "[800]\tvalid_0's l1: 0.983501\n",
            "[900]\tvalid_0's l1: 0.982806\n",
            "[1000]\tvalid_0's l1: 0.981522\n",
            "[1100]\tvalid_0's l1: 0.98097\n",
            "[1200]\tvalid_0's l1: 0.980796\n",
            "[1300]\tvalid_0's l1: 0.9803\n",
            "[1400]\tvalid_0's l1: 0.98004\n",
            "[1500]\tvalid_0's l1: 0.979752\n",
            "[1600]\tvalid_0's l1: 0.979057\n",
            "[1700]\tvalid_0's l1: 0.978716\n",
            "[1800]\tvalid_0's l1: 0.978368\n",
            "[1900]\tvalid_0's l1: 0.978239\n",
            "[2000]\tvalid_0's l1: 0.977853\n",
            "[2100]\tvalid_0's l1: 0.977933\n",
            "Early stopping, best iteration is:\n",
            "[2034]\tvalid_0's l1: 0.977738\n"
          ],
          "name": "stdout"
        },
        {
          "output_type": "stream",
          "text": [
            "\n",
            "\n",
            "regularization_factors, val_score: 0.975736:   5%|5         | 1/20 [05:08<31:51, 100.63s/it]\u001b[A\u001b[A\n",
            "\n",
            "regularization_factors, val_score: 0.975736:  10%|#         | 2/20 [05:08<39:51, 132.87s/it]\u001b[A\u001b[A\u001b[32m[I 2021-07-07 23:29:20,762]\u001b[0m Trial 44 finished with value: 0.9777379797153366 and parameters: {'lambda_l1': 0.045448997661468225, 'lambda_l2': 7.380243765183543e-07}. Best is trial 44 with value: 0.9777379797153366.\u001b[0m\n",
            "\n",
            "\n",
            "regularization_factors, val_score: 0.975736:  10%|#         | 2/20 [05:08<39:51, 132.87s/it]\u001b[A\u001b[A"
          ],
          "name": "stderr"
        },
        {
          "output_type": "stream",
          "text": [
            "Training until validation scores don't improve for 100 rounds.\n",
            "[100]\tvalid_0's l1: 0.99862\n",
            "[200]\tvalid_0's l1: 0.994163\n",
            "[300]\tvalid_0's l1: 0.991181\n",
            "[400]\tvalid_0's l1: 0.989289\n",
            "[500]\tvalid_0's l1: 0.985964\n",
            "[600]\tvalid_0's l1: 0.984743\n",
            "[700]\tvalid_0's l1: 0.983388\n",
            "[800]\tvalid_0's l1: 0.982428\n",
            "[900]\tvalid_0's l1: 0.98158\n",
            "[1000]\tvalid_0's l1: 0.981173\n",
            "Early stopping, best iteration is:\n",
            "[963]\tvalid_0's l1: 0.980998\n"
          ],
          "name": "stdout"
        },
        {
          "output_type": "stream",
          "text": [
            "\n",
            "\n",
            "regularization_factors, val_score: 0.975736:  10%|#         | 2/20 [06:52<39:51, 132.87s/it]\u001b[A\u001b[A\n",
            "\n",
            "regularization_factors, val_score: 0.975736:  15%|#5        | 3/20 [06:52<35:12, 124.27s/it]\u001b[A\u001b[A\u001b[32m[I 2021-07-07 23:31:04,942]\u001b[0m Trial 45 finished with value: 0.9809976499455583 and parameters: {'lambda_l1': 0.004546693057895928, 'lambda_l2': 2.9032748007000676e-08}. Best is trial 44 with value: 0.9777379797153366.\u001b[0m\n",
            "\n",
            "\n",
            "regularization_factors, val_score: 0.975736:  15%|#5        | 3/20 [06:52<35:12, 124.27s/it]\u001b[A\u001b[A"
          ],
          "name": "stderr"
        },
        {
          "output_type": "stream",
          "text": [
            "Training until validation scores don't improve for 100 rounds.\n",
            "[100]\tvalid_0's l1: 0.999918\n",
            "[200]\tvalid_0's l1: 0.994332\n",
            "[300]\tvalid_0's l1: 0.991407\n",
            "[400]\tvalid_0's l1: 0.989386\n",
            "[500]\tvalid_0's l1: 0.987656\n",
            "[600]\tvalid_0's l1: 0.985738\n",
            "[700]\tvalid_0's l1: 0.984731\n",
            "[800]\tvalid_0's l1: 0.984004\n",
            "[900]\tvalid_0's l1: 0.982704\n",
            "[1000]\tvalid_0's l1: 0.98137\n",
            "[1100]\tvalid_0's l1: 0.981151\n",
            "[1200]\tvalid_0's l1: 0.98062\n",
            "[1300]\tvalid_0's l1: 0.980224\n",
            "[1400]\tvalid_0's l1: 0.979829\n",
            "[1500]\tvalid_0's l1: 0.978741\n",
            "[1600]\tvalid_0's l1: 0.978293\n",
            "[1700]\tvalid_0's l1: 0.978139\n",
            "[1800]\tvalid_0's l1: 0.977903\n",
            "[1900]\tvalid_0's l1: 0.977045\n",
            "[2000]\tvalid_0's l1: 0.976869\n",
            "[2100]\tvalid_0's l1: 0.976559\n",
            "[2200]\tvalid_0's l1: 0.97629\n",
            "[2300]\tvalid_0's l1: 0.975479\n",
            "[2400]\tvalid_0's l1: 0.975293\n",
            "Early stopping, best iteration is:\n",
            "[2322]\tvalid_0's l1: 0.975144\n"
          ],
          "name": "stdout"
        },
        {
          "output_type": "stream",
          "text": [
            "\n",
            "\n",
            "regularization_factors, val_score: 0.975144:  15%|#5        | 3/20 [10:45<35:12, 124.27s/it]\u001b[A\u001b[A\n",
            "\n",
            "regularization_factors, val_score: 0.975144:  20%|##        | 4/20 [10:45<41:48, 156.76s/it]\u001b[A\u001b[A\u001b[32m[I 2021-07-07 23:34:57,526]\u001b[0m Trial 46 finished with value: 0.9751435732725141 and parameters: {'lambda_l1': 3.0901575370189453e-06, 'lambda_l2': 1.2448698729519276}. Best is trial 46 with value: 0.9751435732725141.\u001b[0m\n",
            "\n",
            "\n",
            "regularization_factors, val_score: 0.975144:  20%|##        | 4/20 [10:45<41:48, 156.76s/it]\u001b[A\u001b[A"
          ],
          "name": "stderr"
        },
        {
          "output_type": "stream",
          "text": [
            "Training until validation scores don't improve for 100 rounds.\n",
            "[100]\tvalid_0's l1: 0.998223\n",
            "[200]\tvalid_0's l1: 0.994696\n",
            "[300]\tvalid_0's l1: 0.991425\n",
            "[400]\tvalid_0's l1: 0.989263\n",
            "[500]\tvalid_0's l1: 0.987599\n",
            "[600]\tvalid_0's l1: 0.986689\n",
            "[700]\tvalid_0's l1: 0.985815\n",
            "[800]\tvalid_0's l1: 0.983979\n",
            "[900]\tvalid_0's l1: 0.983546\n",
            "[1000]\tvalid_0's l1: 0.982854\n",
            "[1100]\tvalid_0's l1: 0.98218\n",
            "[1200]\tvalid_0's l1: 0.981413\n",
            "[1300]\tvalid_0's l1: 0.981378\n",
            "[1400]\tvalid_0's l1: 0.98043\n",
            "[1500]\tvalid_0's l1: 0.980309\n",
            "[1600]\tvalid_0's l1: 0.980031\n",
            "[1700]\tvalid_0's l1: 0.979753\n",
            "[1800]\tvalid_0's l1: 0.97917\n",
            "[1900]\tvalid_0's l1: 0.978915\n",
            "[2000]\tvalid_0's l1: 0.978778\n",
            "[2100]\tvalid_0's l1: 0.977468\n",
            "Early stopping, best iteration is:\n",
            "[2096]\tvalid_0's l1: 0.977375\n"
          ],
          "name": "stdout"
        },
        {
          "output_type": "stream",
          "text": [
            "\n",
            "\n",
            "regularization_factors, val_score: 0.975144:  20%|##        | 4/20 [14:11<41:48, 156.76s/it]\u001b[A\u001b[A\n",
            "\n",
            "regularization_factors, val_score: 0.975144:  25%|##5       | 5/20 [14:11<42:54, 171.61s/it]\u001b[A\u001b[A\u001b[32m[I 2021-07-07 23:38:23,782]\u001b[0m Trial 47 finished with value: 0.9773750605344471 and parameters: {'lambda_l1': 1.0618305593090312e-06, 'lambda_l2': 9.917829727140003e-05}. Best is trial 46 with value: 0.9751435732725141.\u001b[0m\n",
            "\n",
            "\n",
            "regularization_factors, val_score: 0.975144:  25%|##5       | 5/20 [14:11<42:54, 171.61s/it]\u001b[A\u001b[A"
          ],
          "name": "stderr"
        },
        {
          "output_type": "stream",
          "text": [
            "Training until validation scores don't improve for 100 rounds.\n",
            "[100]\tvalid_0's l1: 0.99799\n",
            "[200]\tvalid_0's l1: 0.993495\n",
            "[300]\tvalid_0's l1: 0.989663\n",
            "[400]\tvalid_0's l1: 0.987986\n",
            "[500]\tvalid_0's l1: 0.986726\n",
            "[600]\tvalid_0's l1: 0.985573\n",
            "[700]\tvalid_0's l1: 0.983708\n",
            "[800]\tvalid_0's l1: 0.981836\n",
            "[900]\tvalid_0's l1: 0.981156\n",
            "[1000]\tvalid_0's l1: 0.979852\n",
            "[1100]\tvalid_0's l1: 0.979485\n",
            "[1200]\tvalid_0's l1: 0.978056\n",
            "[1300]\tvalid_0's l1: 0.977751\n",
            "[1400]\tvalid_0's l1: 0.977232\n",
            "[1500]\tvalid_0's l1: 0.976451\n",
            "[1600]\tvalid_0's l1: 0.976203\n",
            "[1700]\tvalid_0's l1: 0.975353\n",
            "[1800]\tvalid_0's l1: 0.975168\n",
            "[1900]\tvalid_0's l1: 0.975121\n",
            "Early stopping, best iteration is:\n",
            "[1803]\tvalid_0's l1: 0.975096\n"
          ],
          "name": "stdout"
        },
        {
          "output_type": "stream",
          "text": [
            "\n",
            "\n",
            "regularization_factors, val_score: 0.975096:  25%|##5       | 5/20 [17:13<42:54, 171.61s/it]\u001b[A\u001b[A\n",
            "\n",
            "regularization_factors, val_score: 0.975096:  30%|###       | 6/20 [17:13<40:44, 174.60s/it]\u001b[A\u001b[A\u001b[32m[I 2021-07-07 23:41:25,345]\u001b[0m Trial 48 finished with value: 0.9750959648166544 and parameters: {'lambda_l1': 0.23291810474305374, 'lambda_l2': 7.769372026670613e-05}. Best is trial 48 with value: 0.9750959648166544.\u001b[0m\n",
            "\n",
            "\n",
            "regularization_factors, val_score: 0.975096:  30%|###       | 6/20 [17:13<40:44, 174.60s/it]\u001b[A\u001b[A"
          ],
          "name": "stderr"
        },
        {
          "output_type": "stream",
          "text": [
            "Training until validation scores don't improve for 100 rounds.\n",
            "[100]\tvalid_0's l1: 0.998223\n",
            "[200]\tvalid_0's l1: 0.994696\n",
            "[300]\tvalid_0's l1: 0.991425\n",
            "[400]\tvalid_0's l1: 0.99045\n",
            "[500]\tvalid_0's l1: 0.987263\n",
            "[600]\tvalid_0's l1: 0.985823\n",
            "[700]\tvalid_0's l1: 0.984547\n",
            "[800]\tvalid_0's l1: 0.983598\n",
            "[900]\tvalid_0's l1: 0.983101\n",
            "[1000]\tvalid_0's l1: 0.982278\n",
            "[1100]\tvalid_0's l1: 0.981736\n",
            "[1200]\tvalid_0's l1: 0.980977\n",
            "[1300]\tvalid_0's l1: 0.980482\n",
            "[1400]\tvalid_0's l1: 0.980398\n",
            "[1500]\tvalid_0's l1: 0.979692\n",
            "[1600]\tvalid_0's l1: 0.978551\n",
            "[1700]\tvalid_0's l1: 0.978361\n",
            "[1800]\tvalid_0's l1: 0.978111\n",
            "[1900]\tvalid_0's l1: 0.977881\n",
            "[2000]\tvalid_0's l1: 0.977666\n",
            "[2100]\tvalid_0's l1: 0.977116\n",
            "[2200]\tvalid_0's l1: 0.97706\n",
            "[2300]\tvalid_0's l1: 0.976839\n",
            "[2400]\tvalid_0's l1: 0.97645\n",
            "[2500]\tvalid_0's l1: 0.97582\n",
            "[2600]\tvalid_0's l1: 0.97556\n",
            "[2700]\tvalid_0's l1: 0.975465\n",
            "[2800]\tvalid_0's l1: 0.975396\n",
            "[2900]\tvalid_0's l1: 0.974875\n",
            "[3000]\tvalid_0's l1: 0.974643\n",
            "[3100]\tvalid_0's l1: 0.9743\n",
            "[3200]\tvalid_0's l1: 0.974361\n",
            "Early stopping, best iteration is:\n",
            "[3150]\tvalid_0's l1: 0.974287\n"
          ],
          "name": "stdout"
        },
        {
          "output_type": "stream",
          "text": [
            "\n",
            "\n",
            "regularization_factors, val_score: 0.974287:  30%|###       | 6/20 [22:10<40:44, 174.60s/it]\u001b[A\u001b[A\n",
            "\n",
            "regularization_factors, val_score: 0.974287:  35%|###5      | 7/20 [22:10<45:48, 211.44s/it]\u001b[A\u001b[A\u001b[32m[I 2021-07-07 23:46:22,763]\u001b[0m Trial 49 finished with value: 0.9742866105481751 and parameters: {'lambda_l1': 0.0001657577832301329, 'lambda_l2': 8.547730522455407e-08}. Best is trial 49 with value: 0.9742866105481751.\u001b[0m\n",
            "\n",
            "\n",
            "regularization_factors, val_score: 0.974287:  35%|###5      | 7/20 [22:10<45:48, 211.44s/it]\u001b[A\u001b[A"
          ],
          "name": "stderr"
        },
        {
          "output_type": "stream",
          "text": [
            "Training until validation scores don't improve for 100 rounds.\n",
            "[100]\tvalid_0's l1: 0.99921\n",
            "[200]\tvalid_0's l1: 0.992819\n",
            "[300]\tvalid_0's l1: 0.989517\n",
            "[400]\tvalid_0's l1: 0.987667\n",
            "[500]\tvalid_0's l1: 0.985393\n",
            "[600]\tvalid_0's l1: 0.984761\n",
            "[700]\tvalid_0's l1: 0.984041\n",
            "[800]\tvalid_0's l1: 0.982436\n",
            "[900]\tvalid_0's l1: 0.982712\n"
          ],
          "name": "stdout"
        },
        {
          "output_type": "stream",
          "text": [
            "\n",
            "\n",
            "regularization_factors, val_score: 0.974287:  35%|###5      | 7/20 [23:34<45:48, 211.44s/it]\u001b[A\u001b[A\n",
            "\n",
            "regularization_factors, val_score: 0.974287:  40%|####      | 8/20 [23:34<34:37, 173.15s/it]\u001b[A\u001b[A"
          ],
          "name": "stderr"
        },
        {
          "output_type": "stream",
          "text": [
            "Early stopping, best iteration is:\n",
            "[804]\tvalid_0's l1: 0.982407\n"
          ],
          "name": "stdout"
        },
        {
          "output_type": "stream",
          "text": [
            "\u001b[32m[I 2021-07-07 23:47:46,580]\u001b[0m Trial 50 finished with value: 0.9824070336343207 and parameters: {'lambda_l1': 0.00048067333745541565, 'lambda_l2': 7.493427804940914}. Best is trial 49 with value: 0.9742866105481751.\u001b[0m\n",
            "\n",
            "\n",
            "regularization_factors, val_score: 0.974287:  40%|####      | 8/20 [23:34<34:37, 173.15s/it]\u001b[A\u001b[A"
          ],
          "name": "stderr"
        },
        {
          "output_type": "stream",
          "text": [
            "Training until validation scores don't improve for 100 rounds.\n",
            "[100]\tvalid_0's l1: 0.998223\n",
            "[200]\tvalid_0's l1: 0.994696\n",
            "[300]\tvalid_0's l1: 0.991498\n",
            "[400]\tvalid_0's l1: 0.989038\n",
            "[500]\tvalid_0's l1: 0.987315\n",
            "[600]\tvalid_0's l1: 0.986284\n",
            "[700]\tvalid_0's l1: 0.984185\n",
            "[800]\tvalid_0's l1: 0.983363\n",
            "[900]\tvalid_0's l1: 0.982433\n",
            "[1000]\tvalid_0's l1: 0.982256\n",
            "[1100]\tvalid_0's l1: 0.98207\n",
            "[1200]\tvalid_0's l1: 0.981486\n",
            "[1300]\tvalid_0's l1: 0.98031\n",
            "[1400]\tvalid_0's l1: 0.980319\n",
            "Early stopping, best iteration is:\n",
            "[1326]\tvalid_0's l1: 0.980213\n"
          ],
          "name": "stdout"
        },
        {
          "output_type": "stream",
          "text": [
            "\n",
            "\n",
            "regularization_factors, val_score: 0.974287:  40%|####      | 8/20 [25:47<34:37, 173.15s/it]\u001b[A\u001b[A\n",
            "\n",
            "regularization_factors, val_score: 0.974287:  45%|####5     | 9/20 [25:47<29:32, 161.12s/it]\u001b[A\u001b[A\u001b[32m[I 2021-07-07 23:49:59,614]\u001b[0m Trial 51 finished with value: 0.9802131272394293 and parameters: {'lambda_l1': 1.0384913872485835e-07, 'lambda_l2': 1.8052708495811668e-08}. Best is trial 49 with value: 0.9742866105481751.\u001b[0m\n",
            "\n",
            "\n",
            "regularization_factors, val_score: 0.974287:  45%|####5     | 9/20 [25:47<29:32, 161.12s/it]\u001b[A\u001b[A"
          ],
          "name": "stderr"
        },
        {
          "output_type": "stream",
          "text": [
            "Training until validation scores don't improve for 100 rounds.\n",
            "[100]\tvalid_0's l1: 0.998224\n",
            "[200]\tvalid_0's l1: 0.993894\n",
            "[300]\tvalid_0's l1: 0.991616\n",
            "[400]\tvalid_0's l1: 0.987982\n",
            "[500]\tvalid_0's l1: 0.986622\n",
            "[600]\tvalid_0's l1: 0.985008\n",
            "[700]\tvalid_0's l1: 0.984588\n",
            "[800]\tvalid_0's l1: 0.983549\n",
            "[900]\tvalid_0's l1: 0.981592\n",
            "[1000]\tvalid_0's l1: 0.980856\n",
            "[1100]\tvalid_0's l1: 0.98005\n",
            "[1200]\tvalid_0's l1: 0.98014\n",
            "Early stopping, best iteration is:\n",
            "[1130]\tvalid_0's l1: 0.979853\n"
          ],
          "name": "stdout"
        },
        {
          "output_type": "stream",
          "text": [
            "\n",
            "\n",
            "regularization_factors, val_score: 0.974287:  45%|####5     | 9/20 [27:40<29:32, 161.12s/it]\u001b[A\u001b[A\n",
            "\n",
            "regularization_factors, val_score: 0.974287:  50%|#####     | 10/20 [27:40<24:25, 146.57s/it]\u001b[A\u001b[A\u001b[32m[I 2021-07-07 23:51:52,236]\u001b[0m Trial 52 finished with value: 0.9798533016586274 and parameters: {'lambda_l1': 0.19165669451669692, 'lambda_l2': 1.1508227080352785e-07}. Best is trial 49 with value: 0.9742866105481751.\u001b[0m\n",
            "\n",
            "\n",
            "regularization_factors, val_score: 0.974287:  50%|#####     | 10/20 [27:40<24:25, 146.57s/it]\u001b[A\u001b[A"
          ],
          "name": "stderr"
        },
        {
          "output_type": "stream",
          "text": [
            "Training until validation scores don't improve for 100 rounds.\n",
            "[100]\tvalid_0's l1: 0.999325\n",
            "[200]\tvalid_0's l1: 0.994858\n",
            "[300]\tvalid_0's l1: 0.991206\n",
            "[400]\tvalid_0's l1: 0.989345\n",
            "[500]\tvalid_0's l1: 0.988198\n",
            "[600]\tvalid_0's l1: 0.987134\n",
            "[700]\tvalid_0's l1: 0.985467\n",
            "[800]\tvalid_0's l1: 0.984004\n",
            "[900]\tvalid_0's l1: 0.982664\n",
            "[1000]\tvalid_0's l1: 0.982193\n",
            "[1100]\tvalid_0's l1: 0.981714\n",
            "Early stopping, best iteration is:\n",
            "[1078]\tvalid_0's l1: 0.98164\n"
          ],
          "name": "stdout"
        },
        {
          "output_type": "stream",
          "text": [
            "\n",
            "\n",
            "regularization_factors, val_score: 0.974287:  50%|#####     | 10/20 [29:26<24:25, 146.57s/it]\u001b[A\u001b[A\n",
            "\n",
            "regularization_factors, val_score: 0.974287:  55%|#####5    | 11/20 [29:26<20:10, 134.51s/it]\u001b[A\u001b[A\u001b[32m[I 2021-07-07 23:53:38,605]\u001b[0m Trial 53 finished with value: 0.9816398760245698 and parameters: {'lambda_l1': 2.5289137941791122e-05, 'lambda_l2': 0.028770460611681686}. Best is trial 49 with value: 0.9742866105481751.\u001b[0m\n",
            "\n",
            "\n",
            "regularization_factors, val_score: 0.974287:  55%|#####5    | 11/20 [29:26<20:10, 134.51s/it]\u001b[A\u001b[A"
          ],
          "name": "stderr"
        },
        {
          "output_type": "stream",
          "text": [
            "Training until validation scores don't improve for 100 rounds.\n",
            "[100]\tvalid_0's l1: 1.0003\n",
            "[200]\tvalid_0's l1: 0.995097\n",
            "[300]\tvalid_0's l1: 0.992704\n",
            "[400]\tvalid_0's l1: 0.989942\n",
            "[500]\tvalid_0's l1: 0.98912\n",
            "[600]\tvalid_0's l1: 0.987218\n",
            "[700]\tvalid_0's l1: 0.986017\n",
            "[800]\tvalid_0's l1: 0.985503\n",
            "[900]\tvalid_0's l1: 0.983953\n",
            "[1000]\tvalid_0's l1: 0.982932\n",
            "[1100]\tvalid_0's l1: 0.982351\n",
            "[1200]\tvalid_0's l1: 0.981736\n",
            "[1300]\tvalid_0's l1: 0.981052\n",
            "[1400]\tvalid_0's l1: 0.980574\n",
            "[1500]\tvalid_0's l1: 0.980252\n",
            "[1600]\tvalid_0's l1: 0.980317\n",
            "Early stopping, best iteration is:\n",
            "[1526]\tvalid_0's l1: 0.980165\n"
          ],
          "name": "stdout"
        },
        {
          "output_type": "stream",
          "text": [
            "\n",
            "\n",
            "regularization_factors, val_score: 0.974287:  55%|#####5    | 11/20 [31:49<20:10, 134.51s/it]\u001b[A\u001b[A\n",
            "\n",
            "regularization_factors, val_score: 0.974287:  60%|######    | 12/20 [31:49<18:17, 137.15s/it]\u001b[A\u001b[A\u001b[32m[I 2021-07-07 23:56:01,917]\u001b[0m Trial 54 finished with value: 0.9801646935939302 and parameters: {'lambda_l1': 9.890427810937291, 'lambda_l2': 0.0003704747454259839}. Best is trial 49 with value: 0.9742866105481751.\u001b[0m\n",
            "\n",
            "\n",
            "regularization_factors, val_score: 0.974287:  60%|######    | 12/20 [31:49<18:17, 137.15s/it]\u001b[A\u001b[A"
          ],
          "name": "stderr"
        },
        {
          "output_type": "stream",
          "text": [
            "Training until validation scores don't improve for 100 rounds.\n",
            "[100]\tvalid_0's l1: 0.997205\n",
            "[200]\tvalid_0's l1: 0.994741\n",
            "[300]\tvalid_0's l1: 0.991867\n",
            "[400]\tvalid_0's l1: 0.989702\n",
            "[500]\tvalid_0's l1: 0.987534\n",
            "[600]\tvalid_0's l1: 0.986717\n",
            "[700]\tvalid_0's l1: 0.985794\n",
            "[800]\tvalid_0's l1: 0.98486\n",
            "[900]\tvalid_0's l1: 0.984612\n",
            "[1000]\tvalid_0's l1: 0.983022\n",
            "[1100]\tvalid_0's l1: 0.982656\n",
            "[1200]\tvalid_0's l1: 0.98216\n",
            "[1300]\tvalid_0's l1: 0.981427\n",
            "[1400]\tvalid_0's l1: 0.981304\n",
            "Early stopping, best iteration is:\n",
            "[1350]\tvalid_0's l1: 0.981272\n"
          ],
          "name": "stdout"
        },
        {
          "output_type": "stream",
          "text": [
            "\n",
            "\n",
            "regularization_factors, val_score: 0.974287:  60%|######    | 12/20 [34:11<18:17, 137.15s/it]\u001b[A\u001b[A\n",
            "\n",
            "regularization_factors, val_score: 0.974287:  65%|######5   | 13/20 [34:11<16:09, 138.50s/it]\u001b[A\u001b[A\u001b[32m[I 2021-07-07 23:58:23,561]\u001b[0m Trial 55 finished with value: 0.9812717038808169 and parameters: {'lambda_l1': 5.8554400423000095, 'lambda_l2': 0.00036049412736315403}. Best is trial 49 with value: 0.9742866105481751.\u001b[0m\n",
            "\n",
            "\n",
            "regularization_factors, val_score: 0.974287:  65%|######5   | 13/20 [34:11<16:09, 138.50s/it]\u001b[A\u001b[A"
          ],
          "name": "stderr"
        },
        {
          "output_type": "stream",
          "text": [
            "Training until validation scores don't improve for 100 rounds.\n",
            "[100]\tvalid_0's l1: 0.998223\n",
            "[200]\tvalid_0's l1: 0.994702\n",
            "[300]\tvalid_0's l1: 0.990574\n",
            "[400]\tvalid_0's l1: 0.988295\n",
            "[500]\tvalid_0's l1: 0.98679\n",
            "[600]\tvalid_0's l1: 0.983951\n",
            "[700]\tvalid_0's l1: 0.98305\n",
            "[800]\tvalid_0's l1: 0.981923\n",
            "[900]\tvalid_0's l1: 0.980836\n",
            "[1000]\tvalid_0's l1: 0.980261\n",
            "[1100]\tvalid_0's l1: 0.979995\n",
            "[1200]\tvalid_0's l1: 0.979529\n",
            "[1300]\tvalid_0's l1: 0.979013\n",
            "[1400]\tvalid_0's l1: 0.978658\n",
            "Early stopping, best iteration is:\n",
            "[1353]\tvalid_0's l1: 0.97857\n"
          ],
          "name": "stdout"
        },
        {
          "output_type": "stream",
          "text": [
            "\n",
            "\n",
            "regularization_factors, val_score: 0.974287:  65%|######5   | 13/20 [36:30<16:09, 138.50s/it]\u001b[A\u001b[A\n",
            "\n",
            "regularization_factors, val_score: 0.974287:  70%|#######   | 14/20 [36:30<13:52, 138.77s/it]\u001b[A\u001b[A\u001b[32m[I 2021-07-08 00:00:42,973]\u001b[0m Trial 56 finished with value: 0.9785703316888017 and parameters: {'lambda_l1': 0.0005058426293659452, 'lambda_l2': 1.0594480012424691e-05}. Best is trial 49 with value: 0.9742866105481751.\u001b[0m\n",
            "\n",
            "\n",
            "regularization_factors, val_score: 0.974287:  70%|#######   | 14/20 [36:30<13:52, 138.77s/it]\u001b[A\u001b[A"
          ],
          "name": "stderr"
        },
        {
          "output_type": "stream",
          "text": [
            "Training until validation scores don't improve for 100 rounds.\n",
            "[100]\tvalid_0's l1: 0.996785\n",
            "[200]\tvalid_0's l1: 0.993061\n",
            "[300]\tvalid_0's l1: 0.989081\n",
            "[400]\tvalid_0's l1: 0.987244\n",
            "[500]\tvalid_0's l1: 0.984965\n",
            "[600]\tvalid_0's l1: 0.984665\n",
            "[700]\tvalid_0's l1: 0.982934\n",
            "[800]\tvalid_0's l1: 0.98214\n",
            "[900]\tvalid_0's l1: 0.981238\n",
            "[1000]\tvalid_0's l1: 0.980756\n",
            "[1100]\tvalid_0's l1: 0.979681\n",
            "[1200]\tvalid_0's l1: 0.979295\n",
            "[1300]\tvalid_0's l1: 0.979163\n",
            "[1400]\tvalid_0's l1: 0.978932\n",
            "[1500]\tvalid_0's l1: 0.978796\n",
            "[1600]\tvalid_0's l1: 0.978481\n",
            "[1700]\tvalid_0's l1: 0.978093\n",
            "[1800]\tvalid_0's l1: 0.97778\n",
            "[1900]\tvalid_0's l1: 0.977318\n",
            "[2000]\tvalid_0's l1: 0.977217\n",
            "Early stopping, best iteration is:\n",
            "[1986]\tvalid_0's l1: 0.977121\n"
          ],
          "name": "stdout"
        },
        {
          "output_type": "stream",
          "text": [
            "\n",
            "\n",
            "regularization_factors, val_score: 0.974287:  70%|#######   | 14/20 [39:36<13:52, 138.77s/it]\u001b[A\u001b[A\n",
            "\n",
            "regularization_factors, val_score: 0.974287:  75%|#######5  | 15/20 [39:36<12:44, 152.92s/it]\u001b[A\u001b[A\u001b[32m[I 2021-07-08 00:03:48,909]\u001b[0m Trial 57 finished with value: 0.9771212404355081 and parameters: {'lambda_l1': 4.463476511925237e-05, 'lambda_l2': 0.004812432690117029}. Best is trial 49 with value: 0.9742866105481751.\u001b[0m\n",
            "\n",
            "\n",
            "regularization_factors, val_score: 0.974287:  75%|#######5  | 15/20 [39:36<12:44, 152.92s/it]\u001b[A\u001b[A"
          ],
          "name": "stderr"
        },
        {
          "output_type": "stream",
          "text": [
            "Training until validation scores don't improve for 100 rounds.\n",
            "[100]\tvalid_0's l1: 0.999239\n",
            "[200]\tvalid_0's l1: 0.995559\n",
            "[300]\tvalid_0's l1: 0.990942\n",
            "[400]\tvalid_0's l1: 0.988712\n",
            "[500]\tvalid_0's l1: 0.987642\n",
            "[600]\tvalid_0's l1: 0.98575\n",
            "[700]\tvalid_0's l1: 0.985242\n",
            "[800]\tvalid_0's l1: 0.984436\n",
            "[900]\tvalid_0's l1: 0.983166\n",
            "[1000]\tvalid_0's l1: 0.982581\n",
            "[1100]\tvalid_0's l1: 0.982557\n",
            "[1200]\tvalid_0's l1: 0.982106\n",
            "[1300]\tvalid_0's l1: 0.981958\n",
            "[1400]\tvalid_0's l1: 0.981116\n",
            "[1500]\tvalid_0's l1: 0.980732\n",
            "[1600]\tvalid_0's l1: 0.979722\n",
            "[1700]\tvalid_0's l1: 0.97965\n",
            "[1800]\tvalid_0's l1: 0.979115\n",
            "[1900]\tvalid_0's l1: 0.979299\n",
            "Early stopping, best iteration is:\n",
            "[1801]\tvalid_0's l1: 0.979115\n"
          ],
          "name": "stdout"
        },
        {
          "output_type": "stream",
          "text": [
            "\n",
            "\n",
            "regularization_factors, val_score: 0.974287:  75%|#######5  | 15/20 [42:35<12:44, 152.92s/it]\u001b[A\u001b[A\n",
            "\n",
            "regularization_factors, val_score: 0.974287:  80%|########  | 16/20 [42:35<10:42, 160.52s/it]\u001b[A\u001b[A\u001b[32m[I 2021-07-08 00:06:47,145]\u001b[0m Trial 58 finished with value: 0.9791148411321166 and parameters: {'lambda_l1': 0.44516284400572365, 'lambda_l2': 0.09406898598573232}. Best is trial 49 with value: 0.9742866105481751.\u001b[0m\n",
            "\n",
            "\n",
            "regularization_factors, val_score: 0.974287:  80%|########  | 16/20 [42:35<10:42, 160.52s/it]\u001b[A\u001b[A"
          ],
          "name": "stderr"
        },
        {
          "output_type": "stream",
          "text": [
            "Training until validation scores don't improve for 100 rounds.\n",
            "[100]\tvalid_0's l1: 0.99862\n",
            "[200]\tvalid_0's l1: 0.994163\n",
            "[300]\tvalid_0's l1: 0.991863\n",
            "[400]\tvalid_0's l1: 0.990477\n",
            "[500]\tvalid_0's l1: 0.987607\n",
            "[600]\tvalid_0's l1: 0.987317\n",
            "[700]\tvalid_0's l1: 0.985072\n",
            "[800]\tvalid_0's l1: 0.983697\n",
            "[900]\tvalid_0's l1: 0.982486\n",
            "[1000]\tvalid_0's l1: 0.982178\n",
            "[1100]\tvalid_0's l1: 0.981814\n",
            "[1200]\tvalid_0's l1: 0.981257\n",
            "[1300]\tvalid_0's l1: 0.981093\n",
            "[1400]\tvalid_0's l1: 0.981307\n",
            "Early stopping, best iteration is:\n",
            "[1300]\tvalid_0's l1: 0.981093\n"
          ],
          "name": "stdout"
        },
        {
          "output_type": "stream",
          "text": [
            "\n",
            "\n",
            "regularization_factors, val_score: 0.974287:  80%|########  | 16/20 [44:42<10:42, 160.52s/it]\u001b[A\u001b[A\n",
            "\n",
            "regularization_factors, val_score: 0.974287:  85%|########5 | 17/20 [44:42<07:31, 150.43s/it]\u001b[A\u001b[A\u001b[32m[I 2021-07-08 00:08:54,050]\u001b[0m Trial 59 finished with value: 0.9810928594699174 and parameters: {'lambda_l1': 0.004147696886884598, 'lambda_l2': 7.086931249378018e-07}. Best is trial 49 with value: 0.9742866105481751.\u001b[0m\n",
            "\n",
            "\n",
            "regularization_factors, val_score: 0.974287:  85%|########5 | 17/20 [44:42<07:31, 150.43s/it]\u001b[A\u001b[A"
          ],
          "name": "stderr"
        },
        {
          "output_type": "stream",
          "text": [
            "Training until validation scores don't improve for 100 rounds.\n",
            "[100]\tvalid_0's l1: 0.99862\n",
            "[200]\tvalid_0's l1: 0.994163\n",
            "[300]\tvalid_0's l1: 0.991181\n",
            "[400]\tvalid_0's l1: 0.989289\n",
            "[500]\tvalid_0's l1: 0.985964\n",
            "[600]\tvalid_0's l1: 0.984743\n",
            "[700]\tvalid_0's l1: 0.983388\n",
            "[800]\tvalid_0's l1: 0.982428\n",
            "[900]\tvalid_0's l1: 0.98158\n",
            "[1000]\tvalid_0's l1: 0.981173\n",
            "Early stopping, best iteration is:\n",
            "[963]\tvalid_0's l1: 0.980998\n"
          ],
          "name": "stdout"
        },
        {
          "output_type": "stream",
          "text": [
            "\n",
            "\n",
            "regularization_factors, val_score: 0.974287:  85%|########5 | 17/20 [46:28<07:31, 150.43s/it]\u001b[A\u001b[A\n",
            "\n",
            "regularization_factors, val_score: 0.974287:  90%|######### | 18/20 [46:28<04:34, 137.26s/it]\u001b[A\u001b[A\u001b[32m[I 2021-07-08 00:10:40,556]\u001b[0m Trial 60 finished with value: 0.9809976499455585 and parameters: {'lambda_l1': 0.004524052982405155, 'lambda_l2': 3.318740976429866e-05}. Best is trial 49 with value: 0.9742866105481751.\u001b[0m\n",
            "\n",
            "\n",
            "regularization_factors, val_score: 0.974287:  90%|######### | 18/20 [46:28<04:34, 137.26s/it]\u001b[A\u001b[A"
          ],
          "name": "stderr"
        },
        {
          "output_type": "stream",
          "text": [
            "Training until validation scores don't improve for 100 rounds.\n",
            "[100]\tvalid_0's l1: 0.998223\n",
            "[200]\tvalid_0's l1: 0.994696\n",
            "[300]\tvalid_0's l1: 0.991425\n",
            "[400]\tvalid_0's l1: 0.989433\n",
            "[500]\tvalid_0's l1: 0.987618\n",
            "[600]\tvalid_0's l1: 0.986128\n",
            "[700]\tvalid_0's l1: 0.985061\n",
            "[800]\tvalid_0's l1: 0.984296\n",
            "[900]\tvalid_0's l1: 0.982997\n",
            "[1000]\tvalid_0's l1: 0.982496\n",
            "[1100]\tvalid_0's l1: 0.982127\n",
            "[1200]\tvalid_0's l1: 0.980638\n",
            "[1300]\tvalid_0's l1: 0.980313\n",
            "[1400]\tvalid_0's l1: 0.980314\n",
            "[1500]\tvalid_0's l1: 0.979671\n",
            "[1600]\tvalid_0's l1: 0.979382\n",
            "[1700]\tvalid_0's l1: 0.978972\n",
            "Early stopping, best iteration is:\n",
            "[1669]\tvalid_0's l1: 0.978889\n"
          ],
          "name": "stdout"
        },
        {
          "output_type": "stream",
          "text": [
            "\n",
            "\n",
            "regularization_factors, val_score: 0.974287:  90%|######### | 18/20 [49:09<04:34, 137.26s/it]\u001b[A\u001b[A\n",
            "\n",
            "regularization_factors, val_score: 0.974287:  95%|#########5| 19/20 [49:09<02:24, 144.36s/it]\u001b[A\u001b[A\u001b[32m[I 2021-07-08 00:13:21,501]\u001b[0m Trial 61 finished with value: 0.9788885999813176 and parameters: {'lambda_l1': 1.0878701851450138e-08, 'lambda_l2': 0.0022768353158635866}. Best is trial 49 with value: 0.9742866105481751.\u001b[0m\n",
            "\n",
            "\n",
            "regularization_factors, val_score: 0.974287:  95%|#########5| 19/20 [49:09<02:24, 144.36s/it]\u001b[A\u001b[A"
          ],
          "name": "stderr"
        },
        {
          "output_type": "stream",
          "text": [
            "Training until validation scores don't improve for 100 rounds.\n",
            "[100]\tvalid_0's l1: 0.999911\n",
            "[200]\tvalid_0's l1: 0.994406\n",
            "[300]\tvalid_0's l1: 0.990413\n",
            "[400]\tvalid_0's l1: 0.987864\n",
            "[500]\tvalid_0's l1: 0.986323\n",
            "[600]\tvalid_0's l1: 0.985519\n",
            "[700]\tvalid_0's l1: 0.983281\n",
            "[800]\tvalid_0's l1: 0.981776\n",
            "[900]\tvalid_0's l1: 0.98097\n",
            "[1000]\tvalid_0's l1: 0.979461\n",
            "[1100]\tvalid_0's l1: 0.978591\n",
            "[1200]\tvalid_0's l1: 0.978235\n",
            "[1300]\tvalid_0's l1: 0.976603\n",
            "[1400]\tvalid_0's l1: 0.976174\n",
            "[1500]\tvalid_0's l1: 0.975938\n",
            "[1600]\tvalid_0's l1: 0.975763\n",
            "[1700]\tvalid_0's l1: 0.975177\n",
            "[1800]\tvalid_0's l1: 0.974963\n",
            "[1900]\tvalid_0's l1: 0.974222\n",
            "[2000]\tvalid_0's l1: 0.974027\n",
            "[2100]\tvalid_0's l1: 0.973697\n",
            "[2200]\tvalid_0's l1: 0.973729\n",
            "[2300]\tvalid_0's l1: 0.973389\n",
            "Early stopping, best iteration is:\n",
            "[2215]\tvalid_0's l1: 0.973369\n"
          ],
          "name": "stdout"
        },
        {
          "output_type": "stream",
          "text": [
            "\n",
            "\n",
            "regularization_factors, val_score: 0.973369:  95%|#########5| 19/20 [52:38<02:24, 144.36s/it]\u001b[A\u001b[A\n",
            "\n",
            "regularization_factors, val_score: 0.973369: 100%|##########| 20/20 [52:38<00:00, 163.78s/it]\u001b[A\u001b[A\u001b[32m[I 2021-07-08 00:16:50,571]\u001b[0m Trial 62 finished with value: 0.9733693464239377 and parameters: {'lambda_l1': 1.1499340405074596, 'lambda_l2': 1.6594104879418386e-06}. Best is trial 62 with value: 0.9733693464239377.\u001b[0m\n",
            "regularization_factors, val_score: 0.973369: 100%|##########| 20/20 [52:38<00:00, 157.93s/it]\n",
            "\n",
            "\n",
            "  0%|          | 0/5 [00:00<?, ?it/s]\u001b[A\u001b[A\n",
            "\n",
            "min_data_in_leaf, val_score: 0.973369:   0%|          | 0/5 [00:00<?, ?it/s]\u001b[A\u001b[A"
          ],
          "name": "stderr"
        },
        {
          "output_type": "stream",
          "text": [
            "Training until validation scores don't improve for 100 rounds.\n",
            "[100]\tvalid_0's l1: 0.997188\n",
            "[200]\tvalid_0's l1: 0.993384\n",
            "[300]\tvalid_0's l1: 0.989384\n",
            "[400]\tvalid_0's l1: 0.986284\n",
            "[500]\tvalid_0's l1: 0.98498\n",
            "[600]\tvalid_0's l1: 0.984445\n",
            "[700]\tvalid_0's l1: 0.983852\n",
            "[800]\tvalid_0's l1: 0.98361\n",
            "[900]\tvalid_0's l1: 0.982612\n",
            "[1000]\tvalid_0's l1: 0.981346\n",
            "[1100]\tvalid_0's l1: 0.981039\n",
            "[1200]\tvalid_0's l1: 0.980605\n",
            "Early stopping, best iteration is:\n",
            "[1198]\tvalid_0's l1: 0.980605\n"
          ],
          "name": "stdout"
        },
        {
          "output_type": "stream",
          "text": [
            "\n",
            "\n",
            "min_data_in_leaf, val_score: 0.973369:   0%|          | 0/5 [01:58<?, ?it/s]\u001b[A\u001b[A\n",
            "\n",
            "min_data_in_leaf, val_score: 0.973369:  20%|##        | 1/5 [01:59<07:55, 119.00s/it]\u001b[A\u001b[A\u001b[32m[I 2021-07-08 00:18:49,602]\u001b[0m Trial 63 finished with value: 0.9806047943136689 and parameters: {'min_child_samples': 100}. Best is trial 63 with value: 0.9806047943136689.\u001b[0m\n",
            "\n",
            "\n",
            "min_data_in_leaf, val_score: 0.973369:  20%|##        | 1/5 [01:59<07:55, 119.00s/it]\u001b[A\u001b[A"
          ],
          "name": "stderr"
        },
        {
          "output_type": "stream",
          "text": [
            "Training until validation scores don't improve for 100 rounds.\n",
            "[100]\tvalid_0's l1: 0.999448\n",
            "[200]\tvalid_0's l1: 0.995165\n",
            "[300]\tvalid_0's l1: 0.99107\n",
            "[400]\tvalid_0's l1: 0.988888\n",
            "[500]\tvalid_0's l1: 0.987077\n",
            "[600]\tvalid_0's l1: 0.986138\n",
            "[700]\tvalid_0's l1: 0.984313\n",
            "[800]\tvalid_0's l1: 0.983877\n",
            "[900]\tvalid_0's l1: 0.982878\n",
            "[1000]\tvalid_0's l1: 0.981891\n",
            "[1100]\tvalid_0's l1: 0.981186\n",
            "[1200]\tvalid_0's l1: 0.981152\n",
            "[1300]\tvalid_0's l1: 0.980272\n",
            "[1400]\tvalid_0's l1: 0.979542\n",
            "[1500]\tvalid_0's l1: 0.978891\n",
            "[1600]\tvalid_0's l1: 0.977094\n",
            "[1700]\tvalid_0's l1: 0.976972\n",
            "[1800]\tvalid_0's l1: 0.977221\n",
            "Early stopping, best iteration is:\n",
            "[1716]\tvalid_0's l1: 0.976924\n"
          ],
          "name": "stdout"
        },
        {
          "output_type": "stream",
          "text": [
            "\n",
            "\n",
            "min_data_in_leaf, val_score: 0.973369:  20%|##        | 1/5 [04:38<07:55, 119.00s/it]\u001b[A\u001b[A\n",
            "\n",
            "min_data_in_leaf, val_score: 0.973369:  40%|####      | 2/5 [04:38<06:33, 131.26s/it]\u001b[A\u001b[A\u001b[32m[I 2021-07-08 00:21:29,484]\u001b[0m Trial 64 finished with value: 0.9769236515023856 and parameters: {'min_child_samples': 25}. Best is trial 64 with value: 0.9769236515023856.\u001b[0m\n",
            "\n",
            "\n",
            "min_data_in_leaf, val_score: 0.973369:  40%|####      | 2/5 [04:38<06:33, 131.26s/it]\u001b[A\u001b[A"
          ],
          "name": "stderr"
        },
        {
          "output_type": "stream",
          "text": [
            "Training until validation scores don't improve for 100 rounds.\n",
            "[100]\tvalid_0's l1: 1.00022\n",
            "[200]\tvalid_0's l1: 0.996093\n",
            "[300]\tvalid_0's l1: 0.991604\n",
            "[400]\tvalid_0's l1: 0.989055\n",
            "[500]\tvalid_0's l1: 0.988069\n",
            "[600]\tvalid_0's l1: 0.986685\n",
            "[700]\tvalid_0's l1: 0.984851\n",
            "[800]\tvalid_0's l1: 0.983669\n",
            "[900]\tvalid_0's l1: 0.982528\n",
            "[1000]\tvalid_0's l1: 0.981928\n",
            "[1100]\tvalid_0's l1: 0.981593\n",
            "[1200]\tvalid_0's l1: 0.981222\n",
            "[1300]\tvalid_0's l1: 0.980884\n",
            "[1400]\tvalid_0's l1: 0.980312\n",
            "[1500]\tvalid_0's l1: 0.97978\n",
            "[1600]\tvalid_0's l1: 0.979614\n",
            "[1700]\tvalid_0's l1: 0.978821\n",
            "[1800]\tvalid_0's l1: 0.978685\n",
            "[1900]\tvalid_0's l1: 0.978339\n",
            "[2000]\tvalid_0's l1: 0.977771\n",
            "[2100]\tvalid_0's l1: 0.977447\n",
            "[2200]\tvalid_0's l1: 0.976743\n",
            "[2300]\tvalid_0's l1: 0.976412\n",
            "[2400]\tvalid_0's l1: 0.975653\n",
            "[2500]\tvalid_0's l1: 0.975502\n",
            "[2600]\tvalid_0's l1: 0.974965\n",
            "[2700]\tvalid_0's l1: 0.974864\n",
            "[2800]\tvalid_0's l1: 0.975086\n",
            "Early stopping, best iteration is:\n",
            "[2718]\tvalid_0's l1: 0.974828\n"
          ],
          "name": "stdout"
        },
        {
          "output_type": "stream",
          "text": [
            "\n",
            "\n",
            "min_data_in_leaf, val_score: 0.973369:  40%|####      | 2/5 [08:45<06:33, 131.26s/it]\u001b[A\u001b[A\n",
            "\n",
            "min_data_in_leaf, val_score: 0.973369:  60%|######    | 3/5 [08:45<05:31, 165.92s/it]\u001b[A\u001b[A\u001b[32m[I 2021-07-08 00:25:36,265]\u001b[0m Trial 65 finished with value: 0.9748282548413784 and parameters: {'min_child_samples': 50}. Best is trial 65 with value: 0.9748282548413784.\u001b[0m\n",
            "\n",
            "\n",
            "min_data_in_leaf, val_score: 0.973369:  60%|######    | 3/5 [08:45<05:31, 165.92s/it]\u001b[A\u001b[A"
          ],
          "name": "stderr"
        },
        {
          "output_type": "stream",
          "text": [
            "Training until validation scores don't improve for 100 rounds.\n",
            "[100]\tvalid_0's l1: 0.999693\n",
            "[200]\tvalid_0's l1: 0.995988\n",
            "[300]\tvalid_0's l1: 0.991633\n",
            "[400]\tvalid_0's l1: 0.989691\n",
            "[500]\tvalid_0's l1: 0.988002\n",
            "[600]\tvalid_0's l1: 0.987184\n",
            "[700]\tvalid_0's l1: 0.985537\n",
            "[800]\tvalid_0's l1: 0.984489\n",
            "[900]\tvalid_0's l1: 0.98364\n",
            "[1000]\tvalid_0's l1: 0.981595\n",
            "[1100]\tvalid_0's l1: 0.981266\n",
            "[1200]\tvalid_0's l1: 0.980742\n",
            "[1300]\tvalid_0's l1: 0.980782\n",
            "[1400]\tvalid_0's l1: 0.980117\n",
            "[1500]\tvalid_0's l1: 0.979636\n",
            "[1600]\tvalid_0's l1: 0.97946\n",
            "[1700]\tvalid_0's l1: 0.979257\n",
            "[1800]\tvalid_0's l1: 0.97909\n",
            "[1900]\tvalid_0's l1: 0.978622\n",
            "[2000]\tvalid_0's l1: 0.978759\n",
            "Early stopping, best iteration is:\n",
            "[1919]\tvalid_0's l1: 0.978524\n"
          ],
          "name": "stdout"
        },
        {
          "output_type": "stream",
          "text": [
            "\n",
            "\n",
            "min_data_in_leaf, val_score: 0.973369:  60%|######    | 3/5 [11:54<05:31, 165.92s/it]\u001b[A\u001b[A\n",
            "\n",
            "min_data_in_leaf, val_score: 0.973369:  80%|########  | 4/5 [11:54<02:52, 172.74s/it]\u001b[A\u001b[A\u001b[32m[I 2021-07-08 00:28:44,904]\u001b[0m Trial 66 finished with value: 0.9785240583497772 and parameters: {'min_child_samples': 10}. Best is trial 65 with value: 0.9748282548413784.\u001b[0m\n",
            "\n",
            "\n",
            "min_data_in_leaf, val_score: 0.973369:  80%|########  | 4/5 [11:54<02:52, 172.74s/it]\u001b[A\u001b[A"
          ],
          "name": "stderr"
        },
        {
          "output_type": "stream",
          "text": [
            "Training until validation scores don't improve for 100 rounds.\n",
            "[100]\tvalid_0's l1: 0.99998\n",
            "[200]\tvalid_0's l1: 0.995488\n",
            "[300]\tvalid_0's l1: 0.99217\n",
            "[400]\tvalid_0's l1: 0.989921\n",
            "[500]\tvalid_0's l1: 0.988251\n",
            "[600]\tvalid_0's l1: 0.987417\n",
            "[700]\tvalid_0's l1: 0.985883\n",
            "[800]\tvalid_0's l1: 0.984805\n",
            "[900]\tvalid_0's l1: 0.98422\n",
            "[1000]\tvalid_0's l1: 0.982495\n",
            "[1100]\tvalid_0's l1: 0.982136\n",
            "[1200]\tvalid_0's l1: 0.981572\n",
            "[1300]\tvalid_0's l1: 0.981546\n",
            "[1400]\tvalid_0's l1: 0.980791\n",
            "[1500]\tvalid_0's l1: 0.980138\n",
            "[1600]\tvalid_0's l1: 0.979859\n",
            "Early stopping, best iteration is:\n",
            "[1521]\tvalid_0's l1: 0.979848\n"
          ],
          "name": "stdout"
        },
        {
          "output_type": "stream",
          "text": [
            "\n",
            "\n",
            "min_data_in_leaf, val_score: 0.973369:  80%|########  | 4/5 [14:16<02:52, 172.74s/it]\u001b[A\u001b[A\n",
            "\n",
            "min_data_in_leaf, val_score: 0.973369: 100%|##########| 5/5 [14:16<00:00, 163.71s/it]\u001b[A\u001b[A\u001b[32m[I 2021-07-08 00:31:07,550]\u001b[0m Trial 67 finished with value: 0.9798481872358283 and parameters: {'min_child_samples': 5}. Best is trial 65 with value: 0.9748282548413784.\u001b[0m\n",
            "min_data_in_leaf, val_score: 0.973369: 100%|##########| 5/5 [14:16<00:00, 171.39s/it]\n"
          ],
          "name": "stderr"
        },
        {
          "output_type": "stream",
          "text": [
            "mae: 0.9733693464632597\n",
            "score: 0.8776716264538542\n"
          ],
          "name": "stdout"
        }
      ]
    },
    {
      "cell_type": "code",
      "metadata": {
        "execution": {
          "iopub.execute_input": "2021-06-25T22:19:17.682673Z",
          "iopub.status.busy": "2021-06-25T22:19:17.681978Z",
          "iopub.status.idle": "2021-06-25T22:19:19.467296Z",
          "shell.execute_reply": "2021-06-25T22:19:19.467916Z",
          "shell.execute_reply.started": "2021-06-25T21:58:57.456212Z"
        },
        "papermill": {
          "duration": 1.81619,
          "end_time": "2021-06-25T22:19:19.468136",
          "exception": false,
          "start_time": "2021-06-25T22:19:17.651946",
          "status": "completed"
        },
        "tags": [],
        "id": "large-orlando"
      },
      "source": [
        ""
      ],
      "id": "large-orlando",
      "execution_count": 193,
      "outputs": []
    },
    {
      "cell_type": "code",
      "metadata": {
        "id": "xkqkayONf3SC"
      },
      "source": [
        ""
      ],
      "id": "xkqkayONf3SC",
      "execution_count": 193,
      "outputs": []
    },
    {
      "cell_type": "code",
      "metadata": {
        "execution": {
          "iopub.execute_input": "2021-06-25T22:19:19.523599Z",
          "iopub.status.busy": "2021-06-25T22:19:19.522922Z",
          "iopub.status.idle": "2021-06-25T22:19:19.531732Z",
          "shell.execute_reply": "2021-06-25T22:19:19.532260Z",
          "shell.execute_reply.started": "2021-06-25T21:58:59.002054Z"
        },
        "papermill": {
          "duration": 0.038158,
          "end_time": "2021-06-25T22:19:19.532427",
          "exception": false,
          "start_time": "2021-06-25T22:19:19.494269",
          "status": "completed"
        },
        "tags": [],
        "id": "sensitive-establishment"
      },
      "source": [
        "players_cols = ['playerId', 'primaryPositionName']\n",
        "rosters_cols = ['playerId', 'teamId', 'status']\n",
        "scores_cols = ['playerId', 'battingOrder', 'gamesPlayedBatting', 'flyOuts',\n",
        "       'groundOuts', 'runsScored', 'doubles', 'triples', 'homeRuns',\n",
        "       'strikeOuts', 'baseOnBalls', 'intentionalWalks', 'hits', 'hitByPitch',\n",
        "       'atBats', 'caughtStealing', 'stolenBases', 'groundIntoDoublePlay',\n",
        "       'groundIntoTriplePlay', 'plateAppearances', 'totalBases', 'rbi',\n",
        "       'leftOnBase', 'sacBunts', 'sacFlies', 'catchersInterference',\n",
        "       'pickoffs', 'gamesPlayedPitching', 'gamesStartedPitching',\n",
        "       'completeGamesPitching', 'shutoutsPitching', 'winsPitching',\n",
        "       'lossesPitching', 'flyOutsPitching', 'airOutsPitching',\n",
        "       'groundOutsPitching', 'runsPitching', 'doublesPitching',\n",
        "       'triplesPitching', 'homeRunsPitching', 'strikeOutsPitching',\n",
        "       'baseOnBallsPitching', 'intentionalWalksPitching', 'hitsPitching',\n",
        "       'hitByPitchPitching', 'atBatsPitching', 'caughtStealingPitching',\n",
        "       'stolenBasesPitching', 'inningsPitched', 'saveOpportunities',\n",
        "       'earnedRuns', 'battersFaced', 'outsPitching', 'pitchesThrown', 'balls',\n",
        "       'strikes', 'hitBatsmen', 'balks', 'wildPitches', 'pickoffsPitching',\n",
        "       'rbiPitching', 'gamesFinishedPitching', 'inheritedRunners',\n",
        "       'inheritedRunnersScored', 'catchersInterferencePitching',\n",
        "       'sacBuntsPitching', 'sacFliesPitching', 'saves', 'holds', 'blownSaves',\n",
        "       'assists', 'putOuts', 'errors', 'chances']\n",
        "standings_cols = [\"teamId\",\"divisionRank\",\"divisionLeader\",\"wildCardLeader\",\"leagueRank\",\"divisionId\",\"gameDate\"]\n",
        "null = np.nan\n",
        "true = True\n",
        "false = False"
      ],
      "id": "sensitive-establishment",
      "execution_count": 194,
      "outputs": []
    },
    {
      "cell_type": "code",
      "metadata": {
        "execution": {
          "iopub.execute_input": "2021-06-25T22:19:19.604016Z",
          "iopub.status.busy": "2021-06-25T22:19:19.598864Z",
          "iopub.status.idle": "2021-06-25T22:23:45.296062Z",
          "shell.execute_reply": "2021-06-25T22:23:45.295267Z",
          "shell.execute_reply.started": "2021-06-25T21:58:59.015564Z"
        },
        "papermill": {
          "duration": 265.737683,
          "end_time": "2021-06-25T22:23:45.296307",
          "exception": false,
          "start_time": "2021-06-25T22:19:19.558624",
          "status": "completed"
        },
        "tags": [],
        "id": "hundred-thunder",
        "colab": {
          "base_uri": "https://localhost:8080/",
          "height": 447
        },
        "outputId": "d7e972ca-c660-449d-f214-a6ac311b08e8"
      },
      "source": [
        "import pandas as pd\n",
        "import numpy as np\n",
        "from datetime import timedelta\n",
        "from tqdm import tqdm\n",
        "import gc\n",
        "from functools import reduce\n",
        "from sklearn.model_selection import StratifiedKFold\n",
        "\n",
        "ROOT_DIR = \"../input/mlb-player-digital-engagement-forecasting\"\n",
        "\n",
        "#=======================#\n",
        "def flatten(df, col):\n",
        "    du = (df.pivot(index=\"playerId\", columns=\"EvalDate\", \n",
        "               values=col).add_prefix(f\"{col}_\").\n",
        "      rename_axis(None, axis=1).reset_index())\n",
        "    return du\n",
        "#============================#\n",
        "def reducer(left, right):\n",
        "    return left.merge(right, on=\"playerId\")\n",
        "#========================\n",
        "\n",
        "TGTCOLS = [\"target1\",\"target2\",\"target3\",\"target4\"]\n",
        "def train_lag(df, lag=1):\n",
        "    dp = df[[\"playerId\",\"EvalDate\"]+TGTCOLS].copy()\n",
        "    dp[\"EvalDate\"]  =dp[\"EvalDate\"] + timedelta(days=lag) \n",
        "    df = df.merge(dp, on=[\"playerId\", \"EvalDate\"], suffixes=[\"\",f\"_{lag}\"], how=\"left\")\n",
        "    return df\n",
        "#=================================\n",
        "def test_lag(sub):\n",
        "    sub[\"playerId\"] = sub[\"date_playerId\"].apply(lambda s: int(  s.split(\"_\")[1]  ) )\n",
        "    assert sub.date.nunique() == 1\n",
        "    dte = sub[\"date\"].unique()[0]\n",
        "    \n",
        "    eval_dt = pd.to_datetime(dte, format=\"%Y%m%d\")\n",
        "    dtes = [eval_dt + timedelta(days=-k) for k in LAGS]\n",
        "    mp_dtes = {eval_dt + timedelta(days=-k):k for k in LAGS}\n",
        "    \n",
        "    sl = LAST.loc[LAST.EvalDate.between(dtes[-1], dtes[0]), [\"EvalDate\",\"playerId\"]+TGTCOLS].copy()\n",
        "    sl[\"EvalDate\"] = sl[\"EvalDate\"].map(mp_dtes)\n",
        "    du = [flatten(sl, col) for col in TGTCOLS]\n",
        "    du = reduce(reducer, du)\n",
        "    return du, eval_dt\n",
        "    #\n",
        "#===============\n",
        "\n",
        "tr = pd.read_csv(\"../input/mlb-data/target.csv\")\n",
        "print(tr.shape)\n",
        "gc.collect()\n",
        "\n",
        "tr[\"EvalDate\"] = pd.to_datetime(tr[\"EvalDate\"])\n",
        "tr[\"EvalDate\"] = tr[\"EvalDate\"] + timedelta(days=-1)\n",
        "tr[\"EvalYear\"] = tr[\"EvalDate\"].dt.year\n",
        "\n",
        "MED_DF = tr.groupby([\"playerId\",\"EvalYear\"])[TGTCOLS].median().reset_index()\n",
        "MEDCOLS = [\"tgt1_med\",\"tgt2_med\", \"tgt3_med\", \"tgt4_med\"]\n",
        "MED_DF.columns = [\"playerId\",\"EvalYear\"] + MEDCOLS\n",
        "\n",
        "LAGS = list(range(1,21))\n",
        "FECOLS = [f\"{col}_{lag}\" for lag in reversed(LAGS) for col in TGTCOLS]\n",
        "\n",
        "for lag in tqdm(LAGS):\n",
        "    tr = train_lag(tr, lag=lag)\n",
        "    gc.collect()\n",
        "#===========\n",
        "tr = tr.sort_values(by=[\"playerId\", \"EvalDate\"])\n",
        "print(tr.shape)\n",
        "tr = tr.dropna()\n",
        "print(tr.shape)\n",
        "tr = tr.merge(MED_DF, on=[\"playerId\",\"EvalYear\"])\n",
        "gc.collect()\n",
        "\n",
        "X = tr[FECOLS+MEDCOLS].values\n",
        "y = tr[TGTCOLS].values\n",
        "cl = tr[\"playerId\"].values\n",
        "\n",
        "NFOLDS = 6\n",
        "skf = StratifiedKFold(n_splits=NFOLDS)\n",
        "folds = skf.split(X, cl)\n",
        "folds = list(folds)\n",
        "\n",
        "import tensorflow as tf\n",
        "import tensorflow.keras.layers as L\n",
        "import tensorflow.keras.models as M\n",
        "from sklearn.metrics import mean_absolute_error, mean_squared_error\n",
        "from tensorflow.keras.callbacks import ModelCheckpoint, ReduceLROnPlateau, EarlyStopping\n",
        "\n",
        "tf.random.set_seed(777)\n",
        "\n",
        "def make_model(n_in):\n",
        "    inp = L.Input(name=\"inputs\", shape=(n_in,))\n",
        "    x = L.Dense(50, activation=\"relu\", name=\"d1\")(inp)\n",
        "    x = L.Dense(50, activation=\"relu\", name=\"d2\")(x)\n",
        "    preds = L.Dense(4, activation=\"linear\", name=\"preds\")(x)\n",
        "    \n",
        "    model = M.Model(inp, preds, name=\"ANN\")\n",
        "    model.compile(loss=\"mean_absolute_error\", optimizer=\"adam\")\n",
        "    return model\n",
        "\n",
        "net = make_model(X.shape[1])\n",
        "print(net.summary())\n",
        "\n",
        "oof = np.zeros(y.shape)\n",
        "nets = []\n",
        "for idx in range(NFOLDS):\n",
        "    print(\"FOLD:\", idx)\n",
        "    tr_idx, val_idx = folds[idx]\n",
        "    ckpt = ModelCheckpoint(f\"w{idx}.h5\", monitor='val_loss', verbose=1, save_best_only=True,mode='min')\n",
        "    reduce_lr = ReduceLROnPlateau(monitor='val_loss', factor=0.2,patience=3, min_lr=0.0005)\n",
        "    es = EarlyStopping(monitor='val_loss', patience=6)\n",
        "    reg = make_model(X.shape[1])\n",
        "    reg.fit(X[tr_idx], y[tr_idx], epochs=10, batch_size=35_000, validation_data=(X[val_idx], y[val_idx]),\n",
        "            verbose=1, callbacks=[ckpt, reduce_lr, es])\n",
        "    reg.load_weights(f\"w{idx}.h5\")\n",
        "    oof[val_idx] = reg.predict(X[val_idx], batch_size=50_000, verbose=1)\n",
        "    nets.append(reg)\n",
        "    gc.collect()\n",
        "    #\n",
        "#\n",
        "\n",
        "mae = mean_absolute_error(y, oof)\n",
        "mse = mean_squared_error(y, oof, squared=False)\n",
        "print(\"mae:\", mae)\n",
        "print(\"mse:\", mse)\n",
        "\n",
        "# Historical information to use in prediction time\n",
        "bound_dt = pd.to_datetime(\"2021-01-01\")\n",
        "LAST = tr.loc[tr.EvalDate>bound_dt].copy()\n",
        "\n",
        "LAST_MED_DF = MED_DF.loc[MED_DF.EvalYear==2021].copy()\n",
        "LAST_MED_DF.drop(\"EvalYear\", axis=1, inplace=True)\n",
        "del tr\n",
        "\n",
        "#\"\"\"\n",
        "import mlb\n",
        "FE = []; SUB = [];"
      ],
      "id": "hundred-thunder",
      "execution_count": 195,
      "outputs": [
        {
          "output_type": "error",
          "ename": "FileNotFoundError",
          "evalue": "ignored",
          "traceback": [
            "\u001b[0;31m---------------------------------------------------------------------------\u001b[0m",
            "\u001b[0;31mFileNotFoundError\u001b[0m                         Traceback (most recent call last)",
            "\u001b[0;32m<ipython-input-195-248adacbd808>\u001b[0m in \u001b[0;36m<module>\u001b[0;34m()\u001b[0m\n\u001b[1;32m     44\u001b[0m \u001b[0;31m#===============\u001b[0m\u001b[0;34m\u001b[0m\u001b[0;34m\u001b[0m\u001b[0;34m\u001b[0m\u001b[0m\n\u001b[1;32m     45\u001b[0m \u001b[0;34m\u001b[0m\u001b[0m\n\u001b[0;32m---> 46\u001b[0;31m \u001b[0mtr\u001b[0m \u001b[0;34m=\u001b[0m \u001b[0mpd\u001b[0m\u001b[0;34m.\u001b[0m\u001b[0mread_csv\u001b[0m\u001b[0;34m(\u001b[0m\u001b[0;34m\"../input/mlb-data/target.csv\"\u001b[0m\u001b[0;34m)\u001b[0m\u001b[0;34m\u001b[0m\u001b[0;34m\u001b[0m\u001b[0m\n\u001b[0m\u001b[1;32m     47\u001b[0m \u001b[0mprint\u001b[0m\u001b[0;34m(\u001b[0m\u001b[0mtr\u001b[0m\u001b[0;34m.\u001b[0m\u001b[0mshape\u001b[0m\u001b[0;34m)\u001b[0m\u001b[0;34m\u001b[0m\u001b[0;34m\u001b[0m\u001b[0m\n\u001b[1;32m     48\u001b[0m \u001b[0mgc\u001b[0m\u001b[0;34m.\u001b[0m\u001b[0mcollect\u001b[0m\u001b[0;34m(\u001b[0m\u001b[0;34m)\u001b[0m\u001b[0;34m\u001b[0m\u001b[0;34m\u001b[0m\u001b[0m\n",
            "\u001b[0;32m/usr/local/lib/python3.7/dist-packages/pandas/io/parsers.py\u001b[0m in \u001b[0;36mread_csv\u001b[0;34m(filepath_or_buffer, sep, delimiter, header, names, index_col, usecols, squeeze, prefix, mangle_dupe_cols, dtype, engine, converters, true_values, false_values, skipinitialspace, skiprows, skipfooter, nrows, na_values, keep_default_na, na_filter, verbose, skip_blank_lines, parse_dates, infer_datetime_format, keep_date_col, date_parser, dayfirst, cache_dates, iterator, chunksize, compression, thousands, decimal, lineterminator, quotechar, quoting, doublequote, escapechar, comment, encoding, dialect, error_bad_lines, warn_bad_lines, delim_whitespace, low_memory, memory_map, float_precision)\u001b[0m\n\u001b[1;32m    686\u001b[0m     )\n\u001b[1;32m    687\u001b[0m \u001b[0;34m\u001b[0m\u001b[0m\n\u001b[0;32m--> 688\u001b[0;31m     \u001b[0;32mreturn\u001b[0m \u001b[0m_read\u001b[0m\u001b[0;34m(\u001b[0m\u001b[0mfilepath_or_buffer\u001b[0m\u001b[0;34m,\u001b[0m \u001b[0mkwds\u001b[0m\u001b[0;34m)\u001b[0m\u001b[0;34m\u001b[0m\u001b[0;34m\u001b[0m\u001b[0m\n\u001b[0m\u001b[1;32m    689\u001b[0m \u001b[0;34m\u001b[0m\u001b[0m\n\u001b[1;32m    690\u001b[0m \u001b[0;34m\u001b[0m\u001b[0m\n",
            "\u001b[0;32m/usr/local/lib/python3.7/dist-packages/pandas/io/parsers.py\u001b[0m in \u001b[0;36m_read\u001b[0;34m(filepath_or_buffer, kwds)\u001b[0m\n\u001b[1;32m    452\u001b[0m \u001b[0;34m\u001b[0m\u001b[0m\n\u001b[1;32m    453\u001b[0m     \u001b[0;31m# Create the parser.\u001b[0m\u001b[0;34m\u001b[0m\u001b[0;34m\u001b[0m\u001b[0;34m\u001b[0m\u001b[0m\n\u001b[0;32m--> 454\u001b[0;31m     \u001b[0mparser\u001b[0m \u001b[0;34m=\u001b[0m \u001b[0mTextFileReader\u001b[0m\u001b[0;34m(\u001b[0m\u001b[0mfp_or_buf\u001b[0m\u001b[0;34m,\u001b[0m \u001b[0;34m**\u001b[0m\u001b[0mkwds\u001b[0m\u001b[0;34m)\u001b[0m\u001b[0;34m\u001b[0m\u001b[0;34m\u001b[0m\u001b[0m\n\u001b[0m\u001b[1;32m    455\u001b[0m \u001b[0;34m\u001b[0m\u001b[0m\n\u001b[1;32m    456\u001b[0m     \u001b[0;32mif\u001b[0m \u001b[0mchunksize\u001b[0m \u001b[0;32mor\u001b[0m \u001b[0miterator\u001b[0m\u001b[0;34m:\u001b[0m\u001b[0;34m\u001b[0m\u001b[0;34m\u001b[0m\u001b[0m\n",
            "\u001b[0;32m/usr/local/lib/python3.7/dist-packages/pandas/io/parsers.py\u001b[0m in \u001b[0;36m__init__\u001b[0;34m(self, f, engine, **kwds)\u001b[0m\n\u001b[1;32m    946\u001b[0m             \u001b[0mself\u001b[0m\u001b[0;34m.\u001b[0m\u001b[0moptions\u001b[0m\u001b[0;34m[\u001b[0m\u001b[0;34m\"has_index_names\"\u001b[0m\u001b[0;34m]\u001b[0m \u001b[0;34m=\u001b[0m \u001b[0mkwds\u001b[0m\u001b[0;34m[\u001b[0m\u001b[0;34m\"has_index_names\"\u001b[0m\u001b[0;34m]\u001b[0m\u001b[0;34m\u001b[0m\u001b[0;34m\u001b[0m\u001b[0m\n\u001b[1;32m    947\u001b[0m \u001b[0;34m\u001b[0m\u001b[0m\n\u001b[0;32m--> 948\u001b[0;31m         \u001b[0mself\u001b[0m\u001b[0;34m.\u001b[0m\u001b[0m_make_engine\u001b[0m\u001b[0;34m(\u001b[0m\u001b[0mself\u001b[0m\u001b[0;34m.\u001b[0m\u001b[0mengine\u001b[0m\u001b[0;34m)\u001b[0m\u001b[0;34m\u001b[0m\u001b[0;34m\u001b[0m\u001b[0m\n\u001b[0m\u001b[1;32m    949\u001b[0m \u001b[0;34m\u001b[0m\u001b[0m\n\u001b[1;32m    950\u001b[0m     \u001b[0;32mdef\u001b[0m \u001b[0mclose\u001b[0m\u001b[0;34m(\u001b[0m\u001b[0mself\u001b[0m\u001b[0;34m)\u001b[0m\u001b[0;34m:\u001b[0m\u001b[0;34m\u001b[0m\u001b[0;34m\u001b[0m\u001b[0m\n",
            "\u001b[0;32m/usr/local/lib/python3.7/dist-packages/pandas/io/parsers.py\u001b[0m in \u001b[0;36m_make_engine\u001b[0;34m(self, engine)\u001b[0m\n\u001b[1;32m   1178\u001b[0m     \u001b[0;32mdef\u001b[0m \u001b[0m_make_engine\u001b[0m\u001b[0;34m(\u001b[0m\u001b[0mself\u001b[0m\u001b[0;34m,\u001b[0m \u001b[0mengine\u001b[0m\u001b[0;34m=\u001b[0m\u001b[0;34m\"c\"\u001b[0m\u001b[0;34m)\u001b[0m\u001b[0;34m:\u001b[0m\u001b[0;34m\u001b[0m\u001b[0;34m\u001b[0m\u001b[0m\n\u001b[1;32m   1179\u001b[0m         \u001b[0;32mif\u001b[0m \u001b[0mengine\u001b[0m \u001b[0;34m==\u001b[0m \u001b[0;34m\"c\"\u001b[0m\u001b[0;34m:\u001b[0m\u001b[0;34m\u001b[0m\u001b[0;34m\u001b[0m\u001b[0m\n\u001b[0;32m-> 1180\u001b[0;31m             \u001b[0mself\u001b[0m\u001b[0;34m.\u001b[0m\u001b[0m_engine\u001b[0m \u001b[0;34m=\u001b[0m \u001b[0mCParserWrapper\u001b[0m\u001b[0;34m(\u001b[0m\u001b[0mself\u001b[0m\u001b[0;34m.\u001b[0m\u001b[0mf\u001b[0m\u001b[0;34m,\u001b[0m \u001b[0;34m**\u001b[0m\u001b[0mself\u001b[0m\u001b[0;34m.\u001b[0m\u001b[0moptions\u001b[0m\u001b[0;34m)\u001b[0m\u001b[0;34m\u001b[0m\u001b[0;34m\u001b[0m\u001b[0m\n\u001b[0m\u001b[1;32m   1181\u001b[0m         \u001b[0;32melse\u001b[0m\u001b[0;34m:\u001b[0m\u001b[0;34m\u001b[0m\u001b[0;34m\u001b[0m\u001b[0m\n\u001b[1;32m   1182\u001b[0m             \u001b[0;32mif\u001b[0m \u001b[0mengine\u001b[0m \u001b[0;34m==\u001b[0m \u001b[0;34m\"python\"\u001b[0m\u001b[0;34m:\u001b[0m\u001b[0;34m\u001b[0m\u001b[0;34m\u001b[0m\u001b[0m\n",
            "\u001b[0;32m/usr/local/lib/python3.7/dist-packages/pandas/io/parsers.py\u001b[0m in \u001b[0;36m__init__\u001b[0;34m(self, src, **kwds)\u001b[0m\n\u001b[1;32m   2008\u001b[0m         \u001b[0mkwds\u001b[0m\u001b[0;34m[\u001b[0m\u001b[0;34m\"usecols\"\u001b[0m\u001b[0;34m]\u001b[0m \u001b[0;34m=\u001b[0m \u001b[0mself\u001b[0m\u001b[0;34m.\u001b[0m\u001b[0musecols\u001b[0m\u001b[0;34m\u001b[0m\u001b[0;34m\u001b[0m\u001b[0m\n\u001b[1;32m   2009\u001b[0m \u001b[0;34m\u001b[0m\u001b[0m\n\u001b[0;32m-> 2010\u001b[0;31m         \u001b[0mself\u001b[0m\u001b[0;34m.\u001b[0m\u001b[0m_reader\u001b[0m \u001b[0;34m=\u001b[0m \u001b[0mparsers\u001b[0m\u001b[0;34m.\u001b[0m\u001b[0mTextReader\u001b[0m\u001b[0;34m(\u001b[0m\u001b[0msrc\u001b[0m\u001b[0;34m,\u001b[0m \u001b[0;34m**\u001b[0m\u001b[0mkwds\u001b[0m\u001b[0;34m)\u001b[0m\u001b[0;34m\u001b[0m\u001b[0;34m\u001b[0m\u001b[0m\n\u001b[0m\u001b[1;32m   2011\u001b[0m         \u001b[0mself\u001b[0m\u001b[0;34m.\u001b[0m\u001b[0munnamed_cols\u001b[0m \u001b[0;34m=\u001b[0m \u001b[0mself\u001b[0m\u001b[0;34m.\u001b[0m\u001b[0m_reader\u001b[0m\u001b[0;34m.\u001b[0m\u001b[0munnamed_cols\u001b[0m\u001b[0;34m\u001b[0m\u001b[0;34m\u001b[0m\u001b[0m\n\u001b[1;32m   2012\u001b[0m \u001b[0;34m\u001b[0m\u001b[0m\n",
            "\u001b[0;32mpandas/_libs/parsers.pyx\u001b[0m in \u001b[0;36mpandas._libs.parsers.TextReader.__cinit__\u001b[0;34m()\u001b[0m\n",
            "\u001b[0;32mpandas/_libs/parsers.pyx\u001b[0m in \u001b[0;36mpandas._libs.parsers.TextReader._setup_parser_source\u001b[0;34m()\u001b[0m\n",
            "\u001b[0;31mFileNotFoundError\u001b[0m: [Errno 2] No such file or directory: '../input/mlb-data/target.csv'"
          ]
        }
      ]
    },
    {
      "cell_type": "code",
      "metadata": {
        "id": "K1VLUowOyspF"
      },
      "source": [
        ""
      ],
      "id": "K1VLUowOyspF",
      "execution_count": null,
      "outputs": []
    },
    {
      "cell_type": "markdown",
      "metadata": {
        "papermill": {
          "duration": 0.643124,
          "end_time": "2021-06-25T22:23:46.587799",
          "exception": false,
          "start_time": "2021-06-25T22:23:45.944675",
          "status": "completed"
        },
        "tags": [],
        "id": "defined-colors"
      },
      "source": [
        "## Inference"
      ],
      "id": "defined-colors"
    },
    {
      "cell_type": "code",
      "metadata": {
        "execution": {
          "iopub.execute_input": "2021-06-25T22:23:47.872922Z",
          "iopub.status.busy": "2021-06-25T22:23:47.871916Z",
          "iopub.status.idle": "2021-06-25T22:23:47.875718Z",
          "shell.execute_reply": "2021-06-25T22:23:47.875029Z",
          "shell.execute_reply.started": "2021-06-25T22:03:06.318592Z"
        },
        "papermill": {
          "duration": 0.649231,
          "end_time": "2021-06-25T22:23:47.875889",
          "exception": false,
          "start_time": "2021-06-25T22:23:47.226658",
          "status": "completed"
        },
        "tags": [],
        "id": "classified-cooper"
      },
      "source": [
        "def unpack_json(json_str):\n",
        "    return np.nan if pd.isna(json_str) else pd.read_json(json_str)"
      ],
      "id": "classified-cooper",
      "execution_count": null,
      "outputs": []
    },
    {
      "cell_type": "code",
      "metadata": {
        "execution": {
          "iopub.execute_input": "2021-06-25T22:23:49.244729Z",
          "iopub.status.busy": "2021-06-25T22:23:49.243737Z",
          "iopub.status.idle": "2021-06-25T22:23:49.248381Z",
          "shell.execute_reply": "2021-06-25T22:23:49.247718Z",
          "shell.execute_reply.started": "2021-06-25T22:03:06.324648Z"
        },
        "papermill": {
          "duration": 0.652999,
          "end_time": "2021-06-25T22:23:49.248559",
          "exception": false,
          "start_time": "2021-06-25T22:23:48.595560",
          "status": "completed"
        },
        "tags": [],
        "id": "electoral-tribute"
      },
      "source": [
        "\"\"\"players_cols = ['playerId', 'primaryPositionName']\n",
        "rosters_cols = ['playerId', 'teamId', 'status']\n",
        "scores_cols = ['playerId', 'battingOrder', 'gamesPlayedBatting', 'flyOuts',\n",
        "       'groundOuts', 'runsScored', 'doubles', 'triples', 'homeRuns',\n",
        "       'strikeOuts', 'baseOnBalls', 'intentionalWalks', 'hits', 'hitByPitch',\n",
        "       'atBats', 'caughtStealing', 'stolenBases', 'groundIntoDoublePlay',\n",
        "       'groundIntoTriplePlay', 'plateAppearances', 'totalBases', 'rbi',\n",
        "       'leftOnBase', 'sacBunts', 'sacFlies', 'catchersInterference',\n",
        "       'pickoffs', 'gamesPlayedPitching', 'gamesStartedPitching',\n",
        "       'completeGamesPitching', 'shutoutsPitching', 'winsPitching',\n",
        "       'lossesPitching', 'flyOutsPitching', 'airOutsPitching',\n",
        "       'groundOutsPitching', 'runsPitching', 'doublesPitching',\n",
        "       'triplesPitching', 'homeRunsPitching', 'strikeOutsPitching',\n",
        "       'baseOnBallsPitching', 'intentionalWalksPitching', 'hitsPitching',\n",
        "       'hitByPitchPitching', 'atBatsPitching', 'caughtStealingPitching',\n",
        "       'stolenBasesPitching', 'inningsPitched', 'saveOpportunities',\n",
        "       'earnedRuns', 'battersFaced', 'outsPitching', 'pitchesThrown', 'balls',\n",
        "       'strikes', 'hitBatsmen', 'balks', 'wildPitches', 'pickoffsPitching',\n",
        "       'rbiPitching', 'gamesFinishedPitching', 'inheritedRunners',\n",
        "       'inheritedRunnersScored', 'catchersInterferencePitching',\n",
        "       'sacBuntsPitching', 'sacFliesPitching', 'saves', 'holds', 'blownSaves',\n",
        "       'assists', 'putOuts', 'errors', 'chances']\n",
        "\n",
        "null = np.nan\n",
        "true = True\n",
        "false = False\"\"\""
      ],
      "id": "electoral-tribute",
      "execution_count": null,
      "outputs": []
    },
    {
      "cell_type": "code",
      "metadata": {
        "execution": {
          "iopub.execute_input": "2021-06-25T22:23:50.567106Z",
          "iopub.status.busy": "2021-06-25T22:23:50.561703Z",
          "iopub.status.idle": "2021-06-25T22:24:01.199513Z",
          "shell.execute_reply": "2021-06-25T22:24:01.198747Z",
          "shell.execute_reply.started": "2021-06-25T22:03:06.3406Z"
        },
        "papermill": {
          "duration": 11.293137,
          "end_time": "2021-06-25T22:24:01.199706",
          "exception": false,
          "start_time": "2021-06-25T22:23:49.906569",
          "status": "completed"
        },
        "tags": [],
        "id": "thousand-comfort"
      },
      "source": [
        "\"\"\"players_cols = ['playerId', 'primaryPositionName']\n",
        "rosters_cols = ['playerId', 'teamId', 'status']\n",
        "scores_cols = ['playerId', 'battingOrder', 'gamesPlayedBatting', 'flyOuts',\n",
        "       'groundOuts', 'runsScored', 'doubles', 'triples', 'homeRuns',\n",
        "       'strikeOuts', 'baseOnBalls', 'intentionalWalks', 'hits', 'hitByPitch',\n",
        "       'atBats', 'caughtStealing', 'stolenBases', 'groundIntoDoublePlay',\n",
        "       'groundIntoTriplePlay', 'plateAppearances', 'totalBases', 'rbi',\n",
        "       'leftOnBase', 'sacBunts', 'sacFlies', 'catchersInterference',\n",
        "       'pickoffs', 'gamesPlayedPitching', 'gamesStartedPitching',\n",
        "       'completeGamesPitching', 'shutoutsPitching', 'winsPitching',\n",
        "       'lossesPitching', 'flyOutsPitching', 'airOutsPitching',\n",
        "       'groundOutsPitching', 'runsPitching', 'doublesPitching',\n",
        "       'triplesPitching', 'homeRunsPitching', 'strikeOutsPitching',\n",
        "       'baseOnBallsPitching', 'intentionalWalksPitching', 'hitsPitching',\n",
        "       'hitByPitchPitching', 'atBatsPitching', 'caughtStealingPitching',\n",
        "       'stolenBasesPitching', 'inningsPitched', 'saveOpportunities',\n",
        "       'earnedRuns', 'battersFaced', 'outsPitching', 'pitchesThrown', 'balls',\n",
        "       'strikes', 'hitBatsmen', 'balks', 'wildPitches', 'pickoffsPitching',\n",
        "       'rbiPitching', 'gamesFinishedPitching', 'inheritedRunners',\n",
        "       'inheritedRunnersScored', 'catchersInterferencePitching',\n",
        "       'sacBuntsPitching', 'sacFliesPitching', 'saves', 'holds', 'blownSaves',\n",
        "       'assists', 'putOuts', 'errors', 'chances',\"gamePk\"]\n",
        "\n",
        "null = np.nan\n",
        "true = True\n",
        "false = False\n",
        "\n",
        "env = mlb.make_env() # initialize the environment\n",
        "iter_test = env.iter_test() # iterator which loops over each date in test set\n",
        "\n",
        "for (test_df, sample_prediction_df) in iter_test: # make predictions here\n",
        "    \n",
        "    sub = copy.deepcopy(sample_prediction_df.reset_index())\n",
        "    sample_prediction_df = copy.deepcopy(sample_prediction_df.reset_index(drop=True))\n",
        "    \n",
        "    \n",
        "    # creat dataset\n",
        "    sample_prediction_df['playerId'] = sample_prediction_df['date_playerId']\\\n",
        "                                        .map(lambda x: int(x.split('_')[1]))\n",
        "    # Dealing with missing values\n",
        "    if test_df['rosters'].iloc[0] == test_df['rosters'].iloc[0]:\n",
        "        test_rosters = pd.DataFrame(eval(test_df['rosters'].iloc[0]))\n",
        "    else:\n",
        "        test_rosters = pd.DataFrame({'playerId': sample_prediction_df['playerId']})\n",
        "        for col in rosters.columns:\n",
        "            if col == 'playerId': continue\n",
        "            test_rosters[col] = np.nan\n",
        "            \n",
        "    if test_df['playerBoxScores'].iloc[0] == test_df['playerBoxScores'].iloc[0]:\n",
        "        test_scores = pd.DataFrame(eval(test_df['playerBoxScores'].iloc[0]))\n",
        "    else:\n",
        "        test_scores = pd.DataFrame({'playerId': sample_prediction_df['playerId']})\n",
        "        for col in scores.columns:\n",
        "            if col == 'playerId': continue\n",
        "            test_scores[col] = np.nan\n",
        "    \n",
        "    test_games = unpack_json(test_df[\"games\"].iloc[0])\n",
        "    test_standings = unpack_json(test_df[\"standings\"].iloc[0])\n",
        "    \n",
        "            \n",
        "            \n",
        "    \n",
        "\n",
        "    \n",
        "\n",
        "\n",
        "\n",
        "        \n",
        "    test_scores = test_scores.groupby('playerId').sum().reset_index()\n",
        "    test = sample_prediction_df[['playerId']].copy()\n",
        "    test = test.merge(players[players_cols], on='playerId', how='left')\n",
        "    test = test.merge(test_rosters[rosters_cols], on='playerId', how='left')\n",
        "    test = test.merge(test_scores[scores_cols], on='playerId', how='left')\n",
        "    test = test.merge(test_games[games_cols], on=\"gamePk\", how=\"left\")\n",
        "    test = test.merge(awards2[awards_cols], on=['playerId'], how='left')\n",
        "    test = test.merge(player_target_stats, how='inner', left_on=[\"playerId\"],right_on=[\"playerId\"])\n",
        "    test = test.merge(test_standings[standings_cols], on=[\"teamId\"], how='left')\n",
        "    \n",
        "    #add feature\n",
        "    test[\"ongame\"] = np.where(test[\"gamePk\"].isnull() == 1,0,1)\n",
        "    test[\"ishome\"] = np.where(test[\"teamId\"]==test[\"homeId\"],2,test[\"ongame\"])\n",
        "    test[\"winorlose\"] = np.where(test[\"teamId\"]==test[\"homeId\"],test[\"homeWinner\"],test[\"awayWinner\"])\n",
        "    test[\"winorlose\"] = test[\"winorlose\"].fillna(2.0).astype(int)\n",
        "    test[\"score\"] = np.where(test[\"teamId\"]==test[\"homeId\"],test[\"homeScore\"],test[\"awayScore\"])\n",
        "    test[\"divisionRank\"] = test[\"divisionRank\"].fillna(7.0).astype(int)\n",
        "    test[\"divisionLeader\"] = test[\"divisionLeader\"].fillna(-1.0).astype(int)\n",
        "    test[\"wildCardLeader\"] = np.where(test[\"wildCardLeader\"]==\"True\",1,0)\n",
        "    \n",
        "    \n",
        "    \n",
        "    \n",
        "    #label encoding\n",
        "    test['label_playerId'] = test['playerId'].map(player2num)\n",
        "    test['label_primaryPositionName'] = test['primaryPositionName'].map(position2num)\n",
        "    test['label_teamId'] = test['teamId'].map(teamid2num)\n",
        "    test['label_status'] = test['status'].map(status2num)\n",
        "    test[\"label_daynight\"] = test['dayNight'].map(daynight2num)\n",
        "    test[\"label_seriesDescription\"] = test[\"seriesDescription\"].map(seriesDescription2num)\n",
        "    test[\"gameType\"] = test[\"gameType\"].map(gameType2num)\n",
        "    display(test)\n",
        "    \n",
        "    \n",
        "    test_X1 = test[feature_cols1]\n",
        "    test_X2 = test[feature_cols2]\n",
        "    test_X3 = test[feature_cols3]\n",
        "    test_X4 = test[feature_cols4]\n",
        "    \n",
        "    # predict\n",
        "    pred1 = model1.predict(test_X1)\n",
        "    pred2 = model2.predict(test_X2)\n",
        "    pred3 = model3.predict(test_X3)\n",
        "    pred4 = model4.predict(test_X4)\n",
        "    \n",
        "    # merge submission\n",
        "    sample_prediction_df['target1'] = np.clip(pred1, 0, 100)\n",
        "    sample_prediction_df['target2'] = np.clip(pred2, 0, 100)\n",
        "    sample_prediction_df['target3'] = np.clip(pred3, 0, 100)\n",
        "    sample_prediction_df['target4'] = np.clip(pred4, 0, 100)\n",
        "    sample_prediction_df = sample_prediction_df.fillna(0.)\n",
        "    del sample_prediction_df['playerId']\n",
        "    \n",
        "    # TF summit\n",
        "    # Features computation at Evaluation Date\n",
        "    sub_fe, eval_dt = test_lag(sub)\n",
        "    sub_fe = sub_fe.merge(LAST_MED_DF, on=\"playerId\", how=\"left\")\n",
        "    sub_fe = sub_fe.fillna(0.)\n",
        "    \n",
        "    _preds = 0.\n",
        "    for reg in nets:\n",
        "        _preds += reg.predict(sub_fe[FECOLS + MEDCOLS]) / NFOLDS\n",
        "    sub_fe[TGTCOLS] = np.clip(_preds, 0, 100)\n",
        "    sub.drop([\"date\"]+TGTCOLS, axis=1, inplace=True)\n",
        "    sub = sub.merge(sub_fe[[\"playerId\"]+TGTCOLS], on=\"playerId\", how=\"left\")\n",
        "    sub.drop(\"playerId\", axis=1, inplace=True)\n",
        "    sub = sub.fillna(0.)\n",
        "    # Blending\n",
        "    blend = pd.concat(\n",
        "        [sub[['date_playerId']],\n",
        "        (0.1*sub.drop('date_playerId', axis=1) + 0.9*sample_prediction_df.drop('date_playerId', axis=1))],\n",
        "        axis=1\n",
        "    )\n",
        "    env.predict(blend)\n",
        "    # Update Available information\n",
        "    sub_fe[\"EvalDate\"] = eval_dt\n",
        "    #sub_fe.drop(MEDCOLS, axis=1, inplace=True)\n",
        "    LAST = LAST.append(sub_fe)\n",
        "    LAST = LAST.drop_duplicates(subset=[\"EvalDate\",\"playerId\"], keep=\"last\")\"\"\""
      ],
      "id": "thousand-comfort",
      "execution_count": null,
      "outputs": []
    },
    {
      "cell_type": "code",
      "metadata": {
        "execution": {
          "iopub.execute_input": "2021-06-25T22:24:02.554240Z",
          "iopub.status.busy": "2021-06-25T22:24:02.553286Z",
          "iopub.status.idle": "2021-06-25T22:24:02.557808Z",
          "shell.execute_reply": "2021-06-25T22:24:02.557241Z"
        },
        "papermill": {
          "duration": 0.688226,
          "end_time": "2021-06-25T22:24:02.557998",
          "exception": false,
          "start_time": "2021-06-25T22:24:01.869772",
          "status": "completed"
        },
        "tags": [],
        "id": "brief-palmer"
      },
      "source": [
        "display(test_df['games'])"
      ],
      "id": "brief-palmer",
      "execution_count": null,
      "outputs": []
    },
    {
      "cell_type": "code",
      "metadata": {
        "execution": {
          "iopub.execute_input": "2021-06-25T22:24:03.891241Z",
          "iopub.status.busy": "2021-06-25T22:24:03.890528Z",
          "iopub.status.idle": "2021-06-25T22:24:03.893839Z",
          "shell.execute_reply": "2021-06-25T22:24:03.893065Z"
        },
        "papermill": {
          "duration": 0.657564,
          "end_time": "2021-06-25T22:24:03.894025",
          "exception": false,
          "start_time": "2021-06-25T22:24:03.236461",
          "status": "completed"
        },
        "tags": [],
        "id": "partial-morning"
      },
      "source": [
        "def unpack_json(json_str):\n",
        "    return np.nan if pd.isna(json_str) else pd.read_json(json_str)"
      ],
      "id": "partial-morning",
      "execution_count": null,
      "outputs": []
    },
    {
      "cell_type": "code",
      "metadata": {
        "execution": {
          "iopub.execute_input": "2021-06-25T22:24:05.315595Z",
          "iopub.status.busy": "2021-06-25T22:24:05.314919Z",
          "iopub.status.idle": "2021-06-25T22:24:05.325682Z",
          "shell.execute_reply": "2021-06-25T22:24:05.325144Z"
        },
        "papermill": {
          "duration": 0.761079,
          "end_time": "2021-06-25T22:24:05.325843",
          "exception": false,
          "start_time": "2021-06-25T22:24:04.564764",
          "status": "completed"
        },
        "tags": [],
        "id": "smoking-discretion"
      },
      "source": [
        "unpack_json(test_df[\"games\"].iloc[0])"
      ],
      "id": "smoking-discretion",
      "execution_count": null,
      "outputs": []
    },
    {
      "cell_type": "code",
      "metadata": {
        "execution": {
          "iopub.execute_input": "2021-06-25T22:24:06.665554Z",
          "iopub.status.busy": "2021-06-25T22:24:06.663884Z",
          "iopub.status.idle": "2021-06-25T22:24:06.679898Z",
          "shell.execute_reply": "2021-06-25T22:24:06.679341Z"
        },
        "papermill": {
          "duration": 0.692076,
          "end_time": "2021-06-25T22:24:06.680048",
          "exception": false,
          "start_time": "2021-06-25T22:24:05.987972",
          "status": "completed"
        },
        "tags": [],
        "id": "talented-generic"
      },
      "source": [
        "pd.concat(\n",
        "    [sub[['date_playerId']],\n",
        "    (sub.drop('date_playerId', axis=1) + sample_prediction_df.drop('date_playerId', axis=1)) / 2],\n",
        "    axis=1\n",
        ")"
      ],
      "id": "talented-generic",
      "execution_count": null,
      "outputs": []
    },
    {
      "cell_type": "code",
      "metadata": {
        "execution": {
          "iopub.execute_input": "2021-06-25T22:24:08.007421Z",
          "iopub.status.busy": "2021-06-25T22:24:08.006746Z",
          "iopub.status.idle": "2021-06-25T22:24:08.009957Z",
          "shell.execute_reply": "2021-06-25T22:24:08.010404Z"
        },
        "papermill": {
          "duration": 0.679239,
          "end_time": "2021-06-25T22:24:08.010626",
          "exception": false,
          "start_time": "2021-06-25T22:24:07.331387",
          "status": "completed"
        },
        "tags": [],
        "id": "vertical-ethernet"
      },
      "source": [
        "sample_prediction_df"
      ],
      "id": "vertical-ethernet",
      "execution_count": null,
      "outputs": []
    }
  ]
}