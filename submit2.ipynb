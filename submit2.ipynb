{
  "nbformat": 4,
  "nbformat_minor": 5,
  "metadata": {
    "kernelspec": {
      "display_name": "Python 3",
      "language": "python",
      "name": "python3"
    },
    "language_info": {
      "codemirror_mode": {
        "name": "ipython",
        "version": 3
      },
      "file_extension": ".py",
      "mimetype": "text/x-python",
      "name": "python",
      "nbconvert_exporter": "python",
      "pygments_lexer": "ipython3",
      "version": "3.7.10"
    },
    "papermill": {
      "default_parameters": {},
      "duration": 346.121966,
      "end_time": "2021-06-25T22:24:11.045344",
      "environment_variables": {},
      "exception": null,
      "input_path": "__notebook__.ipynb",
      "output_path": "__notebook__.ipynb",
      "parameters": {},
      "start_time": "2021-06-25T22:18:24.923378",
      "version": "2.3.3"
    },
    "colab": {
      "name": "submit2.ipynb",
      "provenance": [],
      "collapsed_sections": [],
      "machine_shape": "hm",
      "include_colab_link": true
    },
    "accelerator": "TPU"
  },
  "cells": [
    {
      "cell_type": "markdown",
      "metadata": {
        "id": "view-in-github",
        "colab_type": "text"
      },
      "source": [
        "<a href=\"https://colab.research.google.com/github/gdollp/mlb/blob/main/submit2.ipynb\" target=\"_parent\"><img src=\"https://colab.research.google.com/assets/colab-badge.svg\" alt=\"Open In Colab\"/></a>"
      ]
    },
    {
      "cell_type": "markdown",
      "metadata": {
        "_cell_guid": "b1076dfc-b9ad-4769-8c92-a6c4dae69d19",
        "_uuid": "8f2839f25d086af736a60e9eeb907d3b93b6e0e5",
        "papermill": {
          "duration": 0.024709,
          "end_time": "2021-06-25T22:18:33.032989",
          "exception": false,
          "start_time": "2021-06-25T22:18:33.008280",
          "status": "completed"
        },
        "tags": [],
        "id": "resident-birthday"
      },
      "source": [
        "This notebook uses lightGBM to make predictions.\n",
        "\n",
        "We use the following features\n",
        "* playerId\n",
        "* position\n",
        "* teamId(rosters)\n",
        "* status(rosters)\n",
        "* playerBoxScores\n",
        "\n",
        "and the date 20200401~20200431 as the validation data.\n",
        "\n",
        "But I think there is room for improvement.  \n",
        "If you have better ways, I would appreciate it if you could comment on it.\n",
        "\n",
        "このnotebookではlightGBMを使って予測します。\n",
        "\n",
        "特徴量は以下のものを使用しています。\n",
        "* playerId\n",
        "* position\n",
        "* teamId(rosters)\n",
        "* status(rosters)\n",
        "* playerBoxScores\n",
        "\n",
        "20200401~20200431を日時をvalidation dataとしていますが、一考の余地がありそうです。  \n",
        "もし良さそうな方法があればコメントしていただけると幸いです。"
      ],
      "id": "resident-birthday"
    },
    {
      "cell_type": "markdown",
      "metadata": {
        "papermill": {
          "duration": 0.027024,
          "end_time": "2021-06-25T22:18:33.083611",
          "exception": false,
          "start_time": "2021-06-25T22:18:33.056587",
          "status": "completed"
        },
        "tags": [],
        "id": "vital-water"
      },
      "source": [
        ""
      ],
      "id": "vital-water"
    },
    {
      "cell_type": "markdown",
      "metadata": {
        "papermill": {
          "duration": 0.025051,
          "end_time": "2021-06-25T22:18:33.139292",
          "exception": false,
          "start_time": "2021-06-25T22:18:33.114241",
          "status": "completed"
        },
        "tags": [],
        "id": "operating-thunder"
      },
      "source": [
        "https://www.kaggle.com/columbia2131/mlb-lightgbm-starter-dataset-code-en-ja"
      ],
      "id": "operating-thunder"
    },
    {
      "cell_type": "markdown",
      "metadata": {
        "papermill": {
          "duration": 0.026534,
          "end_time": "2021-06-25T22:18:33.190839",
          "exception": false,
          "start_time": "2021-06-25T22:18:33.164305",
          "status": "completed"
        },
        "tags": [],
        "id": "theoretical-damages"
      },
      "source": [
        "## About Dataset"
      ],
      "id": "theoretical-damages"
    },
    {
      "cell_type": "markdown",
      "metadata": {
        "papermill": {
          "duration": 0.02311,
          "end_time": "2021-06-25T22:18:33.237635",
          "exception": false,
          "start_time": "2021-06-25T22:18:33.214525",
          "status": "completed"
        },
        "tags": [],
        "id": "clinical-cheat"
      },
      "source": [
        "Train.csv is stored as a csv file with each column as follows.  \n",
        "\n",
        "train.csvを以下のようにして各カラムをcsvファイルとして保管しています。"
      ],
      "id": "clinical-cheat"
    },
    {
      "cell_type": "code",
      "metadata": {
        "execution": {
          "iopub.execute_input": "2021-06-25T22:18:33.300733Z",
          "iopub.status.busy": "2021-06-25T22:18:33.299967Z",
          "iopub.status.idle": "2021-06-25T22:18:33.302980Z",
          "shell.execute_reply": "2021-06-25T22:18:33.302209Z",
          "shell.execute_reply.started": "2021-06-25T21:58:13.679983Z"
        },
        "papermill": {
          "duration": 0.042271,
          "end_time": "2021-06-25T22:18:33.303166",
          "exception": false,
          "start_time": "2021-06-25T22:18:33.260895",
          "status": "completed"
        },
        "tags": [],
        "id": "reasonable-assistant"
      },
      "source": [
        "%%capture\n",
        "\"\"\"\n",
        "!pip install pandarallel \n",
        "\n",
        "import gc\n",
        "\n",
        "import numpy as np\n",
        "import pandas as pd\n",
        "from pathlib import Path\n",
        "\n",
        "from pandarallel import pandarallel\n",
        "pandarallel.initialize()\n",
        "\n",
        "BASE_DIR = Path('../input/mlb-player-digital-engagement-forecasting')\n",
        "train = pd.read_csv(BASE_DIR / 'train.csv')\n",
        "\n",
        "null = np.nan\n",
        "true = True\n",
        "false = False\n",
        "\n",
        "for col in train.columns:\n",
        "\n",
        "    if col == 'date': continue\n",
        "\n",
        "    _index = train[col].notnull()\n",
        "    train.loc[_index, col] = train.loc[_index, col].parallel_apply(lambda x: eval(x))\n",
        "\n",
        "    outputs = []\n",
        "    for index, date, record in train.loc[_index, ['date', col]].itertuples():\n",
        "        _df = pd.DataFrame(record)\n",
        "        _df['index'] = index\n",
        "        _df['date'] = date\n",
        "        outputs.append(_df)\n",
        "\n",
        "    outputs = pd.concat(outputs).reset_index(drop=True)\n",
        "\n",
        "    outputs.to_csv(f'{col}_train.csv', index=False)\n",
        "    outputs.to_pickle(f'{col}_train.pkl')\n",
        "\n",
        "    del outputs\n",
        "    del train[col]\n",
        "    gc.collect()\n",
        "\"\"\""
      ],
      "id": "reasonable-assistant",
      "execution_count": null,
      "outputs": []
    },
    {
      "cell_type": "code",
      "metadata": {
        "colab": {
          "base_uri": "https://localhost:8080/"
        },
        "id": "APDXL7SxlCT1",
        "outputId": "46793750-ef1a-4056-c720-406c1264e9b0"
      },
      "source": [
        "!pip install optuna"
      ],
      "id": "APDXL7SxlCT1",
      "execution_count": null,
      "outputs": [
        {
          "output_type": "stream",
          "text": [
            "Requirement already satisfied: optuna in /usr/local/lib/python3.7/dist-packages (2.8.0)\n",
            "Requirement already satisfied: tqdm in /usr/local/lib/python3.7/dist-packages (from optuna) (4.41.1)\n",
            "Requirement already satisfied: cmaes>=0.8.2 in /usr/local/lib/python3.7/dist-packages (from optuna) (0.8.2)\n",
            "Requirement already satisfied: scipy!=1.4.0 in /usr/local/lib/python3.7/dist-packages (from optuna) (1.4.1)\n",
            "Requirement already satisfied: cliff in /usr/local/lib/python3.7/dist-packages (from optuna) (3.8.0)\n",
            "Requirement already satisfied: numpy in /usr/local/lib/python3.7/dist-packages (from optuna) (1.19.5)\n",
            "Requirement already satisfied: sqlalchemy>=1.1.0 in /usr/local/lib/python3.7/dist-packages (from optuna) (1.4.18)\n",
            "Requirement already satisfied: packaging>=20.0 in /usr/local/lib/python3.7/dist-packages (from optuna) (20.9)\n",
            "Requirement already satisfied: alembic in /usr/local/lib/python3.7/dist-packages (from optuna) (1.6.5)\n",
            "Requirement already satisfied: colorlog in /usr/local/lib/python3.7/dist-packages (from optuna) (5.0.1)\n",
            "Requirement already satisfied: PrettyTable>=0.7.2 in /usr/local/lib/python3.7/dist-packages (from cliff->optuna) (2.1.0)\n",
            "Requirement already satisfied: stevedore>=2.0.1 in /usr/local/lib/python3.7/dist-packages (from cliff->optuna) (3.3.0)\n",
            "Requirement already satisfied: pyparsing>=2.1.0 in /usr/local/lib/python3.7/dist-packages (from cliff->optuna) (2.4.7)\n",
            "Requirement already satisfied: PyYAML>=3.12 in /usr/local/lib/python3.7/dist-packages (from cliff->optuna) (3.13)\n",
            "Requirement already satisfied: cmd2>=1.0.0 in /usr/local/lib/python3.7/dist-packages (from cliff->optuna) (2.1.2)\n",
            "Requirement already satisfied: pbr!=2.1.0,>=2.0.0 in /usr/local/lib/python3.7/dist-packages (from cliff->optuna) (5.6.0)\n",
            "Requirement already satisfied: greenlet!=0.4.17; python_version >= \"3\" in /usr/local/lib/python3.7/dist-packages (from sqlalchemy>=1.1.0->optuna) (1.1.0)\n",
            "Requirement already satisfied: importlib-metadata; python_version < \"3.8\" in /usr/local/lib/python3.7/dist-packages (from sqlalchemy>=1.1.0->optuna) (4.5.0)\n",
            "Requirement already satisfied: python-editor>=0.3 in /usr/local/lib/python3.7/dist-packages (from alembic->optuna) (1.0.4)\n",
            "Requirement already satisfied: python-dateutil in /usr/local/lib/python3.7/dist-packages (from alembic->optuna) (2.8.1)\n",
            "Requirement already satisfied: Mako in /usr/local/lib/python3.7/dist-packages (from alembic->optuna) (1.1.4)\n",
            "Requirement already satisfied: wcwidth in /usr/local/lib/python3.7/dist-packages (from PrettyTable>=0.7.2->cliff->optuna) (0.2.5)\n",
            "Requirement already satisfied: attrs>=16.3.0 in /usr/local/lib/python3.7/dist-packages (from cmd2>=1.0.0->cliff->optuna) (21.2.0)\n",
            "Requirement already satisfied: colorama>=0.3.7 in /usr/local/lib/python3.7/dist-packages (from cmd2>=1.0.0->cliff->optuna) (0.4.4)\n",
            "Requirement already satisfied: pyperclip>=1.6 in /usr/local/lib/python3.7/dist-packages (from cmd2>=1.0.0->cliff->optuna) (1.8.2)\n",
            "Requirement already satisfied: typing-extensions; python_version < \"3.8\" in /usr/local/lib/python3.7/dist-packages (from cmd2>=1.0.0->cliff->optuna) (3.7.4.3)\n",
            "Requirement already satisfied: zipp>=0.5 in /usr/local/lib/python3.7/dist-packages (from importlib-metadata; python_version < \"3.8\"->sqlalchemy>=1.1.0->optuna) (3.4.1)\n",
            "Requirement already satisfied: six>=1.5 in /usr/local/lib/python3.7/dist-packages (from python-dateutil->alembic->optuna) (1.15.0)\n",
            "Requirement already satisfied: MarkupSafe>=0.9.2 in /usr/local/lib/python3.7/dist-packages (from Mako->alembic->optuna) (2.0.1)\n"
          ],
          "name": "stdout"
        }
      ]
    },
    {
      "cell_type": "markdown",
      "metadata": {
        "execution": {
          "iopub.execute_input": "2021-06-16T09:14:33.869905Z",
          "iopub.status.busy": "2021-06-16T09:14:33.869464Z",
          "iopub.status.idle": "2021-06-16T09:14:33.874766Z",
          "shell.execute_reply": "2021-06-16T09:14:33.873097Z",
          "shell.execute_reply.started": "2021-06-16T09:14:33.869879Z"
        },
        "papermill": {
          "duration": 0.025072,
          "end_time": "2021-06-25T22:18:33.352190",
          "exception": false,
          "start_time": "2021-06-25T22:18:33.327118",
          "status": "completed"
        },
        "tags": [],
        "id": "frozen-alfred"
      },
      "source": [
        "## Training"
      ],
      "id": "frozen-alfred"
    },
    {
      "cell_type": "code",
      "metadata": {
        "execution": {
          "iopub.execute_input": "2021-06-25T22:18:33.415350Z",
          "iopub.status.busy": "2021-06-25T22:18:33.414585Z",
          "iopub.status.idle": "2021-06-25T22:18:36.343351Z",
          "shell.execute_reply": "2021-06-25T22:18:36.343900Z",
          "shell.execute_reply.started": "2021-06-25T21:58:13.707952Z"
        },
        "papermill": {
          "duration": 2.967463,
          "end_time": "2021-06-25T22:18:36.344129",
          "exception": false,
          "start_time": "2021-06-25T22:18:33.376666",
          "status": "completed"
        },
        "tags": [],
        "id": "concrete-cruise"
      },
      "source": [
        "import numpy as np\n",
        "import pandas as pd\n",
        "from pathlib import Path\n",
        "from sklearn.metrics import mean_absolute_error\n",
        "from datetime import timedelta\n",
        "from functools import reduce\n",
        "from tqdm import tqdm\n",
        "import optuna.integration.lightgbm as lgbm\n",
        "#import lightgbm as lgbm\n",
        "#import mlb\n",
        "import pickle\n",
        "from datetime import datetime as dt\n",
        "import copy\n",
        "import gc\n",
        "from sklearn.decomposition import PCA\n",
        "import math\n",
        "from sklearn.model_selection import KFold"
      ],
      "id": "concrete-cruise",
      "execution_count": null,
      "outputs": []
    },
    {
      "cell_type": "code",
      "metadata": {
        "colab": {
          "base_uri": "https://localhost:8080/"
        },
        "id": "ykU9DkvWXkRB",
        "outputId": "eac3b9ab-11ff-4075-c9db-ebd5e3341012"
      },
      "source": [
        "from google.colab import drive\n",
        "drive.mount('/content/drive')"
      ],
      "id": "ykU9DkvWXkRB",
      "execution_count": null,
      "outputs": [
        {
          "output_type": "stream",
          "text": [
            "Drive already mounted at /content/drive; to attempt to forcibly remount, call drive.mount(\"/content/drive\", force_remount=True).\n"
          ],
          "name": "stdout"
        }
      ]
    },
    {
      "cell_type": "code",
      "metadata": {
        "execution": {
          "iopub.execute_input": "2021-06-25T22:18:36.397396Z",
          "iopub.status.busy": "2021-06-25T22:18:36.396731Z",
          "iopub.status.idle": "2021-06-25T22:18:36.401367Z",
          "shell.execute_reply": "2021-06-25T22:18:36.400852Z",
          "shell.execute_reply.started": "2021-06-25T21:58:16.647196Z"
        },
        "papermill": {
          "duration": 0.032131,
          "end_time": "2021-06-25T22:18:36.401524",
          "exception": false,
          "start_time": "2021-06-25T22:18:36.369393",
          "status": "completed"
        },
        "tags": [],
        "id": "declared-principal"
      },
      "source": [
        "BASE_DIR = Path('/content/drive/MyDrive/mlb/input')\n",
        "TRAIN_DIR = Path('/content/drive/MyDrive/mlb/input/archive')"
      ],
      "id": "declared-principal",
      "execution_count": null,
      "outputs": []
    },
    {
      "cell_type": "code",
      "metadata": {
        "execution": {
          "iopub.execute_input": "2021-06-25T22:18:36.461288Z",
          "iopub.status.busy": "2021-06-25T22:18:36.460608Z",
          "iopub.status.idle": "2021-06-25T22:18:55.337941Z",
          "shell.execute_reply": "2021-06-25T22:18:55.336912Z",
          "shell.execute_reply.started": "2021-06-25T21:58:16.654219Z"
        },
        "papermill": {
          "duration": 18.911828,
          "end_time": "2021-06-25T22:18:55.338134",
          "exception": false,
          "start_time": "2021-06-25T22:18:36.426306",
          "status": "completed"
        },
        "tags": [],
        "id": "tough-launch"
      },
      "source": [
        "players = pd.read_csv(BASE_DIR / 'players.csv')\n",
        "\n",
        "rosters = pd.read_pickle(TRAIN_DIR / 'rosters_train.pkl')\n",
        "targets = pd.read_pickle(TRAIN_DIR / 'nextDayPlayerEngagement_train.pkl')\n",
        "scores1 = pd.read_pickle(TRAIN_DIR / 'playerBoxScores_train.pkl')\n",
        "scores = scores1.groupby(['playerId', 'date']).sum().reset_index()\n",
        "twitter = pd.read_pickle(\"/content/drive/MyDrive/mlb/input/archive/playerTwitterFollowers_train.pkl\")\n",
        "games = pd.read_pickle(TRAIN_DIR / 'games_train.pkl')\n",
        "events = pd.read_pickle(TRAIN_DIR / 'events_train.pkl')\n",
        "standings = pd.read_pickle(TRAIN_DIR / 'standings_train.pkl')\n",
        "teamtwitter = pd.read_pickle(TRAIN_DIR / 'teamTwitterFollowers_train.pkl')\n",
        "transaction = pd.read_pickle(TRAIN_DIR / 'teamTwitterFollowers_train.pkl')\n",
        "awards = pd.read_csv(BASE_DIR / 'awards.csv')\n",
        "seasons = pd.read_csv(BASE_DIR / 'seasons.csv')\n",
        "teams = pd.read_csv(BASE_DIR / 'teams.csv')\n",
        "player_target_stats = pd.read_csv(\"/content/drive/MyDrive/mlb/input/player_target_stats.csv\")\n",
        "\n",
        "example_test = pd.read_csv(\"/content/drive/MyDrive/mlb/input/example_test.csv\")"
      ],
      "id": "tough-launch",
      "execution_count": null,
      "outputs": []
    },
    {
      "cell_type": "code",
      "metadata": {
        "id": "4BRMq9l8YfYI",
        "colab": {
          "base_uri": "https://localhost:8080/"
        },
        "outputId": "54b50090-88fd-4cda-c3a1-1f14b4f7a2d0"
      },
      "source": [
        "def unpack_json(json_str):\n",
        "    return np.nan if pd.isna(json_str) else pd.read_json(json_str)\n",
        "\n",
        "test = unpack_json(example_test[\"rosters\"].iloc[0])\n",
        "test[\"playerId\"]\n",
        "del example_test\n",
        "gc.collect()"
      ],
      "id": "4BRMq9l8YfYI",
      "execution_count": null,
      "outputs": [
        {
          "output_type": "execute_result",
          "data": {
            "text/plain": [
              "1195"
            ]
          },
          "metadata": {
            "tags": []
          },
          "execution_count": 183
        }
      ]
    },
    {
      "cell_type": "code",
      "metadata": {
        "execution": {
          "iopub.execute_input": "2021-06-25T22:18:55.398266Z",
          "iopub.status.busy": "2021-06-25T22:18:55.397258Z",
          "iopub.status.idle": "2021-06-25T22:18:55.429108Z",
          "shell.execute_reply": "2021-06-25T22:18:55.428347Z",
          "shell.execute_reply.started": "2021-06-25T21:58:36.71955Z"
        },
        "papermill": {
          "duration": 0.065838,
          "end_time": "2021-06-25T22:18:55.429265",
          "exception": false,
          "start_time": "2021-06-25T22:18:55.363427",
          "status": "completed"
        },
        "tags": [],
        "id": "joined-traffic"
      },
      "source": [
        "awards2 = awards.groupby(\"playerId\").count()\n",
        "awards2 = awards2.reset_index()"
      ],
      "id": "joined-traffic",
      "execution_count": null,
      "outputs": []
    },
    {
      "cell_type": "code",
      "metadata": {
        "id": "dRXO92-ROJ2_"
      },
      "source": [
        "teamtwitter[\"teamnumberOfFollowers\"] = teamtwitter[\"numberOfFollowers\"]\n",
        "teamtwi = teamtwitter.groupby(\"teamId\").mean()[\"teamnumberOfFollowers\"].reset_index()"
      ],
      "id": "dRXO92-ROJ2_",
      "execution_count": null,
      "outputs": []
    },
    {
      "cell_type": "code",
      "metadata": {
        "colab": {
          "base_uri": "https://localhost:8080/",
          "height": 626
        },
        "id": "M8Mvi9up7ypT",
        "outputId": "9e8f9ea1-95f5-416e-adfd-2df6704ff5fd"
      },
      "source": [
        "players"
      ],
      "id": "M8Mvi9up7ypT",
      "execution_count": null,
      "outputs": [
        {
          "output_type": "execute_result",
          "data": {
            "text/html": [
              "<div>\n",
              "<style scoped>\n",
              "    .dataframe tbody tr th:only-of-type {\n",
              "        vertical-align: middle;\n",
              "    }\n",
              "\n",
              "    .dataframe tbody tr th {\n",
              "        vertical-align: top;\n",
              "    }\n",
              "\n",
              "    .dataframe thead th {\n",
              "        text-align: right;\n",
              "    }\n",
              "</style>\n",
              "<table border=\"1\" class=\"dataframe\">\n",
              "  <thead>\n",
              "    <tr style=\"text-align: right;\">\n",
              "      <th></th>\n",
              "      <th>playerId</th>\n",
              "      <th>playerName</th>\n",
              "      <th>DOB</th>\n",
              "      <th>mlbDebutDate</th>\n",
              "      <th>birthCity</th>\n",
              "      <th>birthStateProvince</th>\n",
              "      <th>birthCountry</th>\n",
              "      <th>heightInches</th>\n",
              "      <th>weight</th>\n",
              "      <th>primaryPositionCode</th>\n",
              "      <th>primaryPositionName</th>\n",
              "      <th>playerForTestSetAndFuturePreds</th>\n",
              "    </tr>\n",
              "  </thead>\n",
              "  <tbody>\n",
              "    <tr>\n",
              "      <th>0</th>\n",
              "      <td>665482</td>\n",
              "      <td>Gilberto Celestino</td>\n",
              "      <td>1999-02-13</td>\n",
              "      <td>2021-06-02</td>\n",
              "      <td>Santo Domingo</td>\n",
              "      <td>NaN</td>\n",
              "      <td>Dominican Republic</td>\n",
              "      <td>72</td>\n",
              "      <td>170</td>\n",
              "      <td>8</td>\n",
              "      <td>Outfielder</td>\n",
              "      <td>False</td>\n",
              "    </tr>\n",
              "    <tr>\n",
              "      <th>1</th>\n",
              "      <td>593590</td>\n",
              "      <td>Webster Rivas</td>\n",
              "      <td>1990-08-08</td>\n",
              "      <td>2021-05-28</td>\n",
              "      <td>Nagua</td>\n",
              "      <td>NaN</td>\n",
              "      <td>Dominican Republic</td>\n",
              "      <td>73</td>\n",
              "      <td>219</td>\n",
              "      <td>3</td>\n",
              "      <td>First Base</td>\n",
              "      <td>True</td>\n",
              "    </tr>\n",
              "    <tr>\n",
              "      <th>2</th>\n",
              "      <td>661269</td>\n",
              "      <td>Vladimir Gutierrez</td>\n",
              "      <td>1995-09-18</td>\n",
              "      <td>2021-05-28</td>\n",
              "      <td>Havana</td>\n",
              "      <td>NaN</td>\n",
              "      <td>Cuba</td>\n",
              "      <td>73</td>\n",
              "      <td>190</td>\n",
              "      <td>1</td>\n",
              "      <td>Pitcher</td>\n",
              "      <td>True</td>\n",
              "    </tr>\n",
              "    <tr>\n",
              "      <th>3</th>\n",
              "      <td>669212</td>\n",
              "      <td>Eli Morgan</td>\n",
              "      <td>1996-05-13</td>\n",
              "      <td>2021-05-28</td>\n",
              "      <td>Rancho Palos Verdes</td>\n",
              "      <td>CA</td>\n",
              "      <td>USA</td>\n",
              "      <td>70</td>\n",
              "      <td>190</td>\n",
              "      <td>1</td>\n",
              "      <td>Pitcher</td>\n",
              "      <td>True</td>\n",
              "    </tr>\n",
              "    <tr>\n",
              "      <th>4</th>\n",
              "      <td>666201</td>\n",
              "      <td>Alek Manoah</td>\n",
              "      <td>1998-01-09</td>\n",
              "      <td>2021-05-27</td>\n",
              "      <td>Homestead</td>\n",
              "      <td>FL</td>\n",
              "      <td>USA</td>\n",
              "      <td>78</td>\n",
              "      <td>260</td>\n",
              "      <td>1</td>\n",
              "      <td>Pitcher</td>\n",
              "      <td>True</td>\n",
              "    </tr>\n",
              "    <tr>\n",
              "      <th>...</th>\n",
              "      <td>...</td>\n",
              "      <td>...</td>\n",
              "      <td>...</td>\n",
              "      <td>...</td>\n",
              "      <td>...</td>\n",
              "      <td>...</td>\n",
              "      <td>...</td>\n",
              "      <td>...</td>\n",
              "      <td>...</td>\n",
              "      <td>...</td>\n",
              "      <td>...</td>\n",
              "      <td>...</td>\n",
              "    </tr>\n",
              "    <tr>\n",
              "      <th>2056</th>\n",
              "      <td>672695</td>\n",
              "      <td>Geraldo Perdomo</td>\n",
              "      <td>1999-10-22</td>\n",
              "      <td>NaN</td>\n",
              "      <td>Santo Domingo</td>\n",
              "      <td>NaN</td>\n",
              "      <td>Dominican Republic</td>\n",
              "      <td>74</td>\n",
              "      <td>203</td>\n",
              "      <td>6</td>\n",
              "      <td>Shortstop</td>\n",
              "      <td>True</td>\n",
              "    </tr>\n",
              "    <tr>\n",
              "      <th>2057</th>\n",
              "      <td>672911</td>\n",
              "      <td>Jesus Cruz</td>\n",
              "      <td>1995-04-15</td>\n",
              "      <td>NaN</td>\n",
              "      <td>Salinas de Hidalgo</td>\n",
              "      <td>San Luis Potosi</td>\n",
              "      <td>Mexico</td>\n",
              "      <td>73</td>\n",
              "      <td>230</td>\n",
              "      <td>1</td>\n",
              "      <td>Pitcher</td>\n",
              "      <td>False</td>\n",
              "    </tr>\n",
              "    <tr>\n",
              "      <th>2058</th>\n",
              "      <td>676103</td>\n",
              "      <td>Damon Jones</td>\n",
              "      <td>1994-09-30</td>\n",
              "      <td>NaN</td>\n",
              "      <td>Twin Falls</td>\n",
              "      <td>ID</td>\n",
              "      <td>USA</td>\n",
              "      <td>77</td>\n",
              "      <td>233</td>\n",
              "      <td>1</td>\n",
              "      <td>Pitcher</td>\n",
              "      <td>True</td>\n",
              "    </tr>\n",
              "    <tr>\n",
              "      <th>2059</th>\n",
              "      <td>676755</td>\n",
              "      <td>Isaac Mattson</td>\n",
              "      <td>1995-07-14</td>\n",
              "      <td>NaN</td>\n",
              "      <td>Erie</td>\n",
              "      <td>PA</td>\n",
              "      <td>USA</td>\n",
              "      <td>74</td>\n",
              "      <td>205</td>\n",
              "      <td>1</td>\n",
              "      <td>Pitcher</td>\n",
              "      <td>True</td>\n",
              "    </tr>\n",
              "    <tr>\n",
              "      <th>2060</th>\n",
              "      <td>680430</td>\n",
              "      <td>Nick Allgeyer</td>\n",
              "      <td>1996-02-03</td>\n",
              "      <td>NaN</td>\n",
              "      <td>St. Louis</td>\n",
              "      <td>MO</td>\n",
              "      <td>USA</td>\n",
              "      <td>75</td>\n",
              "      <td>210</td>\n",
              "      <td>1</td>\n",
              "      <td>Pitcher</td>\n",
              "      <td>True</td>\n",
              "    </tr>\n",
              "  </tbody>\n",
              "</table>\n",
              "<p>2061 rows × 12 columns</p>\n",
              "</div>"
            ],
            "text/plain": [
              "      playerId  ... playerForTestSetAndFuturePreds\n",
              "0       665482  ...                          False\n",
              "1       593590  ...                           True\n",
              "2       661269  ...                           True\n",
              "3       669212  ...                           True\n",
              "4       666201  ...                           True\n",
              "...        ...  ...                            ...\n",
              "2056    672695  ...                           True\n",
              "2057    672911  ...                          False\n",
              "2058    676103  ...                           True\n",
              "2059    676755  ...                           True\n",
              "2060    680430  ...                           True\n",
              "\n",
              "[2061 rows x 12 columns]"
            ]
          },
          "metadata": {
            "tags": []
          },
          "execution_count": 186
        }
      ]
    },
    {
      "cell_type": "code",
      "metadata": {
        "execution": {
          "iopub.execute_input": "2021-06-25T22:18:55.485487Z",
          "iopub.status.busy": "2021-06-25T22:18:55.484858Z",
          "iopub.status.idle": "2021-06-25T22:18:55.559589Z",
          "shell.execute_reply": "2021-06-25T22:18:55.560093Z",
          "shell.execute_reply.started": "2021-06-25T21:58:36.751087Z"
        },
        "papermill": {
          "duration": 0.105303,
          "end_time": "2021-06-25T22:18:55.560260",
          "exception": false,
          "start_time": "2021-06-25T22:18:55.454957",
          "status": "completed"
        },
        "tags": [],
        "id": "saved-assignment"
      },
      "source": [
        "games = pd.read_pickle(TRAIN_DIR / 'games_train.pkl')\n",
        "#games.index[games[\"detailedGameState\"] == \"Postponed\"].shape\n",
        "#games.drop(games.loc[games['detailedGameState']=='Postponed'].index, inplace=True)\n",
        "#games[\"detailedGameState\"].unique()\n",
        "#games[games.duplicated(subset=[\"gamePk\"], keep=False)]\n",
        "#games['detailedGameState']=='Postponed']だとスコアはキロクされていない"
      ],
      "id": "saved-assignment",
      "execution_count": null,
      "outputs": []
    },
    {
      "cell_type": "code",
      "metadata": {
        "id": "s5mtlhAlBjJw",
        "colab": {
          "base_uri": "https://localhost:8080/"
        },
        "outputId": "df3a56fe-c9d3-430c-9e13-ae41d7202b15"
      },
      "source": [
        "targets[\"engagementMetricsDate\"] = targets[\"engagementMetricsDate\"].str.replace('-', '')\n",
        "yesterday_targets = targets.drop('date', axis=1)\n",
        "yesterday_targets = yesterday_targets.rename(columns={'engagementMetricsDate':'date', 'target1': 'yest_target1','target2': 'yest_target2','target3': 'yest_target3','target4': 'yest_target4'})\n",
        "yesterday_targets[\"date\"] = yesterday_targets[\"date\"].astype(int)\n",
        "yesterday_targets[\"date\"]"
      ],
      "id": "s5mtlhAlBjJw",
      "execution_count": null,
      "outputs": [
        {
          "output_type": "execute_result",
          "data": {
            "text/plain": [
              "0          20180102\n",
              "1          20180102\n",
              "2          20180102\n",
              "3          20180102\n",
              "4          20180102\n",
              "             ...   \n",
              "2506171    20210501\n",
              "2506172    20210501\n",
              "2506173    20210501\n",
              "2506174    20210501\n",
              "2506175    20210501\n",
              "Name: date, Length: 2506176, dtype: int64"
            ]
          },
          "metadata": {
            "tags": []
          },
          "execution_count": 188
        }
      ]
    },
    {
      "cell_type": "code",
      "metadata": {
        "colab": {
          "base_uri": "https://localhost:8080/"
        },
        "id": "oSBa69W9UBGk",
        "outputId": "ce763265-3790-4bab-95e4-10bb8d5d9f03"
      },
      "source": [
        "targets_cols = ['playerId', 'target1', 'target2', 'target3', 'target4', 'date']\n",
        "players_cols = ['playerId', 'primaryPositionName',\"playerName\"]\n",
        "rosters_cols = ['playerId', 'teamId', 'status', 'date']\n",
        "yesterday_targets_cols = [\"date\",\"playerId\",\"yest_target1\",\"yest_target2\",\"yest_target3\",\"yest_target4\"]\n",
        "scores_cols = ['playerId', 'battingOrder', 'gamesPlayedBatting', 'flyOuts',\n",
        "       'groundOuts', 'runsScored', 'doubles', 'triples', 'homeRuns',\n",
        "       'strikeOuts', 'baseOnBalls', 'intentionalWalks', 'hits', 'hitByPitch',\n",
        "       'atBats', 'caughtStealing', 'stolenBases', 'groundIntoDoublePlay',\n",
        "       'groundIntoTriplePlay', 'plateAppearances', 'totalBases', 'rbi',\n",
        "       'leftOnBase', 'sacBunts', 'sacFlies', 'catchersInterference',\n",
        "       'pickoffs', 'gamesPlayedPitching', 'gamesStartedPitching',\n",
        "       'completeGamesPitching', 'shutoutsPitching', 'winsPitching',\n",
        "       'lossesPitching', 'flyOutsPitching', 'airOutsPitching',\n",
        "       'groundOutsPitching', 'runsPitching', 'doublesPitching',\n",
        "       'triplesPitching', 'homeRunsPitching', 'strikeOutsPitching',\n",
        "       'baseOnBallsPitching', 'intentionalWalksPitching', 'hitsPitching',\n",
        "       'hitByPitchPitching', 'atBatsPitching', 'caughtStealingPitching',\n",
        "       'stolenBasesPitching', 'inningsPitched', 'saveOpportunities',\n",
        "       'earnedRuns', 'battersFaced', 'outsPitching', 'pitchesThrown', 'balls',\n",
        "       'strikes', 'hitBatsmen', 'balks', 'wildPitches', 'pickoffsPitching',\n",
        "       'rbiPitching', 'gamesFinishedPitching', 'inheritedRunners',\n",
        "       'inheritedRunnersScored', 'catchersInterferencePitching',\n",
        "       'sacBuntsPitching', 'sacFliesPitching', 'saves', 'holds', 'blownSaves',\n",
        "       'assists', 'putOuts', 'errors', 'chances', 'date',\"gamePk\"]\n",
        "games_cols = [\"gamePk\",\"homeId\",\"dayNight\",\"seriesDescription\",\"gamesInSeries\",\"homeWinner\",\"awayWinner\",\"homeScore\",\"awayScore\",\"gameType\",\n",
        "              \"gameDate\"]\n",
        "playertwitter_cols = [\"playerId\",\"numberOfFollowers\"]\n",
        "awards_cols = [\"playerId\",\"awardName\"]\n",
        "standings_cols = [\"date\",\"teamId\",\"divisionRank\",\"divisionLeader\",\"wildCardLeader\",\"leagueRank\",\"divisionId\",\"gameDate\"]\n",
        "teamtwitter_cols = [\"teamId\",\"teamnumberOfFollowers\"]\n",
        "targets[\"engagementMetricsDate\"] = targets[\"engagementMetricsDate\"].str.replace('-', '')\n",
        "yesterday_targets = targets.drop('date', axis=1)\n",
        "yesterday_targets = yesterday_targets.rename(columns={'engagementMetricsDate':'date', 'target1': 'yest_target1','target2': 'yest_target2','target3': 'yest_target3','target4': 'yest_target4'})\n",
        "yesterday_targets[\"date\"] = yesterday_targets[\"date\"].astype(int)\n",
        "yesterday_targets[\"date\"]"
      ],
      "id": "oSBa69W9UBGk",
      "execution_count": null,
      "outputs": [
        {
          "output_type": "execute_result",
          "data": {
            "text/plain": [
              "0          20180102\n",
              "1          20180102\n",
              "2          20180102\n",
              "3          20180102\n",
              "4          20180102\n",
              "             ...   \n",
              "2506171    20210501\n",
              "2506172    20210501\n",
              "2506173    20210501\n",
              "2506174    20210501\n",
              "2506175    20210501\n",
              "Name: date, Length: 2506176, dtype: int64"
            ]
          },
          "metadata": {
            "tags": []
          },
          "execution_count": 189
        }
      ]
    },
    {
      "cell_type": "code",
      "metadata": {
        "id": "ZBRcuG-4ty69"
      },
      "source": [
        "feature_cols = ['label_playerId', 'label_primaryPositionName', 'label_teamId',\n",
        "       'label_status', 'battingOrder', 'gamesPlayedBatting', 'flyOuts',\n",
        "       'groundOuts', 'runsScored','homeRuns',\n",
        "       'strikeOuts', 'baseOnBalls',  'hits', 'hitByPitch',\n",
        "       'atBats', 'stolenBases', \n",
        "       'plateAppearances', 'totalBases', 'rbi',\n",
        "       'leftOnBase', 'sacFlies',\n",
        "       'gamesPlayedPitching', 'gamesStartedPitching',\n",
        "       'completeGamesPitching','winsPitching',\n",
        "       'lossesPitching', 'flyOutsPitching', 'airOutsPitching',\n",
        "       'groundOutsPitching', 'runsPitching', 'doublesPitching',\n",
        "       'triplesPitching', 'homeRunsPitching', 'strikeOutsPitching',\n",
        "       'baseOnBallsPitching',  'hitsPitching',\n",
        "       'hitByPitchPitching', 'atBatsPitching', 'caughtStealingPitching',\n",
        "       'stolenBasesPitching', 'inningsPitched', 'saveOpportunities',\n",
        "       'earnedRuns', 'battersFaced', 'outsPitching', 'pitchesThrown', 'balls',\n",
        "       'strikes', 'hitBatsmen', 'balks', 'wildPitches', 'pickoffsPitching',\n",
        "       'rbiPitching', 'gamesFinishedPitching', 'inheritedRunners',\n",
        "       'inheritedRunnersScored',\n",
        "       'sacFliesPitching', 'saves', 'holds',\n",
        "       'assists', 'putOuts', 'errors', 'chances','target1_mean',\n",
        " 'target1_median',\n",
        " 'target1_std',\n",
        " 'target1_min',\n",
        " 'target1_max',\n",
        " 'target1_prob',\n",
        " 'target2_mean',\n",
        " 'target2_median',\n",
        " 'target2_std',\n",
        " 'target2_min',\n",
        " 'target2_max',\n",
        " 'target2_prob',\n",
        " 'target3_mean',\n",
        " 'target3_median',\n",
        " 'target3_std',\n",
        " 'target3_min',\n",
        " 'target3_max',\n",
        " 'target3_prob',\n",
        " 'target4_mean',\n",
        " 'target4_median',\n",
        " 'target4_std',\n",
        " 'target4_min',\n",
        " 'target4_max',\n",
        " 'target4_prob',\"divisionId\",\"teamnumberOfFollowers\",\"preseasonhits\"]\n",
        "feature_cols2 = ['label_playerId', 'label_primaryPositionName', 'label_teamId',\n",
        "       'label_status', 'battingOrder', 'gamesPlayedBatting', 'flyOuts',\n",
        "       'groundOuts', 'runsScored',# 'doubles', 'triples', 'homeRuns',\n",
        "       'baseOnBalls', 'hits',\n",
        "      # 'atBats', 'caughtStealing', 'stolenBases', 'groundIntoDoublePlay',\n",
        "       'plateAppearances', 'totalBases', 'rbi',\n",
        "      # 'leftOnBase', 'sacBunts', 'sacFlies', 'catchersInterference',\n",
        "       'pickoffs', 'gamesPlayedPitching', 'gamesStartedPitching',\n",
        "       'winsPitching',\n",
        "       'lossesPitching',# 'flyOutsPitching', 'airOutsPitching',\n",
        "       'runsPitching', \n",
        "       'strikeOutsPitching',\n",
        "       #'hitsPitching',\n",
        "       'hitByPitchPitching',  'caughtStealingPitching',\n",
        "       'stolenBasesPitching', 'inningsPitched',\n",
        "        'battersFaced', \n",
        "        'balks', 'pickoffsPitching',\n",
        "        'inheritedRunners',\n",
        "        \n",
        "       #'sacBuntsPitching', 'sacFliesPitching', 'saves', 'holds', 'blownSaves',\n",
        "       'putOuts','chances','target1_mean',\n",
        " 'target1_median',\n",
        " 'target1_std',\n",
        " 'target1_min',\n",
        " 'target1_max',\n",
        " 'target1_prob',\n",
        " 'target2_mean',\n",
        " 'target2_median',\n",
        " 'target2_std',\n",
        " 'target2_min',\n",
        " 'target2_max',\n",
        " 'target2_prob',\n",
        " 'target3_mean',\n",
        " 'target3_median',\n",
        " 'target3_std',\n",
        " 'target3_min',\n",
        " 'target3_max',\n",
        " 'target3_prob',\n",
        " 'target4_mean',\n",
        " 'target4_median',\n",
        " 'target4_std',\n",
        " 'target4_min',\n",
        " 'target4_max',\n",
        " 'target4_prob',\n",
        "    'target1',\"divisionId\",\"teamnumberOfFollowers\",\"preseasonhits\"]\n",
        "feature_cols3 = ['label_playerId', 'label_primaryPositionName', 'label_teamId',\n",
        "       'label_status', #'gamesPlayedBatting', 'flyOuts',\n",
        "        'homeRuns',\n",
        "      # 'strikeOuts', 'baseOnBalls', 'intentionalWalks', 'hits', 'hitByPitch',\n",
        "     # 'atBats', 'caughtStealing', 'stolenBases', 'groundIntoDoublePlay',\n",
        "        'totalBases', 'rbi',\n",
        "      # 'leftOnBase', 'sacBunts', 'sacFlies', 'catchersInterference',\n",
        "        'gamesStartedPitching',\n",
        "      # 'completeGamesPitching', 'shutoutsPitching', 'winsPitching',\n",
        "       'lossesPitching', \n",
        "      # 'groundOutsPitching', 'runsPitching', 'doublesPitching',\n",
        "      # 'triplesPitching', 'homeRunsPitching', 'strikeOutsPitching',\n",
        "       #'baseOnBallsPitching', 'intentionalWalksPitching', 'hitsPitching',\n",
        "       #'hitByPitchPitching', 'atBatsPitching', 'caughtStealingPitching',\n",
        "       'inningsPitched', \n",
        "        'battersFaced', 'pitchesThrown', \n",
        "      # 'strikes', 'hitBatsmen', 'balks', 'wildPitches', 'pickoffsPitching',\n",
        "      # 'rbiPitching', 'gamesFinishedPitching', 'inheritedRunners',\n",
        "       #'inheritedRunnersScored', 'catchersInterferencePitching',\n",
        "       #'sacBuntsPitching', 'sacFliesPitching', 'saves', 'holds', 'blownSaves',\n",
        "      # 'assists', 'putOuts', 'errors', 'chances',\n",
        "      'target1_mean',\n",
        " 'target1_median',\n",
        " 'target1_std',\n",
        " 'target1_min',\n",
        " 'target1_max',\n",
        " 'target1_prob',\n",
        " 'target2_mean',\n",
        " 'target2_median',\n",
        " 'target2_std',\n",
        " 'target2_min',\n",
        " 'target2_max',\n",
        " 'target2_prob',\n",
        " 'target3_mean',\n",
        " 'target3_median',\n",
        " 'target3_std',\n",
        " 'target3_min',\n",
        " 'target3_max',\n",
        " 'target3_prob',\n",
        " 'target4_mean',\n",
        " 'target4_median',\n",
        " 'target4_std',\n",
        " 'target4_min',\n",
        " 'target4_max',\n",
        " 'target4_prob',\n",
        "    \"divisionId\",\"teamnumberOfFollowers\",\"target2\",\"preseasonhits\"]\n",
        "feature_cols4 = ['label_playerId', 'label_primaryPositionName', 'label_teamId',\n",
        "       'label_status', 'battingOrder', 'gamesPlayedBatting', 'flyOuts',\n",
        "        'runsScored','triples','groundIntoDoublePlay',\n",
        "       'strikeOuts', 'baseOnBalls','hits', \n",
        "       'atBats', 'caughtStealing',\n",
        "       'plateAppearances', 'totalBases', 'rbi',\n",
        "       'leftOnBase', 'sacBunts', 'sacFlies',\n",
        "        'gamesPlayedPitching',\n",
        "        'winsPitching',\n",
        "       'airOutsPitching',\n",
        "       'runsPitching', 'doublesPitching',\n",
        "       'triplesPitching', 'homeRunsPitching', 'strikeOutsPitching',\n",
        "        'intentionalWalksPitching', 'hitsPitching',\n",
        "       'hitByPitchPitching', 'atBatsPitching', \n",
        "        'inningsPitched', 'saveOpportunities',\n",
        "       'battersFaced', 'outsPitching', 'pitchesThrown', 'balls',\n",
        "       'strikes','wildPitches', \n",
        "       'rbiPitching', 'gamesFinishedPitching', 'inheritedRunners',\n",
        "       'inheritedRunnersScored', \n",
        "       'sacBuntsPitching', 'holds', 'blownSaves',\n",
        "       'assists', 'putOuts', 'errors', 'chances','target1_mean',\n",
        " 'target1_median',\n",
        " 'target1_std',\n",
        " 'target1_min',\n",
        " 'target1_max',\n",
        " 'target1_prob',\n",
        " 'target2_mean',\n",
        " 'target2_median',\n",
        " 'target2_std',\n",
        " 'target2_min',\n",
        " 'target2_max',\n",
        " 'target2_prob',\n",
        " 'target3_mean',\n",
        " 'target3_median',\n",
        " 'target3_std',\n",
        " 'target3_min',\n",
        " 'target3_max',\n",
        " 'target3_prob',\n",
        " 'target4_mean',\n",
        " 'target4_median',\n",
        " 'target4_std',\n",
        " 'target4_min',\n",
        " 'target4_max',\n",
        " 'target4_prob',\n",
        " 'target1', \"divisionId\",\"target2\",\"target3\",\"teamnumberOfFollowers\",\"preseasonhits\"]"
      ],
      "id": "ZBRcuG-4ty69",
      "execution_count": null,
      "outputs": []
    },
    {
      "cell_type": "code",
      "metadata": {
        "id": "WrdnRRfZtzBL"
      },
      "source": [
        ""
      ],
      "id": "WrdnRRfZtzBL",
      "execution_count": null,
      "outputs": []
    },
    {
      "cell_type": "code",
      "metadata": {
        "id": "e-haSgyI78O6"
      },
      "source": [
        "twitter[\"strdate\"] = twitter[\"date\"].astype(str)\n",
        "twitter[\"year_months\"] = twitter[\"strdate\"].str[0:6].astype(int)\n"
      ],
      "id": "e-haSgyI78O6",
      "execution_count": null,
      "outputs": []
    },
    {
      "cell_type": "code",
      "metadata": {
        "id": "HyLf8gpubQJA"
      },
      "source": [
        "targets['hasTwitterAccount'] = targets.playerId.isin(twitter.playerId)"
      ],
      "id": "HyLf8gpubQJA",
      "execution_count": null,
      "outputs": []
    },
    {
      "cell_type": "code",
      "metadata": {
        "execution": {
          "iopub.execute_input": "2021-06-25T22:18:55.703085Z",
          "iopub.status.busy": "2021-06-25T22:18:55.702455Z",
          "iopub.status.idle": "2021-06-25T22:19:05.117538Z",
          "shell.execute_reply": "2021-06-25T22:19:05.116598Z",
          "shell.execute_reply.started": "2021-06-25T21:58:36.852876Z"
        },
        "papermill": {
          "duration": 9.448263,
          "end_time": "2021-06-25T22:19:05.117741",
          "exception": false,
          "start_time": "2021-06-25T22:18:55.669478",
          "status": "completed"
        },
        "tags": [],
        "id": "unauthorized-stretch"
      },
      "source": [
        "train = targets[targets_cols].merge(players[players_cols], on=['playerId'], how='left')\n",
        "train = train.merge(rosters[rosters_cols], on=['playerId', 'date'], how='left')\n",
        "train = train.merge(scores[scores_cols], on=['playerId', 'date'], how='left')\n",
        "train = train.merge(games[games_cols], on=[\"gamePk\"], how=\"left\")\n",
        "train = train.merge(standings[standings_cols], on=['date',\"teamId\"], how='left')\n",
        "train = train.merge(awards2[awards_cols], on=['playerId'], how='left')\n",
        "train = train.merge(player_target_stats, how='inner', left_on=[\"playerId\"],right_on=[\"playerId\"])\n",
        "train[\"strdate\"] = train[\"date\"].astype(str)\n",
        "train[\"year_months\"] = train[\"strdate\"].str[0:6].astype(int)\n",
        "#train = train.merge(twitter[playertwitter_cols], on=['playerId'], how='left')\n",
        "train = train.merge(teamtwi[teamtwitter_cols], on=['teamId'], how='left')\n",
        "\n"
      ],
      "id": "unauthorized-stretch",
      "execution_count": null,
      "outputs": []
    },
    {
      "cell_type": "code",
      "metadata": {
        "id": "mVHPPnE8GSqG"
      },
      "source": [
        "targets['hasTwitterAccount'] = targets.playerId.isin(twitter.playerId)"
      ],
      "id": "mVHPPnE8GSqG",
      "execution_count": null,
      "outputs": []
    },
    {
      "cell_type": "code",
      "metadata": {
        "colab": {
          "base_uri": "https://localhost:8080/"
        },
        "id": "9EexEYL53a9z",
        "outputId": "fcec3393-9f10-40d0-cf4c-f193a9c4364d"
      },
      "source": [
        "test[\"playerId\"]"
      ],
      "id": "9EexEYL53a9z",
      "execution_count": null,
      "outputs": [
        {
          "output_type": "execute_result",
          "data": {
            "text/plain": [
              "0       405395\n",
              "1       408234\n",
              "2       444482\n",
              "3       445276\n",
              "4       446334\n",
              "         ...  \n",
              "1264    676477\n",
              "1265    676755\n",
              "1266    676831\n",
              "1267    676845\n",
              "1268    676886\n",
              "Name: playerId, Length: 1269, dtype: int64"
            ]
          },
          "metadata": {
            "tags": []
          },
          "execution_count": 195
        }
      ]
    },
    {
      "cell_type": "code",
      "metadata": {
        "id": "iCSDWeWFAPc9"
      },
      "source": [
        "train = train[train[\"playerId\"].isin(test[\"playerId\"].tolist())]\n"
      ],
      "id": "iCSDWeWFAPc9",
      "execution_count": null,
      "outputs": []
    },
    {
      "cell_type": "code",
      "metadata": {
        "id": "4nTLjBWC6hki",
        "colab": {
          "base_uri": "https://localhost:8080/",
          "height": 317
        },
        "outputId": "9f2b8620-46f8-48e4-d9c6-c4a978dece58"
      },
      "source": [
        "train[['target1_mean',\n",
        " 'target1_median',\n",
        " 'target1_std',\n",
        " 'target1_min',\n",
        " 'target1_max',\n",
        " 'target1_prob',\n",
        " 'target2_mean',\n",
        " 'target2_median',\n",
        " 'target2_std',\n",
        " 'target2_min',\n",
        " 'target2_max',\n",
        " 'target2_prob',\n",
        " 'target3_mean',\n",
        " 'target3_median',\n",
        " 'target3_std',\n",
        " 'target3_min',\n",
        " 'target3_max',\n",
        " 'target3_prob',\n",
        " 'target4_mean',\n",
        " 'target4_median',\n",
        " 'target4_std',\n",
        " 'target4_min',\n",
        " 'target4_max',\n",
        " 'target4_prob',\n",
        "    'target1',\"divisionId\",\"target2\",\"target3\"]].describe()"
      ],
      "id": "4nTLjBWC6hki",
      "execution_count": null,
      "outputs": [
        {
          "output_type": "execute_result",
          "data": {
            "text/html": [
              "<div>\n",
              "<style scoped>\n",
              "    .dataframe tbody tr th:only-of-type {\n",
              "        vertical-align: middle;\n",
              "    }\n",
              "\n",
              "    .dataframe tbody tr th {\n",
              "        vertical-align: top;\n",
              "    }\n",
              "\n",
              "    .dataframe thead th {\n",
              "        text-align: right;\n",
              "    }\n",
              "</style>\n",
              "<table border=\"1\" class=\"dataframe\">\n",
              "  <thead>\n",
              "    <tr style=\"text-align: right;\">\n",
              "      <th></th>\n",
              "      <th>target1_mean</th>\n",
              "      <th>target1_median</th>\n",
              "      <th>target1_std</th>\n",
              "      <th>target1_min</th>\n",
              "      <th>target1_max</th>\n",
              "      <th>target1_prob</th>\n",
              "      <th>target2_mean</th>\n",
              "      <th>target2_median</th>\n",
              "      <th>target2_std</th>\n",
              "      <th>target2_min</th>\n",
              "      <th>target2_max</th>\n",
              "      <th>target2_prob</th>\n",
              "      <th>target3_mean</th>\n",
              "      <th>target3_median</th>\n",
              "      <th>target3_std</th>\n",
              "      <th>target3_min</th>\n",
              "      <th>target3_max</th>\n",
              "      <th>target3_prob</th>\n",
              "      <th>target4_mean</th>\n",
              "      <th>target4_median</th>\n",
              "      <th>target4_std</th>\n",
              "      <th>target4_min</th>\n",
              "      <th>target4_max</th>\n",
              "      <th>target4_prob</th>\n",
              "      <th>target1</th>\n",
              "      <th>divisionId</th>\n",
              "      <th>target2</th>\n",
              "      <th>target3</th>\n",
              "    </tr>\n",
              "  </thead>\n",
              "  <tbody>\n",
              "    <tr>\n",
              "      <th>count</th>\n",
              "      <td>1.425738e+06</td>\n",
              "      <td>1.425738e+06</td>\n",
              "      <td>1.425738e+06</td>\n",
              "      <td>1.425738e+06</td>\n",
              "      <td>1.425738e+06</td>\n",
              "      <td>1.425738e+06</td>\n",
              "      <td>1.425738e+06</td>\n",
              "      <td>1.425738e+06</td>\n",
              "      <td>1.425738e+06</td>\n",
              "      <td>1.425738e+06</td>\n",
              "      <td>1.425738e+06</td>\n",
              "      <td>1.425738e+06</td>\n",
              "      <td>1.425738e+06</td>\n",
              "      <td>1.425738e+06</td>\n",
              "      <td>1.425738e+06</td>\n",
              "      <td>1.425738e+06</td>\n",
              "      <td>1.425738e+06</td>\n",
              "      <td>1.425738e+06</td>\n",
              "      <td>1.425738e+06</td>\n",
              "      <td>1.425738e+06</td>\n",
              "      <td>1.425738e+06</td>\n",
              "      <td>1.425738e+06</td>\n",
              "      <td>1.425738e+06</td>\n",
              "      <td>1.425738e+06</td>\n",
              "      <td>1.425738e+06</td>\n",
              "      <td>431035.000000</td>\n",
              "      <td>1.425738e+06</td>\n",
              "      <td>1.425738e+06</td>\n",
              "    </tr>\n",
              "    <tr>\n",
              "      <th>mean</th>\n",
              "      <td>1.412069e+00</td>\n",
              "      <td>3.666530e-01</td>\n",
              "      <td>2.596503e+00</td>\n",
              "      <td>8.686041e-03</td>\n",
              "      <td>1.166149e+01</td>\n",
              "      <td>1.954660e+00</td>\n",
              "      <td>3.598050e+00</td>\n",
              "      <td>2.126944e+00</td>\n",
              "      <td>4.203402e+00</td>\n",
              "      <td>5.287085e-01</td>\n",
              "      <td>1.908462e+01</td>\n",
              "      <td>4.265614e+00</td>\n",
              "      <td>9.861317e-01</td>\n",
              "      <td>1.324842e-01</td>\n",
              "      <td>2.424857e+00</td>\n",
              "      <td>1.291285e-02</td>\n",
              "      <td>1.159615e+01</td>\n",
              "      <td>6.186417e-01</td>\n",
              "      <td>2.355667e+00</td>\n",
              "      <td>1.605815e+00</td>\n",
              "      <td>2.481981e+00</td>\n",
              "      <td>3.121415e-01</td>\n",
              "      <td>1.145428e+01</td>\n",
              "      <td>2.596091e+00</td>\n",
              "      <td>8.546450e-01</td>\n",
              "      <td>202.569190</td>\n",
              "      <td>3.296722e+00</td>\n",
              "      <td>1.014046e+00</td>\n",
              "    </tr>\n",
              "    <tr>\n",
              "      <th>std</th>\n",
              "      <td>2.968291e+00</td>\n",
              "      <td>1.351763e+00</td>\n",
              "      <td>4.648054e+00</td>\n",
              "      <td>3.511933e-02</td>\n",
              "      <td>2.081765e+01</td>\n",
              "      <td>7.745529e+00</td>\n",
              "      <td>4.494150e+00</td>\n",
              "      <td>3.418236e+00</td>\n",
              "      <td>5.057487e+00</td>\n",
              "      <td>9.294232e-01</td>\n",
              "      <td>2.236597e+01</td>\n",
              "      <td>1.002152e+01</td>\n",
              "      <td>2.313200e+00</td>\n",
              "      <td>6.944196e-01</td>\n",
              "      <td>4.553159e+00</td>\n",
              "      <td>3.688311e-02</td>\n",
              "      <td>2.081837e+01</td>\n",
              "      <td>3.697182e+00</td>\n",
              "      <td>4.055712e+00</td>\n",
              "      <td>3.243416e+00</td>\n",
              "      <td>3.988353e+00</td>\n",
              "      <td>6.498519e-01</td>\n",
              "      <td>1.775528e+01</td>\n",
              "      <td>7.197724e+00</td>\n",
              "      <td>5.169614e+00</td>\n",
              "      <td>1.710673</td>\n",
              "      <td>7.403711e+00</td>\n",
              "      <td>6.228724e+00</td>\n",
              "    </tr>\n",
              "    <tr>\n",
              "      <th>min</th>\n",
              "      <td>0.000000e+00</td>\n",
              "      <td>0.000000e+00</td>\n",
              "      <td>0.000000e+00</td>\n",
              "      <td>0.000000e+00</td>\n",
              "      <td>0.000000e+00</td>\n",
              "      <td>0.000000e+00</td>\n",
              "      <td>4.169842e-02</td>\n",
              "      <td>2.746197e-02</td>\n",
              "      <td>2.463763e-02</td>\n",
              "      <td>0.000000e+00</td>\n",
              "      <td>1.098479e-01</td>\n",
              "      <td>9.348415e-03</td>\n",
              "      <td>0.000000e+00</td>\n",
              "      <td>0.000000e+00</td>\n",
              "      <td>0.000000e+00</td>\n",
              "      <td>0.000000e+00</td>\n",
              "      <td>0.000000e+00</td>\n",
              "      <td>0.000000e+00</td>\n",
              "      <td>0.000000e+00</td>\n",
              "      <td>0.000000e+00</td>\n",
              "      <td>0.000000e+00</td>\n",
              "      <td>0.000000e+00</td>\n",
              "      <td>0.000000e+00</td>\n",
              "      <td>0.000000e+00</td>\n",
              "      <td>0.000000e+00</td>\n",
              "      <td>200.000000</td>\n",
              "      <td>0.000000e+00</td>\n",
              "      <td>0.000000e+00</td>\n",
              "    </tr>\n",
              "    <tr>\n",
              "      <th>25%</th>\n",
              "      <td>7.606870e-03</td>\n",
              "      <td>8.005113e-04</td>\n",
              "      <td>1.957108e-02</td>\n",
              "      <td>0.000000e+00</td>\n",
              "      <td>1.068279e-01</td>\n",
              "      <td>7.275680e-04</td>\n",
              "      <td>8.289821e-01</td>\n",
              "      <td>3.341743e-01</td>\n",
              "      <td>9.325237e-01</td>\n",
              "      <td>9.294914e-02</td>\n",
              "      <td>4.237536e+00</td>\n",
              "      <td>2.966081e-01</td>\n",
              "      <td>8.837747e-03</td>\n",
              "      <td>3.280409e-03</td>\n",
              "      <td>9.032549e-03</td>\n",
              "      <td>0.000000e+00</td>\n",
              "      <td>4.533348e-02</td>\n",
              "      <td>2.287021e-03</td>\n",
              "      <td>4.301866e-01</td>\n",
              "      <td>2.622378e-01</td>\n",
              "      <td>4.335073e-01</td>\n",
              "      <td>4.637816e-02</td>\n",
              "      <td>1.937359e+00</td>\n",
              "      <td>1.884002e-01</td>\n",
              "      <td>0.000000e+00</td>\n",
              "      <td>201.000000</td>\n",
              "      <td>1.411765e-01</td>\n",
              "      <td>0.000000e+00</td>\n",
              "    </tr>\n",
              "    <tr>\n",
              "      <th>50%</th>\n",
              "      <td>2.453845e-01</td>\n",
              "      <td>7.016000e-03</td>\n",
              "      <td>6.412187e-01</td>\n",
              "      <td>9.107007e-04</td>\n",
              "      <td>2.947525e+00</td>\n",
              "      <td>7.194967e-03</td>\n",
              "      <td>2.148966e+00</td>\n",
              "      <td>1.109506e+00</td>\n",
              "      <td>2.302353e+00</td>\n",
              "      <td>2.696926e-01</td>\n",
              "      <td>1.076173e+01</td>\n",
              "      <td>1.402635e+00</td>\n",
              "      <td>2.036182e-01</td>\n",
              "      <td>1.260653e-02</td>\n",
              "      <td>6.181471e-01</td>\n",
              "      <td>1.814676e-03</td>\n",
              "      <td>3.184691e+00</td>\n",
              "      <td>1.143511e-02</td>\n",
              "      <td>1.023956e+00</td>\n",
              "      <td>6.381039e-01</td>\n",
              "      <td>1.094529e+00</td>\n",
              "      <td>1.200061e-01</td>\n",
              "      <td>5.137918e+00</td>\n",
              "      <td>6.229110e-01</td>\n",
              "      <td>3.387852e-03</td>\n",
              "      <td>203.000000</td>\n",
              "      <td>9.576815e-01</td>\n",
              "      <td>4.475961e-03</td>\n",
              "    </tr>\n",
              "    <tr>\n",
              "      <th>75%</th>\n",
              "      <td>1.441729e+00</td>\n",
              "      <td>1.078931e-01</td>\n",
              "      <td>2.842854e+00</td>\n",
              "      <td>4.949999e-03</td>\n",
              "      <td>1.255925e+01</td>\n",
              "      <td>2.685799e-01</td>\n",
              "      <td>5.030897e+00</td>\n",
              "      <td>2.612921e+00</td>\n",
              "      <td>4.822524e+00</td>\n",
              "      <td>6.019906e-01</td>\n",
              "      <td>2.417816e+01</td>\n",
              "      <td>4.099971e+00</td>\n",
              "      <td>9.091083e-01</td>\n",
              "      <td>5.593215e-02</td>\n",
              "      <td>2.528056e+00</td>\n",
              "      <td>9.390976e-03</td>\n",
              "      <td>1.207621e+01</td>\n",
              "      <td>6.202865e-02</td>\n",
              "      <td>2.538233e+00</td>\n",
              "      <td>1.549681e+00</td>\n",
              "      <td>2.655361e+00</td>\n",
              "      <td>2.920946e-01</td>\n",
              "      <td>1.252833e+01</td>\n",
              "      <td>1.953503e+00</td>\n",
              "      <td>5.868221e-02</td>\n",
              "      <td>204.000000</td>\n",
              "      <td>3.309058e+00</td>\n",
              "      <td>4.991568e-02</td>\n",
              "    </tr>\n",
              "    <tr>\n",
              "      <th>max</th>\n",
              "      <td>2.861945e+01</td>\n",
              "      <td>2.251564e+01</td>\n",
              "      <td>3.398812e+01</td>\n",
              "      <td>7.040277e-01</td>\n",
              "      <td>1.000000e+02</td>\n",
              "      <td>1.000000e+02</td>\n",
              "      <td>4.969193e+01</td>\n",
              "      <td>4.431772e+01</td>\n",
              "      <td>3.288215e+01</td>\n",
              "      <td>1.550033e+01</td>\n",
              "      <td>1.000000e+02</td>\n",
              "      <td>1.000000e+02</td>\n",
              "      <td>3.218307e+01</td>\n",
              "      <td>1.590317e+01</td>\n",
              "      <td>3.533198e+01</td>\n",
              "      <td>6.190328e-01</td>\n",
              "      <td>1.000000e+02</td>\n",
              "      <td>6.304345e+01</td>\n",
              "      <td>3.933404e+01</td>\n",
              "      <td>3.842898e+01</td>\n",
              "      <td>3.410180e+01</td>\n",
              "      <td>8.647749e+00</td>\n",
              "      <td>1.000000e+02</td>\n",
              "      <td>1.000000e+02</td>\n",
              "      <td>1.000000e+02</td>\n",
              "      <td>205.000000</td>\n",
              "      <td>1.000000e+02</td>\n",
              "      <td>1.000000e+02</td>\n",
              "    </tr>\n",
              "  </tbody>\n",
              "</table>\n",
              "</div>"
            ],
            "text/plain": [
              "       target1_mean  target1_median  ...       target2       target3\n",
              "count  1.425738e+06    1.425738e+06  ...  1.425738e+06  1.425738e+06\n",
              "mean   1.412069e+00    3.666530e-01  ...  3.296722e+00  1.014046e+00\n",
              "std    2.968291e+00    1.351763e+00  ...  7.403711e+00  6.228724e+00\n",
              "min    0.000000e+00    0.000000e+00  ...  0.000000e+00  0.000000e+00\n",
              "25%    7.606870e-03    8.005113e-04  ...  1.411765e-01  0.000000e+00\n",
              "50%    2.453845e-01    7.016000e-03  ...  9.576815e-01  4.475961e-03\n",
              "75%    1.441729e+00    1.078931e-01  ...  3.309058e+00  4.991568e-02\n",
              "max    2.861945e+01    2.251564e+01  ...  1.000000e+02  1.000000e+02\n",
              "\n",
              "[8 rows x 28 columns]"
            ]
          },
          "metadata": {
            "tags": []
          },
          "execution_count": 197
        }
      ]
    },
    {
      "cell_type": "code",
      "metadata": {
        "id": "70LUMHqddn6f",
        "colab": {
          "base_uri": "https://localhost:8080/",
          "height": 609
        },
        "outputId": "30b096d8-7e81-4dd3-9c9a-678d0d2e67e0"
      },
      "source": [
        "train[[\"target1\",\"target2\",\"target3\",\"target4\"]].describe()\n",
        "train[train[\"target1\"]==train[\"target1\"].max()]\n",
        "train[train[\"playerId\"]==519317]"
      ],
      "id": "70LUMHqddn6f",
      "execution_count": null,
      "outputs": [
        {
          "output_type": "execute_result",
          "data": {
            "text/html": [
              "<div>\n",
              "<style scoped>\n",
              "    .dataframe tbody tr th:only-of-type {\n",
              "        vertical-align: middle;\n",
              "    }\n",
              "\n",
              "    .dataframe tbody tr th {\n",
              "        vertical-align: top;\n",
              "    }\n",
              "\n",
              "    .dataframe thead th {\n",
              "        text-align: right;\n",
              "    }\n",
              "</style>\n",
              "<table border=\"1\" class=\"dataframe\">\n",
              "  <thead>\n",
              "    <tr style=\"text-align: right;\">\n",
              "      <th></th>\n",
              "      <th>playerId</th>\n",
              "      <th>target1</th>\n",
              "      <th>target2</th>\n",
              "      <th>target3</th>\n",
              "      <th>target4</th>\n",
              "      <th>date</th>\n",
              "      <th>primaryPositionName</th>\n",
              "      <th>playerName</th>\n",
              "      <th>teamId</th>\n",
              "      <th>status</th>\n",
              "      <th>battingOrder</th>\n",
              "      <th>gamesPlayedBatting</th>\n",
              "      <th>flyOuts</th>\n",
              "      <th>groundOuts</th>\n",
              "      <th>runsScored</th>\n",
              "      <th>doubles</th>\n",
              "      <th>triples</th>\n",
              "      <th>homeRuns</th>\n",
              "      <th>strikeOuts</th>\n",
              "      <th>baseOnBalls</th>\n",
              "      <th>intentionalWalks</th>\n",
              "      <th>hits</th>\n",
              "      <th>hitByPitch</th>\n",
              "      <th>atBats</th>\n",
              "      <th>caughtStealing</th>\n",
              "      <th>stolenBases</th>\n",
              "      <th>groundIntoDoublePlay</th>\n",
              "      <th>groundIntoTriplePlay</th>\n",
              "      <th>plateAppearances</th>\n",
              "      <th>totalBases</th>\n",
              "      <th>rbi</th>\n",
              "      <th>leftOnBase</th>\n",
              "      <th>sacBunts</th>\n",
              "      <th>sacFlies</th>\n",
              "      <th>catchersInterference</th>\n",
              "      <th>pickoffs</th>\n",
              "      <th>gamesPlayedPitching</th>\n",
              "      <th>gamesStartedPitching</th>\n",
              "      <th>completeGamesPitching</th>\n",
              "      <th>shutoutsPitching</th>\n",
              "      <th>...</th>\n",
              "      <th>homeWinner</th>\n",
              "      <th>awayWinner</th>\n",
              "      <th>homeScore</th>\n",
              "      <th>awayScore</th>\n",
              "      <th>gameType</th>\n",
              "      <th>gameDate_x</th>\n",
              "      <th>divisionRank</th>\n",
              "      <th>divisionLeader</th>\n",
              "      <th>wildCardLeader</th>\n",
              "      <th>leagueRank</th>\n",
              "      <th>divisionId</th>\n",
              "      <th>gameDate_y</th>\n",
              "      <th>awardName</th>\n",
              "      <th>target1_mean</th>\n",
              "      <th>target1_median</th>\n",
              "      <th>target1_std</th>\n",
              "      <th>target1_min</th>\n",
              "      <th>target1_max</th>\n",
              "      <th>target1_prob</th>\n",
              "      <th>target2_mean</th>\n",
              "      <th>target2_median</th>\n",
              "      <th>target2_std</th>\n",
              "      <th>target2_min</th>\n",
              "      <th>target2_max</th>\n",
              "      <th>target2_prob</th>\n",
              "      <th>target3_mean</th>\n",
              "      <th>target3_median</th>\n",
              "      <th>target3_std</th>\n",
              "      <th>target3_min</th>\n",
              "      <th>target3_max</th>\n",
              "      <th>target3_prob</th>\n",
              "      <th>target4_mean</th>\n",
              "      <th>target4_median</th>\n",
              "      <th>target4_std</th>\n",
              "      <th>target4_min</th>\n",
              "      <th>target4_max</th>\n",
              "      <th>target4_prob</th>\n",
              "      <th>strdate</th>\n",
              "      <th>year_months</th>\n",
              "      <th>teamnumberOfFollowers</th>\n",
              "    </tr>\n",
              "  </thead>\n",
              "  <tbody>\n",
              "    <tr>\n",
              "      <th>2435</th>\n",
              "      <td>519317</td>\n",
              "      <td>0.974327</td>\n",
              "      <td>56.177043</td>\n",
              "      <td>13.693746</td>\n",
              "      <td>64.166667</td>\n",
              "      <td>20180101</td>\n",
              "      <td>Designated Hitter</td>\n",
              "      <td>Giancarlo Stanton</td>\n",
              "      <td>147.0</td>\n",
              "      <td>Active</td>\n",
              "      <td>NaN</td>\n",
              "      <td>NaN</td>\n",
              "      <td>NaN</td>\n",
              "      <td>NaN</td>\n",
              "      <td>NaN</td>\n",
              "      <td>NaN</td>\n",
              "      <td>NaN</td>\n",
              "      <td>NaN</td>\n",
              "      <td>NaN</td>\n",
              "      <td>NaN</td>\n",
              "      <td>NaN</td>\n",
              "      <td>NaN</td>\n",
              "      <td>NaN</td>\n",
              "      <td>NaN</td>\n",
              "      <td>NaN</td>\n",
              "      <td>NaN</td>\n",
              "      <td>NaN</td>\n",
              "      <td>NaN</td>\n",
              "      <td>NaN</td>\n",
              "      <td>NaN</td>\n",
              "      <td>NaN</td>\n",
              "      <td>NaN</td>\n",
              "      <td>NaN</td>\n",
              "      <td>NaN</td>\n",
              "      <td>NaN</td>\n",
              "      <td>NaN</td>\n",
              "      <td>NaN</td>\n",
              "      <td>NaN</td>\n",
              "      <td>NaN</td>\n",
              "      <td>NaN</td>\n",
              "      <td>...</td>\n",
              "      <td>NaN</td>\n",
              "      <td>NaN</td>\n",
              "      <td>NaN</td>\n",
              "      <td>NaN</td>\n",
              "      <td>NaN</td>\n",
              "      <td>NaN</td>\n",
              "      <td>NaN</td>\n",
              "      <td>NaN</td>\n",
              "      <td>NaN</td>\n",
              "      <td>NaN</td>\n",
              "      <td>NaN</td>\n",
              "      <td>NaN</td>\n",
              "      <td>42.0</td>\n",
              "      <td>16.57155</td>\n",
              "      <td>6.296399</td>\n",
              "      <td>24.090019</td>\n",
              "      <td>0.087622</td>\n",
              "      <td>100.0</td>\n",
              "      <td>15.112738</td>\n",
              "      <td>17.019935</td>\n",
              "      <td>15.442759</td>\n",
              "      <td>8.480908</td>\n",
              "      <td>4.489628</td>\n",
              "      <td>33.868643</td>\n",
              "      <td>12.036823</td>\n",
              "      <td>5.245218</td>\n",
              "      <td>0.40027</td>\n",
              "      <td>11.07997</td>\n",
              "      <td>0.077679</td>\n",
              "      <td>39.703651</td>\n",
              "      <td>2.993143</td>\n",
              "      <td>13.301593</td>\n",
              "      <td>12.0</td>\n",
              "      <td>8.016774</td>\n",
              "      <td>2.059741</td>\n",
              "      <td>34.008584</td>\n",
              "      <td>6.248675</td>\n",
              "      <td>20180101</td>\n",
              "      <td>201801</td>\n",
              "      <td>3399726.125</td>\n",
              "    </tr>\n",
              "    <tr>\n",
              "      <th>2436</th>\n",
              "      <td>519317</td>\n",
              "      <td>0.743145</td>\n",
              "      <td>31.715912</td>\n",
              "      <td>11.397756</td>\n",
              "      <td>47.248120</td>\n",
              "      <td>20180102</td>\n",
              "      <td>Designated Hitter</td>\n",
              "      <td>Giancarlo Stanton</td>\n",
              "      <td>147.0</td>\n",
              "      <td>Active</td>\n",
              "      <td>NaN</td>\n",
              "      <td>NaN</td>\n",
              "      <td>NaN</td>\n",
              "      <td>NaN</td>\n",
              "      <td>NaN</td>\n",
              "      <td>NaN</td>\n",
              "      <td>NaN</td>\n",
              "      <td>NaN</td>\n",
              "      <td>NaN</td>\n",
              "      <td>NaN</td>\n",
              "      <td>NaN</td>\n",
              "      <td>NaN</td>\n",
              "      <td>NaN</td>\n",
              "      <td>NaN</td>\n",
              "      <td>NaN</td>\n",
              "      <td>NaN</td>\n",
              "      <td>NaN</td>\n",
              "      <td>NaN</td>\n",
              "      <td>NaN</td>\n",
              "      <td>NaN</td>\n",
              "      <td>NaN</td>\n",
              "      <td>NaN</td>\n",
              "      <td>NaN</td>\n",
              "      <td>NaN</td>\n",
              "      <td>NaN</td>\n",
              "      <td>NaN</td>\n",
              "      <td>NaN</td>\n",
              "      <td>NaN</td>\n",
              "      <td>NaN</td>\n",
              "      <td>NaN</td>\n",
              "      <td>...</td>\n",
              "      <td>NaN</td>\n",
              "      <td>NaN</td>\n",
              "      <td>NaN</td>\n",
              "      <td>NaN</td>\n",
              "      <td>NaN</td>\n",
              "      <td>NaN</td>\n",
              "      <td>NaN</td>\n",
              "      <td>NaN</td>\n",
              "      <td>NaN</td>\n",
              "      <td>NaN</td>\n",
              "      <td>NaN</td>\n",
              "      <td>NaN</td>\n",
              "      <td>42.0</td>\n",
              "      <td>16.57155</td>\n",
              "      <td>6.296399</td>\n",
              "      <td>24.090019</td>\n",
              "      <td>0.087622</td>\n",
              "      <td>100.0</td>\n",
              "      <td>15.112738</td>\n",
              "      <td>17.019935</td>\n",
              "      <td>15.442759</td>\n",
              "      <td>8.480908</td>\n",
              "      <td>4.489628</td>\n",
              "      <td>33.868643</td>\n",
              "      <td>12.036823</td>\n",
              "      <td>5.245218</td>\n",
              "      <td>0.40027</td>\n",
              "      <td>11.07997</td>\n",
              "      <td>0.077679</td>\n",
              "      <td>39.703651</td>\n",
              "      <td>2.993143</td>\n",
              "      <td>13.301593</td>\n",
              "      <td>12.0</td>\n",
              "      <td>8.016774</td>\n",
              "      <td>2.059741</td>\n",
              "      <td>34.008584</td>\n",
              "      <td>6.248675</td>\n",
              "      <td>20180102</td>\n",
              "      <td>201801</td>\n",
              "      <td>3399726.125</td>\n",
              "    </tr>\n",
              "    <tr>\n",
              "      <th>2437</th>\n",
              "      <td>519317</td>\n",
              "      <td>0.741518</td>\n",
              "      <td>30.998168</td>\n",
              "      <td>25.975685</td>\n",
              "      <td>79.879622</td>\n",
              "      <td>20180103</td>\n",
              "      <td>Designated Hitter</td>\n",
              "      <td>Giancarlo Stanton</td>\n",
              "      <td>147.0</td>\n",
              "      <td>Active</td>\n",
              "      <td>NaN</td>\n",
              "      <td>NaN</td>\n",
              "      <td>NaN</td>\n",
              "      <td>NaN</td>\n",
              "      <td>NaN</td>\n",
              "      <td>NaN</td>\n",
              "      <td>NaN</td>\n",
              "      <td>NaN</td>\n",
              "      <td>NaN</td>\n",
              "      <td>NaN</td>\n",
              "      <td>NaN</td>\n",
              "      <td>NaN</td>\n",
              "      <td>NaN</td>\n",
              "      <td>NaN</td>\n",
              "      <td>NaN</td>\n",
              "      <td>NaN</td>\n",
              "      <td>NaN</td>\n",
              "      <td>NaN</td>\n",
              "      <td>NaN</td>\n",
              "      <td>NaN</td>\n",
              "      <td>NaN</td>\n",
              "      <td>NaN</td>\n",
              "      <td>NaN</td>\n",
              "      <td>NaN</td>\n",
              "      <td>NaN</td>\n",
              "      <td>NaN</td>\n",
              "      <td>NaN</td>\n",
              "      <td>NaN</td>\n",
              "      <td>NaN</td>\n",
              "      <td>NaN</td>\n",
              "      <td>...</td>\n",
              "      <td>NaN</td>\n",
              "      <td>NaN</td>\n",
              "      <td>NaN</td>\n",
              "      <td>NaN</td>\n",
              "      <td>NaN</td>\n",
              "      <td>NaN</td>\n",
              "      <td>NaN</td>\n",
              "      <td>NaN</td>\n",
              "      <td>NaN</td>\n",
              "      <td>NaN</td>\n",
              "      <td>NaN</td>\n",
              "      <td>NaN</td>\n",
              "      <td>42.0</td>\n",
              "      <td>16.57155</td>\n",
              "      <td>6.296399</td>\n",
              "      <td>24.090019</td>\n",
              "      <td>0.087622</td>\n",
              "      <td>100.0</td>\n",
              "      <td>15.112738</td>\n",
              "      <td>17.019935</td>\n",
              "      <td>15.442759</td>\n",
              "      <td>8.480908</td>\n",
              "      <td>4.489628</td>\n",
              "      <td>33.868643</td>\n",
              "      <td>12.036823</td>\n",
              "      <td>5.245218</td>\n",
              "      <td>0.40027</td>\n",
              "      <td>11.07997</td>\n",
              "      <td>0.077679</td>\n",
              "      <td>39.703651</td>\n",
              "      <td>2.993143</td>\n",
              "      <td>13.301593</td>\n",
              "      <td>12.0</td>\n",
              "      <td>8.016774</td>\n",
              "      <td>2.059741</td>\n",
              "      <td>34.008584</td>\n",
              "      <td>6.248675</td>\n",
              "      <td>20180103</td>\n",
              "      <td>201801</td>\n",
              "      <td>3399726.125</td>\n",
              "    </tr>\n",
              "    <tr>\n",
              "      <th>2438</th>\n",
              "      <td>519317</td>\n",
              "      <td>0.434217</td>\n",
              "      <td>40.828745</td>\n",
              "      <td>6.552563</td>\n",
              "      <td>86.740331</td>\n",
              "      <td>20180104</td>\n",
              "      <td>Designated Hitter</td>\n",
              "      <td>Giancarlo Stanton</td>\n",
              "      <td>147.0</td>\n",
              "      <td>Active</td>\n",
              "      <td>NaN</td>\n",
              "      <td>NaN</td>\n",
              "      <td>NaN</td>\n",
              "      <td>NaN</td>\n",
              "      <td>NaN</td>\n",
              "      <td>NaN</td>\n",
              "      <td>NaN</td>\n",
              "      <td>NaN</td>\n",
              "      <td>NaN</td>\n",
              "      <td>NaN</td>\n",
              "      <td>NaN</td>\n",
              "      <td>NaN</td>\n",
              "      <td>NaN</td>\n",
              "      <td>NaN</td>\n",
              "      <td>NaN</td>\n",
              "      <td>NaN</td>\n",
              "      <td>NaN</td>\n",
              "      <td>NaN</td>\n",
              "      <td>NaN</td>\n",
              "      <td>NaN</td>\n",
              "      <td>NaN</td>\n",
              "      <td>NaN</td>\n",
              "      <td>NaN</td>\n",
              "      <td>NaN</td>\n",
              "      <td>NaN</td>\n",
              "      <td>NaN</td>\n",
              "      <td>NaN</td>\n",
              "      <td>NaN</td>\n",
              "      <td>NaN</td>\n",
              "      <td>NaN</td>\n",
              "      <td>...</td>\n",
              "      <td>NaN</td>\n",
              "      <td>NaN</td>\n",
              "      <td>NaN</td>\n",
              "      <td>NaN</td>\n",
              "      <td>NaN</td>\n",
              "      <td>NaN</td>\n",
              "      <td>NaN</td>\n",
              "      <td>NaN</td>\n",
              "      <td>NaN</td>\n",
              "      <td>NaN</td>\n",
              "      <td>NaN</td>\n",
              "      <td>NaN</td>\n",
              "      <td>42.0</td>\n",
              "      <td>16.57155</td>\n",
              "      <td>6.296399</td>\n",
              "      <td>24.090019</td>\n",
              "      <td>0.087622</td>\n",
              "      <td>100.0</td>\n",
              "      <td>15.112738</td>\n",
              "      <td>17.019935</td>\n",
              "      <td>15.442759</td>\n",
              "      <td>8.480908</td>\n",
              "      <td>4.489628</td>\n",
              "      <td>33.868643</td>\n",
              "      <td>12.036823</td>\n",
              "      <td>5.245218</td>\n",
              "      <td>0.40027</td>\n",
              "      <td>11.07997</td>\n",
              "      <td>0.077679</td>\n",
              "      <td>39.703651</td>\n",
              "      <td>2.993143</td>\n",
              "      <td>13.301593</td>\n",
              "      <td>12.0</td>\n",
              "      <td>8.016774</td>\n",
              "      <td>2.059741</td>\n",
              "      <td>34.008584</td>\n",
              "      <td>6.248675</td>\n",
              "      <td>20180104</td>\n",
              "      <td>201801</td>\n",
              "      <td>3399726.125</td>\n",
              "    </tr>\n",
              "    <tr>\n",
              "      <th>2439</th>\n",
              "      <td>519317</td>\n",
              "      <td>1.700575</td>\n",
              "      <td>20.981956</td>\n",
              "      <td>26.427778</td>\n",
              "      <td>34.202094</td>\n",
              "      <td>20180105</td>\n",
              "      <td>Designated Hitter</td>\n",
              "      <td>Giancarlo Stanton</td>\n",
              "      <td>147.0</td>\n",
              "      <td>Active</td>\n",
              "      <td>NaN</td>\n",
              "      <td>NaN</td>\n",
              "      <td>NaN</td>\n",
              "      <td>NaN</td>\n",
              "      <td>NaN</td>\n",
              "      <td>NaN</td>\n",
              "      <td>NaN</td>\n",
              "      <td>NaN</td>\n",
              "      <td>NaN</td>\n",
              "      <td>NaN</td>\n",
              "      <td>NaN</td>\n",
              "      <td>NaN</td>\n",
              "      <td>NaN</td>\n",
              "      <td>NaN</td>\n",
              "      <td>NaN</td>\n",
              "      <td>NaN</td>\n",
              "      <td>NaN</td>\n",
              "      <td>NaN</td>\n",
              "      <td>NaN</td>\n",
              "      <td>NaN</td>\n",
              "      <td>NaN</td>\n",
              "      <td>NaN</td>\n",
              "      <td>NaN</td>\n",
              "      <td>NaN</td>\n",
              "      <td>NaN</td>\n",
              "      <td>NaN</td>\n",
              "      <td>NaN</td>\n",
              "      <td>NaN</td>\n",
              "      <td>NaN</td>\n",
              "      <td>NaN</td>\n",
              "      <td>...</td>\n",
              "      <td>NaN</td>\n",
              "      <td>NaN</td>\n",
              "      <td>NaN</td>\n",
              "      <td>NaN</td>\n",
              "      <td>NaN</td>\n",
              "      <td>NaN</td>\n",
              "      <td>NaN</td>\n",
              "      <td>NaN</td>\n",
              "      <td>NaN</td>\n",
              "      <td>NaN</td>\n",
              "      <td>NaN</td>\n",
              "      <td>NaN</td>\n",
              "      <td>42.0</td>\n",
              "      <td>16.57155</td>\n",
              "      <td>6.296399</td>\n",
              "      <td>24.090019</td>\n",
              "      <td>0.087622</td>\n",
              "      <td>100.0</td>\n",
              "      <td>15.112738</td>\n",
              "      <td>17.019935</td>\n",
              "      <td>15.442759</td>\n",
              "      <td>8.480908</td>\n",
              "      <td>4.489628</td>\n",
              "      <td>33.868643</td>\n",
              "      <td>12.036823</td>\n",
              "      <td>5.245218</td>\n",
              "      <td>0.40027</td>\n",
              "      <td>11.07997</td>\n",
              "      <td>0.077679</td>\n",
              "      <td>39.703651</td>\n",
              "      <td>2.993143</td>\n",
              "      <td>13.301593</td>\n",
              "      <td>12.0</td>\n",
              "      <td>8.016774</td>\n",
              "      <td>2.059741</td>\n",
              "      <td>34.008584</td>\n",
              "      <td>6.248675</td>\n",
              "      <td>20180105</td>\n",
              "      <td>201801</td>\n",
              "      <td>3399726.125</td>\n",
              "    </tr>\n",
              "    <tr>\n",
              "      <th>...</th>\n",
              "      <td>...</td>\n",
              "      <td>...</td>\n",
              "      <td>...</td>\n",
              "      <td>...</td>\n",
              "      <td>...</td>\n",
              "      <td>...</td>\n",
              "      <td>...</td>\n",
              "      <td>...</td>\n",
              "      <td>...</td>\n",
              "      <td>...</td>\n",
              "      <td>...</td>\n",
              "      <td>...</td>\n",
              "      <td>...</td>\n",
              "      <td>...</td>\n",
              "      <td>...</td>\n",
              "      <td>...</td>\n",
              "      <td>...</td>\n",
              "      <td>...</td>\n",
              "      <td>...</td>\n",
              "      <td>...</td>\n",
              "      <td>...</td>\n",
              "      <td>...</td>\n",
              "      <td>...</td>\n",
              "      <td>...</td>\n",
              "      <td>...</td>\n",
              "      <td>...</td>\n",
              "      <td>...</td>\n",
              "      <td>...</td>\n",
              "      <td>...</td>\n",
              "      <td>...</td>\n",
              "      <td>...</td>\n",
              "      <td>...</td>\n",
              "      <td>...</td>\n",
              "      <td>...</td>\n",
              "      <td>...</td>\n",
              "      <td>...</td>\n",
              "      <td>...</td>\n",
              "      <td>...</td>\n",
              "      <td>...</td>\n",
              "      <td>...</td>\n",
              "      <td>...</td>\n",
              "      <td>...</td>\n",
              "      <td>...</td>\n",
              "      <td>...</td>\n",
              "      <td>...</td>\n",
              "      <td>...</td>\n",
              "      <td>...</td>\n",
              "      <td>...</td>\n",
              "      <td>...</td>\n",
              "      <td>...</td>\n",
              "      <td>...</td>\n",
              "      <td>...</td>\n",
              "      <td>...</td>\n",
              "      <td>...</td>\n",
              "      <td>...</td>\n",
              "      <td>...</td>\n",
              "      <td>...</td>\n",
              "      <td>...</td>\n",
              "      <td>...</td>\n",
              "      <td>...</td>\n",
              "      <td>...</td>\n",
              "      <td>...</td>\n",
              "      <td>...</td>\n",
              "      <td>...</td>\n",
              "      <td>...</td>\n",
              "      <td>...</td>\n",
              "      <td>...</td>\n",
              "      <td>...</td>\n",
              "      <td>...</td>\n",
              "      <td>...</td>\n",
              "      <td>...</td>\n",
              "      <td>...</td>\n",
              "      <td>...</td>\n",
              "      <td>...</td>\n",
              "      <td>...</td>\n",
              "      <td>...</td>\n",
              "      <td>...</td>\n",
              "      <td>...</td>\n",
              "      <td>...</td>\n",
              "      <td>...</td>\n",
              "      <td>...</td>\n",
              "    </tr>\n",
              "    <tr>\n",
              "      <th>3652</th>\n",
              "      <td>519317</td>\n",
              "      <td>14.208138</td>\n",
              "      <td>16.863095</td>\n",
              "      <td>6.386838</td>\n",
              "      <td>12.489944</td>\n",
              "      <td>20210426</td>\n",
              "      <td>Designated Hitter</td>\n",
              "      <td>Giancarlo Stanton</td>\n",
              "      <td>147.0</td>\n",
              "      <td>Active</td>\n",
              "      <td>200.0</td>\n",
              "      <td>1.0</td>\n",
              "      <td>1.0</td>\n",
              "      <td>0.0</td>\n",
              "      <td>1.0</td>\n",
              "      <td>1.0</td>\n",
              "      <td>0.0</td>\n",
              "      <td>0.0</td>\n",
              "      <td>1.0</td>\n",
              "      <td>1.0</td>\n",
              "      <td>0.0</td>\n",
              "      <td>1.0</td>\n",
              "      <td>0.0</td>\n",
              "      <td>3.0</td>\n",
              "      <td>0.0</td>\n",
              "      <td>0.0</td>\n",
              "      <td>0.0</td>\n",
              "      <td>0.0</td>\n",
              "      <td>4.0</td>\n",
              "      <td>2.0</td>\n",
              "      <td>0.0</td>\n",
              "      <td>2.0</td>\n",
              "      <td>0.0</td>\n",
              "      <td>0.0</td>\n",
              "      <td>0.0</td>\n",
              "      <td>0.0</td>\n",
              "      <td>0.0</td>\n",
              "      <td>0.0</td>\n",
              "      <td>0.0</td>\n",
              "      <td>0.0</td>\n",
              "      <td>...</td>\n",
              "      <td>True</td>\n",
              "      <td>False</td>\n",
              "      <td>4.0</td>\n",
              "      <td>2.0</td>\n",
              "      <td>R</td>\n",
              "      <td>2021-04-26</td>\n",
              "      <td>5</td>\n",
              "      <td>False</td>\n",
              "      <td>NaN</td>\n",
              "      <td>12</td>\n",
              "      <td>201.0</td>\n",
              "      <td>2021-04-26</td>\n",
              "      <td>42.0</td>\n",
              "      <td>16.57155</td>\n",
              "      <td>6.296399</td>\n",
              "      <td>24.090019</td>\n",
              "      <td>0.087622</td>\n",
              "      <td>100.0</td>\n",
              "      <td>15.112738</td>\n",
              "      <td>17.019935</td>\n",
              "      <td>15.442759</td>\n",
              "      <td>8.480908</td>\n",
              "      <td>4.489628</td>\n",
              "      <td>33.868643</td>\n",
              "      <td>12.036823</td>\n",
              "      <td>5.245218</td>\n",
              "      <td>0.40027</td>\n",
              "      <td>11.07997</td>\n",
              "      <td>0.077679</td>\n",
              "      <td>39.703651</td>\n",
              "      <td>2.993143</td>\n",
              "      <td>13.301593</td>\n",
              "      <td>12.0</td>\n",
              "      <td>8.016774</td>\n",
              "      <td>2.059741</td>\n",
              "      <td>34.008584</td>\n",
              "      <td>6.248675</td>\n",
              "      <td>20210426</td>\n",
              "      <td>202104</td>\n",
              "      <td>3399726.125</td>\n",
              "    </tr>\n",
              "    <tr>\n",
              "      <th>3653</th>\n",
              "      <td>519317</td>\n",
              "      <td>15.521546</td>\n",
              "      <td>17.074740</td>\n",
              "      <td>39.703651</td>\n",
              "      <td>14.683431</td>\n",
              "      <td>20210427</td>\n",
              "      <td>Designated Hitter</td>\n",
              "      <td>Giancarlo Stanton</td>\n",
              "      <td>147.0</td>\n",
              "      <td>Active</td>\n",
              "      <td>200.0</td>\n",
              "      <td>1.0</td>\n",
              "      <td>0.0</td>\n",
              "      <td>2.0</td>\n",
              "      <td>1.0</td>\n",
              "      <td>0.0</td>\n",
              "      <td>0.0</td>\n",
              "      <td>1.0</td>\n",
              "      <td>1.0</td>\n",
              "      <td>0.0</td>\n",
              "      <td>0.0</td>\n",
              "      <td>2.0</td>\n",
              "      <td>0.0</td>\n",
              "      <td>5.0</td>\n",
              "      <td>0.0</td>\n",
              "      <td>0.0</td>\n",
              "      <td>1.0</td>\n",
              "      <td>0.0</td>\n",
              "      <td>5.0</td>\n",
              "      <td>5.0</td>\n",
              "      <td>1.0</td>\n",
              "      <td>3.0</td>\n",
              "      <td>0.0</td>\n",
              "      <td>0.0</td>\n",
              "      <td>0.0</td>\n",
              "      <td>0.0</td>\n",
              "      <td>0.0</td>\n",
              "      <td>0.0</td>\n",
              "      <td>0.0</td>\n",
              "      <td>0.0</td>\n",
              "      <td>...</td>\n",
              "      <td>False</td>\n",
              "      <td>True</td>\n",
              "      <td>1.0</td>\n",
              "      <td>5.0</td>\n",
              "      <td>R</td>\n",
              "      <td>2021-04-27</td>\n",
              "      <td>5</td>\n",
              "      <td>False</td>\n",
              "      <td>NaN</td>\n",
              "      <td>12</td>\n",
              "      <td>201.0</td>\n",
              "      <td>2021-04-27</td>\n",
              "      <td>42.0</td>\n",
              "      <td>16.57155</td>\n",
              "      <td>6.296399</td>\n",
              "      <td>24.090019</td>\n",
              "      <td>0.087622</td>\n",
              "      <td>100.0</td>\n",
              "      <td>15.112738</td>\n",
              "      <td>17.019935</td>\n",
              "      <td>15.442759</td>\n",
              "      <td>8.480908</td>\n",
              "      <td>4.489628</td>\n",
              "      <td>33.868643</td>\n",
              "      <td>12.036823</td>\n",
              "      <td>5.245218</td>\n",
              "      <td>0.40027</td>\n",
              "      <td>11.07997</td>\n",
              "      <td>0.077679</td>\n",
              "      <td>39.703651</td>\n",
              "      <td>2.993143</td>\n",
              "      <td>13.301593</td>\n",
              "      <td>12.0</td>\n",
              "      <td>8.016774</td>\n",
              "      <td>2.059741</td>\n",
              "      <td>34.008584</td>\n",
              "      <td>6.248675</td>\n",
              "      <td>20210427</td>\n",
              "      <td>202104</td>\n",
              "      <td>3399726.125</td>\n",
              "    </tr>\n",
              "    <tr>\n",
              "      <th>3654</th>\n",
              "      <td>519317</td>\n",
              "      <td>0.947361</td>\n",
              "      <td>32.279561</td>\n",
              "      <td>2.343270</td>\n",
              "      <td>17.021057</td>\n",
              "      <td>20210428</td>\n",
              "      <td>Designated Hitter</td>\n",
              "      <td>Giancarlo Stanton</td>\n",
              "      <td>147.0</td>\n",
              "      <td>Active</td>\n",
              "      <td>200.0</td>\n",
              "      <td>1.0</td>\n",
              "      <td>0.0</td>\n",
              "      <td>1.0</td>\n",
              "      <td>2.0</td>\n",
              "      <td>0.0</td>\n",
              "      <td>0.0</td>\n",
              "      <td>0.0</td>\n",
              "      <td>1.0</td>\n",
              "      <td>0.0</td>\n",
              "      <td>0.0</td>\n",
              "      <td>3.0</td>\n",
              "      <td>0.0</td>\n",
              "      <td>5.0</td>\n",
              "      <td>0.0</td>\n",
              "      <td>0.0</td>\n",
              "      <td>1.0</td>\n",
              "      <td>0.0</td>\n",
              "      <td>5.0</td>\n",
              "      <td>3.0</td>\n",
              "      <td>0.0</td>\n",
              "      <td>1.0</td>\n",
              "      <td>0.0</td>\n",
              "      <td>0.0</td>\n",
              "      <td>0.0</td>\n",
              "      <td>0.0</td>\n",
              "      <td>0.0</td>\n",
              "      <td>0.0</td>\n",
              "      <td>0.0</td>\n",
              "      <td>0.0</td>\n",
              "      <td>...</td>\n",
              "      <td>False</td>\n",
              "      <td>True</td>\n",
              "      <td>0.0</td>\n",
              "      <td>7.0</td>\n",
              "      <td>R</td>\n",
              "      <td>2021-04-28</td>\n",
              "      <td>4</td>\n",
              "      <td>False</td>\n",
              "      <td>NaN</td>\n",
              "      <td>11</td>\n",
              "      <td>201.0</td>\n",
              "      <td>2021-04-28</td>\n",
              "      <td>42.0</td>\n",
              "      <td>16.57155</td>\n",
              "      <td>6.296399</td>\n",
              "      <td>24.090019</td>\n",
              "      <td>0.087622</td>\n",
              "      <td>100.0</td>\n",
              "      <td>15.112738</td>\n",
              "      <td>17.019935</td>\n",
              "      <td>15.442759</td>\n",
              "      <td>8.480908</td>\n",
              "      <td>4.489628</td>\n",
              "      <td>33.868643</td>\n",
              "      <td>12.036823</td>\n",
              "      <td>5.245218</td>\n",
              "      <td>0.40027</td>\n",
              "      <td>11.07997</td>\n",
              "      <td>0.077679</td>\n",
              "      <td>39.703651</td>\n",
              "      <td>2.993143</td>\n",
              "      <td>13.301593</td>\n",
              "      <td>12.0</td>\n",
              "      <td>8.016774</td>\n",
              "      <td>2.059741</td>\n",
              "      <td>34.008584</td>\n",
              "      <td>6.248675</td>\n",
              "      <td>20210428</td>\n",
              "      <td>202104</td>\n",
              "      <td>3399726.125</td>\n",
              "    </tr>\n",
              "    <tr>\n",
              "      <th>3655</th>\n",
              "      <td>519317</td>\n",
              "      <td>0.276774</td>\n",
              "      <td>29.430518</td>\n",
              "      <td>0.485191</td>\n",
              "      <td>16.408387</td>\n",
              "      <td>20210429</td>\n",
              "      <td>Designated Hitter</td>\n",
              "      <td>Giancarlo Stanton</td>\n",
              "      <td>147.0</td>\n",
              "      <td>Active</td>\n",
              "      <td>200.0</td>\n",
              "      <td>1.0</td>\n",
              "      <td>1.0</td>\n",
              "      <td>0.0</td>\n",
              "      <td>0.0</td>\n",
              "      <td>0.0</td>\n",
              "      <td>0.0</td>\n",
              "      <td>0.0</td>\n",
              "      <td>1.0</td>\n",
              "      <td>0.0</td>\n",
              "      <td>0.0</td>\n",
              "      <td>3.0</td>\n",
              "      <td>0.0</td>\n",
              "      <td>5.0</td>\n",
              "      <td>0.0</td>\n",
              "      <td>0.0</td>\n",
              "      <td>0.0</td>\n",
              "      <td>0.0</td>\n",
              "      <td>5.0</td>\n",
              "      <td>3.0</td>\n",
              "      <td>0.0</td>\n",
              "      <td>2.0</td>\n",
              "      <td>0.0</td>\n",
              "      <td>0.0</td>\n",
              "      <td>0.0</td>\n",
              "      <td>0.0</td>\n",
              "      <td>0.0</td>\n",
              "      <td>0.0</td>\n",
              "      <td>0.0</td>\n",
              "      <td>0.0</td>\n",
              "      <td>...</td>\n",
              "      <td>True</td>\n",
              "      <td>False</td>\n",
              "      <td>4.0</td>\n",
              "      <td>3.0</td>\n",
              "      <td>R</td>\n",
              "      <td>2021-04-29</td>\n",
              "      <td>5</td>\n",
              "      <td>False</td>\n",
              "      <td>NaN</td>\n",
              "      <td>12</td>\n",
              "      <td>201.0</td>\n",
              "      <td>2021-04-29</td>\n",
              "      <td>42.0</td>\n",
              "      <td>16.57155</td>\n",
              "      <td>6.296399</td>\n",
              "      <td>24.090019</td>\n",
              "      <td>0.087622</td>\n",
              "      <td>100.0</td>\n",
              "      <td>15.112738</td>\n",
              "      <td>17.019935</td>\n",
              "      <td>15.442759</td>\n",
              "      <td>8.480908</td>\n",
              "      <td>4.489628</td>\n",
              "      <td>33.868643</td>\n",
              "      <td>12.036823</td>\n",
              "      <td>5.245218</td>\n",
              "      <td>0.40027</td>\n",
              "      <td>11.07997</td>\n",
              "      <td>0.077679</td>\n",
              "      <td>39.703651</td>\n",
              "      <td>2.993143</td>\n",
              "      <td>13.301593</td>\n",
              "      <td>12.0</td>\n",
              "      <td>8.016774</td>\n",
              "      <td>2.059741</td>\n",
              "      <td>34.008584</td>\n",
              "      <td>6.248675</td>\n",
              "      <td>20210429</td>\n",
              "      <td>202104</td>\n",
              "      <td>3399726.125</td>\n",
              "    </tr>\n",
              "    <tr>\n",
              "      <th>3656</th>\n",
              "      <td>519317</td>\n",
              "      <td>0.243648</td>\n",
              "      <td>16.343241</td>\n",
              "      <td>0.239870</td>\n",
              "      <td>11.835666</td>\n",
              "      <td>20210430</td>\n",
              "      <td>Designated Hitter</td>\n",
              "      <td>Giancarlo Stanton</td>\n",
              "      <td>147.0</td>\n",
              "      <td>Active</td>\n",
              "      <td>200.0</td>\n",
              "      <td>1.0</td>\n",
              "      <td>0.0</td>\n",
              "      <td>1.0</td>\n",
              "      <td>2.0</td>\n",
              "      <td>1.0</td>\n",
              "      <td>0.0</td>\n",
              "      <td>0.0</td>\n",
              "      <td>0.0</td>\n",
              "      <td>0.0</td>\n",
              "      <td>0.0</td>\n",
              "      <td>3.0</td>\n",
              "      <td>0.0</td>\n",
              "      <td>5.0</td>\n",
              "      <td>0.0</td>\n",
              "      <td>0.0</td>\n",
              "      <td>0.0</td>\n",
              "      <td>0.0</td>\n",
              "      <td>5.0</td>\n",
              "      <td>4.0</td>\n",
              "      <td>0.0</td>\n",
              "      <td>2.0</td>\n",
              "      <td>0.0</td>\n",
              "      <td>0.0</td>\n",
              "      <td>0.0</td>\n",
              "      <td>0.0</td>\n",
              "      <td>0.0</td>\n",
              "      <td>0.0</td>\n",
              "      <td>0.0</td>\n",
              "      <td>0.0</td>\n",
              "      <td>...</td>\n",
              "      <td>True</td>\n",
              "      <td>False</td>\n",
              "      <td>10.0</td>\n",
              "      <td>0.0</td>\n",
              "      <td>R</td>\n",
              "      <td>2021-04-30</td>\n",
              "      <td>5</td>\n",
              "      <td>False</td>\n",
              "      <td>NaN</td>\n",
              "      <td>12</td>\n",
              "      <td>201.0</td>\n",
              "      <td>2021-04-30</td>\n",
              "      <td>42.0</td>\n",
              "      <td>16.57155</td>\n",
              "      <td>6.296399</td>\n",
              "      <td>24.090019</td>\n",
              "      <td>0.087622</td>\n",
              "      <td>100.0</td>\n",
              "      <td>15.112738</td>\n",
              "      <td>17.019935</td>\n",
              "      <td>15.442759</td>\n",
              "      <td>8.480908</td>\n",
              "      <td>4.489628</td>\n",
              "      <td>33.868643</td>\n",
              "      <td>12.036823</td>\n",
              "      <td>5.245218</td>\n",
              "      <td>0.40027</td>\n",
              "      <td>11.07997</td>\n",
              "      <td>0.077679</td>\n",
              "      <td>39.703651</td>\n",
              "      <td>2.993143</td>\n",
              "      <td>13.301593</td>\n",
              "      <td>12.0</td>\n",
              "      <td>8.016774</td>\n",
              "      <td>2.059741</td>\n",
              "      <td>34.008584</td>\n",
              "      <td>6.248675</td>\n",
              "      <td>20210430</td>\n",
              "      <td>202104</td>\n",
              "      <td>3399726.125</td>\n",
              "    </tr>\n",
              "  </tbody>\n",
              "</table>\n",
              "<p>1222 rows × 128 columns</p>\n",
              "</div>"
            ],
            "text/plain": [
              "      playerId    target1  ...  year_months  teamnumberOfFollowers\n",
              "2435    519317   0.974327  ...       201801            3399726.125\n",
              "2436    519317   0.743145  ...       201801            3399726.125\n",
              "2437    519317   0.741518  ...       201801            3399726.125\n",
              "2438    519317   0.434217  ...       201801            3399726.125\n",
              "2439    519317   1.700575  ...       201801            3399726.125\n",
              "...        ...        ...  ...          ...                    ...\n",
              "3652    519317  14.208138  ...       202104            3399726.125\n",
              "3653    519317  15.521546  ...       202104            3399726.125\n",
              "3654    519317   0.947361  ...       202104            3399726.125\n",
              "3655    519317   0.276774  ...       202104            3399726.125\n",
              "3656    519317   0.243648  ...       202104            3399726.125\n",
              "\n",
              "[1222 rows x 128 columns]"
            ]
          },
          "metadata": {
            "tags": []
          },
          "execution_count": 198
        }
      ]
    },
    {
      "cell_type": "code",
      "metadata": {
        "id": "vrevhu0a0MP0"
      },
      "source": [
        "train[\"stryear\"] = train[\"date\"].astype(str)\n",
        "train[\"year\"] = train[\"stryear\"].str[0:4].astype(int)"
      ],
      "id": "vrevhu0a0MP0",
      "execution_count": null,
      "outputs": []
    },
    {
      "cell_type": "code",
      "metadata": {
        "id": "ViJ9Gl9aezst"
      },
      "source": [
        ""
      ],
      "id": "ViJ9Gl9aezst",
      "execution_count": null,
      "outputs": []
    },
    {
      "cell_type": "code",
      "metadata": {
        "id": "2CkB9FJX3_Te",
        "colab": {
          "base_uri": "https://localhost:8080/"
        },
        "outputId": "d4e01050-a9aa-4bb8-95a6-856f5ed5ac93"
      },
      "source": [
        "#make feature\n",
        "train[\"strdate\"] = train[\"date\"].astype(str)\n",
        "train[\"month\"] = train[\"strdate\"].str[5].astype(int)\n",
        "train[\"month\"]\n",
        "train[\"stryear\"] = train[\"date\"].astype(str)\n",
        "train[\"year\"] = train[\"stryear\"].str[0:4].astype(int)\n",
        "train[\"nullc\"] = train.isnull().sum(axis=1)\n",
        "train[\"ongame\"] = np.where(train[\"gamePk\"].isnull() == 1,0,1)\n",
        "train[\"ongame\"].unique()"
      ],
      "id": "2CkB9FJX3_Te",
      "execution_count": null,
      "outputs": [
        {
          "output_type": "execute_result",
          "data": {
            "text/plain": [
              "array([0, 1])"
            ]
          },
          "metadata": {
            "tags": []
          },
          "execution_count": 200
        }
      ]
    },
    {
      "cell_type": "code",
      "metadata": {
        "id": "adY9aY39Y2ez"
      },
      "source": [
        "del awards\n",
        "del scores\n",
        "del rosters\n",
        "del standings"
      ],
      "id": "adY9aY39Y2ez",
      "execution_count": null,
      "outputs": []
    },
    {
      "cell_type": "code",
      "metadata": {
        "execution": {
          "iopub.execute_input": "2021-06-25T22:19:05.280987Z",
          "iopub.status.busy": "2021-06-25T22:19:05.280074Z",
          "iopub.status.idle": "2021-06-25T22:19:06.308927Z",
          "shell.execute_reply": "2021-06-25T22:19:06.308036Z",
          "shell.execute_reply.started": "2021-06-25T21:58:44.298952Z"
        },
        "papermill": {
          "duration": 1.157038,
          "end_time": "2021-06-25T22:19:06.309107",
          "exception": false,
          "start_time": "2021-06-25T22:19:05.152069",
          "status": "completed"
        },
        "tags": [],
        "id": "identified-resource"
      },
      "source": [
        ""
      ],
      "id": "identified-resource",
      "execution_count": null,
      "outputs": []
    },
    {
      "cell_type": "code",
      "metadata": {
        "execution": {
          "iopub.execute_input": "2021-06-25T22:19:06.379223Z",
          "iopub.status.busy": "2021-06-25T22:19:06.378433Z",
          "iopub.status.idle": "2021-06-25T22:19:09.364865Z",
          "shell.execute_reply": "2021-06-25T22:19:09.364128Z",
          "shell.execute_reply.started": "2021-06-25T21:58:45.283486Z"
        },
        "papermill": {
          "duration": 3.0266,
          "end_time": "2021-06-25T22:19:09.365076",
          "exception": false,
          "start_time": "2021-06-25T22:19:06.338476",
          "status": "completed"
        },
        "tags": [],
        "id": "outstanding-spoke"
      },
      "source": [
        "# label encoding\n",
        "player2num = {c: i for i, c in enumerate(train['playerId'].unique())}\n",
        "position2num = {c: i for i, c in enumerate(train['primaryPositionName'].unique())}\n",
        "teamid2num = {c: i for i, c in enumerate(train['teamId'].unique())}\n",
        "status2num = {c: i for i, c in enumerate(train['status'].unique())}\n",
        "daynight2num = {c: i for i, c in enumerate(train['dayNight'].unique())}\n",
        "seriesDescription2num = {c: i for i, c in enumerate(train['seriesDescription'].unique())}\n",
        "gameType2num = {c: i for i, c in enumerate(train['gameType'].unique())}\n",
        "#bitrhCountry2num = {c: i for i, c in enumerate(train[\"birthCountry\"].unique())}\n",
        "train['label_playerId'] = train['playerId'].map(player2num)\n",
        "train['label_primaryPositionName'] = train['primaryPositionName'].map(position2num)\n",
        "train['label_teamId'] = train['teamId'].map(teamid2num)\n",
        "train['label_status'] = train['status'].map(status2num)\n",
        "train[\"label_daynight\"] = train['dayNight'].map(daynight2num)\n",
        "train[\"label_seriesDescription\"] = train[\"seriesDescription\"].map(seriesDescription2num)\n",
        "#train[\"birthCountry\"] = train[\"birthCountry\"].map(bitrhCountry2num)\n",
        "\n",
        "from sklearn.compose import TransformedTargetRegressor\n"
      ],
      "id": "outstanding-spoke",
      "execution_count": null,
      "outputs": []
    },
    {
      "cell_type": "code",
      "metadata": {
        "id": "G3RKg8r9QpDf"
      },
      "source": [
        "#train.to_csv(\"/content/drive/MyDrive/mlb/script/output/train.csv\")"
      ],
      "id": "G3RKg8r9QpDf",
      "execution_count": null,
      "outputs": []
    },
    {
      "cell_type": "code",
      "metadata": {
        "id": "tnDAqSAkc7pP"
      },
      "source": [
        "playerlist = train[\"playerId\"].unique()"
      ],
      "id": "tnDAqSAkc7pP",
      "execution_count": null,
      "outputs": []
    },
    {
      "cell_type": "code",
      "metadata": {
        "colab": {
          "base_uri": "https://localhost:8080/"
        },
        "id": "cIq6Ji3fewUr",
        "outputId": "724ec14f-b535-46dd-a0bc-bc4c0db5cd7f"
      },
      "source": [
        "train[\"playerId\"]"
      ],
      "id": "cIq6Ji3fewUr",
      "execution_count": null,
      "outputs": [
        {
          "output_type": "execute_result",
          "data": {
            "text/plain": [
              "0          628317\n",
              "1          628317\n",
              "2          628317\n",
              "3          628317\n",
              "4          628317\n",
              "            ...  \n",
              "2508779    656775\n",
              "2508780    656775\n",
              "2508781    656775\n",
              "2508782    656775\n",
              "2508783    656775\n",
              "Name: playerId, Length: 1425738, dtype: int64"
            ]
          },
          "metadata": {
            "tags": []
          },
          "execution_count": 205
        }
      ]
    },
    {
      "cell_type": "code",
      "metadata": {
        "id": "SnLF5qfiaTAm"
      },
      "source": [
        "\n",
        "train_2017post = train[train[\"date\"]<=20180328]\n",
        "train_2018reg = train[(train[\"date\"]>=20180329)&(train[\"date\"]<=20181001)]\n",
        "train_2018post = train[(train[\"date\"]>=20181002)&(train[\"date\"]<=20190319)]\n",
        "train_2019reg = train[(train[\"date\"]>=20190320)&(train[\"date\"]<=20190929)]\n",
        "train_2019post = train[(train[\"date\"]>=20190930)&(train[\"date\"]<=20200722)]\n",
        "train_2020reg = train[(train[\"date\"]>=20200723)&(train[\"date\"]<=20200927)]\n",
        "train_2020post = train[(train[\"date\"]>=20200928)&(train[\"date\"]<=20210331)]\n",
        "train_2021reg = train[(train[\"date\"]>=20210401)&(train[\"date\"]<=20211003)]\n"
      ],
      "id": "SnLF5qfiaTAm",
      "execution_count": null,
      "outputs": []
    },
    {
      "cell_type": "code",
      "metadata": {
        "colab": {
          "base_uri": "https://localhost:8080/",
          "height": 224
        },
        "id": "5wU1G9E899HT",
        "outputId": "b55003db-de30-412b-fb0d-ba5727bb9d72"
      },
      "source": [
        "seasons"
      ],
      "id": "5wU1G9E899HT",
      "execution_count": null,
      "outputs": [
        {
          "output_type": "execute_result",
          "data": {
            "text/html": [
              "<div>\n",
              "<style scoped>\n",
              "    .dataframe tbody tr th:only-of-type {\n",
              "        vertical-align: middle;\n",
              "    }\n",
              "\n",
              "    .dataframe tbody tr th {\n",
              "        vertical-align: top;\n",
              "    }\n",
              "\n",
              "    .dataframe thead th {\n",
              "        text-align: right;\n",
              "    }\n",
              "</style>\n",
              "<table border=\"1\" class=\"dataframe\">\n",
              "  <thead>\n",
              "    <tr style=\"text-align: right;\">\n",
              "      <th></th>\n",
              "      <th>seasonId</th>\n",
              "      <th>seasonStartDate</th>\n",
              "      <th>seasonEndDate</th>\n",
              "      <th>preSeasonStartDate</th>\n",
              "      <th>preSeasonEndDate</th>\n",
              "      <th>regularSeasonStartDate</th>\n",
              "      <th>regularSeasonEndDate</th>\n",
              "      <th>lastDate1stHalf</th>\n",
              "      <th>allStarDate</th>\n",
              "      <th>firstDate2ndHalf</th>\n",
              "      <th>postSeasonStartDate</th>\n",
              "      <th>postSeasonEndDate</th>\n",
              "    </tr>\n",
              "  </thead>\n",
              "  <tbody>\n",
              "    <tr>\n",
              "      <th>0</th>\n",
              "      <td>2017</td>\n",
              "      <td>2017-04-02</td>\n",
              "      <td>2017-11-01</td>\n",
              "      <td>2017-02-22</td>\n",
              "      <td>2017-04-01</td>\n",
              "      <td>2017-04-02</td>\n",
              "      <td>2017-10-01</td>\n",
              "      <td>2017-07-09</td>\n",
              "      <td>2017-07-11</td>\n",
              "      <td>2017-07-14</td>\n",
              "      <td>2017-10-03</td>\n",
              "      <td>2017-11-01</td>\n",
              "    </tr>\n",
              "    <tr>\n",
              "      <th>1</th>\n",
              "      <td>2018</td>\n",
              "      <td>2018-03-29</td>\n",
              "      <td>2018-10-28</td>\n",
              "      <td>2018-02-21</td>\n",
              "      <td>2018-03-27</td>\n",
              "      <td>2018-03-29</td>\n",
              "      <td>2018-10-01</td>\n",
              "      <td>2018-07-15</td>\n",
              "      <td>2018-07-17</td>\n",
              "      <td>2018-07-19</td>\n",
              "      <td>2018-10-02</td>\n",
              "      <td>2018-10-28</td>\n",
              "    </tr>\n",
              "    <tr>\n",
              "      <th>2</th>\n",
              "      <td>2019</td>\n",
              "      <td>2019-03-20</td>\n",
              "      <td>2019-10-30</td>\n",
              "      <td>2019-02-21</td>\n",
              "      <td>2019-03-26</td>\n",
              "      <td>2019-03-20</td>\n",
              "      <td>2019-09-29</td>\n",
              "      <td>2019-07-07</td>\n",
              "      <td>2019-07-09</td>\n",
              "      <td>2019-07-11</td>\n",
              "      <td>2019-10-01</td>\n",
              "      <td>2019-10-30</td>\n",
              "    </tr>\n",
              "    <tr>\n",
              "      <th>3</th>\n",
              "      <td>2020</td>\n",
              "      <td>2020-07-23</td>\n",
              "      <td>2020-10-28</td>\n",
              "      <td>2020-02-21</td>\n",
              "      <td>2020-07-22</td>\n",
              "      <td>2020-07-23</td>\n",
              "      <td>2020-09-27</td>\n",
              "      <td>2020-08-25</td>\n",
              "      <td>NaN</td>\n",
              "      <td>2020-08-26</td>\n",
              "      <td>2020-09-29</td>\n",
              "      <td>2020-10-28</td>\n",
              "    </tr>\n",
              "    <tr>\n",
              "      <th>4</th>\n",
              "      <td>2021</td>\n",
              "      <td>2021-02-28</td>\n",
              "      <td>2021-10-31</td>\n",
              "      <td>2021-02-28</td>\n",
              "      <td>2021-03-30</td>\n",
              "      <td>2021-04-01</td>\n",
              "      <td>2021-10-03</td>\n",
              "      <td>2021-07-11</td>\n",
              "      <td>2021-07-13</td>\n",
              "      <td>2021-07-15</td>\n",
              "      <td>2021-10-04</td>\n",
              "      <td>2021-10-31</td>\n",
              "    </tr>\n",
              "  </tbody>\n",
              "</table>\n",
              "</div>"
            ],
            "text/plain": [
              "   seasonId seasonStartDate  ... postSeasonStartDate postSeasonEndDate\n",
              "0      2017      2017-04-02  ...          2017-10-03        2017-11-01\n",
              "1      2018      2018-03-29  ...          2018-10-02        2018-10-28\n",
              "2      2019      2019-03-20  ...          2019-10-01        2019-10-30\n",
              "3      2020      2020-07-23  ...          2020-09-29        2020-10-28\n",
              "4      2021      2021-02-28  ...          2021-10-04        2021-10-31\n",
              "\n",
              "[5 rows x 12 columns]"
            ]
          },
          "metadata": {
            "tags": []
          },
          "execution_count": 207
        }
      ]
    },
    {
      "cell_type": "code",
      "metadata": {
        "id": "49AjMLJDhv97",
        "colab": {
          "base_uri": "https://localhost:8080/"
        },
        "outputId": "b8148d14-9c40-4f0c-ae6d-c0e091a3eec0"
      },
      "source": [
        "#make feature\n",
        "hitscol = [\"playerId\",\"preseasonhits\"]\n",
        "hits_2018 = train_2018reg.groupby(\"playerId\").sum()[\"hits\"].reset_index()\n",
        "hits_2018[\"preseasonhits\"] = hits_2018[\"hits\"]\n",
        "train_2018post = train_2018post.merge(hits_2018[hitscol], on=['playerId'], how='left')\n",
        "train_2019reg = train_2019reg.merge(hits_2018[hitscol], on=['playerId'], how='left')\n",
        "\n",
        "hits2019col = [\"playerId\",\"hits2019\"]\n",
        "hits_2019 = train_2019reg.groupby(\"playerId\").sum()[\"hits\"].reset_index()\n",
        "hits_2019[\"preseasonhits\"] = hits_2019[\"hits\"]\n",
        "train_2019post = train_2019post.merge(hits_2019[hitscol], on=['playerId'], how='left')\n",
        "train_2020reg = train_2020reg.merge(hits_2019[hitscol], on=['playerId'], how='left')\n",
        "\n",
        "hits2020col = [\"playerId\",\"hits2020\"]\n",
        "hits_2020 = train_2020reg.groupby(\"playerId\").sum()[\"hits\"].reset_index()\n",
        "hits_2020[\"preseasonhits\"] = hits_2020[\"hits\"]\n",
        "train_2020post = train_2020post.merge(hits_2020[hitscol], on=['playerId'], how='left')\n",
        "train_2021reg = train_2021reg.merge(hits_2020[hitscol], on=['playerId'], how='left')\n",
        "del hits_2018,hits_2019,hits_2020\n",
        "gc.collect()\n",
        "\n",
        "gamescol = [\"playerId\",\"preseasonpt\"]\n",
        "game2018 = train_2018reg.groupby(\"playerId\").sum()[\"ongame\"].reset_index()\n",
        "game2018[\"preseasonpt\"] = game2018[\"ongame\"]\n",
        "train_2018post = train_2018post.merge(game2018[gamescol], on=['playerId'], how='left')\n",
        "train_2019reg = train_2019reg.merge(game2018[gamescol], on=['playerId'], how='left')\n",
        "\n",
        "game2019 = train_2019reg.groupby(\"playerId\").sum()[\"ongame\"].reset_index()\n",
        "game2019[\"preseasonpt\"] = game2019[\"ongame\"]\n",
        "train_2019post = train_2019post.merge(game2019[gamescol], on=['playerId'], how='left')\n",
        "train_2020reg = train_2020reg.merge(game2019[gamescol], on=['playerId'], how='left')\n",
        "\n",
        "game2020 = train_2020reg.groupby(\"playerId\").sum()[\"ongame\"].reset_index()\n",
        "game2020[\"preseasonpt\"] = game2020[\"ongame\"]\n",
        "train_2020post = train_2020post.merge(game2020[gamescol], on=['playerId'], how='left')\n",
        "train_2021reg = train_2021reg.merge(game2020[gamescol], on=['playerId'], how='left')\n",
        "\n",
        "del game2018,game2019,game2020\n",
        "gc.collect()"
      ],
      "id": "49AjMLJDhv97",
      "execution_count": null,
      "outputs": [
        {
          "output_type": "execute_result",
          "data": {
            "text/plain": [
              "0"
            ]
          },
          "metadata": {
            "tags": []
          },
          "execution_count": 208
        }
      ]
    },
    {
      "cell_type": "code",
      "metadata": {
        "id": "xT9yVB1Qzz44"
      },
      "source": [
        "train = pd.concat([train_2017post,train_2018reg,train_2018post,train_2019reg,train_2019post,train_2020reg,train_2020post,train_2021reg])\n",
        "train[\"preseasonhits\"]\n",
        "del train_2017post,train_2018post,train_2019post, train_2020post, train_2018reg, train_2019reg, train_2020reg"
      ],
      "id": "xT9yVB1Qzz44",
      "execution_count": null,
      "outputs": []
    },
    {
      "cell_type": "code",
      "metadata": {
        "id": "P7S_fxrw4NCB"
      },
      "source": [
        "train[\"hitpergame\"] = train[\"preseasonhits\"] / train[\"preseasonpt\"]"
      ],
      "id": "P7S_fxrw4NCB",
      "execution_count": null,
      "outputs": []
    },
    {
      "cell_type": "code",
      "metadata": {
        "id": "SwHCG2X0rmhR"
      },
      "source": [
        ""
      ],
      "id": "SwHCG2X0rmhR",
      "execution_count": null,
      "outputs": []
    },
    {
      "cell_type": "code",
      "metadata": {
        "id": "krSBoczTuaVd"
      },
      "source": [
        ""
      ],
      "id": "krSBoczTuaVd",
      "execution_count": null,
      "outputs": []
    },
    {
      "cell_type": "code",
      "metadata": {
        "execution": {
          "iopub.execute_input": "2021-06-25T22:19:09.441422Z",
          "iopub.status.busy": "2021-06-25T22:19:09.438428Z",
          "iopub.status.idle": "2021-06-25T22:19:17.553819Z",
          "shell.execute_reply": "2021-06-25T22:19:17.554566Z",
          "shell.execute_reply.started": "2021-06-25T21:58:48.179255Z"
        },
        "papermill": {
          "duration": 8.158299,
          "end_time": "2021-06-25T22:19:17.555101",
          "exception": false,
          "start_time": "2021-06-25T22:19:09.396802",
          "status": "completed"
        },
        "tags": [],
        "id": "negative-offset",
        "colab": {
          "base_uri": "https://localhost:8080/"
        },
        "outputId": "03a8e5e6-06b4-4eb3-c2a5-ae2d44ab20fa"
      },
      "source": [
        "\n",
        "train_y = train[['target1', 'target2', 'target3', 'target4']]\n",
        "\n",
        "\n",
        "_index = (train['date'] < 20210401)\n",
        "gc.collect()\n",
        "\n",
        "\n",
        "x_train = train.loc[_index].reset_index(drop=True)\n",
        "y_train = train_y.loc[_index].reset_index(drop=True)\n",
        "x_valid = train.loc[~_index].reset_index(drop=True)\n",
        "y_valid = train_y.loc[~_index].reset_index(drop=True)\n",
        "\n",
        "\n",
        "\n",
        "gc.collect()"
      ],
      "id": "negative-offset",
      "execution_count": null,
      "outputs": [
        {
          "output_type": "execute_result",
          "data": {
            "text/plain": [
              "0"
            ]
          },
          "metadata": {
            "tags": []
          },
          "execution_count": 211
        }
      ]
    },
    {
      "cell_type": "code",
      "metadata": {
        "colab": {
          "base_uri": "https://localhost:8080/",
          "height": 609
        },
        "id": "1bOsn97CzD8q",
        "outputId": "3d8464bf-0c5c-440c-a817-09cb2bbc4086"
      },
      "source": [
        "train"
      ],
      "id": "1bOsn97CzD8q",
      "execution_count": null,
      "outputs": [
        {
          "output_type": "execute_result",
          "data": {
            "text/html": [
              "<div>\n",
              "<style scoped>\n",
              "    .dataframe tbody tr th:only-of-type {\n",
              "        vertical-align: middle;\n",
              "    }\n",
              "\n",
              "    .dataframe tbody tr th {\n",
              "        vertical-align: top;\n",
              "    }\n",
              "\n",
              "    .dataframe thead th {\n",
              "        text-align: right;\n",
              "    }\n",
              "</style>\n",
              "<table border=\"1\" class=\"dataframe\">\n",
              "  <thead>\n",
              "    <tr style=\"text-align: right;\">\n",
              "      <th></th>\n",
              "      <th>playerId</th>\n",
              "      <th>target1</th>\n",
              "      <th>target2</th>\n",
              "      <th>target3</th>\n",
              "      <th>target4</th>\n",
              "      <th>date</th>\n",
              "      <th>primaryPositionName</th>\n",
              "      <th>playerName</th>\n",
              "      <th>teamId</th>\n",
              "      <th>status</th>\n",
              "      <th>battingOrder</th>\n",
              "      <th>gamesPlayedBatting</th>\n",
              "      <th>flyOuts</th>\n",
              "      <th>groundOuts</th>\n",
              "      <th>runsScored</th>\n",
              "      <th>doubles</th>\n",
              "      <th>triples</th>\n",
              "      <th>homeRuns</th>\n",
              "      <th>strikeOuts</th>\n",
              "      <th>baseOnBalls</th>\n",
              "      <th>intentionalWalks</th>\n",
              "      <th>hits</th>\n",
              "      <th>hitByPitch</th>\n",
              "      <th>atBats</th>\n",
              "      <th>caughtStealing</th>\n",
              "      <th>stolenBases</th>\n",
              "      <th>groundIntoDoublePlay</th>\n",
              "      <th>groundIntoTriplePlay</th>\n",
              "      <th>plateAppearances</th>\n",
              "      <th>totalBases</th>\n",
              "      <th>rbi</th>\n",
              "      <th>leftOnBase</th>\n",
              "      <th>sacBunts</th>\n",
              "      <th>sacFlies</th>\n",
              "      <th>catchersInterference</th>\n",
              "      <th>pickoffs</th>\n",
              "      <th>gamesPlayedPitching</th>\n",
              "      <th>gamesStartedPitching</th>\n",
              "      <th>completeGamesPitching</th>\n",
              "      <th>shutoutsPitching</th>\n",
              "      <th>...</th>\n",
              "      <th>target1_median</th>\n",
              "      <th>target1_std</th>\n",
              "      <th>target1_min</th>\n",
              "      <th>target1_max</th>\n",
              "      <th>target1_prob</th>\n",
              "      <th>target2_mean</th>\n",
              "      <th>target2_median</th>\n",
              "      <th>target2_std</th>\n",
              "      <th>target2_min</th>\n",
              "      <th>target2_max</th>\n",
              "      <th>target2_prob</th>\n",
              "      <th>target3_mean</th>\n",
              "      <th>target3_median</th>\n",
              "      <th>target3_std</th>\n",
              "      <th>target3_min</th>\n",
              "      <th>target3_max</th>\n",
              "      <th>target3_prob</th>\n",
              "      <th>target4_mean</th>\n",
              "      <th>target4_median</th>\n",
              "      <th>target4_std</th>\n",
              "      <th>target4_min</th>\n",
              "      <th>target4_max</th>\n",
              "      <th>target4_prob</th>\n",
              "      <th>strdate</th>\n",
              "      <th>year_months</th>\n",
              "      <th>teamnumberOfFollowers</th>\n",
              "      <th>stryear</th>\n",
              "      <th>year</th>\n",
              "      <th>month</th>\n",
              "      <th>nullc</th>\n",
              "      <th>ongame</th>\n",
              "      <th>label_playerId</th>\n",
              "      <th>label_primaryPositionName</th>\n",
              "      <th>label_teamId</th>\n",
              "      <th>label_status</th>\n",
              "      <th>label_daynight</th>\n",
              "      <th>label_seriesDescription</th>\n",
              "      <th>preseasonhits</th>\n",
              "      <th>preseasonpt</th>\n",
              "      <th>hitpergame</th>\n",
              "    </tr>\n",
              "  </thead>\n",
              "  <tbody>\n",
              "    <tr>\n",
              "      <th>0</th>\n",
              "      <td>628317</td>\n",
              "      <td>0.011167</td>\n",
              "      <td>4.474708</td>\n",
              "      <td>0.005168</td>\n",
              "      <td>5.735294</td>\n",
              "      <td>20180101</td>\n",
              "      <td>Pitcher</td>\n",
              "      <td>Kenta Maeda</td>\n",
              "      <td>119.0</td>\n",
              "      <td>Active</td>\n",
              "      <td>NaN</td>\n",
              "      <td>NaN</td>\n",
              "      <td>NaN</td>\n",
              "      <td>NaN</td>\n",
              "      <td>NaN</td>\n",
              "      <td>NaN</td>\n",
              "      <td>NaN</td>\n",
              "      <td>NaN</td>\n",
              "      <td>NaN</td>\n",
              "      <td>NaN</td>\n",
              "      <td>NaN</td>\n",
              "      <td>NaN</td>\n",
              "      <td>NaN</td>\n",
              "      <td>NaN</td>\n",
              "      <td>NaN</td>\n",
              "      <td>NaN</td>\n",
              "      <td>NaN</td>\n",
              "      <td>NaN</td>\n",
              "      <td>NaN</td>\n",
              "      <td>NaN</td>\n",
              "      <td>NaN</td>\n",
              "      <td>NaN</td>\n",
              "      <td>NaN</td>\n",
              "      <td>NaN</td>\n",
              "      <td>NaN</td>\n",
              "      <td>NaN</td>\n",
              "      <td>NaN</td>\n",
              "      <td>NaN</td>\n",
              "      <td>NaN</td>\n",
              "      <td>NaN</td>\n",
              "      <td>...</td>\n",
              "      <td>0.024572</td>\n",
              "      <td>1.372738</td>\n",
              "      <td>0.003102</td>\n",
              "      <td>7.193825</td>\n",
              "      <td>0.038621</td>\n",
              "      <td>7.595162</td>\n",
              "      <td>3.207558</td>\n",
              "      <td>11.575222</td>\n",
              "      <td>0.793096</td>\n",
              "      <td>49.982843</td>\n",
              "      <td>5.240148</td>\n",
              "      <td>0.369429</td>\n",
              "      <td>0.130267</td>\n",
              "      <td>0.733202</td>\n",
              "      <td>0.018696</td>\n",
              "      <td>3.236853</td>\n",
              "      <td>0.244629</td>\n",
              "      <td>2.997316</td>\n",
              "      <td>2.331033</td>\n",
              "      <td>2.187388</td>\n",
              "      <td>0.597849</td>\n",
              "      <td>9.648069</td>\n",
              "      <td>3.094059</td>\n",
              "      <td>20180101</td>\n",
              "      <td>201801</td>\n",
              "      <td>2137878.1</td>\n",
              "      <td>20180101</td>\n",
              "      <td>2018</td>\n",
              "      <td>1</td>\n",
              "      <td>90</td>\n",
              "      <td>0</td>\n",
              "      <td>0</td>\n",
              "      <td>0</td>\n",
              "      <td>0</td>\n",
              "      <td>0</td>\n",
              "      <td>0</td>\n",
              "      <td>0</td>\n",
              "      <td>NaN</td>\n",
              "      <td>NaN</td>\n",
              "      <td>NaN</td>\n",
              "    </tr>\n",
              "    <tr>\n",
              "      <th>1</th>\n",
              "      <td>628317</td>\n",
              "      <td>0.006356</td>\n",
              "      <td>2.521008</td>\n",
              "      <td>0.001648</td>\n",
              "      <td>2.766917</td>\n",
              "      <td>20180102</td>\n",
              "      <td>Pitcher</td>\n",
              "      <td>Kenta Maeda</td>\n",
              "      <td>119.0</td>\n",
              "      <td>Active</td>\n",
              "      <td>NaN</td>\n",
              "      <td>NaN</td>\n",
              "      <td>NaN</td>\n",
              "      <td>NaN</td>\n",
              "      <td>NaN</td>\n",
              "      <td>NaN</td>\n",
              "      <td>NaN</td>\n",
              "      <td>NaN</td>\n",
              "      <td>NaN</td>\n",
              "      <td>NaN</td>\n",
              "      <td>NaN</td>\n",
              "      <td>NaN</td>\n",
              "      <td>NaN</td>\n",
              "      <td>NaN</td>\n",
              "      <td>NaN</td>\n",
              "      <td>NaN</td>\n",
              "      <td>NaN</td>\n",
              "      <td>NaN</td>\n",
              "      <td>NaN</td>\n",
              "      <td>NaN</td>\n",
              "      <td>NaN</td>\n",
              "      <td>NaN</td>\n",
              "      <td>NaN</td>\n",
              "      <td>NaN</td>\n",
              "      <td>NaN</td>\n",
              "      <td>NaN</td>\n",
              "      <td>NaN</td>\n",
              "      <td>NaN</td>\n",
              "      <td>NaN</td>\n",
              "      <td>NaN</td>\n",
              "      <td>...</td>\n",
              "      <td>0.024572</td>\n",
              "      <td>1.372738</td>\n",
              "      <td>0.003102</td>\n",
              "      <td>7.193825</td>\n",
              "      <td>0.038621</td>\n",
              "      <td>7.595162</td>\n",
              "      <td>3.207558</td>\n",
              "      <td>11.575222</td>\n",
              "      <td>0.793096</td>\n",
              "      <td>49.982843</td>\n",
              "      <td>5.240148</td>\n",
              "      <td>0.369429</td>\n",
              "      <td>0.130267</td>\n",
              "      <td>0.733202</td>\n",
              "      <td>0.018696</td>\n",
              "      <td>3.236853</td>\n",
              "      <td>0.244629</td>\n",
              "      <td>2.997316</td>\n",
              "      <td>2.331033</td>\n",
              "      <td>2.187388</td>\n",
              "      <td>0.597849</td>\n",
              "      <td>9.648069</td>\n",
              "      <td>3.094059</td>\n",
              "      <td>20180102</td>\n",
              "      <td>201801</td>\n",
              "      <td>2137878.1</td>\n",
              "      <td>20180102</td>\n",
              "      <td>2018</td>\n",
              "      <td>1</td>\n",
              "      <td>90</td>\n",
              "      <td>0</td>\n",
              "      <td>0</td>\n",
              "      <td>0</td>\n",
              "      <td>0</td>\n",
              "      <td>0</td>\n",
              "      <td>0</td>\n",
              "      <td>0</td>\n",
              "      <td>NaN</td>\n",
              "      <td>NaN</td>\n",
              "      <td>NaN</td>\n",
              "    </tr>\n",
              "    <tr>\n",
              "      <th>2</th>\n",
              "      <td>628317</td>\n",
              "      <td>0.003556</td>\n",
              "      <td>2.380952</td>\n",
              "      <td>0.003624</td>\n",
              "      <td>3.439381</td>\n",
              "      <td>20180103</td>\n",
              "      <td>Pitcher</td>\n",
              "      <td>Kenta Maeda</td>\n",
              "      <td>119.0</td>\n",
              "      <td>Active</td>\n",
              "      <td>NaN</td>\n",
              "      <td>NaN</td>\n",
              "      <td>NaN</td>\n",
              "      <td>NaN</td>\n",
              "      <td>NaN</td>\n",
              "      <td>NaN</td>\n",
              "      <td>NaN</td>\n",
              "      <td>NaN</td>\n",
              "      <td>NaN</td>\n",
              "      <td>NaN</td>\n",
              "      <td>NaN</td>\n",
              "      <td>NaN</td>\n",
              "      <td>NaN</td>\n",
              "      <td>NaN</td>\n",
              "      <td>NaN</td>\n",
              "      <td>NaN</td>\n",
              "      <td>NaN</td>\n",
              "      <td>NaN</td>\n",
              "      <td>NaN</td>\n",
              "      <td>NaN</td>\n",
              "      <td>NaN</td>\n",
              "      <td>NaN</td>\n",
              "      <td>NaN</td>\n",
              "      <td>NaN</td>\n",
              "      <td>NaN</td>\n",
              "      <td>NaN</td>\n",
              "      <td>NaN</td>\n",
              "      <td>NaN</td>\n",
              "      <td>NaN</td>\n",
              "      <td>NaN</td>\n",
              "      <td>...</td>\n",
              "      <td>0.024572</td>\n",
              "      <td>1.372738</td>\n",
              "      <td>0.003102</td>\n",
              "      <td>7.193825</td>\n",
              "      <td>0.038621</td>\n",
              "      <td>7.595162</td>\n",
              "      <td>3.207558</td>\n",
              "      <td>11.575222</td>\n",
              "      <td>0.793096</td>\n",
              "      <td>49.982843</td>\n",
              "      <td>5.240148</td>\n",
              "      <td>0.369429</td>\n",
              "      <td>0.130267</td>\n",
              "      <td>0.733202</td>\n",
              "      <td>0.018696</td>\n",
              "      <td>3.236853</td>\n",
              "      <td>0.244629</td>\n",
              "      <td>2.997316</td>\n",
              "      <td>2.331033</td>\n",
              "      <td>2.187388</td>\n",
              "      <td>0.597849</td>\n",
              "      <td>9.648069</td>\n",
              "      <td>3.094059</td>\n",
              "      <td>20180103</td>\n",
              "      <td>201801</td>\n",
              "      <td>2137878.1</td>\n",
              "      <td>20180103</td>\n",
              "      <td>2018</td>\n",
              "      <td>1</td>\n",
              "      <td>90</td>\n",
              "      <td>0</td>\n",
              "      <td>0</td>\n",
              "      <td>0</td>\n",
              "      <td>0</td>\n",
              "      <td>0</td>\n",
              "      <td>0</td>\n",
              "      <td>0</td>\n",
              "      <td>NaN</td>\n",
              "      <td>NaN</td>\n",
              "      <td>NaN</td>\n",
              "    </tr>\n",
              "    <tr>\n",
              "      <th>3</th>\n",
              "      <td>628317</td>\n",
              "      <td>0.003363</td>\n",
              "      <td>3.332367</td>\n",
              "      <td>0.012294</td>\n",
              "      <td>4.849601</td>\n",
              "      <td>20180104</td>\n",
              "      <td>Pitcher</td>\n",
              "      <td>Kenta Maeda</td>\n",
              "      <td>119.0</td>\n",
              "      <td>Active</td>\n",
              "      <td>NaN</td>\n",
              "      <td>NaN</td>\n",
              "      <td>NaN</td>\n",
              "      <td>NaN</td>\n",
              "      <td>NaN</td>\n",
              "      <td>NaN</td>\n",
              "      <td>NaN</td>\n",
              "      <td>NaN</td>\n",
              "      <td>NaN</td>\n",
              "      <td>NaN</td>\n",
              "      <td>NaN</td>\n",
              "      <td>NaN</td>\n",
              "      <td>NaN</td>\n",
              "      <td>NaN</td>\n",
              "      <td>NaN</td>\n",
              "      <td>NaN</td>\n",
              "      <td>NaN</td>\n",
              "      <td>NaN</td>\n",
              "      <td>NaN</td>\n",
              "      <td>NaN</td>\n",
              "      <td>NaN</td>\n",
              "      <td>NaN</td>\n",
              "      <td>NaN</td>\n",
              "      <td>NaN</td>\n",
              "      <td>NaN</td>\n",
              "      <td>NaN</td>\n",
              "      <td>NaN</td>\n",
              "      <td>NaN</td>\n",
              "      <td>NaN</td>\n",
              "      <td>NaN</td>\n",
              "      <td>...</td>\n",
              "      <td>0.024572</td>\n",
              "      <td>1.372738</td>\n",
              "      <td>0.003102</td>\n",
              "      <td>7.193825</td>\n",
              "      <td>0.038621</td>\n",
              "      <td>7.595162</td>\n",
              "      <td>3.207558</td>\n",
              "      <td>11.575222</td>\n",
              "      <td>0.793096</td>\n",
              "      <td>49.982843</td>\n",
              "      <td>5.240148</td>\n",
              "      <td>0.369429</td>\n",
              "      <td>0.130267</td>\n",
              "      <td>0.733202</td>\n",
              "      <td>0.018696</td>\n",
              "      <td>3.236853</td>\n",
              "      <td>0.244629</td>\n",
              "      <td>2.997316</td>\n",
              "      <td>2.331033</td>\n",
              "      <td>2.187388</td>\n",
              "      <td>0.597849</td>\n",
              "      <td>9.648069</td>\n",
              "      <td>3.094059</td>\n",
              "      <td>20180104</td>\n",
              "      <td>201801</td>\n",
              "      <td>2137878.1</td>\n",
              "      <td>20180104</td>\n",
              "      <td>2018</td>\n",
              "      <td>1</td>\n",
              "      <td>90</td>\n",
              "      <td>0</td>\n",
              "      <td>0</td>\n",
              "      <td>0</td>\n",
              "      <td>0</td>\n",
              "      <td>0</td>\n",
              "      <td>0</td>\n",
              "      <td>0</td>\n",
              "      <td>NaN</td>\n",
              "      <td>NaN</td>\n",
              "      <td>NaN</td>\n",
              "    </tr>\n",
              "    <tr>\n",
              "      <th>4</th>\n",
              "      <td>628317</td>\n",
              "      <td>0.023976</td>\n",
              "      <td>1.440761</td>\n",
              "      <td>0.001501</td>\n",
              "      <td>2.371288</td>\n",
              "      <td>20180105</td>\n",
              "      <td>Pitcher</td>\n",
              "      <td>Kenta Maeda</td>\n",
              "      <td>119.0</td>\n",
              "      <td>Active</td>\n",
              "      <td>NaN</td>\n",
              "      <td>NaN</td>\n",
              "      <td>NaN</td>\n",
              "      <td>NaN</td>\n",
              "      <td>NaN</td>\n",
              "      <td>NaN</td>\n",
              "      <td>NaN</td>\n",
              "      <td>NaN</td>\n",
              "      <td>NaN</td>\n",
              "      <td>NaN</td>\n",
              "      <td>NaN</td>\n",
              "      <td>NaN</td>\n",
              "      <td>NaN</td>\n",
              "      <td>NaN</td>\n",
              "      <td>NaN</td>\n",
              "      <td>NaN</td>\n",
              "      <td>NaN</td>\n",
              "      <td>NaN</td>\n",
              "      <td>NaN</td>\n",
              "      <td>NaN</td>\n",
              "      <td>NaN</td>\n",
              "      <td>NaN</td>\n",
              "      <td>NaN</td>\n",
              "      <td>NaN</td>\n",
              "      <td>NaN</td>\n",
              "      <td>NaN</td>\n",
              "      <td>NaN</td>\n",
              "      <td>NaN</td>\n",
              "      <td>NaN</td>\n",
              "      <td>NaN</td>\n",
              "      <td>...</td>\n",
              "      <td>0.024572</td>\n",
              "      <td>1.372738</td>\n",
              "      <td>0.003102</td>\n",
              "      <td>7.193825</td>\n",
              "      <td>0.038621</td>\n",
              "      <td>7.595162</td>\n",
              "      <td>3.207558</td>\n",
              "      <td>11.575222</td>\n",
              "      <td>0.793096</td>\n",
              "      <td>49.982843</td>\n",
              "      <td>5.240148</td>\n",
              "      <td>0.369429</td>\n",
              "      <td>0.130267</td>\n",
              "      <td>0.733202</td>\n",
              "      <td>0.018696</td>\n",
              "      <td>3.236853</td>\n",
              "      <td>0.244629</td>\n",
              "      <td>2.997316</td>\n",
              "      <td>2.331033</td>\n",
              "      <td>2.187388</td>\n",
              "      <td>0.597849</td>\n",
              "      <td>9.648069</td>\n",
              "      <td>3.094059</td>\n",
              "      <td>20180105</td>\n",
              "      <td>201801</td>\n",
              "      <td>2137878.1</td>\n",
              "      <td>20180105</td>\n",
              "      <td>2018</td>\n",
              "      <td>1</td>\n",
              "      <td>90</td>\n",
              "      <td>0</td>\n",
              "      <td>0</td>\n",
              "      <td>0</td>\n",
              "      <td>0</td>\n",
              "      <td>0</td>\n",
              "      <td>0</td>\n",
              "      <td>0</td>\n",
              "      <td>NaN</td>\n",
              "      <td>NaN</td>\n",
              "      <td>NaN</td>\n",
              "    </tr>\n",
              "    <tr>\n",
              "      <th>...</th>\n",
              "      <td>...</td>\n",
              "      <td>...</td>\n",
              "      <td>...</td>\n",
              "      <td>...</td>\n",
              "      <td>...</td>\n",
              "      <td>...</td>\n",
              "      <td>...</td>\n",
              "      <td>...</td>\n",
              "      <td>...</td>\n",
              "      <td>...</td>\n",
              "      <td>...</td>\n",
              "      <td>...</td>\n",
              "      <td>...</td>\n",
              "      <td>...</td>\n",
              "      <td>...</td>\n",
              "      <td>...</td>\n",
              "      <td>...</td>\n",
              "      <td>...</td>\n",
              "      <td>...</td>\n",
              "      <td>...</td>\n",
              "      <td>...</td>\n",
              "      <td>...</td>\n",
              "      <td>...</td>\n",
              "      <td>...</td>\n",
              "      <td>...</td>\n",
              "      <td>...</td>\n",
              "      <td>...</td>\n",
              "      <td>...</td>\n",
              "      <td>...</td>\n",
              "      <td>...</td>\n",
              "      <td>...</td>\n",
              "      <td>...</td>\n",
              "      <td>...</td>\n",
              "      <td>...</td>\n",
              "      <td>...</td>\n",
              "      <td>...</td>\n",
              "      <td>...</td>\n",
              "      <td>...</td>\n",
              "      <td>...</td>\n",
              "      <td>...</td>\n",
              "      <td>...</td>\n",
              "      <td>...</td>\n",
              "      <td>...</td>\n",
              "      <td>...</td>\n",
              "      <td>...</td>\n",
              "      <td>...</td>\n",
              "      <td>...</td>\n",
              "      <td>...</td>\n",
              "      <td>...</td>\n",
              "      <td>...</td>\n",
              "      <td>...</td>\n",
              "      <td>...</td>\n",
              "      <td>...</td>\n",
              "      <td>...</td>\n",
              "      <td>...</td>\n",
              "      <td>...</td>\n",
              "      <td>...</td>\n",
              "      <td>...</td>\n",
              "      <td>...</td>\n",
              "      <td>...</td>\n",
              "      <td>...</td>\n",
              "      <td>...</td>\n",
              "      <td>...</td>\n",
              "      <td>...</td>\n",
              "      <td>...</td>\n",
              "      <td>...</td>\n",
              "      <td>...</td>\n",
              "      <td>...</td>\n",
              "      <td>...</td>\n",
              "      <td>...</td>\n",
              "      <td>...</td>\n",
              "      <td>...</td>\n",
              "      <td>...</td>\n",
              "      <td>...</td>\n",
              "      <td>...</td>\n",
              "      <td>...</td>\n",
              "      <td>...</td>\n",
              "      <td>...</td>\n",
              "      <td>...</td>\n",
              "      <td>...</td>\n",
              "      <td>...</td>\n",
              "    </tr>\n",
              "    <tr>\n",
              "      <th>35135</th>\n",
              "      <td>656775</td>\n",
              "      <td>16.920553</td>\n",
              "      <td>13.339693</td>\n",
              "      <td>5.035756</td>\n",
              "      <td>4.136498</td>\n",
              "      <td>20210426</td>\n",
              "      <td>Outfielder</td>\n",
              "      <td>Cedric Mullins</td>\n",
              "      <td>110.0</td>\n",
              "      <td>Active</td>\n",
              "      <td>100.0</td>\n",
              "      <td>1.0</td>\n",
              "      <td>1.0</td>\n",
              "      <td>0.0</td>\n",
              "      <td>2.0</td>\n",
              "      <td>1.0</td>\n",
              "      <td>0.0</td>\n",
              "      <td>2.0</td>\n",
              "      <td>0.0</td>\n",
              "      <td>0.0</td>\n",
              "      <td>0.0</td>\n",
              "      <td>3.0</td>\n",
              "      <td>0.0</td>\n",
              "      <td>4.0</td>\n",
              "      <td>0.0</td>\n",
              "      <td>0.0</td>\n",
              "      <td>0.0</td>\n",
              "      <td>0.0</td>\n",
              "      <td>4.0</td>\n",
              "      <td>10.0</td>\n",
              "      <td>2.0</td>\n",
              "      <td>0.0</td>\n",
              "      <td>0.0</td>\n",
              "      <td>0.0</td>\n",
              "      <td>0.0</td>\n",
              "      <td>0.0</td>\n",
              "      <td>0.0</td>\n",
              "      <td>0.0</td>\n",
              "      <td>0.0</td>\n",
              "      <td>0.0</td>\n",
              "      <td>...</td>\n",
              "      <td>1.412897</td>\n",
              "      <td>8.189448</td>\n",
              "      <td>0.001855</td>\n",
              "      <td>43.288911</td>\n",
              "      <td>1.447754</td>\n",
              "      <td>9.850177</td>\n",
              "      <td>8.171621</td>\n",
              "      <td>6.465414</td>\n",
              "      <td>1.317686</td>\n",
              "      <td>26.322296</td>\n",
              "      <td>8.339773</td>\n",
              "      <td>1.634240</td>\n",
              "      <td>0.093914</td>\n",
              "      <td>3.148632</td>\n",
              "      <td>0.002389</td>\n",
              "      <td>11.281962</td>\n",
              "      <td>0.035505</td>\n",
              "      <td>2.294898</td>\n",
              "      <td>1.479832</td>\n",
              "      <td>2.269158</td>\n",
              "      <td>0.244376</td>\n",
              "      <td>10.180258</td>\n",
              "      <td>1.069359</td>\n",
              "      <td>20210426</td>\n",
              "      <td>202104</td>\n",
              "      <td>785074.3</td>\n",
              "      <td>20210426</td>\n",
              "      <td>2021</td>\n",
              "      <td>4</td>\n",
              "      <td>1</td>\n",
              "      <td>1</td>\n",
              "      <td>1170</td>\n",
              "      <td>3</td>\n",
              "      <td>24</td>\n",
              "      <td>0</td>\n",
              "      <td>1</td>\n",
              "      <td>1</td>\n",
              "      <td>38.0</td>\n",
              "      <td>46.0</td>\n",
              "      <td>0.826087</td>\n",
              "    </tr>\n",
              "    <tr>\n",
              "      <th>35136</th>\n",
              "      <td>656775</td>\n",
              "      <td>1.779862</td>\n",
              "      <td>8.035688</td>\n",
              "      <td>0.287214</td>\n",
              "      <td>2.361922</td>\n",
              "      <td>20210427</td>\n",
              "      <td>Outfielder</td>\n",
              "      <td>Cedric Mullins</td>\n",
              "      <td>110.0</td>\n",
              "      <td>Active</td>\n",
              "      <td>100.0</td>\n",
              "      <td>1.0</td>\n",
              "      <td>0.0</td>\n",
              "      <td>1.0</td>\n",
              "      <td>0.0</td>\n",
              "      <td>0.0</td>\n",
              "      <td>0.0</td>\n",
              "      <td>0.0</td>\n",
              "      <td>1.0</td>\n",
              "      <td>0.0</td>\n",
              "      <td>0.0</td>\n",
              "      <td>1.0</td>\n",
              "      <td>0.0</td>\n",
              "      <td>5.0</td>\n",
              "      <td>0.0</td>\n",
              "      <td>0.0</td>\n",
              "      <td>0.0</td>\n",
              "      <td>0.0</td>\n",
              "      <td>5.0</td>\n",
              "      <td>1.0</td>\n",
              "      <td>0.0</td>\n",
              "      <td>1.0</td>\n",
              "      <td>0.0</td>\n",
              "      <td>0.0</td>\n",
              "      <td>0.0</td>\n",
              "      <td>0.0</td>\n",
              "      <td>0.0</td>\n",
              "      <td>0.0</td>\n",
              "      <td>0.0</td>\n",
              "      <td>0.0</td>\n",
              "      <td>...</td>\n",
              "      <td>1.412897</td>\n",
              "      <td>8.189448</td>\n",
              "      <td>0.001855</td>\n",
              "      <td>43.288911</td>\n",
              "      <td>1.447754</td>\n",
              "      <td>9.850177</td>\n",
              "      <td>8.171621</td>\n",
              "      <td>6.465414</td>\n",
              "      <td>1.317686</td>\n",
              "      <td>26.322296</td>\n",
              "      <td>8.339773</td>\n",
              "      <td>1.634240</td>\n",
              "      <td>0.093914</td>\n",
              "      <td>3.148632</td>\n",
              "      <td>0.002389</td>\n",
              "      <td>11.281962</td>\n",
              "      <td>0.035505</td>\n",
              "      <td>2.294898</td>\n",
              "      <td>1.479832</td>\n",
              "      <td>2.269158</td>\n",
              "      <td>0.244376</td>\n",
              "      <td>10.180258</td>\n",
              "      <td>1.069359</td>\n",
              "      <td>20210427</td>\n",
              "      <td>202104</td>\n",
              "      <td>785074.3</td>\n",
              "      <td>20210427</td>\n",
              "      <td>2021</td>\n",
              "      <td>4</td>\n",
              "      <td>1</td>\n",
              "      <td>1</td>\n",
              "      <td>1170</td>\n",
              "      <td>3</td>\n",
              "      <td>24</td>\n",
              "      <td>0</td>\n",
              "      <td>1</td>\n",
              "      <td>1</td>\n",
              "      <td>38.0</td>\n",
              "      <td>46.0</td>\n",
              "      <td>0.826087</td>\n",
              "    </tr>\n",
              "    <tr>\n",
              "      <th>35137</th>\n",
              "      <td>656775</td>\n",
              "      <td>12.440696</td>\n",
              "      <td>17.293955</td>\n",
              "      <td>11.027232</td>\n",
              "      <td>4.128819</td>\n",
              "      <td>20210428</td>\n",
              "      <td>Outfielder</td>\n",
              "      <td>Cedric Mullins</td>\n",
              "      <td>110.0</td>\n",
              "      <td>Active</td>\n",
              "      <td>100.0</td>\n",
              "      <td>1.0</td>\n",
              "      <td>1.0</td>\n",
              "      <td>2.0</td>\n",
              "      <td>0.0</td>\n",
              "      <td>0.0</td>\n",
              "      <td>0.0</td>\n",
              "      <td>0.0</td>\n",
              "      <td>0.0</td>\n",
              "      <td>0.0</td>\n",
              "      <td>0.0</td>\n",
              "      <td>0.0</td>\n",
              "      <td>0.0</td>\n",
              "      <td>4.0</td>\n",
              "      <td>0.0</td>\n",
              "      <td>0.0</td>\n",
              "      <td>0.0</td>\n",
              "      <td>0.0</td>\n",
              "      <td>4.0</td>\n",
              "      <td>0.0</td>\n",
              "      <td>0.0</td>\n",
              "      <td>0.0</td>\n",
              "      <td>0.0</td>\n",
              "      <td>0.0</td>\n",
              "      <td>0.0</td>\n",
              "      <td>0.0</td>\n",
              "      <td>0.0</td>\n",
              "      <td>0.0</td>\n",
              "      <td>0.0</td>\n",
              "      <td>0.0</td>\n",
              "      <td>...</td>\n",
              "      <td>1.412897</td>\n",
              "      <td>8.189448</td>\n",
              "      <td>0.001855</td>\n",
              "      <td>43.288911</td>\n",
              "      <td>1.447754</td>\n",
              "      <td>9.850177</td>\n",
              "      <td>8.171621</td>\n",
              "      <td>6.465414</td>\n",
              "      <td>1.317686</td>\n",
              "      <td>26.322296</td>\n",
              "      <td>8.339773</td>\n",
              "      <td>1.634240</td>\n",
              "      <td>0.093914</td>\n",
              "      <td>3.148632</td>\n",
              "      <td>0.002389</td>\n",
              "      <td>11.281962</td>\n",
              "      <td>0.035505</td>\n",
              "      <td>2.294898</td>\n",
              "      <td>1.479832</td>\n",
              "      <td>2.269158</td>\n",
              "      <td>0.244376</td>\n",
              "      <td>10.180258</td>\n",
              "      <td>1.069359</td>\n",
              "      <td>20210428</td>\n",
              "      <td>202104</td>\n",
              "      <td>785074.3</td>\n",
              "      <td>20210428</td>\n",
              "      <td>2021</td>\n",
              "      <td>4</td>\n",
              "      <td>1</td>\n",
              "      <td>1</td>\n",
              "      <td>1170</td>\n",
              "      <td>3</td>\n",
              "      <td>24</td>\n",
              "      <td>0</td>\n",
              "      <td>1</td>\n",
              "      <td>1</td>\n",
              "      <td>38.0</td>\n",
              "      <td>46.0</td>\n",
              "      <td>0.826087</td>\n",
              "    </tr>\n",
              "    <tr>\n",
              "      <th>35138</th>\n",
              "      <td>656775</td>\n",
              "      <td>10.765473</td>\n",
              "      <td>9.599092</td>\n",
              "      <td>7.968079</td>\n",
              "      <td>2.995182</td>\n",
              "      <td>20210429</td>\n",
              "      <td>Outfielder</td>\n",
              "      <td>Cedric Mullins</td>\n",
              "      <td>110.0</td>\n",
              "      <td>Active</td>\n",
              "      <td>100.0</td>\n",
              "      <td>1.0</td>\n",
              "      <td>1.0</td>\n",
              "      <td>0.0</td>\n",
              "      <td>2.0</td>\n",
              "      <td>0.0</td>\n",
              "      <td>0.0</td>\n",
              "      <td>0.0</td>\n",
              "      <td>1.0</td>\n",
              "      <td>1.0</td>\n",
              "      <td>0.0</td>\n",
              "      <td>1.0</td>\n",
              "      <td>0.0</td>\n",
              "      <td>3.0</td>\n",
              "      <td>0.0</td>\n",
              "      <td>0.0</td>\n",
              "      <td>0.0</td>\n",
              "      <td>0.0</td>\n",
              "      <td>5.0</td>\n",
              "      <td>1.0</td>\n",
              "      <td>1.0</td>\n",
              "      <td>0.0</td>\n",
              "      <td>0.0</td>\n",
              "      <td>1.0</td>\n",
              "      <td>0.0</td>\n",
              "      <td>0.0</td>\n",
              "      <td>0.0</td>\n",
              "      <td>0.0</td>\n",
              "      <td>0.0</td>\n",
              "      <td>0.0</td>\n",
              "      <td>...</td>\n",
              "      <td>1.412897</td>\n",
              "      <td>8.189448</td>\n",
              "      <td>0.001855</td>\n",
              "      <td>43.288911</td>\n",
              "      <td>1.447754</td>\n",
              "      <td>9.850177</td>\n",
              "      <td>8.171621</td>\n",
              "      <td>6.465414</td>\n",
              "      <td>1.317686</td>\n",
              "      <td>26.322296</td>\n",
              "      <td>8.339773</td>\n",
              "      <td>1.634240</td>\n",
              "      <td>0.093914</td>\n",
              "      <td>3.148632</td>\n",
              "      <td>0.002389</td>\n",
              "      <td>11.281962</td>\n",
              "      <td>0.035505</td>\n",
              "      <td>2.294898</td>\n",
              "      <td>1.479832</td>\n",
              "      <td>2.269158</td>\n",
              "      <td>0.244376</td>\n",
              "      <td>10.180258</td>\n",
              "      <td>1.069359</td>\n",
              "      <td>20210429</td>\n",
              "      <td>202104</td>\n",
              "      <td>785074.3</td>\n",
              "      <td>20210429</td>\n",
              "      <td>2021</td>\n",
              "      <td>4</td>\n",
              "      <td>1</td>\n",
              "      <td>1</td>\n",
              "      <td>1170</td>\n",
              "      <td>3</td>\n",
              "      <td>24</td>\n",
              "      <td>0</td>\n",
              "      <td>2</td>\n",
              "      <td>1</td>\n",
              "      <td>38.0</td>\n",
              "      <td>46.0</td>\n",
              "      <td>0.826087</td>\n",
              "    </tr>\n",
              "    <tr>\n",
              "      <th>35139</th>\n",
              "      <td>656775</td>\n",
              "      <td>7.448023</td>\n",
              "      <td>8.171621</td>\n",
              "      <td>0.855258</td>\n",
              "      <td>2.674405</td>\n",
              "      <td>20210430</td>\n",
              "      <td>Outfielder</td>\n",
              "      <td>Cedric Mullins</td>\n",
              "      <td>110.0</td>\n",
              "      <td>Active</td>\n",
              "      <td>100.0</td>\n",
              "      <td>1.0</td>\n",
              "      <td>0.0</td>\n",
              "      <td>1.0</td>\n",
              "      <td>1.0</td>\n",
              "      <td>0.0</td>\n",
              "      <td>0.0</td>\n",
              "      <td>1.0</td>\n",
              "      <td>2.0</td>\n",
              "      <td>0.0</td>\n",
              "      <td>0.0</td>\n",
              "      <td>1.0</td>\n",
              "      <td>0.0</td>\n",
              "      <td>4.0</td>\n",
              "      <td>0.0</td>\n",
              "      <td>0.0</td>\n",
              "      <td>0.0</td>\n",
              "      <td>0.0</td>\n",
              "      <td>4.0</td>\n",
              "      <td>4.0</td>\n",
              "      <td>2.0</td>\n",
              "      <td>1.0</td>\n",
              "      <td>0.0</td>\n",
              "      <td>0.0</td>\n",
              "      <td>0.0</td>\n",
              "      <td>0.0</td>\n",
              "      <td>0.0</td>\n",
              "      <td>0.0</td>\n",
              "      <td>0.0</td>\n",
              "      <td>0.0</td>\n",
              "      <td>...</td>\n",
              "      <td>1.412897</td>\n",
              "      <td>8.189448</td>\n",
              "      <td>0.001855</td>\n",
              "      <td>43.288911</td>\n",
              "      <td>1.447754</td>\n",
              "      <td>9.850177</td>\n",
              "      <td>8.171621</td>\n",
              "      <td>6.465414</td>\n",
              "      <td>1.317686</td>\n",
              "      <td>26.322296</td>\n",
              "      <td>8.339773</td>\n",
              "      <td>1.634240</td>\n",
              "      <td>0.093914</td>\n",
              "      <td>3.148632</td>\n",
              "      <td>0.002389</td>\n",
              "      <td>11.281962</td>\n",
              "      <td>0.035505</td>\n",
              "      <td>2.294898</td>\n",
              "      <td>1.479832</td>\n",
              "      <td>2.269158</td>\n",
              "      <td>0.244376</td>\n",
              "      <td>10.180258</td>\n",
              "      <td>1.069359</td>\n",
              "      <td>20210430</td>\n",
              "      <td>202104</td>\n",
              "      <td>785074.3</td>\n",
              "      <td>20210430</td>\n",
              "      <td>2021</td>\n",
              "      <td>4</td>\n",
              "      <td>1</td>\n",
              "      <td>1</td>\n",
              "      <td>1170</td>\n",
              "      <td>3</td>\n",
              "      <td>24</td>\n",
              "      <td>0</td>\n",
              "      <td>1</td>\n",
              "      <td>1</td>\n",
              "      <td>38.0</td>\n",
              "      <td>46.0</td>\n",
              "      <td>0.826087</td>\n",
              "    </tr>\n",
              "  </tbody>\n",
              "</table>\n",
              "<p>1425738 rows × 142 columns</p>\n",
              "</div>"
            ],
            "text/plain": [
              "       playerId    target1    target2  ...  preseasonhits  preseasonpt  hitpergame\n",
              "0        628317   0.011167   4.474708  ...            NaN          NaN         NaN\n",
              "1        628317   0.006356   2.521008  ...            NaN          NaN         NaN\n",
              "2        628317   0.003556   2.380952  ...            NaN          NaN         NaN\n",
              "3        628317   0.003363   3.332367  ...            NaN          NaN         NaN\n",
              "4        628317   0.023976   1.440761  ...            NaN          NaN         NaN\n",
              "...         ...        ...        ...  ...            ...          ...         ...\n",
              "35135    656775  16.920553  13.339693  ...           38.0         46.0    0.826087\n",
              "35136    656775   1.779862   8.035688  ...           38.0         46.0    0.826087\n",
              "35137    656775  12.440696  17.293955  ...           38.0         46.0    0.826087\n",
              "35138    656775  10.765473   9.599092  ...           38.0         46.0    0.826087\n",
              "35139    656775   7.448023   8.171621  ...           38.0         46.0    0.826087\n",
              "\n",
              "[1425738 rows x 142 columns]"
            ]
          },
          "metadata": {
            "tags": []
          },
          "execution_count": 212
        }
      ]
    },
    {
      "cell_type": "code",
      "metadata": {
        "execution": {
          "iopub.execute_input": "2021-06-25T22:19:17.614762Z",
          "iopub.status.busy": "2021-06-25T22:19:17.614054Z",
          "iopub.status.idle": "2021-06-25T22:19:17.624743Z",
          "shell.execute_reply": "2021-06-25T22:19:17.625239Z",
          "shell.execute_reply.started": "2021-06-25T21:58:57.444888Z"
        },
        "papermill": {
          "duration": 0.04094,
          "end_time": "2021-06-25T22:19:17.625445",
          "exception": false,
          "start_time": "2021-06-25T22:19:17.584505",
          "status": "completed"
        },
        "tags": [],
        "id": "sticky-stand",
        "colab": {
          "base_uri": "https://localhost:8080/"
        },
        "outputId": "5e7a294a-a739-45b8-c0ae-9471876d1573"
      },
      "source": [
        "def fit_lgbm(x_train, y_train, x_valid, y_valid, params: dict=None, verbose=100):\n",
        "    oof_pred = np.zeros(len(y_valid), dtype=np.float32)\n",
        "    #model = lgbm.LGBMRegressor(**params)\n",
        "    best_params, tuning_history = {}, []\n",
        "    \n",
        "    lgb_train = lgbm.Dataset(x_train, y_train)\n",
        "    lgb_eval = lgbm.Dataset(x_valid, y_valid, reference=lgb_train)\n",
        "    model = lgbm.train(params, \n",
        "        lgb_train, valid_sets=lgb_eval,  \n",
        "        early_stopping_rounds=100,\n",
        "        num_boost_round=500,\n",
        "        verbose_eval=100,\n",
        "        #verbose=verbose,               \n",
        "        )\n",
        "    oof_pred = model.predict(x_valid)\n",
        "    score = mean_absolute_error(oof_pred, y_valid)\n",
        "    print('mae:', score)\n",
        "    return oof_pred, model, score\n",
        "\n",
        "\n",
        "\n",
        "# training lightgbm\n",
        "params1 = {'objective':'mae','reg_alpha': 0.14947461820098767, 'reg_lambda': 0.10185644384043743, 'n_estimators': 3633, 'learning_rate': 0.08046301304430488, 'num_leaves': 674, 'feature_fraction': 0.9101240539122566, 'bagging_fraction': 0.9884451442950513, 'bagging_freq': 8, 'min_child_samples': 51}\n",
        "\n",
        "params2 = {\n",
        " 'objective':'mae',\n",
        " 'reg_alpha': 0.1,\n",
        " 'reg_lambda': 0.1, \n",
        " 'n_estimators': 5000,\n",
        " 'learning_rate': 0.1,\n",
        " 'random_state': 42,\n",
        " \"num_leaves\": 22\n",
        "}\n",
        "\n",
        "params4 = {'objective':'mae','reg_alpha': 0.016468100279441976, 'reg_lambda': 0.09128335764019105, 'n_estimators': 9868, 'learning_rate': 0.10528150510326864, 'num_leaves': 157, 'feature_fraction': 0.5419185713426886, 'bagging_fraction': 0.2637405128936662, 'bagging_freq': 19, 'min_child_samples': 71}\n",
        "\n",
        "params = {\n",
        " 'objective':'mae',\n",
        " 'metric': 'mae',\n",
        " 'reg_alpha': 0.1,\n",
        " 'reg_lambda': 0.1, \n",
        " 'n_estimators': 10000,\n",
        " 'learning_rate': 0.1,\n",
        " 'random_state': 42,\n",
        " \"num_leaves\": 100\n",
        "}\n",
        "\n",
        "\n",
        "oof1, model1, score1 = fit_lgbm(\n",
        "    x_train[feature_cols], y_train['target1'],\n",
        "    x_valid[feature_cols], y_valid['target1'],\n",
        "    params\n",
        ")\n",
        "\n",
        "file = '/content/drive/MyDrive/mlb/script/output/model1.pkl'\n",
        "pickle.dump(model1, open(file, 'wb'))\n",
        "\n",
        "oof2, model2, score2 = fit_lgbm(\n",
        "    x_train[feature_cols2], y_train['target2'],\n",
        "    x_valid[feature_cols2], y_valid['target2'],\n",
        "    params\n",
        ")\n",
        "\n",
        "file = '/content/drive/MyDrive/mlb/script/output/model2.pkl'\n",
        "pickle.dump(model2, open(file, 'wb'))\n",
        "\n",
        "oof3, model3, score3 = fit_lgbm(\n",
        "    x_train[feature_cols3], y_train['target3'],\n",
        "    x_valid[feature_cols3], y_valid['target3'],\n",
        "    params\n",
        ")\n",
        "\n",
        "file = '/content/drive/MyDrive/mlb/script/output/model3.pkl'\n",
        "pickle.dump(model3, open(file, 'wb'))\n",
        "\n",
        "\n",
        "oof4, model4, score4 = fit_lgbm(\n",
        "    x_train[feature_cols4], y_train['target4'],\n",
        "    x_valid[feature_cols4], y_valid['target4'],\n",
        "    params\n",
        ")\n",
        "\n",
        "\n",
        "file = '/content/drive/MyDrive/mlb/script/output/model4.pkl'\n",
        "pickle.dump(model4, open(file, 'wb'))\n",
        "score = (score1+score2+score3+score4) / 4\n",
        "print(f'score: {score}')\n"
      ],
      "id": "sticky-stand",
      "execution_count": null,
      "outputs": [
        {
          "output_type": "stream",
          "text": [
            "\u001b[32m[I 2021-07-08 08:11:00,160]\u001b[0m A new study created in memory with name: no-name-c2279d68-1073-4e43-8ea6-7ceec513980b\u001b[0m\n",
            "\n",
            "  0%|          | 0/7 [00:00<?, ?it/s]\u001b[A\n",
            "feature_fraction, val_score: inf:   0%|          | 0/7 [00:00<?, ?it/s]\u001b[A/usr/local/lib/python3.7/dist-packages/lightgbm/engine.py:118: UserWarning:\n",
            "\n",
            "Found `n_estimators` in params. Will use it instead of argument\n",
            "\n"
          ],
          "name": "stderr"
        },
        {
          "output_type": "stream",
          "text": [
            "Training until validation scores don't improve for 100 rounds.\n",
            "[100]\tvalid_0's l1: 1.2198\n",
            "[200]\tvalid_0's l1: 1.21861\n",
            "[300]\tvalid_0's l1: 1.21852\n"
          ],
          "name": "stdout"
        },
        {
          "output_type": "stream",
          "text": [
            "\n",
            "feature_fraction, val_score: 1.218513:   0%|          | 0/7 [00:23<?, ?it/s]\u001b[A\n",
            "feature_fraction, val_score: 1.218513:  14%|#4        | 1/7 [00:23<02:18, 23.03s/it]\u001b[A\u001b[32m[I 2021-07-08 08:11:23,219]\u001b[0m Trial 0 finished with value: 1.218513294084598 and parameters: {'feature_fraction': 0.8999999999999999}. Best is trial 0 with value: 1.218513294084598.\u001b[0m\n",
            "\n",
            "feature_fraction, val_score: 1.218513:  14%|#4        | 1/7 [00:23<02:18, 23.03s/it]\u001b[A"
          ],
          "name": "stderr"
        },
        {
          "output_type": "stream",
          "text": [
            "Early stopping, best iteration is:\n",
            "[244]\tvalid_0's l1: 1.21851\n",
            "Training until validation scores don't improve for 100 rounds.\n",
            "[100]\tvalid_0's l1: 1.22254\n",
            "[200]\tvalid_0's l1: 1.22164\n"
          ],
          "name": "stdout"
        },
        {
          "output_type": "stream",
          "text": [
            "\n",
            "feature_fraction, val_score: 1.218513:  14%|#4        | 1/7 [00:43<02:18, 23.03s/it]\u001b[A\n",
            "feature_fraction, val_score: 1.218513:  29%|##8       | 2/7 [00:43<01:51, 22.28s/it]\u001b[A\u001b[32m[I 2021-07-08 08:11:43,753]\u001b[0m Trial 1 finished with value: 1.221643439062955 and parameters: {'feature_fraction': 0.7}. Best is trial 0 with value: 1.218513294084598.\u001b[0m\n",
            "\n",
            "feature_fraction, val_score: 1.218513:  29%|##8       | 2/7 [00:43<01:51, 22.28s/it]\u001b[A"
          ],
          "name": "stderr"
        },
        {
          "output_type": "stream",
          "text": [
            "Early stopping, best iteration is:\n",
            "[198]\tvalid_0's l1: 1.22164\n",
            "Training until validation scores don't improve for 100 rounds.\n",
            "[100]\tvalid_0's l1: 1.21691\n",
            "[200]\tvalid_0's l1: 1.21672\n",
            "[300]\tvalid_0's l1: 1.21656\n",
            "[400]\tvalid_0's l1: 1.21635\n",
            "[500]\tvalid_0's l1: 1.21606\n",
            "[600]\tvalid_0's l1: 1.21608\n"
          ],
          "name": "stdout"
        },
        {
          "output_type": "stream",
          "text": [
            "\n",
            "feature_fraction, val_score: 1.216044:  29%|##8       | 2/7 [01:24<01:51, 22.28s/it]\u001b[A\n",
            "feature_fraction, val_score: 1.216044:  43%|####2     | 3/7 [01:24<01:51, 27.93s/it]\u001b[A\u001b[32m[I 2021-07-08 08:12:24,863]\u001b[0m Trial 2 finished with value: 1.2160435871054553 and parameters: {'feature_fraction': 0.6}. Best is trial 2 with value: 1.2160435871054553.\u001b[0m\n",
            "\n",
            "feature_fraction, val_score: 1.216044:  43%|####2     | 3/7 [01:24<01:51, 27.93s/it]\u001b[A"
          ],
          "name": "stderr"
        },
        {
          "output_type": "stream",
          "text": [
            "Early stopping, best iteration is:\n",
            "[511]\tvalid_0's l1: 1.21604\n",
            "Training until validation scores don't improve for 100 rounds.\n",
            "[100]\tvalid_0's l1: 1.22406\n"
          ],
          "name": "stdout"
        },
        {
          "output_type": "stream",
          "text": [
            "\n",
            "feature_fraction, val_score: 1.216044:  43%|####2     | 3/7 [01:36<01:51, 27.93s/it]\u001b[A\n",
            "feature_fraction, val_score: 1.216044:  57%|#####7    | 4/7 [01:36<01:09, 23.06s/it]\u001b[A\u001b[32m[I 2021-07-08 08:12:36,565]\u001b[0m Trial 3 finished with value: 1.224056997263815 and parameters: {'feature_fraction': 1.0}. Best is trial 2 with value: 1.2160435871054553.\u001b[0m\n",
            "\n",
            "feature_fraction, val_score: 1.216044:  57%|#####7    | 4/7 [01:36<01:09, 23.06s/it]\u001b[A"
          ],
          "name": "stderr"
        },
        {
          "output_type": "stream",
          "text": [
            "Early stopping, best iteration is:\n",
            "[37]\tvalid_0's l1: 1.22406\n",
            "Training until validation scores don't improve for 100 rounds.\n",
            "[100]\tvalid_0's l1: 1.22718\n",
            "[200]\tvalid_0's l1: 1.22301\n",
            "[300]\tvalid_0's l1: 1.21973\n",
            "[400]\tvalid_0's l1: 1.21953\n"
          ],
          "name": "stdout"
        },
        {
          "output_type": "stream",
          "text": [
            "\n",
            "feature_fraction, val_score: 1.216044:  57%|#####7    | 4/7 [02:06<01:09, 23.06s/it]\u001b[A\n",
            "feature_fraction, val_score: 1.216044:  71%|#######1  | 5/7 [02:06<00:50, 25.19s/it]\u001b[A\u001b[32m[I 2021-07-08 08:13:06,710]\u001b[0m Trial 4 finished with value: 1.2195152803327205 and parameters: {'feature_fraction': 0.4}. Best is trial 2 with value: 1.2160435871054553.\u001b[0m\n",
            "\n",
            "feature_fraction, val_score: 1.216044:  71%|#######1  | 5/7 [02:06<00:50, 25.19s/it]\u001b[A"
          ],
          "name": "stderr"
        },
        {
          "output_type": "stream",
          "text": [
            "Early stopping, best iteration is:\n",
            "[387]\tvalid_0's l1: 1.21952\n",
            "Training until validation scores don't improve for 100 rounds.\n",
            "[100]\tvalid_0's l1: 1.22049\n",
            "[200]\tvalid_0's l1: 1.22014\n",
            "[300]\tvalid_0's l1: 1.22\n",
            "[400]\tvalid_0's l1: 1.21648\n",
            "[500]\tvalid_0's l1: 1.21487\n",
            "[600]\tvalid_0's l1: 1.21459\n",
            "[700]\tvalid_0's l1: 1.21325\n"
          ],
          "name": "stdout"
        },
        {
          "output_type": "stream",
          "text": [
            "\n",
            "feature_fraction, val_score: 1.213246:  71%|#######1  | 5/7 [02:56<00:50, 25.19s/it]\u001b[A\n",
            "feature_fraction, val_score: 1.213246:  86%|########5 | 6/7 [02:56<00:32, 32.48s/it]\u001b[A\u001b[32m[I 2021-07-08 08:13:56,187]\u001b[0m Trial 5 finished with value: 1.2132462797027497 and parameters: {'feature_fraction': 0.5}. Best is trial 5 with value: 1.2132462797027497.\u001b[0m\n",
            "\n",
            "feature_fraction, val_score: 1.213246:  86%|########5 | 6/7 [02:56<00:32, 32.48s/it]\u001b[A"
          ],
          "name": "stderr"
        },
        {
          "output_type": "stream",
          "text": [
            "Early stopping, best iteration is:\n",
            "[662]\tvalid_0's l1: 1.21325\n",
            "Training until validation scores don't improve for 100 rounds.\n",
            "[100]\tvalid_0's l1: 1.22015\n",
            "[200]\tvalid_0's l1: 1.21859\n"
          ],
          "name": "stdout"
        },
        {
          "output_type": "stream",
          "text": [
            "\n",
            "feature_fraction, val_score: 1.213246:  86%|########5 | 6/7 [03:13<00:32, 32.48s/it]\u001b[A\n",
            "feature_fraction, val_score: 1.213246: 100%|##########| 7/7 [03:13<00:00, 28.12s/it]\u001b[A\u001b[32m[I 2021-07-08 08:14:14,133]\u001b[0m Trial 6 finished with value: 1.218542144558406 and parameters: {'feature_fraction': 0.8}. Best is trial 5 with value: 1.2132462797027497.\u001b[0m\n",
            "feature_fraction, val_score: 1.213246: 100%|##########| 7/7 [03:13<00:00, 27.71s/it]\n",
            "\n",
            "  0%|          | 0/20 [00:00<?, ?it/s]\u001b[A\n",
            "num_leaves, val_score: 1.213246:   0%|          | 0/20 [00:00<?, ?it/s]\u001b[A"
          ],
          "name": "stderr"
        },
        {
          "output_type": "stream",
          "text": [
            "Early stopping, best iteration is:\n",
            "[158]\tvalid_0's l1: 1.21854\n",
            "Training until validation scores don't improve for 100 rounds.\n",
            "[100]\tvalid_0's l1: 1.2054\n",
            "[200]\tvalid_0's l1: 1.20363\n",
            "[300]\tvalid_0's l1: 1.20207\n",
            "[400]\tvalid_0's l1: 1.20085\n",
            "[500]\tvalid_0's l1: 1.20082\n",
            "[600]\tvalid_0's l1: 1.20076\n",
            "[700]\tvalid_0's l1: 1.2003\n",
            "[800]\tvalid_0's l1: 1.20022\n",
            "[900]\tvalid_0's l1: 1.20017\n"
          ],
          "name": "stdout"
        },
        {
          "output_type": "stream",
          "text": [
            "\n",
            "num_leaves, val_score: 1.200160:   0%|          | 0/20 [01:08<?, ?it/s]\u001b[A\n",
            "num_leaves, val_score: 1.200160:   5%|5         | 1/20 [01:08<21:35, 68.20s/it]\u001b[A\u001b[32m[I 2021-07-08 08:15:22,347]\u001b[0m Trial 7 finished with value: 1.2001596701982578 and parameters: {'num_leaves': 152}. Best is trial 7 with value: 1.2001596701982578.\u001b[0m\n",
            "\n",
            "num_leaves, val_score: 1.200160:   5%|5         | 1/20 [01:08<21:35, 68.20s/it]\u001b[A"
          ],
          "name": "stderr"
        },
        {
          "output_type": "stream",
          "text": [
            "Early stopping, best iteration is:\n",
            "[851]\tvalid_0's l1: 1.20016\n",
            "Training until validation scores don't improve for 100 rounds.\n",
            "[100]\tvalid_0's l1: 1.21594\n",
            "[200]\tvalid_0's l1: 1.21589\n",
            "[300]\tvalid_0's l1: 1.21591\n"
          ],
          "name": "stdout"
        },
        {
          "output_type": "stream",
          "text": [
            "\n",
            "num_leaves, val_score: 1.200160:   5%|5         | 1/20 [01:30<21:35, 68.20s/it]\u001b[A\n",
            "num_leaves, val_score: 1.200160:  10%|#         | 2/20 [01:30<16:18, 54.38s/it]\u001b[A\u001b[32m[I 2021-07-08 08:15:44,502]\u001b[0m Trial 8 finished with value: 1.215884444680504 and parameters: {'num_leaves': 106}. Best is trial 7 with value: 1.2001596701982578.\u001b[0m\n",
            "\n",
            "num_leaves, val_score: 1.200160:  10%|#         | 2/20 [01:30<16:18, 54.38s/it]\u001b[A"
          ],
          "name": "stderr"
        },
        {
          "output_type": "stream",
          "text": [
            "Early stopping, best iteration is:\n",
            "[212]\tvalid_0's l1: 1.21588\n",
            "Training until validation scores don't improve for 100 rounds.\n",
            "[100]\tvalid_0's l1: 1.21778\n",
            "[200]\tvalid_0's l1: 1.21484\n",
            "[300]\tvalid_0's l1: 1.2135\n",
            "[400]\tvalid_0's l1: 1.21149\n",
            "[500]\tvalid_0's l1: 1.21142\n",
            "[600]\tvalid_0's l1: 1.20957\n",
            "[700]\tvalid_0's l1: 1.20918\n",
            "[800]\tvalid_0's l1: 1.20917\n",
            "[900]\tvalid_0's l1: 1.20881\n"
          ],
          "name": "stdout"
        },
        {
          "output_type": "stream",
          "text": [
            "\n",
            "num_leaves, val_score: 1.200160:  10%|#         | 2/20 [02:35<16:18, 54.38s/it]\u001b[A\n",
            "num_leaves, val_score: 1.200160:  15%|#5        | 3/20 [02:35<16:18, 57.56s/it]\u001b[A\u001b[32m[I 2021-07-08 08:16:49,484]\u001b[0m Trial 9 finished with value: 1.2088078215291485 and parameters: {'num_leaves': 113}. Best is trial 7 with value: 1.2001596701982578.\u001b[0m\n",
            "\n",
            "num_leaves, val_score: 1.200160:  15%|#5        | 3/20 [02:35<16:18, 57.56s/it]\u001b[A"
          ],
          "name": "stderr"
        },
        {
          "output_type": "stream",
          "text": [
            "Early stopping, best iteration is:\n",
            "[891]\tvalid_0's l1: 1.20881\n",
            "Training until validation scores don't improve for 100 rounds.\n",
            "[100]\tvalid_0's l1: 1.27331\n",
            "[200]\tvalid_0's l1: 1.26869\n",
            "[300]\tvalid_0's l1: 1.26609\n"
          ],
          "name": "stdout"
        },
        {
          "output_type": "stream",
          "text": [
            "\n",
            "num_leaves, val_score: 1.200160:  15%|#5        | 3/20 [02:55<16:18, 57.56s/it]\u001b[A\n",
            "num_leaves, val_score: 1.200160:  20%|##        | 4/20 [02:55<12:21, 46.34s/it]\u001b[A\u001b[32m[I 2021-07-08 08:17:09,644]\u001b[0m Trial 10 finished with value: 1.2660597101670583 and parameters: {'num_leaves': 13}. Best is trial 7 with value: 1.2001596701982578.\u001b[0m\n",
            "\n",
            "num_leaves, val_score: 1.200160:  20%|##        | 4/20 [02:55<12:21, 46.34s/it]\u001b[A"
          ],
          "name": "stderr"
        },
        {
          "output_type": "stream",
          "text": [
            "Early stopping, best iteration is:\n",
            "[276]\tvalid_0's l1: 1.26606\n",
            "Training until validation scores don't improve for 100 rounds.\n",
            "[100]\tvalid_0's l1: 1.28453\n",
            "[200]\tvalid_0's l1: 1.27685\n",
            "[300]\tvalid_0's l1: 1.27533\n",
            "[400]\tvalid_0's l1: 1.27221\n",
            "[500]\tvalid_0's l1: 1.26686\n",
            "[600]\tvalid_0's l1: 1.26636\n",
            "[700]\tvalid_0's l1: 1.26636\n"
          ],
          "name": "stdout"
        },
        {
          "output_type": "stream",
          "text": [
            "\n",
            "num_leaves, val_score: 1.200160:  20%|##        | 4/20 [03:32<12:21, 46.34s/it]\u001b[A\n",
            "num_leaves, val_score: 1.200160:  25%|##5       | 5/20 [03:32<10:52, 43.50s/it]\u001b[A\u001b[32m[I 2021-07-08 08:17:46,530]\u001b[0m Trial 11 finished with value: 1.2663565935312096 and parameters: {'num_leaves': 8}. Best is trial 7 with value: 1.2001596701982578.\u001b[0m\n",
            "\n",
            "num_leaves, val_score: 1.200160:  25%|##5       | 5/20 [03:32<10:52, 43.50s/it]\u001b[A"
          ],
          "name": "stderr"
        },
        {
          "output_type": "stream",
          "text": [
            "Early stopping, best iteration is:\n",
            "[644]\tvalid_0's l1: 1.26636\n",
            "Training until validation scores don't improve for 100 rounds.\n",
            "[100]\tvalid_0's l1: 1.24314\n",
            "[200]\tvalid_0's l1: 1.24076\n"
          ],
          "name": "stdout"
        },
        {
          "output_type": "stream",
          "text": [
            "\n",
            "num_leaves, val_score: 1.200160:  25%|##5       | 5/20 [03:46<10:52, 43.50s/it]\u001b[A\n",
            "num_leaves, val_score: 1.200160:  30%|###       | 6/20 [03:46<08:06, 34.76s/it]\u001b[A\u001b[32m[I 2021-07-08 08:18:00,898]\u001b[0m Trial 12 finished with value: 1.2407539286166365 and parameters: {'num_leaves': 43}. Best is trial 7 with value: 1.2001596701982578.\u001b[0m\n",
            "\n",
            "num_leaves, val_score: 1.200160:  30%|###       | 6/20 [03:46<08:06, 34.76s/it]\u001b[A"
          ],
          "name": "stderr"
        },
        {
          "output_type": "stream",
          "text": [
            "Early stopping, best iteration is:\n",
            "[133]\tvalid_0's l1: 1.24075\n",
            "Training until validation scores don't improve for 100 rounds.\n",
            "[100]\tvalid_0's l1: 1.1943\n",
            "[200]\tvalid_0's l1: 1.19302\n",
            "[300]\tvalid_0's l1: 1.19292\n"
          ],
          "name": "stdout"
        },
        {
          "output_type": "stream",
          "text": [
            "\n",
            "num_leaves, val_score: 1.192892:  30%|###       | 6/20 [04:12<08:06, 34.76s/it]\u001b[A\n",
            "num_leaves, val_score: 1.192892:  35%|###5      | 7/20 [04:12<06:58, 32.17s/it]\u001b[A\u001b[32m[I 2021-07-08 08:18:27,013]\u001b[0m Trial 13 finished with value: 1.1928919412343897 and parameters: {'num_leaves': 226}. Best is trial 13 with value: 1.1928919412343897.\u001b[0m\n",
            "\n",
            "num_leaves, val_score: 1.192892:  35%|###5      | 7/20 [04:12<06:58, 32.17s/it]\u001b[A"
          ],
          "name": "stderr"
        },
        {
          "output_type": "stream",
          "text": [
            "Early stopping, best iteration is:\n",
            "[203]\tvalid_0's l1: 1.19289\n",
            "Training until validation scores don't improve for 100 rounds.\n",
            "[100]\tvalid_0's l1: 1.27811\n",
            "[200]\tvalid_0's l1: 1.27374\n",
            "[300]\tvalid_0's l1: 1.2695\n",
            "[400]\tvalid_0's l1: 1.26826\n",
            "[500]\tvalid_0's l1: 1.26625\n",
            "[600]\tvalid_0's l1: 1.26614\n"
          ],
          "name": "stdout"
        },
        {
          "output_type": "stream",
          "text": [
            "\n",
            "num_leaves, val_score: 1.192892:  35%|###5      | 7/20 [04:44<06:58, 32.17s/it]\u001b[A\n",
            "num_leaves, val_score: 1.192892:  40%|####      | 8/20 [04:44<06:24, 32.02s/it]\u001b[A\u001b[32m[I 2021-07-08 08:18:58,678]\u001b[0m Trial 14 finished with value: 1.2661172767289954 and parameters: {'num_leaves': 10}. Best is trial 13 with value: 1.1928919412343897.\u001b[0m\n",
            "\n",
            "num_leaves, val_score: 1.192892:  40%|####      | 8/20 [04:44<06:24, 32.02s/it]\u001b[A"
          ],
          "name": "stderr"
        },
        {
          "output_type": "stream",
          "text": [
            "Early stopping, best iteration is:\n",
            "[540]\tvalid_0's l1: 1.26612\n",
            "Training until validation scores don't improve for 100 rounds.\n",
            "[100]\tvalid_0's l1: 1.23189\n",
            "[200]\tvalid_0's l1: 1.2318\n",
            "[300]\tvalid_0's l1: 1.2307\n"
          ],
          "name": "stdout"
        },
        {
          "output_type": "stream",
          "text": [
            "\n",
            "num_leaves, val_score: 1.192892:  40%|####      | 8/20 [05:06<06:24, 32.02s/it]\u001b[A\n",
            "num_leaves, val_score: 1.192892:  45%|####5     | 9/20 [05:06<05:20, 29.10s/it]\u001b[A\u001b[32m[I 2021-07-08 08:19:20,967]\u001b[0m Trial 15 finished with value: 1.2306676753872814 and parameters: {'num_leaves': 74}. Best is trial 13 with value: 1.1928919412343897.\u001b[0m\n",
            "\n",
            "num_leaves, val_score: 1.192892:  45%|####5     | 9/20 [05:06<05:20, 29.10s/it]\u001b[A"
          ],
          "name": "stderr"
        },
        {
          "output_type": "stream",
          "text": [
            "Early stopping, best iteration is:\n",
            "[247]\tvalid_0's l1: 1.23067\n",
            "Training until validation scores don't improve for 100 rounds.\n",
            "[100]\tvalid_0's l1: 1.24895\n",
            "[200]\tvalid_0's l1: 1.24567\n",
            "[300]\tvalid_0's l1: 1.24561\n"
          ],
          "name": "stdout"
        },
        {
          "output_type": "stream",
          "text": [
            "\n",
            "num_leaves, val_score: 1.192892:  45%|####5     | 9/20 [05:26<05:20, 29.10s/it]\u001b[A\n",
            "num_leaves, val_score: 1.192892:  50%|#####     | 10/20 [05:26<04:21, 26.18s/it]\u001b[A\u001b[32m[I 2021-07-08 08:19:40,349]\u001b[0m Trial 16 finished with value: 1.2456077168563946 and parameters: {'num_leaves': 35}. Best is trial 13 with value: 1.1928919412343897.\u001b[0m\n",
            "\n",
            "num_leaves, val_score: 1.192892:  50%|#####     | 10/20 [05:26<04:21, 26.18s/it]\u001b[A"
          ],
          "name": "stderr"
        },
        {
          "output_type": "stream",
          "text": [
            "Early stopping, best iteration is:\n",
            "[234]\tvalid_0's l1: 1.24561\n",
            "Training until validation scores don't improve for 100 rounds.\n",
            "[100]\tvalid_0's l1: 1.19544\n",
            "[200]\tvalid_0's l1: 1.19436\n",
            "[300]\tvalid_0's l1: 1.19421\n",
            "[400]\tvalid_0's l1: 1.19271\n",
            "[500]\tvalid_0's l1: 1.19217\n",
            "[600]\tvalid_0's l1: 1.18987\n"
          ],
          "name": "stdout"
        },
        {
          "output_type": "stream",
          "text": [
            "\n",
            "num_leaves, val_score: 1.189854:  50%|#####     | 10/20 [06:23<04:21, 26.18s/it]\u001b[A\n",
            "num_leaves, val_score: 1.189854:  55%|#####5    | 11/20 [06:23<05:19, 35.45s/it]\u001b[A\u001b[32m[I 2021-07-08 08:20:37,403]\u001b[0m Trial 17 finished with value: 1.1898543139062736 and parameters: {'num_leaves': 236}. Best is trial 17 with value: 1.1898543139062736.\u001b[0m\n",
            "\n",
            "num_leaves, val_score: 1.189854:  55%|#####5    | 11/20 [06:23<05:19, 35.45s/it]\u001b[A"
          ],
          "name": "stderr"
        },
        {
          "output_type": "stream",
          "text": [
            "Early stopping, best iteration is:\n",
            "[581]\tvalid_0's l1: 1.18985\n",
            "Training until validation scores don't improve for 100 rounds.\n",
            "[100]\tvalid_0's l1: 1.19323\n",
            "[200]\tvalid_0's l1: 1.19264\n",
            "[300]\tvalid_0's l1: 1.19265\n",
            "[400]\tvalid_0's l1: 1.19075\n",
            "[500]\tvalid_0's l1: 1.19011\n",
            "[600]\tvalid_0's l1: 1.18912\n",
            "[700]\tvalid_0's l1: 1.18908\n"
          ],
          "name": "stdout"
        },
        {
          "output_type": "stream",
          "text": [
            "\n",
            "num_leaves, val_score: 1.189054:  55%|#####5    | 11/20 [07:24<05:19, 35.45s/it]\u001b[A\n",
            "num_leaves, val_score: 1.189054:  60%|######    | 12/20 [07:24<05:46, 43.32s/it]\u001b[A\u001b[32m[I 2021-07-08 08:21:39,090]\u001b[0m Trial 18 finished with value: 1.1890537866991857 and parameters: {'num_leaves': 251}. Best is trial 18 with value: 1.1890537866991857.\u001b[0m\n",
            "\n",
            "num_leaves, val_score: 1.189054:  60%|######    | 12/20 [07:24<05:46, 43.32s/it]\u001b[A"
          ],
          "name": "stderr"
        },
        {
          "output_type": "stream",
          "text": [
            "Early stopping, best iteration is:\n",
            "[614]\tvalid_0's l1: 1.18905\n",
            "Training until validation scores don't improve for 100 rounds.\n",
            "[100]\tvalid_0's l1: 1.19089\n",
            "[200]\tvalid_0's l1: 1.19012\n",
            "[300]\tvalid_0's l1: 1.18923\n",
            "[400]\tvalid_0's l1: 1.18924\n",
            "[500]\tvalid_0's l1: 1.18818\n",
            "[600]\tvalid_0's l1: 1.18711\n",
            "[700]\tvalid_0's l1: 1.18671\n"
          ],
          "name": "stdout"
        },
        {
          "output_type": "stream",
          "text": [
            "\n",
            "num_leaves, val_score: 1.186673:  60%|######    | 12/20 [08:27<05:46, 43.32s/it]\u001b[A\n",
            "num_leaves, val_score: 1.186673:  65%|######5   | 13/20 [08:27<05:42, 48.95s/it]\u001b[A\u001b[32m[I 2021-07-08 08:22:41,189]\u001b[0m Trial 19 finished with value: 1.1866725938485738 and parameters: {'num_leaves': 254}. Best is trial 19 with value: 1.1866725938485738.\u001b[0m\n",
            "\n",
            "num_leaves, val_score: 1.186673:  65%|######5   | 13/20 [08:27<05:42, 48.95s/it]\u001b[A"
          ],
          "name": "stderr"
        },
        {
          "output_type": "stream",
          "text": [
            "Early stopping, best iteration is:\n",
            "[618]\tvalid_0's l1: 1.18667\n",
            "Training until validation scores don't improve for 100 rounds.\n",
            "[100]\tvalid_0's l1: 1.19711\n",
            "[200]\tvalid_0's l1: 1.19563\n",
            "[300]\tvalid_0's l1: 1.19442\n",
            "[400]\tvalid_0's l1: 1.19269\n",
            "[500]\tvalid_0's l1: 1.19199\n"
          ],
          "name": "stdout"
        },
        {
          "output_type": "stream",
          "text": [
            "\n",
            "num_leaves, val_score: 1.186673:  65%|######5   | 13/20 [09:08<05:42, 48.95s/it]\u001b[A\n",
            "num_leaves, val_score: 1.186673:  70%|#######   | 14/20 [09:08<04:40, 46.74s/it]\u001b[A\u001b[32m[I 2021-07-08 08:23:22,764]\u001b[0m Trial 20 finished with value: 1.1919487753971085 and parameters: {'num_leaves': 193}. Best is trial 19 with value: 1.1866725938485738.\u001b[0m\n",
            "\n",
            "num_leaves, val_score: 1.186673:  70%|#######   | 14/20 [09:08<04:40, 46.74s/it]\u001b[A"
          ],
          "name": "stderr"
        },
        {
          "output_type": "stream",
          "text": [
            "Early stopping, best iteration is:\n",
            "[427]\tvalid_0's l1: 1.19195\n",
            "Training until validation scores don't improve for 100 rounds.\n",
            "[100]\tvalid_0's l1: 1.19156\n",
            "[200]\tvalid_0's l1: 1.19005\n",
            "[300]\tvalid_0's l1: 1.18946\n",
            "[400]\tvalid_0's l1: 1.18726\n",
            "[500]\tvalid_0's l1: 1.18704\n",
            "[600]\tvalid_0's l1: 1.18604\n",
            "[700]\tvalid_0's l1: 1.18603\n"
          ],
          "name": "stdout"
        },
        {
          "output_type": "stream",
          "text": [
            "\n",
            "num_leaves, val_score: 1.186016:  70%|#######   | 14/20 [10:13<04:40, 46.74s/it]\u001b[A\n",
            "num_leaves, val_score: 1.186016:  75%|#######5  | 15/20 [10:13<04:21, 52.24s/it]\u001b[A\u001b[32m[I 2021-07-08 08:24:27,842]\u001b[0m Trial 21 finished with value: 1.1860164332070473 and parameters: {'num_leaves': 253}. Best is trial 21 with value: 1.1860164332070473.\u001b[0m\n",
            "\n",
            "num_leaves, val_score: 1.186016:  75%|#######5  | 15/20 [10:13<04:21, 52.24s/it]\u001b[A"
          ],
          "name": "stderr"
        },
        {
          "output_type": "stream",
          "text": [
            "Early stopping, best iteration is:\n",
            "[656]\tvalid_0's l1: 1.18602\n",
            "Training until validation scores don't improve for 100 rounds.\n",
            "[100]\tvalid_0's l1: 1.2006\n",
            "[200]\tvalid_0's l1: 1.19945\n",
            "[300]\tvalid_0's l1: 1.19849\n",
            "[400]\tvalid_0's l1: 1.19847\n",
            "[500]\tvalid_0's l1: 1.19843\n",
            "[600]\tvalid_0's l1: 1.19826\n"
          ],
          "name": "stdout"
        },
        {
          "output_type": "stream",
          "text": [
            "\n",
            "num_leaves, val_score: 1.186016:  75%|#######5  | 15/20 [11:05<04:21, 52.24s/it]\u001b[A\n",
            "num_leaves, val_score: 1.186016:  80%|########  | 16/20 [11:05<03:28, 52.23s/it]\u001b[A\u001b[32m[I 2021-07-08 08:25:20,057]\u001b[0m Trial 22 finished with value: 1.1982409638995206 and parameters: {'num_leaves': 189}. Best is trial 21 with value: 1.1860164332070473.\u001b[0m\n",
            "\n",
            "num_leaves, val_score: 1.186016:  80%|########  | 16/20 [11:05<03:28, 52.23s/it]\u001b[A"
          ],
          "name": "stderr"
        },
        {
          "output_type": "stream",
          "text": [
            "Early stopping, best iteration is:\n",
            "[574]\tvalid_0's l1: 1.19824\n",
            "Training until validation scores don't improve for 100 rounds.\n",
            "[100]\tvalid_0's l1: 1.20018\n",
            "[200]\tvalid_0's l1: 1.20005\n",
            "[300]\tvalid_0's l1: 1.19988\n",
            "[400]\tvalid_0's l1: 1.19777\n",
            "[500]\tvalid_0's l1: 1.19693\n",
            "[600]\tvalid_0's l1: 1.19527\n",
            "[700]\tvalid_0's l1: 1.19432\n",
            "[800]\tvalid_0's l1: 1.19364\n",
            "[900]\tvalid_0's l1: 1.19353\n",
            "[1000]\tvalid_0's l1: 1.19356\n"
          ],
          "name": "stdout"
        },
        {
          "output_type": "stream",
          "text": [
            "\n"
          ],
          "name": "stderr"
        },
        {
          "output_type": "stream",
          "text": [
            "Early stopping, best iteration is:\n",
            "[955]\tvalid_0's l1: 1.19351\n"
          ],
          "name": "stdout"
        },
        {
          "output_type": "stream",
          "text": [
            "num_leaves, val_score: 1.186016:  80%|########  | 16/20 [12:28<03:28, 52.23s/it]\u001b[A\n",
            "num_leaves, val_score: 1.186016:  85%|########5 | 17/20 [12:28<03:03, 61.29s/it]\u001b[A\u001b[32m[I 2021-07-08 08:26:42,477]\u001b[0m Trial 23 finished with value: 1.193514028963153 and parameters: {'num_leaves': 202}. Best is trial 21 with value: 1.1860164332070473.\u001b[0m\n",
            "\n",
            "num_leaves, val_score: 1.186016:  85%|########5 | 17/20 [12:28<03:03, 61.29s/it]\u001b[A"
          ],
          "name": "stderr"
        },
        {
          "output_type": "stream",
          "text": [
            "Training until validation scores don't improve for 100 rounds.\n",
            "[100]\tvalid_0's l1: 1.19089\n",
            "[200]\tvalid_0's l1: 1.19012\n",
            "[300]\tvalid_0's l1: 1.18923\n",
            "[400]\tvalid_0's l1: 1.18924\n",
            "[500]\tvalid_0's l1: 1.18818\n",
            "[600]\tvalid_0's l1: 1.18711\n",
            "[700]\tvalid_0's l1: 1.18671\n"
          ],
          "name": "stdout"
        },
        {
          "output_type": "stream",
          "text": [
            "\n",
            "num_leaves, val_score: 1.186016:  85%|########5 | 17/20 [13:30<03:03, 61.29s/it]\u001b[A\n",
            "num_leaves, val_score: 1.186016:  90%|######### | 18/20 [13:30<02:02, 61.44s/it]\u001b[A"
          ],
          "name": "stderr"
        },
        {
          "output_type": "stream",
          "text": [
            "Early stopping, best iteration is:\n",
            "[618]\tvalid_0's l1: 1.18667\n"
          ],
          "name": "stdout"
        },
        {
          "output_type": "stream",
          "text": [
            "\u001b[32m[I 2021-07-08 08:27:44,282]\u001b[0m Trial 24 finished with value: 1.1866725938485738 and parameters: {'num_leaves': 254}. Best is trial 21 with value: 1.1860164332070473.\u001b[0m\n",
            "\n",
            "num_leaves, val_score: 1.186016:  90%|######### | 18/20 [13:30<02:02, 61.44s/it]\u001b[A"
          ],
          "name": "stderr"
        },
        {
          "output_type": "stream",
          "text": [
            "Training until validation scores don't improve for 100 rounds.\n",
            "[100]\tvalid_0's l1: 1.20158\n",
            "[200]\tvalid_0's l1: 1.2014\n",
            "[300]\tvalid_0's l1: 1.19964\n",
            "[400]\tvalid_0's l1: 1.19832\n",
            "[500]\tvalid_0's l1: 1.19817\n"
          ],
          "name": "stdout"
        },
        {
          "output_type": "stream",
          "text": [
            "\n",
            "num_leaves, val_score: 1.186016:  90%|######### | 18/20 [14:13<02:02, 61.44s/it]\u001b[A\n",
            "num_leaves, val_score: 1.186016:  95%|#########5| 19/20 [14:13<00:56, 56.09s/it]\u001b[A\u001b[32m[I 2021-07-08 08:28:27,878]\u001b[0m Trial 25 finished with value: 1.1981499219477754 and parameters: {'num_leaves': 162}. Best is trial 21 with value: 1.1860164332070473.\u001b[0m\n",
            "\n",
            "num_leaves, val_score: 1.186016:  95%|#########5| 19/20 [14:13<00:56, 56.09s/it]\u001b[A"
          ],
          "name": "stderr"
        },
        {
          "output_type": "stream",
          "text": [
            "Early stopping, best iteration is:\n",
            "[482]\tvalid_0's l1: 1.19815\n",
            "Training until validation scores don't improve for 100 rounds.\n",
            "[100]\tvalid_0's l1: 1.19417\n",
            "[200]\tvalid_0's l1: 1.19371\n",
            "[300]\tvalid_0's l1: 1.19344\n",
            "[400]\tvalid_0's l1: 1.19257\n",
            "[500]\tvalid_0's l1: 1.19257\n"
          ],
          "name": "stdout"
        },
        {
          "output_type": "stream",
          "text": [
            "\n",
            "num_leaves, val_score: 1.186016:  95%|#########5| 19/20 [14:58<00:56, 56.09s/it]\u001b[A\n",
            "num_leaves, val_score: 1.186016: 100%|##########| 20/20 [14:58<00:00, 52.82s/it]\u001b[A\u001b[32m[I 2021-07-08 08:29:13,076]\u001b[0m Trial 26 finished with value: 1.1925530399290638 and parameters: {'num_leaves': 220}. Best is trial 21 with value: 1.1860164332070473.\u001b[0m\n",
            "num_leaves, val_score: 1.186016: 100%|##########| 20/20 [14:58<00:00, 44.95s/it]\n",
            "\n",
            "  0%|          | 0/10 [00:00<?, ?it/s]\u001b[A\n",
            "bagging, val_score: 1.186016:   0%|          | 0/10 [00:00<?, ?it/s]\u001b[A"
          ],
          "name": "stderr"
        },
        {
          "output_type": "stream",
          "text": [
            "Early stopping, best iteration is:\n",
            "[444]\tvalid_0's l1: 1.19255\n",
            "Training until validation scores don't improve for 100 rounds.\n",
            "[100]\tvalid_0's l1: 1.19275\n",
            "[200]\tvalid_0's l1: 1.19106\n",
            "[300]\tvalid_0's l1: 1.18998\n",
            "[400]\tvalid_0's l1: 1.18896\n"
          ],
          "name": "stdout"
        },
        {
          "output_type": "stream",
          "text": [
            "\n",
            "bagging, val_score: 1.186016:   0%|          | 0/10 [00:29<?, ?it/s]\u001b[A\n",
            "bagging, val_score: 1.186016:  10%|#         | 1/10 [00:29<04:27, 29.72s/it]\u001b[A\u001b[32m[I 2021-07-08 08:29:42,817]\u001b[0m Trial 27 finished with value: 1.1889147915703735 and parameters: {'bagging_fraction': 0.4600200434653137, 'bagging_freq': 6}. Best is trial 27 with value: 1.1889147915703735.\u001b[0m\n",
            "\n",
            "bagging, val_score: 1.186016:  10%|#         | 1/10 [00:29<04:27, 29.72s/it]\u001b[A"
          ],
          "name": "stderr"
        },
        {
          "output_type": "stream",
          "text": [
            "Early stopping, best iteration is:\n",
            "[317]\tvalid_0's l1: 1.18891\n",
            "Training until validation scores don't improve for 100 rounds.\n",
            "[100]\tvalid_0's l1: 1.19055\n",
            "[200]\tvalid_0's l1: 1.18913\n",
            "[300]\tvalid_0's l1: 1.1886\n",
            "[400]\tvalid_0's l1: 1.18555\n",
            "[500]\tvalid_0's l1: 1.18528\n",
            "[600]\tvalid_0's l1: 1.18414\n",
            "[700]\tvalid_0's l1: 1.18369\n",
            "[800]\tvalid_0's l1: 1.18336\n",
            "[900]\tvalid_0's l1: 1.1833\n",
            "[1000]\tvalid_0's l1: 1.18332\n",
            "Early stopping, best iteration is:\n",
            "[904]\tvalid_0's l1: 1.18329\n"
          ],
          "name": "stdout"
        },
        {
          "output_type": "stream",
          "text": [
            "\n",
            "bagging, val_score: 1.183295:  10%|#         | 1/10 [01:50<04:27, 29.72s/it]\u001b[A\n",
            "bagging, val_score: 1.183295:  20%|##        | 2/10 [01:50<06:01, 45.16s/it]\u001b[A\u001b[32m[I 2021-07-08 08:31:03,998]\u001b[0m Trial 28 finished with value: 1.1832949834287116 and parameters: {'bagging_fraction': 0.6818301319601074, 'bagging_freq': 4}. Best is trial 28 with value: 1.1832949834287116.\u001b[0m\n",
            "\n",
            "bagging, val_score: 1.183295:  20%|##        | 2/10 [01:50<06:01, 45.16s/it]\u001b[A"
          ],
          "name": "stderr"
        },
        {
          "output_type": "stream",
          "text": [
            "Training until validation scores don't improve for 100 rounds.\n",
            "[100]\tvalid_0's l1: 1.19175\n",
            "[200]\tvalid_0's l1: 1.19044\n",
            "[300]\tvalid_0's l1: 1.18929\n",
            "[400]\tvalid_0's l1: 1.1885\n",
            "[500]\tvalid_0's l1: 1.18768\n",
            "[600]\tvalid_0's l1: 1.18649\n"
          ],
          "name": "stdout"
        },
        {
          "output_type": "stream",
          "text": [
            "\n",
            "bagging, val_score: 1.183295:  20%|##        | 2/10 [02:53<06:01, 45.16s/it]\u001b[A\n",
            "bagging, val_score: 1.183295:  30%|###       | 3/10 [02:53<05:53, 50.47s/it]\u001b[A\u001b[32m[I 2021-07-08 08:32:06,872]\u001b[0m Trial 29 finished with value: 1.1864760783784645 and parameters: {'bagging_fraction': 0.86542165504909, 'bagging_freq': 3}. Best is trial 28 with value: 1.1832949834287116.\u001b[0m\n",
            "\n",
            "bagging, val_score: 1.183295:  30%|###       | 3/10 [02:53<05:53, 50.47s/it]\u001b[A"
          ],
          "name": "stderr"
        },
        {
          "output_type": "stream",
          "text": [
            "Early stopping, best iteration is:\n",
            "[578]\tvalid_0's l1: 1.18648\n",
            "Training until validation scores don't improve for 100 rounds.\n",
            "[100]\tvalid_0's l1: 1.18976\n",
            "[200]\tvalid_0's l1: 1.18941\n",
            "[300]\tvalid_0's l1: 1.18929\n",
            "[400]\tvalid_0's l1: 1.18881\n",
            "[500]\tvalid_0's l1: 1.18688\n",
            "[600]\tvalid_0's l1: 1.18657\n",
            "[700]\tvalid_0's l1: 1.18572\n",
            "[800]\tvalid_0's l1: 1.18536\n"
          ],
          "name": "stdout"
        },
        {
          "output_type": "stream",
          "text": [
            "\n",
            "bagging, val_score: 1.183295:  30%|###       | 3/10 [04:09<05:53, 50.47s/it]"
          ],
          "name": "stderr"
        },
        {
          "output_type": "stream",
          "text": [
            "Early stopping, best iteration is:\n",
            "[733]\tvalid_0's l1: 1.18533\n"
          ],
          "name": "stdout"
        },
        {
          "output_type": "stream",
          "text": [
            "\u001b[A\n",
            "bagging, val_score: 1.183295:  40%|####      | 4/10 [04:09<05:48, 58.13s/it]\u001b[A\u001b[32m[I 2021-07-08 08:33:22,857]\u001b[0m Trial 30 finished with value: 1.185327099818781 and parameters: {'bagging_fraction': 0.8720166055246017, 'bagging_freq': 7}. Best is trial 28 with value: 1.1832949834287116.\u001b[0m\n",
            "\n",
            "bagging, val_score: 1.183295:  40%|####      | 4/10 [04:09<05:48, 58.13s/it]\u001b[A"
          ],
          "name": "stderr"
        },
        {
          "output_type": "stream",
          "text": [
            "Training until validation scores don't improve for 100 rounds.\n",
            "[100]\tvalid_0's l1: 1.18748\n",
            "[200]\tvalid_0's l1: 1.18728\n",
            "[300]\tvalid_0's l1: 1.18722\n",
            "[400]\tvalid_0's l1: 1.18632\n"
          ],
          "name": "stdout"
        },
        {
          "output_type": "stream",
          "text": [
            "\n",
            "bagging, val_score: 1.183295:  40%|####      | 4/10 [04:47<05:48, 58.13s/it]\u001b[A\n",
            "bagging, val_score: 1.183295:  50%|#####     | 5/10 [04:47<04:19, 51.90s/it]\u001b[A\u001b[32m[I 2021-07-08 08:34:00,231]\u001b[0m Trial 31 finished with value: 1.1863130449685693 and parameters: {'bagging_fraction': 0.5998860737334081, 'bagging_freq': 1}. Best is trial 28 with value: 1.1832949834287116.\u001b[0m\n",
            "\n",
            "bagging, val_score: 1.183295:  50%|#####     | 5/10 [04:47<04:19, 51.90s/it]\u001b[A"
          ],
          "name": "stderr"
        },
        {
          "output_type": "stream",
          "text": [
            "Early stopping, best iteration is:\n",
            "[383]\tvalid_0's l1: 1.18631\n",
            "Training until validation scores don't improve for 100 rounds.\n",
            "[100]\tvalid_0's l1: 1.1897\n",
            "[200]\tvalid_0's l1: 1.18832\n"
          ],
          "name": "stdout"
        },
        {
          "output_type": "stream",
          "text": [
            "\n",
            "bagging, val_score: 1.183295:  50%|#####     | 5/10 [05:11<04:19, 51.90s/it]\u001b[A\n",
            "bagging, val_score: 1.183295:  60%|######    | 6/10 [05:11<02:54, 43.63s/it]\u001b[A\u001b[32m[I 2021-07-08 08:34:24,555]\u001b[0m Trial 32 finished with value: 1.1883193413298885 and parameters: {'bagging_fraction': 0.6229116374258437, 'bagging_freq': 3}. Best is trial 28 with value: 1.1832949834287116.\u001b[0m\n",
            "\n",
            "bagging, val_score: 1.183295:  60%|######    | 6/10 [05:11<02:54, 43.63s/it]\u001b[A"
          ],
          "name": "stderr"
        },
        {
          "output_type": "stream",
          "text": [
            "Early stopping, best iteration is:\n",
            "[195]\tvalid_0's l1: 1.18832\n",
            "Training until validation scores don't improve for 100 rounds.\n",
            "[100]\tvalid_0's l1: 1.19066\n",
            "[200]\tvalid_0's l1: 1.19038\n"
          ],
          "name": "stdout"
        },
        {
          "output_type": "stream",
          "text": [
            "\n",
            "bagging, val_score: 1.183295:  60%|######    | 6/10 [05:37<02:54, 43.63s/it]\u001b[A\n",
            "bagging, val_score: 1.183295:  70%|#######   | 7/10 [05:37<01:54, 38.20s/it]\u001b[A\u001b[32m[I 2021-07-08 08:34:50,103]\u001b[0m Trial 33 finished with value: 1.1903345037734965 and parameters: {'bagging_fraction': 0.7039770222382432, 'bagging_freq': 7}. Best is trial 28 with value: 1.1832949834287116.\u001b[0m\n",
            "\n",
            "bagging, val_score: 1.183295:  70%|#######   | 7/10 [05:37<01:54, 38.20s/it]\u001b[A"
          ],
          "name": "stderr"
        },
        {
          "output_type": "stream",
          "text": [
            "[300]\tvalid_0's l1: 1.19037\n",
            "Early stopping, best iteration is:\n",
            "[201]\tvalid_0's l1: 1.19033\n",
            "Training until validation scores don't improve for 100 rounds.\n",
            "[100]\tvalid_0's l1: 1.19354\n",
            "[200]\tvalid_0's l1: 1.19083\n",
            "[300]\tvalid_0's l1: 1.18873\n",
            "[400]\tvalid_0's l1: 1.18679\n",
            "[500]\tvalid_0's l1: 1.18648\n",
            "[600]\tvalid_0's l1: 1.1862\n",
            "[700]\tvalid_0's l1: 1.18549\n",
            "[800]\tvalid_0's l1: 1.18507\n",
            "[900]\tvalid_0's l1: 1.18505\n",
            "Early stopping, best iteration is:\n",
            "[842]\tvalid_0's l1: 1.18494\n"
          ],
          "name": "stdout"
        },
        {
          "output_type": "stream",
          "text": [
            "\n",
            "bagging, val_score: 1.183295:  70%|#######   | 7/10 [06:42<01:54, 38.20s/it]\u001b[A\n",
            "bagging, val_score: 1.183295:  80%|########  | 8/10 [06:42<01:32, 46.30s/it]\u001b[A\u001b[32m[I 2021-07-08 08:35:55,309]\u001b[0m Trial 34 finished with value: 1.1849354718111382 and parameters: {'bagging_fraction': 0.4877024971626522, 'bagging_freq': 7}. Best is trial 28 with value: 1.1832949834287116.\u001b[0m\n",
            "\n",
            "bagging, val_score: 1.183295:  80%|########  | 8/10 [06:42<01:32, 46.30s/it]\u001b[A"
          ],
          "name": "stderr"
        },
        {
          "output_type": "stream",
          "text": [
            "Training until validation scores don't improve for 100 rounds.\n",
            "[100]\tvalid_0's l1: 1.19409\n",
            "[200]\tvalid_0's l1: 1.19368\n",
            "[300]\tvalid_0's l1: 1.1934\n",
            "[400]\tvalid_0's l1: 1.19284\n",
            "[500]\tvalid_0's l1: 1.1916\n"
          ],
          "name": "stdout"
        },
        {
          "output_type": "stream",
          "text": [
            "\n",
            "bagging, val_score: 1.183295:  80%|########  | 8/10 [07:34<01:32, 46.30s/it]\u001b[A\n",
            "bagging, val_score: 1.183295:  90%|######### | 9/10 [07:34<00:48, 48.10s/it]\u001b[A\u001b[32m[I 2021-07-08 08:36:47,603]\u001b[0m Trial 35 finished with value: 1.191601113978684 and parameters: {'bagging_fraction': 0.7746616694200059, 'bagging_freq': 6}. Best is trial 28 with value: 1.1832949834287116.\u001b[0m\n",
            "\n",
            "bagging, val_score: 1.183295:  90%|######### | 9/10 [07:34<00:48, 48.10s/it]\u001b[A"
          ],
          "name": "stderr"
        },
        {
          "output_type": "stream",
          "text": [
            "Early stopping, best iteration is:\n",
            "[499]\tvalid_0's l1: 1.1916\n",
            "Training until validation scores don't improve for 100 rounds.\n",
            "[100]\tvalid_0's l1: 1.19033\n",
            "[200]\tvalid_0's l1: 1.1901\n",
            "[300]\tvalid_0's l1: 1.18915\n",
            "[400]\tvalid_0's l1: 1.18677\n",
            "[500]\tvalid_0's l1: 1.1862\n",
            "[600]\tvalid_0's l1: 1.18576\n"
          ],
          "name": "stdout"
        },
        {
          "output_type": "stream",
          "text": [
            "\n",
            "bagging, val_score: 1.183295:  90%|######### | 9/10 [08:37<00:48, 48.10s/it]\u001b[A\n",
            "bagging, val_score: 1.183295: 100%|##########| 10/10 [08:37<00:00, 52.54s/it]\u001b[A\u001b[32m[I 2021-07-08 08:37:50,499]\u001b[0m Trial 36 finished with value: 1.18574757276019 and parameters: {'bagging_fraction': 0.857820428042362, 'bagging_freq': 6}. Best is trial 28 with value: 1.1832949834287116.\u001b[0m\n",
            "bagging, val_score: 1.183295: 100%|##########| 10/10 [08:37<00:00, 51.74s/it]\n",
            "\n",
            "  0%|          | 0/6 [00:00<?, ?it/s]\u001b[A\n",
            "feature_fraction_stage2, val_score: 1.183295:   0%|          | 0/6 [00:00<?, ?it/s]\u001b[A"
          ],
          "name": "stderr"
        },
        {
          "output_type": "stream",
          "text": [
            "Early stopping, best iteration is:\n",
            "[585]\tvalid_0's l1: 1.18575\n",
            "Training until validation scores don't improve for 100 rounds.\n",
            "[100]\tvalid_0's l1: 1.19158\n",
            "[200]\tvalid_0's l1: 1.19019\n",
            "[300]\tvalid_0's l1: 1.19008\n",
            "[400]\tvalid_0's l1: 1.18999\n",
            "[500]\tvalid_0's l1: 1.1893\n",
            "[600]\tvalid_0's l1: 1.18836\n",
            "[700]\tvalid_0's l1: 1.18836\n"
          ],
          "name": "stdout"
        },
        {
          "output_type": "stream",
          "text": [
            "\n",
            "feature_fraction_stage2, val_score: 1.183295:   0%|          | 0/6 [00:59<?, ?it/s]\u001b[A\n",
            "feature_fraction_stage2, val_score: 1.183295:  17%|#6        | 1/6 [00:59<04:57, 59.48s/it]\u001b[A\u001b[32m[I 2021-07-08 08:38:50,002]\u001b[0m Trial 37 finished with value: 1.1883359183558255 and parameters: {'feature_fraction': 0.58}. Best is trial 37 with value: 1.1883359183558255.\u001b[0m\n",
            "\n",
            "feature_fraction_stage2, val_score: 1.183295:  17%|#6        | 1/6 [00:59<04:57, 59.48s/it]\u001b[A"
          ],
          "name": "stderr"
        },
        {
          "output_type": "stream",
          "text": [
            "Early stopping, best iteration is:\n",
            "[612]\tvalid_0's l1: 1.18834\n",
            "Training until validation scores don't improve for 100 rounds.\n",
            "[100]\tvalid_0's l1: 1.19162\n",
            "[200]\tvalid_0's l1: 1.18857\n",
            "[300]\tvalid_0's l1: 1.18848\n"
          ],
          "name": "stdout"
        },
        {
          "output_type": "stream",
          "text": [
            "\n",
            "feature_fraction_stage2, val_score: 1.183295:  17%|#6        | 1/6 [01:27<04:57, 59.48s/it]\u001b[A\n",
            "feature_fraction_stage2, val_score: 1.183295:  33%|###3      | 2/6 [01:27<03:19, 49.91s/it]\u001b[A\u001b[32m[I 2021-07-08 08:39:17,573]\u001b[0m Trial 38 finished with value: 1.1884475950634243 and parameters: {'feature_fraction': 0.42}. Best is trial 37 with value: 1.1883359183558255.\u001b[0m\n",
            "\n",
            "feature_fraction_stage2, val_score: 1.183295:  33%|###3      | 2/6 [01:27<03:19, 49.91s/it]\u001b[A"
          ],
          "name": "stderr"
        },
        {
          "output_type": "stream",
          "text": [
            "Early stopping, best iteration is:\n",
            "[240]\tvalid_0's l1: 1.18845\n",
            "Training until validation scores don't improve for 100 rounds.\n",
            "[100]\tvalid_0's l1: 1.19126\n",
            "[200]\tvalid_0's l1: 1.19052\n",
            "[300]\tvalid_0's l1: 1.19049\n",
            "[400]\tvalid_0's l1: 1.1892\n",
            "[500]\tvalid_0's l1: 1.18851\n",
            "[600]\tvalid_0's l1: 1.18844\n",
            "[700]\tvalid_0's l1: 1.18839\n"
          ],
          "name": "stdout"
        },
        {
          "output_type": "stream",
          "text": [
            "\n",
            "feature_fraction_stage2, val_score: 1.183295:  33%|###3      | 2/6 [02:27<03:19, 49.91s/it]\u001b[A\n",
            "feature_fraction_stage2, val_score: 1.183295:  50%|#####     | 3/6 [02:27<02:39, 53.17s/it]\u001b[A"
          ],
          "name": "stderr"
        },
        {
          "output_type": "stream",
          "text": [
            "Early stopping, best iteration is:\n",
            "[637]\tvalid_0's l1: 1.18834\n"
          ],
          "name": "stdout"
        },
        {
          "output_type": "stream",
          "text": [
            "\u001b[32m[I 2021-07-08 08:40:18,365]\u001b[0m Trial 39 finished with value: 1.1883352488494066 and parameters: {'feature_fraction': 0.5479999999999999}. Best is trial 39 with value: 1.1883352488494066.\u001b[0m\n",
            "\n",
            "feature_fraction_stage2, val_score: 1.183295:  50%|#####     | 3/6 [02:27<02:39, 53.17s/it]\u001b[A"
          ],
          "name": "stderr"
        },
        {
          "output_type": "stream",
          "text": [
            "Training until validation scores don't improve for 100 rounds.\n",
            "[100]\tvalid_0's l1: 1.195\n",
            "[200]\tvalid_0's l1: 1.19489\n",
            "[300]\tvalid_0's l1: 1.19414\n",
            "[400]\tvalid_0's l1: 1.19375\n",
            "[500]\tvalid_0's l1: 1.19334\n",
            "[600]\tvalid_0's l1: 1.19265\n",
            "[700]\tvalid_0's l1: 1.19223\n"
          ],
          "name": "stdout"
        },
        {
          "output_type": "stream",
          "text": [
            "\n",
            "feature_fraction_stage2, val_score: 1.183295:  50%|#####     | 3/6 [03:26<02:39, 53.17s/it]\u001b[A\n",
            "feature_fraction_stage2, val_score: 1.183295:  67%|######6   | 4/6 [03:26<01:49, 54.74s/it]\u001b[A\u001b[32m[I 2021-07-08 08:41:16,775]\u001b[0m Trial 40 finished with value: 1.1921534573399932 and parameters: {'feature_fraction': 0.516}. Best is trial 39 with value: 1.1883352488494066.\u001b[0m\n",
            "\n",
            "feature_fraction_stage2, val_score: 1.183295:  67%|######6   | 4/6 [03:26<01:49, 54.74s/it]\u001b[A"
          ],
          "name": "stderr"
        },
        {
          "output_type": "stream",
          "text": [
            "Early stopping, best iteration is:\n",
            "[615]\tvalid_0's l1: 1.19215\n",
            "Training until validation scores don't improve for 100 rounds.\n",
            "[100]\tvalid_0's l1: 1.19285\n",
            "[200]\tvalid_0's l1: 1.19279\n",
            "[300]\tvalid_0's l1: 1.19168\n",
            "[400]\tvalid_0's l1: 1.1898\n",
            "[500]\tvalid_0's l1: 1.18955\n"
          ],
          "name": "stdout"
        },
        {
          "output_type": "stream",
          "text": [
            "\n",
            "feature_fraction_stage2, val_score: 1.183295:  67%|######6   | 4/6 [04:09<01:49, 54.74s/it]\u001b[A\n",
            "feature_fraction_stage2, val_score: 1.183295:  83%|########3 | 5/6 [04:09<00:51, 51.39s/it]\u001b[A\u001b[32m[I 2021-07-08 08:42:00,355]\u001b[0m Trial 41 finished with value: 1.1895106380274731 and parameters: {'feature_fraction': 0.45199999999999996}. Best is trial 39 with value: 1.1883352488494066.\u001b[0m\n",
            "\n",
            "feature_fraction_stage2, val_score: 1.183295:  83%|########3 | 5/6 [04:09<00:51, 51.39s/it]\u001b[A"
          ],
          "name": "stderr"
        },
        {
          "output_type": "stream",
          "text": [
            "Early stopping, best iteration is:\n",
            "[427]\tvalid_0's l1: 1.18951\n",
            "Training until validation scores don't improve for 100 rounds.\n",
            "[100]\tvalid_0's l1: 1.1933\n",
            "[200]\tvalid_0's l1: 1.19052\n"
          ],
          "name": "stdout"
        },
        {
          "output_type": "stream",
          "text": [
            "\n",
            "feature_fraction_stage2, val_score: 1.183295:  83%|########3 | 5/6 [04:35<00:51, 51.39s/it]\u001b[A\n",
            "feature_fraction_stage2, val_score: 1.183295: 100%|##########| 6/6 [04:35<00:00, 43.57s/it]\u001b[A\u001b[32m[I 2021-07-08 08:42:25,654]\u001b[0m Trial 42 finished with value: 1.1905114490834316 and parameters: {'feature_fraction': 0.484}. Best is trial 39 with value: 1.1883352488494066.\u001b[0m\n",
            "feature_fraction_stage2, val_score: 1.183295: 100%|##########| 6/6 [04:35<00:00, 45.86s/it]\n",
            "\n",
            "  0%|          | 0/20 [00:00<?, ?it/s]\u001b[A\n",
            "regularization_factors, val_score: 1.183295:   0%|          | 0/20 [00:00<?, ?it/s]\u001b[A"
          ],
          "name": "stderr"
        },
        {
          "output_type": "stream",
          "text": [
            "Early stopping, best iteration is:\n",
            "[195]\tvalid_0's l1: 1.19051\n",
            "Training until validation scores don't improve for 100 rounds.\n",
            "[100]\tvalid_0's l1: 1.19026\n",
            "[200]\tvalid_0's l1: 1.1892\n",
            "[300]\tvalid_0's l1: 1.18824\n",
            "[400]\tvalid_0's l1: 1.18703\n",
            "[500]\tvalid_0's l1: 1.18661\n",
            "[600]\tvalid_0's l1: 1.18653\n",
            "[700]\tvalid_0's l1: 1.18596\n",
            "[800]\tvalid_0's l1: 1.1849\n",
            "[900]\tvalid_0's l1: 1.18485\n",
            "Early stopping, best iteration is:\n",
            "[850]\tvalid_0's l1: 1.18483\n"
          ],
          "name": "stdout"
        },
        {
          "output_type": "stream",
          "text": [
            "\n",
            "regularization_factors, val_score: 1.183295:   0%|          | 0/20 [01:16<?, ?it/s]\u001b[A\n",
            "regularization_factors, val_score: 1.183295:   5%|5         | 1/20 [01:16<24:18, 76.76s/it]\u001b[A\u001b[32m[I 2021-07-08 08:43:42,435]\u001b[0m Trial 43 finished with value: 1.1848296818798183 and parameters: {'lambda_l1': 2.785939877185051e-07, 'lambda_l2': 0.010247475055884915}. Best is trial 43 with value: 1.1848296818798183.\u001b[0m\n",
            "\n",
            "regularization_factors, val_score: 1.183295:   5%|5         | 1/20 [01:16<24:18, 76.76s/it]\u001b[A"
          ],
          "name": "stderr"
        },
        {
          "output_type": "stream",
          "text": [
            "Training until validation scores don't improve for 100 rounds.\n",
            "[100]\tvalid_0's l1: 1.19\n",
            "[200]\tvalid_0's l1: 1.18957\n",
            "[300]\tvalid_0's l1: 1.18862\n",
            "[400]\tvalid_0's l1: 1.18751\n",
            "[500]\tvalid_0's l1: 1.18683\n",
            "[600]\tvalid_0's l1: 1.18654\n"
          ],
          "name": "stdout"
        },
        {
          "output_type": "stream",
          "text": [
            "\n",
            "regularization_factors, val_score: 1.183295:   5%|5         | 1/20 [02:09<24:18, 76.76s/it]\u001b[A\n",
            "regularization_factors, val_score: 1.183295:  10%|#         | 2/20 [02:09<20:52, 69.56s/it]\u001b[A\u001b[32m[I 2021-07-08 08:44:35,191]\u001b[0m Trial 44 finished with value: 1.186500520453937 and parameters: {'lambda_l1': 0.011134912177713811, 'lambda_l2': 0.0006967607567214676}. Best is trial 43 with value: 1.1848296818798183.\u001b[0m\n",
            "\n",
            "regularization_factors, val_score: 1.183295:  10%|#         | 2/20 [02:09<20:52, 69.56s/it]\u001b[A"
          ],
          "name": "stderr"
        },
        {
          "output_type": "stream",
          "text": [
            "Early stopping, best iteration is:\n",
            "[539]\tvalid_0's l1: 1.1865\n",
            "Training until validation scores don't improve for 100 rounds.\n",
            "[100]\tvalid_0's l1: 1.19333\n",
            "[200]\tvalid_0's l1: 1.19192\n",
            "[300]\tvalid_0's l1: 1.19192\n",
            "[400]\tvalid_0's l1: 1.18988\n",
            "[500]\tvalid_0's l1: 1.18909\n"
          ],
          "name": "stdout"
        },
        {
          "output_type": "stream",
          "text": [
            "\n",
            "regularization_factors, val_score: 1.183295:  10%|#         | 2/20 [02:53<20:52, 69.56s/it]\u001b[A\n",
            "regularization_factors, val_score: 1.183295:  15%|#5        | 3/20 [02:53<17:30, 61.82s/it]\u001b[A\u001b[32m[I 2021-07-08 08:45:18,945]\u001b[0m Trial 45 finished with value: 1.1890495780933847 and parameters: {'lambda_l1': 0.0022697645365679898, 'lambda_l2': 8.834609134952469e-05}. Best is trial 43 with value: 1.1848296818798183.\u001b[0m\n",
            "\n",
            "regularization_factors, val_score: 1.183295:  15%|#5        | 3/20 [02:53<17:30, 61.82s/it]\u001b[A"
          ],
          "name": "stderr"
        },
        {
          "output_type": "stream",
          "text": [
            "Early stopping, best iteration is:\n",
            "[426]\tvalid_0's l1: 1.18905\n",
            "Training until validation scores don't improve for 100 rounds.\n",
            "[100]\tvalid_0's l1: 1.19334\n",
            "[200]\tvalid_0's l1: 1.19139\n",
            "[300]\tvalid_0's l1: 1.19106\n",
            "[400]\tvalid_0's l1: 1.18858\n",
            "[500]\tvalid_0's l1: 1.188\n",
            "[600]\tvalid_0's l1: 1.18794\n",
            "[700]\tvalid_0's l1: 1.18787\n",
            "[800]\tvalid_0's l1: 1.18711\n"
          ],
          "name": "stdout"
        },
        {
          "output_type": "stream",
          "text": [
            "\n",
            "regularization_factors, val_score: 1.183295:  15%|#5        | 3/20 [04:02<17:30, 61.82s/it]\u001b[A\n",
            "regularization_factors, val_score: 1.183295:  20%|##        | 4/20 [04:02<17:05, 64.07s/it]"
          ],
          "name": "stderr"
        },
        {
          "output_type": "stream",
          "text": [
            "Early stopping, best iteration is:\n",
            "[742]\tvalid_0's l1: 1.18632\n"
          ],
          "name": "stdout"
        },
        {
          "output_type": "stream",
          "text": [
            "\u001b[A\u001b[32m[I 2021-07-08 08:46:28,284]\u001b[0m Trial 46 finished with value: 1.1863187275914617 and parameters: {'lambda_l1': 7.277424276169966e-05, 'lambda_l2': 0.000385571022319825}. Best is trial 43 with value: 1.1848296818798183.\u001b[0m\n",
            "\n",
            "regularization_factors, val_score: 1.183295:  20%|##        | 4/20 [04:02<17:05, 64.07s/it]\u001b[A"
          ],
          "name": "stderr"
        },
        {
          "output_type": "stream",
          "text": [
            "Training until validation scores don't improve for 100 rounds.\n",
            "[100]\tvalid_0's l1: 1.19159\n",
            "[200]\tvalid_0's l1: 1.18879\n",
            "[300]\tvalid_0's l1: 1.18854\n",
            "[400]\tvalid_0's l1: 1.18641\n",
            "[500]\tvalid_0's l1: 1.18635\n"
          ],
          "name": "stdout"
        },
        {
          "output_type": "stream",
          "text": [
            "\n",
            "regularization_factors, val_score: 1.183295:  20%|##        | 4/20 [04:45<17:05, 64.07s/it]\u001b[A\n",
            "regularization_factors, val_score: 1.183295:  25%|##5       | 5/20 [04:45<14:26, 57.78s/it]\u001b[A\u001b[32m[I 2021-07-08 08:47:11,367]\u001b[0m Trial 47 finished with value: 1.1862689846822418 and parameters: {'lambda_l1': 0.00011430452087250962, 'lambda_l2': 0.1539025084624338}. Best is trial 43 with value: 1.1848296818798183.\u001b[0m\n",
            "\n",
            "regularization_factors, val_score: 1.183295:  25%|##5       | 5/20 [04:45<14:26, 57.78s/it]\u001b[A"
          ],
          "name": "stderr"
        },
        {
          "output_type": "stream",
          "text": [
            "Early stopping, best iteration is:\n",
            "[428]\tvalid_0's l1: 1.18627\n",
            "Training until validation scores don't improve for 100 rounds.\n",
            "[100]\tvalid_0's l1: 1.18959\n",
            "[200]\tvalid_0's l1: 1.18846\n",
            "[300]\tvalid_0's l1: 1.18805\n",
            "[400]\tvalid_0's l1: 1.18794\n",
            "[500]\tvalid_0's l1: 1.18783\n",
            "[600]\tvalid_0's l1: 1.18756\n",
            "[700]\tvalid_0's l1: 1.18758\n"
          ],
          "name": "stdout"
        },
        {
          "output_type": "stream",
          "text": [
            "\n",
            "regularization_factors, val_score: 1.183295:  25%|##5       | 5/20 [05:42<14:26, 57.78s/it]\u001b[A\n",
            "regularization_factors, val_score: 1.183295:  30%|###       | 6/20 [05:42<13:26, 57.63s/it]\u001b[A\u001b[32m[I 2021-07-08 08:48:08,651]\u001b[0m Trial 48 finished with value: 1.1875583368705884 and parameters: {'lambda_l1': 7.77572045722457, 'lambda_l2': 9.435613102374415}. Best is trial 43 with value: 1.1848296818798183.\u001b[0m\n",
            "\n",
            "regularization_factors, val_score: 1.183295:  30%|###       | 6/20 [05:42<13:26, 57.63s/it]\u001b[A"
          ],
          "name": "stderr"
        },
        {
          "output_type": "stream",
          "text": [
            "Early stopping, best iteration is:\n",
            "[605]\tvalid_0's l1: 1.18756\n",
            "Training until validation scores don't improve for 100 rounds.\n",
            "[100]\tvalid_0's l1: 1.19026\n",
            "[200]\tvalid_0's l1: 1.18862\n",
            "[300]\tvalid_0's l1: 1.18849\n",
            "[400]\tvalid_0's l1: 1.18747\n",
            "[500]\tvalid_0's l1: 1.1866\n",
            "[600]\tvalid_0's l1: 1.18626\n",
            "[700]\tvalid_0's l1: 1.18627\n"
          ],
          "name": "stdout"
        },
        {
          "output_type": "stream",
          "text": [
            "\n",
            "regularization_factors, val_score: 1.183295:  30%|###       | 6/20 [06:41<13:26, 57.63s/it]\u001b[A\n",
            "regularization_factors, val_score: 1.183295:  35%|###5      | 7/20 [06:41<12:34, 58.00s/it]\u001b[A\u001b[32m[I 2021-07-08 08:49:07,528]\u001b[0m Trial 49 finished with value: 1.1861824426482603 and parameters: {'lambda_l1': 0.002380137219528403, 'lambda_l2': 0.004726799581369584}. Best is trial 43 with value: 1.1848296818798183.\u001b[0m\n",
            "\n",
            "regularization_factors, val_score: 1.183295:  35%|###5      | 7/20 [06:41<12:34, 58.00s/it]\u001b[A"
          ],
          "name": "stderr"
        },
        {
          "output_type": "stream",
          "text": [
            "Early stopping, best iteration is:\n",
            "[619]\tvalid_0's l1: 1.18618\n",
            "Training until validation scores don't improve for 100 rounds.\n",
            "[100]\tvalid_0's l1: 1.19278\n",
            "[200]\tvalid_0's l1: 1.19264\n",
            "[300]\tvalid_0's l1: 1.19232\n",
            "[400]\tvalid_0's l1: 1.19126\n",
            "[500]\tvalid_0's l1: 1.19034\n",
            "[600]\tvalid_0's l1: 1.18977\n",
            "[700]\tvalid_0's l1: 1.18835\n",
            "[800]\tvalid_0's l1: 1.18777\n",
            "Early stopping, best iteration is:\n",
            "[781]\tvalid_0's l1: 1.18775\n"
          ],
          "name": "stdout"
        },
        {
          "output_type": "stream",
          "text": [
            "\n",
            "regularization_factors, val_score: 1.183295:  35%|###5      | 7/20 [07:54<12:34, 58.00s/it]\u001b[A\n",
            "regularization_factors, val_score: 1.183295:  40%|####      | 8/20 [07:54<12:30, 62.50s/it]\u001b[A\u001b[32m[I 2021-07-08 08:50:20,523]\u001b[0m Trial 50 finished with value: 1.1877546037918625 and parameters: {'lambda_l1': 0.37542818843922726, 'lambda_l2': 0.5686674551824192}. Best is trial 43 with value: 1.1848296818798183.\u001b[0m\n",
            "\n",
            "regularization_factors, val_score: 1.183295:  40%|####      | 8/20 [07:54<12:30, 62.50s/it]\u001b[A"
          ],
          "name": "stderr"
        },
        {
          "output_type": "stream",
          "text": [
            "Training until validation scores don't improve for 100 rounds.\n",
            "[100]\tvalid_0's l1: 1.1931\n",
            "[200]\tvalid_0's l1: 1.19288\n",
            "[300]\tvalid_0's l1: 1.19288\n",
            "[400]\tvalid_0's l1: 1.19083\n",
            "[500]\tvalid_0's l1: 1.1899\n"
          ],
          "name": "stdout"
        },
        {
          "output_type": "stream",
          "text": [
            "\n",
            "regularization_factors, val_score: 1.183295:  40%|####      | 8/20 [08:44<12:30, 62.50s/it]\u001b[A\n",
            "regularization_factors, val_score: 1.183295:  45%|####5     | 9/20 [08:44<10:43, 58.50s/it]\u001b[A\u001b[32m[I 2021-07-08 08:51:09,695]\u001b[0m Trial 51 finished with value: 1.189861987073538 and parameters: {'lambda_l1': 6.679244347378811, 'lambda_l2': 3.239699210146461}. Best is trial 43 with value: 1.1848296818798183.\u001b[0m\n",
            "\n",
            "regularization_factors, val_score: 1.183295:  45%|####5     | 9/20 [08:44<10:43, 58.50s/it]\u001b[A"
          ],
          "name": "stderr"
        },
        {
          "output_type": "stream",
          "text": [
            "Early stopping, best iteration is:\n",
            "[488]\tvalid_0's l1: 1.18986\n",
            "Training until validation scores don't improve for 100 rounds.\n",
            "[100]\tvalid_0's l1: 1.19334\n",
            "[200]\tvalid_0's l1: 1.19139\n",
            "[300]\tvalid_0's l1: 1.19106\n",
            "[400]\tvalid_0's l1: 1.18858\n",
            "[500]\tvalid_0's l1: 1.188\n",
            "[600]\tvalid_0's l1: 1.18794\n",
            "[700]\tvalid_0's l1: 1.18787\n",
            "[800]\tvalid_0's l1: 1.18711\n"
          ],
          "name": "stdout"
        },
        {
          "output_type": "stream",
          "text": [
            "\n"
          ],
          "name": "stderr"
        },
        {
          "output_type": "stream",
          "text": [
            "Early stopping, best iteration is:\n",
            "[742]\tvalid_0's l1: 1.18632\n"
          ],
          "name": "stdout"
        },
        {
          "output_type": "stream",
          "text": [
            "regularization_factors, val_score: 1.183295:  45%|####5     | 9/20 [09:52<10:43, 58.50s/it]\u001b[A\n",
            "regularization_factors, val_score: 1.183295:  50%|#####     | 10/20 [09:52<10:13, 61.35s/it]\u001b[A\u001b[32m[I 2021-07-08 08:52:17,682]\u001b[0m Trial 52 finished with value: 1.1863187275914617 and parameters: {'lambda_l1': 0.00015958641459609785, 'lambda_l2': 6.266559742513535e-07}. Best is trial 43 with value: 1.1848296818798183.\u001b[0m\n",
            "\n",
            "regularization_factors, val_score: 1.183295:  50%|#####     | 10/20 [09:52<10:13, 61.35s/it]\u001b[A"
          ],
          "name": "stderr"
        },
        {
          "output_type": "stream",
          "text": [
            "Training until validation scores don't improve for 100 rounds.\n",
            "[100]\tvalid_0's l1: 1.19334\n",
            "[200]\tvalid_0's l1: 1.19097\n",
            "[300]\tvalid_0's l1: 1.19039\n",
            "[400]\tvalid_0's l1: 1.18829\n",
            "[500]\tvalid_0's l1: 1.18701\n"
          ],
          "name": "stdout"
        },
        {
          "output_type": "stream",
          "text": [
            "\n",
            "regularization_factors, val_score: 1.183295:  50%|#####     | 10/20 [10:39<10:13, 61.35s/it]\u001b[A\n",
            "regularization_factors, val_score: 1.183295:  55%|#####5    | 11/20 [10:39<08:35, 57.33s/it]\u001b[A\u001b[32m[I 2021-07-08 08:53:05,639]\u001b[0m Trial 53 finished with value: 1.186910340998755 and parameters: {'lambda_l1': 5.319913731209086e-08, 'lambda_l2': 1.2813010049888826e-08}. Best is trial 43 with value: 1.1848296818798183.\u001b[0m\n",
            "\n",
            "regularization_factors, val_score: 1.183295:  55%|#####5    | 11/20 [10:39<08:35, 57.33s/it]\u001b[A"
          ],
          "name": "stderr"
        },
        {
          "output_type": "stream",
          "text": [
            "Early stopping, best iteration is:\n",
            "[487]\tvalid_0's l1: 1.18691\n",
            "Training until validation scores don't improve for 100 rounds.\n",
            "[100]\tvalid_0's l1: 1.18991\n",
            "[200]\tvalid_0's l1: 1.1888\n",
            "[300]\tvalid_0's l1: 1.18783\n",
            "[400]\tvalid_0's l1: 1.18676\n",
            "[500]\tvalid_0's l1: 1.18656\n"
          ],
          "name": "stdout"
        },
        {
          "output_type": "stream",
          "text": [
            "\n",
            "regularization_factors, val_score: 1.183295:  55%|#####5    | 11/20 [11:23<08:35, 57.33s/it]\u001b[A\n",
            "regularization_factors, val_score: 1.183295:  60%|######    | 12/20 [11:23<07:05, 53.16s/it]\u001b[A\u001b[32m[I 2021-07-08 08:53:49,068]\u001b[0m Trial 54 finished with value: 1.1864475164900075 and parameters: {'lambda_l1': 2.2061713488082848e-07, 'lambda_l2': 0.01418641675660662}. Best is trial 43 with value: 1.1848296818798183.\u001b[0m\n",
            "\n",
            "regularization_factors, val_score: 1.183295:  60%|######    | 12/20 [11:23<07:05, 53.16s/it]\u001b[A"
          ],
          "name": "stderr"
        },
        {
          "output_type": "stream",
          "text": [
            "Early stopping, best iteration is:\n",
            "[427]\tvalid_0's l1: 1.18645\n",
            "Training until validation scores don't improve for 100 rounds.\n",
            "[100]\tvalid_0's l1: 1.19049\n",
            "[200]\tvalid_0's l1: 1.18982\n",
            "[300]\tvalid_0's l1: 1.18976\n",
            "[400]\tvalid_0's l1: 1.18815\n",
            "[500]\tvalid_0's l1: 1.18792\n",
            "[600]\tvalid_0's l1: 1.18769\n",
            "[700]\tvalid_0's l1: 1.18646\n",
            "[800]\tvalid_0's l1: 1.18643\n",
            "[900]\tvalid_0's l1: 1.18639\n",
            "Early stopping, best iteration is:\n",
            "[892]\tvalid_0's l1: 1.18639\n"
          ],
          "name": "stdout"
        },
        {
          "output_type": "stream",
          "text": [
            "\n",
            "regularization_factors, val_score: 1.183295:  60%|######    | 12/20 [12:45<07:05, 53.16s/it]\u001b[A\n",
            "regularization_factors, val_score: 1.183295:  65%|######5   | 13/20 [12:45<07:12, 61.77s/it]\u001b[A\u001b[32m[I 2021-07-08 08:55:10,930]\u001b[0m Trial 55 finished with value: 1.1863889572403696 and parameters: {'lambda_l1': 2.1481829713116473e-06, 'lambda_l2': 0.009043617173884381}. Best is trial 43 with value: 1.1848296818798183.\u001b[0m\n",
            "\n",
            "regularization_factors, val_score: 1.183295:  65%|######5   | 13/20 [12:45<07:12, 61.77s/it]\u001b[A"
          ],
          "name": "stderr"
        },
        {
          "output_type": "stream",
          "text": [
            "Training until validation scores don't improve for 100 rounds.\n",
            "[100]\tvalid_0's l1: 1.19334\n",
            "[200]\tvalid_0's l1: 1.19097\n",
            "[300]\tvalid_0's l1: 1.19039\n",
            "[400]\tvalid_0's l1: 1.18829\n",
            "[500]\tvalid_0's l1: 1.18701\n"
          ],
          "name": "stdout"
        },
        {
          "output_type": "stream",
          "text": [
            "\n",
            "regularization_factors, val_score: 1.183295:  65%|######5   | 13/20 [13:34<07:12, 61.77s/it]\u001b[A\n",
            "regularization_factors, val_score: 1.183295:  70%|#######   | 14/20 [13:34<05:48, 58.05s/it]\u001b[A\u001b[32m[I 2021-07-08 08:56:00,288]\u001b[0m Trial 56 finished with value: 1.1869103409987556 and parameters: {'lambda_l1': 3.5456900639408053e-06, 'lambda_l2': 1.4472577504161482e-05}. Best is trial 43 with value: 1.1848296818798183.\u001b[0m\n",
            "\n",
            "regularization_factors, val_score: 1.183295:  70%|#######   | 14/20 [13:34<05:48, 58.05s/it]\u001b[A"
          ],
          "name": "stderr"
        },
        {
          "output_type": "stream",
          "text": [
            "Early stopping, best iteration is:\n",
            "[487]\tvalid_0's l1: 1.18691\n",
            "Training until validation scores don't improve for 100 rounds.\n",
            "[100]\tvalid_0's l1: 1.19285\n",
            "[200]\tvalid_0's l1: 1.19264\n",
            "[300]\tvalid_0's l1: 1.19069\n",
            "[400]\tvalid_0's l1: 1.18922\n",
            "[500]\tvalid_0's l1: 1.18747\n"
          ],
          "name": "stdout"
        },
        {
          "output_type": "stream",
          "text": [
            "\n",
            "regularization_factors, val_score: 1.183295:  70%|#######   | 14/20 [14:23<05:48, 58.05s/it]\u001b[A\n",
            "regularization_factors, val_score: 1.183295:  75%|#######5  | 15/20 [14:23<04:36, 55.30s/it]\u001b[A\u001b[32m[I 2021-07-08 08:56:49,169]\u001b[0m Trial 57 finished with value: 1.187461602401595 and parameters: {'lambda_l1': 0.042696631103971004, 'lambda_l2': 0.0143291778212697}. Best is trial 43 with value: 1.1848296818798183.\u001b[0m\n",
            "\n",
            "regularization_factors, val_score: 1.183295:  75%|#######5  | 15/20 [14:23<04:36, 55.30s/it]\u001b[A"
          ],
          "name": "stderr"
        },
        {
          "output_type": "stream",
          "text": [
            "Early stopping, best iteration is:\n",
            "[496]\tvalid_0's l1: 1.18746\n",
            "Training until validation scores don't improve for 100 rounds.\n",
            "[100]\tvalid_0's l1: 1.19334\n",
            "[200]\tvalid_0's l1: 1.19097\n",
            "[300]\tvalid_0's l1: 1.19039\n",
            "[400]\tvalid_0's l1: 1.18829\n",
            "[500]\tvalid_0's l1: 1.18701\n"
          ],
          "name": "stdout"
        },
        {
          "output_type": "stream",
          "text": [
            "\n",
            "regularization_factors, val_score: 1.183295:  75%|#######5  | 15/20 [15:11<04:36, 55.30s/it]\u001b[A\n",
            "regularization_factors, val_score: 1.183295:  80%|########  | 16/20 [15:11<03:32, 53.21s/it]\u001b[A\u001b[32m[I 2021-07-08 08:57:37,502]\u001b[0m Trial 58 finished with value: 1.1869103409987551 and parameters: {'lambda_l1': 6.117787081024622e-06, 'lambda_l2': 4.725470815926707e-06}. Best is trial 43 with value: 1.1848296818798183.\u001b[0m\n",
            "\n",
            "regularization_factors, val_score: 1.183295:  80%|########  | 16/20 [15:11<03:32, 53.21s/it]\u001b[A"
          ],
          "name": "stderr"
        },
        {
          "output_type": "stream",
          "text": [
            "Early stopping, best iteration is:\n",
            "[487]\tvalid_0's l1: 1.18691\n",
            "Training until validation scores don't improve for 100 rounds.\n",
            "[100]\tvalid_0's l1: 1.19213\n",
            "[200]\tvalid_0's l1: 1.19142\n",
            "[300]\tvalid_0's l1: 1.19137\n",
            "[400]\tvalid_0's l1: 1.19058\n",
            "[500]\tvalid_0's l1: 1.19049\n",
            "[600]\tvalid_0's l1: 1.18897\n",
            "[700]\tvalid_0's l1: 1.18896\n",
            "[800]\tvalid_0's l1: 1.18848\n",
            "Early stopping, best iteration is:\n",
            "[788]\tvalid_0's l1: 1.18843\n"
          ],
          "name": "stdout"
        },
        {
          "output_type": "stream",
          "text": [
            "\n",
            "regularization_factors, val_score: 1.183295:  80%|########  | 16/20 [16:25<03:32, 53.21s/it]\u001b[A\n",
            "regularization_factors, val_score: 1.183295:  85%|########5 | 17/20 [16:25<02:57, 59.20s/it]\u001b[A\u001b[32m[I 2021-07-08 08:58:50,691]\u001b[0m Trial 59 finished with value: 1.1884271736487806 and parameters: {'lambda_l1': 0.0017782953979732328, 'lambda_l2': 0.11264809991445145}. Best is trial 43 with value: 1.1848296818798183.\u001b[0m\n",
            "\n",
            "regularization_factors, val_score: 1.183295:  85%|########5 | 17/20 [16:25<02:57, 59.20s/it]\u001b[A"
          ],
          "name": "stderr"
        },
        {
          "output_type": "stream",
          "text": [
            "Training until validation scores don't improve for 100 rounds.\n",
            "[100]\tvalid_0's l1: 1.19333\n",
            "[200]\tvalid_0's l1: 1.19202\n",
            "[300]\tvalid_0's l1: 1.19107\n",
            "[400]\tvalid_0's l1: 1.18914\n",
            "[500]\tvalid_0's l1: 1.18875\n",
            "[600]\tvalid_0's l1: 1.18865\n",
            "[700]\tvalid_0's l1: 1.18835\n"
          ],
          "name": "stdout"
        },
        {
          "output_type": "stream",
          "text": [
            "\n",
            "regularization_factors, val_score: 1.183295:  85%|########5 | 17/20 [17:25<02:57, 59.20s/it]\u001b[A\n",
            "regularization_factors, val_score: 1.183295:  90%|######### | 18/20 [17:25<01:59, 59.66s/it]\u001b[A\u001b[32m[I 2021-07-08 08:59:51,403]\u001b[0m Trial 60 finished with value: 1.1882651550762007 and parameters: {'lambda_l1': 2.225426263857396e-08, 'lambda_l2': 0.002099377426239992}. Best is trial 43 with value: 1.1848296818798183.\u001b[0m\n",
            "\n",
            "regularization_factors, val_score: 1.183295:  90%|######### | 18/20 [17:25<01:59, 59.66s/it]\u001b[A"
          ],
          "name": "stderr"
        },
        {
          "output_type": "stream",
          "text": [
            "Early stopping, best iteration is:\n",
            "[622]\tvalid_0's l1: 1.18827\n",
            "Training until validation scores don't improve for 100 rounds.\n",
            "[100]\tvalid_0's l1: 1.19249\n",
            "[200]\tvalid_0's l1: 1.19181\n",
            "[300]\tvalid_0's l1: 1.19109\n"
          ],
          "name": "stdout"
        },
        {
          "output_type": "stream",
          "text": [
            "\n",
            "regularization_factors, val_score: 1.183295:  90%|######### | 18/20 [17:57<01:59, 59.66s/it]\u001b[A\n",
            "regularization_factors, val_score: 1.183295:  95%|#########5| 19/20 [17:57<00:51, 51.43s/it]\u001b[A\u001b[32m[I 2021-07-08 09:00:23,650]\u001b[0m Trial 61 finished with value: 1.1910426200959576 and parameters: {'lambda_l1': 0.5328478643647466, 'lambda_l2': 1.040482358173433}. Best is trial 43 with value: 1.1848296818798183.\u001b[0m\n",
            "\n",
            "regularization_factors, val_score: 1.183295:  95%|#########5| 19/20 [17:57<00:51, 51.43s/it]\u001b[A"
          ],
          "name": "stderr"
        },
        {
          "output_type": "stream",
          "text": [
            "Early stopping, best iteration is:\n",
            "[280]\tvalid_0's l1: 1.19104\n",
            "Training until validation scores don't improve for 100 rounds.\n",
            "[100]\tvalid_0's l1: 1.19334\n",
            "[200]\tvalid_0's l1: 1.19139\n",
            "[300]\tvalid_0's l1: 1.19106\n",
            "[400]\tvalid_0's l1: 1.18935\n",
            "[500]\tvalid_0's l1: 1.18832\n"
          ],
          "name": "stdout"
        },
        {
          "output_type": "stream",
          "text": [
            "\n",
            "regularization_factors, val_score: 1.183295:  95%|#########5| 19/20 [18:46<00:51, 51.43s/it]\u001b[A\n",
            "regularization_factors, val_score: 1.183295: 100%|##########| 20/20 [18:46<00:00, 50.60s/it]\u001b[A\u001b[32m[I 2021-07-08 09:01:12,303]\u001b[0m Trial 62 finished with value: 1.188309883080589 and parameters: {'lambda_l1': 1.69213842171799e-05, 'lambda_l2': 7.005885876292676e-05}. Best is trial 43 with value: 1.1848296818798183.\u001b[0m\n",
            "regularization_factors, val_score: 1.183295: 100%|##########| 20/20 [18:46<00:00, 56.33s/it]\n",
            "\n",
            "  0%|          | 0/5 [00:00<?, ?it/s]\u001b[A\n",
            "min_data_in_leaf, val_score: 1.183295:   0%|          | 0/5 [00:00<?, ?it/s]\u001b[A"
          ],
          "name": "stderr"
        },
        {
          "output_type": "stream",
          "text": [
            "Early stopping, best iteration is:\n",
            "[487]\tvalid_0's l1: 1.18831\n",
            "Training until validation scores don't improve for 100 rounds.\n",
            "[100]\tvalid_0's l1: 1.19079\n",
            "[200]\tvalid_0's l1: 1.18926\n",
            "[300]\tvalid_0's l1: 1.1887\n"
          ],
          "name": "stdout"
        },
        {
          "output_type": "stream",
          "text": [
            "\n",
            "min_data_in_leaf, val_score: 1.183295:   0%|          | 0/5 [00:29<?, ?it/s]\u001b[A\n",
            "min_data_in_leaf, val_score: 1.183295:  20%|##        | 1/5 [00:29<01:58, 29.71s/it]\u001b[A\u001b[32m[I 2021-07-08 09:01:42,035]\u001b[0m Trial 63 finished with value: 1.1886260657527106 and parameters: {'min_child_samples': 25}. Best is trial 63 with value: 1.1886260657527106.\u001b[0m\n",
            "\n",
            "min_data_in_leaf, val_score: 1.183295:  20%|##        | 1/5 [00:29<01:58, 29.71s/it]\u001b[A"
          ],
          "name": "stderr"
        },
        {
          "output_type": "stream",
          "text": [
            "Early stopping, best iteration is:\n",
            "[247]\tvalid_0's l1: 1.18863\n",
            "Training until validation scores don't improve for 100 rounds.\n",
            "[100]\tvalid_0's l1: 1.1896\n",
            "[200]\tvalid_0's l1: 1.18931\n",
            "[300]\tvalid_0's l1: 1.1893\n",
            "[400]\tvalid_0's l1: 1.18607\n",
            "[500]\tvalid_0's l1: 1.18511\n",
            "[600]\tvalid_0's l1: 1.18427\n",
            "[700]\tvalid_0's l1: 1.18428\n",
            "[800]\tvalid_0's l1: 1.18342\n",
            "Early stopping, best iteration is:\n",
            "[786]\tvalid_0's l1: 1.18342\n"
          ],
          "name": "stdout"
        },
        {
          "output_type": "stream",
          "text": [
            "\n",
            "min_data_in_leaf, val_score: 1.183295:  20%|##        | 1/5 [01:43<01:58, 29.71s/it]\u001b[A\n",
            "min_data_in_leaf, val_score: 1.183295:  40%|####      | 2/5 [01:43<02:09, 43.04s/it]\u001b[A\u001b[32m[I 2021-07-08 09:02:56,169]\u001b[0m Trial 64 finished with value: 1.183421992119053 and parameters: {'min_child_samples': 10}. Best is trial 64 with value: 1.183421992119053.\u001b[0m\n",
            "\n",
            "min_data_in_leaf, val_score: 1.183295:  40%|####      | 2/5 [01:43<02:09, 43.04s/it]\u001b[A"
          ],
          "name": "stderr"
        },
        {
          "output_type": "stream",
          "text": [
            "Training until validation scores don't improve for 100 rounds.\n",
            "[100]\tvalid_0's l1: 1.19267\n",
            "[200]\tvalid_0's l1: 1.1914\n",
            "[300]\tvalid_0's l1: 1.19129\n",
            "[400]\tvalid_0's l1: 1.189\n"
          ],
          "name": "stdout"
        },
        {
          "output_type": "stream",
          "text": [
            "\n",
            "min_data_in_leaf, val_score: 1.183295:  40%|####      | 2/5 [02:24<02:09, 43.04s/it]\u001b[A\n",
            "min_data_in_leaf, val_score: 1.183295:  60%|######    | 3/5 [02:24<01:24, 42.31s/it]\u001b[A\u001b[32m[I 2021-07-08 09:03:36,765]\u001b[0m Trial 65 finished with value: 1.1889832724845668 and parameters: {'min_child_samples': 50}. Best is trial 64 with value: 1.183421992119053.\u001b[0m\n",
            "\n",
            "min_data_in_leaf, val_score: 1.183295:  60%|######    | 3/5 [02:24<01:24, 42.31s/it]\u001b[A"
          ],
          "name": "stderr"
        },
        {
          "output_type": "stream",
          "text": [
            "Early stopping, best iteration is:\n",
            "[388]\tvalid_0's l1: 1.18898\n",
            "Training until validation scores don't improve for 100 rounds.\n",
            "[100]\tvalid_0's l1: 1.1896\n",
            "[200]\tvalid_0's l1: 1.18931\n",
            "[300]\tvalid_0's l1: 1.1893\n",
            "[400]\tvalid_0's l1: 1.18784\n",
            "[500]\tvalid_0's l1: 1.18739\n",
            "[600]\tvalid_0's l1: 1.18599\n",
            "[700]\tvalid_0's l1: 1.18591\n",
            "[800]\tvalid_0's l1: 1.18548\n"
          ],
          "name": "stdout"
        },
        {
          "output_type": "stream",
          "text": [
            "\n",
            "min_data_in_leaf, val_score: 1.183295:  60%|######    | 3/5 [03:33<01:24, 42.31s/it]\u001b[A\n",
            "min_data_in_leaf, val_score: 1.183295:  80%|########  | 4/5 [03:33<00:50, 50.46s/it]\u001b[A"
          ],
          "name": "stderr"
        },
        {
          "output_type": "stream",
          "text": [
            "Early stopping, best iteration is:\n",
            "[733]\tvalid_0's l1: 1.18543\n"
          ],
          "name": "stdout"
        },
        {
          "output_type": "stream",
          "text": [
            "\u001b[32m[I 2021-07-08 09:04:46,249]\u001b[0m Trial 66 finished with value: 1.185425533813496 and parameters: {'min_child_samples': 5}. Best is trial 64 with value: 1.183421992119053.\u001b[0m\n",
            "\n",
            "min_data_in_leaf, val_score: 1.183295:  80%|########  | 4/5 [03:33<00:50, 50.46s/it]\u001b[A"
          ],
          "name": "stderr"
        },
        {
          "output_type": "stream",
          "text": [
            "Training until validation scores don't improve for 100 rounds.\n",
            "[100]\tvalid_0's l1: 1.18848\n",
            "[200]\tvalid_0's l1: 1.18656\n",
            "[300]\tvalid_0's l1: 1.18637\n",
            "[400]\tvalid_0's l1: 1.18391\n"
          ],
          "name": "stdout"
        },
        {
          "output_type": "stream",
          "text": [
            "\n",
            "min_data_in_leaf, val_score: 1.183295:  80%|########  | 4/5 [04:13<00:50, 50.46s/it]\u001b[A\n",
            "min_data_in_leaf, val_score: 1.183295: 100%|##########| 5/5 [04:13<00:00, 47.33s/it]\u001b[A\u001b[32m[I 2021-07-08 09:05:26,279]\u001b[0m Trial 67 finished with value: 1.183813586113103 and parameters: {'min_child_samples': 100}. Best is trial 64 with value: 1.183421992119053.\u001b[0m\n",
            "min_data_in_leaf, val_score: 1.183295: 100%|##########| 5/5 [04:13<00:00, 50.79s/it]"
          ],
          "name": "stderr"
        },
        {
          "output_type": "stream",
          "text": [
            "Early stopping, best iteration is:\n",
            "[382]\tvalid_0's l1: 1.18381\n"
          ],
          "name": "stdout"
        },
        {
          "output_type": "stream",
          "text": [
            "\n"
          ],
          "name": "stderr"
        },
        {
          "output_type": "stream",
          "text": [
            "mae: 1.1832949835634654\n"
          ],
          "name": "stdout"
        },
        {
          "output_type": "stream",
          "text": [
            "\u001b[32m[I 2021-07-08 09:05:27,392]\u001b[0m A new study created in memory with name: no-name-eec890d0-0cc2-4c67-ab97-63c6a3905dfa\u001b[0m\n",
            "\n",
            "  0%|          | 0/7 [00:00<?, ?it/s]\u001b[A\n",
            "feature_fraction, val_score: inf:   0%|          | 0/7 [00:00<?, ?it/s]\u001b[A/usr/local/lib/python3.7/dist-packages/lightgbm/engine.py:118: UserWarning:\n",
            "\n",
            "Found `n_estimators` in params. Will use it instead of argument\n",
            "\n"
          ],
          "name": "stderr"
        },
        {
          "output_type": "stream",
          "text": [
            "Training until validation scores don't improve for 100 rounds.\n",
            "[100]\tvalid_0's l1: 2.23468\n"
          ],
          "name": "stdout"
        },
        {
          "output_type": "stream",
          "text": [
            "\n",
            "feature_fraction, val_score: 2.226634:   0%|          | 0/7 [00:11<?, ?it/s]\u001b[A\n",
            "feature_fraction, val_score: 2.226634:  14%|#4        | 1/7 [00:11<01:07, 11.25s/it]\u001b[A\u001b[32m[I 2021-07-08 09:05:38,661]\u001b[0m Trial 0 finished with value: 2.226634052316523 and parameters: {'feature_fraction': 0.8}. Best is trial 0 with value: 2.226634052316523.\u001b[0m\n",
            "\n",
            "feature_fraction, val_score: 2.226634:  14%|#4        | 1/7 [00:11<01:07, 11.25s/it]\u001b[A"
          ],
          "name": "stderr"
        },
        {
          "output_type": "stream",
          "text": [
            "Early stopping, best iteration is:\n",
            "[50]\tvalid_0's l1: 2.22663\n",
            "Training until validation scores don't improve for 100 rounds.\n",
            "[100]\tvalid_0's l1: 2.23775\n"
          ],
          "name": "stdout"
        },
        {
          "output_type": "stream",
          "text": [
            "\n",
            "feature_fraction, val_score: 2.226634:  14%|#4        | 1/7 [00:22<01:07, 11.25s/it]\u001b[A\n",
            "feature_fraction, val_score: 2.226634:  29%|##8       | 2/7 [00:22<00:56, 11.28s/it]\u001b[A\u001b[32m[I 2021-07-08 09:05:50,012]\u001b[0m Trial 1 finished with value: 2.232108635655088 and parameters: {'feature_fraction': 1.0}. Best is trial 0 with value: 2.226634052316523.\u001b[0m\n",
            "\n",
            "feature_fraction, val_score: 2.226634:  29%|##8       | 2/7 [00:22<00:56, 11.28s/it]\u001b[A"
          ],
          "name": "stderr"
        },
        {
          "output_type": "stream",
          "text": [
            "Early stopping, best iteration is:\n",
            "[43]\tvalid_0's l1: 2.23211\n",
            "Training until validation scores don't improve for 100 rounds.\n",
            "[100]\tvalid_0's l1: 2.2372\n"
          ],
          "name": "stdout"
        },
        {
          "output_type": "stream",
          "text": [
            "\n",
            "feature_fraction, val_score: 2.226634:  29%|##8       | 2/7 [00:32<00:56, 11.28s/it]\u001b[A\n",
            "feature_fraction, val_score: 2.226634:  43%|####2     | 3/7 [00:32<00:43, 10.90s/it]\u001b[A\u001b[32m[I 2021-07-08 09:06:00,031]\u001b[0m Trial 2 finished with value: 2.2296340746044647 and parameters: {'feature_fraction': 0.8999999999999999}. Best is trial 0 with value: 2.226634052316523.\u001b[0m\n",
            "\n",
            "feature_fraction, val_score: 2.226634:  43%|####2     | 3/7 [00:32<00:43, 10.90s/it]\u001b[A"
          ],
          "name": "stderr"
        },
        {
          "output_type": "stream",
          "text": [
            "Early stopping, best iteration is:\n",
            "[27]\tvalid_0's l1: 2.22963\n",
            "Training until validation scores don't improve for 100 rounds.\n",
            "[100]\tvalid_0's l1: 2.23592\n"
          ],
          "name": "stdout"
        },
        {
          "output_type": "stream",
          "text": [
            "\n",
            "feature_fraction, val_score: 2.226634:  43%|####2     | 3/7 [00:42<00:43, 10.90s/it]\u001b[A\n",
            "feature_fraction, val_score: 2.226634:  57%|#####7    | 4/7 [00:42<00:32, 10.74s/it]\u001b[A\u001b[32m[I 2021-07-08 09:06:10,379]\u001b[0m Trial 3 finished with value: 2.2323862853915477 and parameters: {'feature_fraction': 0.7}. Best is trial 0 with value: 2.226634052316523.\u001b[0m\n",
            "\n",
            "feature_fraction, val_score: 2.226634:  57%|#####7    | 4/7 [00:42<00:32, 10.74s/it]\u001b[A"
          ],
          "name": "stderr"
        },
        {
          "output_type": "stream",
          "text": [
            "Early stopping, best iteration is:\n",
            "[42]\tvalid_0's l1: 2.23239\n",
            "Training until validation scores don't improve for 100 rounds.\n",
            "[100]\tvalid_0's l1: 2.2424\n"
          ],
          "name": "stdout"
        },
        {
          "output_type": "stream",
          "text": [
            "\n",
            "feature_fraction, val_score: 2.225703:  57%|#####7    | 4/7 [00:51<00:32, 10.74s/it]\u001b[A\n",
            "feature_fraction, val_score: 2.225703:  71%|#######1  | 5/7 [00:51<00:20, 10.19s/it]\u001b[A\u001b[32m[I 2021-07-08 09:06:19,314]\u001b[0m Trial 4 finished with value: 2.225703217054433 and parameters: {'feature_fraction': 0.4}. Best is trial 4 with value: 2.225703217054433.\u001b[0m\n",
            "\n",
            "feature_fraction, val_score: 2.225703:  71%|#######1  | 5/7 [00:51<00:20, 10.19s/it]\u001b[A"
          ],
          "name": "stderr"
        },
        {
          "output_type": "stream",
          "text": [
            "Early stopping, best iteration is:\n",
            "[38]\tvalid_0's l1: 2.2257\n",
            "Training until validation scores don't improve for 100 rounds.\n",
            "[100]\tvalid_0's l1: 2.23718\n"
          ],
          "name": "stdout"
        },
        {
          "output_type": "stream",
          "text": [
            "\n",
            "feature_fraction, val_score: 2.224897:  71%|#######1  | 5/7 [01:01<00:20, 10.19s/it]\u001b[A\n",
            "feature_fraction, val_score: 2.224897:  86%|########5 | 6/7 [01:01<00:10, 10.04s/it]\u001b[A\u001b[32m[I 2021-07-08 09:06:28,979]\u001b[0m Trial 5 finished with value: 2.2248967809450253 and parameters: {'feature_fraction': 0.6}. Best is trial 5 with value: 2.2248967809450253.\u001b[0m\n",
            "\n",
            "feature_fraction, val_score: 2.224897:  86%|########5 | 6/7 [01:01<00:10, 10.04s/it]\u001b[A"
          ],
          "name": "stderr"
        },
        {
          "output_type": "stream",
          "text": [
            "Early stopping, best iteration is:\n",
            "[35]\tvalid_0's l1: 2.2249\n",
            "Training until validation scores don't improve for 100 rounds.\n",
            "[100]\tvalid_0's l1: 2.24154\n"
          ],
          "name": "stdout"
        },
        {
          "output_type": "stream",
          "text": [
            "\n",
            "feature_fraction, val_score: 2.224897:  86%|########5 | 6/7 [01:11<00:10, 10.04s/it]\u001b[A\n",
            "feature_fraction, val_score: 2.224897: 100%|##########| 7/7 [01:11<00:00,  9.89s/it]\u001b[A\u001b[32m[I 2021-07-08 09:06:38,527]\u001b[0m Trial 6 finished with value: 2.229232488117392 and parameters: {'feature_fraction': 0.5}. Best is trial 5 with value: 2.2248967809450253.\u001b[0m\n",
            "feature_fraction, val_score: 2.224897: 100%|##########| 7/7 [01:11<00:00, 10.16s/it]\n",
            "\n",
            "  0%|          | 0/20 [00:00<?, ?it/s]\u001b[A\n",
            "num_leaves, val_score: 2.224897:   0%|          | 0/20 [00:00<?, ?it/s]\u001b[A"
          ],
          "name": "stderr"
        },
        {
          "output_type": "stream",
          "text": [
            "Early stopping, best iteration is:\n",
            "[42]\tvalid_0's l1: 2.22923\n",
            "Training until validation scores don't improve for 100 rounds.\n",
            "[100]\tvalid_0's l1: 2.23473\n"
          ],
          "name": "stdout"
        },
        {
          "output_type": "stream",
          "text": [
            "\n",
            "num_leaves, val_score: 2.224897:   0%|          | 0/20 [00:12<?, ?it/s]\u001b[A\n",
            "num_leaves, val_score: 2.224897:   5%|5         | 1/20 [00:12<03:51, 12.21s/it]\u001b[A\u001b[32m[I 2021-07-08 09:06:50,761]\u001b[0m Trial 7 finished with value: 2.2294738460127306 and parameters: {'num_leaves': 166}. Best is trial 7 with value: 2.2294738460127306.\u001b[0m\n",
            "\n",
            "num_leaves, val_score: 2.224897:   5%|5         | 1/20 [00:12<03:51, 12.21s/it]\u001b[A"
          ],
          "name": "stderr"
        },
        {
          "output_type": "stream",
          "text": [
            "Early stopping, best iteration is:\n",
            "[53]\tvalid_0's l1: 2.22947\n",
            "Training until validation scores don't improve for 100 rounds.\n",
            "[100]\tvalid_0's l1: 2.2397\n",
            "[200]\tvalid_0's l1: 2.23577\n"
          ],
          "name": "stdout"
        },
        {
          "output_type": "stream",
          "text": [
            "\n",
            "num_leaves, val_score: 2.224897:   5%|5         | 1/20 [00:25<03:51, 12.21s/it]\u001b[A\n",
            "num_leaves, val_score: 2.224897:  10%|#         | 2/20 [00:25<03:43, 12.41s/it]\u001b[A\u001b[32m[I 2021-07-08 09:07:03,630]\u001b[0m Trial 8 finished with value: 2.230595754678475 and parameters: {'num_leaves': 32}. Best is trial 7 with value: 2.2294738460127306.\u001b[0m\n",
            "\n",
            "num_leaves, val_score: 2.224897:  10%|#         | 2/20 [00:25<03:43, 12.41s/it]\u001b[A"
          ],
          "name": "stderr"
        },
        {
          "output_type": "stream",
          "text": [
            "Early stopping, best iteration is:\n",
            "[145]\tvalid_0's l1: 2.2306\n",
            "Training until validation scores don't improve for 100 rounds.\n",
            "[100]\tvalid_0's l1: 2.23603\n"
          ],
          "name": "stdout"
        },
        {
          "output_type": "stream",
          "text": [
            "\n",
            "num_leaves, val_score: 2.224897:  10%|#         | 2/20 [00:33<03:43, 12.41s/it]\u001b[A\n",
            "num_leaves, val_score: 2.224897:  15%|#5        | 3/20 [00:33<03:08, 11.11s/it]\u001b[A\u001b[32m[I 2021-07-08 09:07:11,700]\u001b[0m Trial 9 finished with value: 2.2254497637444857 and parameters: {'num_leaves': 51}. Best is trial 9 with value: 2.2254497637444857.\u001b[0m\n",
            "\n",
            "num_leaves, val_score: 2.224897:  15%|#5        | 3/20 [00:33<03:08, 11.11s/it]\u001b[A"
          ],
          "name": "stderr"
        },
        {
          "output_type": "stream",
          "text": [
            "Early stopping, best iteration is:\n",
            "[30]\tvalid_0's l1: 2.22545\n",
            "Training until validation scores don't improve for 100 rounds.\n",
            "[100]\tvalid_0's l1: 2.23981\n"
          ],
          "name": "stdout"
        },
        {
          "output_type": "stream",
          "text": [
            "\n",
            "num_leaves, val_score: 2.224897:  15%|#5        | 3/20 [00:42<03:08, 11.11s/it]\u001b[A\n",
            "num_leaves, val_score: 2.224897:  20%|##        | 4/20 [00:42<02:47, 10.47s/it]\u001b[A\u001b[32m[I 2021-07-08 09:07:20,673]\u001b[0m Trial 10 finished with value: 2.226865013995337 and parameters: {'num_leaves': 94}. Best is trial 9 with value: 2.2254497637444857.\u001b[0m\n",
            "\n",
            "num_leaves, val_score: 2.224897:  20%|##        | 4/20 [00:42<02:47, 10.47s/it]\u001b[A"
          ],
          "name": "stderr"
        },
        {
          "output_type": "stream",
          "text": [
            "Early stopping, best iteration is:\n",
            "[27]\tvalid_0's l1: 2.22687\n",
            "Training until validation scores don't improve for 100 rounds.\n",
            "[100]\tvalid_0's l1: 2.23825\n"
          ],
          "name": "stdout"
        },
        {
          "output_type": "stream",
          "text": [
            "\n",
            "num_leaves, val_score: 2.224897:  20%|##        | 4/20 [00:55<02:47, 10.47s/it]\u001b[A\n",
            "num_leaves, val_score: 2.224897:  25%|##5       | 5/20 [00:55<02:48, 11.22s/it]\u001b[A\u001b[32m[I 2021-07-08 09:07:33,641]\u001b[0m Trial 11 finished with value: 2.228421638213049 and parameters: {'num_leaves': 251}. Best is trial 9 with value: 2.2254497637444857.\u001b[0m\n",
            "\n",
            "num_leaves, val_score: 2.224897:  25%|##5       | 5/20 [00:55<02:48, 11.22s/it]\u001b[A"
          ],
          "name": "stderr"
        },
        {
          "output_type": "stream",
          "text": [
            "Early stopping, best iteration is:\n",
            "[41]\tvalid_0's l1: 2.22842\n",
            "Training until validation scores don't improve for 100 rounds.\n",
            "[100]\tvalid_0's l1: 2.23567\n",
            "[200]\tvalid_0's l1: 2.23253\n"
          ],
          "name": "stdout"
        },
        {
          "output_type": "stream",
          "text": [
            "\n",
            "num_leaves, val_score: 2.224897:  25%|##5       | 5/20 [01:08<02:48, 11.22s/it]\u001b[A\n",
            "num_leaves, val_score: 2.224897:  30%|###       | 6/20 [01:09<02:48, 12.02s/it]\u001b[A\u001b[32m[I 2021-07-08 09:07:47,548]\u001b[0m Trial 12 finished with value: 2.230717334379283 and parameters: {'num_leaves': 18}. Best is trial 9 with value: 2.2254497637444857.\u001b[0m\n",
            "\n",
            "num_leaves, val_score: 2.224897:  30%|###       | 6/20 [01:09<02:48, 12.02s/it]\u001b[A"
          ],
          "name": "stderr"
        },
        {
          "output_type": "stream",
          "text": [
            "Early stopping, best iteration is:\n",
            "[191]\tvalid_0's l1: 2.23072\n",
            "Training until validation scores don't improve for 100 rounds.\n",
            "[100]\tvalid_0's l1: 2.3847\n",
            "[200]\tvalid_0's l1: 2.36044\n",
            "[300]\tvalid_0's l1: 2.35772\n",
            "[400]\tvalid_0's l1: 2.34651\n",
            "[500]\tvalid_0's l1: 2.33763\n",
            "[600]\tvalid_0's l1: 2.33041\n",
            "[700]\tvalid_0's l1: 2.32899\n",
            "[800]\tvalid_0's l1: 2.32563\n",
            "[900]\tvalid_0's l1: 2.32453\n"
          ],
          "name": "stdout"
        },
        {
          "output_type": "stream",
          "text": [
            "\n",
            "num_leaves, val_score: 2.224897:  30%|###       | 6/20 [01:49<02:48, 12.02s/it]\u001b[A\n",
            "num_leaves, val_score: 2.224897:  35%|###5      | 7/20 [01:49<04:28, 20.66s/it]\u001b[A\u001b[32m[I 2021-07-08 09:08:28,360]\u001b[0m Trial 13 finished with value: 2.324524781625802 and parameters: {'num_leaves': 2}. Best is trial 9 with value: 2.2254497637444857.\u001b[0m\n",
            "\n",
            "num_leaves, val_score: 2.224897:  35%|###5      | 7/20 [01:49<04:28, 20.66s/it]\u001b[A"
          ],
          "name": "stderr"
        },
        {
          "output_type": "stream",
          "text": [
            "Early stopping, best iteration is:\n",
            "[898]\tvalid_0's l1: 2.32452\n",
            "Training until validation scores don't improve for 100 rounds.\n",
            "[100]\tvalid_0's l1: 2.2349\n"
          ],
          "name": "stdout"
        },
        {
          "output_type": "stream",
          "text": [
            "\n",
            "num_leaves, val_score: 2.224897:  35%|###5      | 7/20 [02:01<04:28, 20.66s/it]\u001b[A\n",
            "num_leaves, val_score: 2.224897:  40%|####      | 8/20 [02:01<03:34, 17.86s/it]\u001b[A\u001b[32m[I 2021-07-08 09:08:39,683]\u001b[0m Trial 14 finished with value: 2.2254688773019855 and parameters: {'num_leaves': 224}. Best is trial 9 with value: 2.2254497637444857.\u001b[0m\n",
            "\n",
            "num_leaves, val_score: 2.224897:  40%|####      | 8/20 [02:01<03:34, 17.86s/it]\u001b[A"
          ],
          "name": "stderr"
        },
        {
          "output_type": "stream",
          "text": [
            "Early stopping, best iteration is:\n",
            "[24]\tvalid_0's l1: 2.22547\n",
            "Training until validation scores don't improve for 100 rounds.\n",
            "[100]\tvalid_0's l1: 2.23694\n"
          ],
          "name": "stdout"
        },
        {
          "output_type": "stream",
          "text": [
            "\n",
            "num_leaves, val_score: 2.224897:  40%|####      | 8/20 [02:12<03:34, 17.86s/it]\u001b[A\n",
            "num_leaves, val_score: 2.224897:  45%|####5     | 9/20 [02:12<02:55, 15.91s/it]\u001b[A\u001b[32m[I 2021-07-08 09:08:51,060]\u001b[0m Trial 15 finished with value: 2.2317995551584744 and parameters: {'num_leaves': 153}. Best is trial 9 with value: 2.2254497637444857.\u001b[0m\n",
            "\n",
            "num_leaves, val_score: 2.224897:  45%|####5     | 9/20 [02:12<02:55, 15.91s/it]\u001b[A"
          ],
          "name": "stderr"
        },
        {
          "output_type": "stream",
          "text": [
            "Early stopping, best iteration is:\n",
            "[44]\tvalid_0's l1: 2.2318\n",
            "Training until validation scores don't improve for 100 rounds.\n",
            "[100]\tvalid_0's l1: 2.23403\n"
          ],
          "name": "stdout"
        },
        {
          "output_type": "stream",
          "text": [
            "\n",
            "num_leaves, val_score: 2.224897:  45%|####5     | 9/20 [02:20<02:55, 15.91s/it]\u001b[A\n",
            "num_leaves, val_score: 2.224897:  50%|#####     | 10/20 [02:20<02:16, 13.67s/it]\u001b[A\u001b[32m[I 2021-07-08 09:08:59,508]\u001b[0m Trial 16 finished with value: 2.2298467410420235 and parameters: {'num_leaves': 34}. Best is trial 9 with value: 2.2254497637444857.\u001b[0m\n",
            "\n",
            "num_leaves, val_score: 2.224897:  50%|#####     | 10/20 [02:20<02:16, 13.67s/it]\u001b[A"
          ],
          "name": "stderr"
        },
        {
          "output_type": "stream",
          "text": [
            "Early stopping, best iteration is:\n",
            "[48]\tvalid_0's l1: 2.22985\n",
            "Training until validation scores don't improve for 100 rounds.\n",
            "[100]\tvalid_0's l1: 2.23981\n"
          ],
          "name": "stdout"
        },
        {
          "output_type": "stream",
          "text": [
            "\n",
            "num_leaves, val_score: 2.224897:  50%|#####     | 10/20 [02:29<02:16, 13.67s/it]\u001b[A\n",
            "num_leaves, val_score: 2.224897:  55%|#####5    | 11/20 [02:29<01:50, 12.23s/it]\u001b[A\u001b[32m[I 2021-07-08 09:09:08,380]\u001b[0m Trial 17 finished with value: 2.2268650139953357 and parameters: {'num_leaves': 94}. Best is trial 9 with value: 2.2254497637444857.\u001b[0m\n",
            "\n",
            "num_leaves, val_score: 2.224897:  55%|#####5    | 11/20 [02:29<01:50, 12.23s/it]\u001b[A"
          ],
          "name": "stderr"
        },
        {
          "output_type": "stream",
          "text": [
            "Early stopping, best iteration is:\n",
            "[27]\tvalid_0's l1: 2.22687\n",
            "Training until validation scores don't improve for 100 rounds.\n",
            "[100]\tvalid_0's l1: 2.2313\n"
          ],
          "name": "stdout"
        },
        {
          "output_type": "stream",
          "text": [
            "\n",
            "num_leaves, val_score: 2.224486:  55%|#####5    | 11/20 [02:41<01:50, 12.23s/it]\u001b[A\n",
            "num_leaves, val_score: 2.224486:  60%|######    | 12/20 [02:41<01:36, 12.12s/it]\u001b[A\u001b[32m[I 2021-07-08 09:09:20,223]\u001b[0m Trial 18 finished with value: 2.224486402637243 and parameters: {'num_leaves': 245}. Best is trial 18 with value: 2.224486402637243.\u001b[0m\n",
            "\n",
            "num_leaves, val_score: 2.224486:  60%|######    | 12/20 [02:41<01:36, 12.12s/it]\u001b[A"
          ],
          "name": "stderr"
        },
        {
          "output_type": "stream",
          "text": [
            "Early stopping, best iteration is:\n",
            "[29]\tvalid_0's l1: 2.22449\n",
            "Training until validation scores don't improve for 100 rounds.\n",
            "[100]\tvalid_0's l1: 2.23452\n"
          ],
          "name": "stdout"
        },
        {
          "output_type": "stream",
          "text": [
            "\n",
            "num_leaves, val_score: 2.222938:  60%|######    | 12/20 [02:50<01:36, 12.12s/it]\u001b[A\n",
            "num_leaves, val_score: 2.222938:  65%|######5   | 13/20 [02:50<01:18, 11.17s/it]\u001b[A\u001b[32m[I 2021-07-08 09:09:29,171]\u001b[0m Trial 19 finished with value: 2.2229382230877963 and parameters: {'num_leaves': 81}. Best is trial 19 with value: 2.2229382230877963.\u001b[0m\n",
            "\n",
            "num_leaves, val_score: 2.222938:  65%|######5   | 13/20 [02:50<01:18, 11.17s/it]\u001b[A"
          ],
          "name": "stderr"
        },
        {
          "output_type": "stream",
          "text": [
            "Early stopping, best iteration is:\n",
            "[33]\tvalid_0's l1: 2.22294\n",
            "Training until validation scores don't improve for 100 rounds.\n",
            "[100]\tvalid_0's l1: 2.24532\n"
          ],
          "name": "stdout"
        },
        {
          "output_type": "stream",
          "text": [
            "\n",
            "num_leaves, val_score: 2.222938:  65%|######5   | 13/20 [03:01<01:18, 11.17s/it]\u001b[A\n",
            "num_leaves, val_score: 2.222938:  70%|#######   | 14/20 [03:01<01:07, 11.20s/it]\u001b[A\u001b[32m[I 2021-07-08 09:09:40,454]\u001b[0m Trial 20 finished with value: 2.229998722195561 and parameters: {'num_leaves': 199}. Best is trial 19 with value: 2.2229382230877963.\u001b[0m\n",
            "\n",
            "num_leaves, val_score: 2.222938:  70%|#######   | 14/20 [03:01<01:07, 11.20s/it]\u001b[A"
          ],
          "name": "stderr"
        },
        {
          "output_type": "stream",
          "text": [
            "Early stopping, best iteration is:\n",
            "[30]\tvalid_0's l1: 2.23\n",
            "Training until validation scores don't improve for 100 rounds.\n",
            "[100]\tvalid_0's l1: 2.24308\n"
          ],
          "name": "stdout"
        },
        {
          "output_type": "stream",
          "text": [
            "\n",
            "num_leaves, val_score: 2.222938:  70%|#######   | 14/20 [03:11<01:07, 11.20s/it]\u001b[A\n",
            "num_leaves, val_score: 2.222938:  75%|#######5  | 15/20 [03:11<00:53, 10.62s/it]\u001b[A\u001b[32m[I 2021-07-08 09:09:49,714]\u001b[0m Trial 21 finished with value: 2.227183863591577 and parameters: {'num_leaves': 90}. Best is trial 19 with value: 2.2229382230877963.\u001b[0m\n",
            "\n",
            "num_leaves, val_score: 2.222938:  75%|#######5  | 15/20 [03:11<00:53, 10.62s/it]\u001b[A"
          ],
          "name": "stderr"
        },
        {
          "output_type": "stream",
          "text": [
            "Early stopping, best iteration is:\n",
            "[30]\tvalid_0's l1: 2.22718\n",
            "Training until validation scores don't improve for 100 rounds.\n",
            "[100]\tvalid_0's l1: 2.23199\n"
          ],
          "name": "stdout"
        },
        {
          "output_type": "stream",
          "text": [
            "\n",
            "num_leaves, val_score: 2.222938:  75%|#######5  | 15/20 [03:20<00:53, 10.62s/it]\u001b[A\n",
            "num_leaves, val_score: 2.222938:  80%|########  | 16/20 [03:20<00:41, 10.28s/it]\u001b[A\u001b[32m[I 2021-07-08 09:09:59,213]\u001b[0m Trial 22 finished with value: 2.225528730923997 and parameters: {'num_leaves': 131}. Best is trial 19 with value: 2.2229382230877963.\u001b[0m\n",
            "\n",
            "num_leaves, val_score: 2.222938:  80%|########  | 16/20 [03:20<00:41, 10.28s/it]\u001b[A"
          ],
          "name": "stderr"
        },
        {
          "output_type": "stream",
          "text": [
            "Early stopping, best iteration is:\n",
            "[26]\tvalid_0's l1: 2.22553\n",
            "Training until validation scores don't improve for 100 rounds.\n",
            "[100]\tvalid_0's l1: 2.22425\n"
          ],
          "name": "stdout"
        },
        {
          "output_type": "stream",
          "text": [
            "\n",
            "num_leaves, val_score: 2.215979:  80%|########  | 16/20 [03:29<00:41, 10.28s/it]\u001b[A\n",
            "num_leaves, val_score: 2.215979:  85%|########5 | 17/20 [03:29<00:29,  9.86s/it]\u001b[A\u001b[32m[I 2021-07-08 09:10:08,086]\u001b[0m Trial 23 finished with value: 2.2159792332076704 and parameters: {'num_leaves': 65}. Best is trial 23 with value: 2.2159792332076704.\u001b[0m\n",
            "\n",
            "num_leaves, val_score: 2.215979:  85%|########5 | 17/20 [03:29<00:29,  9.86s/it]\u001b[A"
          ],
          "name": "stderr"
        },
        {
          "output_type": "stream",
          "text": [
            "Early stopping, best iteration is:\n",
            "[39]\tvalid_0's l1: 2.21598\n",
            "Training until validation scores don't improve for 100 rounds.\n",
            "[100]\tvalid_0's l1: 2.22626\n",
            "[200]\tvalid_0's l1: 2.22691\n"
          ],
          "name": "stdout"
        },
        {
          "output_type": "stream",
          "text": [
            "\n",
            "num_leaves, val_score: 2.215979:  85%|########5 | 17/20 [03:42<00:29,  9.86s/it]\u001b[A\n",
            "num_leaves, val_score: 2.215979:  90%|######### | 18/20 [03:42<00:21, 10.82s/it]\u001b[A\u001b[32m[I 2021-07-08 09:10:21,150]\u001b[0m Trial 24 finished with value: 2.2236171154303475 and parameters: {'num_leaves': 64}. Best is trial 23 with value: 2.2159792332076704.\u001b[0m\n",
            "\n",
            "num_leaves, val_score: 2.215979:  90%|######### | 18/20 [03:42<00:21, 10.82s/it]\u001b[A"
          ],
          "name": "stderr"
        },
        {
          "output_type": "stream",
          "text": [
            "Early stopping, best iteration is:\n",
            "[117]\tvalid_0's l1: 2.22362\n",
            "Training until validation scores don't improve for 100 rounds.\n",
            "[100]\tvalid_0's l1: 2.2326\n"
          ],
          "name": "stdout"
        },
        {
          "output_type": "stream",
          "text": [
            "\n",
            "num_leaves, val_score: 2.215979:  90%|######### | 18/20 [03:51<00:21, 10.82s/it]\u001b[A\n",
            "num_leaves, val_score: 2.215979:  95%|#########5| 19/20 [03:51<00:10, 10.16s/it]\u001b[A\u001b[32m[I 2021-07-08 09:10:29,765]\u001b[0m Trial 25 finished with value: 2.2244079160004047 and parameters: {'num_leaves': 76}. Best is trial 23 with value: 2.2159792332076704.\u001b[0m\n",
            "\n",
            "num_leaves, val_score: 2.215979:  95%|#########5| 19/20 [03:51<00:10, 10.16s/it]\u001b[A"
          ],
          "name": "stderr"
        },
        {
          "output_type": "stream",
          "text": [
            "Early stopping, best iteration is:\n",
            "[30]\tvalid_0's l1: 2.22441\n",
            "Training until validation scores don't improve for 100 rounds.\n",
            "[100]\tvalid_0's l1: 2.23779\n"
          ],
          "name": "stdout"
        },
        {
          "output_type": "stream",
          "text": [
            "\n",
            "num_leaves, val_score: 2.215979:  95%|#########5| 19/20 [04:00<00:10, 10.16s/it]\u001b[A\n",
            "num_leaves, val_score: 2.215979: 100%|##########| 20/20 [04:00<00:00, 10.02s/it]\u001b[A\u001b[32m[I 2021-07-08 09:10:39,456]\u001b[0m Trial 26 finished with value: 2.2197402437357394 and parameters: {'num_leaves': 112}. Best is trial 23 with value: 2.2159792332076704.\u001b[0m\n",
            "num_leaves, val_score: 2.215979: 100%|##########| 20/20 [04:00<00:00, 12.05s/it]\n",
            "\n",
            "  0%|          | 0/10 [00:00<?, ?it/s]\u001b[A\n",
            "bagging, val_score: 2.215979:   0%|          | 0/10 [00:00<?, ?it/s]\u001b[A"
          ],
          "name": "stderr"
        },
        {
          "output_type": "stream",
          "text": [
            "Early stopping, best iteration is:\n",
            "[33]\tvalid_0's l1: 2.21974\n",
            "Training until validation scores don't improve for 100 rounds.\n",
            "[100]\tvalid_0's l1: 2.23775\n"
          ],
          "name": "stdout"
        },
        {
          "output_type": "stream",
          "text": [
            "\n",
            "bagging, val_score: 2.215979:   0%|          | 0/10 [00:08<?, ?it/s]\u001b[A\n",
            "bagging, val_score: 2.215979:  10%|#         | 1/10 [00:08<01:13,  8.22s/it]\u001b[A\u001b[32m[I 2021-07-08 09:10:47,701]\u001b[0m Trial 27 finished with value: 2.225802660378339 and parameters: {'bagging_fraction': 0.7138609129154996, 'bagging_freq': 6}. Best is trial 27 with value: 2.225802660378339.\u001b[0m\n",
            "\n",
            "bagging, val_score: 2.215979:  10%|#         | 1/10 [00:08<01:13,  8.22s/it]\u001b[A"
          ],
          "name": "stderr"
        },
        {
          "output_type": "stream",
          "text": [
            "Early stopping, best iteration is:\n",
            "[35]\tvalid_0's l1: 2.2258\n",
            "Training until validation scores don't improve for 100 rounds.\n",
            "[100]\tvalid_0's l1: 2.23783\n"
          ],
          "name": "stdout"
        },
        {
          "output_type": "stream",
          "text": [
            "\n",
            "bagging, val_score: 2.215979:  10%|#         | 1/10 [00:17<01:13,  8.22s/it]\u001b[A\n",
            "bagging, val_score: 2.215979:  20%|##        | 2/10 [00:17<01:07,  8.44s/it]\u001b[A\u001b[32m[I 2021-07-08 09:10:56,662]\u001b[0m Trial 28 finished with value: 2.2234607312564187 and parameters: {'bagging_fraction': 0.9065816433090902, 'bagging_freq': 6}. Best is trial 28 with value: 2.2234607312564187.\u001b[0m\n",
            "\n",
            "bagging, val_score: 2.215979:  20%|##        | 2/10 [00:17<01:07,  8.44s/it]\u001b[A"
          ],
          "name": "stderr"
        },
        {
          "output_type": "stream",
          "text": [
            "Early stopping, best iteration is:\n",
            "[32]\tvalid_0's l1: 2.22346\n",
            "Training until validation scores don't improve for 100 rounds.\n",
            "[100]\tvalid_0's l1: 2.22848\n"
          ],
          "name": "stdout"
        },
        {
          "output_type": "stream",
          "text": [
            "\n",
            "bagging, val_score: 2.215979:  20%|##        | 2/10 [00:23<01:07,  8.44s/it]\u001b[A\n",
            "bagging, val_score: 2.215979:  30%|###       | 3/10 [00:23<00:54,  7.84s/it]\u001b[A\u001b[32m[I 2021-07-08 09:11:03,089]\u001b[0m Trial 29 finished with value: 2.220846713782665 and parameters: {'bagging_fraction': 0.4009746428129546, 'bagging_freq': 6}. Best is trial 29 with value: 2.220846713782665.\u001b[0m\n",
            "\n",
            "bagging, val_score: 2.215979:  30%|###       | 3/10 [00:23<00:54,  7.84s/it]\u001b[A"
          ],
          "name": "stderr"
        },
        {
          "output_type": "stream",
          "text": [
            "Early stopping, best iteration is:\n",
            "[42]\tvalid_0's l1: 2.22085\n",
            "Training until validation scores don't improve for 100 rounds.\n",
            "[100]\tvalid_0's l1: 2.24616\n"
          ],
          "name": "stdout"
        },
        {
          "output_type": "stream",
          "text": [
            "\n",
            "bagging, val_score: 2.215979:  30%|###       | 3/10 [00:30<00:54,  7.84s/it]\u001b[A\n",
            "bagging, val_score: 2.215979:  40%|####      | 4/10 [00:30<00:45,  7.61s/it]\u001b[A\u001b[32m[I 2021-07-08 09:11:10,183]\u001b[0m Trial 30 finished with value: 2.2261410933909005 and parameters: {'bagging_fraction': 0.6268584856013836, 'bagging_freq': 5}. Best is trial 29 with value: 2.220846713782665.\u001b[0m\n",
            "\n",
            "bagging, val_score: 2.215979:  40%|####      | 4/10 [00:30<00:45,  7.61s/it]\u001b[A"
          ],
          "name": "stderr"
        },
        {
          "output_type": "stream",
          "text": [
            "Early stopping, best iteration is:\n",
            "[27]\tvalid_0's l1: 2.22614\n",
            "Training until validation scores don't improve for 100 rounds.\n",
            "[100]\tvalid_0's l1: 2.24142\n"
          ],
          "name": "stdout"
        },
        {
          "output_type": "stream",
          "text": [
            "\n",
            "bagging, val_score: 2.215979:  40%|####      | 4/10 [00:39<00:45,  7.61s/it]\u001b[A\n",
            "bagging, val_score: 2.215979:  50%|#####     | 5/10 [00:39<00:39,  7.85s/it]\u001b[A\u001b[32m[I 2021-07-08 09:11:18,576]\u001b[0m Trial 31 finished with value: 2.2265593806151314 and parameters: {'bagging_fraction': 0.7772761254278799, 'bagging_freq': 4}. Best is trial 29 with value: 2.220846713782665.\u001b[0m\n",
            "\n",
            "bagging, val_score: 2.215979:  50%|#####     | 5/10 [00:39<00:39,  7.85s/it]\u001b[A"
          ],
          "name": "stderr"
        },
        {
          "output_type": "stream",
          "text": [
            "Early stopping, best iteration is:\n",
            "[35]\tvalid_0's l1: 2.22656\n",
            "Training until validation scores don't improve for 100 rounds.\n",
            "[100]\tvalid_0's l1: 2.23477\n"
          ],
          "name": "stdout"
        },
        {
          "output_type": "stream",
          "text": [
            "\n",
            "bagging, val_score: 2.215979:  50%|#####     | 5/10 [00:47<00:39,  7.85s/it]\u001b[A\n",
            "bagging, val_score: 2.215979:  60%|######    | 6/10 [00:47<00:31,  7.98s/it]\u001b[A\u001b[32m[I 2021-07-08 09:11:26,868]\u001b[0m Trial 32 finished with value: 2.2178837626181775 and parameters: {'bagging_fraction': 0.7531457142113333, 'bagging_freq': 3}. Best is trial 32 with value: 2.2178837626181775.\u001b[0m\n",
            "\n",
            "bagging, val_score: 2.215979:  60%|######    | 6/10 [00:47<00:31,  7.98s/it]\u001b[A"
          ],
          "name": "stderr"
        },
        {
          "output_type": "stream",
          "text": [
            "Early stopping, best iteration is:\n",
            "[33]\tvalid_0's l1: 2.21788\n",
            "Training until validation scores don't improve for 100 rounds.\n",
            "[100]\tvalid_0's l1: 2.23375\n"
          ],
          "name": "stdout"
        },
        {
          "output_type": "stream",
          "text": [
            "\n",
            "bagging, val_score: 2.215979:  60%|######    | 6/10 [00:53<00:31,  7.98s/it]\u001b[A\n",
            "bagging, val_score: 2.215979:  70%|#######   | 7/10 [00:53<00:22,  7.55s/it]\u001b[A\u001b[32m[I 2021-07-08 09:11:33,417]\u001b[0m Trial 33 finished with value: 2.226082811699453 and parameters: {'bagging_fraction': 0.4491199045664842, 'bagging_freq': 3}. Best is trial 32 with value: 2.2178837626181775.\u001b[0m\n",
            "\n",
            "bagging, val_score: 2.215979:  70%|#######   | 7/10 [00:53<00:22,  7.55s/it]\u001b[A"
          ],
          "name": "stderr"
        },
        {
          "output_type": "stream",
          "text": [
            "Early stopping, best iteration is:\n",
            "[36]\tvalid_0's l1: 2.22608\n",
            "Training until validation scores don't improve for 100 rounds.\n",
            "[100]\tvalid_0's l1: 2.24023\n"
          ],
          "name": "stdout"
        },
        {
          "output_type": "stream",
          "text": [
            "\n",
            "bagging, val_score: 2.215979:  70%|#######   | 7/10 [01:01<00:22,  7.55s/it]\u001b[A\n",
            "bagging, val_score: 2.215979:  80%|########  | 8/10 [01:01<00:15,  7.69s/it]\u001b[A\u001b[32m[I 2021-07-08 09:11:41,437]\u001b[0m Trial 34 finished with value: 2.2277356844697005 and parameters: {'bagging_fraction': 0.7453529678487716, 'bagging_freq': 3}. Best is trial 32 with value: 2.2178837626181775.\u001b[0m\n",
            "\n",
            "bagging, val_score: 2.215979:  80%|########  | 8/10 [01:01<00:15,  7.69s/it]\u001b[A"
          ],
          "name": "stderr"
        },
        {
          "output_type": "stream",
          "text": [
            "Early stopping, best iteration is:\n",
            "[29]\tvalid_0's l1: 2.22774\n",
            "Training until validation scores don't improve for 100 rounds.\n",
            "[100]\tvalid_0's l1: 2.24083\n"
          ],
          "name": "stdout"
        },
        {
          "output_type": "stream",
          "text": [
            "\n",
            "bagging, val_score: 2.215979:  80%|########  | 8/10 [01:08<00:15,  7.69s/it]\u001b[A\n",
            "bagging, val_score: 2.215979:  90%|######### | 9/10 [01:08<00:07,  7.23s/it]\u001b[A\u001b[32m[I 2021-07-08 09:11:47,576]\u001b[0m Trial 35 finished with value: 2.2270160320363743 and parameters: {'bagging_fraction': 0.43551946737006975, 'bagging_freq': 5}. Best is trial 32 with value: 2.2178837626181775.\u001b[0m\n",
            "\n",
            "bagging, val_score: 2.215979:  90%|######### | 9/10 [01:08<00:07,  7.23s/it]\u001b[A"
          ],
          "name": "stderr"
        },
        {
          "output_type": "stream",
          "text": [
            "Early stopping, best iteration is:\n",
            "[28]\tvalid_0's l1: 2.22702\n",
            "Training until validation scores don't improve for 100 rounds.\n",
            "[100]\tvalid_0's l1: 2.24418\n"
          ],
          "name": "stdout"
        },
        {
          "output_type": "stream",
          "text": [
            "\n",
            "bagging, val_score: 2.215979:  90%|######### | 9/10 [01:15<00:07,  7.23s/it]\u001b[A\n",
            "bagging, val_score: 2.215979: 100%|##########| 10/10 [01:15<00:00,  7.40s/it]\u001b[A\u001b[32m[I 2021-07-08 09:11:55,373]\u001b[0m Trial 36 finished with value: 2.227987433444456 and parameters: {'bagging_fraction': 0.6708228711708046, 'bagging_freq': 5}. Best is trial 32 with value: 2.2178837626181775.\u001b[0m\n",
            "bagging, val_score: 2.215979: 100%|##########| 10/10 [01:15<00:00,  7.59s/it]\n",
            "\n",
            "  0%|          | 0/6 [00:00<?, ?it/s]\u001b[A\n",
            "feature_fraction_stage2, val_score: 2.215979:   0%|          | 0/6 [00:00<?, ?it/s]\u001b[A"
          ],
          "name": "stderr"
        },
        {
          "output_type": "stream",
          "text": [
            "Early stopping, best iteration is:\n",
            "[35]\tvalid_0's l1: 2.22799\n",
            "Training until validation scores don't improve for 100 rounds.\n",
            "[100]\tvalid_0's l1: 2.23681\n"
          ],
          "name": "stdout"
        },
        {
          "output_type": "stream",
          "text": [
            "\n",
            "feature_fraction_stage2, val_score: 2.215979:   0%|          | 0/6 [00:08<?, ?it/s]\u001b[A\n",
            "feature_fraction_stage2, val_score: 2.215979:  17%|#6        | 1/6 [00:08<00:42,  8.45s/it]\u001b[A\u001b[32m[I 2021-07-08 09:12:03,847]\u001b[0m Trial 37 finished with value: 2.223030014433307 and parameters: {'feature_fraction': 0.584}. Best is trial 37 with value: 2.223030014433307.\u001b[0m\n",
            "\n",
            "feature_fraction_stage2, val_score: 2.215979:  17%|#6        | 1/6 [00:08<00:42,  8.45s/it]\u001b[A"
          ],
          "name": "stderr"
        },
        {
          "output_type": "stream",
          "text": [
            "Early stopping, best iteration is:\n",
            "[35]\tvalid_0's l1: 2.22303\n",
            "Training until validation scores don't improve for 100 rounds.\n",
            "[100]\tvalid_0's l1: 2.23486\n"
          ],
          "name": "stdout"
        },
        {
          "output_type": "stream",
          "text": [
            "\n",
            "feature_fraction_stage2, val_score: 2.215979:  17%|#6        | 1/6 [00:17<00:42,  8.45s/it]\u001b[A\n",
            "feature_fraction_stage2, val_score: 2.215979:  33%|###3      | 2/6 [00:17<00:34,  8.60s/it]\u001b[A\u001b[32m[I 2021-07-08 09:12:12,776]\u001b[0m Trial 38 finished with value: 2.228096595868377 and parameters: {'feature_fraction': 0.616}. Best is trial 37 with value: 2.223030014433307.\u001b[0m\n",
            "\n",
            "feature_fraction_stage2, val_score: 2.215979:  33%|###3      | 2/6 [00:17<00:34,  8.60s/it]\u001b[A"
          ],
          "name": "stderr"
        },
        {
          "output_type": "stream",
          "text": [
            "Early stopping, best iteration is:\n",
            "[39]\tvalid_0's l1: 2.2281\n",
            "Training until validation scores don't improve for 100 rounds.\n",
            "[100]\tvalid_0's l1: 2.23092\n"
          ],
          "name": "stdout"
        },
        {
          "output_type": "stream",
          "text": [
            "\n",
            "feature_fraction_stage2, val_score: 2.215979:  33%|###3      | 2/6 [00:26<00:34,  8.60s/it]\u001b[A\n",
            "feature_fraction_stage2, val_score: 2.215979:  50%|#####     | 3/6 [00:26<00:25,  8.62s/it]\u001b[A\u001b[32m[I 2021-07-08 09:12:21,443]\u001b[0m Trial 39 finished with value: 2.221690478544689 and parameters: {'feature_fraction': 0.52}. Best is trial 39 with value: 2.221690478544689.\u001b[0m\n",
            "\n",
            "feature_fraction_stage2, val_score: 2.215979:  50%|#####     | 3/6 [00:26<00:25,  8.62s/it]\u001b[A"
          ],
          "name": "stderr"
        },
        {
          "output_type": "stream",
          "text": [
            "Early stopping, best iteration is:\n",
            "[42]\tvalid_0's l1: 2.22169\n",
            "Training until validation scores don't improve for 100 rounds.\n",
            "[100]\tvalid_0's l1: 2.23251\n"
          ],
          "name": "stdout"
        },
        {
          "output_type": "stream",
          "text": [
            "\n",
            "feature_fraction_stage2, val_score: 2.215979:  50%|#####     | 3/6 [00:34<00:25,  8.62s/it]\u001b[A\n",
            "feature_fraction_stage2, val_score: 2.215979:  67%|######6   | 4/6 [00:34<00:17,  8.61s/it]\u001b[A\u001b[32m[I 2021-07-08 09:12:30,052]\u001b[0m Trial 40 finished with value: 2.22812588136387 and parameters: {'feature_fraction': 0.552}. Best is trial 39 with value: 2.221690478544689.\u001b[0m\n",
            "\n",
            "feature_fraction_stage2, val_score: 2.215979:  67%|######6   | 4/6 [00:34<00:17,  8.61s/it]\u001b[A"
          ],
          "name": "stderr"
        },
        {
          "output_type": "stream",
          "text": [
            "Early stopping, best iteration is:\n",
            "[37]\tvalid_0's l1: 2.22813\n",
            "Training until validation scores don't improve for 100 rounds.\n",
            "[100]\tvalid_0's l1: 2.2379\n"
          ],
          "name": "stdout"
        },
        {
          "output_type": "stream",
          "text": [
            "\n",
            "feature_fraction_stage2, val_score: 2.215979:  67%|######6   | 4/6 [00:43<00:17,  8.61s/it]\u001b[A\n",
            "feature_fraction_stage2, val_score: 2.215979:  83%|########3 | 5/6 [00:43<00:08,  8.62s/it]\u001b[A\u001b[32m[I 2021-07-08 09:12:38,684]\u001b[0m Trial 41 finished with value: 2.228465499169794 and parameters: {'feature_fraction': 0.6799999999999999}. Best is trial 39 with value: 2.221690478544689.\u001b[0m\n",
            "\n",
            "feature_fraction_stage2, val_score: 2.215979:  83%|########3 | 5/6 [00:43<00:08,  8.62s/it]\u001b[A"
          ],
          "name": "stderr"
        },
        {
          "output_type": "stream",
          "text": [
            "Early stopping, best iteration is:\n",
            "[31]\tvalid_0's l1: 2.22847\n",
            "Training until validation scores don't improve for 100 rounds.\n",
            "[100]\tvalid_0's l1: 2.22782\n"
          ],
          "name": "stdout"
        },
        {
          "output_type": "stream",
          "text": [
            "\n",
            "feature_fraction_stage2, val_score: 2.215979:  83%|########3 | 5/6 [00:51<00:08,  8.62s/it]\u001b[A\n",
            "feature_fraction_stage2, val_score: 2.215979: 100%|##########| 6/6 [00:51<00:00,  8.65s/it]\u001b[A\u001b[32m[I 2021-07-08 09:12:47,391]\u001b[0m Trial 42 finished with value: 2.224077376317236 and parameters: {'feature_fraction': 0.6479999999999999}. Best is trial 39 with value: 2.221690478544689.\u001b[0m\n",
            "feature_fraction_stage2, val_score: 2.215979: 100%|##########| 6/6 [00:52<00:00,  8.67s/it]\n",
            "\n",
            "  0%|          | 0/20 [00:00<?, ?it/s]\u001b[A\n",
            "regularization_factors, val_score: 2.215979:   0%|          | 0/20 [00:00<?, ?it/s]\u001b[A"
          ],
          "name": "stderr"
        },
        {
          "output_type": "stream",
          "text": [
            "Early stopping, best iteration is:\n",
            "[34]\tvalid_0's l1: 2.22408\n",
            "Training until validation scores don't improve for 100 rounds.\n",
            "[100]\tvalid_0's l1: 2.23412\n"
          ],
          "name": "stdout"
        },
        {
          "output_type": "stream",
          "text": [
            "\n",
            "regularization_factors, val_score: 2.215979:   0%|          | 0/20 [00:08<?, ?it/s]\u001b[A\n",
            "regularization_factors, val_score: 2.215979:   5%|5         | 1/20 [00:08<02:37,  8.31s/it]\u001b[A\u001b[32m[I 2021-07-08 09:12:55,728]\u001b[0m Trial 43 finished with value: 2.227665895812895 and parameters: {'lambda_l1': 0.043339288805706803, 'lambda_l2': 2.2396637981620007}. Best is trial 43 with value: 2.227665895812895.\u001b[0m\n",
            "\n",
            "regularization_factors, val_score: 2.215979:   5%|5         | 1/20 [00:08<02:37,  8.31s/it]\u001b[A"
          ],
          "name": "stderr"
        },
        {
          "output_type": "stream",
          "text": [
            "Early stopping, best iteration is:\n",
            "[28]\tvalid_0's l1: 2.22767\n",
            "Training until validation scores don't improve for 100 rounds.\n",
            "[100]\tvalid_0's l1: 2.23244\n"
          ],
          "name": "stdout"
        },
        {
          "output_type": "stream",
          "text": [
            "\n",
            "regularization_factors, val_score: 2.215979:   5%|5         | 1/20 [00:16<02:37,  8.31s/it]\u001b[A\n",
            "regularization_factors, val_score: 2.215979:  10%|#         | 2/20 [00:16<02:29,  8.29s/it]\u001b[A\u001b[32m[I 2021-07-08 09:13:03,961]\u001b[0m Trial 44 finished with value: 2.2243763019416867 and parameters: {'lambda_l1': 2.507543342821095e-06, 'lambda_l2': 0.13803970886789077}. Best is trial 44 with value: 2.2243763019416867.\u001b[0m\n",
            "\n",
            "regularization_factors, val_score: 2.215979:  10%|#         | 2/20 [00:16<02:29,  8.29s/it]\u001b[A"
          ],
          "name": "stderr"
        },
        {
          "output_type": "stream",
          "text": [
            "Early stopping, best iteration is:\n",
            "[28]\tvalid_0's l1: 2.22438\n",
            "Training until validation scores don't improve for 100 rounds.\n",
            "[100]\tvalid_0's l1: 2.23695\n"
          ],
          "name": "stdout"
        },
        {
          "output_type": "stream",
          "text": [
            "\n",
            "regularization_factors, val_score: 2.215979:  10%|#         | 2/20 [00:25<02:29,  8.29s/it]\u001b[A\n",
            "regularization_factors, val_score: 2.215979:  15%|#5        | 3/20 [00:25<02:23,  8.43s/it]\u001b[A\u001b[32m[I 2021-07-08 09:13:12,717]\u001b[0m Trial 45 finished with value: 2.2248498190992843 and parameters: {'lambda_l1': 0.1085568001314619, 'lambda_l2': 2.1657960708541957e-08}. Best is trial 44 with value: 2.2243763019416867.\u001b[0m\n",
            "\n",
            "regularization_factors, val_score: 2.215979:  15%|#5        | 3/20 [00:25<02:23,  8.43s/it]\u001b[A"
          ],
          "name": "stderr"
        },
        {
          "output_type": "stream",
          "text": [
            "Early stopping, best iteration is:\n",
            "[35]\tvalid_0's l1: 2.22485\n",
            "Training until validation scores don't improve for 100 rounds.\n",
            "[100]\tvalid_0's l1: 2.23654\n"
          ],
          "name": "stdout"
        },
        {
          "output_type": "stream",
          "text": [
            "\n",
            "regularization_factors, val_score: 2.215979:  15%|#5        | 3/20 [00:34<02:23,  8.43s/it]\u001b[A\n",
            "regularization_factors, val_score: 2.215979:  20%|##        | 4/20 [00:34<02:17,  8.57s/it]\u001b[A\u001b[32m[I 2021-07-08 09:13:21,599]\u001b[0m Trial 46 finished with value: 2.225639196003712 and parameters: {'lambda_l1': 1.7475998198412813e-06, 'lambda_l2': 0.02830940906346076}. Best is trial 44 with value: 2.2243763019416867.\u001b[0m\n",
            "\n",
            "regularization_factors, val_score: 2.215979:  20%|##        | 4/20 [00:34<02:17,  8.57s/it]\u001b[A"
          ],
          "name": "stderr"
        },
        {
          "output_type": "stream",
          "text": [
            "Early stopping, best iteration is:\n",
            "[41]\tvalid_0's l1: 2.22564\n",
            "Training until validation scores don't improve for 100 rounds.\n",
            "[100]\tvalid_0's l1: 2.23318\n"
          ],
          "name": "stdout"
        },
        {
          "output_type": "stream",
          "text": [
            "\n",
            "regularization_factors, val_score: 2.215979:  20%|##        | 4/20 [00:43<02:17,  8.57s/it]\u001b[A\n",
            "regularization_factors, val_score: 2.215979:  25%|##5       | 5/20 [00:43<02:09,  8.65s/it]\u001b[A\u001b[32m[I 2021-07-08 09:13:30,463]\u001b[0m Trial 47 finished with value: 2.220998067409785 and parameters: {'lambda_l1': 2.055957417777168e-06, 'lambda_l2': 7.025527754993789}. Best is trial 47 with value: 2.220998067409785.\u001b[0m\n",
            "\n",
            "regularization_factors, val_score: 2.215979:  25%|##5       | 5/20 [00:43<02:09,  8.65s/it]\u001b[A"
          ],
          "name": "stderr"
        },
        {
          "output_type": "stream",
          "text": [
            "Early stopping, best iteration is:\n",
            "[41]\tvalid_0's l1: 2.221\n",
            "Training until validation scores don't improve for 100 rounds.\n",
            "[100]\tvalid_0's l1: 2.23752\n"
          ],
          "name": "stdout"
        },
        {
          "output_type": "stream",
          "text": [
            "\n",
            "regularization_factors, val_score: 2.215979:  25%|##5       | 5/20 [00:51<02:09,  8.65s/it]\u001b[A\n",
            "regularization_factors, val_score: 2.215979:  30%|###       | 6/20 [00:51<01:59,  8.53s/it]\u001b[A\u001b[32m[I 2021-07-08 09:13:38,715]\u001b[0m Trial 48 finished with value: 2.2243763019416867 and parameters: {'lambda_l1': 0.038736049398299714, 'lambda_l2': 4.3926222704218156e-07}. Best is trial 47 with value: 2.220998067409785.\u001b[0m\n",
            "\n",
            "regularization_factors, val_score: 2.215979:  30%|###       | 6/20 [00:51<01:59,  8.53s/it]\u001b[A"
          ],
          "name": "stderr"
        },
        {
          "output_type": "stream",
          "text": [
            "Early stopping, best iteration is:\n",
            "[28]\tvalid_0's l1: 2.22438\n",
            "Training until validation scores don't improve for 100 rounds.\n",
            "[100]\tvalid_0's l1: 2.2344\n"
          ],
          "name": "stdout"
        },
        {
          "output_type": "stream",
          "text": [
            "\n",
            "regularization_factors, val_score: 2.215979:  30%|###       | 6/20 [01:00<01:59,  8.53s/it]\u001b[A\n",
            "regularization_factors, val_score: 2.215979:  35%|###5      | 7/20 [01:00<01:52,  8.63s/it]\u001b[A\u001b[32m[I 2021-07-08 09:13:47,560]\u001b[0m Trial 49 finished with value: 2.2256391960037116 and parameters: {'lambda_l1': 2.9473975845973982e-08, 'lambda_l2': 0.002147456470681139}. Best is trial 47 with value: 2.220998067409785.\u001b[0m\n",
            "\n",
            "regularization_factors, val_score: 2.215979:  35%|###5      | 7/20 [01:00<01:52,  8.63s/it]\u001b[A"
          ],
          "name": "stderr"
        },
        {
          "output_type": "stream",
          "text": [
            "Early stopping, best iteration is:\n",
            "[41]\tvalid_0's l1: 2.22564\n",
            "Training until validation scores don't improve for 100 rounds.\n",
            "[100]\tvalid_0's l1: 2.22407\n"
          ],
          "name": "stdout"
        },
        {
          "output_type": "stream",
          "text": [
            "\n",
            "regularization_factors, val_score: 2.215979:  35%|###5      | 7/20 [01:08<01:52,  8.63s/it]\u001b[A\n",
            "regularization_factors, val_score: 2.215979:  40%|####      | 8/20 [01:08<01:44,  8.69s/it]\u001b[A\u001b[32m[I 2021-07-08 09:13:56,391]\u001b[0m Trial 50 finished with value: 2.2159792332076704 and parameters: {'lambda_l1': 0.19287184814587105, 'lambda_l2': 0.0007472188166267399}. Best is trial 50 with value: 2.2159792332076704.\u001b[0m\n",
            "\n",
            "regularization_factors, val_score: 2.215979:  40%|####      | 8/20 [01:08<01:44,  8.69s/it]\u001b[A"
          ],
          "name": "stderr"
        },
        {
          "output_type": "stream",
          "text": [
            "Early stopping, best iteration is:\n",
            "[39]\tvalid_0's l1: 2.21598\n",
            "Training until validation scores don't improve for 100 rounds.\n",
            "[100]\tvalid_0's l1: 2.2344\n"
          ],
          "name": "stdout"
        },
        {
          "output_type": "stream",
          "text": [
            "\n",
            "regularization_factors, val_score: 2.215979:  40%|####      | 8/20 [01:17<01:44,  8.69s/it]\u001b[A\n",
            "regularization_factors, val_score: 2.215979:  45%|####5     | 9/20 [01:17<01:36,  8.77s/it]\u001b[A\u001b[32m[I 2021-07-08 09:14:05,336]\u001b[0m Trial 51 finished with value: 2.2256391960037125 and parameters: {'lambda_l1': 5.237743541931587e-08, 'lambda_l2': 1.0065651021053182e-06}. Best is trial 50 with value: 2.2159792332076704.\u001b[0m\n",
            "\n",
            "regularization_factors, val_score: 2.215979:  45%|####5     | 9/20 [01:17<01:36,  8.77s/it]\u001b[A"
          ],
          "name": "stderr"
        },
        {
          "output_type": "stream",
          "text": [
            "Early stopping, best iteration is:\n",
            "[41]\tvalid_0's l1: 2.22564\n",
            "Training until validation scores don't improve for 100 rounds.\n",
            "[100]\tvalid_0's l1: 2.23728\n"
          ],
          "name": "stdout"
        },
        {
          "output_type": "stream",
          "text": [
            "\n",
            "regularization_factors, val_score: 2.215979:  45%|####5     | 9/20 [01:26<01:36,  8.77s/it]\u001b[A\n",
            "regularization_factors, val_score: 2.215979:  50%|#####     | 10/20 [01:26<01:26,  8.65s/it]\u001b[A\u001b[32m[I 2021-07-08 09:14:13,719]\u001b[0m Trial 52 finished with value: 2.2313371861341724 and parameters: {'lambda_l1': 0.014721402721969775, 'lambda_l2': 5.072577969225668e-05}. Best is trial 50 with value: 2.2159792332076704.\u001b[0m\n",
            "\n",
            "regularization_factors, val_score: 2.215979:  50%|#####     | 10/20 [01:26<01:26,  8.65s/it]\u001b[A"
          ],
          "name": "stderr"
        },
        {
          "output_type": "stream",
          "text": [
            "Early stopping, best iteration is:\n",
            "[30]\tvalid_0's l1: 2.23134\n",
            "Training until validation scores don't improve for 100 rounds.\n",
            "[100]\tvalid_0's l1: 2.2372\n"
          ],
          "name": "stdout"
        },
        {
          "output_type": "stream",
          "text": [
            "\n",
            "regularization_factors, val_score: 2.215979:  50%|#####     | 10/20 [01:34<01:26,  8.65s/it]\u001b[A\n",
            "regularization_factors, val_score: 2.215979:  55%|#####5    | 11/20 [01:34<01:17,  8.58s/it]\u001b[A\u001b[32m[I 2021-07-08 09:14:22,120]\u001b[0m Trial 53 finished with value: 2.224413704343261 and parameters: {'lambda_l1': 2.6448928318317435, 'lambda_l2': 8.245948746398178e-05}. Best is trial 50 with value: 2.2159792332076704.\u001b[0m\n",
            "\n",
            "regularization_factors, val_score: 2.215979:  55%|#####5    | 11/20 [01:34<01:17,  8.58s/it]\u001b[A"
          ],
          "name": "stderr"
        },
        {
          "output_type": "stream",
          "text": [
            "Early stopping, best iteration is:\n",
            "[30]\tvalid_0's l1: 2.22441\n",
            "Training until validation scores don't improve for 100 rounds.\n",
            "[100]\tvalid_0's l1: 2.23662\n"
          ],
          "name": "stdout"
        },
        {
          "output_type": "stream",
          "text": [
            "\n",
            "regularization_factors, val_score: 2.215979:  55%|#####5    | 11/20 [01:43<01:17,  8.58s/it]\u001b[A\n",
            "regularization_factors, val_score: 2.215979:  60%|######    | 12/20 [01:43<01:08,  8.62s/it]\u001b[A\u001b[32m[I 2021-07-08 09:14:30,847]\u001b[0m Trial 54 finished with value: 2.2261656169991157 and parameters: {'lambda_l1': 9.057633000827556e-05, 'lambda_l2': 3.769038463033697}. Best is trial 50 with value: 2.2159792332076704.\u001b[0m\n",
            "\n",
            "regularization_factors, val_score: 2.215979:  60%|######    | 12/20 [01:43<01:08,  8.62s/it]\u001b[A"
          ],
          "name": "stderr"
        },
        {
          "output_type": "stream",
          "text": [
            "Early stopping, best iteration is:\n",
            "[35]\tvalid_0's l1: 2.22617\n",
            "Training until validation scores don't improve for 100 rounds.\n",
            "[100]\tvalid_0's l1: 2.2344\n"
          ],
          "name": "stdout"
        },
        {
          "output_type": "stream",
          "text": [
            "\n",
            "regularization_factors, val_score: 2.215979:  60%|######    | 12/20 [01:52<01:08,  8.62s/it]\u001b[A\n",
            "regularization_factors, val_score: 2.215979:  65%|######5   | 13/20 [01:52<01:01,  8.76s/it]\u001b[A\u001b[32m[I 2021-07-08 09:14:39,944]\u001b[0m Trial 55 finished with value: 2.2256391960037116 and parameters: {'lambda_l1': 0.00014191371991093322, 'lambda_l2': 0.0038684148195022067}. Best is trial 50 with value: 2.2159792332076704.\u001b[0m\n",
            "\n",
            "regularization_factors, val_score: 2.215979:  65%|######5   | 13/20 [01:52<01:01,  8.76s/it]\u001b[A"
          ],
          "name": "stderr"
        },
        {
          "output_type": "stream",
          "text": [
            "Early stopping, best iteration is:\n",
            "[41]\tvalid_0's l1: 2.22564\n",
            "Training until validation scores don't improve for 100 rounds.\n",
            "[100]\tvalid_0's l1: 2.23825\n"
          ],
          "name": "stdout"
        },
        {
          "output_type": "stream",
          "text": [
            "\n",
            "regularization_factors, val_score: 2.215979:  65%|######5   | 13/20 [02:03<01:01,  8.76s/it]\u001b[A\n",
            "regularization_factors, val_score: 2.215979:  70%|#######   | 14/20 [02:03<00:55,  9.33s/it]\u001b[A\u001b[32m[I 2021-07-08 09:14:50,594]\u001b[0m Trial 56 finished with value: 2.228943203003555 and parameters: {'lambda_l1': 3.838867537312934, 'lambda_l2': 0.22435445357724018}. Best is trial 50 with value: 2.2159792332076704.\u001b[0m\n",
            "\n",
            "regularization_factors, val_score: 2.215979:  70%|#######   | 14/20 [02:03<00:55,  9.33s/it]\u001b[A"
          ],
          "name": "stderr"
        },
        {
          "output_type": "stream",
          "text": [
            "Early stopping, best iteration is:\n",
            "[32]\tvalid_0's l1: 2.22894\n",
            "Training until validation scores don't improve for 100 rounds.\n",
            "[100]\tvalid_0's l1: 2.2344\n"
          ],
          "name": "stdout"
        },
        {
          "output_type": "stream",
          "text": [
            "\n",
            "regularization_factors, val_score: 2.215979:  70%|#######   | 14/20 [02:13<00:55,  9.33s/it]\u001b[A\n",
            "regularization_factors, val_score: 2.215979:  75%|#######5  | 15/20 [02:13<00:47,  9.56s/it]\u001b[A\u001b[32m[I 2021-07-08 09:15:00,703]\u001b[0m Trial 57 finished with value: 2.2256391960037116 and parameters: {'lambda_l1': 5.251613421623992e-07, 'lambda_l2': 4.924690896603121e-06}. Best is trial 50 with value: 2.2159792332076704.\u001b[0m\n",
            "\n",
            "regularization_factors, val_score: 2.215979:  75%|#######5  | 15/20 [02:13<00:47,  9.56s/it]\u001b[A"
          ],
          "name": "stderr"
        },
        {
          "output_type": "stream",
          "text": [
            "Early stopping, best iteration is:\n",
            "[41]\tvalid_0's l1: 2.22564\n",
            "Training until validation scores don't improve for 100 rounds.\n",
            "[100]\tvalid_0's l1: 2.2344\n"
          ],
          "name": "stdout"
        },
        {
          "output_type": "stream",
          "text": [
            "\n",
            "regularization_factors, val_score: 2.215979:  75%|#######5  | 15/20 [02:22<00:47,  9.56s/it]\u001b[A\n",
            "regularization_factors, val_score: 2.215979:  80%|########  | 16/20 [02:22<00:37,  9.45s/it]\u001b[A\u001b[32m[I 2021-07-08 09:15:09,901]\u001b[0m Trial 58 finished with value: 2.225639196003712 and parameters: {'lambda_l1': 0.0011531130924540512, 'lambda_l2': 1.6701393467468452e-08}. Best is trial 50 with value: 2.2159792332076704.\u001b[0m\n",
            "\n",
            "regularization_factors, val_score: 2.215979:  80%|########  | 16/20 [02:22<00:37,  9.45s/it]\u001b[A"
          ],
          "name": "stderr"
        },
        {
          "output_type": "stream",
          "text": [
            "Early stopping, best iteration is:\n",
            "[41]\tvalid_0's l1: 2.22564\n",
            "Training until validation scores don't improve for 100 rounds.\n",
            "[100]\tvalid_0's l1: 2.23047\n"
          ],
          "name": "stdout"
        },
        {
          "output_type": "stream",
          "text": [
            "\n",
            "regularization_factors, val_score: 2.215979:  80%|########  | 16/20 [02:31<00:37,  9.45s/it]\u001b[A\n",
            "regularization_factors, val_score: 2.215979:  85%|########5 | 17/20 [02:31<00:27,  9.22s/it]\u001b[A\u001b[32m[I 2021-07-08 09:15:18,564]\u001b[0m Trial 59 finished with value: 2.223240949191276 and parameters: {'lambda_l1': 2.8025535332680678e-05, 'lambda_l2': 9.549675628052627}. Best is trial 50 with value: 2.2159792332076704.\u001b[0m\n",
            "\n",
            "regularization_factors, val_score: 2.215979:  85%|########5 | 17/20 [02:31<00:27,  9.22s/it]\u001b[A"
          ],
          "name": "stderr"
        },
        {
          "output_type": "stream",
          "text": [
            "Early stopping, best iteration is:\n",
            "[35]\tvalid_0's l1: 2.22324\n",
            "Training until validation scores don't improve for 100 rounds.\n",
            "[100]\tvalid_0's l1: 2.2344\n"
          ],
          "name": "stdout"
        },
        {
          "output_type": "stream",
          "text": [
            "\n",
            "regularization_factors, val_score: 2.215979:  85%|########5 | 17/20 [02:40<00:27,  9.22s/it]\u001b[A\n",
            "regularization_factors, val_score: 2.215979:  90%|######### | 18/20 [02:40<00:18,  9.17s/it]\u001b[A\u001b[32m[I 2021-07-08 09:15:27,612]\u001b[0m Trial 60 finished with value: 2.2256391960037116 and parameters: {'lambda_l1': 0.0009599320020343233, 'lambda_l2': 0.0010971802114501934}. Best is trial 50 with value: 2.2159792332076704.\u001b[0m\n",
            "\n",
            "regularization_factors, val_score: 2.215979:  90%|######### | 18/20 [02:40<00:18,  9.17s/it]\u001b[A"
          ],
          "name": "stderr"
        },
        {
          "output_type": "stream",
          "text": [
            "Early stopping, best iteration is:\n",
            "[41]\tvalid_0's l1: 2.22564\n",
            "Training until validation scores don't improve for 100 rounds.\n",
            "[100]\tvalid_0's l1: 2.23316\n"
          ],
          "name": "stdout"
        },
        {
          "output_type": "stream",
          "text": [
            "\n",
            "regularization_factors, val_score: 2.215979:  90%|######### | 18/20 [02:48<00:18,  9.17s/it]\u001b[A\n",
            "regularization_factors, val_score: 2.215979:  95%|#########5| 19/20 [02:48<00:09,  9.03s/it]\u001b[A\u001b[32m[I 2021-07-08 09:15:36,329]\u001b[0m Trial 61 finished with value: 2.2271456168839054 and parameters: {'lambda_l1': 0.49561281895093495, 'lambda_l2': 0.02764898843653341}. Best is trial 50 with value: 2.2159792332076704.\u001b[0m\n",
            "\n",
            "regularization_factors, val_score: 2.215979:  95%|#########5| 19/20 [02:48<00:09,  9.03s/it]\u001b[A"
          ],
          "name": "stderr"
        },
        {
          "output_type": "stream",
          "text": [
            "Early stopping, best iteration is:\n",
            "[38]\tvalid_0's l1: 2.22715\n",
            "Training until validation scores don't improve for 100 rounds.\n",
            "[100]\tvalid_0's l1: 2.22449\n"
          ],
          "name": "stdout"
        },
        {
          "output_type": "stream",
          "text": [
            "\n",
            "regularization_factors, val_score: 2.215979:  95%|#########5| 19/20 [02:57<00:09,  9.03s/it]\u001b[A\n",
            "regularization_factors, val_score: 2.215979: 100%|##########| 20/20 [02:57<00:00,  9.01s/it]\u001b[A\u001b[32m[I 2021-07-08 09:15:45,297]\u001b[0m Trial 62 finished with value: 2.215979233207671 and parameters: {'lambda_l1': 0.003028456279692394, 'lambda_l2': 0.497852586184594}. Best is trial 50 with value: 2.2159792332076704.\u001b[0m\n",
            "regularization_factors, val_score: 2.215979: 100%|##########| 20/20 [02:57<00:00,  8.89s/it]\n",
            "\n",
            "  0%|          | 0/5 [00:00<?, ?it/s]\u001b[A\n",
            "min_data_in_leaf, val_score: 2.215979:   0%|          | 0/5 [00:00<?, ?it/s]\u001b[A"
          ],
          "name": "stderr"
        },
        {
          "output_type": "stream",
          "text": [
            "Early stopping, best iteration is:\n",
            "[39]\tvalid_0's l1: 2.21598\n",
            "Training until validation scores don't improve for 100 rounds.\n",
            "[100]\tvalid_0's l1: 2.23065\n"
          ],
          "name": "stdout"
        },
        {
          "output_type": "stream",
          "text": [
            "\n",
            "min_data_in_leaf, val_score: 2.215979:   0%|          | 0/5 [00:08<?, ?it/s]\u001b[A\n",
            "min_data_in_leaf, val_score: 2.215979:  20%|##        | 1/5 [00:08<00:34,  8.68s/it]\u001b[A\u001b[32m[I 2021-07-08 09:15:53,995]\u001b[0m Trial 63 finished with value: 2.220714079800632 and parameters: {'min_child_samples': 100}. Best is trial 63 with value: 2.220714079800632.\u001b[0m\n",
            "\n",
            "min_data_in_leaf, val_score: 2.215979:  20%|##        | 1/5 [00:08<00:34,  8.68s/it]\u001b[A"
          ],
          "name": "stderr"
        },
        {
          "output_type": "stream",
          "text": [
            "Early stopping, best iteration is:\n",
            "[35]\tvalid_0's l1: 2.22071\n",
            "Training until validation scores don't improve for 100 rounds.\n",
            "[100]\tvalid_0's l1: 2.22425\n"
          ],
          "name": "stdout"
        },
        {
          "output_type": "stream",
          "text": [
            "\n",
            "min_data_in_leaf, val_score: 2.215979:  20%|##        | 1/5 [00:17<00:34,  8.68s/it]\u001b[A\n",
            "min_data_in_leaf, val_score: 2.215979:  40%|####      | 2/5 [00:17<00:26,  8.81s/it]\u001b[A\u001b[32m[I 2021-07-08 09:16:03,116]\u001b[0m Trial 64 finished with value: 2.215979233207671 and parameters: {'min_child_samples': 10}. Best is trial 64 with value: 2.215979233207671.\u001b[0m\n",
            "\n",
            "min_data_in_leaf, val_score: 2.215979:  40%|####      | 2/5 [00:17<00:26,  8.81s/it]\u001b[A"
          ],
          "name": "stderr"
        },
        {
          "output_type": "stream",
          "text": [
            "Early stopping, best iteration is:\n",
            "[39]\tvalid_0's l1: 2.21598\n",
            "Training until validation scores don't improve for 100 rounds.\n",
            "[100]\tvalid_0's l1: 2.22425\n"
          ],
          "name": "stdout"
        },
        {
          "output_type": "stream",
          "text": [
            "\n",
            "min_data_in_leaf, val_score: 2.215979:  40%|####      | 2/5 [00:26<00:26,  8.81s/it]\u001b[A\n",
            "min_data_in_leaf, val_score: 2.215979:  60%|######    | 3/5 [00:26<00:17,  8.83s/it]\u001b[A\u001b[32m[I 2021-07-08 09:16:11,983]\u001b[0m Trial 65 finished with value: 2.2159792332076695 and parameters: {'min_child_samples': 25}. Best is trial 65 with value: 2.2159792332076695.\u001b[0m\n",
            "\n",
            "min_data_in_leaf, val_score: 2.215979:  60%|######    | 3/5 [00:26<00:17,  8.83s/it]\u001b[A"
          ],
          "name": "stderr"
        },
        {
          "output_type": "stream",
          "text": [
            "Early stopping, best iteration is:\n",
            "[39]\tvalid_0's l1: 2.21598\n",
            "Training until validation scores don't improve for 100 rounds.\n",
            "[100]\tvalid_0's l1: 2.22425\n"
          ],
          "name": "stdout"
        },
        {
          "output_type": "stream",
          "text": [
            "\n",
            "min_data_in_leaf, val_score: 2.215979:  60%|######    | 3/5 [00:35<00:17,  8.83s/it]\u001b[A\n",
            "min_data_in_leaf, val_score: 2.215979:  80%|########  | 4/5 [00:35<00:08,  8.87s/it]\u001b[A\u001b[32m[I 2021-07-08 09:16:20,960]\u001b[0m Trial 66 finished with value: 2.2159792332076695 and parameters: {'min_child_samples': 5}. Best is trial 65 with value: 2.2159792332076695.\u001b[0m\n",
            "\n",
            "min_data_in_leaf, val_score: 2.215979:  80%|########  | 4/5 [00:35<00:08,  8.87s/it]\u001b[A"
          ],
          "name": "stderr"
        },
        {
          "output_type": "stream",
          "text": [
            "Early stopping, best iteration is:\n",
            "[39]\tvalid_0's l1: 2.21598\n",
            "Training until validation scores don't improve for 100 rounds.\n",
            "[100]\tvalid_0's l1: 2.22626\n"
          ],
          "name": "stdout"
        },
        {
          "output_type": "stream",
          "text": [
            "\n",
            "min_data_in_leaf, val_score: 2.215979:  80%|########  | 4/5 [00:44<00:08,  8.87s/it]\u001b[A\n",
            "min_data_in_leaf, val_score: 2.215979: 100%|##########| 5/5 [00:44<00:00,  8.85s/it]\u001b[A\u001b[32m[I 2021-07-08 09:16:29,752]\u001b[0m Trial 67 finished with value: 2.21597923320767 and parameters: {'min_child_samples': 50}. Best is trial 65 with value: 2.2159792332076695.\u001b[0m\n",
            "min_data_in_leaf, val_score: 2.215979: 100%|##########| 5/5 [00:44<00:00,  8.89s/it]"
          ],
          "name": "stderr"
        },
        {
          "output_type": "stream",
          "text": [
            "Early stopping, best iteration is:\n",
            "[39]\tvalid_0's l1: 2.21598\n",
            "mae: 2.21597923215306\n"
          ],
          "name": "stdout"
        },
        {
          "output_type": "stream",
          "text": [
            "\n",
            "\u001b[32m[I 2021-07-08 09:16:30,051]\u001b[0m A new study created in memory with name: no-name-c2f485e1-21dc-4bce-9b5b-04a298f18381\u001b[0m\n",
            "\n",
            "  0%|          | 0/7 [00:00<?, ?it/s]\u001b[A\n",
            "feature_fraction, val_score: inf:   0%|          | 0/7 [00:00<?, ?it/s]\u001b[A/usr/local/lib/python3.7/dist-packages/lightgbm/engine.py:118: UserWarning:\n",
            "\n",
            "Found `n_estimators` in params. Will use it instead of argument\n",
            "\n"
          ],
          "name": "stderr"
        },
        {
          "output_type": "stream",
          "text": [
            "Training until validation scores don't improve for 100 rounds.\n",
            "[100]\tvalid_0's l1: 0.92725\n"
          ],
          "name": "stdout"
        },
        {
          "output_type": "stream",
          "text": [
            "\n",
            "feature_fraction, val_score: 0.927218:   0%|          | 0/7 [00:09<?, ?it/s]\u001b[A\n",
            "feature_fraction, val_score: 0.927218:  14%|#4        | 1/7 [00:09<00:58,  9.69s/it]\u001b[A\u001b[32m[I 2021-07-08 09:16:39,755]\u001b[0m Trial 0 finished with value: 0.9272177190241907 and parameters: {'feature_fraction': 1.0}. Best is trial 0 with value: 0.9272177190241907.\u001b[0m\n",
            "\n",
            "feature_fraction, val_score: 0.927218:  14%|#4        | 1/7 [00:09<00:58,  9.69s/it]\u001b[A"
          ],
          "name": "stderr"
        },
        {
          "output_type": "stream",
          "text": [
            "Early stopping, best iteration is:\n",
            "[55]\tvalid_0's l1: 0.927218\n",
            "Training until validation scores don't improve for 100 rounds.\n",
            "[100]\tvalid_0's l1: 0.926727\n"
          ],
          "name": "stdout"
        },
        {
          "output_type": "stream",
          "text": [
            "\n",
            "feature_fraction, val_score: 0.926605:  14%|#4        | 1/7 [00:18<00:58,  9.69s/it]\u001b[A\n",
            "feature_fraction, val_score: 0.926605:  29%|##8       | 2/7 [00:18<00:46,  9.38s/it]\u001b[A\u001b[32m[I 2021-07-08 09:16:48,410]\u001b[0m Trial 1 finished with value: 0.9266049414601759 and parameters: {'feature_fraction': 0.6}. Best is trial 1 with value: 0.9266049414601759.\u001b[0m\n",
            "\n",
            "feature_fraction, val_score: 0.926605:  29%|##8       | 2/7 [00:18<00:46,  9.38s/it]\u001b[A"
          ],
          "name": "stderr"
        },
        {
          "output_type": "stream",
          "text": [
            "Early stopping, best iteration is:\n",
            "[54]\tvalid_0's l1: 0.926605\n",
            "Training until validation scores don't improve for 100 rounds.\n",
            "[100]\tvalid_0's l1: 0.930404\n"
          ],
          "name": "stdout"
        },
        {
          "output_type": "stream",
          "text": [
            "\n",
            "feature_fraction, val_score: 0.926605:  29%|##8       | 2/7 [00:26<00:46,  9.38s/it]\u001b[A\n",
            "feature_fraction, val_score: 0.926605:  43%|####2     | 3/7 [00:26<00:36,  9.08s/it]\u001b[A\u001b[32m[I 2021-07-08 09:16:56,804]\u001b[0m Trial 2 finished with value: 0.9302854781563534 and parameters: {'feature_fraction': 0.5}. Best is trial 1 with value: 0.9266049414601759.\u001b[0m\n",
            "\n",
            "feature_fraction, val_score: 0.926605:  43%|####2     | 3/7 [00:26<00:36,  9.08s/it]\u001b[A"
          ],
          "name": "stderr"
        },
        {
          "output_type": "stream",
          "text": [
            "Early stopping, best iteration is:\n",
            "[56]\tvalid_0's l1: 0.930285\n",
            "Training until validation scores don't improve for 100 rounds.\n",
            "[100]\tvalid_0's l1: 0.924058\n",
            "[200]\tvalid_0's l1: 0.923979\n"
          ],
          "name": "stdout"
        },
        {
          "output_type": "stream",
          "text": [
            "\n",
            "feature_fraction, val_score: 0.923912:  43%|####2     | 3/7 [00:41<00:36,  9.08s/it]\u001b[A\n",
            "feature_fraction, val_score: 0.923912:  57%|#####7    | 4/7 [00:41<00:32, 10.75s/it]\u001b[A\u001b[32m[I 2021-07-08 09:17:11,432]\u001b[0m Trial 3 finished with value: 0.9239115522431028 and parameters: {'feature_fraction': 0.8999999999999999}. Best is trial 3 with value: 0.9239115522431028.\u001b[0m\n",
            "\n",
            "feature_fraction, val_score: 0.923912:  57%|#####7    | 4/7 [00:41<00:32, 10.75s/it]\u001b[A"
          ],
          "name": "stderr"
        },
        {
          "output_type": "stream",
          "text": [
            "Early stopping, best iteration is:\n",
            "[149]\tvalid_0's l1: 0.923912\n",
            "Training until validation scores don't improve for 100 rounds.\n",
            "[100]\tvalid_0's l1: 0.925998\n"
          ],
          "name": "stdout"
        },
        {
          "output_type": "stream",
          "text": [
            "\n",
            "feature_fraction, val_score: 0.923912:  57%|#####7    | 4/7 [00:51<00:32, 10.75s/it]\u001b[A\n",
            "feature_fraction, val_score: 0.923912:  71%|#######1  | 5/7 [00:51<00:21, 10.63s/it]\u001b[A\u001b[32m[I 2021-07-08 09:17:21,783]\u001b[0m Trial 4 finished with value: 0.9259543070422094 and parameters: {'feature_fraction': 0.7}. Best is trial 3 with value: 0.9239115522431028.\u001b[0m\n",
            "\n",
            "feature_fraction, val_score: 0.923912:  71%|#######1  | 5/7 [00:51<00:21, 10.63s/it]\u001b[A"
          ],
          "name": "stderr"
        },
        {
          "output_type": "stream",
          "text": [
            "Early stopping, best iteration is:\n",
            "[80]\tvalid_0's l1: 0.925954\n",
            "Training until validation scores don't improve for 100 rounds.\n",
            "[100]\tvalid_0's l1: 0.928084\n",
            "[200]\tvalid_0's l1: 0.927848\n"
          ],
          "name": "stdout"
        },
        {
          "output_type": "stream",
          "text": [
            "\n",
            "feature_fraction, val_score: 0.923912:  71%|#######1  | 5/7 [01:08<00:21, 10.63s/it]\u001b[A\n",
            "feature_fraction, val_score: 0.923912:  86%|########5 | 6/7 [01:08<00:12, 12.37s/it]\u001b[A\u001b[32m[I 2021-07-08 09:17:38,225]\u001b[0m Trial 5 finished with value: 0.9278381990790455 and parameters: {'feature_fraction': 0.8}. Best is trial 3 with value: 0.9239115522431028.\u001b[0m\n",
            "\n",
            "feature_fraction, val_score: 0.923912:  86%|########5 | 6/7 [01:08<00:12, 12.37s/it]\u001b[A"
          ],
          "name": "stderr"
        },
        {
          "output_type": "stream",
          "text": [
            "Early stopping, best iteration is:\n",
            "[193]\tvalid_0's l1: 0.927838\n",
            "Training until validation scores don't improve for 100 rounds.\n",
            "[100]\tvalid_0's l1: 0.928645\n",
            "[200]\tvalid_0's l1: 0.928193\n",
            "[300]\tvalid_0's l1: 0.928419\n"
          ],
          "name": "stdout"
        },
        {
          "output_type": "stream",
          "text": [
            "\n",
            "feature_fraction, val_score: 0.923912:  86%|########5 | 6/7 [01:23<00:12, 12.37s/it]\u001b[A\n",
            "feature_fraction, val_score: 0.923912: 100%|##########| 7/7 [01:23<00:00, 13.22s/it]\u001b[A\u001b[32m[I 2021-07-08 09:17:53,415]\u001b[0m Trial 6 finished with value: 0.9280802452830343 and parameters: {'feature_fraction': 0.4}. Best is trial 3 with value: 0.9239115522431028.\u001b[0m\n",
            "feature_fraction, val_score: 0.923912: 100%|##########| 7/7 [01:23<00:00, 11.91s/it]\n",
            "\n",
            "  0%|          | 0/20 [00:00<?, ?it/s]\u001b[A\n",
            "num_leaves, val_score: 0.923912:   0%|          | 0/20 [00:00<?, ?it/s]\u001b[A"
          ],
          "name": "stderr"
        },
        {
          "output_type": "stream",
          "text": [
            "Early stopping, best iteration is:\n",
            "[206]\tvalid_0's l1: 0.92808\n",
            "Training until validation scores don't improve for 100 rounds.\n",
            "[100]\tvalid_0's l1: 0.9225\n"
          ],
          "name": "stdout"
        },
        {
          "output_type": "stream",
          "text": [
            "\n",
            "num_leaves, val_score: 0.920750:   0%|          | 0/20 [00:12<?, ?it/s]\u001b[A\n",
            "num_leaves, val_score: 0.920750:   5%|5         | 1/20 [00:12<03:58, 12.57s/it]\u001b[A\u001b[32m[I 2021-07-08 09:18:06,001]\u001b[0m Trial 7 finished with value: 0.920749938020394 and parameters: {'num_leaves': 253}. Best is trial 7 with value: 0.920749938020394.\u001b[0m\n",
            "\n",
            "num_leaves, val_score: 0.920750:   5%|5         | 1/20 [00:12<03:58, 12.57s/it]\u001b[A"
          ],
          "name": "stderr"
        },
        {
          "output_type": "stream",
          "text": [
            "Early stopping, best iteration is:\n",
            "[55]\tvalid_0's l1: 0.92075\n",
            "Training until validation scores don't improve for 100 rounds.\n",
            "[100]\tvalid_0's l1: 0.920443\n",
            "[200]\tvalid_0's l1: 0.920395\n"
          ],
          "name": "stdout"
        },
        {
          "output_type": "stream",
          "text": [
            "\n",
            "num_leaves, val_score: 0.920389:   5%|5         | 1/20 [00:29<03:58, 12.57s/it]\u001b[A\n",
            "num_leaves, val_score: 0.920389:  10%|#         | 2/20 [00:29<04:10, 13.89s/it]\u001b[A\u001b[32m[I 2021-07-08 09:18:22,990]\u001b[0m Trial 8 finished with value: 0.9203893836355703 and parameters: {'num_leaves': 199}. Best is trial 8 with value: 0.9203893836355703.\u001b[0m\n",
            "\n",
            "num_leaves, val_score: 0.920389:  10%|#         | 2/20 [00:29<04:10, 13.89s/it]\u001b[A"
          ],
          "name": "stderr"
        },
        {
          "output_type": "stream",
          "text": [
            "Early stopping, best iteration is:\n",
            "[138]\tvalid_0's l1: 0.920389\n",
            "Training until validation scores don't improve for 100 rounds.\n",
            "[100]\tvalid_0's l1: 0.921907\n",
            "[200]\tvalid_0's l1: 0.92191\n"
          ],
          "name": "stdout"
        },
        {
          "output_type": "stream",
          "text": [
            "\n",
            "num_leaves, val_score: 0.920389:  10%|#         | 2/20 [00:45<04:10, 13.89s/it]\u001b[A\n",
            "num_leaves, val_score: 0.920389:  15%|#5        | 3/20 [00:45<04:04, 14.36s/it]\u001b[A\u001b[32m[I 2021-07-08 09:18:38,447]\u001b[0m Trial 9 finished with value: 0.9218494393793143 and parameters: {'num_leaves': 185}. Best is trial 8 with value: 0.9203893836355703.\u001b[0m\n",
            "\n",
            "num_leaves, val_score: 0.920389:  15%|#5        | 3/20 [00:45<04:04, 14.36s/it]\u001b[A"
          ],
          "name": "stderr"
        },
        {
          "output_type": "stream",
          "text": [
            "Early stopping, best iteration is:\n",
            "[120]\tvalid_0's l1: 0.921849\n",
            "Training until validation scores don't improve for 100 rounds.\n",
            "[100]\tvalid_0's l1: 0.92536\n",
            "[200]\tvalid_0's l1: 0.924701\n"
          ],
          "name": "stdout"
        },
        {
          "output_type": "stream",
          "text": [
            "\n",
            "num_leaves, val_score: 0.920389:  15%|#5        | 3/20 [01:01<04:04, 14.36s/it]\u001b[A\n",
            "num_leaves, val_score: 0.920389:  20%|##        | 4/20 [01:01<04:00, 15.01s/it]\u001b[A\u001b[32m[I 2021-07-08 09:18:54,983]\u001b[0m Trial 10 finished with value: 0.9246958093651108 and parameters: {'num_leaves': 125}. Best is trial 8 with value: 0.9203893836355703.\u001b[0m\n",
            "\n",
            "num_leaves, val_score: 0.920389:  20%|##        | 4/20 [01:01<04:00, 15.01s/it]\u001b[A"
          ],
          "name": "stderr"
        },
        {
          "output_type": "stream",
          "text": [
            "Early stopping, best iteration is:\n",
            "[157]\tvalid_0's l1: 0.924696\n",
            "Training until validation scores don't improve for 100 rounds.\n",
            "[100]\tvalid_0's l1: 0.920423\n"
          ],
          "name": "stdout"
        },
        {
          "output_type": "stream",
          "text": [
            "\n",
            "num_leaves, val_score: 0.920389:  20%|##        | 4/20 [01:17<04:00, 15.01s/it]\u001b[A\n",
            "num_leaves, val_score: 0.920389:  25%|##5       | 5/20 [01:17<03:49, 15.27s/it]\u001b[A\u001b[32m[I 2021-07-08 09:19:10,851]\u001b[0m Trial 11 finished with value: 0.9204206773279204 and parameters: {'num_leaves': 247}. Best is trial 8 with value: 0.9203893836355703.\u001b[0m\n",
            "\n",
            "num_leaves, val_score: 0.920389:  25%|##5       | 5/20 [01:17<03:49, 15.27s/it]\u001b[A"
          ],
          "name": "stderr"
        },
        {
          "output_type": "stream",
          "text": [
            "[200]\tvalid_0's l1: 0.920544\n",
            "Early stopping, best iteration is:\n",
            "[101]\tvalid_0's l1: 0.920421\n",
            "Training until validation scores don't improve for 100 rounds.\n",
            "[100]\tvalid_0's l1: 0.927234\n",
            "[200]\tvalid_0's l1: 0.926743\n",
            "[300]\tvalid_0's l1: 0.926743\n"
          ],
          "name": "stdout"
        },
        {
          "output_type": "stream",
          "text": [
            "\n",
            "num_leaves, val_score: 0.920389:  25%|##5       | 5/20 [01:36<03:49, 15.27s/it]\u001b[A\n",
            "num_leaves, val_score: 0.920389:  30%|###       | 6/20 [01:36<03:48, 16.33s/it]\u001b[A\u001b[32m[I 2021-07-08 09:19:29,667]\u001b[0m Trial 12 finished with value: 0.9267314409198274 and parameters: {'num_leaves': 84}. Best is trial 8 with value: 0.9203893836355703.\u001b[0m\n",
            "\n",
            "num_leaves, val_score: 0.920389:  30%|###       | 6/20 [01:36<03:48, 16.33s/it]\u001b[A"
          ],
          "name": "stderr"
        },
        {
          "output_type": "stream",
          "text": [
            "Early stopping, best iteration is:\n",
            "[247]\tvalid_0's l1: 0.926731\n",
            "Training until validation scores don't improve for 100 rounds.\n",
            "[100]\tvalid_0's l1: 0.938322\n",
            "[200]\tvalid_0's l1: 0.937306\n"
          ],
          "name": "stdout"
        },
        {
          "output_type": "stream",
          "text": [
            "\n",
            "num_leaves, val_score: 0.920389:  30%|###       | 6/20 [01:46<03:48, 16.33s/it]\u001b[A\n",
            "num_leaves, val_score: 0.920389:  35%|###5      | 7/20 [01:46<03:08, 14.47s/it]\u001b[A\u001b[32m[I 2021-07-08 09:19:39,799]\u001b[0m Trial 13 finished with value: 0.9372966287134149 and parameters: {'num_leaves': 31}. Best is trial 8 with value: 0.9203893836355703.\u001b[0m\n",
            "\n",
            "num_leaves, val_score: 0.920389:  35%|###5      | 7/20 [01:46<03:08, 14.47s/it]\u001b[A"
          ],
          "name": "stderr"
        },
        {
          "output_type": "stream",
          "text": [
            "Early stopping, best iteration is:\n",
            "[115]\tvalid_0's l1: 0.937297\n",
            "Training until validation scores don't improve for 100 rounds.\n",
            "[100]\tvalid_0's l1: 0.925497\n"
          ],
          "name": "stdout"
        },
        {
          "output_type": "stream",
          "text": [
            "\n",
            "num_leaves, val_score: 0.920389:  35%|###5      | 7/20 [01:56<03:08, 14.47s/it]\u001b[A\n",
            "num_leaves, val_score: 0.920389:  40%|####      | 8/20 [01:56<02:37, 13.09s/it]\u001b[A\u001b[32m[I 2021-07-08 09:19:49,649]\u001b[0m Trial 14 finished with value: 0.9253903023897552 and parameters: {'num_leaves': 97}. Best is trial 8 with value: 0.9203893836355703.\u001b[0m\n",
            "\n",
            "num_leaves, val_score: 0.920389:  40%|####      | 8/20 [01:56<02:37, 13.09s/it]\u001b[A"
          ],
          "name": "stderr"
        },
        {
          "output_type": "stream",
          "text": [
            "Early stopping, best iteration is:\n",
            "[64]\tvalid_0's l1: 0.92539\n",
            "Training until validation scores don't improve for 100 rounds.\n",
            "[100]\tvalid_0's l1: 0.925235\n"
          ],
          "name": "stdout"
        },
        {
          "output_type": "stream",
          "text": [
            "\n",
            "num_leaves, val_score: 0.920389:  40%|####      | 8/20 [02:06<02:37, 13.09s/it]\u001b[A\n",
            "num_leaves, val_score: 0.920389:  45%|####5     | 9/20 [02:06<02:15, 12.35s/it]\u001b[A\u001b[32m[I 2021-07-08 09:20:00,290]\u001b[0m Trial 15 finished with value: 0.924572048962632 and parameters: {'num_leaves': 144}. Best is trial 8 with value: 0.9203893836355703.\u001b[0m\n",
            "\n",
            "num_leaves, val_score: 0.920389:  45%|####5     | 9/20 [02:06<02:15, 12.35s/it]\u001b[A"
          ],
          "name": "stderr"
        },
        {
          "output_type": "stream",
          "text": [
            "Early stopping, best iteration is:\n",
            "[60]\tvalid_0's l1: 0.924572\n",
            "Training until validation scores don't improve for 100 rounds.\n",
            "[100]\tvalid_0's l1: 0.924742\n",
            "[200]\tvalid_0's l1: 0.923183\n",
            "[300]\tvalid_0's l1: 0.923171\n"
          ],
          "name": "stdout"
        },
        {
          "output_type": "stream",
          "text": [
            "\n",
            "num_leaves, val_score: 0.920389:  45%|####5     | 9/20 [02:31<02:15, 12.35s/it]\u001b[A\n",
            "num_leaves, val_score: 0.920389:  50%|#####     | 10/20 [02:31<02:40, 16.07s/it]\u001b[A\u001b[32m[I 2021-07-08 09:20:25,037]\u001b[0m Trial 16 finished with value: 0.9231685131326174 and parameters: {'num_leaves': 158}. Best is trial 8 with value: 0.9203893836355703.\u001b[0m\n",
            "\n",
            "num_leaves, val_score: 0.920389:  50%|#####     | 10/20 [02:31<02:40, 16.07s/it]\u001b[A"
          ],
          "name": "stderr"
        },
        {
          "output_type": "stream",
          "text": [
            "Early stopping, best iteration is:\n",
            "[283]\tvalid_0's l1: 0.923169\n",
            "Training until validation scores don't improve for 100 rounds.\n",
            "[100]\tvalid_0's l1: 0.922169\n"
          ],
          "name": "stdout"
        },
        {
          "output_type": "stream",
          "text": [
            "\n",
            "num_leaves, val_score: 0.920389:  50%|#####     | 10/20 [02:45<02:40, 16.07s/it]\u001b[A\n",
            "num_leaves, val_score: 0.920389:  55%|#####5    | 11/20 [02:45<02:19, 15.49s/it]\u001b[A\u001b[32m[I 2021-07-08 09:20:39,175]\u001b[0m Trial 17 finished with value: 0.9220619520473534 and parameters: {'num_leaves': 208}. Best is trial 8 with value: 0.9203893836355703.\u001b[0m\n",
            "\n",
            "num_leaves, val_score: 0.920389:  55%|#####5    | 11/20 [02:45<02:19, 15.49s/it]\u001b[A"
          ],
          "name": "stderr"
        },
        {
          "output_type": "stream",
          "text": [
            "Early stopping, best iteration is:\n",
            "[87]\tvalid_0's l1: 0.922062\n",
            "Training until validation scores don't improve for 100 rounds.\n",
            "[100]\tvalid_0's l1: 0.92046\n"
          ],
          "name": "stdout"
        },
        {
          "output_type": "stream",
          "text": [
            "\n",
            "num_leaves, val_score: 0.920119:  55%|#####5    | 11/20 [02:58<02:19, 15.49s/it]\u001b[A\n",
            "num_leaves, val_score: 0.920119:  60%|######    | 12/20 [02:58<01:56, 14.57s/it]\u001b[A\u001b[32m[I 2021-07-08 09:20:51,593]\u001b[0m Trial 18 finished with value: 0.9201190002413914 and parameters: {'num_leaves': 241}. Best is trial 18 with value: 0.9201190002413914.\u001b[0m\n",
            "\n",
            "num_leaves, val_score: 0.920119:  60%|######    | 12/20 [02:58<01:56, 14.57s/it]\u001b[A"
          ],
          "name": "stderr"
        },
        {
          "output_type": "stream",
          "text": [
            "Early stopping, best iteration is:\n",
            "[55]\tvalid_0's l1: 0.920119\n",
            "Training until validation scores don't improve for 100 rounds.\n",
            "[100]\tvalid_0's l1: 0.922177\n"
          ],
          "name": "stdout"
        },
        {
          "output_type": "stream",
          "text": [
            "\n",
            "num_leaves, val_score: 0.920119:  60%|######    | 12/20 [03:11<01:56, 14.57s/it]\u001b[A\n",
            "num_leaves, val_score: 0.920119:  65%|######5   | 13/20 [03:11<01:39, 14.21s/it]\u001b[A\u001b[32m[I 2021-07-08 09:21:04,971]\u001b[0m Trial 19 finished with value: 0.9219488398655571 and parameters: {'num_leaves': 221}. Best is trial 18 with value: 0.9201190002413914.\u001b[0m\n",
            "\n",
            "num_leaves, val_score: 0.920119:  65%|######5   | 13/20 [03:11<01:39, 14.21s/it]\u001b[A"
          ],
          "name": "stderr"
        },
        {
          "output_type": "stream",
          "text": [
            "Early stopping, best iteration is:\n",
            "[77]\tvalid_0's l1: 0.921949\n",
            "Training until validation scores don't improve for 100 rounds.\n",
            "[100]\tvalid_0's l1: 0.920701\n"
          ],
          "name": "stdout"
        },
        {
          "output_type": "stream",
          "text": [
            "\n",
            "num_leaves, val_score: 0.919742:  65%|######5   | 13/20 [03:25<01:39, 14.21s/it]\u001b[A\n",
            "num_leaves, val_score: 0.919742:  70%|#######   | 14/20 [03:25<01:24, 14.13s/it]\u001b[A\u001b[32m[I 2021-07-08 09:21:18,914]\u001b[0m Trial 20 finished with value: 0.9197424164081068 and parameters: {'num_leaves': 255}. Best is trial 20 with value: 0.9197424164081068.\u001b[0m\n",
            "\n",
            "num_leaves, val_score: 0.919742:  70%|#######   | 14/20 [03:25<01:24, 14.13s/it]\u001b[A"
          ],
          "name": "stderr"
        },
        {
          "output_type": "stream",
          "text": [
            "Early stopping, best iteration is:\n",
            "[71]\tvalid_0's l1: 0.919742\n",
            "Training until validation scores don't improve for 100 rounds.\n",
            "[100]\tvalid_0's l1: 0.921383\n",
            "[200]\tvalid_0's l1: 0.921171\n"
          ],
          "name": "stdout"
        },
        {
          "output_type": "stream",
          "text": [
            "\n",
            "num_leaves, val_score: 0.919742:  70%|#######   | 14/20 [03:47<01:24, 14.13s/it]\u001b[A\n",
            "num_leaves, val_score: 0.919742:  75%|#######5  | 15/20 [03:47<01:22, 16.44s/it]\u001b[A\u001b[32m[I 2021-07-08 09:21:40,733]\u001b[0m Trial 21 finished with value: 0.920716372944646 and parameters: {'num_leaves': 256}. Best is trial 20 with value: 0.9197424164081068.\u001b[0m\n",
            "\n",
            "num_leaves, val_score: 0.919742:  75%|#######5  | 15/20 [03:47<01:22, 16.44s/it]\u001b[A"
          ],
          "name": "stderr"
        },
        {
          "output_type": "stream",
          "text": [
            "Early stopping, best iteration is:\n",
            "[184]\tvalid_0's l1: 0.920716\n",
            "Training until validation scores don't improve for 100 rounds.\n",
            "[100]\tvalid_0's l1: 0.921489\n"
          ],
          "name": "stdout"
        },
        {
          "output_type": "stream",
          "text": [
            "\n",
            "num_leaves, val_score: 0.919742:  75%|#######5  | 15/20 [03:59<01:22, 16.44s/it]\u001b[A\n",
            "num_leaves, val_score: 0.919742:  80%|########  | 16/20 [03:59<01:01, 15.25s/it]\u001b[A\u001b[32m[I 2021-07-08 09:21:53,225]\u001b[0m Trial 22 finished with value: 0.9208141787421171 and parameters: {'num_leaves': 236}. Best is trial 20 with value: 0.9197424164081068.\u001b[0m\n",
            "\n",
            "num_leaves, val_score: 0.919742:  80%|########  | 16/20 [03:59<01:01, 15.25s/it]\u001b[A"
          ],
          "name": "stderr"
        },
        {
          "output_type": "stream",
          "text": [
            "Early stopping, best iteration is:\n",
            "[58]\tvalid_0's l1: 0.920814\n",
            "Training until validation scores don't improve for 100 rounds.\n",
            "[100]\tvalid_0's l1: 0.956771\n",
            "[200]\tvalid_0's l1: 0.954457\n",
            "[300]\tvalid_0's l1: 0.954456\n",
            "[400]\tvalid_0's l1: 0.954449\n"
          ],
          "name": "stdout"
        },
        {
          "output_type": "stream",
          "text": [
            "\n",
            "num_leaves, val_score: 0.919742:  80%|########  | 16/20 [04:18<01:01, 15.25s/it]\u001b[A\n",
            "num_leaves, val_score: 0.919742:  85%|########5 | 17/20 [04:18<00:49, 16.35s/it]\u001b[A\u001b[32m[I 2021-07-08 09:22:12,130]\u001b[0m Trial 23 finished with value: 0.9544463870422328 and parameters: {'num_leaves': 6}. Best is trial 20 with value: 0.9197424164081068.\u001b[0m\n",
            "\n",
            "num_leaves, val_score: 0.919742:  85%|########5 | 17/20 [04:18<00:49, 16.35s/it]\u001b[A"
          ],
          "name": "stderr"
        },
        {
          "output_type": "stream",
          "text": [
            "Early stopping, best iteration is:\n",
            "[361]\tvalid_0's l1: 0.954446\n",
            "Training until validation scores don't improve for 100 rounds.\n",
            "[100]\tvalid_0's l1: 0.924175\n",
            "[200]\tvalid_0's l1: 0.924011\n",
            "[300]\tvalid_0's l1: 0.924019\n"
          ],
          "name": "stdout"
        },
        {
          "output_type": "stream",
          "text": [
            "\n",
            "num_leaves, val_score: 0.919742:  85%|########5 | 17/20 [04:44<00:49, 16.35s/it]\u001b[A\n",
            "num_leaves, val_score: 0.919742:  90%|######### | 18/20 [04:44<00:38, 19.17s/it]\u001b[A\u001b[32m[I 2021-07-08 09:22:37,889]\u001b[0m Trial 24 finished with value: 0.9240089345361927 and parameters: {'num_leaves': 170}. Best is trial 20 with value: 0.9197424164081068.\u001b[0m\n",
            "\n",
            "num_leaves, val_score: 0.919742:  90%|######### | 18/20 [04:44<00:38, 19.17s/it]\u001b[A"
          ],
          "name": "stderr"
        },
        {
          "output_type": "stream",
          "text": [
            "Early stopping, best iteration is:\n",
            "[287]\tvalid_0's l1: 0.924009\n",
            "Training until validation scores don't improve for 100 rounds.\n",
            "[100]\tvalid_0's l1: 0.92157\n",
            "[200]\tvalid_0's l1: 0.921136\n",
            "[300]\tvalid_0's l1: 0.92105\n",
            "[400]\tvalid_0's l1: 0.921099\n"
          ],
          "name": "stdout"
        },
        {
          "output_type": "stream",
          "text": [
            "\n",
            "num_leaves, val_score: 0.919742:  90%|######### | 18/20 [05:15<00:38, 19.17s/it]\u001b[A\n",
            "num_leaves, val_score: 0.919742:  95%|#########5| 19/20 [05:15<00:22, 22.68s/it]\u001b[A\u001b[32m[I 2021-07-08 09:23:08,768]\u001b[0m Trial 25 finished with value: 0.920899388207467 and parameters: {'num_leaves': 224}. Best is trial 20 with value: 0.9197424164081068.\u001b[0m\n",
            "\n",
            "num_leaves, val_score: 0.919742:  95%|#########5| 19/20 [05:15<00:22, 22.68s/it]\u001b[A"
          ],
          "name": "stderr"
        },
        {
          "output_type": "stream",
          "text": [
            "Early stopping, best iteration is:\n",
            "[316]\tvalid_0's l1: 0.920899\n",
            "Training until validation scores don't improve for 100 rounds.\n",
            "[100]\tvalid_0's l1: 0.922748\n",
            "[200]\tvalid_0's l1: 0.922849\n"
          ],
          "name": "stdout"
        },
        {
          "output_type": "stream",
          "text": [
            "\n",
            "num_leaves, val_score: 0.919742:  95%|#########5| 19/20 [05:30<00:22, 22.68s/it]\u001b[A\n",
            "num_leaves, val_score: 0.919742: 100%|##########| 20/20 [05:30<00:00, 20.56s/it]\u001b[A\u001b[32m[I 2021-07-08 09:23:24,380]\u001b[0m Trial 26 finished with value: 0.9227473228038362 and parameters: {'num_leaves': 198}. Best is trial 20 with value: 0.9197424164081068.\u001b[0m\n",
            "num_leaves, val_score: 0.919742: 100%|##########| 20/20 [05:30<00:00, 16.55s/it]\n",
            "\n",
            "  0%|          | 0/10 [00:00<?, ?it/s]\u001b[A\n",
            "bagging, val_score: 0.919742:   0%|          | 0/10 [00:00<?, ?it/s]\u001b[A"
          ],
          "name": "stderr"
        },
        {
          "output_type": "stream",
          "text": [
            "Early stopping, best iteration is:\n",
            "[114]\tvalid_0's l1: 0.922747\n",
            "Training until validation scores don't improve for 100 rounds.\n",
            "[100]\tvalid_0's l1: 0.921839\n",
            "[200]\tvalid_0's l1: 0.920237\n"
          ],
          "name": "stdout"
        },
        {
          "output_type": "stream",
          "text": [
            "\n",
            "bagging, val_score: 0.919742:   0%|          | 0/10 [00:19<?, ?it/s]\u001b[A\n",
            "bagging, val_score: 0.919742:  10%|#         | 1/10 [00:19<02:53, 19.29s/it]\u001b[A\u001b[32m[I 2021-07-08 09:23:43,690]\u001b[0m Trial 27 finished with value: 0.9199952577170789 and parameters: {'bagging_fraction': 0.5230503344757227, 'bagging_freq': 3}. Best is trial 27 with value: 0.9199952577170789.\u001b[0m\n",
            "\n",
            "bagging, val_score: 0.919742:  10%|#         | 1/10 [00:19<02:53, 19.29s/it]\u001b[A"
          ],
          "name": "stderr"
        },
        {
          "output_type": "stream",
          "text": [
            "Early stopping, best iteration is:\n",
            "[196]\tvalid_0's l1: 0.919995\n",
            "Training until validation scores don't improve for 100 rounds.\n",
            "[100]\tvalid_0's l1: 0.92077\n",
            "[200]\tvalid_0's l1: 0.920019\n"
          ],
          "name": "stdout"
        },
        {
          "output_type": "stream",
          "text": [
            "\n",
            "bagging, val_score: 0.919742:  10%|#         | 1/10 [00:40<02:53, 19.29s/it]\u001b[A\n",
            "bagging, val_score: 0.919742:  20%|##        | 2/10 [00:40<02:39, 19.89s/it]\u001b[A\u001b[32m[I 2021-07-08 09:24:04,972]\u001b[0m Trial 28 finished with value: 0.9200131433590237 and parameters: {'bagging_fraction': 0.9526866634029624, 'bagging_freq': 5}. Best is trial 27 with value: 0.9199952577170789.\u001b[0m\n",
            "\n",
            "bagging, val_score: 0.919742:  20%|##        | 2/10 [00:40<02:39, 19.89s/it]\u001b[A"
          ],
          "name": "stderr"
        },
        {
          "output_type": "stream",
          "text": [
            "Early stopping, best iteration is:\n",
            "[154]\tvalid_0's l1: 0.920013\n",
            "Training until validation scores don't improve for 100 rounds.\n",
            "[100]\tvalid_0's l1: 0.918619\n"
          ],
          "name": "stdout"
        },
        {
          "output_type": "stream",
          "text": [
            "\n",
            "bagging, val_score: 0.918104:  20%|##        | 2/10 [00:52<02:39, 19.89s/it]\u001b[A\n",
            "bagging, val_score: 0.918104:  30%|###       | 3/10 [00:52<02:03, 17.64s/it]\u001b[A\u001b[32m[I 2021-07-08 09:24:17,371]\u001b[0m Trial 29 finished with value: 0.9181042044459373 and parameters: {'bagging_fraction': 0.7584777718754256, 'bagging_freq': 5}. Best is trial 29 with value: 0.9181042044459373.\u001b[0m\n",
            "\n",
            "bagging, val_score: 0.918104:  30%|###       | 3/10 [00:52<02:03, 17.64s/it]\u001b[A"
          ],
          "name": "stderr"
        },
        {
          "output_type": "stream",
          "text": [
            "Early stopping, best iteration is:\n",
            "[56]\tvalid_0's l1: 0.918104\n",
            "Training until validation scores don't improve for 100 rounds.\n",
            "[100]\tvalid_0's l1: 0.920632\n"
          ],
          "name": "stdout"
        },
        {
          "output_type": "stream",
          "text": [
            "\n",
            "bagging, val_score: 0.918104:  30%|###       | 3/10 [01:04<02:03, 17.64s/it]\u001b[A\n",
            "bagging, val_score: 0.918104:  40%|####      | 4/10 [01:04<01:34, 15.75s/it]\u001b[A\u001b[32m[I 2021-07-08 09:24:28,710]\u001b[0m Trial 30 finished with value: 0.919815903710139 and parameters: {'bagging_fraction': 0.4521003877513191, 'bagging_freq': 5}. Best is trial 29 with value: 0.9181042044459373.\u001b[0m\n",
            "\n",
            "bagging, val_score: 0.918104:  40%|####      | 4/10 [01:04<01:34, 15.75s/it]\u001b[A"
          ],
          "name": "stderr"
        },
        {
          "output_type": "stream",
          "text": [
            "Early stopping, best iteration is:\n",
            "[72]\tvalid_0's l1: 0.919816\n",
            "Training until validation scores don't improve for 100 rounds.\n",
            "[100]\tvalid_0's l1: 0.920174\n"
          ],
          "name": "stdout"
        },
        {
          "output_type": "stream",
          "text": [
            "\n",
            "bagging, val_score: 0.918104:  40%|####      | 4/10 [01:18<01:34, 15.75s/it]\u001b[A\n",
            "bagging, val_score: 0.918104:  50%|#####     | 5/10 [01:18<01:16, 15.34s/it]\u001b[A\u001b[32m[I 2021-07-08 09:24:43,078]\u001b[0m Trial 31 finished with value: 0.9196693680059099 and parameters: {'bagging_fraction': 0.8986164416370469, 'bagging_freq': 6}. Best is trial 29 with value: 0.9181042044459373.\u001b[0m\n",
            "\n",
            "bagging, val_score: 0.918104:  50%|#####     | 5/10 [01:18<01:16, 15.34s/it]\u001b[A"
          ],
          "name": "stderr"
        },
        {
          "output_type": "stream",
          "text": [
            "Early stopping, best iteration is:\n",
            "[70]\tvalid_0's l1: 0.919669\n",
            "Training until validation scores don't improve for 100 rounds.\n",
            "[100]\tvalid_0's l1: 0.920384\n"
          ],
          "name": "stdout"
        },
        {
          "output_type": "stream",
          "text": [
            "\n",
            "bagging, val_score: 0.918104:  50%|#####     | 5/10 [01:32<01:16, 15.34s/it]\u001b[A\n",
            "bagging, val_score: 0.918104:  60%|######    | 6/10 [01:32<00:59, 14.81s/it]\u001b[A\u001b[32m[I 2021-07-08 09:24:56,653]\u001b[0m Trial 32 finished with value: 0.9199279896506306 and parameters: {'bagging_fraction': 0.9283723396215832, 'bagging_freq': 3}. Best is trial 29 with value: 0.9181042044459373.\u001b[0m\n",
            "\n",
            "bagging, val_score: 0.918104:  60%|######    | 6/10 [01:32<00:59, 14.81s/it]\u001b[A"
          ],
          "name": "stderr"
        },
        {
          "output_type": "stream",
          "text": [
            "Early stopping, best iteration is:\n",
            "[54]\tvalid_0's l1: 0.919928\n",
            "Training until validation scores don't improve for 100 rounds.\n",
            "[100]\tvalid_0's l1: 0.921168\n",
            "[200]\tvalid_0's l1: 0.920064\n"
          ],
          "name": "stdout"
        },
        {
          "output_type": "stream",
          "text": [
            "\n",
            "bagging, val_score: 0.918104:  60%|######    | 6/10 [01:48<00:59, 14.81s/it]\u001b[A\n",
            "bagging, val_score: 0.918104:  70%|#######   | 7/10 [01:48<00:45, 15.10s/it]\u001b[A\u001b[32m[I 2021-07-08 09:25:12,425]\u001b[0m Trial 33 finished with value: 0.920054795712335 and parameters: {'bagging_fraction': 0.5738371479499362, 'bagging_freq': 6}. Best is trial 29 with value: 0.9181042044459373.\u001b[0m\n",
            "\n",
            "bagging, val_score: 0.918104:  70%|#######   | 7/10 [01:48<00:45, 15.10s/it]\u001b[A"
          ],
          "name": "stderr"
        },
        {
          "output_type": "stream",
          "text": [
            "Early stopping, best iteration is:\n",
            "[127]\tvalid_0's l1: 0.920055\n",
            "Training until validation scores don't improve for 100 rounds.\n",
            "[100]\tvalid_0's l1: 0.921191\n",
            "[200]\tvalid_0's l1: 0.91993\n"
          ],
          "name": "stdout"
        },
        {
          "output_type": "stream",
          "text": [
            "\n",
            "bagging, val_score: 0.918104:  70%|#######   | 7/10 [02:07<00:45, 15.10s/it]\u001b[A\n",
            "bagging, val_score: 0.918104:  80%|########  | 8/10 [02:07<00:33, 16.55s/it]\u001b[A\u001b[32m[I 2021-07-08 09:25:32,350]\u001b[0m Trial 34 finished with value: 0.9198216466113186 and parameters: {'bagging_fraction': 0.5425585227123163, 'bagging_freq': 4}. Best is trial 29 with value: 0.9181042044459373.\u001b[0m\n",
            "\n",
            "bagging, val_score: 0.918104:  80%|########  | 8/10 [02:07<00:33, 16.55s/it]\u001b[A"
          ],
          "name": "stderr"
        },
        {
          "output_type": "stream",
          "text": [
            "Early stopping, best iteration is:\n",
            "[198]\tvalid_0's l1: 0.919822\n",
            "Training until validation scores don't improve for 100 rounds.\n",
            "[100]\tvalid_0's l1: 0.923022\n",
            "[200]\tvalid_0's l1: 0.9225\n"
          ],
          "name": "stdout"
        },
        {
          "output_type": "stream",
          "text": [
            "\n",
            "bagging, val_score: 0.918104:  80%|########  | 8/10 [02:26<00:33, 16.55s/it]\u001b[A\n",
            "bagging, val_score: 0.918104:  90%|######### | 9/10 [02:26<00:17, 17.12s/it]\u001b[A\u001b[32m[I 2021-07-08 09:25:50,820]\u001b[0m Trial 35 finished with value: 0.9224653573458649 and parameters: {'bagging_fraction': 0.6983023292999417, 'bagging_freq': 2}. Best is trial 29 with value: 0.9181042044459373.\u001b[0m\n",
            "\n",
            "bagging, val_score: 0.918104:  90%|######### | 9/10 [02:26<00:17, 17.12s/it]\u001b[A"
          ],
          "name": "stderr"
        },
        {
          "output_type": "stream",
          "text": [
            "Early stopping, best iteration is:\n",
            "[151]\tvalid_0's l1: 0.922465\n",
            "Training until validation scores don't improve for 100 rounds.\n",
            "[100]\tvalid_0's l1: 0.920715\n",
            "[200]\tvalid_0's l1: 0.920717\n"
          ],
          "name": "stdout"
        },
        {
          "output_type": "stream",
          "text": [
            "\n",
            "bagging, val_score: 0.918104:  90%|######### | 9/10 [02:44<00:17, 17.12s/it]\u001b[A\n",
            "bagging, val_score: 0.918104: 100%|##########| 10/10 [02:44<00:00, 17.46s/it]\u001b[A\u001b[32m[I 2021-07-08 09:26:09,054]\u001b[0m Trial 36 finished with value: 0.9203333180222877 and parameters: {'bagging_fraction': 0.80358288144333, 'bagging_freq': 1}. Best is trial 29 with value: 0.9181042044459373.\u001b[0m\n",
            "bagging, val_score: 0.918104: 100%|##########| 10/10 [02:44<00:00, 16.47s/it]\n",
            "\n",
            "  0%|          | 0/6 [00:00<?, ?it/s]\u001b[A\n",
            "feature_fraction_stage2, val_score: 0.918104:   0%|          | 0/6 [00:00<?, ?it/s]\u001b[A"
          ],
          "name": "stderr"
        },
        {
          "output_type": "stream",
          "text": [
            "Early stopping, best iteration is:\n",
            "[140]\tvalid_0's l1: 0.920333\n",
            "Training until validation scores don't improve for 100 rounds.\n",
            "[100]\tvalid_0's l1: 0.921821\n"
          ],
          "name": "stdout"
        },
        {
          "output_type": "stream",
          "text": [
            "\n",
            "feature_fraction_stage2, val_score: 0.918104:   0%|          | 0/6 [00:13<?, ?it/s]\u001b[A\n",
            "feature_fraction_stage2, val_score: 0.918104:  17%|#6        | 1/6 [00:13<01:08, 13.74s/it]\u001b[A\u001b[32m[I 2021-07-08 09:26:22,814]\u001b[0m Trial 37 finished with value: 0.9209744424122801 and parameters: {'feature_fraction': 0.9799999999999999}. Best is trial 37 with value: 0.9209744424122801.\u001b[0m\n",
            "\n",
            "feature_fraction_stage2, val_score: 0.918104:  17%|#6        | 1/6 [00:13<01:08, 13.74s/it]\u001b[A"
          ],
          "name": "stderr"
        },
        {
          "output_type": "stream",
          "text": [
            "Early stopping, best iteration is:\n",
            "[71]\tvalid_0's l1: 0.920974\n",
            "Training until validation scores don't improve for 100 rounds.\n",
            "[100]\tvalid_0's l1: 0.918619\n"
          ],
          "name": "stdout"
        },
        {
          "output_type": "stream",
          "text": [
            "\n",
            "feature_fraction_stage2, val_score: 0.918104:  17%|#6        | 1/6 [00:26<01:08, 13.74s/it]\u001b[A\n",
            "feature_fraction_stage2, val_score: 0.918104:  33%|###3      | 2/6 [00:26<00:53, 13.35s/it]\u001b[A\u001b[32m[I 2021-07-08 09:26:35,239]\u001b[0m Trial 38 finished with value: 0.9181042044459375 and parameters: {'feature_fraction': 0.9159999999999999}. Best is trial 38 with value: 0.9181042044459375.\u001b[0m\n",
            "\n",
            "feature_fraction_stage2, val_score: 0.918104:  33%|###3      | 2/6 [00:26<00:53, 13.35s/it]\u001b[A"
          ],
          "name": "stderr"
        },
        {
          "output_type": "stream",
          "text": [
            "Early stopping, best iteration is:\n",
            "[56]\tvalid_0's l1: 0.918104\n",
            "Training until validation scores don't improve for 100 rounds.\n",
            "[100]\tvalid_0's l1: 0.920421\n"
          ],
          "name": "stdout"
        },
        {
          "output_type": "stream",
          "text": [
            "\n",
            "feature_fraction_stage2, val_score: 0.918104:  33%|###3      | 2/6 [00:38<00:53, 13.35s/it]\u001b[A\n",
            "feature_fraction_stage2, val_score: 0.918104:  50%|#####     | 3/6 [00:38<00:39, 13.06s/it]\u001b[A\u001b[32m[I 2021-07-08 09:26:47,636]\u001b[0m Trial 39 finished with value: 0.9196346547513518 and parameters: {'feature_fraction': 0.82}. Best is trial 38 with value: 0.9181042044459375.\u001b[0m\n",
            "\n",
            "feature_fraction_stage2, val_score: 0.918104:  50%|#####     | 3/6 [00:38<00:39, 13.06s/it]\u001b[A"
          ],
          "name": "stderr"
        },
        {
          "output_type": "stream",
          "text": [
            "Early stopping, best iteration is:\n",
            "[57]\tvalid_0's l1: 0.919635\n",
            "Training until validation scores don't improve for 100 rounds.\n",
            "[100]\tvalid_0's l1: 0.922247\n",
            "[200]\tvalid_0's l1: 0.921634\n"
          ],
          "name": "stdout"
        },
        {
          "output_type": "stream",
          "text": [
            "\n",
            "feature_fraction_stage2, val_score: 0.918104:  50%|#####     | 3/6 [00:56<00:39, 13.06s/it]\u001b[A\n",
            "feature_fraction_stage2, val_score: 0.918104:  67%|######6   | 4/6 [00:56<00:29, 14.67s/it]\u001b[A\u001b[32m[I 2021-07-08 09:27:06,050]\u001b[0m Trial 40 finished with value: 0.9215894161642384 and parameters: {'feature_fraction': 0.852}. Best is trial 38 with value: 0.9181042044459375.\u001b[0m\n",
            "\n",
            "feature_fraction_stage2, val_score: 0.918104:  67%|######6   | 4/6 [00:56<00:29, 14.67s/it]\u001b[A"
          ],
          "name": "stderr"
        },
        {
          "output_type": "stream",
          "text": [
            "Early stopping, best iteration is:\n",
            "[135]\tvalid_0's l1: 0.921589\n",
            "Training until validation scores don't improve for 100 rounds.\n",
            "[100]\tvalid_0's l1: 0.919913\n"
          ],
          "name": "stdout"
        },
        {
          "output_type": "stream",
          "text": [
            "\n",
            "feature_fraction_stage2, val_score: 0.918104:  67%|######6   | 4/6 [01:12<00:29, 14.67s/it]\u001b[A\n",
            "feature_fraction_stage2, val_score: 0.918104:  83%|########3 | 5/6 [01:12<00:14, 14.82s/it]\u001b[A\u001b[32m[I 2021-07-08 09:27:21,220]\u001b[0m Trial 41 finished with value: 0.9197777191330259 and parameters: {'feature_fraction': 0.948}. Best is trial 38 with value: 0.9181042044459375.\u001b[0m\n",
            "\n",
            "feature_fraction_stage2, val_score: 0.918104:  83%|########3 | 5/6 [01:12<00:14, 14.82s/it]\u001b[A"
          ],
          "name": "stderr"
        },
        {
          "output_type": "stream",
          "text": [
            "Early stopping, best iteration is:\n",
            "[92]\tvalid_0's l1: 0.919778\n",
            "Training until validation scores don't improve for 100 rounds.\n",
            "[100]\tvalid_0's l1: 0.920813\n"
          ],
          "name": "stdout"
        },
        {
          "output_type": "stream",
          "text": [
            "\n",
            "feature_fraction_stage2, val_score: 0.918104:  83%|########3 | 5/6 [01:25<00:14, 14.82s/it]\u001b[A\n",
            "feature_fraction_stage2, val_score: 0.918104: 100%|##########| 6/6 [01:25<00:00, 14.38s/it]\u001b[A\u001b[32m[I 2021-07-08 09:27:34,575]\u001b[0m Trial 42 finished with value: 0.9195170116071115 and parameters: {'feature_fraction': 0.8839999999999999}. Best is trial 38 with value: 0.9181042044459375.\u001b[0m\n",
            "feature_fraction_stage2, val_score: 0.918104: 100%|##########| 6/6 [01:25<00:00, 14.25s/it]\n",
            "\n",
            "  0%|          | 0/20 [00:00<?, ?it/s]\u001b[A\n",
            "regularization_factors, val_score: 0.918104:   0%|          | 0/20 [00:00<?, ?it/s]\u001b[A"
          ],
          "name": "stderr"
        },
        {
          "output_type": "stream",
          "text": [
            "Early stopping, best iteration is:\n",
            "[71]\tvalid_0's l1: 0.919517\n",
            "Training until validation scores don't improve for 100 rounds.\n",
            "[100]\tvalid_0's l1: 0.919953\n"
          ],
          "name": "stdout"
        },
        {
          "output_type": "stream",
          "text": [
            "\n",
            "regularization_factors, val_score: 0.918104:   0%|          | 0/20 [00:12<?, ?it/s]\u001b[A\n",
            "regularization_factors, val_score: 0.918104:   5%|5         | 1/20 [00:12<03:55, 12.39s/it]\u001b[A\u001b[32m[I 2021-07-08 09:27:46,983]\u001b[0m Trial 43 finished with value: 0.9191800367120936 and parameters: {'lambda_l1': 0.0012104250024406438, 'lambda_l2': 0.0026374976837388753}. Best is trial 43 with value: 0.9191800367120936.\u001b[0m\n",
            "\n",
            "regularization_factors, val_score: 0.918104:   5%|5         | 1/20 [00:12<03:55, 12.39s/it]\u001b[A"
          ],
          "name": "stderr"
        },
        {
          "output_type": "stream",
          "text": [
            "Early stopping, best iteration is:\n",
            "[53]\tvalid_0's l1: 0.91918\n",
            "Training until validation scores don't improve for 100 rounds.\n",
            "[100]\tvalid_0's l1: 0.92054\n",
            "[200]\tvalid_0's l1: 0.920466\n"
          ],
          "name": "stdout"
        },
        {
          "output_type": "stream",
          "text": [
            "\n",
            "regularization_factors, val_score: 0.918104:   5%|5         | 1/20 [00:29<03:55, 12.39s/it]\u001b[A\n",
            "regularization_factors, val_score: 0.918104:  10%|#         | 2/20 [00:29<04:10, 13.89s/it]\u001b[A\u001b[32m[I 2021-07-08 09:28:04,373]\u001b[0m Trial 44 finished with value: 0.9204091625018629 and parameters: {'lambda_l1': 1.2672275511236113, 'lambda_l2': 0.4686442258234098}. Best is trial 43 with value: 0.9191800367120936.\u001b[0m\n",
            "\n",
            "regularization_factors, val_score: 0.918104:  10%|#         | 2/20 [00:29<04:10, 13.89s/it]\u001b[A"
          ],
          "name": "stderr"
        },
        {
          "output_type": "stream",
          "text": [
            "Early stopping, best iteration is:\n",
            "[125]\tvalid_0's l1: 0.920409\n",
            "Training until validation scores don't improve for 100 rounds.\n",
            "[100]\tvalid_0's l1: 0.919989\n"
          ],
          "name": "stdout"
        },
        {
          "output_type": "stream",
          "text": [
            "\n",
            "regularization_factors, val_score: 0.918104:  10%|#         | 2/20 [00:41<04:10, 13.89s/it]\u001b[A\n",
            "regularization_factors, val_score: 0.918104:  15%|#5        | 3/20 [00:41<03:47, 13.36s/it]\u001b[A\u001b[32m[I 2021-07-08 09:28:16,501]\u001b[0m Trial 45 finished with value: 0.9191800367120937 and parameters: {'lambda_l1': 1.4683612984433487e-08, 'lambda_l2': 2.58878592342328e-05}. Best is trial 43 with value: 0.9191800367120936.\u001b[0m\n",
            "\n",
            "regularization_factors, val_score: 0.918104:  15%|#5        | 3/20 [00:41<03:47, 13.36s/it]\u001b[A"
          ],
          "name": "stderr"
        },
        {
          "output_type": "stream",
          "text": [
            "Early stopping, best iteration is:\n",
            "[53]\tvalid_0's l1: 0.91918\n",
            "Training until validation scores don't improve for 100 rounds.\n",
            "[100]\tvalid_0's l1: 0.918688\n",
            "[200]\tvalid_0's l1: 0.918488\n"
          ],
          "name": "stdout"
        },
        {
          "output_type": "stream",
          "text": [
            "\n",
            "regularization_factors, val_score: 0.918104:  15%|#5        | 3/20 [01:00<03:47, 13.36s/it]\u001b[A\n",
            "regularization_factors, val_score: 0.918104:  20%|##        | 4/20 [01:00<03:58, 14.90s/it]\u001b[A\u001b[32m[I 2021-07-08 09:28:34,996]\u001b[0m Trial 46 finished with value: 0.918349732299275 and parameters: {'lambda_l1': 0.7352404610988221, 'lambda_l2': 0.0031811848611444458}. Best is trial 46 with value: 0.918349732299275.\u001b[0m\n",
            "\n",
            "regularization_factors, val_score: 0.918104:  20%|##        | 4/20 [01:00<03:58, 14.90s/it]\u001b[A"
          ],
          "name": "stderr"
        },
        {
          "output_type": "stream",
          "text": [
            "Early stopping, best iteration is:\n",
            "[144]\tvalid_0's l1: 0.91835\n",
            "Training until validation scores don't improve for 100 rounds.\n",
            "[100]\tvalid_0's l1: 0.919728\n",
            "[200]\tvalid_0's l1: 0.919544\n",
            "[300]\tvalid_0's l1: 0.919858\n"
          ],
          "name": "stdout"
        },
        {
          "output_type": "stream",
          "text": [
            "\n",
            "regularization_factors, val_score: 0.918104:  20%|##        | 4/20 [01:25<03:58, 14.90s/it]\u001b[A\n",
            "regularization_factors, val_score: 0.918104:  25%|##5       | 5/20 [01:25<04:30, 18.03s/it]\u001b[A\u001b[32m[I 2021-07-08 09:29:00,311]\u001b[0m Trial 47 finished with value: 0.919518850832046 and parameters: {'lambda_l1': 4.658437291717424e-06, 'lambda_l2': 2.792158561007994}. Best is trial 46 with value: 0.918349732299275.\u001b[0m\n",
            "\n",
            "regularization_factors, val_score: 0.918104:  25%|##5       | 5/20 [01:25<04:30, 18.03s/it]\u001b[A"
          ],
          "name": "stderr"
        },
        {
          "output_type": "stream",
          "text": [
            "Early stopping, best iteration is:\n",
            "[241]\tvalid_0's l1: 0.919519\n",
            "Training until validation scores don't improve for 100 rounds.\n",
            "[100]\tvalid_0's l1: 0.920032\n"
          ],
          "name": "stdout"
        },
        {
          "output_type": "stream",
          "text": [
            "\n",
            "regularization_factors, val_score: 0.918104:  25%|##5       | 5/20 [01:38<04:30, 18.03s/it]\u001b[A\n",
            "regularization_factors, val_score: 0.918104:  30%|###       | 6/20 [01:38<03:48, 16.32s/it]\u001b[A\u001b[32m[I 2021-07-08 09:29:12,653]\u001b[0m Trial 48 finished with value: 0.9192306842645758 and parameters: {'lambda_l1': 0.07548574341703977, 'lambda_l2': 0.00677253146164231}. Best is trial 46 with value: 0.918349732299275.\u001b[0m\n",
            "\n",
            "regularization_factors, val_score: 0.918104:  30%|###       | 6/20 [01:38<03:48, 16.32s/it]\u001b[A"
          ],
          "name": "stderr"
        },
        {
          "output_type": "stream",
          "text": [
            "Early stopping, best iteration is:\n",
            "[56]\tvalid_0's l1: 0.919231\n",
            "Training until validation scores don't improve for 100 rounds.\n",
            "[100]\tvalid_0's l1: 0.919887\n"
          ],
          "name": "stdout"
        },
        {
          "output_type": "stream",
          "text": [
            "\n",
            "regularization_factors, val_score: 0.918104:  30%|###       | 6/20 [01:50<03:48, 16.32s/it]\u001b[A\n",
            "regularization_factors, val_score: 0.918104:  35%|###5      | 7/20 [01:50<03:15, 15.04s/it]\u001b[A\u001b[32m[I 2021-07-08 09:29:24,714]\u001b[0m Trial 49 finished with value: 0.9191800367120939 and parameters: {'lambda_l1': 0.001011839844500775, 'lambda_l2': 4.6562711340399197e-07}. Best is trial 46 with value: 0.918349732299275.\u001b[0m\n",
            "\n",
            "regularization_factors, val_score: 0.918104:  35%|###5      | 7/20 [01:50<03:15, 15.04s/it]\u001b[A"
          ],
          "name": "stderr"
        },
        {
          "output_type": "stream",
          "text": [
            "Early stopping, best iteration is:\n",
            "[53]\tvalid_0's l1: 0.91918\n",
            "Training until validation scores don't improve for 100 rounds.\n",
            "[100]\tvalid_0's l1: 0.919994\n"
          ],
          "name": "stdout"
        },
        {
          "output_type": "stream",
          "text": [
            "\n",
            "regularization_factors, val_score: 0.918104:  35%|###5      | 7/20 [02:04<03:15, 15.04s/it]\u001b[A\n",
            "regularization_factors, val_score: 0.918104:  40%|####      | 8/20 [02:04<02:58, 14.88s/it]\u001b[A\u001b[32m[I 2021-07-08 09:29:39,214]\u001b[0m Trial 50 finished with value: 0.9197410809348467 and parameters: {'lambda_l1': 1.057104594522598, 'lambda_l2': 3.995381128006937e-06}. Best is trial 46 with value: 0.918349732299275.\u001b[0m\n",
            "\n",
            "regularization_factors, val_score: 0.918104:  40%|####      | 8/20 [02:04<02:58, 14.88s/it]\u001b[A"
          ],
          "name": "stderr"
        },
        {
          "output_type": "stream",
          "text": [
            "Early stopping, best iteration is:\n",
            "[87]\tvalid_0's l1: 0.919741\n",
            "Training until validation scores don't improve for 100 rounds.\n",
            "[100]\tvalid_0's l1: 0.921068\n"
          ],
          "name": "stdout"
        },
        {
          "output_type": "stream",
          "text": [
            "\n",
            "regularization_factors, val_score: 0.918104:  40%|####      | 8/20 [02:17<02:58, 14.88s/it]\u001b[A\n",
            "regularization_factors, val_score: 0.918104:  45%|####5     | 9/20 [02:17<02:36, 14.25s/it]\u001b[A\u001b[32m[I 2021-07-08 09:29:51,979]\u001b[0m Trial 51 finished with value: 0.9209445097182333 and parameters: {'lambda_l1': 4.273219933363509e-07, 'lambda_l2': 0.5448239737408136}. Best is trial 46 with value: 0.918349732299275.\u001b[0m\n",
            "\n",
            "regularization_factors, val_score: 0.918104:  45%|####5     | 9/20 [02:17<02:36, 14.25s/it]\u001b[A"
          ],
          "name": "stderr"
        },
        {
          "output_type": "stream",
          "text": [
            "Early stopping, best iteration is:\n",
            "[61]\tvalid_0's l1: 0.920945\n",
            "Training until validation scores don't improve for 100 rounds.\n",
            "[100]\tvalid_0's l1: 0.919989\n"
          ],
          "name": "stdout"
        },
        {
          "output_type": "stream",
          "text": [
            "\n",
            "regularization_factors, val_score: 0.918104:  45%|####5     | 9/20 [02:29<02:36, 14.25s/it]\u001b[A\n",
            "regularization_factors, val_score: 0.918104:  50%|#####     | 10/20 [02:29<02:16, 13.63s/it]\u001b[A\u001b[32m[I 2021-07-08 09:30:04,179]\u001b[0m Trial 52 finished with value: 0.919180036712094 and parameters: {'lambda_l1': 3.790392084633687e-07, 'lambda_l2': 2.1977462200371795e-08}. Best is trial 46 with value: 0.918349732299275.\u001b[0m\n",
            "\n",
            "regularization_factors, val_score: 0.918104:  50%|#####     | 10/20 [02:29<02:16, 13.63s/it]\u001b[A"
          ],
          "name": "stderr"
        },
        {
          "output_type": "stream",
          "text": [
            "Early stopping, best iteration is:\n",
            "[53]\tvalid_0's l1: 0.91918\n",
            "Training until validation scores don't improve for 100 rounds.\n",
            "[100]\tvalid_0's l1: 0.920929\n"
          ],
          "name": "stdout"
        },
        {
          "output_type": "stream",
          "text": [
            "\n",
            "regularization_factors, val_score: 0.918104:  50%|#####     | 10/20 [02:43<02:16, 13.63s/it]\u001b[A\n",
            "regularization_factors, val_score: 0.918104:  55%|#####5    | 11/20 [02:43<02:04, 13.84s/it]\u001b[A\u001b[32m[I 2021-07-08 09:30:18,497]\u001b[0m Trial 53 finished with value: 0.9203529617000374 and parameters: {'lambda_l1': 8.579241865808934, 'lambda_l2': 0.010931357085524096}. Best is trial 46 with value: 0.918349732299275.\u001b[0m\n",
            "\n",
            "regularization_factors, val_score: 0.918104:  55%|#####5    | 11/20 [02:43<02:04, 13.84s/it]\u001b[A"
          ],
          "name": "stderr"
        },
        {
          "output_type": "stream",
          "text": [
            "Early stopping, best iteration is:\n",
            "[85]\tvalid_0's l1: 0.920353\n",
            "Training until validation scores don't improve for 100 rounds.\n",
            "[100]\tvalid_0's l1: 0.920888\n"
          ],
          "name": "stdout"
        },
        {
          "output_type": "stream",
          "text": [
            "\n",
            "regularization_factors, val_score: 0.918104:  55%|#####5    | 11/20 [02:58<02:04, 13.84s/it]\u001b[A\n",
            "regularization_factors, val_score: 0.918104:  60%|######    | 12/20 [02:58<01:52, 14.09s/it]\u001b[A\u001b[32m[I 2021-07-08 09:30:33,173]\u001b[0m Trial 54 finished with value: 0.9201090416243377 and parameters: {'lambda_l1': 0.00927719273244045, 'lambda_l2': 0.0013039759400663145}. Best is trial 46 with value: 0.918349732299275.\u001b[0m\n",
            "\n",
            "regularization_factors, val_score: 0.918104:  60%|######    | 12/20 [02:58<01:52, 14.09s/it]\u001b[A"
          ],
          "name": "stderr"
        },
        {
          "output_type": "stream",
          "text": [
            "Early stopping, best iteration is:\n",
            "[87]\tvalid_0's l1: 0.920109\n",
            "Training until validation scores don't improve for 100 rounds.\n",
            "[100]\tvalid_0's l1: 0.919989\n"
          ],
          "name": "stdout"
        },
        {
          "output_type": "stream",
          "text": [
            "\n",
            "regularization_factors, val_score: 0.918104:  60%|######    | 12/20 [03:10<01:52, 14.09s/it]\u001b[A\n",
            "regularization_factors, val_score: 0.918104:  65%|######5   | 13/20 [03:10<01:34, 13.56s/it]\u001b[A\u001b[32m[I 2021-07-08 09:30:45,511]\u001b[0m Trial 55 finished with value: 0.919180036712094 and parameters: {'lambda_l1': 6.485523655740734e-05, 'lambda_l2': 0.00010672098944125566}. Best is trial 46 with value: 0.918349732299275.\u001b[0m\n",
            "\n",
            "regularization_factors, val_score: 0.918104:  65%|######5   | 13/20 [03:10<01:34, 13.56s/it]\u001b[A"
          ],
          "name": "stderr"
        },
        {
          "output_type": "stream",
          "text": [
            "Early stopping, best iteration is:\n",
            "[53]\tvalid_0's l1: 0.91918\n",
            "Training until validation scores don't improve for 100 rounds.\n",
            "[100]\tvalid_0's l1: 0.920082\n",
            "[200]\tvalid_0's l1: 0.920005\n",
            "[300]\tvalid_0's l1: 0.919702\n",
            "[400]\tvalid_0's l1: 0.919781\n"
          ],
          "name": "stdout"
        },
        {
          "output_type": "stream",
          "text": [
            "\n",
            "regularization_factors, val_score: 0.918104:  65%|######5   | 13/20 [03:42<01:34, 13.56s/it]\u001b[A\n",
            "regularization_factors, val_score: 0.918104:  70%|#######   | 14/20 [03:42<01:54, 19.01s/it]\u001b[A\u001b[32m[I 2021-07-08 09:31:17,216]\u001b[0m Trial 56 finished with value: 0.9196061257807084 and parameters: {'lambda_l1': 0.024253492923367734, 'lambda_l2': 0.02577761013049462}. Best is trial 46 with value: 0.918349732299275.\u001b[0m\n",
            "\n",
            "regularization_factors, val_score: 0.918104:  70%|#######   | 14/20 [03:42<01:54, 19.01s/it]\u001b[A"
          ],
          "name": "stderr"
        },
        {
          "output_type": "stream",
          "text": [
            "Early stopping, best iteration is:\n",
            "[320]\tvalid_0's l1: 0.919606\n",
            "Training until validation scores don't improve for 100 rounds.\n",
            "[100]\tvalid_0's l1: 0.919989\n"
          ],
          "name": "stdout"
        },
        {
          "output_type": "stream",
          "text": [
            "\n",
            "regularization_factors, val_score: 0.918104:  70%|#######   | 14/20 [03:54<01:54, 19.01s/it]\u001b[A\n",
            "regularization_factors, val_score: 0.918104:  75%|#######5  | 15/20 [03:54<01:24, 16.98s/it]\u001b[A\u001b[32m[I 2021-07-08 09:31:29,457]\u001b[0m Trial 57 finished with value: 0.9191800367120939 and parameters: {'lambda_l1': 0.000321680856910894, 'lambda_l2': 0.0005654290656567719}. Best is trial 46 with value: 0.918349732299275.\u001b[0m\n",
            "\n",
            "regularization_factors, val_score: 0.918104:  75%|#######5  | 15/20 [03:54<01:24, 16.98s/it]\u001b[A"
          ],
          "name": "stderr"
        },
        {
          "output_type": "stream",
          "text": [
            "Early stopping, best iteration is:\n",
            "[53]\tvalid_0's l1: 0.91918\n",
            "Training until validation scores don't improve for 100 rounds.\n",
            "[100]\tvalid_0's l1: 0.91906\n",
            "[200]\tvalid_0's l1: 0.918369\n",
            "[300]\tvalid_0's l1: 0.918811\n"
          ],
          "name": "stdout"
        },
        {
          "output_type": "stream",
          "text": [
            "\n",
            "regularization_factors, val_score: 0.918104:  75%|#######5  | 15/20 [04:18<01:24, 16.98s/it]\u001b[A\n",
            "regularization_factors, val_score: 0.918104:  80%|########  | 16/20 [04:18<01:15, 18.84s/it]\u001b[A\u001b[32m[I 2021-07-08 09:31:52,652]\u001b[0m Trial 58 finished with value: 0.9183679869487634 and parameters: {'lambda_l1': 0.16146138107719726, 'lambda_l2': 0.1360893631318365}. Best is trial 46 with value: 0.918349732299275.\u001b[0m\n",
            "\n",
            "regularization_factors, val_score: 0.918104:  80%|########  | 16/20 [04:18<01:15, 18.84s/it]\u001b[A"
          ],
          "name": "stderr"
        },
        {
          "output_type": "stream",
          "text": [
            "Early stopping, best iteration is:\n",
            "[210]\tvalid_0's l1: 0.918368\n",
            "Training until validation scores don't improve for 100 rounds.\n",
            "[100]\tvalid_0's l1: 0.92228\n"
          ],
          "name": "stdout"
        },
        {
          "output_type": "stream",
          "text": [
            "\n",
            "regularization_factors, val_score: 0.918104:  80%|########  | 16/20 [04:30<01:15, 18.84s/it]\u001b[A\n",
            "regularization_factors, val_score: 0.918104:  85%|########5 | 17/20 [04:30<00:50, 16.89s/it]\u001b[A\u001b[32m[I 2021-07-08 09:32:04,975]\u001b[0m Trial 59 finished with value: 0.921635015847809 and parameters: {'lambda_l1': 7.867286992745075, 'lambda_l2': 0.11598104632732367}. Best is trial 46 with value: 0.918349732299275.\u001b[0m\n",
            "\n",
            "regularization_factors, val_score: 0.918104:  85%|########5 | 17/20 [04:30<00:50, 16.89s/it]\u001b[A"
          ],
          "name": "stderr"
        },
        {
          "output_type": "stream",
          "text": [
            "Early stopping, best iteration is:\n",
            "[54]\tvalid_0's l1: 0.921635\n",
            "Training until validation scores don't improve for 100 rounds.\n",
            "[100]\tvalid_0's l1: 0.922638\n"
          ],
          "name": "stdout"
        },
        {
          "output_type": "stream",
          "text": [
            "\n",
            "regularization_factors, val_score: 0.918104:  85%|########5 | 17/20 [04:44<00:50, 16.89s/it]\u001b[A\n",
            "regularization_factors, val_score: 0.918104:  90%|######### | 18/20 [04:44<00:32, 16.07s/it]\u001b[A\u001b[32m[I 2021-07-08 09:32:19,136]\u001b[0m Trial 60 finished with value: 0.9224551716387257 and parameters: {'lambda_l1': 0.22050895941003287, 'lambda_l2': 3.1658404673324485}. Best is trial 46 with value: 0.918349732299275.\u001b[0m\n",
            "\n",
            "regularization_factors, val_score: 0.918104:  90%|######### | 18/20 [04:44<00:32, 16.07s/it]\u001b[A"
          ],
          "name": "stderr"
        },
        {
          "output_type": "stream",
          "text": [
            "Early stopping, best iteration is:\n",
            "[81]\tvalid_0's l1: 0.922455\n",
            "Training until validation scores don't improve for 100 rounds.\n",
            "[100]\tvalid_0's l1: 0.920518\n",
            "[200]\tvalid_0's l1: 0.920263\n"
          ],
          "name": "stdout"
        },
        {
          "output_type": "stream",
          "text": [
            "\n",
            "regularization_factors, val_score: 0.918104:  90%|######### | 18/20 [05:03<00:32, 16.07s/it]\u001b[A\n",
            "regularization_factors, val_score: 0.918104:  95%|#########5| 19/20 [05:03<00:16, 16.80s/it]\u001b[A\u001b[32m[I 2021-07-08 09:32:37,627]\u001b[0m Trial 61 finished with value: 0.9201691180303039 and parameters: {'lambda_l1': 0.9420521481425597, 'lambda_l2': 0.09084901058833114}. Best is trial 46 with value: 0.918349732299275.\u001b[0m\n",
            "\n",
            "regularization_factors, val_score: 0.918104:  95%|#########5| 19/20 [05:03<00:16, 16.80s/it]\u001b[A"
          ],
          "name": "stderr"
        },
        {
          "output_type": "stream",
          "text": [
            "Early stopping, best iteration is:\n",
            "[142]\tvalid_0's l1: 0.920169\n",
            "Training until validation scores don't improve for 100 rounds.\n",
            "[100]\tvalid_0's l1: 0.923214\n"
          ],
          "name": "stdout"
        },
        {
          "output_type": "stream",
          "text": [
            "\n",
            "regularization_factors, val_score: 0.918104:  95%|#########5| 19/20 [05:17<00:16, 16.80s/it]\u001b[A\n",
            "regularization_factors, val_score: 0.918104: 100%|##########| 20/20 [05:17<00:00, 16.14s/it]\u001b[A\u001b[32m[I 2021-07-08 09:32:52,254]\u001b[0m Trial 62 finished with value: 0.9228428733204951 and parameters: {'lambda_l1': 0.005832098859307741, 'lambda_l2': 7.808166200552542}. Best is trial 46 with value: 0.918349732299275.\u001b[0m\n",
            "regularization_factors, val_score: 0.918104: 100%|##########| 20/20 [05:17<00:00, 15.88s/it]\n",
            "\n",
            "  0%|          | 0/5 [00:00<?, ?it/s]\u001b[A\n",
            "min_data_in_leaf, val_score: 0.918104:   0%|          | 0/5 [00:00<?, ?it/s]\u001b[A"
          ],
          "name": "stderr"
        },
        {
          "output_type": "stream",
          "text": [
            "Early stopping, best iteration is:\n",
            "[85]\tvalid_0's l1: 0.922843\n",
            "Training until validation scores don't improve for 100 rounds.\n",
            "[100]\tvalid_0's l1: 0.918802\n"
          ],
          "name": "stdout"
        },
        {
          "output_type": "stream",
          "text": [
            "\n",
            "min_data_in_leaf, val_score: 0.918104:   0%|          | 0/5 [00:12<?, ?it/s]\u001b[A\n",
            "min_data_in_leaf, val_score: 0.918104:  20%|##        | 1/5 [00:12<00:50, 12.70s/it]\u001b[A\u001b[32m[I 2021-07-08 09:33:04,972]\u001b[0m Trial 63 finished with value: 0.9181088448062976 and parameters: {'min_child_samples': 5}. Best is trial 63 with value: 0.9181088448062976.\u001b[0m\n",
            "\n",
            "min_data_in_leaf, val_score: 0.918104:  20%|##        | 1/5 [00:12<00:50, 12.70s/it]\u001b[A"
          ],
          "name": "stderr"
        },
        {
          "output_type": "stream",
          "text": [
            "Early stopping, best iteration is:\n",
            "[56]\tvalid_0's l1: 0.918109\n",
            "Training until validation scores don't improve for 100 rounds.\n",
            "[100]\tvalid_0's l1: 0.919472\n",
            "[200]\tvalid_0's l1: 0.919099\n",
            "[300]\tvalid_0's l1: 0.919283\n"
          ],
          "name": "stdout"
        },
        {
          "output_type": "stream",
          "text": [
            "\n",
            "min_data_in_leaf, val_score: 0.918104:  20%|##        | 1/5 [00:37<00:50, 12.70s/it]\u001b[A\n",
            "min_data_in_leaf, val_score: 0.918104:  40%|####      | 2/5 [00:37<00:48, 16.21s/it]\u001b[A\u001b[32m[I 2021-07-08 09:33:29,361]\u001b[0m Trial 64 finished with value: 0.9190951334044762 and parameters: {'min_child_samples': 25}. Best is trial 63 with value: 0.9181088448062976.\u001b[0m\n",
            "\n",
            "min_data_in_leaf, val_score: 0.918104:  40%|####      | 2/5 [00:37<00:48, 16.21s/it]\u001b[A"
          ],
          "name": "stderr"
        },
        {
          "output_type": "stream",
          "text": [
            "Early stopping, best iteration is:\n",
            "[227]\tvalid_0's l1: 0.919095\n",
            "Training until validation scores don't improve for 100 rounds.\n",
            "[100]\tvalid_0's l1: 0.919377\n",
            "[200]\tvalid_0's l1: 0.919282\n"
          ],
          "name": "stdout"
        },
        {
          "output_type": "stream",
          "text": [
            "\n",
            "min_data_in_leaf, val_score: 0.918104:  40%|####      | 2/5 [00:58<00:48, 16.21s/it]\u001b[A\n",
            "min_data_in_leaf, val_score: 0.918104:  60%|######    | 3/5 [00:58<00:35, 17.83s/it]\u001b[A\u001b[32m[I 2021-07-08 09:33:50,992]\u001b[0m Trial 65 finished with value: 0.9192447999255335 and parameters: {'min_child_samples': 100}. Best is trial 63 with value: 0.9181088448062976.\u001b[0m\n",
            "\n",
            "min_data_in_leaf, val_score: 0.918104:  60%|######    | 3/5 [00:58<00:35, 17.83s/it]\u001b[A"
          ],
          "name": "stderr"
        },
        {
          "output_type": "stream",
          "text": [
            "Early stopping, best iteration is:\n",
            "[191]\tvalid_0's l1: 0.919245\n",
            "Training until validation scores don't improve for 100 rounds.\n",
            "[100]\tvalid_0's l1: 0.91961\n"
          ],
          "name": "stdout"
        },
        {
          "output_type": "stream",
          "text": [
            "\n",
            "min_data_in_leaf, val_score: 0.918104:  60%|######    | 3/5 [01:11<00:35, 17.83s/it]\u001b[A\n",
            "min_data_in_leaf, val_score: 0.918104:  80%|########  | 4/5 [01:11<00:16, 16.25s/it]\u001b[A\u001b[32m[I 2021-07-08 09:34:03,564]\u001b[0m Trial 66 finished with value: 0.9181088448062978 and parameters: {'min_child_samples': 10}. Best is trial 63 with value: 0.9181088448062976.\u001b[0m\n",
            "\n",
            "min_data_in_leaf, val_score: 0.918104:  80%|########  | 4/5 [01:11<00:16, 16.25s/it]\u001b[A"
          ],
          "name": "stderr"
        },
        {
          "output_type": "stream",
          "text": [
            "Early stopping, best iteration is:\n",
            "[56]\tvalid_0's l1: 0.918109\n",
            "Training until validation scores don't improve for 100 rounds.\n",
            "[100]\tvalid_0's l1: 0.921385\n"
          ],
          "name": "stdout"
        },
        {
          "output_type": "stream",
          "text": [
            "\n",
            "min_data_in_leaf, val_score: 0.918104:  80%|########  | 4/5 [01:25<00:16, 16.25s/it]\u001b[A\n",
            "min_data_in_leaf, val_score: 0.918104: 100%|##########| 5/5 [01:25<00:00, 15.65s/it]\u001b[A\u001b[32m[I 2021-07-08 09:34:17,808]\u001b[0m Trial 67 finished with value: 0.9209542330749453 and parameters: {'min_child_samples': 50}. Best is trial 63 with value: 0.9181088448062976.\u001b[0m\n",
            "min_data_in_leaf, val_score: 0.918104: 100%|##########| 5/5 [01:25<00:00, 17.11s/it]"
          ],
          "name": "stderr"
        },
        {
          "output_type": "stream",
          "text": [
            "Early stopping, best iteration is:\n",
            "[83]\tvalid_0's l1: 0.920954\n",
            "mae: 0.918104204022363\n"
          ],
          "name": "stdout"
        },
        {
          "output_type": "stream",
          "text": [
            "\n",
            "\u001b[32m[I 2021-07-08 09:34:18,345]\u001b[0m A new study created in memory with name: no-name-64842f7c-112c-4358-aa2e-84b01cdc5858\u001b[0m\n",
            "\n",
            "  0%|          | 0/7 [00:00<?, ?it/s]\u001b[A\n",
            "feature_fraction, val_score: inf:   0%|          | 0/7 [00:00<?, ?it/s]\u001b[A/usr/local/lib/python3.7/dist-packages/lightgbm/engine.py:118: UserWarning:\n",
            "\n",
            "Found `n_estimators` in params. Will use it instead of argument\n",
            "\n"
          ],
          "name": "stderr"
        },
        {
          "output_type": "stream",
          "text": [
            "Training until validation scores don't improve for 100 rounds.\n",
            "[100]\tvalid_0's l1: 1.44124\n",
            "[200]\tvalid_0's l1: 1.43069\n",
            "[300]\tvalid_0's l1: 1.42774\n",
            "[400]\tvalid_0's l1: 1.42543\n",
            "[500]\tvalid_0's l1: 1.42373\n",
            "[600]\tvalid_0's l1: 1.42317\n",
            "[700]\tvalid_0's l1: 1.42354\n"
          ],
          "name": "stdout"
        },
        {
          "output_type": "stream",
          "text": [
            "\n",
            "feature_fraction, val_score: 1.423107:   0%|          | 0/7 [00:46<?, ?it/s]\u001b[A\n",
            "feature_fraction, val_score: 1.423107:  14%|#4        | 1/7 [00:46<04:36, 46.06s/it]\u001b[A\u001b[32m[I 2021-07-08 09:35:04,420]\u001b[0m Trial 0 finished with value: 1.4231068706623142 and parameters: {'feature_fraction': 0.5}. Best is trial 0 with value: 1.4231068706623142.\u001b[0m\n",
            "\n",
            "feature_fraction, val_score: 1.423107:  14%|#4        | 1/7 [00:46<04:36, 46.06s/it]\u001b[A"
          ],
          "name": "stderr"
        },
        {
          "output_type": "stream",
          "text": [
            "Early stopping, best iteration is:\n",
            "[616]\tvalid_0's l1: 1.42311\n",
            "Training until validation scores don't improve for 100 rounds.\n",
            "[100]\tvalid_0's l1: 1.44263\n",
            "[200]\tvalid_0's l1: 1.43451\n",
            "[300]\tvalid_0's l1: 1.42825\n",
            "[400]\tvalid_0's l1: 1.42559\n",
            "[500]\tvalid_0's l1: 1.42405\n",
            "[600]\tvalid_0's l1: 1.42269\n",
            "[700]\tvalid_0's l1: 1.42081\n",
            "[800]\tvalid_0's l1: 1.42084\n",
            "[900]\tvalid_0's l1: 1.41983\n",
            "[1000]\tvalid_0's l1: 1.41956\n",
            "[1100]\tvalid_0's l1: 1.4174\n",
            "[1200]\tvalid_0's l1: 1.41654\n",
            "[1300]\tvalid_0's l1: 1.41637\n",
            "[1400]\tvalid_0's l1: 1.41597\n",
            "[1500]\tvalid_0's l1: 1.41561\n"
          ],
          "name": "stdout"
        },
        {
          "output_type": "stream",
          "text": [
            "\n",
            "feature_fraction, val_score: 1.415604:  14%|#4        | 1/7 [02:22<04:36, 46.06s/it]\u001b[A\n",
            "feature_fraction, val_score: 1.415604:  29%|##8       | 2/7 [02:22<05:06, 61.31s/it]\u001b[A\u001b[32m[I 2021-07-08 09:36:41,314]\u001b[0m Trial 1 finished with value: 1.415603752246581 and parameters: {'feature_fraction': 0.6}. Best is trial 1 with value: 1.415603752246581.\u001b[0m\n",
            "\n",
            "feature_fraction, val_score: 1.415604:  29%|##8       | 2/7 [02:22<05:06, 61.31s/it]\u001b[A"
          ],
          "name": "stderr"
        },
        {
          "output_type": "stream",
          "text": [
            "Early stopping, best iteration is:\n",
            "[1498]\tvalid_0's l1: 1.4156\n",
            "Training until validation scores don't improve for 100 rounds.\n",
            "[100]\tvalid_0's l1: 1.43937\n",
            "[200]\tvalid_0's l1: 1.42794\n",
            "[300]\tvalid_0's l1: 1.42538\n",
            "[400]\tvalid_0's l1: 1.42211\n",
            "[500]\tvalid_0's l1: 1.41986\n",
            "[600]\tvalid_0's l1: 1.41912\n",
            "[700]\tvalid_0's l1: 1.41758\n",
            "[800]\tvalid_0's l1: 1.41704\n",
            "[900]\tvalid_0's l1: 1.41628\n",
            "[1000]\tvalid_0's l1: 1.41535\n",
            "[1100]\tvalid_0's l1: 1.41408\n",
            "[1200]\tvalid_0's l1: 1.41365\n",
            "[1300]\tvalid_0's l1: 1.41375\n"
          ],
          "name": "stdout"
        },
        {
          "output_type": "stream",
          "text": [
            "\n",
            "feature_fraction, val_score: 1.413593:  29%|##8       | 2/7 [03:36<05:06, 61.31s/it]\u001b[A\n",
            "feature_fraction, val_score: 1.413593:  43%|####2     | 3/7 [03:36<04:20, 65.00s/it]\u001b[A\u001b[32m[I 2021-07-08 09:37:54,929]\u001b[0m Trial 2 finished with value: 1.4135930512674362 and parameters: {'feature_fraction': 0.4}. Best is trial 2 with value: 1.4135930512674362.\u001b[0m\n",
            "\n",
            "feature_fraction, val_score: 1.413593:  43%|####2     | 3/7 [03:36<04:20, 65.00s/it]\u001b[A"
          ],
          "name": "stderr"
        },
        {
          "output_type": "stream",
          "text": [
            "Early stopping, best iteration is:\n",
            "[1214]\tvalid_0's l1: 1.41359\n",
            "Training until validation scores don't improve for 100 rounds.\n",
            "[100]\tvalid_0's l1: 1.44547\n",
            "[200]\tvalid_0's l1: 1.43917\n",
            "[300]\tvalid_0's l1: 1.43042\n",
            "[400]\tvalid_0's l1: 1.42931\n",
            "[500]\tvalid_0's l1: 1.4272\n",
            "[600]\tvalid_0's l1: 1.4255\n",
            "[700]\tvalid_0's l1: 1.42435\n",
            "[800]\tvalid_0's l1: 1.41985\n",
            "[900]\tvalid_0's l1: 1.41948\n",
            "[1000]\tvalid_0's l1: 1.41891\n"
          ],
          "name": "stdout"
        },
        {
          "output_type": "stream",
          "text": [
            "\n",
            "feature_fraction, val_score: 1.413593:  43%|####2     | 3/7 [04:40<04:20, 65.00s/it]\u001b[A\n",
            "feature_fraction, val_score: 1.413593:  57%|#####7    | 4/7 [04:40<03:14, 64.68s/it]\u001b[A\u001b[32m[I 2021-07-08 09:38:58,871]\u001b[0m Trial 3 finished with value: 1.4188533547392956 and parameters: {'feature_fraction': 0.8}. Best is trial 2 with value: 1.4135930512674362.\u001b[0m\n",
            "\n",
            "feature_fraction, val_score: 1.413593:  57%|#####7    | 4/7 [04:40<03:14, 64.68s/it]\u001b[A"
          ],
          "name": "stderr"
        },
        {
          "output_type": "stream",
          "text": [
            "Early stopping, best iteration is:\n",
            "[979]\tvalid_0's l1: 1.41885\n",
            "Training until validation scores don't improve for 100 rounds.\n",
            "[100]\tvalid_0's l1: 1.44509\n",
            "[200]\tvalid_0's l1: 1.4387\n",
            "[300]\tvalid_0's l1: 1.4344\n",
            "[400]\tvalid_0's l1: 1.43252\n",
            "[500]\tvalid_0's l1: 1.43013\n",
            "[600]\tvalid_0's l1: 1.42579\n",
            "[700]\tvalid_0's l1: 1.42514\n",
            "[800]\tvalid_0's l1: 1.42389\n",
            "[900]\tvalid_0's l1: 1.4209\n",
            "[1000]\tvalid_0's l1: 1.421\n"
          ],
          "name": "stdout"
        },
        {
          "output_type": "stream",
          "text": [
            "\n",
            "feature_fraction, val_score: 1.413593:  57%|#####7    | 4/7 [05:50<03:14, 64.68s/it]\u001b[A\n",
            "feature_fraction, val_score: 1.413593:  71%|#######1  | 5/7 [05:50<02:12, 66.29s/it]\u001b[A\u001b[32m[I 2021-07-08 09:40:08,904]\u001b[0m Trial 4 finished with value: 1.420837606067982 and parameters: {'feature_fraction': 1.0}. Best is trial 2 with value: 1.4135930512674362.\u001b[0m\n",
            "\n",
            "feature_fraction, val_score: 1.413593:  71%|#######1  | 5/7 [05:50<02:12, 66.29s/it]\u001b[A"
          ],
          "name": "stderr"
        },
        {
          "output_type": "stream",
          "text": [
            "Early stopping, best iteration is:\n",
            "[938]\tvalid_0's l1: 1.42084\n",
            "Training until validation scores don't improve for 100 rounds.\n",
            "[100]\tvalid_0's l1: 1.44262\n",
            "[200]\tvalid_0's l1: 1.43433\n",
            "[300]\tvalid_0's l1: 1.43041\n",
            "[400]\tvalid_0's l1: 1.42861\n",
            "[500]\tvalid_0's l1: 1.42406\n",
            "[600]\tvalid_0's l1: 1.42327\n",
            "[700]\tvalid_0's l1: 1.4228\n",
            "[800]\tvalid_0's l1: 1.42099\n",
            "[900]\tvalid_0's l1: 1.42053\n",
            "[1000]\tvalid_0's l1: 1.41896\n",
            "[1100]\tvalid_0's l1: 1.41877\n",
            "[1200]\tvalid_0's l1: 1.41763\n",
            "[1300]\tvalid_0's l1: 1.41745\n",
            "[1400]\tvalid_0's l1: 1.41717\n",
            "[1500]\tvalid_0's l1: 1.41619\n",
            "[1600]\tvalid_0's l1: 1.41594\n"
          ],
          "name": "stdout"
        },
        {
          "output_type": "stream",
          "text": [
            "\n",
            "feature_fraction, val_score: 1.413593:  71%|#######1  | 5/7 [07:31<02:12, 66.29s/it]\u001b[A\n",
            "feature_fraction, val_score: 1.413593:  86%|########5 | 6/7 [07:31<01:16, 76.71s/it]\u001b[A"
          ],
          "name": "stderr"
        },
        {
          "output_type": "stream",
          "text": [
            "Early stopping, best iteration is:\n",
            "[1590]\tvalid_0's l1: 1.41586\n"
          ],
          "name": "stdout"
        },
        {
          "output_type": "stream",
          "text": [
            "\u001b[32m[I 2021-07-08 09:41:49,939]\u001b[0m Trial 5 finished with value: 1.4158616967153164 and parameters: {'feature_fraction': 0.7}. Best is trial 2 with value: 1.4135930512674362.\u001b[0m\n",
            "\n",
            "feature_fraction, val_score: 1.413593:  86%|########5 | 6/7 [07:31<01:16, 76.71s/it]\u001b[A"
          ],
          "name": "stderr"
        },
        {
          "output_type": "stream",
          "text": [
            "Training until validation scores don't improve for 100 rounds.\n",
            "[100]\tvalid_0's l1: 1.44623\n",
            "[200]\tvalid_0's l1: 1.44253\n",
            "[300]\tvalid_0's l1: 1.43916\n",
            "[400]\tvalid_0's l1: 1.43774\n",
            "[500]\tvalid_0's l1: 1.43427\n",
            "[600]\tvalid_0's l1: 1.43182\n",
            "[700]\tvalid_0's l1: 1.43054\n",
            "[800]\tvalid_0's l1: 1.42928\n",
            "[900]\tvalid_0's l1: 1.42801\n",
            "[1000]\tvalid_0's l1: 1.42779\n"
          ],
          "name": "stdout"
        },
        {
          "output_type": "stream",
          "text": [
            "\n",
            "feature_fraction, val_score: 1.413593:  86%|########5 | 6/7 [08:33<01:16, 76.71s/it]\u001b[A\n",
            "feature_fraction, val_score: 1.413593: 100%|##########| 7/7 [08:33<00:00, 72.42s/it]\u001b[A\u001b[32m[I 2021-07-08 09:42:52,333]\u001b[0m Trial 6 finished with value: 1.4276805488879711 and parameters: {'feature_fraction': 0.8999999999999999}. Best is trial 2 with value: 1.4135930512674362.\u001b[0m\n",
            "feature_fraction, val_score: 1.413593: 100%|##########| 7/7 [08:33<00:00, 73.43s/it]\n",
            "\n",
            "  0%|          | 0/20 [00:00<?, ?it/s]\u001b[A\n",
            "num_leaves, val_score: 1.413593:   0%|          | 0/20 [00:00<?, ?it/s]\u001b[A"
          ],
          "name": "stderr"
        },
        {
          "output_type": "stream",
          "text": [
            "Early stopping, best iteration is:\n",
            "[936]\tvalid_0's l1: 1.42768\n",
            "Training until validation scores don't improve for 100 rounds.\n",
            "[100]\tvalid_0's l1: 1.41654\n",
            "[200]\tvalid_0's l1: 1.40528\n",
            "[300]\tvalid_0's l1: 1.39655\n",
            "[400]\tvalid_0's l1: 1.39178\n",
            "[500]\tvalid_0's l1: 1.38921\n",
            "[600]\tvalid_0's l1: 1.3861\n",
            "[700]\tvalid_0's l1: 1.38522\n",
            "[800]\tvalid_0's l1: 1.38399\n",
            "[900]\tvalid_0's l1: 1.38259\n",
            "[1000]\tvalid_0's l1: 1.38206\n",
            "[1100]\tvalid_0's l1: 1.38209\n",
            "[1200]\tvalid_0's l1: 1.38158\n",
            "[1300]\tvalid_0's l1: 1.38143\n",
            "[1400]\tvalid_0's l1: 1.38044\n",
            "[1500]\tvalid_0's l1: 1.3802\n",
            "[1600]\tvalid_0's l1: 1.37985\n",
            "Early stopping, best iteration is:\n",
            "[1535]\tvalid_0's l1: 1.37981\n"
          ],
          "name": "stdout"
        },
        {
          "output_type": "stream",
          "text": [
            "\n",
            "num_leaves, val_score: 1.379806:   0%|          | 0/20 [01:58<?, ?it/s]\u001b[A\n",
            "num_leaves, val_score: 1.379806:   5%|5         | 1/20 [01:58<37:23, 118.06s/it]\u001b[A\u001b[32m[I 2021-07-08 09:44:50,408]\u001b[0m Trial 7 finished with value: 1.3798061130650427 and parameters: {'num_leaves': 226}. Best is trial 7 with value: 1.3798061130650427.\u001b[0m\n",
            "\n",
            "num_leaves, val_score: 1.379806:   5%|5         | 1/20 [01:58<37:23, 118.06s/it]\u001b[A"
          ],
          "name": "stderr"
        },
        {
          "output_type": "stream",
          "text": [
            "Training until validation scores don't improve for 100 rounds.\n",
            "[100]\tvalid_0's l1: 1.44197\n",
            "[200]\tvalid_0's l1: 1.43121\n",
            "[300]\tvalid_0's l1: 1.42553\n",
            "[400]\tvalid_0's l1: 1.42293\n",
            "[500]\tvalid_0's l1: 1.41991\n",
            "[600]\tvalid_0's l1: 1.41898\n",
            "[700]\tvalid_0's l1: 1.41522\n",
            "[800]\tvalid_0's l1: 1.41466\n",
            "[900]\tvalid_0's l1: 1.41299\n",
            "[1000]\tvalid_0's l1: 1.41186\n",
            "[1100]\tvalid_0's l1: 1.41065\n",
            "[1200]\tvalid_0's l1: 1.41049\n"
          ],
          "name": "stdout"
        },
        {
          "output_type": "stream",
          "text": [
            "\n",
            "num_leaves, val_score: 1.379806:   5%|5         | 1/20 [03:10<37:23, 118.06s/it]\u001b[A\n",
            "num_leaves, val_score: 1.379806:  10%|#         | 2/20 [03:10<31:16, 104.24s/it]\u001b[A\u001b[32m[I 2021-07-08 09:46:02,416]\u001b[0m Trial 8 finished with value: 1.4104623570282238 and parameters: {'num_leaves': 107}. Best is trial 7 with value: 1.3798061130650427.\u001b[0m\n",
            "\n",
            "num_leaves, val_score: 1.379806:  10%|#         | 2/20 [03:10<31:16, 104.24s/it]\u001b[A"
          ],
          "name": "stderr"
        },
        {
          "output_type": "stream",
          "text": [
            "Early stopping, best iteration is:\n",
            "[1173]\tvalid_0's l1: 1.41046\n",
            "Training until validation scores don't improve for 100 rounds.\n",
            "[100]\tvalid_0's l1: 1.47434\n",
            "[200]\tvalid_0's l1: 1.45617\n",
            "[300]\tvalid_0's l1: 1.4538\n",
            "[400]\tvalid_0's l1: 1.44974\n",
            "[500]\tvalid_0's l1: 1.44904\n",
            "[600]\tvalid_0's l1: 1.44831\n",
            "[700]\tvalid_0's l1: 1.44406\n",
            "[800]\tvalid_0's l1: 1.44332\n",
            "[900]\tvalid_0's l1: 1.44212\n",
            "[1000]\tvalid_0's l1: 1.43948\n",
            "[1100]\tvalid_0's l1: 1.43887\n"
          ],
          "name": "stdout"
        },
        {
          "output_type": "stream",
          "text": [
            "\n",
            "num_leaves, val_score: 1.379806:  10%|#         | 2/20 [04:05<31:16, 104.24s/it]\u001b[A\n",
            "num_leaves, val_score: 1.379806:  15%|#5        | 3/20 [04:05<25:23, 89.61s/it] \u001b[A\u001b[32m[I 2021-07-08 09:46:57,895]\u001b[0m Trial 9 finished with value: 1.4385461061014733 and parameters: {'num_leaves': 26}. Best is trial 7 with value: 1.3798061130650427.\u001b[0m\n",
            "\n",
            "num_leaves, val_score: 1.379806:  15%|#5        | 3/20 [04:05<25:23, 89.61s/it]\u001b[A"
          ],
          "name": "stderr"
        },
        {
          "output_type": "stream",
          "text": [
            "Early stopping, best iteration is:\n",
            "[1079]\tvalid_0's l1: 1.43855\n",
            "Training until validation scores don't improve for 100 rounds.\n",
            "[100]\tvalid_0's l1: 1.44552\n",
            "[200]\tvalid_0's l1: 1.43603\n",
            "[300]\tvalid_0's l1: 1.43205\n",
            "[400]\tvalid_0's l1: 1.42669\n",
            "[500]\tvalid_0's l1: 1.42524\n"
          ],
          "name": "stdout"
        },
        {
          "output_type": "stream",
          "text": [
            "\n",
            "num_leaves, val_score: 1.379806:  15%|#5        | 3/20 [04:36<25:23, 89.61s/it]\u001b[A\n",
            "num_leaves, val_score: 1.379806:  20%|##        | 4/20 [04:36<19:14, 72.13s/it]\u001b[A\u001b[32m[I 2021-07-08 09:47:29,212]\u001b[0m Trial 10 finished with value: 1.4244308543815616 and parameters: {'num_leaves': 85}. Best is trial 7 with value: 1.3798061130650427.\u001b[0m\n",
            "\n",
            "num_leaves, val_score: 1.379806:  20%|##        | 4/20 [04:36<19:14, 72.13s/it]\u001b[A"
          ],
          "name": "stderr"
        },
        {
          "output_type": "stream",
          "text": [
            "Early stopping, best iteration is:\n",
            "[451]\tvalid_0's l1: 1.42443\n",
            "Training until validation scores don't improve for 100 rounds.\n",
            "[100]\tvalid_0's l1: 1.45758\n",
            "[200]\tvalid_0's l1: 1.44486\n",
            "[300]\tvalid_0's l1: 1.44044\n",
            "[400]\tvalid_0's l1: 1.43845\n",
            "[500]\tvalid_0's l1: 1.43521\n",
            "[600]\tvalid_0's l1: 1.43302\n",
            "[700]\tvalid_0's l1: 1.43245\n",
            "[800]\tvalid_0's l1: 1.43091\n"
          ],
          "name": "stdout"
        },
        {
          "output_type": "stream",
          "text": [
            "\n",
            "num_leaves, val_score: 1.379806:  20%|##        | 4/20 [05:22<19:14, 72.13s/it]\u001b[A\n",
            "num_leaves, val_score: 1.379806:  25%|##5       | 5/20 [05:22<16:00, 64.03s/it]\u001b[A\u001b[32m[I 2021-07-08 09:48:14,370]\u001b[0m Trial 11 finished with value: 1.4298245546392692 and parameters: {'num_leaves': 59}. Best is trial 7 with value: 1.3798061130650427.\u001b[0m\n",
            "\n",
            "num_leaves, val_score: 1.379806:  25%|##5       | 5/20 [05:22<16:00, 64.03s/it]\u001b[A"
          ],
          "name": "stderr"
        },
        {
          "output_type": "stream",
          "text": [
            "Early stopping, best iteration is:\n",
            "[760]\tvalid_0's l1: 1.42982\n",
            "Training until validation scores don't improve for 100 rounds.\n",
            "[100]\tvalid_0's l1: 1.6354\n",
            "[200]\tvalid_0's l1: 1.56689\n",
            "[300]\tvalid_0's l1: 1.54671\n",
            "[400]\tvalid_0's l1: 1.52957\n",
            "[500]\tvalid_0's l1: 1.52446\n",
            "[600]\tvalid_0's l1: 1.52113\n",
            "[700]\tvalid_0's l1: 1.52\n",
            "[800]\tvalid_0's l1: 1.51624\n",
            "[900]\tvalid_0's l1: 1.51588\n",
            "[1000]\tvalid_0's l1: 1.51252\n",
            "[1100]\tvalid_0's l1: 1.51024\n",
            "[1200]\tvalid_0's l1: 1.51063\n"
          ],
          "name": "stdout"
        },
        {
          "output_type": "stream",
          "text": [
            "\n",
            "num_leaves, val_score: 1.379806:  25%|##5       | 5/20 [06:11<16:00, 64.03s/it]\u001b[A\n",
            "num_leaves, val_score: 1.379806:  30%|###       | 6/20 [06:11<13:57, 59.79s/it]\u001b[A\u001b[32m[I 2021-07-08 09:49:04,259]\u001b[0m Trial 12 finished with value: 1.5102267140611345 and parameters: {'num_leaves': 3}. Best is trial 7 with value: 1.3798061130650427.\u001b[0m\n",
            "\n",
            "num_leaves, val_score: 1.379806:  30%|###       | 6/20 [06:11<13:57, 59.79s/it]\u001b[A"
          ],
          "name": "stderr"
        },
        {
          "output_type": "stream",
          "text": [
            "Early stopping, best iteration is:\n",
            "[1115]\tvalid_0's l1: 1.51023\n",
            "Training until validation scores don't improve for 100 rounds.\n",
            "[100]\tvalid_0's l1: 1.41528\n",
            "[200]\tvalid_0's l1: 1.40179\n",
            "[300]\tvalid_0's l1: 1.39501\n",
            "[400]\tvalid_0's l1: 1.3907\n",
            "[500]\tvalid_0's l1: 1.38792\n",
            "[600]\tvalid_0's l1: 1.38541\n",
            "[700]\tvalid_0's l1: 1.38383\n",
            "[800]\tvalid_0's l1: 1.38163\n",
            "[900]\tvalid_0's l1: 1.38032\n",
            "[1000]\tvalid_0's l1: 1.37855\n",
            "[1100]\tvalid_0's l1: 1.37784\n",
            "[1200]\tvalid_0's l1: 1.37704\n",
            "[1300]\tvalid_0's l1: 1.37669\n",
            "[1400]\tvalid_0's l1: 1.37667\n",
            "[1500]\tvalid_0's l1: 1.37618\n",
            "[1600]\tvalid_0's l1: 1.37603\n",
            "[1700]\tvalid_0's l1: 1.37585\n",
            "[1800]\tvalid_0's l1: 1.37557\n",
            "[1900]\tvalid_0's l1: 1.37542\n",
            "Early stopping, best iteration is:\n",
            "[1858]\tvalid_0's l1: 1.37519\n"
          ],
          "name": "stdout"
        },
        {
          "output_type": "stream",
          "text": [
            "\n",
            "num_leaves, val_score: 1.375188:  30%|###       | 6/20 [08:28<13:57, 59.79s/it]\u001b[A\n",
            "num_leaves, val_score: 1.375188:  35%|###5      | 7/20 [08:28<17:55, 82.74s/it]\u001b[A\u001b[32m[I 2021-07-08 09:51:20,553]\u001b[0m Trial 13 finished with value: 1.3751882320051936 and parameters: {'num_leaves': 233}. Best is trial 13 with value: 1.3751882320051936.\u001b[0m\n",
            "\n",
            "num_leaves, val_score: 1.375188:  35%|###5      | 7/20 [08:28<17:55, 82.74s/it]\u001b[A"
          ],
          "name": "stderr"
        },
        {
          "output_type": "stream",
          "text": [
            "Training until validation scores don't improve for 100 rounds.\n",
            "[100]\tvalid_0's l1: 1.48682\n",
            "[200]\tvalid_0's l1: 1.47274\n",
            "[300]\tvalid_0's l1: 1.46461\n",
            "[400]\tvalid_0's l1: 1.46067\n",
            "[500]\tvalid_0's l1: 1.45888\n",
            "[600]\tvalid_0's l1: 1.45444\n",
            "[700]\tvalid_0's l1: 1.45352\n",
            "[800]\tvalid_0's l1: 1.45253\n",
            "[900]\tvalid_0's l1: 1.45035\n"
          ],
          "name": "stdout"
        },
        {
          "output_type": "stream",
          "text": [
            "\n",
            "num_leaves, val_score: 1.375188:  35%|###5      | 7/20 [09:11<17:55, 82.74s/it]\u001b[A\n",
            "num_leaves, val_score: 1.375188:  40%|####      | 8/20 [09:11<14:11, 70.98s/it]\u001b[A\u001b[32m[I 2021-07-08 09:52:04,104]\u001b[0m Trial 14 finished with value: 1.4500692634074963 and parameters: {'num_leaves': 20}. Best is trial 13 with value: 1.3751882320051936.\u001b[0m\n",
            "\n",
            "num_leaves, val_score: 1.375188:  40%|####      | 8/20 [09:11<14:11, 70.98s/it]\u001b[A"
          ],
          "name": "stderr"
        },
        {
          "output_type": "stream",
          "text": [
            "Early stopping, best iteration is:\n",
            "[835]\tvalid_0's l1: 1.45007\n",
            "Training until validation scores don't improve for 100 rounds.\n",
            "[100]\tvalid_0's l1: 1.42668\n",
            "[200]\tvalid_0's l1: 1.41339\n",
            "[300]\tvalid_0's l1: 1.40598\n",
            "[400]\tvalid_0's l1: 1.4021\n",
            "[500]\tvalid_0's l1: 1.39923\n",
            "[600]\tvalid_0's l1: 1.39695\n",
            "[700]\tvalid_0's l1: 1.39446\n",
            "[800]\tvalid_0's l1: 1.39305\n",
            "[900]\tvalid_0's l1: 1.39236\n",
            "[1000]\tvalid_0's l1: 1.39151\n",
            "[1100]\tvalid_0's l1: 1.3904\n",
            "[1200]\tvalid_0's l1: 1.38943\n",
            "[1300]\tvalid_0's l1: 1.38919\n",
            "[1400]\tvalid_0's l1: 1.38888\n",
            "[1500]\tvalid_0's l1: 1.38749\n",
            "[1600]\tvalid_0's l1: 1.38633\n",
            "[1700]\tvalid_0's l1: 1.38571\n",
            "[1800]\tvalid_0's l1: 1.38571\n",
            "Early stopping, best iteration is:\n",
            "[1752]\tvalid_0's l1: 1.3856\n"
          ],
          "name": "stdout"
        },
        {
          "output_type": "stream",
          "text": [
            "\n",
            "num_leaves, val_score: 1.375188:  40%|####      | 8/20 [11:10<14:11, 70.98s/it]\u001b[A\n",
            "num_leaves, val_score: 1.375188:  45%|####5     | 9/20 [11:10<15:38, 85.29s/it]\u001b[A\u001b[32m[I 2021-07-08 09:54:02,790]\u001b[0m Trial 15 finished with value: 1.385599447932168 and parameters: {'num_leaves': 190}. Best is trial 13 with value: 1.3751882320051936.\u001b[0m\n",
            "\n",
            "num_leaves, val_score: 1.375188:  45%|####5     | 9/20 [11:10<15:38, 85.29s/it]\u001b[A"
          ],
          "name": "stderr"
        },
        {
          "output_type": "stream",
          "text": [
            "Training until validation scores don't improve for 100 rounds.\n",
            "[100]\tvalid_0's l1: 1.44174\n",
            "[200]\tvalid_0's l1: 1.42935\n",
            "[300]\tvalid_0's l1: 1.42585\n",
            "[400]\tvalid_0's l1: 1.42245\n",
            "[500]\tvalid_0's l1: 1.42043\n",
            "[600]\tvalid_0's l1: 1.41862\n",
            "[700]\tvalid_0's l1: 1.4167\n",
            "[800]\tvalid_0's l1: 1.41368\n",
            "[900]\tvalid_0's l1: 1.41367\n",
            "[1000]\tvalid_0's l1: 1.41336\n",
            "[1100]\tvalid_0's l1: 1.41289\n",
            "[1200]\tvalid_0's l1: 1.41184\n",
            "[1300]\tvalid_0's l1: 1.41122\n",
            "[1400]\tvalid_0's l1: 1.41091\n",
            "[1500]\tvalid_0's l1: 1.41037\n",
            "[1600]\tvalid_0's l1: 1.40993\n",
            "[1700]\tvalid_0's l1: 1.40921\n",
            "[1800]\tvalid_0's l1: 1.40872\n",
            "[1900]\tvalid_0's l1: 1.40834\n",
            "[2000]\tvalid_0's l1: 1.40745\n",
            "[2100]\tvalid_0's l1: 1.40728\n",
            "Early stopping, best iteration is:\n",
            "[2012]\tvalid_0's l1: 1.40713\n"
          ],
          "name": "stdout"
        },
        {
          "output_type": "stream",
          "text": [
            "\n",
            "num_leaves, val_score: 1.375188:  45%|####5     | 9/20 [13:04<15:38, 85.29s/it]\u001b[A\n",
            "num_leaves, val_score: 1.375188:  50%|#####     | 10/20 [13:04<15:38, 93.81s/it]\u001b[A\u001b[32m[I 2021-07-08 09:55:56,459]\u001b[0m Trial 16 finished with value: 1.4071281928406487 and parameters: {'num_leaves': 112}. Best is trial 13 with value: 1.3751882320051936.\u001b[0m\n",
            "\n",
            "num_leaves, val_score: 1.375188:  50%|#####     | 10/20 [13:04<15:38, 93.81s/it]\u001b[A"
          ],
          "name": "stderr"
        },
        {
          "output_type": "stream",
          "text": [
            "Training until validation scores don't improve for 100 rounds.\n",
            "[100]\tvalid_0's l1: 1.43066\n",
            "[200]\tvalid_0's l1: 1.42204\n",
            "[300]\tvalid_0's l1: 1.41416\n",
            "[400]\tvalid_0's l1: 1.40885\n",
            "[500]\tvalid_0's l1: 1.40412\n",
            "[600]\tvalid_0's l1: 1.4028\n",
            "[700]\tvalid_0's l1: 1.40151\n",
            "[800]\tvalid_0's l1: 1.4\n",
            "[900]\tvalid_0's l1: 1.39907\n",
            "[1000]\tvalid_0's l1: 1.39741\n",
            "[1100]\tvalid_0's l1: 1.39661\n",
            "[1200]\tvalid_0's l1: 1.39612\n",
            "[1300]\tvalid_0's l1: 1.39604\n",
            "[1400]\tvalid_0's l1: 1.39551\n",
            "[1500]\tvalid_0's l1: 1.39457\n",
            "[1600]\tvalid_0's l1: 1.39402\n",
            "[1700]\tvalid_0's l1: 1.39346\n",
            "[1800]\tvalid_0's l1: 1.39296\n",
            "[1900]\tvalid_0's l1: 1.39248\n",
            "Early stopping, best iteration is:\n",
            "[1845]\tvalid_0's l1: 1.39243\n"
          ],
          "name": "stdout"
        },
        {
          "output_type": "stream",
          "text": [
            "\n",
            "num_leaves, val_score: 1.375188:  50%|#####     | 10/20 [15:05<15:38, 93.81s/it]\u001b[A\n",
            "num_leaves, val_score: 1.375188:  55%|#####5    | 11/20 [15:05<15:19, 102.11s/it]\u001b[A\u001b[32m[I 2021-07-08 09:57:57,955]\u001b[0m Trial 17 finished with value: 1.392429409260022 and parameters: {'num_leaves': 171}. Best is trial 13 with value: 1.3751882320051936.\u001b[0m\n",
            "\n",
            "num_leaves, val_score: 1.375188:  55%|#####5    | 11/20 [15:05<15:19, 102.11s/it]\u001b[A"
          ],
          "name": "stderr"
        },
        {
          "output_type": "stream",
          "text": [
            "Training until validation scores don't improve for 100 rounds.\n",
            "[100]\tvalid_0's l1: 1.41361\n",
            "[200]\tvalid_0's l1: 1.40004\n",
            "[300]\tvalid_0's l1: 1.39243\n",
            "[400]\tvalid_0's l1: 1.38932\n",
            "[500]\tvalid_0's l1: 1.38602\n",
            "[600]\tvalid_0's l1: 1.38172\n",
            "[700]\tvalid_0's l1: 1.37973\n",
            "[800]\tvalid_0's l1: 1.3781\n",
            "[900]\tvalid_0's l1: 1.37561\n",
            "[1000]\tvalid_0's l1: 1.37457\n",
            "[1100]\tvalid_0's l1: 1.37433\n",
            "Early stopping, best iteration is:\n",
            "[1050]\tvalid_0's l1: 1.37415\n"
          ],
          "name": "stdout"
        },
        {
          "output_type": "stream",
          "text": [
            "\n",
            "num_leaves, val_score: 1.374148:  55%|#####5    | 11/20 [16:27<15:19, 102.11s/it]\u001b[A\n",
            "num_leaves, val_score: 1.374148:  60%|######    | 12/20 [16:27<12:47, 95.98s/it] \u001b[A\u001b[32m[I 2021-07-08 09:59:19,622]\u001b[0m Trial 18 finished with value: 1.3741482245255432 and parameters: {'num_leaves': 245}. Best is trial 18 with value: 1.3741482245255432.\u001b[0m\n",
            "\n",
            "num_leaves, val_score: 1.374148:  60%|######    | 12/20 [16:27<12:47, 95.98s/it]\u001b[A"
          ],
          "name": "stderr"
        },
        {
          "output_type": "stream",
          "text": [
            "Training until validation scores don't improve for 100 rounds.\n",
            "[100]\tvalid_0's l1: 1.41177\n",
            "[200]\tvalid_0's l1: 1.40076\n",
            "[300]\tvalid_0's l1: 1.3955\n",
            "[400]\tvalid_0's l1: 1.39068\n",
            "[500]\tvalid_0's l1: 1.38707\n",
            "[600]\tvalid_0's l1: 1.38517\n",
            "[700]\tvalid_0's l1: 1.3827\n",
            "[800]\tvalid_0's l1: 1.38111\n",
            "[900]\tvalid_0's l1: 1.37913\n",
            "[1000]\tvalid_0's l1: 1.37899\n",
            "[1100]\tvalid_0's l1: 1.3782\n",
            "[1200]\tvalid_0's l1: 1.37785\n",
            "[1300]\tvalid_0's l1: 1.37689\n",
            "[1400]\tvalid_0's l1: 1.37637\n",
            "[1500]\tvalid_0's l1: 1.37579\n",
            "[1600]\tvalid_0's l1: 1.37541\n",
            "[1700]\tvalid_0's l1: 1.37518\n",
            "[1800]\tvalid_0's l1: 1.37486\n",
            "[1900]\tvalid_0's l1: 1.37432\n",
            "[2000]\tvalid_0's l1: 1.37403\n",
            "[2100]\tvalid_0's l1: 1.3733\n",
            "[2200]\tvalid_0's l1: 1.37314\n",
            "[2300]\tvalid_0's l1: 1.37287\n",
            "Early stopping, best iteration is:\n",
            "[2293]\tvalid_0's l1: 1.37282\n"
          ],
          "name": "stdout"
        },
        {
          "output_type": "stream",
          "text": [
            "\n",
            "num_leaves, val_score: 1.372818:  60%|######    | 12/20 [19:17<12:47, 95.98s/it]\u001b[A\n",
            "num_leaves, val_score: 1.372818:  65%|######5   | 13/20 [19:17<13:46, 118.13s/it]\u001b[A\u001b[32m[I 2021-07-08 10:02:09,422]\u001b[0m Trial 19 finished with value: 1.3728184604102467 and parameters: {'num_leaves': 240}. Best is trial 19 with value: 1.3728184604102467.\u001b[0m\n",
            "\n",
            "num_leaves, val_score: 1.372818:  65%|######5   | 13/20 [19:17<13:46, 118.13s/it]\u001b[A"
          ],
          "name": "stderr"
        },
        {
          "output_type": "stream",
          "text": [
            "Training until validation scores don't improve for 100 rounds.\n",
            "[100]\tvalid_0's l1: 1.41316\n",
            "[200]\tvalid_0's l1: 1.39887\n",
            "[300]\tvalid_0's l1: 1.39239\n",
            "[400]\tvalid_0's l1: 1.38693\n",
            "[500]\tvalid_0's l1: 1.38515\n",
            "[600]\tvalid_0's l1: 1.3839\n",
            "[700]\tvalid_0's l1: 1.38206\n",
            "[800]\tvalid_0's l1: 1.38089\n",
            "[900]\tvalid_0's l1: 1.37937\n",
            "[1000]\tvalid_0's l1: 1.37831\n",
            "[1100]\tvalid_0's l1: 1.37799\n",
            "[1200]\tvalid_0's l1: 1.37721\n",
            "[1300]\tvalid_0's l1: 1.37689\n",
            "[1400]\tvalid_0's l1: 1.37659\n",
            "[1500]\tvalid_0's l1: 1.37673\n",
            "[1600]\tvalid_0's l1: 1.37647\n",
            "Early stopping, best iteration is:\n",
            "[1532]\tvalid_0's l1: 1.37626\n"
          ],
          "name": "stdout"
        },
        {
          "output_type": "stream",
          "text": [
            "\n",
            "num_leaves, val_score: 1.372818:  65%|######5   | 13/20 [21:10<13:46, 118.13s/it]\u001b[A\n",
            "num_leaves, val_score: 1.372818:  70%|#######   | 14/20 [21:10<11:40, 116.80s/it]\u001b[A\u001b[32m[I 2021-07-08 10:04:03,114]\u001b[0m Trial 20 finished with value: 1.3762551541660673 and parameters: {'num_leaves': 252}. Best is trial 19 with value: 1.3728184604102467.\u001b[0m\n",
            "\n",
            "num_leaves, val_score: 1.372818:  70%|#######   | 14/20 [21:10<11:40, 116.80s/it]\u001b[A"
          ],
          "name": "stderr"
        },
        {
          "output_type": "stream",
          "text": [
            "Training until validation scores don't improve for 100 rounds.\n",
            "[100]\tvalid_0's l1: 1.43006\n",
            "[200]\tvalid_0's l1: 1.42067\n",
            "[300]\tvalid_0's l1: 1.41125\n",
            "[400]\tvalid_0's l1: 1.40502\n",
            "[500]\tvalid_0's l1: 1.40356\n",
            "[600]\tvalid_0's l1: 1.40149\n",
            "[700]\tvalid_0's l1: 1.39959\n",
            "[800]\tvalid_0's l1: 1.39836\n",
            "[900]\tvalid_0's l1: 1.39673\n",
            "[1000]\tvalid_0's l1: 1.39555\n",
            "[1100]\tvalid_0's l1: 1.395\n"
          ],
          "name": "stdout"
        },
        {
          "output_type": "stream",
          "text": [
            "\n",
            "num_leaves, val_score: 1.372818:  70%|#######   | 14/20 [22:21<11:40, 116.80s/it]\u001b[A\n",
            "num_leaves, val_score: 1.372818:  75%|#######5  | 15/20 [22:21<08:35, 103.11s/it]\u001b[A"
          ],
          "name": "stderr"
        },
        {
          "output_type": "stream",
          "text": [
            "Early stopping, best iteration is:\n",
            "[1053]\tvalid_0's l1: 1.39465\n"
          ],
          "name": "stdout"
        },
        {
          "output_type": "stream",
          "text": [
            "\u001b[32m[I 2021-07-08 10:05:14,279]\u001b[0m Trial 21 finished with value: 1.3946460290056553 and parameters: {'num_leaves': 174}. Best is trial 19 with value: 1.3728184604102467.\u001b[0m\n",
            "\n",
            "num_leaves, val_score: 1.372818:  75%|#######5  | 15/20 [22:21<08:35, 103.11s/it]\u001b[A"
          ],
          "name": "stderr"
        },
        {
          "output_type": "stream",
          "text": [
            "Training until validation scores don't improve for 100 rounds.\n",
            "[100]\tvalid_0's l1: 1.41028\n",
            "[200]\tvalid_0's l1: 1.39812\n",
            "[300]\tvalid_0's l1: 1.38942\n",
            "[400]\tvalid_0's l1: 1.38725\n",
            "[500]\tvalid_0's l1: 1.38247\n",
            "[600]\tvalid_0's l1: 1.38074\n",
            "[700]\tvalid_0's l1: 1.37975\n",
            "[800]\tvalid_0's l1: 1.37781\n",
            "[900]\tvalid_0's l1: 1.37705\n",
            "[1000]\tvalid_0's l1: 1.37595\n",
            "[1100]\tvalid_0's l1: 1.37461\n",
            "[1200]\tvalid_0's l1: 1.37299\n",
            "[1300]\tvalid_0's l1: 1.37292\n",
            "[1400]\tvalid_0's l1: 1.37124\n",
            "[1500]\tvalid_0's l1: 1.37171\n",
            "Early stopping, best iteration is:\n",
            "[1453]\tvalid_0's l1: 1.37114\n"
          ],
          "name": "stdout"
        },
        {
          "output_type": "stream",
          "text": [
            "\n",
            "num_leaves, val_score: 1.371144:  75%|#######5  | 15/20 [24:10<08:35, 103.11s/it]\u001b[A\n",
            "num_leaves, val_score: 1.371144:  80%|########  | 16/20 [24:10<06:58, 104.63s/it]\u001b[A\u001b[32m[I 2021-07-08 10:07:02,470]\u001b[0m Trial 22 finished with value: 1.3711441599104237 and parameters: {'num_leaves': 256}. Best is trial 22 with value: 1.3711441599104237.\u001b[0m\n",
            "\n",
            "num_leaves, val_score: 1.371144:  80%|########  | 16/20 [24:10<06:58, 104.63s/it]\u001b[A"
          ],
          "name": "stderr"
        },
        {
          "output_type": "stream",
          "text": [
            "Training until validation scores don't improve for 100 rounds.\n",
            "[100]\tvalid_0's l1: 1.41975\n",
            "[200]\tvalid_0's l1: 1.41003\n",
            "[300]\tvalid_0's l1: 1.40235\n",
            "[400]\tvalid_0's l1: 1.39863\n",
            "[500]\tvalid_0's l1: 1.39474\n",
            "[600]\tvalid_0's l1: 1.39301\n",
            "[700]\tvalid_0's l1: 1.39192\n",
            "[800]\tvalid_0's l1: 1.38926\n",
            "[900]\tvalid_0's l1: 1.38798\n",
            "[1000]\tvalid_0's l1: 1.38754\n"
          ],
          "name": "stdout"
        },
        {
          "output_type": "stream",
          "text": [
            "\n",
            "num_leaves, val_score: 1.371144:  80%|########  | 16/20 [25:16<06:58, 104.63s/it]\u001b[A"
          ],
          "name": "stderr"
        },
        {
          "output_type": "stream",
          "text": [
            "Early stopping, best iteration is:\n",
            "[928]\tvalid_0's l1: 1.38744\n"
          ],
          "name": "stdout"
        },
        {
          "output_type": "stream",
          "text": [
            "\n",
            "num_leaves, val_score: 1.371144:  85%|########5 | 17/20 [25:16<04:39, 93.29s/it] \u001b[A\u001b[32m[I 2021-07-08 10:08:09,296]\u001b[0m Trial 23 finished with value: 1.38743566897541 and parameters: {'num_leaves': 206}. Best is trial 22 with value: 1.3711441599104237.\u001b[0m\n",
            "\n",
            "num_leaves, val_score: 1.371144:  85%|########5 | 17/20 [25:16<04:39, 93.29s/it]\u001b[A"
          ],
          "name": "stderr"
        },
        {
          "output_type": "stream",
          "text": [
            "Training until validation scores don't improve for 100 rounds.\n",
            "[100]\tvalid_0's l1: 1.42961\n",
            "[200]\tvalid_0's l1: 1.42056\n",
            "[300]\tvalid_0's l1: 1.41395\n",
            "[400]\tvalid_0's l1: 1.40777\n",
            "[500]\tvalid_0's l1: 1.40485\n",
            "[600]\tvalid_0's l1: 1.40253\n",
            "[700]\tvalid_0's l1: 1.40126\n",
            "[800]\tvalid_0's l1: 1.39942\n",
            "[900]\tvalid_0's l1: 1.39885\n",
            "[1000]\tvalid_0's l1: 1.39861\n",
            "[1100]\tvalid_0's l1: 1.39801\n",
            "[1200]\tvalid_0's l1: 1.39753\n",
            "[1300]\tvalid_0's l1: 1.39675\n",
            "[1400]\tvalid_0's l1: 1.39615\n",
            "Early stopping, best iteration is:\n",
            "[1386]\tvalid_0's l1: 1.39608\n"
          ],
          "name": "stdout"
        },
        {
          "output_type": "stream",
          "text": [
            "\n",
            "num_leaves, val_score: 1.371144:  85%|########5 | 17/20 [26:46<04:39, 93.29s/it]\u001b[A\n",
            "num_leaves, val_score: 1.371144:  90%|######### | 18/20 [26:46<03:04, 92.05s/it]\u001b[A\u001b[32m[I 2021-07-08 10:09:38,464]\u001b[0m Trial 24 finished with value: 1.396084408112032 and parameters: {'num_leaves': 148}. Best is trial 22 with value: 1.3711441599104237.\u001b[0m\n",
            "\n",
            "num_leaves, val_score: 1.371144:  90%|######### | 18/20 [26:46<03:04, 92.05s/it]\u001b[A"
          ],
          "name": "stderr"
        },
        {
          "output_type": "stream",
          "text": [
            "Training until validation scores don't improve for 100 rounds.\n",
            "[100]\tvalid_0's l1: 1.42233\n",
            "[200]\tvalid_0's l1: 1.41256\n",
            "[300]\tvalid_0's l1: 1.40564\n",
            "[400]\tvalid_0's l1: 1.40163\n",
            "[500]\tvalid_0's l1: 1.39668\n",
            "[600]\tvalid_0's l1: 1.39446\n",
            "[700]\tvalid_0's l1: 1.39224\n",
            "[800]\tvalid_0's l1: 1.39032\n",
            "[900]\tvalid_0's l1: 1.38924\n",
            "[1000]\tvalid_0's l1: 1.38854\n",
            "[1100]\tvalid_0's l1: 1.38782\n",
            "[1200]\tvalid_0's l1: 1.38693\n",
            "[1300]\tvalid_0's l1: 1.38722\n",
            "Early stopping, best iteration is:\n",
            "[1214]\tvalid_0's l1: 1.38693\n"
          ],
          "name": "stdout"
        },
        {
          "output_type": "stream",
          "text": [
            "\n",
            "num_leaves, val_score: 1.371144:  90%|######### | 18/20 [28:15<03:04, 92.05s/it]\u001b[A\n",
            "num_leaves, val_score: 1.371144:  95%|#########5| 19/20 [28:15<01:31, 91.24s/it]\u001b[A\u001b[32m[I 2021-07-08 10:11:07,795]\u001b[0m Trial 25 finished with value: 1.3869274450986535 and parameters: {'num_leaves': 210}. Best is trial 22 with value: 1.3711441599104237.\u001b[0m\n",
            "\n",
            "num_leaves, val_score: 1.371144:  95%|#########5| 19/20 [28:15<01:31, 91.24s/it]\u001b[A"
          ],
          "name": "stderr"
        },
        {
          "output_type": "stream",
          "text": [
            "Training until validation scores don't improve for 100 rounds.\n",
            "[100]\tvalid_0's l1: 1.43432\n",
            "[200]\tvalid_0's l1: 1.42312\n",
            "[300]\tvalid_0's l1: 1.41942\n",
            "[400]\tvalid_0's l1: 1.41568\n",
            "[500]\tvalid_0's l1: 1.41029\n",
            "[600]\tvalid_0's l1: 1.40778\n",
            "[700]\tvalid_0's l1: 1.40488\n",
            "[800]\tvalid_0's l1: 1.40253\n",
            "[900]\tvalid_0's l1: 1.40147\n",
            "[1000]\tvalid_0's l1: 1.40031\n"
          ],
          "name": "stdout"
        },
        {
          "output_type": "stream",
          "text": [
            "\n",
            "num_leaves, val_score: 1.371144:  95%|#########5| 19/20 [29:21<01:31, 91.24s/it]\u001b[A\n",
            "num_leaves, val_score: 1.371144: 100%|##########| 20/20 [29:21<00:00, 83.65s/it]\u001b[A\u001b[32m[I 2021-07-08 10:12:13,750]\u001b[0m Trial 26 finished with value: 1.400254701627683 and parameters: {'num_leaves': 149}. Best is trial 22 with value: 1.3711441599104237.\u001b[0m\n",
            "num_leaves, val_score: 1.371144: 100%|##########| 20/20 [29:21<00:00, 88.07s/it]\n",
            "\n",
            "  0%|          | 0/10 [00:00<?, ?it/s]\u001b[A\n",
            "bagging, val_score: 1.371144:   0%|          | 0/10 [00:00<?, ?it/s]\u001b[A"
          ],
          "name": "stderr"
        },
        {
          "output_type": "stream",
          "text": [
            "Early stopping, best iteration is:\n",
            "[940]\tvalid_0's l1: 1.40025\n",
            "Training until validation scores don't improve for 100 rounds.\n",
            "[100]\tvalid_0's l1: 1.4108\n",
            "[200]\tvalid_0's l1: 1.39807\n",
            "[300]\tvalid_0's l1: 1.3896\n",
            "[400]\tvalid_0's l1: 1.38496\n",
            "[500]\tvalid_0's l1: 1.38308\n",
            "[600]\tvalid_0's l1: 1.38174\n",
            "[700]\tvalid_0's l1: 1.37921\n",
            "[800]\tvalid_0's l1: 1.37733\n",
            "[900]\tvalid_0's l1: 1.37691\n",
            "[1000]\tvalid_0's l1: 1.37636\n",
            "[1100]\tvalid_0's l1: 1.37522\n",
            "[1200]\tvalid_0's l1: 1.3751\n",
            "Early stopping, best iteration is:\n",
            "[1102]\tvalid_0's l1: 1.37507\n"
          ],
          "name": "stdout"
        },
        {
          "output_type": "stream",
          "text": [
            "\n",
            "bagging, val_score: 1.371144:   0%|          | 0/10 [01:38<?, ?it/s]\u001b[A\n",
            "bagging, val_score: 1.371144:  10%|#         | 1/10 [01:38<14:46, 98.45s/it]\u001b[A\u001b[32m[I 2021-07-08 10:13:52,221]\u001b[0m Trial 27 finished with value: 1.3750746500913953 and parameters: {'bagging_fraction': 0.9314065137641993, 'bagging_freq': 6}. Best is trial 27 with value: 1.3750746500913953.\u001b[0m\n",
            "\n",
            "bagging, val_score: 1.371144:  10%|#         | 1/10 [01:38<14:46, 98.45s/it]\u001b[A"
          ],
          "name": "stderr"
        },
        {
          "output_type": "stream",
          "text": [
            "Training until validation scores don't improve for 100 rounds.\n",
            "[100]\tvalid_0's l1: 1.40903\n",
            "[200]\tvalid_0's l1: 1.39551\n",
            "[300]\tvalid_0's l1: 1.38751\n",
            "[400]\tvalid_0's l1: 1.38435\n",
            "[500]\tvalid_0's l1: 1.38142\n",
            "[600]\tvalid_0's l1: 1.37946\n",
            "[700]\tvalid_0's l1: 1.37773\n",
            "[800]\tvalid_0's l1: 1.37698\n",
            "[900]\tvalid_0's l1: 1.37591\n",
            "[1000]\tvalid_0's l1: 1.37506\n",
            "Early stopping, best iteration is:\n",
            "[999]\tvalid_0's l1: 1.37501\n"
          ],
          "name": "stdout"
        },
        {
          "output_type": "stream",
          "text": [
            "\n",
            "bagging, val_score: 1.371144:  10%|#         | 1/10 [02:47<14:46, 98.45s/it]\u001b[A\n",
            "bagging, val_score: 1.371144:  20%|##        | 2/10 [02:47<11:56, 89.61s/it]\u001b[A\u001b[32m[I 2021-07-08 10:15:01,205]\u001b[0m Trial 28 finished with value: 1.3750120636566692 and parameters: {'bagging_fraction': 0.5028679455586971, 'bagging_freq': 6}. Best is trial 28 with value: 1.3750120636566692.\u001b[0m\n",
            "\n",
            "bagging, val_score: 1.371144:  20%|##        | 2/10 [02:47<11:56, 89.61s/it]\u001b[A"
          ],
          "name": "stderr"
        },
        {
          "output_type": "stream",
          "text": [
            "Training until validation scores don't improve for 100 rounds.\n",
            "[100]\tvalid_0's l1: 1.41211\n",
            "[200]\tvalid_0's l1: 1.39326\n",
            "[300]\tvalid_0's l1: 1.38768\n",
            "[400]\tvalid_0's l1: 1.3834\n",
            "[500]\tvalid_0's l1: 1.37838\n",
            "[600]\tvalid_0's l1: 1.37587\n",
            "[700]\tvalid_0's l1: 1.37463\n",
            "[800]\tvalid_0's l1: 1.37261\n",
            "[900]\tvalid_0's l1: 1.37039\n",
            "[1000]\tvalid_0's l1: 1.37009\n",
            "[1100]\tvalid_0's l1: 1.36977\n",
            "[1200]\tvalid_0's l1: 1.36759\n",
            "[1300]\tvalid_0's l1: 1.36783\n",
            "Early stopping, best iteration is:\n",
            "[1222]\tvalid_0's l1: 1.36721\n"
          ],
          "name": "stdout"
        },
        {
          "output_type": "stream",
          "text": [
            "\n",
            "bagging, val_score: 1.367211:  20%|##        | 2/10 [04:09<11:56, 89.61s/it]\u001b[A\n",
            "bagging, val_score: 1.367211:  30%|###       | 3/10 [04:09<10:11, 87.32s/it]\u001b[A\u001b[32m[I 2021-07-08 10:16:23,178]\u001b[0m Trial 29 finished with value: 1.3672106375597037 and parameters: {'bagging_fraction': 0.46041872740987194, 'bagging_freq': 2}. Best is trial 29 with value: 1.3672106375597037.\u001b[0m\n",
            "\n",
            "bagging, val_score: 1.367211:  30%|###       | 3/10 [04:09<10:11, 87.32s/it]\u001b[A"
          ],
          "name": "stderr"
        },
        {
          "output_type": "stream",
          "text": [
            "Training until validation scores don't improve for 100 rounds.\n",
            "[100]\tvalid_0's l1: 1.4101\n",
            "[200]\tvalid_0's l1: 1.39665\n",
            "[300]\tvalid_0's l1: 1.3917\n",
            "[400]\tvalid_0's l1: 1.38632\n",
            "[500]\tvalid_0's l1: 1.38275\n",
            "[600]\tvalid_0's l1: 1.38114\n",
            "[700]\tvalid_0's l1: 1.37919\n",
            "[800]\tvalid_0's l1: 1.37748\n",
            "[900]\tvalid_0's l1: 1.37538\n",
            "[1000]\tvalid_0's l1: 1.3748\n",
            "[1100]\tvalid_0's l1: 1.37444\n",
            "[1200]\tvalid_0's l1: 1.37381\n",
            "[1300]\tvalid_0's l1: 1.37324\n",
            "[1400]\tvalid_0's l1: 1.37302\n",
            "[1500]\tvalid_0's l1: 1.37274\n",
            "[1600]\tvalid_0's l1: 1.37247\n",
            "[1700]\tvalid_0's l1: 1.37187\n",
            "[1800]\tvalid_0's l1: 1.37172\n",
            "[1900]\tvalid_0's l1: 1.37044\n",
            "[2000]\tvalid_0's l1: 1.37064\n",
            "[2100]\tvalid_0's l1: 1.37003\n",
            "[2200]\tvalid_0's l1: 1.37017\n",
            "[2300]\tvalid_0's l1: 1.3693\n",
            "[2400]\tvalid_0's l1: 1.36922\n",
            "Early stopping, best iteration is:\n",
            "[2389]\tvalid_0's l1: 1.36892\n"
          ],
          "name": "stdout"
        },
        {
          "output_type": "stream",
          "text": [
            "\n",
            "bagging, val_score: 1.367211:  30%|###       | 3/10 [06:52<10:11, 87.32s/it]\u001b[A\n",
            "bagging, val_score: 1.367211:  40%|####      | 4/10 [06:52<11:01, 110.18s/it]\u001b[A\u001b[32m[I 2021-07-08 10:19:06,707]\u001b[0m Trial 30 finished with value: 1.3689240577191792 and parameters: {'bagging_fraction': 0.5782541252124954, 'bagging_freq': 3}. Best is trial 29 with value: 1.3672106375597037.\u001b[0m\n",
            "\n",
            "bagging, val_score: 1.367211:  40%|####      | 4/10 [06:52<11:01, 110.18s/it]\u001b[A"
          ],
          "name": "stderr"
        },
        {
          "output_type": "stream",
          "text": [
            "Training until validation scores don't improve for 100 rounds.\n",
            "[100]\tvalid_0's l1: 1.40712\n",
            "[200]\tvalid_0's l1: 1.39628\n",
            "[300]\tvalid_0's l1: 1.38681\n",
            "[400]\tvalid_0's l1: 1.38241\n",
            "[500]\tvalid_0's l1: 1.37972\n",
            "[600]\tvalid_0's l1: 1.37734\n",
            "[700]\tvalid_0's l1: 1.37587\n",
            "[800]\tvalid_0's l1: 1.37448\n",
            "[900]\tvalid_0's l1: 1.37344\n",
            "[1000]\tvalid_0's l1: 1.37207\n",
            "[1100]\tvalid_0's l1: 1.37111\n",
            "[1200]\tvalid_0's l1: 1.37068\n",
            "Early stopping, best iteration is:\n",
            "[1198]\tvalid_0's l1: 1.37067\n"
          ],
          "name": "stdout"
        },
        {
          "output_type": "stream",
          "text": [
            "\n",
            "bagging, val_score: 1.367211:  40%|####      | 4/10 [08:23<11:01, 110.18s/it]\u001b[A\n",
            "bagging, val_score: 1.367211:  50%|#####     | 5/10 [08:23<08:41, 104.30s/it]\u001b[A\u001b[32m[I 2021-07-08 10:20:37,298]\u001b[0m Trial 31 finished with value: 1.3706720047889633 and parameters: {'bagging_fraction': 0.78148828907543, 'bagging_freq': 1}. Best is trial 29 with value: 1.3672106375597037.\u001b[0m\n",
            "\n",
            "bagging, val_score: 1.367211:  50%|#####     | 5/10 [08:23<08:41, 104.30s/it]\u001b[A"
          ],
          "name": "stderr"
        },
        {
          "output_type": "stream",
          "text": [
            "Training until validation scores don't improve for 100 rounds.\n",
            "[100]\tvalid_0's l1: 1.41345\n",
            "[200]\tvalid_0's l1: 1.40122\n",
            "[300]\tvalid_0's l1: 1.39238\n",
            "[400]\tvalid_0's l1: 1.38652\n",
            "[500]\tvalid_0's l1: 1.383\n",
            "[600]\tvalid_0's l1: 1.38092\n",
            "[700]\tvalid_0's l1: 1.38059\n",
            "[800]\tvalid_0's l1: 1.37655\n",
            "[900]\tvalid_0's l1: 1.37647\n",
            "Early stopping, best iteration is:\n",
            "[820]\tvalid_0's l1: 1.37596\n"
          ],
          "name": "stdout"
        },
        {
          "output_type": "stream",
          "text": [
            "\n",
            "bagging, val_score: 1.367211:  50%|#####     | 5/10 [09:34<08:41, 104.30s/it]\u001b[A\n",
            "bagging, val_score: 1.367211:  60%|######    | 6/10 [09:34<06:17, 94.41s/it] \u001b[A\u001b[32m[I 2021-07-08 10:21:48,613]\u001b[0m Trial 32 finished with value: 1.3759644704537204 and parameters: {'bagging_fraction': 0.8029194853026418, 'bagging_freq': 4}. Best is trial 29 with value: 1.3672106375597037.\u001b[0m\n",
            "\n",
            "bagging, val_score: 1.367211:  60%|######    | 6/10 [09:34<06:17, 94.41s/it]\u001b[A"
          ],
          "name": "stderr"
        },
        {
          "output_type": "stream",
          "text": [
            "Training until validation scores don't improve for 100 rounds.\n",
            "[100]\tvalid_0's l1: 1.41279\n",
            "[200]\tvalid_0's l1: 1.39668\n",
            "[300]\tvalid_0's l1: 1.39092\n",
            "[400]\tvalid_0's l1: 1.38394\n",
            "[500]\tvalid_0's l1: 1.38075\n",
            "[600]\tvalid_0's l1: 1.37825\n",
            "[700]\tvalid_0's l1: 1.37505\n",
            "[800]\tvalid_0's l1: 1.37395\n",
            "[900]\tvalid_0's l1: 1.37278\n",
            "[1000]\tvalid_0's l1: 1.37212\n",
            "Early stopping, best iteration is:\n",
            "[967]\tvalid_0's l1: 1.3718\n"
          ],
          "name": "stdout"
        },
        {
          "output_type": "stream",
          "text": [
            "\n",
            "bagging, val_score: 1.367211:  60%|######    | 6/10 [10:48<06:17, 94.41s/it]\u001b[A\n",
            "bagging, val_score: 1.367211:  70%|#######   | 7/10 [10:48<04:24, 88.11s/it]\u001b[A\u001b[32m[I 2021-07-08 10:23:02,037]\u001b[0m Trial 33 finished with value: 1.371797004680466 and parameters: {'bagging_fraction': 0.6279070459424267, 'bagging_freq': 7}. Best is trial 29 with value: 1.3672106375597037.\u001b[0m\n",
            "\n",
            "bagging, val_score: 1.367211:  70%|#######   | 7/10 [10:48<04:24, 88.11s/it]\u001b[A"
          ],
          "name": "stderr"
        },
        {
          "output_type": "stream",
          "text": [
            "Training until validation scores don't improve for 100 rounds.\n",
            "[100]\tvalid_0's l1: 1.41321\n",
            "[200]\tvalid_0's l1: 1.40056\n",
            "[300]\tvalid_0's l1: 1.39127\n",
            "[400]\tvalid_0's l1: 1.38518\n",
            "[500]\tvalid_0's l1: 1.38137\n",
            "[600]\tvalid_0's l1: 1.37842\n",
            "[700]\tvalid_0's l1: 1.37532\n",
            "[800]\tvalid_0's l1: 1.37308\n",
            "[900]\tvalid_0's l1: 1.37013\n",
            "[1000]\tvalid_0's l1: 1.36982\n",
            "[1100]\tvalid_0's l1: 1.36829\n",
            "[1200]\tvalid_0's l1: 1.36614\n",
            "[1300]\tvalid_0's l1: 1.36608\n",
            "Early stopping, best iteration is:\n",
            "[1289]\tvalid_0's l1: 1.36592\n"
          ],
          "name": "stdout"
        },
        {
          "output_type": "stream",
          "text": [
            "\n",
            "bagging, val_score: 1.365916:  70%|#######   | 7/10 [12:12<04:24, 88.11s/it]\u001b[A\n",
            "bagging, val_score: 1.365916:  80%|########  | 8/10 [12:12<02:53, 86.84s/it]\u001b[A\u001b[32m[I 2021-07-08 10:24:25,909]\u001b[0m Trial 34 finished with value: 1.3659161946862994 and parameters: {'bagging_fraction': 0.4266941128097915, 'bagging_freq': 2}. Best is trial 34 with value: 1.3659161946862994.\u001b[0m\n",
            "\n",
            "bagging, val_score: 1.365916:  80%|########  | 8/10 [12:12<02:53, 86.84s/it]\u001b[A"
          ],
          "name": "stderr"
        },
        {
          "output_type": "stream",
          "text": [
            "Training until validation scores don't improve for 100 rounds.\n",
            "[100]\tvalid_0's l1: 1.4107\n",
            "[200]\tvalid_0's l1: 1.39792\n",
            "[300]\tvalid_0's l1: 1.39011\n",
            "[400]\tvalid_0's l1: 1.38556\n",
            "[500]\tvalid_0's l1: 1.38281\n",
            "[600]\tvalid_0's l1: 1.3813\n",
            "[700]\tvalid_0's l1: 1.38026\n",
            "[800]\tvalid_0's l1: 1.37736\n",
            "[900]\tvalid_0's l1: 1.37517\n",
            "[1000]\tvalid_0's l1: 1.37543\n",
            "Early stopping, best iteration is:\n",
            "[916]\tvalid_0's l1: 1.37497\n"
          ],
          "name": "stdout"
        },
        {
          "output_type": "stream",
          "text": [
            "\n",
            "bagging, val_score: 1.365916:  80%|########  | 8/10 [13:23<02:53, 86.84s/it]\u001b[A\n",
            "bagging, val_score: 1.365916:  90%|######### | 9/10 [13:23<01:22, 82.19s/it]\u001b[A\u001b[32m[I 2021-07-08 10:25:37,260]\u001b[0m Trial 35 finished with value: 1.3749681192480505 and parameters: {'bagging_fraction': 0.6553079745308636, 'bagging_freq': 6}. Best is trial 34 with value: 1.3659161946862994.\u001b[0m\n",
            "\n",
            "bagging, val_score: 1.365916:  90%|######### | 9/10 [13:23<01:22, 82.19s/it]\u001b[A"
          ],
          "name": "stderr"
        },
        {
          "output_type": "stream",
          "text": [
            "Training until validation scores don't improve for 100 rounds.\n",
            "[100]\tvalid_0's l1: 1.40851\n",
            "[200]\tvalid_0's l1: 1.39574\n",
            "[300]\tvalid_0's l1: 1.38556\n",
            "[400]\tvalid_0's l1: 1.38047\n",
            "[500]\tvalid_0's l1: 1.37721\n",
            "[600]\tvalid_0's l1: 1.37595\n",
            "[700]\tvalid_0's l1: 1.37558\n",
            "[800]\tvalid_0's l1: 1.37386\n",
            "[900]\tvalid_0's l1: 1.37265\n",
            "[1000]\tvalid_0's l1: 1.37185\n",
            "[1100]\tvalid_0's l1: 1.37094\n",
            "[1200]\tvalid_0's l1: 1.37068\n",
            "[1300]\tvalid_0's l1: 1.37069\n",
            "[1400]\tvalid_0's l1: 1.36964\n",
            "[1500]\tvalid_0's l1: 1.36949\n",
            "[1600]\tvalid_0's l1: 1.36895\n",
            "[1700]\tvalid_0's l1: 1.36828\n",
            "[1800]\tvalid_0's l1: 1.36694\n",
            "[1900]\tvalid_0's l1: 1.3668\n",
            "[2000]\tvalid_0's l1: 1.36645\n",
            "[2100]\tvalid_0's l1: 1.36544\n",
            "[2200]\tvalid_0's l1: 1.36489\n",
            "[2300]\tvalid_0's l1: 1.36343\n",
            "[2400]\tvalid_0's l1: 1.3624\n",
            "[2500]\tvalid_0's l1: 1.36216\n",
            "[2600]\tvalid_0's l1: 1.36205\n",
            "[2700]\tvalid_0's l1: 1.36141\n",
            "Early stopping, best iteration is:\n",
            "[2698]\tvalid_0's l1: 1.36137\n"
          ],
          "name": "stdout"
        },
        {
          "output_type": "stream",
          "text": [
            "\n",
            "bagging, val_score: 1.361366:  90%|######### | 9/10 [16:24<01:22, 82.19s/it]\u001b[A\n",
            "bagging, val_score: 1.361366: 100%|##########| 10/10 [16:24<00:00, 111.80s/it]\u001b[A\u001b[32m[I 2021-07-08 10:28:38,143]\u001b[0m Trial 36 finished with value: 1.3613664714642355 and parameters: {'bagging_fraction': 0.6714499216073604, 'bagging_freq': 1}. Best is trial 36 with value: 1.3613664714642355.\u001b[0m\n",
            "bagging, val_score: 1.361366: 100%|##########| 10/10 [16:24<00:00, 98.44s/it] \n",
            "\n",
            "  0%|          | 0/3 [00:00<?, ?it/s]\u001b[A\n",
            "feature_fraction_stage2, val_score: 1.361366:   0%|          | 0/3 [00:00<?, ?it/s]\u001b[A"
          ],
          "name": "stderr"
        },
        {
          "output_type": "stream",
          "text": [
            "Training until validation scores don't improve for 100 rounds.\n",
            "[100]\tvalid_0's l1: 1.4127\n",
            "[200]\tvalid_0's l1: 1.39946\n",
            "[300]\tvalid_0's l1: 1.38869\n",
            "[400]\tvalid_0's l1: 1.38369\n",
            "[500]\tvalid_0's l1: 1.3808\n",
            "[600]\tvalid_0's l1: 1.37873\n",
            "[700]\tvalid_0's l1: 1.37706\n",
            "[800]\tvalid_0's l1: 1.37582\n",
            "[900]\tvalid_0's l1: 1.3742\n",
            "[1000]\tvalid_0's l1: 1.37307\n",
            "[1100]\tvalid_0's l1: 1.3718\n",
            "[1200]\tvalid_0's l1: 1.37101\n",
            "[1300]\tvalid_0's l1: 1.37059\n",
            "[1400]\tvalid_0's l1: 1.36985\n",
            "[1500]\tvalid_0's l1: 1.3691\n",
            "[1600]\tvalid_0's l1: 1.36888\n",
            "[1700]\tvalid_0's l1: 1.36816\n",
            "[1800]\tvalid_0's l1: 1.36791\n",
            "[1900]\tvalid_0's l1: 1.3674\n",
            "[2000]\tvalid_0's l1: 1.36688\n",
            "[2100]\tvalid_0's l1: 1.36638\n",
            "[2200]\tvalid_0's l1: 1.36579\n",
            "[2300]\tvalid_0's l1: 1.36526\n",
            "[2400]\tvalid_0's l1: 1.36404\n",
            "[2500]\tvalid_0's l1: 1.36375\n",
            "[2600]\tvalid_0's l1: 1.36335\n",
            "[2700]\tvalid_0's l1: 1.36276\n",
            "Early stopping, best iteration is:\n",
            "[2679]\tvalid_0's l1: 1.36269\n"
          ],
          "name": "stdout"
        },
        {
          "output_type": "stream",
          "text": [
            "\n",
            "feature_fraction_stage2, val_score: 1.361366:   0%|          | 0/3 [03:01<?, ?it/s]\u001b[A\n",
            "feature_fraction_stage2, val_score: 1.361366:  33%|###3      | 1/3 [03:01<06:03, 181.71s/it]\u001b[A\u001b[32m[I 2021-07-08 10:31:39,887]\u001b[0m Trial 37 finished with value: 1.3626897810938239 and parameters: {'feature_fraction': 0.44800000000000006}. Best is trial 37 with value: 1.3626897810938239.\u001b[0m\n",
            "\n",
            "feature_fraction_stage2, val_score: 1.361366:  33%|###3      | 1/3 [03:01<06:03, 181.71s/it]\u001b[A"
          ],
          "name": "stderr"
        },
        {
          "output_type": "stream",
          "text": [
            "Training until validation scores don't improve for 100 rounds.\n",
            "[100]\tvalid_0's l1: 1.40532\n",
            "[200]\tvalid_0's l1: 1.39503\n",
            "[300]\tvalid_0's l1: 1.38794\n",
            "[400]\tvalid_0's l1: 1.38174\n",
            "[500]\tvalid_0's l1: 1.37866\n",
            "[600]\tvalid_0's l1: 1.37766\n",
            "[700]\tvalid_0's l1: 1.3764\n",
            "[800]\tvalid_0's l1: 1.3745\n",
            "[900]\tvalid_0's l1: 1.37297\n",
            "[1000]\tvalid_0's l1: 1.3718\n",
            "[1100]\tvalid_0's l1: 1.3709\n",
            "[1200]\tvalid_0's l1: 1.37058\n",
            "Early stopping, best iteration is:\n",
            "[1106]\tvalid_0's l1: 1.37047\n"
          ],
          "name": "stdout"
        },
        {
          "output_type": "stream",
          "text": [
            "\n",
            "feature_fraction_stage2, val_score: 1.361366:  33%|###3      | 1/3 [04:22<06:03, 181.71s/it]\u001b[A\n",
            "feature_fraction_stage2, val_score: 1.361366:  67%|######6   | 2/3 [04:22<02:31, 151.51s/it]\u001b[A\u001b[32m[I 2021-07-08 10:33:00,909]\u001b[0m Trial 38 finished with value: 1.3704725607420114 and parameters: {'feature_fraction': 0.41600000000000004}. Best is trial 37 with value: 1.3626897810938239.\u001b[0m\n",
            "\n",
            "feature_fraction_stage2, val_score: 1.361366:  67%|######6   | 2/3 [04:22<02:31, 151.51s/it]\u001b[A"
          ],
          "name": "stderr"
        },
        {
          "output_type": "stream",
          "text": [
            "Training until validation scores don't improve for 100 rounds.\n",
            "[100]\tvalid_0's l1: 1.41013\n",
            "[200]\tvalid_0's l1: 1.40006\n",
            "[300]\tvalid_0's l1: 1.39273\n",
            "[400]\tvalid_0's l1: 1.38906\n",
            "[500]\tvalid_0's l1: 1.38542\n",
            "[600]\tvalid_0's l1: 1.38097\n",
            "[700]\tvalid_0's l1: 1.37881\n",
            "[800]\tvalid_0's l1: 1.37603\n",
            "[900]\tvalid_0's l1: 1.37405\n",
            "[1000]\tvalid_0's l1: 1.37359\n",
            "[1100]\tvalid_0's l1: 1.37262\n",
            "[1200]\tvalid_0's l1: 1.37223\n",
            "[1300]\tvalid_0's l1: 1.37185\n",
            "[1400]\tvalid_0's l1: 1.37125\n",
            "Early stopping, best iteration is:\n",
            "[1372]\tvalid_0's l1: 1.37116\n"
          ],
          "name": "stdout"
        },
        {
          "output_type": "stream",
          "text": [
            "\n",
            "feature_fraction_stage2, val_score: 1.361366:  67%|######6   | 2/3 [06:02<02:31, 151.51s/it]\u001b[A\n",
            "feature_fraction_stage2, val_score: 1.361366: 100%|##########| 3/3 [06:02<00:00, 135.87s/it]\u001b[A\u001b[32m[I 2021-07-08 10:34:40,292]\u001b[0m Trial 39 finished with value: 1.371158916942976 and parameters: {'feature_fraction': 0.48000000000000004}. Best is trial 37 with value: 1.3626897810938239.\u001b[0m\n",
            "feature_fraction_stage2, val_score: 1.361366: 100%|##########| 3/3 [06:02<00:00, 120.71s/it]\n",
            "\n",
            "  0%|          | 0/20 [00:00<?, ?it/s]\u001b[A\n",
            "regularization_factors, val_score: 1.361366:   0%|          | 0/20 [00:00<?, ?it/s]\u001b[A"
          ],
          "name": "stderr"
        },
        {
          "output_type": "stream",
          "text": [
            "Training until validation scores don't improve for 100 rounds.\n",
            "[100]\tvalid_0's l1: 1.41131\n",
            "[200]\tvalid_0's l1: 1.39876\n",
            "[300]\tvalid_0's l1: 1.39077\n",
            "[400]\tvalid_0's l1: 1.38656\n",
            "[500]\tvalid_0's l1: 1.38433\n",
            "[600]\tvalid_0's l1: 1.38209\n",
            "[700]\tvalid_0's l1: 1.38097\n",
            "[800]\tvalid_0's l1: 1.37973\n",
            "[900]\tvalid_0's l1: 1.37799\n",
            "[1000]\tvalid_0's l1: 1.37647\n",
            "[1100]\tvalid_0's l1: 1.37555\n",
            "Early stopping, best iteration is:\n",
            "[1077]\tvalid_0's l1: 1.37546\n"
          ],
          "name": "stdout"
        },
        {
          "output_type": "stream",
          "text": [
            "\n",
            "regularization_factors, val_score: 1.361366:   0%|          | 0/20 [01:18<?, ?it/s]\u001b[A\n",
            "regularization_factors, val_score: 1.361366:   5%|5         | 1/20 [01:18<24:52, 78.56s/it]\u001b[A\u001b[32m[I 2021-07-08 10:35:58,873]\u001b[0m Trial 40 finished with value: 1.3754600440652887 and parameters: {'lambda_l1': 3.849321700070671e-05, 'lambda_l2': 2.5407224620504053e-08}. Best is trial 40 with value: 1.3754600440652887.\u001b[0m\n",
            "\n",
            "regularization_factors, val_score: 1.361366:   5%|5         | 1/20 [01:18<24:52, 78.56s/it]\u001b[A"
          ],
          "name": "stderr"
        },
        {
          "output_type": "stream",
          "text": [
            "Training until validation scores don't improve for 100 rounds.\n",
            "[100]\tvalid_0's l1: 1.41178\n",
            "[200]\tvalid_0's l1: 1.39841\n",
            "[300]\tvalid_0's l1: 1.392\n",
            "[400]\tvalid_0's l1: 1.38478\n",
            "[500]\tvalid_0's l1: 1.38175\n",
            "[600]\tvalid_0's l1: 1.37982\n",
            "[700]\tvalid_0's l1: 1.37825\n",
            "[800]\tvalid_0's l1: 1.37715\n",
            "[900]\tvalid_0's l1: 1.37691\n",
            "Early stopping, best iteration is:\n",
            "[871]\tvalid_0's l1: 1.37665\n"
          ],
          "name": "stdout"
        },
        {
          "output_type": "stream",
          "text": [
            "\n",
            "regularization_factors, val_score: 1.361366:   5%|5         | 1/20 [02:23<24:52, 78.56s/it]\u001b[A\n",
            "regularization_factors, val_score: 1.361366:  10%|#         | 2/20 [02:23<22:23, 74.61s/it]\u001b[A\u001b[32m[I 2021-07-08 10:37:04,272]\u001b[0m Trial 41 finished with value: 1.3766487761823865 and parameters: {'lambda_l1': 1.004883254747265e-06, 'lambda_l2': 7.8050586098084e-05}. Best is trial 40 with value: 1.3754600440652887.\u001b[0m\n",
            "\n",
            "regularization_factors, val_score: 1.361366:  10%|#         | 2/20 [02:23<22:23, 74.61s/it]\u001b[A"
          ],
          "name": "stderr"
        },
        {
          "output_type": "stream",
          "text": [
            "Training until validation scores don't improve for 100 rounds.\n",
            "[100]\tvalid_0's l1: 1.41366\n",
            "[200]\tvalid_0's l1: 1.39896\n",
            "[300]\tvalid_0's l1: 1.39266\n",
            "[400]\tvalid_0's l1: 1.38834\n",
            "[500]\tvalid_0's l1: 1.38528\n",
            "[600]\tvalid_0's l1: 1.38095\n",
            "[700]\tvalid_0's l1: 1.37992\n",
            "[800]\tvalid_0's l1: 1.37672\n",
            "[900]\tvalid_0's l1: 1.37573\n",
            "[1000]\tvalid_0's l1: 1.37492\n",
            "[1100]\tvalid_0's l1: 1.37416\n",
            "[1200]\tvalid_0's l1: 1.37327\n",
            "[1300]\tvalid_0's l1: 1.37317\n",
            "[1400]\tvalid_0's l1: 1.37147\n",
            "[1500]\tvalid_0's l1: 1.37077\n",
            "[1600]\tvalid_0's l1: 1.36974\n",
            "[1700]\tvalid_0's l1: 1.36901\n",
            "[1800]\tvalid_0's l1: 1.36841\n",
            "[1900]\tvalid_0's l1: 1.36824\n",
            "Early stopping, best iteration is:\n",
            "[1852]\tvalid_0's l1: 1.36809\n"
          ],
          "name": "stdout"
        },
        {
          "output_type": "stream",
          "text": [
            "\n",
            "regularization_factors, val_score: 1.361366:  10%|#         | 2/20 [04:30<22:23, 74.61s/it]\u001b[A\n",
            "regularization_factors, val_score: 1.361366:  15%|#5        | 3/20 [04:30<25:35, 90.32s/it]\u001b[A\u001b[32m[I 2021-07-08 10:39:11,233]\u001b[0m Trial 42 finished with value: 1.368085353973899 and parameters: {'lambda_l1': 0.000532167889299359, 'lambda_l2': 0.7341148857293225}. Best is trial 42 with value: 1.368085353973899.\u001b[0m\n",
            "\n",
            "regularization_factors, val_score: 1.361366:  15%|#5        | 3/20 [04:30<25:35, 90.32s/it]\u001b[A"
          ],
          "name": "stderr"
        },
        {
          "output_type": "stream",
          "text": [
            "Training until validation scores don't improve for 100 rounds.\n",
            "[100]\tvalid_0's l1: 1.41255\n",
            "[200]\tvalid_0's l1: 1.39847\n",
            "[300]\tvalid_0's l1: 1.39215\n",
            "[400]\tvalid_0's l1: 1.38653\n",
            "[500]\tvalid_0's l1: 1.38321\n",
            "[600]\tvalid_0's l1: 1.3815\n",
            "[700]\tvalid_0's l1: 1.37945\n",
            "[800]\tvalid_0's l1: 1.37819\n",
            "[900]\tvalid_0's l1: 1.37654\n",
            "[1000]\tvalid_0's l1: 1.37486\n",
            "[1100]\tvalid_0's l1: 1.37413\n",
            "[1200]\tvalid_0's l1: 1.37362\n",
            "[1300]\tvalid_0's l1: 1.37334\n",
            "[1400]\tvalid_0's l1: 1.37279\n",
            "[1500]\tvalid_0's l1: 1.37248\n",
            "[1600]\tvalid_0's l1: 1.3723\n",
            "Early stopping, best iteration is:\n",
            "[1549]\tvalid_0's l1: 1.37208\n"
          ],
          "name": "stdout"
        },
        {
          "output_type": "stream",
          "text": [
            "\n",
            "regularization_factors, val_score: 1.361366:  15%|#5        | 3/20 [06:16<25:35, 90.32s/it]\u001b[A\n",
            "regularization_factors, val_score: 1.361366:  20%|##        | 4/20 [06:16<25:20, 95.02s/it]\u001b[A\u001b[32m[I 2021-07-08 10:40:57,213]\u001b[0m Trial 43 finished with value: 1.3720811120585616 and parameters: {'lambda_l1': 2.3040864141633155, 'lambda_l2': 4.1591084751067555e-05}. Best is trial 42 with value: 1.368085353973899.\u001b[0m\n",
            "\n",
            "regularization_factors, val_score: 1.361366:  20%|##        | 4/20 [06:16<25:20, 95.02s/it]\u001b[A"
          ],
          "name": "stderr"
        },
        {
          "output_type": "stream",
          "text": [
            "Training until validation scores don't improve for 100 rounds.\n",
            "[100]\tvalid_0's l1: 1.41131\n",
            "[200]\tvalid_0's l1: 1.39876\n",
            "[300]\tvalid_0's l1: 1.39077\n",
            "[400]\tvalid_0's l1: 1.38656\n",
            "[500]\tvalid_0's l1: 1.38486\n",
            "[600]\tvalid_0's l1: 1.38192\n",
            "[700]\tvalid_0's l1: 1.37985\n",
            "[800]\tvalid_0's l1: 1.37812\n",
            "[900]\tvalid_0's l1: 1.37684\n",
            "[1000]\tvalid_0's l1: 1.37655\n",
            "[1100]\tvalid_0's l1: 1.37593\n",
            "[1200]\tvalid_0's l1: 1.37509\n",
            "Early stopping, best iteration is:\n",
            "[1196]\tvalid_0's l1: 1.37509\n"
          ],
          "name": "stdout"
        },
        {
          "output_type": "stream",
          "text": [
            "\n",
            "regularization_factors, val_score: 1.361366:  20%|##        | 4/20 [07:39<25:20, 95.02s/it]\u001b[A\n",
            "regularization_factors, val_score: 1.361366:  25%|##5       | 5/20 [07:39<22:49, 91.31s/it]\u001b[A\u001b[32m[I 2021-07-08 10:42:19,880]\u001b[0m Trial 44 finished with value: 1.375086635678351 and parameters: {'lambda_l1': 4.1568929769089896e-08, 'lambda_l2': 0.0003581944581111681}. Best is trial 42 with value: 1.368085353973899.\u001b[0m\n",
            "\n",
            "regularization_factors, val_score: 1.361366:  25%|##5       | 5/20 [07:39<22:49, 91.31s/it]\u001b[A"
          ],
          "name": "stderr"
        },
        {
          "output_type": "stream",
          "text": [
            "Training until validation scores don't improve for 100 rounds.\n",
            "[100]\tvalid_0's l1: 1.41131\n",
            "[200]\tvalid_0's l1: 1.39876\n",
            "[300]\tvalid_0's l1: 1.39162\n",
            "[400]\tvalid_0's l1: 1.38515\n",
            "[500]\tvalid_0's l1: 1.38223\n",
            "[600]\tvalid_0's l1: 1.38071\n",
            "[700]\tvalid_0's l1: 1.38078\n",
            "[800]\tvalid_0's l1: 1.37961\n",
            "[900]\tvalid_0's l1: 1.37799\n",
            "[1000]\tvalid_0's l1: 1.37759\n",
            "[1100]\tvalid_0's l1: 1.37679\n",
            "[1200]\tvalid_0's l1: 1.37641\n",
            "[1300]\tvalid_0's l1: 1.37621\n",
            "[1400]\tvalid_0's l1: 1.37596\n",
            "[1500]\tvalid_0's l1: 1.37488\n",
            "[1600]\tvalid_0's l1: 1.37412\n",
            "[1700]\tvalid_0's l1: 1.37398\n",
            "Early stopping, best iteration is:\n",
            "[1628]\tvalid_0's l1: 1.37378\n"
          ],
          "name": "stdout"
        },
        {
          "output_type": "stream",
          "text": [
            "\n",
            "regularization_factors, val_score: 1.361366:  25%|##5       | 5/20 [09:30<22:49, 91.31s/it]\u001b[A\n",
            "regularization_factors, val_score: 1.361366:  30%|###       | 6/20 [09:30<22:40, 97.20s/it]\u001b[A\u001b[32m[I 2021-07-08 10:44:10,836]\u001b[0m Trial 45 finished with value: 1.3737806800840733 and parameters: {'lambda_l1': 9.404415146147849e-05, 'lambda_l2': 4.655588472762319e-05}. Best is trial 42 with value: 1.368085353973899.\u001b[0m\n",
            "\n",
            "regularization_factors, val_score: 1.361366:  30%|###       | 6/20 [09:30<22:40, 97.20s/it]\u001b[A"
          ],
          "name": "stderr"
        },
        {
          "output_type": "stream",
          "text": [
            "Training until validation scores don't improve for 100 rounds.\n",
            "[100]\tvalid_0's l1: 1.41131\n",
            "[200]\tvalid_0's l1: 1.3965\n",
            "[300]\tvalid_0's l1: 1.39059\n",
            "[400]\tvalid_0's l1: 1.3853\n",
            "[500]\tvalid_0's l1: 1.38216\n",
            "[600]\tvalid_0's l1: 1.37964\n",
            "[700]\tvalid_0's l1: 1.37806\n",
            "[800]\tvalid_0's l1: 1.37783\n",
            "[900]\tvalid_0's l1: 1.37721\n",
            "[1000]\tvalid_0's l1: 1.37625\n",
            "[1100]\tvalid_0's l1: 1.37451\n",
            "[1200]\tvalid_0's l1: 1.37446\n",
            "Early stopping, best iteration is:\n",
            "[1159]\tvalid_0's l1: 1.37415\n"
          ],
          "name": "stdout"
        },
        {
          "output_type": "stream",
          "text": [
            "\n",
            "regularization_factors, val_score: 1.361366:  30%|###       | 6/20 [10:51<22:40, 97.20s/it]\u001b[A\n",
            "regularization_factors, val_score: 1.361366:  35%|###5      | 7/20 [10:51<20:00, 92.37s/it]\u001b[A\u001b[32m[I 2021-07-08 10:45:31,915]\u001b[0m Trial 46 finished with value: 1.3741537792070457 and parameters: {'lambda_l1': 0.0006036452111917391, 'lambda_l2': 0.000189656280133489}. Best is trial 42 with value: 1.368085353973899.\u001b[0m\n",
            "\n",
            "regularization_factors, val_score: 1.361366:  35%|###5      | 7/20 [10:51<20:00, 92.37s/it]\u001b[A"
          ],
          "name": "stderr"
        },
        {
          "output_type": "stream",
          "text": [
            "Training until validation scores don't improve for 100 rounds.\n",
            "[100]\tvalid_0's l1: 1.41497\n",
            "[200]\tvalid_0's l1: 1.40238\n",
            "[300]\tvalid_0's l1: 1.39436\n",
            "[400]\tvalid_0's l1: 1.38877\n",
            "[500]\tvalid_0's l1: 1.38519\n",
            "[600]\tvalid_0's l1: 1.38354\n",
            "[700]\tvalid_0's l1: 1.37998\n",
            "[800]\tvalid_0's l1: 1.3776\n",
            "[900]\tvalid_0's l1: 1.37819\n",
            "Early stopping, best iteration is:\n",
            "[845]\tvalid_0's l1: 1.37696\n"
          ],
          "name": "stdout"
        },
        {
          "output_type": "stream",
          "text": [
            "\n",
            "regularization_factors, val_score: 1.361366:  35%|###5      | 7/20 [11:52<20:00, 92.37s/it]\u001b[A\n",
            "regularization_factors, val_score: 1.361366:  40%|####      | 8/20 [11:52<16:34, 82.90s/it]\u001b[A\u001b[32m[I 2021-07-08 10:46:32,726]\u001b[0m Trial 47 finished with value: 1.3769615543048257 and parameters: {'lambda_l1': 3.7057382373515386e-08, 'lambda_l2': 0.0388283199373443}. Best is trial 42 with value: 1.368085353973899.\u001b[0m\n",
            "\n",
            "regularization_factors, val_score: 1.361366:  40%|####      | 8/20 [11:52<16:34, 82.90s/it]\u001b[A"
          ],
          "name": "stderr"
        },
        {
          "output_type": "stream",
          "text": [
            "Training until validation scores don't improve for 100 rounds.\n",
            "[100]\tvalid_0's l1: 1.40998\n",
            "[200]\tvalid_0's l1: 1.39261\n",
            "[300]\tvalid_0's l1: 1.38563\n",
            "[400]\tvalid_0's l1: 1.37943\n",
            "[500]\tvalid_0's l1: 1.37515\n",
            "[600]\tvalid_0's l1: 1.37451\n",
            "[700]\tvalid_0's l1: 1.37275\n",
            "[800]\tvalid_0's l1: 1.37153\n",
            "[900]\tvalid_0's l1: 1.36902\n",
            "[1000]\tvalid_0's l1: 1.3685\n",
            "[1100]\tvalid_0's l1: 1.36731\n",
            "[1200]\tvalid_0's l1: 1.36705\n",
            "[1300]\tvalid_0's l1: 1.36666\n",
            "[1400]\tvalid_0's l1: 1.36587\n",
            "[1500]\tvalid_0's l1: 1.36527\n",
            "[1600]\tvalid_0's l1: 1.36461\n",
            "[1700]\tvalid_0's l1: 1.36418\n",
            "Early stopping, best iteration is:\n",
            "[1693]\tvalid_0's l1: 1.36417\n"
          ],
          "name": "stdout"
        },
        {
          "output_type": "stream",
          "text": [
            "\n",
            "regularization_factors, val_score: 1.361366:  40%|####      | 8/20 [13:48<16:34, 82.90s/it]\u001b[A\n",
            "regularization_factors, val_score: 1.361366:  45%|####5     | 9/20 [13:48<17:00, 92.78s/it]\u001b[A\u001b[32m[I 2021-07-08 10:48:28,555]\u001b[0m Trial 48 finished with value: 1.364166110123848 and parameters: {'lambda_l1': 4.432451579363751, 'lambda_l2': 3.268720693161262e-08}. Best is trial 48 with value: 1.364166110123848.\u001b[0m\n",
            "\n",
            "regularization_factors, val_score: 1.361366:  45%|####5     | 9/20 [13:48<17:00, 92.78s/it]\u001b[A"
          ],
          "name": "stderr"
        },
        {
          "output_type": "stream",
          "text": [
            "Training until validation scores don't improve for 100 rounds.\n",
            "[100]\tvalid_0's l1: 1.41084\n",
            "[200]\tvalid_0's l1: 1.39698\n",
            "[300]\tvalid_0's l1: 1.39047\n",
            "[400]\tvalid_0's l1: 1.38486\n",
            "[500]\tvalid_0's l1: 1.38004\n",
            "[600]\tvalid_0's l1: 1.37744\n",
            "[700]\tvalid_0's l1: 1.37475\n",
            "[800]\tvalid_0's l1: 1.37254\n",
            "[900]\tvalid_0's l1: 1.37041\n",
            "[1000]\tvalid_0's l1: 1.36984\n",
            "[1100]\tvalid_0's l1: 1.36836\n",
            "[1200]\tvalid_0's l1: 1.36557\n",
            "[1300]\tvalid_0's l1: 1.36545\n",
            "[1400]\tvalid_0's l1: 1.36539\n",
            "[1500]\tvalid_0's l1: 1.36483\n",
            "[1600]\tvalid_0's l1: 1.36437\n",
            "[1700]\tvalid_0's l1: 1.36383\n",
            "[1800]\tvalid_0's l1: 1.36263\n",
            "[1900]\tvalid_0's l1: 1.36207\n",
            "[2000]\tvalid_0's l1: 1.3618\n",
            "[2100]\tvalid_0's l1: 1.36083\n",
            "[2200]\tvalid_0's l1: 1.36094\n",
            "[2300]\tvalid_0's l1: 1.36055\n",
            "[2400]\tvalid_0's l1: 1.36061\n",
            "Early stopping, best iteration is:\n",
            "[2364]\tvalid_0's l1: 1.36031\n"
          ],
          "name": "stdout"
        },
        {
          "output_type": "stream",
          "text": [
            "\n",
            "regularization_factors, val_score: 1.360311:  45%|####5     | 9/20 [16:27<17:00, 92.78s/it]\u001b[A\n",
            "regularization_factors, val_score: 1.360311:  50%|#####     | 10/20 [16:27<18:47, 112.73s/it]\u001b[A\u001b[32m[I 2021-07-08 10:51:07,816]\u001b[0m Trial 49 finished with value: 1.3603108387992073 and parameters: {'lambda_l1': 6.670184774939892, 'lambda_l2': 0.030163732694992167}. Best is trial 49 with value: 1.3603108387992073.\u001b[0m\n",
            "\n",
            "regularization_factors, val_score: 1.360311:  50%|#####     | 10/20 [16:27<18:47, 112.73s/it]\u001b[A"
          ],
          "name": "stderr"
        },
        {
          "output_type": "stream",
          "text": [
            "Training until validation scores don't improve for 100 rounds.\n",
            "[100]\tvalid_0's l1: 1.4126\n",
            "[200]\tvalid_0's l1: 1.40161\n",
            "[300]\tvalid_0's l1: 1.39116\n",
            "[400]\tvalid_0's l1: 1.38497\n",
            "[500]\tvalid_0's l1: 1.38187\n",
            "[600]\tvalid_0's l1: 1.37904\n",
            "[700]\tvalid_0's l1: 1.37637\n",
            "[800]\tvalid_0's l1: 1.37604\n",
            "[900]\tvalid_0's l1: 1.3756\n",
            "[1000]\tvalid_0's l1: 1.37492\n",
            "[1100]\tvalid_0's l1: 1.37409\n",
            "[1200]\tvalid_0's l1: 1.37362\n",
            "[1300]\tvalid_0's l1: 1.37327\n",
            "Early stopping, best iteration is:\n",
            "[1295]\tvalid_0's l1: 1.37319\n"
          ],
          "name": "stdout"
        },
        {
          "output_type": "stream",
          "text": [
            "\n",
            "regularization_factors, val_score: 1.360311:  50%|#####     | 10/20 [18:00<18:47, 112.73s/it]\u001b[A\n",
            "regularization_factors, val_score: 1.360311:  55%|#####5    | 11/20 [18:00<16:01, 106.78s/it]\u001b[A\u001b[32m[I 2021-07-08 10:52:40,748]\u001b[0m Trial 50 finished with value: 1.3731863391973063 and parameters: {'lambda_l1': 0.09963183862011099, 'lambda_l2': 4.397173722409694}. Best is trial 49 with value: 1.3603108387992073.\u001b[0m\n",
            "\n",
            "regularization_factors, val_score: 1.360311:  55%|#####5    | 11/20 [18:00<16:01, 106.78s/it]\u001b[A"
          ],
          "name": "stderr"
        },
        {
          "output_type": "stream",
          "text": [
            "Training until validation scores don't improve for 100 rounds.\n",
            "[100]\tvalid_0's l1: 1.41069\n",
            "[200]\tvalid_0's l1: 1.39899\n",
            "[300]\tvalid_0's l1: 1.39049\n",
            "[400]\tvalid_0's l1: 1.38583\n",
            "[500]\tvalid_0's l1: 1.38307\n",
            "[600]\tvalid_0's l1: 1.3809\n",
            "[700]\tvalid_0's l1: 1.37922\n",
            "[800]\tvalid_0's l1: 1.37749\n",
            "[900]\tvalid_0's l1: 1.37538\n",
            "[1000]\tvalid_0's l1: 1.37347\n",
            "[1100]\tvalid_0's l1: 1.37183\n",
            "[1200]\tvalid_0's l1: 1.37068\n",
            "[1300]\tvalid_0's l1: 1.36974\n",
            "[1400]\tvalid_0's l1: 1.3689\n",
            "[1500]\tvalid_0's l1: 1.36764\n",
            "[1600]\tvalid_0's l1: 1.36715\n",
            "[1700]\tvalid_0's l1: 1.3666\n",
            "[1800]\tvalid_0's l1: 1.36592\n",
            "Early stopping, best iteration is:\n",
            "[1775]\tvalid_0's l1: 1.36585\n"
          ],
          "name": "stdout"
        },
        {
          "output_type": "stream",
          "text": [
            "\n",
            "regularization_factors, val_score: 1.360311:  55%|#####5    | 11/20 [20:03<16:01, 106.78s/it]\u001b[A\n",
            "regularization_factors, val_score: 1.360311:  60%|######    | 12/20 [20:03<14:53, 111.68s/it]\u001b[A\u001b[32m[I 2021-07-08 10:54:43,866]\u001b[0m Trial 51 finished with value: 1.3658487797686059 and parameters: {'lambda_l1': 6.061539368291137, 'lambda_l2': 1.3998746509826716e-08}. Best is trial 49 with value: 1.3603108387992073.\u001b[0m\n",
            "\n",
            "regularization_factors, val_score: 1.360311:  60%|######    | 12/20 [20:03<14:53, 111.68s/it]\u001b[A"
          ],
          "name": "stderr"
        },
        {
          "output_type": "stream",
          "text": [
            "Training until validation scores don't improve for 100 rounds.\n",
            "[100]\tvalid_0's l1: 1.41034\n",
            "[200]\tvalid_0's l1: 1.3963\n",
            "[300]\tvalid_0's l1: 1.38768\n",
            "[400]\tvalid_0's l1: 1.38306\n",
            "[500]\tvalid_0's l1: 1.38154\n",
            "[600]\tvalid_0's l1: 1.37918\n",
            "[700]\tvalid_0's l1: 1.37759\n",
            "[800]\tvalid_0's l1: 1.37554\n",
            "[900]\tvalid_0's l1: 1.37512\n",
            "[1000]\tvalid_0's l1: 1.3742\n",
            "[1100]\tvalid_0's l1: 1.37165\n",
            "[1200]\tvalid_0's l1: 1.3708\n",
            "[1300]\tvalid_0's l1: 1.36992\n",
            "[1400]\tvalid_0's l1: 1.36923\n",
            "[1500]\tvalid_0's l1: 1.36911\n",
            "[1600]\tvalid_0's l1: 1.36876\n",
            "[1700]\tvalid_0's l1: 1.36836\n",
            "[1800]\tvalid_0's l1: 1.36807\n",
            "[1900]\tvalid_0's l1: 1.36837\n",
            "Early stopping, best iteration is:\n",
            "[1818]\tvalid_0's l1: 1.36794\n"
          ],
          "name": "stdout"
        },
        {
          "output_type": "stream",
          "text": [
            "\n",
            "regularization_factors, val_score: 1.360311:  60%|######    | 12/20 [22:08<14:53, 111.68s/it]\u001b[A\n",
            "regularization_factors, val_score: 1.360311:  65%|######5   | 13/20 [22:08<13:29, 115.63s/it]\u001b[A\u001b[32m[I 2021-07-08 10:56:48,689]\u001b[0m Trial 52 finished with value: 1.3679433556654843 and parameters: {'lambda_l1': 0.10745868042641765, 'lambda_l2': 0.014073125385871929}. Best is trial 49 with value: 1.3603108387992073.\u001b[0m\n",
            "\n",
            "regularization_factors, val_score: 1.360311:  65%|######5   | 13/20 [22:08<13:29, 115.63s/it]\u001b[A"
          ],
          "name": "stderr"
        },
        {
          "output_type": "stream",
          "text": [
            "Training until validation scores don't improve for 100 rounds.\n",
            "[100]\tvalid_0's l1: 1.40799\n",
            "[200]\tvalid_0's l1: 1.39334\n",
            "[300]\tvalid_0's l1: 1.38612\n",
            "[400]\tvalid_0's l1: 1.38182\n",
            "[500]\tvalid_0's l1: 1.37883\n",
            "[600]\tvalid_0's l1: 1.37562\n",
            "[700]\tvalid_0's l1: 1.37454\n",
            "[800]\tvalid_0's l1: 1.37258\n",
            "[900]\tvalid_0's l1: 1.37268\n",
            "Early stopping, best iteration is:\n",
            "[819]\tvalid_0's l1: 1.37244\n"
          ],
          "name": "stdout"
        },
        {
          "output_type": "stream",
          "text": [
            "\n",
            "regularization_factors, val_score: 1.360311:  65%|######5   | 13/20 [23:10<13:29, 115.63s/it]\u001b[A\n",
            "regularization_factors, val_score: 1.360311:  70%|#######   | 14/20 [23:10<09:56, 99.43s/it] \u001b[A\u001b[32m[I 2021-07-08 10:57:50,335]\u001b[0m Trial 53 finished with value: 1.3724368966646834 and parameters: {'lambda_l1': 0.19130225944259543, 'lambda_l2': 7.36233233471732e-07}. Best is trial 49 with value: 1.3603108387992073.\u001b[0m\n",
            "\n",
            "regularization_factors, val_score: 1.360311:  70%|#######   | 14/20 [23:10<09:56, 99.43s/it]\u001b[A"
          ],
          "name": "stderr"
        },
        {
          "output_type": "stream",
          "text": [
            "Training until validation scores don't improve for 100 rounds.\n",
            "[100]\tvalid_0's l1: 1.40794\n",
            "[200]\tvalid_0's l1: 1.39198\n",
            "[300]\tvalid_0's l1: 1.38792\n",
            "[400]\tvalid_0's l1: 1.38103\n",
            "[500]\tvalid_0's l1: 1.3778\n",
            "[600]\tvalid_0's l1: 1.37547\n",
            "[700]\tvalid_0's l1: 1.37328\n",
            "[800]\tvalid_0's l1: 1.37179\n",
            "Early stopping, best iteration is:\n",
            "[799]\tvalid_0's l1: 1.37176\n"
          ],
          "name": "stdout"
        },
        {
          "output_type": "stream",
          "text": [
            "\n",
            "regularization_factors, val_score: 1.360311:  70%|#######   | 14/20 [24:10<09:56, 99.43s/it]\u001b[A\n",
            "regularization_factors, val_score: 1.360311:  75%|#######5  | 15/20 [24:10<07:19, 87.81s/it]\u001b[A\u001b[32m[I 2021-07-08 10:58:51,022]\u001b[0m Trial 54 finished with value: 1.3717597552981637 and parameters: {'lambda_l1': 5.055169858000634, 'lambda_l2': 0.019428445198209264}. Best is trial 49 with value: 1.3603108387992073.\u001b[0m\n",
            "\n",
            "regularization_factors, val_score: 1.360311:  75%|#######5  | 15/20 [24:10<07:19, 87.81s/it]\u001b[A"
          ],
          "name": "stderr"
        },
        {
          "output_type": "stream",
          "text": [
            "Training until validation scores don't improve for 100 rounds.\n",
            "[100]\tvalid_0's l1: 1.41226\n",
            "[200]\tvalid_0's l1: 1.39633\n",
            "[300]\tvalid_0's l1: 1.38964\n",
            "[400]\tvalid_0's l1: 1.38654\n",
            "[500]\tvalid_0's l1: 1.38393\n",
            "[600]\tvalid_0's l1: 1.3822\n",
            "[700]\tvalid_0's l1: 1.38073\n",
            "[800]\tvalid_0's l1: 1.37904\n",
            "[900]\tvalid_0's l1: 1.37742\n",
            "[1000]\tvalid_0's l1: 1.37632\n",
            "[1100]\tvalid_0's l1: 1.37549\n",
            "[1200]\tvalid_0's l1: 1.37437\n",
            "[1300]\tvalid_0's l1: 1.37447\n",
            "Early stopping, best iteration is:\n",
            "[1213]\tvalid_0's l1: 1.37415\n"
          ],
          "name": "stdout"
        },
        {
          "output_type": "stream",
          "text": [
            "\n",
            "regularization_factors, val_score: 1.360311:  75%|#######5  | 15/20 [25:37<07:19, 87.81s/it]\u001b[A\n",
            "regularization_factors, val_score: 1.360311:  80%|########  | 16/20 [25:37<05:49, 87.39s/it]\u001b[A\u001b[32m[I 2021-07-08 11:00:17,429]\u001b[0m Trial 55 finished with value: 1.3741496390495243 and parameters: {'lambda_l1': 0.010234847560287842, 'lambda_l2': 8.999395634302304e-07}. Best is trial 49 with value: 1.3603108387992073.\u001b[0m\n",
            "\n",
            "regularization_factors, val_score: 1.360311:  80%|########  | 16/20 [25:37<05:49, 87.39s/it]\u001b[A"
          ],
          "name": "stderr"
        },
        {
          "output_type": "stream",
          "text": [
            "Training until validation scores don't improve for 100 rounds.\n",
            "[100]\tvalid_0's l1: 1.41098\n",
            "[200]\tvalid_0's l1: 1.39353\n",
            "[300]\tvalid_0's l1: 1.387\n",
            "[400]\tvalid_0's l1: 1.38224\n",
            "[500]\tvalid_0's l1: 1.37955\n",
            "[600]\tvalid_0's l1: 1.3763\n",
            "[700]\tvalid_0's l1: 1.37424\n",
            "[800]\tvalid_0's l1: 1.37185\n",
            "[900]\tvalid_0's l1: 1.37097\n",
            "[1000]\tvalid_0's l1: 1.36983\n",
            "[1100]\tvalid_0's l1: 1.36895\n",
            "[1200]\tvalid_0's l1: 1.36881\n",
            "[1300]\tvalid_0's l1: 1.36785\n",
            "[1400]\tvalid_0's l1: 1.36801\n",
            "Early stopping, best iteration is:\n",
            "[1375]\tvalid_0's l1: 1.36744\n"
          ],
          "name": "stdout"
        },
        {
          "output_type": "stream",
          "text": [
            "\n",
            "regularization_factors, val_score: 1.360311:  80%|########  | 16/20 [27:13<05:49, 87.39s/it]\u001b[A\n",
            "regularization_factors, val_score: 1.360311:  85%|########5 | 17/20 [27:13<04:30, 90.12s/it]\u001b[A\u001b[32m[I 2021-07-08 11:01:53,916]\u001b[0m Trial 56 finished with value: 1.3674430205219887 and parameters: {'lambda_l1': 0.6782141902470908, 'lambda_l2': 0.2315726544049108}. Best is trial 49 with value: 1.3603108387992073.\u001b[0m\n",
            "\n",
            "regularization_factors, val_score: 1.360311:  85%|########5 | 17/20 [27:13<04:30, 90.12s/it]\u001b[A"
          ],
          "name": "stderr"
        },
        {
          "output_type": "stream",
          "text": [
            "Training until validation scores don't improve for 100 rounds.\n",
            "[100]\tvalid_0's l1: 1.41233\n",
            "[200]\tvalid_0's l1: 1.39802\n",
            "[300]\tvalid_0's l1: 1.39371\n",
            "[400]\tvalid_0's l1: 1.38733\n",
            "[500]\tvalid_0's l1: 1.38433\n",
            "[600]\tvalid_0's l1: 1.38222\n",
            "[700]\tvalid_0's l1: 1.38031\n",
            "[800]\tvalid_0's l1: 1.37863\n",
            "[900]\tvalid_0's l1: 1.378\n",
            "Early stopping, best iteration is:\n",
            "[843]\tvalid_0's l1: 1.37723\n"
          ],
          "name": "stdout"
        },
        {
          "output_type": "stream",
          "text": [
            "\n",
            "regularization_factors, val_score: 1.360311:  85%|########5 | 17/20 [28:16<04:30, 90.12s/it]\u001b[A\n",
            "regularization_factors, val_score: 1.360311:  90%|######### | 18/20 [28:16<02:43, 81.84s/it]\u001b[A\u001b[32m[I 2021-07-08 11:02:56,428]\u001b[0m Trial 57 finished with value: 1.3772329849591982 and parameters: {'lambda_l1': 0.005153118694283548, 'lambda_l2': 0.0030596394100306317}. Best is trial 49 with value: 1.3603108387992073.\u001b[0m\n",
            "\n",
            "regularization_factors, val_score: 1.360311:  90%|######### | 18/20 [28:16<02:43, 81.84s/it]\u001b[A"
          ],
          "name": "stderr"
        },
        {
          "output_type": "stream",
          "text": [
            "Training until validation scores don't improve for 100 rounds.\n",
            "[100]\tvalid_0's l1: 1.40848\n",
            "[200]\tvalid_0's l1: 1.39344\n",
            "[300]\tvalid_0's l1: 1.38823\n",
            "[400]\tvalid_0's l1: 1.38313\n",
            "[500]\tvalid_0's l1: 1.38194\n",
            "[600]\tvalid_0's l1: 1.38063\n",
            "[700]\tvalid_0's l1: 1.37927\n",
            "[800]\tvalid_0's l1: 1.37815\n",
            "[900]\tvalid_0's l1: 1.37576\n",
            "[1000]\tvalid_0's l1: 1.37434\n",
            "[1100]\tvalid_0's l1: 1.37295\n",
            "[1200]\tvalid_0's l1: 1.37186\n",
            "[1300]\tvalid_0's l1: 1.37144\n",
            "[1400]\tvalid_0's l1: 1.37163\n",
            "Early stopping, best iteration is:\n",
            "[1327]\tvalid_0's l1: 1.37133\n"
          ],
          "name": "stdout"
        },
        {
          "output_type": "stream",
          "text": [
            "\n",
            "regularization_factors, val_score: 1.360311:  90%|######### | 18/20 [29:51<02:43, 81.84s/it]\u001b[A\n",
            "regularization_factors, val_score: 1.360311:  95%|#########5| 19/20 [29:51<01:25, 85.76s/it]\u001b[A\u001b[32m[I 2021-07-08 11:04:31,356]\u001b[0m Trial 58 finished with value: 1.3713331164161517 and parameters: {'lambda_l1': 7.801783138432852, 'lambda_l2': 2.00846985236911e-06}. Best is trial 49 with value: 1.3603108387992073.\u001b[0m\n",
            "\n",
            "regularization_factors, val_score: 1.360311:  95%|#########5| 19/20 [29:51<01:25, 85.76s/it]\u001b[A"
          ],
          "name": "stderr"
        },
        {
          "output_type": "stream",
          "text": [
            "Training until validation scores don't improve for 100 rounds.\n",
            "[100]\tvalid_0's l1: 1.40797\n",
            "[200]\tvalid_0's l1: 1.39477\n",
            "[300]\tvalid_0's l1: 1.38779\n",
            "[400]\tvalid_0's l1: 1.38198\n",
            "[500]\tvalid_0's l1: 1.37928\n",
            "[600]\tvalid_0's l1: 1.37588\n",
            "[700]\tvalid_0's l1: 1.37437\n",
            "[800]\tvalid_0's l1: 1.37146\n",
            "[900]\tvalid_0's l1: 1.37121\n",
            "Early stopping, best iteration is:\n",
            "[854]\tvalid_0's l1: 1.37074\n"
          ],
          "name": "stdout"
        },
        {
          "output_type": "stream",
          "text": [
            "\n",
            "regularization_factors, val_score: 1.360311:  95%|#########5| 19/20 [30:55<01:25, 85.76s/it]\u001b[A\n",
            "regularization_factors, val_score: 1.360311: 100%|##########| 20/20 [30:55<00:00, 79.26s/it]\u001b[A\u001b[32m[I 2021-07-08 11:05:35,428]\u001b[0m Trial 59 finished with value: 1.3707420345155903 and parameters: {'lambda_l1': 0.01673631081457285, 'lambda_l2': 7.02503214161019}. Best is trial 49 with value: 1.3603108387992073.\u001b[0m\n",
            "regularization_factors, val_score: 1.360311: 100%|##########| 20/20 [30:55<00:00, 92.76s/it]\n",
            "\n",
            "  0%|          | 0/5 [00:00<?, ?it/s]\u001b[A\n",
            "min_data_in_leaf, val_score: 1.360311:   0%|          | 0/5 [00:00<?, ?it/s]\u001b[A"
          ],
          "name": "stderr"
        },
        {
          "output_type": "stream",
          "text": [
            "Training until validation scores don't improve for 100 rounds.\n",
            "[100]\tvalid_0's l1: 1.41163\n",
            "[200]\tvalid_0's l1: 1.39449\n",
            "[300]\tvalid_0's l1: 1.38758\n",
            "[400]\tvalid_0's l1: 1.38174\n",
            "[500]\tvalid_0's l1: 1.37877\n",
            "[600]\tvalid_0's l1: 1.37642\n",
            "[700]\tvalid_0's l1: 1.37415\n",
            "[800]\tvalid_0's l1: 1.37145\n",
            "[900]\tvalid_0's l1: 1.36973\n",
            "[1000]\tvalid_0's l1: 1.36878\n",
            "[1100]\tvalid_0's l1: 1.36818\n",
            "[1200]\tvalid_0's l1: 1.36752\n",
            "[1300]\tvalid_0's l1: 1.36747\n",
            "Early stopping, best iteration is:\n",
            "[1222]\tvalid_0's l1: 1.36734\n"
          ],
          "name": "stdout"
        },
        {
          "output_type": "stream",
          "text": [
            "\n",
            "min_data_in_leaf, val_score: 1.360311:   0%|          | 0/5 [01:27<?, ?it/s]\u001b[A\n",
            "min_data_in_leaf, val_score: 1.360311:  20%|##        | 1/5 [01:27<05:50, 87.63s/it]\u001b[A\u001b[32m[I 2021-07-08 11:07:03,098]\u001b[0m Trial 60 finished with value: 1.3673381091910624 and parameters: {'min_child_samples': 25}. Best is trial 60 with value: 1.3673381091910624.\u001b[0m\n",
            "\n",
            "min_data_in_leaf, val_score: 1.360311:  20%|##        | 1/5 [01:27<05:50, 87.63s/it]\u001b[A"
          ],
          "name": "stderr"
        },
        {
          "output_type": "stream",
          "text": [
            "Training until validation scores don't improve for 100 rounds.\n",
            "[100]\tvalid_0's l1: 1.41228\n",
            "[200]\tvalid_0's l1: 1.40092\n",
            "[300]\tvalid_0's l1: 1.38943\n",
            "[400]\tvalid_0's l1: 1.38603\n",
            "[500]\tvalid_0's l1: 1.38404\n",
            "[600]\tvalid_0's l1: 1.38125\n",
            "[700]\tvalid_0's l1: 1.37915\n",
            "[800]\tvalid_0's l1: 1.37727\n",
            "[900]\tvalid_0's l1: 1.3759\n",
            "[1000]\tvalid_0's l1: 1.37443\n",
            "[1100]\tvalid_0's l1: 1.3725\n",
            "[1200]\tvalid_0's l1: 1.3707\n",
            "[1300]\tvalid_0's l1: 1.36942\n",
            "[1400]\tvalid_0's l1: 1.3686\n",
            "[1500]\tvalid_0's l1: 1.36783\n",
            "[1600]\tvalid_0's l1: 1.36718\n",
            "[1700]\tvalid_0's l1: 1.36632\n",
            "[1800]\tvalid_0's l1: 1.36406\n",
            "[1900]\tvalid_0's l1: 1.36363\n",
            "[2000]\tvalid_0's l1: 1.3629\n",
            "[2100]\tvalid_0's l1: 1.36204\n",
            "[2200]\tvalid_0's l1: 1.36201\n",
            "[2300]\tvalid_0's l1: 1.36009\n",
            "[2400]\tvalid_0's l1: 1.35921\n",
            "[2500]\tvalid_0's l1: 1.35882\n",
            "[2600]\tvalid_0's l1: 1.35835\n",
            "[2700]\tvalid_0's l1: 1.35761\n",
            "[2800]\tvalid_0's l1: 1.35714\n",
            "[2900]\tvalid_0's l1: 1.35693\n",
            "[3000]\tvalid_0's l1: 1.35661\n",
            "[3100]\tvalid_0's l1: 1.35532\n",
            "[3200]\tvalid_0's l1: 1.35538\n",
            "[3300]\tvalid_0's l1: 1.35456\n",
            "[3400]\tvalid_0's l1: 1.35502\n",
            "Early stopping, best iteration is:\n",
            "[3300]\tvalid_0's l1: 1.35456\n"
          ],
          "name": "stdout"
        },
        {
          "output_type": "stream",
          "text": [
            "\n",
            "min_data_in_leaf, val_score: 1.354559:  20%|##        | 1/5 [05:05<05:50, 87.63s/it]\u001b[A\n",
            "min_data_in_leaf, val_score: 1.354559:  40%|####      | 2/5 [05:05<06:19, 126.63s/it]\u001b[A\u001b[32m[I 2021-07-08 11:10:40,696]\u001b[0m Trial 61 finished with value: 1.3545591855673302 and parameters: {'min_child_samples': 100}. Best is trial 61 with value: 1.3545591855673302.\u001b[0m\n",
            "\n",
            "min_data_in_leaf, val_score: 1.354559:  40%|####      | 2/5 [05:05<06:19, 126.63s/it]\u001b[A"
          ],
          "name": "stderr"
        },
        {
          "output_type": "stream",
          "text": [
            "Training until validation scores don't improve for 100 rounds.\n",
            "[100]\tvalid_0's l1: 1.41017\n",
            "[200]\tvalid_0's l1: 1.39766\n",
            "[300]\tvalid_0's l1: 1.39162\n",
            "[400]\tvalid_0's l1: 1.38654\n",
            "[500]\tvalid_0's l1: 1.38242\n",
            "[600]\tvalid_0's l1: 1.38028\n",
            "[700]\tvalid_0's l1: 1.3788\n",
            "[800]\tvalid_0's l1: 1.37705\n",
            "[900]\tvalid_0's l1: 1.37607\n",
            "[1000]\tvalid_0's l1: 1.37441\n",
            "[1100]\tvalid_0's l1: 1.3736\n",
            "[1200]\tvalid_0's l1: 1.37277\n",
            "[1300]\tvalid_0's l1: 1.37224\n",
            "[1400]\tvalid_0's l1: 1.37089\n",
            "[1500]\tvalid_0's l1: 1.37016\n",
            "[1600]\tvalid_0's l1: 1.36905\n",
            "[1700]\tvalid_0's l1: 1.36842\n",
            "[1800]\tvalid_0's l1: 1.36858\n",
            "Early stopping, best iteration is:\n",
            "[1701]\tvalid_0's l1: 1.36839\n"
          ],
          "name": "stdout"
        },
        {
          "output_type": "stream",
          "text": [
            "\n",
            "min_data_in_leaf, val_score: 1.354559:  40%|####      | 2/5 [07:01<06:19, 126.63s/it]\u001b[A\n",
            "min_data_in_leaf, val_score: 1.354559:  60%|######    | 3/5 [07:01<04:07, 123.62s/it]\u001b[A\u001b[32m[I 2021-07-08 11:12:37,316]\u001b[0m Trial 62 finished with value: 1.368393709862515 and parameters: {'min_child_samples': 5}. Best is trial 61 with value: 1.3545591855673302.\u001b[0m\n",
            "\n",
            "min_data_in_leaf, val_score: 1.354559:  60%|######    | 3/5 [07:01<04:07, 123.62s/it]\u001b[A"
          ],
          "name": "stderr"
        },
        {
          "output_type": "stream",
          "text": [
            "Training until validation scores don't improve for 100 rounds.\n",
            "[100]\tvalid_0's l1: 1.40911\n",
            "[200]\tvalid_0's l1: 1.39483\n",
            "[300]\tvalid_0's l1: 1.38663\n",
            "[400]\tvalid_0's l1: 1.3824\n",
            "[500]\tvalid_0's l1: 1.37847\n",
            "[600]\tvalid_0's l1: 1.37598\n",
            "[700]\tvalid_0's l1: 1.3747\n",
            "[800]\tvalid_0's l1: 1.37247\n",
            "[900]\tvalid_0's l1: 1.37144\n",
            "[1000]\tvalid_0's l1: 1.37003\n",
            "[1100]\tvalid_0's l1: 1.36967\n",
            "[1200]\tvalid_0's l1: 1.36985\n",
            "Early stopping, best iteration is:\n",
            "[1132]\tvalid_0's l1: 1.3696\n"
          ],
          "name": "stdout"
        },
        {
          "output_type": "stream",
          "text": [
            "\n",
            "min_data_in_leaf, val_score: 1.354559:  60%|######    | 3/5 [08:23<04:07, 123.62s/it]\u001b[A\n",
            "min_data_in_leaf, val_score: 1.354559:  80%|########  | 4/5 [08:23<01:50, 110.93s/it]\u001b[A\u001b[32m[I 2021-07-08 11:13:58,629]\u001b[0m Trial 63 finished with value: 1.369602500036572 and parameters: {'min_child_samples': 10}. Best is trial 61 with value: 1.3545591855673302.\u001b[0m\n",
            "\n",
            "min_data_in_leaf, val_score: 1.354559:  80%|########  | 4/5 [08:23<01:50, 110.93s/it]\u001b[A"
          ],
          "name": "stderr"
        },
        {
          "output_type": "stream",
          "text": [
            "Training until validation scores don't improve for 100 rounds.\n",
            "[100]\tvalid_0's l1: 1.41372\n",
            "[200]\tvalid_0's l1: 1.3951\n",
            "[300]\tvalid_0's l1: 1.38873\n",
            "[400]\tvalid_0's l1: 1.38416\n",
            "[500]\tvalid_0's l1: 1.38176\n",
            "[600]\tvalid_0's l1: 1.37619\n",
            "[700]\tvalid_0's l1: 1.37579\n"
          ],
          "name": "stdout"
        },
        {
          "output_type": "stream",
          "text": [
            "\n",
            "min_data_in_leaf, val_score: 1.354559:  80%|########  | 4/5 [09:11<01:50, 110.93s/it]\u001b[A\n",
            "min_data_in_leaf, val_score: 1.354559: 100%|##########| 5/5 [09:11<00:00, 92.03s/it] \u001b[A\u001b[32m[I 2021-07-08 11:14:46,553]\u001b[0m Trial 64 finished with value: 1.3756599326715733 and parameters: {'min_child_samples': 50}. Best is trial 61 with value: 1.3545591855673302.\u001b[0m\n",
            "min_data_in_leaf, val_score: 1.354559: 100%|##########| 5/5 [09:11<00:00, 110.22s/it]"
          ],
          "name": "stderr"
        },
        {
          "output_type": "stream",
          "text": [
            "Early stopping, best iteration is:\n",
            "[611]\tvalid_0's l1: 1.37566\n"
          ],
          "name": "stdout"
        },
        {
          "output_type": "stream",
          "text": [
            "\n"
          ],
          "name": "stderr"
        },
        {
          "output_type": "stream",
          "text": [
            "mae: 1.3545591854990213\n",
            "score: 1.4179844013094776\n"
          ],
          "name": "stdout"
        }
      ]
    },
    {
      "cell_type": "code",
      "metadata": {
        "execution": {
          "iopub.execute_input": "2021-06-25T22:19:17.682673Z",
          "iopub.status.busy": "2021-06-25T22:19:17.681978Z",
          "iopub.status.idle": "2021-06-25T22:19:19.467296Z",
          "shell.execute_reply": "2021-06-25T22:19:19.467916Z",
          "shell.execute_reply.started": "2021-06-25T21:58:57.456212Z"
        },
        "papermill": {
          "duration": 1.81619,
          "end_time": "2021-06-25T22:19:19.468136",
          "exception": false,
          "start_time": "2021-06-25T22:19:17.651946",
          "status": "completed"
        },
        "tags": [],
        "id": "large-orlando"
      },
      "source": [
        ""
      ],
      "id": "large-orlando",
      "execution_count": null,
      "outputs": []
    },
    {
      "cell_type": "code",
      "metadata": {
        "id": "xkqkayONf3SC"
      },
      "source": [
        ""
      ],
      "id": "xkqkayONf3SC",
      "execution_count": null,
      "outputs": []
    },
    {
      "cell_type": "code",
      "metadata": {
        "execution": {
          "iopub.execute_input": "2021-06-25T22:19:19.523599Z",
          "iopub.status.busy": "2021-06-25T22:19:19.522922Z",
          "iopub.status.idle": "2021-06-25T22:19:19.531732Z",
          "shell.execute_reply": "2021-06-25T22:19:19.532260Z",
          "shell.execute_reply.started": "2021-06-25T21:58:59.002054Z"
        },
        "papermill": {
          "duration": 0.038158,
          "end_time": "2021-06-25T22:19:19.532427",
          "exception": false,
          "start_time": "2021-06-25T22:19:19.494269",
          "status": "completed"
        },
        "tags": [],
        "id": "sensitive-establishment"
      },
      "source": [
        "players_cols = ['playerId', 'primaryPositionName']\n",
        "rosters_cols = ['playerId', 'teamId', 'status']\n",
        "scores_cols = ['playerId', 'battingOrder', 'gamesPlayedBatting', 'flyOuts',\n",
        "       'groundOuts', 'runsScored', 'doubles', 'triples', 'homeRuns',\n",
        "       'strikeOuts', 'baseOnBalls', 'intentionalWalks', 'hits', 'hitByPitch',\n",
        "       'atBats', 'caughtStealing', 'stolenBases', 'groundIntoDoublePlay',\n",
        "       'groundIntoTriplePlay', 'plateAppearances', 'totalBases', 'rbi',\n",
        "       'leftOnBase', 'sacBunts', 'sacFlies', 'catchersInterference',\n",
        "       'pickoffs', 'gamesPlayedPitching', 'gamesStartedPitching',\n",
        "       'completeGamesPitching', 'shutoutsPitching', 'winsPitching',\n",
        "       'lossesPitching', 'flyOutsPitching', 'airOutsPitching',\n",
        "       'groundOutsPitching', 'runsPitching', 'doublesPitching',\n",
        "       'triplesPitching', 'homeRunsPitching', 'strikeOutsPitching',\n",
        "       'baseOnBallsPitching', 'intentionalWalksPitching', 'hitsPitching',\n",
        "       'hitByPitchPitching', 'atBatsPitching', 'caughtStealingPitching',\n",
        "       'stolenBasesPitching', 'inningsPitched', 'saveOpportunities',\n",
        "       'earnedRuns', 'battersFaced', 'outsPitching', 'pitchesThrown', 'balls',\n",
        "       'strikes', 'hitBatsmen', 'balks', 'wildPitches', 'pickoffsPitching',\n",
        "       'rbiPitching', 'gamesFinishedPitching', 'inheritedRunners',\n",
        "       'inheritedRunnersScored', 'catchersInterferencePitching',\n",
        "       'sacBuntsPitching', 'sacFliesPitching', 'saves', 'holds', 'blownSaves',\n",
        "       'assists', 'putOuts', 'errors', 'chances']\n",
        "standings_cols = [\"teamId\",\"divisionRank\",\"divisionLeader\",\"wildCardLeader\",\"leagueRank\",\"divisionId\",\"gameDate\"]\n",
        "null = np.nan\n",
        "true = True\n",
        "false = False"
      ],
      "id": "sensitive-establishment",
      "execution_count": null,
      "outputs": []
    },
    {
      "cell_type": "code",
      "metadata": {
        "execution": {
          "iopub.execute_input": "2021-06-25T22:19:19.604016Z",
          "iopub.status.busy": "2021-06-25T22:19:19.598864Z",
          "iopub.status.idle": "2021-06-25T22:23:45.296062Z",
          "shell.execute_reply": "2021-06-25T22:23:45.295267Z",
          "shell.execute_reply.started": "2021-06-25T21:58:59.015564Z"
        },
        "papermill": {
          "duration": 265.737683,
          "end_time": "2021-06-25T22:23:45.296307",
          "exception": false,
          "start_time": "2021-06-25T22:19:19.558624",
          "status": "completed"
        },
        "tags": [],
        "id": "hundred-thunder",
        "colab": {
          "base_uri": "https://localhost:8080/",
          "height": 447
        },
        "outputId": "83a3b636-cf9e-4f05-90c2-f39d37bb2776"
      },
      "source": [
        "import pandas as pd\n",
        "import numpy as np\n",
        "from datetime import timedelta\n",
        "from tqdm import tqdm\n",
        "import gc\n",
        "from functools import reduce\n",
        "from sklearn.model_selection import StratifiedKFold\n",
        "\n",
        "ROOT_DIR = \"../input/mlb-player-digital-engagement-forecasting\"\n",
        "\n",
        "#=======================#\n",
        "def flatten(df, col):\n",
        "    du = (df.pivot(index=\"playerId\", columns=\"EvalDate\", \n",
        "               values=col).add_prefix(f\"{col}_\").\n",
        "      rename_axis(None, axis=1).reset_index())\n",
        "    return du\n",
        "#============================#\n",
        "def reducer(left, right):\n",
        "    return left.merge(right, on=\"playerId\")\n",
        "#========================\n",
        "\n",
        "TGTCOLS = [\"target1\",\"target2\",\"target3\",\"target4\"]\n",
        "def train_lag(df, lag=1):\n",
        "    dp = df[[\"playerId\",\"EvalDate\"]+TGTCOLS].copy()\n",
        "    dp[\"EvalDate\"]  =dp[\"EvalDate\"] + timedelta(days=lag) \n",
        "    df = df.merge(dp, on=[\"playerId\", \"EvalDate\"], suffixes=[\"\",f\"_{lag}\"], how=\"left\")\n",
        "    return df\n",
        "#=================================\n",
        "def test_lag(sub):\n",
        "    sub[\"playerId\"] = sub[\"date_playerId\"].apply(lambda s: int(  s.split(\"_\")[1]  ) )\n",
        "    assert sub.date.nunique() == 1\n",
        "    dte = sub[\"date\"].unique()[0]\n",
        "    \n",
        "    eval_dt = pd.to_datetime(dte, format=\"%Y%m%d\")\n",
        "    dtes = [eval_dt + timedelta(days=-k) for k in LAGS]\n",
        "    mp_dtes = {eval_dt + timedelta(days=-k):k for k in LAGS}\n",
        "    \n",
        "    sl = LAST.loc[LAST.EvalDate.between(dtes[-1], dtes[0]), [\"EvalDate\",\"playerId\"]+TGTCOLS].copy()\n",
        "    sl[\"EvalDate\"] = sl[\"EvalDate\"].map(mp_dtes)\n",
        "    du = [flatten(sl, col) for col in TGTCOLS]\n",
        "    du = reduce(reducer, du)\n",
        "    return du, eval_dt\n",
        "    #\n",
        "#===============\n",
        "\n",
        "tr = pd.read_csv(\"../input/mlb-data/target.csv\")\n",
        "print(tr.shape)\n",
        "gc.collect()\n",
        "\n",
        "tr[\"EvalDate\"] = pd.to_datetime(tr[\"EvalDate\"])\n",
        "tr[\"EvalDate\"] = tr[\"EvalDate\"] + timedelta(days=-1)\n",
        "tr[\"EvalYear\"] = tr[\"EvalDate\"].dt.year\n",
        "\n",
        "MED_DF = tr.groupby([\"playerId\",\"EvalYear\"])[TGTCOLS].median().reset_index()\n",
        "MEDCOLS = [\"tgt1_med\",\"tgt2_med\", \"tgt3_med\", \"tgt4_med\"]\n",
        "MED_DF.columns = [\"playerId\",\"EvalYear\"] + MEDCOLS\n",
        "\n",
        "LAGS = list(range(1,21))\n",
        "FECOLS = [f\"{col}_{lag}\" for lag in reversed(LAGS) for col in TGTCOLS]\n",
        "\n",
        "for lag in tqdm(LAGS):\n",
        "    tr = train_lag(tr, lag=lag)\n",
        "    gc.collect()\n",
        "#===========\n",
        "tr = tr.sort_values(by=[\"playerId\", \"EvalDate\"])\n",
        "print(tr.shape)\n",
        "tr = tr.dropna()\n",
        "print(tr.shape)\n",
        "tr = tr.merge(MED_DF, on=[\"playerId\",\"EvalYear\"])\n",
        "gc.collect()\n",
        "\n",
        "X = tr[FECOLS+MEDCOLS].values\n",
        "y = tr[TGTCOLS].values\n",
        "cl = tr[\"playerId\"].values\n",
        "\n",
        "NFOLDS = 6\n",
        "skf = StratifiedKFold(n_splits=NFOLDS)\n",
        "folds = skf.split(X, cl)\n",
        "folds = list(folds)\n",
        "\n",
        "import tensorflow as tf\n",
        "import tensorflow.keras.layers as L\n",
        "import tensorflow.keras.models as M\n",
        "from sklearn.metrics import mean_absolute_error, mean_squared_error\n",
        "from tensorflow.keras.callbacks import ModelCheckpoint, ReduceLROnPlateau, EarlyStopping\n",
        "\n",
        "tf.random.set_seed(777)\n",
        "\n",
        "def make_model(n_in):\n",
        "    inp = L.Input(name=\"inputs\", shape=(n_in,))\n",
        "    x = L.Dense(50, activation=\"relu\", name=\"d1\")(inp)\n",
        "    x = L.Dense(50, activation=\"relu\", name=\"d2\")(x)\n",
        "    preds = L.Dense(4, activation=\"linear\", name=\"preds\")(x)\n",
        "    \n",
        "    model = M.Model(inp, preds, name=\"ANN\")\n",
        "    model.compile(loss=\"mean_absolute_error\", optimizer=\"adam\")\n",
        "    return model\n",
        "\n",
        "net = make_model(X.shape[1])\n",
        "print(net.summary())\n",
        "\n",
        "oof = np.zeros(y.shape)\n",
        "nets = []\n",
        "for idx in range(NFOLDS):\n",
        "    print(\"FOLD:\", idx)\n",
        "    tr_idx, val_idx = folds[idx]\n",
        "    ckpt = ModelCheckpoint(f\"w{idx}.h5\", monitor='val_loss', verbose=1, save_best_only=True,mode='min')\n",
        "    reduce_lr = ReduceLROnPlateau(monitor='val_loss', factor=0.2,patience=3, min_lr=0.0005)\n",
        "    es = EarlyStopping(monitor='val_loss', patience=6)\n",
        "    reg = make_model(X.shape[1])\n",
        "    reg.fit(X[tr_idx], y[tr_idx], epochs=10, batch_size=35_000, validation_data=(X[val_idx], y[val_idx]),\n",
        "            verbose=1, callbacks=[ckpt, reduce_lr, es])\n",
        "    reg.load_weights(f\"w{idx}.h5\")\n",
        "    oof[val_idx] = reg.predict(X[val_idx], batch_size=50_000, verbose=1)\n",
        "    nets.append(reg)\n",
        "    gc.collect()\n",
        "    #\n",
        "#\n",
        "\n",
        "mae = mean_absolute_error(y, oof)\n",
        "mse = mean_squared_error(y, oof, squared=False)\n",
        "print(\"mae:\", mae)\n",
        "print(\"mse:\", mse)\n",
        "\n",
        "# Historical information to use in prediction time\n",
        "bound_dt = pd.to_datetime(\"2021-01-01\")\n",
        "LAST = tr.loc[tr.EvalDate>bound_dt].copy()\n",
        "\n",
        "LAST_MED_DF = MED_DF.loc[MED_DF.EvalYear==2021].copy()\n",
        "LAST_MED_DF.drop(\"EvalYear\", axis=1, inplace=True)\n",
        "del tr\n",
        "\n",
        "#\"\"\"\n",
        "import mlb\n",
        "FE = []; SUB = [];"
      ],
      "id": "hundred-thunder",
      "execution_count": null,
      "outputs": [
        {
          "output_type": "error",
          "ename": "FileNotFoundError",
          "evalue": "ignored",
          "traceback": [
            "\u001b[0;31m---------------------------------------------------------------------------\u001b[0m",
            "\u001b[0;31mFileNotFoundError\u001b[0m                         Traceback (most recent call last)",
            "\u001b[0;32m<ipython-input-215-248adacbd808>\u001b[0m in \u001b[0;36m<module>\u001b[0;34m()\u001b[0m\n\u001b[1;32m     44\u001b[0m \u001b[0;31m#===============\u001b[0m\u001b[0;34m\u001b[0m\u001b[0;34m\u001b[0m\u001b[0;34m\u001b[0m\u001b[0m\n\u001b[1;32m     45\u001b[0m \u001b[0;34m\u001b[0m\u001b[0m\n\u001b[0;32m---> 46\u001b[0;31m \u001b[0mtr\u001b[0m \u001b[0;34m=\u001b[0m \u001b[0mpd\u001b[0m\u001b[0;34m.\u001b[0m\u001b[0mread_csv\u001b[0m\u001b[0;34m(\u001b[0m\u001b[0;34m\"../input/mlb-data/target.csv\"\u001b[0m\u001b[0;34m)\u001b[0m\u001b[0;34m\u001b[0m\u001b[0;34m\u001b[0m\u001b[0m\n\u001b[0m\u001b[1;32m     47\u001b[0m \u001b[0mprint\u001b[0m\u001b[0;34m(\u001b[0m\u001b[0mtr\u001b[0m\u001b[0;34m.\u001b[0m\u001b[0mshape\u001b[0m\u001b[0;34m)\u001b[0m\u001b[0;34m\u001b[0m\u001b[0;34m\u001b[0m\u001b[0m\n\u001b[1;32m     48\u001b[0m \u001b[0mgc\u001b[0m\u001b[0;34m.\u001b[0m\u001b[0mcollect\u001b[0m\u001b[0;34m(\u001b[0m\u001b[0;34m)\u001b[0m\u001b[0;34m\u001b[0m\u001b[0;34m\u001b[0m\u001b[0m\n",
            "\u001b[0;32m/usr/local/lib/python3.7/dist-packages/pandas/io/parsers.py\u001b[0m in \u001b[0;36mread_csv\u001b[0;34m(filepath_or_buffer, sep, delimiter, header, names, index_col, usecols, squeeze, prefix, mangle_dupe_cols, dtype, engine, converters, true_values, false_values, skipinitialspace, skiprows, skipfooter, nrows, na_values, keep_default_na, na_filter, verbose, skip_blank_lines, parse_dates, infer_datetime_format, keep_date_col, date_parser, dayfirst, cache_dates, iterator, chunksize, compression, thousands, decimal, lineterminator, quotechar, quoting, doublequote, escapechar, comment, encoding, dialect, error_bad_lines, warn_bad_lines, delim_whitespace, low_memory, memory_map, float_precision)\u001b[0m\n\u001b[1;32m    686\u001b[0m     )\n\u001b[1;32m    687\u001b[0m \u001b[0;34m\u001b[0m\u001b[0m\n\u001b[0;32m--> 688\u001b[0;31m     \u001b[0;32mreturn\u001b[0m \u001b[0m_read\u001b[0m\u001b[0;34m(\u001b[0m\u001b[0mfilepath_or_buffer\u001b[0m\u001b[0;34m,\u001b[0m \u001b[0mkwds\u001b[0m\u001b[0;34m)\u001b[0m\u001b[0;34m\u001b[0m\u001b[0;34m\u001b[0m\u001b[0m\n\u001b[0m\u001b[1;32m    689\u001b[0m \u001b[0;34m\u001b[0m\u001b[0m\n\u001b[1;32m    690\u001b[0m \u001b[0;34m\u001b[0m\u001b[0m\n",
            "\u001b[0;32m/usr/local/lib/python3.7/dist-packages/pandas/io/parsers.py\u001b[0m in \u001b[0;36m_read\u001b[0;34m(filepath_or_buffer, kwds)\u001b[0m\n\u001b[1;32m    452\u001b[0m \u001b[0;34m\u001b[0m\u001b[0m\n\u001b[1;32m    453\u001b[0m     \u001b[0;31m# Create the parser.\u001b[0m\u001b[0;34m\u001b[0m\u001b[0;34m\u001b[0m\u001b[0;34m\u001b[0m\u001b[0m\n\u001b[0;32m--> 454\u001b[0;31m     \u001b[0mparser\u001b[0m \u001b[0;34m=\u001b[0m \u001b[0mTextFileReader\u001b[0m\u001b[0;34m(\u001b[0m\u001b[0mfp_or_buf\u001b[0m\u001b[0;34m,\u001b[0m \u001b[0;34m**\u001b[0m\u001b[0mkwds\u001b[0m\u001b[0;34m)\u001b[0m\u001b[0;34m\u001b[0m\u001b[0;34m\u001b[0m\u001b[0m\n\u001b[0m\u001b[1;32m    455\u001b[0m \u001b[0;34m\u001b[0m\u001b[0m\n\u001b[1;32m    456\u001b[0m     \u001b[0;32mif\u001b[0m \u001b[0mchunksize\u001b[0m \u001b[0;32mor\u001b[0m \u001b[0miterator\u001b[0m\u001b[0;34m:\u001b[0m\u001b[0;34m\u001b[0m\u001b[0;34m\u001b[0m\u001b[0m\n",
            "\u001b[0;32m/usr/local/lib/python3.7/dist-packages/pandas/io/parsers.py\u001b[0m in \u001b[0;36m__init__\u001b[0;34m(self, f, engine, **kwds)\u001b[0m\n\u001b[1;32m    946\u001b[0m             \u001b[0mself\u001b[0m\u001b[0;34m.\u001b[0m\u001b[0moptions\u001b[0m\u001b[0;34m[\u001b[0m\u001b[0;34m\"has_index_names\"\u001b[0m\u001b[0;34m]\u001b[0m \u001b[0;34m=\u001b[0m \u001b[0mkwds\u001b[0m\u001b[0;34m[\u001b[0m\u001b[0;34m\"has_index_names\"\u001b[0m\u001b[0;34m]\u001b[0m\u001b[0;34m\u001b[0m\u001b[0;34m\u001b[0m\u001b[0m\n\u001b[1;32m    947\u001b[0m \u001b[0;34m\u001b[0m\u001b[0m\n\u001b[0;32m--> 948\u001b[0;31m         \u001b[0mself\u001b[0m\u001b[0;34m.\u001b[0m\u001b[0m_make_engine\u001b[0m\u001b[0;34m(\u001b[0m\u001b[0mself\u001b[0m\u001b[0;34m.\u001b[0m\u001b[0mengine\u001b[0m\u001b[0;34m)\u001b[0m\u001b[0;34m\u001b[0m\u001b[0;34m\u001b[0m\u001b[0m\n\u001b[0m\u001b[1;32m    949\u001b[0m \u001b[0;34m\u001b[0m\u001b[0m\n\u001b[1;32m    950\u001b[0m     \u001b[0;32mdef\u001b[0m \u001b[0mclose\u001b[0m\u001b[0;34m(\u001b[0m\u001b[0mself\u001b[0m\u001b[0;34m)\u001b[0m\u001b[0;34m:\u001b[0m\u001b[0;34m\u001b[0m\u001b[0;34m\u001b[0m\u001b[0m\n",
            "\u001b[0;32m/usr/local/lib/python3.7/dist-packages/pandas/io/parsers.py\u001b[0m in \u001b[0;36m_make_engine\u001b[0;34m(self, engine)\u001b[0m\n\u001b[1;32m   1178\u001b[0m     \u001b[0;32mdef\u001b[0m \u001b[0m_make_engine\u001b[0m\u001b[0;34m(\u001b[0m\u001b[0mself\u001b[0m\u001b[0;34m,\u001b[0m \u001b[0mengine\u001b[0m\u001b[0;34m=\u001b[0m\u001b[0;34m\"c\"\u001b[0m\u001b[0;34m)\u001b[0m\u001b[0;34m:\u001b[0m\u001b[0;34m\u001b[0m\u001b[0;34m\u001b[0m\u001b[0m\n\u001b[1;32m   1179\u001b[0m         \u001b[0;32mif\u001b[0m \u001b[0mengine\u001b[0m \u001b[0;34m==\u001b[0m \u001b[0;34m\"c\"\u001b[0m\u001b[0;34m:\u001b[0m\u001b[0;34m\u001b[0m\u001b[0;34m\u001b[0m\u001b[0m\n\u001b[0;32m-> 1180\u001b[0;31m             \u001b[0mself\u001b[0m\u001b[0;34m.\u001b[0m\u001b[0m_engine\u001b[0m \u001b[0;34m=\u001b[0m \u001b[0mCParserWrapper\u001b[0m\u001b[0;34m(\u001b[0m\u001b[0mself\u001b[0m\u001b[0;34m.\u001b[0m\u001b[0mf\u001b[0m\u001b[0;34m,\u001b[0m \u001b[0;34m**\u001b[0m\u001b[0mself\u001b[0m\u001b[0;34m.\u001b[0m\u001b[0moptions\u001b[0m\u001b[0;34m)\u001b[0m\u001b[0;34m\u001b[0m\u001b[0;34m\u001b[0m\u001b[0m\n\u001b[0m\u001b[1;32m   1181\u001b[0m         \u001b[0;32melse\u001b[0m\u001b[0;34m:\u001b[0m\u001b[0;34m\u001b[0m\u001b[0;34m\u001b[0m\u001b[0m\n\u001b[1;32m   1182\u001b[0m             \u001b[0;32mif\u001b[0m \u001b[0mengine\u001b[0m \u001b[0;34m==\u001b[0m \u001b[0;34m\"python\"\u001b[0m\u001b[0;34m:\u001b[0m\u001b[0;34m\u001b[0m\u001b[0;34m\u001b[0m\u001b[0m\n",
            "\u001b[0;32m/usr/local/lib/python3.7/dist-packages/pandas/io/parsers.py\u001b[0m in \u001b[0;36m__init__\u001b[0;34m(self, src, **kwds)\u001b[0m\n\u001b[1;32m   2008\u001b[0m         \u001b[0mkwds\u001b[0m\u001b[0;34m[\u001b[0m\u001b[0;34m\"usecols\"\u001b[0m\u001b[0;34m]\u001b[0m \u001b[0;34m=\u001b[0m \u001b[0mself\u001b[0m\u001b[0;34m.\u001b[0m\u001b[0musecols\u001b[0m\u001b[0;34m\u001b[0m\u001b[0;34m\u001b[0m\u001b[0m\n\u001b[1;32m   2009\u001b[0m \u001b[0;34m\u001b[0m\u001b[0m\n\u001b[0;32m-> 2010\u001b[0;31m         \u001b[0mself\u001b[0m\u001b[0;34m.\u001b[0m\u001b[0m_reader\u001b[0m \u001b[0;34m=\u001b[0m \u001b[0mparsers\u001b[0m\u001b[0;34m.\u001b[0m\u001b[0mTextReader\u001b[0m\u001b[0;34m(\u001b[0m\u001b[0msrc\u001b[0m\u001b[0;34m,\u001b[0m \u001b[0;34m**\u001b[0m\u001b[0mkwds\u001b[0m\u001b[0;34m)\u001b[0m\u001b[0;34m\u001b[0m\u001b[0;34m\u001b[0m\u001b[0m\n\u001b[0m\u001b[1;32m   2011\u001b[0m         \u001b[0mself\u001b[0m\u001b[0;34m.\u001b[0m\u001b[0munnamed_cols\u001b[0m \u001b[0;34m=\u001b[0m \u001b[0mself\u001b[0m\u001b[0;34m.\u001b[0m\u001b[0m_reader\u001b[0m\u001b[0;34m.\u001b[0m\u001b[0munnamed_cols\u001b[0m\u001b[0;34m\u001b[0m\u001b[0;34m\u001b[0m\u001b[0m\n\u001b[1;32m   2012\u001b[0m \u001b[0;34m\u001b[0m\u001b[0m\n",
            "\u001b[0;32mpandas/_libs/parsers.pyx\u001b[0m in \u001b[0;36mpandas._libs.parsers.TextReader.__cinit__\u001b[0;34m()\u001b[0m\n",
            "\u001b[0;32mpandas/_libs/parsers.pyx\u001b[0m in \u001b[0;36mpandas._libs.parsers.TextReader._setup_parser_source\u001b[0;34m()\u001b[0m\n",
            "\u001b[0;31mFileNotFoundError\u001b[0m: [Errno 2] No such file or directory: '../input/mlb-data/target.csv'"
          ]
        }
      ]
    },
    {
      "cell_type": "code",
      "metadata": {
        "id": "K1VLUowOyspF"
      },
      "source": [
        ""
      ],
      "id": "K1VLUowOyspF",
      "execution_count": null,
      "outputs": []
    },
    {
      "cell_type": "markdown",
      "metadata": {
        "papermill": {
          "duration": 0.643124,
          "end_time": "2021-06-25T22:23:46.587799",
          "exception": false,
          "start_time": "2021-06-25T22:23:45.944675",
          "status": "completed"
        },
        "tags": [],
        "id": "defined-colors"
      },
      "source": [
        "## Inference"
      ],
      "id": "defined-colors"
    },
    {
      "cell_type": "code",
      "metadata": {
        "execution": {
          "iopub.execute_input": "2021-06-25T22:23:47.872922Z",
          "iopub.status.busy": "2021-06-25T22:23:47.871916Z",
          "iopub.status.idle": "2021-06-25T22:23:47.875718Z",
          "shell.execute_reply": "2021-06-25T22:23:47.875029Z",
          "shell.execute_reply.started": "2021-06-25T22:03:06.318592Z"
        },
        "papermill": {
          "duration": 0.649231,
          "end_time": "2021-06-25T22:23:47.875889",
          "exception": false,
          "start_time": "2021-06-25T22:23:47.226658",
          "status": "completed"
        },
        "tags": [],
        "id": "classified-cooper"
      },
      "source": [
        "def unpack_json(json_str):\n",
        "    return np.nan if pd.isna(json_str) else pd.read_json(json_str)"
      ],
      "id": "classified-cooper",
      "execution_count": null,
      "outputs": []
    },
    {
      "cell_type": "code",
      "metadata": {
        "execution": {
          "iopub.execute_input": "2021-06-25T22:23:49.244729Z",
          "iopub.status.busy": "2021-06-25T22:23:49.243737Z",
          "iopub.status.idle": "2021-06-25T22:23:49.248381Z",
          "shell.execute_reply": "2021-06-25T22:23:49.247718Z",
          "shell.execute_reply.started": "2021-06-25T22:03:06.324648Z"
        },
        "papermill": {
          "duration": 0.652999,
          "end_time": "2021-06-25T22:23:49.248559",
          "exception": false,
          "start_time": "2021-06-25T22:23:48.595560",
          "status": "completed"
        },
        "tags": [],
        "id": "electoral-tribute"
      },
      "source": [
        "\"\"\"players_cols = ['playerId', 'primaryPositionName']\n",
        "rosters_cols = ['playerId', 'teamId', 'status']\n",
        "scores_cols = ['playerId', 'battingOrder', 'gamesPlayedBatting', 'flyOuts',\n",
        "       'groundOuts', 'runsScored', 'doubles', 'triples', 'homeRuns',\n",
        "       'strikeOuts', 'baseOnBalls', 'intentionalWalks', 'hits', 'hitByPitch',\n",
        "       'atBats', 'caughtStealing', 'stolenBases', 'groundIntoDoublePlay',\n",
        "       'groundIntoTriplePlay', 'plateAppearances', 'totalBases', 'rbi',\n",
        "       'leftOnBase', 'sacBunts', 'sacFlies', 'catchersInterference',\n",
        "       'pickoffs', 'gamesPlayedPitching', 'gamesStartedPitching',\n",
        "       'completeGamesPitching', 'shutoutsPitching', 'winsPitching',\n",
        "       'lossesPitching', 'flyOutsPitching', 'airOutsPitching',\n",
        "       'groundOutsPitching', 'runsPitching', 'doublesPitching',\n",
        "       'triplesPitching', 'homeRunsPitching', 'strikeOutsPitching',\n",
        "       'baseOnBallsPitching', 'intentionalWalksPitching', 'hitsPitching',\n",
        "       'hitByPitchPitching', 'atBatsPitching', 'caughtStealingPitching',\n",
        "       'stolenBasesPitching', 'inningsPitched', 'saveOpportunities',\n",
        "       'earnedRuns', 'battersFaced', 'outsPitching', 'pitchesThrown', 'balls',\n",
        "       'strikes', 'hitBatsmen', 'balks', 'wildPitches', 'pickoffsPitching',\n",
        "       'rbiPitching', 'gamesFinishedPitching', 'inheritedRunners',\n",
        "       'inheritedRunnersScored', 'catchersInterferencePitching',\n",
        "       'sacBuntsPitching', 'sacFliesPitching', 'saves', 'holds', 'blownSaves',\n",
        "       'assists', 'putOuts', 'errors', 'chances']\n",
        "\n",
        "null = np.nan\n",
        "true = True\n",
        "false = False\"\"\""
      ],
      "id": "electoral-tribute",
      "execution_count": null,
      "outputs": []
    },
    {
      "cell_type": "code",
      "metadata": {
        "execution": {
          "iopub.execute_input": "2021-06-25T22:23:50.567106Z",
          "iopub.status.busy": "2021-06-25T22:23:50.561703Z",
          "iopub.status.idle": "2021-06-25T22:24:01.199513Z",
          "shell.execute_reply": "2021-06-25T22:24:01.198747Z",
          "shell.execute_reply.started": "2021-06-25T22:03:06.3406Z"
        },
        "papermill": {
          "duration": 11.293137,
          "end_time": "2021-06-25T22:24:01.199706",
          "exception": false,
          "start_time": "2021-06-25T22:23:49.906569",
          "status": "completed"
        },
        "tags": [],
        "id": "thousand-comfort"
      },
      "source": [
        "\"\"\"players_cols = ['playerId', 'primaryPositionName']\n",
        "rosters_cols = ['playerId', 'teamId', 'status']\n",
        "scores_cols = ['playerId', 'battingOrder', 'gamesPlayedBatting', 'flyOuts',\n",
        "       'groundOuts', 'runsScored', 'doubles', 'triples', 'homeRuns',\n",
        "       'strikeOuts', 'baseOnBalls', 'intentionalWalks', 'hits', 'hitByPitch',\n",
        "       'atBats', 'caughtStealing', 'stolenBases', 'groundIntoDoublePlay',\n",
        "       'groundIntoTriplePlay', 'plateAppearances', 'totalBases', 'rbi',\n",
        "       'leftOnBase', 'sacBunts', 'sacFlies', 'catchersInterference',\n",
        "       'pickoffs', 'gamesPlayedPitching', 'gamesStartedPitching',\n",
        "       'completeGamesPitching', 'shutoutsPitching', 'winsPitching',\n",
        "       'lossesPitching', 'flyOutsPitching', 'airOutsPitching',\n",
        "       'groundOutsPitching', 'runsPitching', 'doublesPitching',\n",
        "       'triplesPitching', 'homeRunsPitching', 'strikeOutsPitching',\n",
        "       'baseOnBallsPitching', 'intentionalWalksPitching', 'hitsPitching',\n",
        "       'hitByPitchPitching', 'atBatsPitching', 'caughtStealingPitching',\n",
        "       'stolenBasesPitching', 'inningsPitched', 'saveOpportunities',\n",
        "       'earnedRuns', 'battersFaced', 'outsPitching', 'pitchesThrown', 'balls',\n",
        "       'strikes', 'hitBatsmen', 'balks', 'wildPitches', 'pickoffsPitching',\n",
        "       'rbiPitching', 'gamesFinishedPitching', 'inheritedRunners',\n",
        "       'inheritedRunnersScored', 'catchersInterferencePitching',\n",
        "       'sacBuntsPitching', 'sacFliesPitching', 'saves', 'holds', 'blownSaves',\n",
        "       'assists', 'putOuts', 'errors', 'chances',\"gamePk\"]\n",
        "\n",
        "null = np.nan\n",
        "true = True\n",
        "false = False\n",
        "\n",
        "env = mlb.make_env() # initialize the environment\n",
        "iter_test = env.iter_test() # iterator which loops over each date in test set\n",
        "\n",
        "for (test_df, sample_prediction_df) in iter_test: # make predictions here\n",
        "    \n",
        "    sub = copy.deepcopy(sample_prediction_df.reset_index())\n",
        "    sample_prediction_df = copy.deepcopy(sample_prediction_df.reset_index(drop=True))\n",
        "    \n",
        "    \n",
        "    # creat dataset\n",
        "    sample_prediction_df['playerId'] = sample_prediction_df['date_playerId']\\\n",
        "                                        .map(lambda x: int(x.split('_')[1]))\n",
        "    # Dealing with missing values\n",
        "    if test_df['rosters'].iloc[0] == test_df['rosters'].iloc[0]:\n",
        "        test_rosters = pd.DataFrame(eval(test_df['rosters'].iloc[0]))\n",
        "    else:\n",
        "        test_rosters = pd.DataFrame({'playerId': sample_prediction_df['playerId']})\n",
        "        for col in rosters.columns:\n",
        "            if col == 'playerId': continue\n",
        "            test_rosters[col] = np.nan\n",
        "            \n",
        "    if test_df['playerBoxScores'].iloc[0] == test_df['playerBoxScores'].iloc[0]:\n",
        "        test_scores = pd.DataFrame(eval(test_df['playerBoxScores'].iloc[0]))\n",
        "    else:\n",
        "        test_scores = pd.DataFrame({'playerId': sample_prediction_df['playerId']})\n",
        "        for col in scores.columns:\n",
        "            if col == 'playerId': continue\n",
        "            test_scores[col] = np.nan\n",
        "    \n",
        "    test_games = unpack_json(test_df[\"games\"].iloc[0])\n",
        "    test_standings = unpack_json(test_df[\"standings\"].iloc[0])\n",
        "    \n",
        "            \n",
        "            \n",
        "    \n",
        "\n",
        "    \n",
        "\n",
        "\n",
        "\n",
        "        \n",
        "    test_scores = test_scores.groupby('playerId').sum().reset_index()\n",
        "    test = sample_prediction_df[['playerId']].copy()\n",
        "    test = test.merge(players[players_cols], on='playerId', how='left')\n",
        "    test = test.merge(test_rosters[rosters_cols], on='playerId', how='left')\n",
        "    test = test.merge(test_scores[scores_cols], on='playerId', how='left')\n",
        "    test = test.merge(test_games[games_cols], on=\"gamePk\", how=\"left\")\n",
        "    test = test.merge(awards2[awards_cols], on=['playerId'], how='left')\n",
        "    test = test.merge(player_target_stats, how='inner', left_on=[\"playerId\"],right_on=[\"playerId\"])\n",
        "    test = test.merge(test_standings[standings_cols], on=[\"teamId\"], how='left')\n",
        "    \n",
        "    #add feature\n",
        "    test[\"ongame\"] = np.where(test[\"gamePk\"].isnull() == 1,0,1)\n",
        "    test[\"ishome\"] = np.where(test[\"teamId\"]==test[\"homeId\"],2,test[\"ongame\"])\n",
        "    test[\"winorlose\"] = np.where(test[\"teamId\"]==test[\"homeId\"],test[\"homeWinner\"],test[\"awayWinner\"])\n",
        "    test[\"winorlose\"] = test[\"winorlose\"].fillna(2.0).astype(int)\n",
        "    test[\"score\"] = np.where(test[\"teamId\"]==test[\"homeId\"],test[\"homeScore\"],test[\"awayScore\"])\n",
        "    test[\"divisionRank\"] = test[\"divisionRank\"].fillna(7.0).astype(int)\n",
        "    test[\"divisionLeader\"] = test[\"divisionLeader\"].fillna(-1.0).astype(int)\n",
        "    test[\"wildCardLeader\"] = np.where(test[\"wildCardLeader\"]==\"True\",1,0)\n",
        "    \n",
        "    \n",
        "    \n",
        "    \n",
        "    #label encoding\n",
        "    test['label_playerId'] = test['playerId'].map(player2num)\n",
        "    test['label_primaryPositionName'] = test['primaryPositionName'].map(position2num)\n",
        "    test['label_teamId'] = test['teamId'].map(teamid2num)\n",
        "    test['label_status'] = test['status'].map(status2num)\n",
        "    test[\"label_daynight\"] = test['dayNight'].map(daynight2num)\n",
        "    test[\"label_seriesDescription\"] = test[\"seriesDescription\"].map(seriesDescription2num)\n",
        "    test[\"gameType\"] = test[\"gameType\"].map(gameType2num)\n",
        "    display(test)\n",
        "    \n",
        "    \n",
        "    test_X1 = test[feature_cols1]\n",
        "    test_X2 = test[feature_cols2]\n",
        "    test_X3 = test[feature_cols3]\n",
        "    test_X4 = test[feature_cols4]\n",
        "    \n",
        "    # predict\n",
        "    pred1 = model1.predict(test_X1)\n",
        "    pred2 = model2.predict(test_X2)\n",
        "    pred3 = model3.predict(test_X3)\n",
        "    pred4 = model4.predict(test_X4)\n",
        "    \n",
        "    # merge submission\n",
        "    sample_prediction_df['target1'] = np.clip(pred1, 0, 100)\n",
        "    sample_prediction_df['target2'] = np.clip(pred2, 0, 100)\n",
        "    sample_prediction_df['target3'] = np.clip(pred3, 0, 100)\n",
        "    sample_prediction_df['target4'] = np.clip(pred4, 0, 100)\n",
        "    sample_prediction_df = sample_prediction_df.fillna(0.)\n",
        "    del sample_prediction_df['playerId']\n",
        "    \n",
        "    # TF summit\n",
        "    # Features computation at Evaluation Date\n",
        "    sub_fe, eval_dt = test_lag(sub)\n",
        "    sub_fe = sub_fe.merge(LAST_MED_DF, on=\"playerId\", how=\"left\")\n",
        "    sub_fe = sub_fe.fillna(0.)\n",
        "    \n",
        "    _preds = 0.\n",
        "    for reg in nets:\n",
        "        _preds += reg.predict(sub_fe[FECOLS + MEDCOLS]) / NFOLDS\n",
        "    sub_fe[TGTCOLS] = np.clip(_preds, 0, 100)\n",
        "    sub.drop([\"date\"]+TGTCOLS, axis=1, inplace=True)\n",
        "    sub = sub.merge(sub_fe[[\"playerId\"]+TGTCOLS], on=\"playerId\", how=\"left\")\n",
        "    sub.drop(\"playerId\", axis=1, inplace=True)\n",
        "    sub = sub.fillna(0.)\n",
        "    # Blending\n",
        "    blend = pd.concat(\n",
        "        [sub[['date_playerId']],\n",
        "        (0.1*sub.drop('date_playerId', axis=1) + 0.9*sample_prediction_df.drop('date_playerId', axis=1))],\n",
        "        axis=1\n",
        "    )\n",
        "    env.predict(blend)\n",
        "    # Update Available information\n",
        "    sub_fe[\"EvalDate\"] = eval_dt\n",
        "    #sub_fe.drop(MEDCOLS, axis=1, inplace=True)\n",
        "    LAST = LAST.append(sub_fe)\n",
        "    LAST = LAST.drop_duplicates(subset=[\"EvalDate\",\"playerId\"], keep=\"last\")\"\"\""
      ],
      "id": "thousand-comfort",
      "execution_count": null,
      "outputs": []
    },
    {
      "cell_type": "code",
      "metadata": {
        "execution": {
          "iopub.execute_input": "2021-06-25T22:24:02.554240Z",
          "iopub.status.busy": "2021-06-25T22:24:02.553286Z",
          "iopub.status.idle": "2021-06-25T22:24:02.557808Z",
          "shell.execute_reply": "2021-06-25T22:24:02.557241Z"
        },
        "papermill": {
          "duration": 0.688226,
          "end_time": "2021-06-25T22:24:02.557998",
          "exception": false,
          "start_time": "2021-06-25T22:24:01.869772",
          "status": "completed"
        },
        "tags": [],
        "id": "brief-palmer"
      },
      "source": [
        "display(test_df['games'])"
      ],
      "id": "brief-palmer",
      "execution_count": null,
      "outputs": []
    },
    {
      "cell_type": "code",
      "metadata": {
        "execution": {
          "iopub.execute_input": "2021-06-25T22:24:03.891241Z",
          "iopub.status.busy": "2021-06-25T22:24:03.890528Z",
          "iopub.status.idle": "2021-06-25T22:24:03.893839Z",
          "shell.execute_reply": "2021-06-25T22:24:03.893065Z"
        },
        "papermill": {
          "duration": 0.657564,
          "end_time": "2021-06-25T22:24:03.894025",
          "exception": false,
          "start_time": "2021-06-25T22:24:03.236461",
          "status": "completed"
        },
        "tags": [],
        "id": "partial-morning"
      },
      "source": [
        "def unpack_json(json_str):\n",
        "    return np.nan if pd.isna(json_str) else pd.read_json(json_str)"
      ],
      "id": "partial-morning",
      "execution_count": null,
      "outputs": []
    },
    {
      "cell_type": "code",
      "metadata": {
        "execution": {
          "iopub.execute_input": "2021-06-25T22:24:05.315595Z",
          "iopub.status.busy": "2021-06-25T22:24:05.314919Z",
          "iopub.status.idle": "2021-06-25T22:24:05.325682Z",
          "shell.execute_reply": "2021-06-25T22:24:05.325144Z"
        },
        "papermill": {
          "duration": 0.761079,
          "end_time": "2021-06-25T22:24:05.325843",
          "exception": false,
          "start_time": "2021-06-25T22:24:04.564764",
          "status": "completed"
        },
        "tags": [],
        "id": "smoking-discretion"
      },
      "source": [
        "unpack_json(test_df[\"games\"].iloc[0])"
      ],
      "id": "smoking-discretion",
      "execution_count": null,
      "outputs": []
    },
    {
      "cell_type": "code",
      "metadata": {
        "execution": {
          "iopub.execute_input": "2021-06-25T22:24:06.665554Z",
          "iopub.status.busy": "2021-06-25T22:24:06.663884Z",
          "iopub.status.idle": "2021-06-25T22:24:06.679898Z",
          "shell.execute_reply": "2021-06-25T22:24:06.679341Z"
        },
        "papermill": {
          "duration": 0.692076,
          "end_time": "2021-06-25T22:24:06.680048",
          "exception": false,
          "start_time": "2021-06-25T22:24:05.987972",
          "status": "completed"
        },
        "tags": [],
        "id": "talented-generic"
      },
      "source": [
        "pd.concat(\n",
        "    [sub[['date_playerId']],\n",
        "    (sub.drop('date_playerId', axis=1) + sample_prediction_df.drop('date_playerId', axis=1)) / 2],\n",
        "    axis=1\n",
        ")"
      ],
      "id": "talented-generic",
      "execution_count": null,
      "outputs": []
    },
    {
      "cell_type": "code",
      "metadata": {
        "execution": {
          "iopub.execute_input": "2021-06-25T22:24:08.007421Z",
          "iopub.status.busy": "2021-06-25T22:24:08.006746Z",
          "iopub.status.idle": "2021-06-25T22:24:08.009957Z",
          "shell.execute_reply": "2021-06-25T22:24:08.010404Z"
        },
        "papermill": {
          "duration": 0.679239,
          "end_time": "2021-06-25T22:24:08.010626",
          "exception": false,
          "start_time": "2021-06-25T22:24:07.331387",
          "status": "completed"
        },
        "tags": [],
        "id": "vertical-ethernet"
      },
      "source": [
        "sample_prediction_df"
      ],
      "id": "vertical-ethernet",
      "execution_count": null,
      "outputs": []
    }
  ]
}