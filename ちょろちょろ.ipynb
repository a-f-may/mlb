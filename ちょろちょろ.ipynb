{
  "nbformat": 4,
  "nbformat_minor": 0,
  "metadata": {
    "colab": {
      "name": "ちょろちょろ.ipynb",
      "provenance": [],
      "collapsed_sections": [],
      "authorship_tag": "ABX9TyO5i/owZ1tr/PXZkXubb0Kx",
      "include_colab_link": true
    },
    "kernelspec": {
      "name": "python3",
      "display_name": "Python 3"
    },
    "language_info": {
      "name": "python"
    }
  },
  "cells": [
    {
      "cell_type": "markdown",
      "metadata": {
        "id": "view-in-github",
        "colab_type": "text"
      },
      "source": [
        "<a href=\"https://colab.research.google.com/github/a-f-may/mlb/blob/main/%E3%81%A1%E3%82%87%E3%82%8D%E3%81%A1%E3%82%87%E3%82%8D.ipynb\" target=\"_parent\"><img src=\"https://colab.research.google.com/assets/colab-badge.svg\" alt=\"Open In Colab\"/></a>"
      ]
    },
    {
      "cell_type": "code",
      "execution_count": null,
      "metadata": {
        "id": "qL0ruitNtEXt"
      },
      "outputs": [],
      "source": [
        "\n"
      ]
    },
    {
      "cell_type": "code",
      "source": [
        "import networkx as nx\n",
        "\n",
        "def cost_c(s,cost,i,j,direction):\n",
        "  \"\"\"車の向きと移動先を指定して、必要なコストを計算する\"\"\"\n",
        "  #直進にかかるコスト\n",
        " if direction == \"R_R\" or direction == \"L_L\" or direction == \"U_U\" or direction == \"D_D\":\n",
        "   if s[i][j] == 0:\n",
        "    return 0\n",
        "   else:\n",
        "     return cost[0]\n",
        " #左折にかかるコスト\n",
        " if direction == \"D_R\" or direction == \"U_L\" or direction == \"L_D\" or direction == \"R_U\":\n",
        "   if s[i][j] == 3:\n",
        "     return 0\n",
        "   else:\n",
        "     return cost[3]\n",
        "#反転にかかるコスト\n",
        " if direction == \"L_R\" or direction == \"R_L\" or direction == \"U_D\" or direction ==\"D_U\":\n",
        "   if s[i][j] == 2:\n",
        "     return 0\n",
        "   else:\n",
        "     return cost[2]\n",
        "#右折にかかるコスト\n",
        " if direction == \"U_R\" or direction == \"D_L\" or direction == \"R_D\" or direction == \"L_U\":\n",
        "   if s[i][j] == 1:\n",
        "     return 0\n",
        "   else:\n",
        "     return cost[1]\n",
        "\n",
        "def solution(w,h,s):\n",
        "   #スタートとゴールのノードを設定する\n",
        "  G = nx.DiGraph()\n",
        "  G.add_edge('source', f'R{0},{0}', weight=0)\n",
        "  G.add_edge(f'R{h-1},{w-1}',\"target\",weight=0)\n",
        "  G.add_edge(f'L{h-1},{w-1}',\"target\",weight=0)\n",
        "  G.add_edge(f'U{h-1},{w-1}',\"target\",weight=0)\n",
        "  G.add_edge(f'D{h-1},{w-1}',\"target\",weight=0)\n",
        "  #それぞれのマスに対して、現在の向きに応じた移動先のコストを計算しつつ、エッジを設定する\n",
        "  for i in range(h):\n",
        "    for j in range(w):\n",
        "      if j < w - 1:\n",
        "\n",
        "        G.add_edge(f'R{i},{j}',f'R{i},{j+1}',weight=cost_c(s,cost,i,j,\"R_R\"))\n",
        "        G.add_edge(f'L{i},{j}',f'R{i},{j+1}',weight=cost_c(s,cost,i,j,\"L_R\"))\n",
        "        G.add_edge(f'D{i},{j}',f'R{i},{j+1}',weight=cost_c(s,cost,i,j,\"D_R\"))\n",
        "        G.add_edge(f'U{i},{j}',f'R{i},{j+1}',weight=cost_c(s,cost,i,j,\"U_R\"))\n",
        "\n",
        "      if j > 0:\n",
        "        G.add_edge(f'R{i},{j}',f'L{i},{j-1}',weight=cost_c(s,cost,i,j,\"R_L\"))\n",
        "        G.add_edge(f'L{i},{j}',f'L{i},{j-1}',weight=cost_c(s,cost,i,j,\"L_L\"))\n",
        "        G.add_edge(f'D{i},{j}',f'L{i},{j-1}',weight=cost_c(s,cost,i,j,\"D_L\"))\n",
        "        G.add_edge(f'U{i},{j}',f'L{i},{j-1}',weight=cost_c(s,cost,i,j,\"U_L\"))\n",
        "\n",
        "      if i > 0:\n",
        "        G.add_edge(f'R{i},{j}',f'U{i-1},{j}',weight=cost_c(s,cost,i,j,\"R_U\"))\n",
        "        G.add_edge(f'L{i},{j}',f'U{i-1},{j}',weight=cost_c(s,cost,i,j,\"L_U\"))\n",
        "        G.add_edge(f'D{i},{j}',f'U{i-1},{j}',weight=cost_c(s,cost,i,j,\"D_U\"))\n",
        "        G.add_edge(f'U{i},{j}',f'U{i-1},{j}',weight=cost_c(s,cost,i,j,\"U_U\"))\n",
        "\n",
        "      if i < h - 1:\n",
        "        G.add_edge(f'R{i},{j}',f'D{i+1},{j}',weight=cost_c(s,cost,i,j,\"R_D\"))\n",
        "        G.add_edge(f'L{i},{j}',f'D{i+1},{j}',weight=cost_c(s,cost,i,j,\"L_D\"))\n",
        "        G.add_edge(f'D{i},{j}',f'D{i+1},{j}',weight=cost_c(s,cost,i,j,\"D_D\"))\n",
        "        G.add_edge(f'U{i},{j}',f'D{i+1},{j}',weight=cost_c(s,cost,i,j,\"U_D\"))\n",
        "  return nx.shortest_path_length(G, 'source', 'target', weight='weight')"
      ],
      "metadata": {
        "id": "CJvTX-U_the0"
      },
      "execution_count": null,
      "outputs": []
    },
    {
      "cell_type": "code",
      "source": [
        "while True:\n",
        "  \n",
        "  w, h = map(int, input().split())\n",
        "  if w == 0 and h == 0:\n",
        "    break\n",
        "\n",
        "  s = []\n",
        "  for i in range(h):\n",
        "      s.append(list(map(int,input().split())))\n",
        "  cost = list(map(int,input().split()))\n",
        "  \n",
        "  print(solution(w, h, s))"
      ],
      "metadata": {
        "colab": {
          "base_uri": "https://localhost:8080/",
          "height": 485
        },
        "id": "oH-UewzTG1o-",
        "outputId": "a72877b2-5acc-46b9-cca0-e58bc5bb4ed2"
      },
      "execution_count": null,
      "outputs": [
        {
          "name": "stdout",
          "output_type": "stream",
          "text": [
            "2 8\n",
            "2 2\n",
            "4 1\n",
            "0 4\n",
            "1 3\n",
            "1 0\n",
            "2 1\n",
            "0 3\n",
            "1 4\n",
            "1 9 3 1\n",
            "['source', 'R0,0', 'R7,1', 'target', 'L7,1', 'U7,1', 'D7,1', 'R0,1', 'L0,0', 'D0,0', 'U0,0', 'D1,0', 'L0,1', 'D0,1', 'U0,1', 'D1,1', 'R1,0', 'R1,1', 'L1,0', 'U1,0', 'D2,0', 'L1,1', 'U1,1', 'D2,1', 'R2,0', 'R2,1', 'L2,0', 'U2,0', 'D3,0', 'L2,1', 'U2,1', 'D3,1', 'R3,0', 'R3,1', 'L3,0', 'U3,0', 'D4,0', 'L3,1', 'U3,1', 'D4,1', 'R4,0', 'R4,1', 'L4,0', 'U4,0', 'D5,0', 'L4,1', 'U4,1', 'D5,1', 'R5,0', 'R5,1', 'L5,0', 'U5,0', 'D6,0', 'L5,1', 'U5,1', 'D6,1', 'R6,0', 'R6,1', 'L6,0', 'U6,0', 'D7,0', 'L6,1', 'U6,1', 'R7,0', 'L7,0', 'U7,0']\n",
            "6\n",
            "00\n"
          ]
        },
        {
          "output_type": "error",
          "ename": "ValueError",
          "evalue": "ignored",
          "traceback": [
            "\u001b[0;31m---------------------------------------------------------------------------\u001b[0m",
            "\u001b[0;31mValueError\u001b[0m                                Traceback (most recent call last)",
            "\u001b[0;32m<ipython-input-100-10db1ede2c55>\u001b[0m in \u001b[0;36m<module>\u001b[0;34m()\u001b[0m\n\u001b[1;32m      1\u001b[0m \u001b[0;32mwhile\u001b[0m \u001b[0;32mTrue\u001b[0m\u001b[0;34m:\u001b[0m\u001b[0;34m\u001b[0m\u001b[0;34m\u001b[0m\u001b[0m\n\u001b[1;32m      2\u001b[0m \u001b[0;34m\u001b[0m\u001b[0m\n\u001b[0;32m----> 3\u001b[0;31m   \u001b[0mw\u001b[0m\u001b[0;34m,\u001b[0m \u001b[0mh\u001b[0m \u001b[0;34m=\u001b[0m \u001b[0mmap\u001b[0m\u001b[0;34m(\u001b[0m\u001b[0mint\u001b[0m\u001b[0;34m,\u001b[0m \u001b[0minput\u001b[0m\u001b[0;34m(\u001b[0m\u001b[0;34m)\u001b[0m\u001b[0;34m.\u001b[0m\u001b[0msplit\u001b[0m\u001b[0;34m(\u001b[0m\u001b[0;34m)\u001b[0m\u001b[0;34m)\u001b[0m\u001b[0;34m\u001b[0m\u001b[0;34m\u001b[0m\u001b[0m\n\u001b[0m\u001b[1;32m      4\u001b[0m   \u001b[0;32mif\u001b[0m \u001b[0mw\u001b[0m \u001b[0;34m==\u001b[0m \u001b[0;36m0\u001b[0m \u001b[0;32mand\u001b[0m \u001b[0mh\u001b[0m \u001b[0;34m==\u001b[0m \u001b[0;36m0\u001b[0m\u001b[0;34m:\u001b[0m\u001b[0;34m\u001b[0m\u001b[0;34m\u001b[0m\u001b[0m\n\u001b[1;32m      5\u001b[0m     \u001b[0;32mbreak\u001b[0m\u001b[0;34m\u001b[0m\u001b[0;34m\u001b[0m\u001b[0m\n",
            "\u001b[0;31mValueError\u001b[0m: not enough values to unpack (expected 2, got 1)"
          ]
        }
      ]
    },
    {
      "cell_type": "code",
      "source": [
        "#test\n",
        "w, h = 8, 3\n",
        "sx=[[0, 0, 0, 0, 0, 0, 0, 1],\n",
        "[2, 3, 0, 1, 4, 0, 0, 1],\n",
        "[3, 3, 0, 0, 0, 0, 0, 4]]\n",
        "\n",
        "#cost = list(map(int,input().split()))\n",
        "cost = [9,9,1,9]\n",
        "s=[]\n",
        "for i in range(h):\n",
        "      s.append(list(map(int,input().split())))"
      ],
      "metadata": {
        "colab": {
          "base_uri": "https://localhost:8080/"
        },
        "id": "c-LgIyjCLvNO",
        "outputId": "4d981fac-568f-4462-e966-0bcb387646aa"
      },
      "execution_count": null,
      "outputs": [
        {
          "name": "stdout",
          "output_type": "stream",
          "text": [
            "0 0 0 0 0 0 0 1\n",
            "2 3 0 1 4 0 0 1\n",
            "3 3 0 0 0 0 0 4\n"
          ]
        }
      ]
    },
    {
      "cell_type": "code",
      "source": [
        ""
      ],
      "metadata": {
        "id": "lPLY5ezfLwiN",
        "colab": {
          "base_uri": "https://localhost:8080/"
        },
        "outputId": "b0acb4f5-57aa-4e22-94c1-9e0b9a9f8fba"
      },
      "execution_count": null,
      "outputs": [
        {
          "output_type": "stream",
          "name": "stdout",
          "text": [
            "['source', 'R0,0', 'R2,7', 'target', 'L2,7', 'U2,7', 'D2,7', 'R0,1', 'L0,0', 'D0,0', 'U0,0', 'D1,0', 'R0,2', 'L0,1', 'D0,1', 'U0,1', 'D1,1', 'R0,3', 'L0,2', 'D0,2', 'U0,2', 'D1,2', 'R0,4', 'L0,3', 'D0,3', 'U0,3', 'D1,3', 'R0,5', 'L0,4', 'D0,4', 'U0,4', 'D1,4', 'R0,6', 'L0,5', 'D0,5', 'U0,5', 'D1,5', 'R0,7', 'L0,6', 'D0,6', 'U0,6', 'D1,6', 'L0,7', 'D0,7', 'U0,7', 'D1,7', 'R1,0', 'R1,1', 'L1,0', 'U1,0', 'D2,0', 'R1,2', 'L1,1', 'U1,1', 'D2,1', 'R1,3', 'L1,2', 'U1,2', 'D2,2', 'R1,4', 'L1,3', 'U1,3', 'D2,3', 'R1,5', 'L1,4', 'U1,4', 'D2,4', 'R1,6', 'L1,5', 'U1,5', 'D2,5', 'R1,7', 'L1,6', 'U1,6', 'D2,6', 'L1,7', 'U1,7', 'R2,0', 'R2,1', 'L2,0', 'U2,0', 'R2,2', 'L2,1', 'U2,1', 'R2,3', 'L2,2', 'U2,2', 'R2,4', 'L2,3', 'U2,3', 'R2,5', 'L2,4', 'U2,4', 'R2,6', 'L2,5', 'U2,5', 'L2,6', 'U2,6']\n"
          ]
        },
        {
          "output_type": "execute_result",
          "data": {
            "text/plain": [
              "1"
            ]
          },
          "metadata": {},
          "execution_count": 97
        }
      ]
    },
    {
      "cell_type": "code",
      "source": [
        ""
      ],
      "metadata": {
        "id": "vgOg6hG7N4aR"
      },
      "execution_count": null,
      "outputs": []
    }
  ]
}