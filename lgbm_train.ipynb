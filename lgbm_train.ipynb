{
  "nbformat": 4,
  "nbformat_minor": 5,
  "metadata": {
    "kernelspec": {
      "display_name": "Python 3",
      "language": "python",
      "name": "python3"
    },
    "language_info": {
      "codemirror_mode": {
        "name": "ipython",
        "version": 3
      },
      "file_extension": ".py",
      "mimetype": "text/x-python",
      "name": "python",
      "nbconvert_exporter": "python",
      "pygments_lexer": "ipython3",
      "version": "3.6.4"
    },
    "papermill": {
      "default_parameters": {},
      "duration": null,
      "end_time": null,
      "environment_variables": {},
      "exception": null,
      "input_path": "__notebook__.ipynb",
      "output_path": "__notebook__.ipynb",
      "parameters": {},
      "start_time": "2021-06-17T22:57:06.946455",
      "version": "2.3.3"
    },
    "colab": {
      "name": "lgbm_train.ipynb",
      "provenance": [],
      "include_colab_link": true
    }
  },
  "cells": [
    {
      "cell_type": "markdown",
      "metadata": {
        "id": "view-in-github",
        "colab_type": "text"
      },
      "source": [
        "<a href=\"https://colab.research.google.com/github/gdollp/mlb/blob/main/lgbm_train.ipynb\" target=\"_parent\"><img src=\"https://colab.research.google.com/assets/colab-badge.svg\" alt=\"Open In Colab\"/></a>"
      ]
    },
    {
      "cell_type": "markdown",
      "metadata": {
        "_cell_guid": "b1076dfc-b9ad-4769-8c92-a6c4dae69d19",
        "_uuid": "8f2839f25d086af736a60e9eeb907d3b93b6e0e5",
        "papermill": {
          "duration": 0.016227,
          "end_time": "2021-06-17T22:57:14.839716",
          "exception": false,
          "start_time": "2021-06-17T22:57:14.823489",
          "status": "completed"
        },
        "tags": [],
        "id": "adaptive-television"
      },
      "source": [
        "This notebook uses lightGBM to make predictions.\n",
        "\n",
        "We use the following features\n",
        "* playerId\n",
        "* position\n",
        "* teamId(rosters)\n",
        "* status(rosters)\n",
        "* playerBoxScores\n",
        "\n",
        "and the date 20200401~20200431 as the validation data.\n",
        "\n",
        "But I think there is room for improvement.  \n",
        "If you have better ways, I would appreciate it if you could comment on it.\n",
        "\n",
        "このnotebookではlightGBMを使って予測します。\n",
        "\n",
        "特徴量は以下のものを使用しています。\n",
        "* playerId\n",
        "* position\n",
        "* teamId(rosters)\n",
        "* status(rosters)\n",
        "* playerBoxScores\n",
        "\n",
        "20200401~20200431を日時をvalidation dataとしていますが、一考の余地がありそうです。  \n",
        "もし良さそうな方法があればコメントしていただけると幸いです。"
      ],
      "id": "adaptive-television"
    },
    {
      "cell_type": "code",
      "metadata": {
        "colab": {
          "base_uri": "https://localhost:8080/"
        },
        "id": "KRP1VvT6hms2",
        "outputId": "422693ee-72d4-497e-cef4-96cc6ccd2017"
      },
      "source": [
        "from google.colab import drive\n",
        "drive.mount('/content/drive')"
      ],
      "id": "KRP1VvT6hms2",
      "execution_count": 5,
      "outputs": [
        {
          "output_type": "stream",
          "text": [
            "Drive already mounted at /content/drive; to attempt to forcibly remount, call drive.mount(\"/content/drive\", force_remount=True).\n"
          ],
          "name": "stdout"
        }
      ]
    },
    {
      "cell_type": "markdown",
      "metadata": {
        "papermill": {
          "duration": 0.013319,
          "end_time": "2021-06-17T22:57:14.868288",
          "exception": false,
          "start_time": "2021-06-17T22:57:14.854969",
          "status": "completed"
        },
        "tags": [],
        "id": "allied-office"
      },
      "source": [
        "## About Dataset"
      ],
      "id": "allied-office"
    },
    {
      "cell_type": "markdown",
      "metadata": {
        "papermill": {
          "duration": 0.011574,
          "end_time": "2021-06-17T22:57:14.891829",
          "exception": false,
          "start_time": "2021-06-17T22:57:14.880255",
          "status": "completed"
        },
        "tags": [],
        "id": "taken-elizabeth"
      },
      "source": [
        "Train.csv is stored as a csv file with each column as follows.  \n",
        "\n",
        "train.csvを以下のようにして各カラムをcsvファイルとして保管しています。"
      ],
      "id": "taken-elizabeth"
    },
    {
      "cell_type": "code",
      "metadata": {
        "execution": {
          "iopub.execute_input": "2021-06-17T22:57:14.921485Z",
          "iopub.status.busy": "2021-06-17T22:57:14.919715Z",
          "iopub.status.idle": "2021-06-17T22:57:14.933746Z",
          "shell.execute_reply": "2021-06-17T22:57:14.934349Z",
          "shell.execute_reply.started": "2021-06-17T22:56:00.924815Z"
        },
        "papermill": {
          "duration": 0.031323,
          "end_time": "2021-06-17T22:57:14.934633",
          "exception": false,
          "start_time": "2021-06-17T22:57:14.903310",
          "status": "completed"
        },
        "tags": [],
        "id": "frequent-minneapolis"
      },
      "source": [
        "%%capture\n",
        "\"\"\"\n",
        "!pip install pandarallel \n",
        "\n",
        "import gc\n",
        "\n",
        "import numpy as np\n",
        "import pandas as pd\n",
        "from pathlib import Path\n",
        "\n",
        "from pandarallel import pandarallel\n",
        "pandarallel.initialize()\n",
        "\n",
        "BASE_DIR = Path('../input/mlb-player-digital-engagement-forecasting')\n",
        "train = pd.read_csv(BASE_DIR / 'train.csv')\n",
        "\n",
        "null = np.nan\n",
        "true = True\n",
        "false = False\n",
        "\n",
        "for col in train.columns:\n",
        "\n",
        "    if col == 'date': continue\n",
        "\n",
        "    _index = train[col].notnull()\n",
        "    train.loc[_index, col] = train.loc[_index, col].parallel_apply(lambda x: eval(x))\n",
        "\n",
        "    outputs = []\n",
        "    for index, date, record in train.loc[_index, ['date', col]].itertuples():\n",
        "        _df = pd.DataFrame(record)\n",
        "        _df['index'] = index\n",
        "        _df['date'] = date\n",
        "        outputs.append(_df)\n",
        "\n",
        "    outputs = pd.concat(outputs).reset_index(drop=True)\n",
        "\n",
        "    outputs.to_csv(f'{col}_train.csv', index=False)\n",
        "    outputs.to_pickle(f'{col}_train.pkl')\n",
        "\n",
        "    del outputs\n",
        "    del train[col]\n",
        "    gc.collect()\n",
        "\"\"\""
      ],
      "id": "frequent-minneapolis",
      "execution_count": 6,
      "outputs": []
    },
    {
      "cell_type": "markdown",
      "metadata": {
        "execution": {
          "iopub.execute_input": "2021-06-16T09:14:33.869905Z",
          "iopub.status.busy": "2021-06-16T09:14:33.869464Z",
          "iopub.status.idle": "2021-06-16T09:14:33.874766Z",
          "shell.execute_reply": "2021-06-16T09:14:33.873097Z",
          "shell.execute_reply.started": "2021-06-16T09:14:33.869879Z"
        },
        "papermill": {
          "duration": 0.011591,
          "end_time": "2021-06-17T22:57:14.958202",
          "exception": false,
          "start_time": "2021-06-17T22:57:14.946611",
          "status": "completed"
        },
        "tags": [],
        "id": "fitting-university"
      },
      "source": [
        "## Training"
      ],
      "id": "fitting-university"
    },
    {
      "cell_type": "code",
      "metadata": {
        "colab": {
          "base_uri": "https://localhost:8080/"
        },
        "id": "1sb4hEn0lKIg",
        "outputId": "d067aadd-b9a3-4b38-b698-a4be407f639a"
      },
      "source": [
        "!pip install optuna"
      ],
      "id": "1sb4hEn0lKIg",
      "execution_count": 7,
      "outputs": [
        {
          "output_type": "stream",
          "text": [
            "Collecting optuna\n",
            "\u001b[?25l  Downloading https://files.pythonhosted.org/packages/1a/18/b49ca91cf592747e19f2d333c2a86cd7c81895b922a5a09adf6335471576/optuna-2.8.0-py3-none-any.whl (301kB)\n",
            "\r\u001b[K     |█                               | 10kB 17.4MB/s eta 0:00:01\r\u001b[K     |██▏                             | 20kB 22.3MB/s eta 0:00:01\r\u001b[K     |███▎                            | 30kB 17.8MB/s eta 0:00:01\r\u001b[K     |████▍                           | 40kB 15.7MB/s eta 0:00:01\r\u001b[K     |█████▍                          | 51kB 8.1MB/s eta 0:00:01\r\u001b[K     |██████▌                         | 61kB 9.4MB/s eta 0:00:01\r\u001b[K     |███████▋                        | 71kB 8.8MB/s eta 0:00:01\r\u001b[K     |████████▊                       | 81kB 9.8MB/s eta 0:00:01\r\u001b[K     |█████████▊                      | 92kB 7.7MB/s eta 0:00:01\r\u001b[K     |██████████▉                     | 102kB 8.4MB/s eta 0:00:01\r\u001b[K     |████████████                    | 112kB 8.4MB/s eta 0:00:01\r\u001b[K     |█████████████                   | 122kB 8.4MB/s eta 0:00:01\r\u001b[K     |██████████████                  | 133kB 8.4MB/s eta 0:00:01\r\u001b[K     |███████████████▏                | 143kB 8.4MB/s eta 0:00:01\r\u001b[K     |████████████████▎               | 153kB 8.4MB/s eta 0:00:01\r\u001b[K     |█████████████████▍              | 163kB 8.4MB/s eta 0:00:01\r\u001b[K     |██████████████████▌             | 174kB 8.4MB/s eta 0:00:01\r\u001b[K     |███████████████████▌            | 184kB 8.4MB/s eta 0:00:01\r\u001b[K     |████████████████████▋           | 194kB 8.4MB/s eta 0:00:01\r\u001b[K     |█████████████████████▊          | 204kB 8.4MB/s eta 0:00:01\r\u001b[K     |██████████████████████▉         | 215kB 8.4MB/s eta 0:00:01\r\u001b[K     |███████████████████████▉        | 225kB 8.4MB/s eta 0:00:01\r\u001b[K     |█████████████████████████       | 235kB 8.4MB/s eta 0:00:01\r\u001b[K     |██████████████████████████      | 245kB 8.4MB/s eta 0:00:01\r\u001b[K     |███████████████████████████▏    | 256kB 8.4MB/s eta 0:00:01\r\u001b[K     |████████████████████████████▏   | 266kB 8.4MB/s eta 0:00:01\r\u001b[K     |█████████████████████████████▎  | 276kB 8.4MB/s eta 0:00:01\r\u001b[K     |██████████████████████████████▍ | 286kB 8.4MB/s eta 0:00:01\r\u001b[K     |███████████████████████████████▌| 296kB 8.4MB/s eta 0:00:01\r\u001b[K     |████████████████████████████████| 307kB 8.4MB/s \n",
            "\u001b[?25hCollecting colorlog\n",
            "  Downloading https://files.pythonhosted.org/packages/32/e6/e9ddc6fa1104fda718338b341e4b3dc31cd8039ab29e52fc73b508515361/colorlog-5.0.1-py2.py3-none-any.whl\n",
            "Collecting cmaes>=0.8.2\n",
            "  Downloading https://files.pythonhosted.org/packages/01/1f/43b01223a0366171f474320c6e966c39a11587287f098a5f09809b45e05f/cmaes-0.8.2-py3-none-any.whl\n",
            "Requirement already satisfied: packaging>=20.0 in /usr/local/lib/python3.7/dist-packages (from optuna) (20.9)\n",
            "Requirement already satisfied: tqdm in /usr/local/lib/python3.7/dist-packages (from optuna) (4.41.1)\n",
            "Collecting alembic\n",
            "\u001b[?25l  Downloading https://files.pythonhosted.org/packages/d5/80/ef186e599a57d0e4cb78fc76e0bfc2e6953fa9716b2a5cf2de0117ed8eb5/alembic-1.6.5-py2.py3-none-any.whl (164kB)\n",
            "\u001b[K     |████████████████████████████████| 174kB 48.9MB/s \n",
            "\u001b[?25hRequirement already satisfied: sqlalchemy>=1.1.0 in /usr/local/lib/python3.7/dist-packages (from optuna) (1.4.18)\n",
            "Requirement already satisfied: numpy in /usr/local/lib/python3.7/dist-packages (from optuna) (1.19.5)\n",
            "Collecting cliff\n",
            "\u001b[?25l  Downloading https://files.pythonhosted.org/packages/87/11/aea1cacbd4cf8262809c4d6f95dcb3f2802594de1f51c5bd454d69bf15c5/cliff-3.8.0-py3-none-any.whl (80kB)\n",
            "\u001b[K     |████████████████████████████████| 81kB 11.8MB/s \n",
            "\u001b[?25hRequirement already satisfied: scipy!=1.4.0 in /usr/local/lib/python3.7/dist-packages (from optuna) (1.4.1)\n",
            "Requirement already satisfied: pyparsing>=2.0.2 in /usr/local/lib/python3.7/dist-packages (from packaging>=20.0->optuna) (2.4.7)\n",
            "Requirement already satisfied: python-dateutil in /usr/local/lib/python3.7/dist-packages (from alembic->optuna) (2.8.1)\n",
            "Collecting Mako\n",
            "\u001b[?25l  Downloading https://files.pythonhosted.org/packages/f3/54/dbc07fbb20865d3b78fdb7cf7fa713e2cba4f87f71100074ef2dc9f9d1f7/Mako-1.1.4-py2.py3-none-any.whl (75kB)\n",
            "\u001b[K     |████████████████████████████████| 81kB 12.8MB/s \n",
            "\u001b[?25hCollecting python-editor>=0.3\n",
            "  Downloading https://files.pythonhosted.org/packages/c6/d3/201fc3abe391bbae6606e6f1d598c15d367033332bd54352b12f35513717/python_editor-1.0.4-py3-none-any.whl\n",
            "Requirement already satisfied: greenlet!=0.4.17; python_version >= \"3\" in /usr/local/lib/python3.7/dist-packages (from sqlalchemy>=1.1.0->optuna) (1.1.0)\n",
            "Requirement already satisfied: importlib-metadata; python_version < \"3.8\" in /usr/local/lib/python3.7/dist-packages (from sqlalchemy>=1.1.0->optuna) (4.5.0)\n",
            "Requirement already satisfied: PrettyTable>=0.7.2 in /usr/local/lib/python3.7/dist-packages (from cliff->optuna) (2.1.0)\n",
            "Collecting pbr!=2.1.0,>=2.0.0\n",
            "\u001b[?25l  Downloading https://files.pythonhosted.org/packages/18/e0/1d4702dd81121d04a477c272d47ee5b6bc970d1a0990b11befa275c55cf2/pbr-5.6.0-py2.py3-none-any.whl (111kB)\n",
            "\u001b[K     |████████████████████████████████| 112kB 28.7MB/s \n",
            "\u001b[?25hCollecting stevedore>=2.0.1\n",
            "\u001b[?25l  Downloading https://files.pythonhosted.org/packages/d4/49/b602307aeac3df3384ff1fcd05da9c0376c622a6c48bb5325f28ab165b57/stevedore-3.3.0-py3-none-any.whl (49kB)\n",
            "\u001b[K     |████████████████████████████████| 51kB 8.3MB/s \n",
            "\u001b[?25hRequirement already satisfied: PyYAML>=3.12 in /usr/local/lib/python3.7/dist-packages (from cliff->optuna) (3.13)\n",
            "Collecting cmd2>=1.0.0\n",
            "\u001b[?25l  Downloading https://files.pythonhosted.org/packages/e3/6a/e929ec70ca05c5962f6541ef29fb9c207dd41f0f2333680fa39f44fa4357/cmd2-2.1.1-py3-none-any.whl (140kB)\n",
            "\u001b[K     |████████████████████████████████| 143kB 39.3MB/s \n",
            "\u001b[?25hRequirement already satisfied: six>=1.5 in /usr/local/lib/python3.7/dist-packages (from python-dateutil->alembic->optuna) (1.15.0)\n",
            "Requirement already satisfied: MarkupSafe>=0.9.2 in /usr/local/lib/python3.7/dist-packages (from Mako->alembic->optuna) (2.0.1)\n",
            "Requirement already satisfied: typing-extensions>=3.6.4; python_version < \"3.8\" in /usr/local/lib/python3.7/dist-packages (from importlib-metadata; python_version < \"3.8\"->sqlalchemy>=1.1.0->optuna) (3.7.4.3)\n",
            "Requirement already satisfied: zipp>=0.5 in /usr/local/lib/python3.7/dist-packages (from importlib-metadata; python_version < \"3.8\"->sqlalchemy>=1.1.0->optuna) (3.4.1)\n",
            "Requirement already satisfied: wcwidth in /usr/local/lib/python3.7/dist-packages (from PrettyTable>=0.7.2->cliff->optuna) (0.2.5)\n",
            "Collecting pyperclip>=1.6\n",
            "  Downloading https://files.pythonhosted.org/packages/a7/2c/4c64579f847bd5d539803c8b909e54ba087a79d01bb3aba433a95879a6c5/pyperclip-1.8.2.tar.gz\n",
            "Collecting colorama>=0.3.7\n",
            "  Downloading https://files.pythonhosted.org/packages/44/98/5b86278fbbf250d239ae0ecb724f8572af1c91f4a11edf4d36a206189440/colorama-0.4.4-py2.py3-none-any.whl\n",
            "Requirement already satisfied: attrs>=16.3.0 in /usr/local/lib/python3.7/dist-packages (from cmd2>=1.0.0->cliff->optuna) (21.2.0)\n",
            "Building wheels for collected packages: pyperclip\n",
            "  Building wheel for pyperclip (setup.py) ... \u001b[?25l\u001b[?25hdone\n",
            "  Created wheel for pyperclip: filename=pyperclip-1.8.2-cp37-none-any.whl size=11136 sha256=13a93b5fedb189430ca3619ab622852406595d9709a88d5c8cb060fbb5f0f8aa\n",
            "  Stored in directory: /root/.cache/pip/wheels/25/af/b8/3407109267803f4015e1ee2ff23be0c8c19ce4008665931ee1\n",
            "Successfully built pyperclip\n",
            "Installing collected packages: colorlog, cmaes, Mako, python-editor, alembic, pbr, stevedore, pyperclip, colorama, cmd2, cliff, optuna\n",
            "Successfully installed Mako-1.1.4 alembic-1.6.5 cliff-3.8.0 cmaes-0.8.2 cmd2-2.1.1 colorama-0.4.4 colorlog-5.0.1 optuna-2.8.0 pbr-5.6.0 pyperclip-1.8.2 python-editor-1.0.4 stevedore-3.3.0\n"
          ],
          "name": "stdout"
        }
      ]
    },
    {
      "cell_type": "code",
      "metadata": {
        "execution": {
          "iopub.execute_input": "2021-06-17T22:57:14.985401Z",
          "iopub.status.busy": "2021-06-17T22:57:14.984470Z",
          "iopub.status.idle": "2021-06-17T22:57:17.738727Z",
          "shell.execute_reply": "2021-06-17T22:57:17.739266Z",
          "shell.execute_reply.started": "2021-06-17T22:56:00.934672Z"
        },
        "papermill": {
          "duration": 2.769641,
          "end_time": "2021-06-17T22:57:17.739468",
          "exception": false,
          "start_time": "2021-06-17T22:57:14.969827",
          "status": "completed"
        },
        "tags": [],
        "colab": {
          "base_uri": "https://localhost:8080/",
          "height": 338
        },
        "id": "piano-fossil",
        "outputId": "57852d32-af75-4828-9f72-ba80e97477fb"
      },
      "source": [
        "import numpy as np\n",
        "import pandas as pd\n",
        "from pathlib import Path\n",
        "from sklearn.metrics import mean_absolute_error\n",
        "from datetime import timedelta\n",
        "from functools import reduce\n",
        "from tqdm import tqdm\n",
        "import optuna.integration.lightgbm as lgbm\n",
        "#import mlb"
      ],
      "id": "piano-fossil",
      "execution_count": 8,
      "outputs": [
        {
          "output_type": "error",
          "ename": "ModuleNotFoundError",
          "evalue": "ignored",
          "traceback": [
            "\u001b[0;31m---------------------------------------------------------------------------\u001b[0m",
            "\u001b[0;31mModuleNotFoundError\u001b[0m                       Traceback (most recent call last)",
            "\u001b[0;32m<ipython-input-8-5e5f67ef1c07>\u001b[0m in \u001b[0;36m<module>\u001b[0;34m()\u001b[0m\n\u001b[1;32m      7\u001b[0m \u001b[0;32mfrom\u001b[0m \u001b[0mtqdm\u001b[0m \u001b[0;32mimport\u001b[0m \u001b[0mtqdm\u001b[0m\u001b[0;34m\u001b[0m\u001b[0;34m\u001b[0m\u001b[0m\n\u001b[1;32m      8\u001b[0m \u001b[0;32mimport\u001b[0m \u001b[0moptuna\u001b[0m\u001b[0;34m.\u001b[0m\u001b[0mintegration\u001b[0m\u001b[0;34m.\u001b[0m\u001b[0mlightgbm\u001b[0m \u001b[0;32mas\u001b[0m \u001b[0mlgbm\u001b[0m\u001b[0;34m\u001b[0m\u001b[0;34m\u001b[0m\u001b[0m\n\u001b[0;32m----> 9\u001b[0;31m \u001b[0;32mimport\u001b[0m \u001b[0mmlb\u001b[0m\u001b[0;34m\u001b[0m\u001b[0;34m\u001b[0m\u001b[0m\n\u001b[0m",
            "\u001b[0;31mModuleNotFoundError\u001b[0m: No module named 'mlb'",
            "",
            "\u001b[0;31m---------------------------------------------------------------------------\u001b[0;32m\nNOTE: If your import is failing due to a missing package, you can\nmanually install dependencies using either !pip or !apt.\n\nTo view examples of installing some common dependencies, click the\n\"Open Examples\" button below.\n\u001b[0;31m---------------------------------------------------------------------------\u001b[0m\n"
          ]
        }
      ]
    },
    {
      "cell_type": "code",
      "metadata": {
        "execution": {
          "iopub.execute_input": "2021-06-17T22:57:17.769543Z",
          "iopub.status.busy": "2021-06-17T22:57:17.768923Z",
          "iopub.status.idle": "2021-06-17T22:57:17.771732Z",
          "shell.execute_reply": "2021-06-17T22:57:17.771249Z",
          "shell.execute_reply.started": "2021-06-17T22:56:00.953371Z"
        },
        "papermill": {
          "duration": 0.019297,
          "end_time": "2021-06-17T22:57:17.771892",
          "exception": false,
          "start_time": "2021-06-17T22:57:17.752595",
          "status": "completed"
        },
        "tags": [],
        "id": "detected-solomon"
      },
      "source": [
        "BASE_DIR = Path('/content/drive/MyDrive/mlb/input')\n",
        "TRAIN_DIR = Path('/content/drive/MyDrive/mlb/input/archive')"
      ],
      "id": "detected-solomon",
      "execution_count": null,
      "outputs": []
    },
    {
      "cell_type": "code",
      "metadata": {
        "execution": {
          "iopub.execute_input": "2021-06-17T22:57:17.803840Z",
          "iopub.status.busy": "2021-06-17T22:57:17.802967Z",
          "iopub.status.idle": "2021-06-17T22:57:21.973413Z",
          "shell.execute_reply": "2021-06-17T22:57:21.973925Z",
          "shell.execute_reply.started": "2021-06-17T22:56:00.964768Z"
        },
        "papermill": {
          "duration": 4.189937,
          "end_time": "2021-06-17T22:57:21.974112",
          "exception": false,
          "start_time": "2021-06-17T22:57:17.784175",
          "status": "completed"
        },
        "tags": [],
        "id": "stupid-jamaica"
      },
      "source": [
        "players = pd.read_csv(BASE_DIR / 'players.csv')\n",
        "\n",
        "rosters = pd.read_pickle(TRAIN_DIR / 'rosters_train.pkl')\n",
        "targets = pd.read_pickle(TRAIN_DIR / 'nextDayPlayerEngagement_train.pkl')\n",
        "scores = pd.read_pickle(TRAIN_DIR / 'playerBoxScores_train.pkl')\n",
        "scores = scores.groupby(['playerId', 'date']).sum().reset_index()"
      ],
      "id": "stupid-jamaica",
      "execution_count": null,
      "outputs": []
    },
    {
      "cell_type": "code",
      "metadata": {
        "execution": {
          "iopub.execute_input": "2021-06-17T22:57:22.011715Z",
          "iopub.status.busy": "2021-06-17T22:57:22.010934Z",
          "iopub.status.idle": "2021-06-17T22:57:22.013961Z",
          "shell.execute_reply": "2021-06-17T22:57:22.013449Z",
          "shell.execute_reply.started": "2021-06-17T22:56:02.462480Z"
        },
        "papermill": {
          "duration": 0.027349,
          "end_time": "2021-06-17T22:57:22.014100",
          "exception": false,
          "start_time": "2021-06-17T22:57:21.986751",
          "status": "completed"
        },
        "tags": [],
        "id": "greenhouse-plenty"
      },
      "source": [
        "targets_cols = ['playerId', 'target1', 'target2', 'target3', 'target4', 'date']\n",
        "players_cols = ['playerId', 'primaryPositionName']\n",
        "rosters_cols = ['playerId', 'teamId', 'status', 'date']\n",
        "scores_cols = ['playerId', 'battingOrder', 'gamesPlayedBatting', 'flyOuts',\n",
        "       'groundOuts', 'runsScored', 'doubles', 'triples', 'homeRuns',\n",
        "       'strikeOuts', 'baseOnBalls', 'intentionalWalks', 'hits', 'hitByPitch',\n",
        "       'atBats', 'caughtStealing', 'stolenBases', 'groundIntoDoublePlay',\n",
        "       'groundIntoTriplePlay', 'plateAppearances', 'totalBases', 'rbi',\n",
        "       'leftOnBase', 'sacBunts', 'sacFlies', 'catchersInterference',\n",
        "       'pickoffs', 'gamesPlayedPitching', 'gamesStartedPitching',\n",
        "       'completeGamesPitching', 'shutoutsPitching', 'winsPitching',\n",
        "       'lossesPitching', 'flyOutsPitching', 'airOutsPitching',\n",
        "       'groundOutsPitching', 'runsPitching', 'doublesPitching',\n",
        "       'triplesPitching', 'homeRunsPitching', 'strikeOutsPitching',\n",
        "       'baseOnBallsPitching', 'intentionalWalksPitching', 'hitsPitching',\n",
        "       'hitByPitchPitching', 'atBatsPitching', 'caughtStealingPitching',\n",
        "       'stolenBasesPitching', 'inningsPitched', 'saveOpportunities',\n",
        "       'earnedRuns', 'battersFaced', 'outsPitching', 'pitchesThrown', 'balls',\n",
        "       'strikes', 'hitBatsmen', 'balks', 'wildPitches', 'pickoffsPitching',\n",
        "       'rbiPitching', 'gamesFinishedPitching', 'inheritedRunners',\n",
        "       'inheritedRunnersScored', 'catchersInterferencePitching',\n",
        "       'sacBuntsPitching', 'sacFliesPitching', 'saves', 'holds', 'blownSaves',\n",
        "       'assists', 'putOuts', 'errors', 'chances', 'date']\n",
        "\n",
        "feature_cols = ['label_playerId', 'label_primaryPositionName', 'label_teamId',\n",
        "       'label_status', 'battingOrder', 'gamesPlayedBatting', 'flyOuts',\n",
        "       'groundOuts', 'runsScored', 'doubles', 'triples', 'homeRuns',\n",
        "       'strikeOuts', 'baseOnBalls', 'intentionalWalks', 'hits', 'hitByPitch',\n",
        "       'atBats', 'caughtStealing', 'stolenBases', 'groundIntoDoublePlay',\n",
        "       'groundIntoTriplePlay', 'plateAppearances', 'totalBases', 'rbi',\n",
        "       'leftOnBase', 'sacBunts', 'sacFlies', 'catchersInterference',\n",
        "       'pickoffs', 'gamesPlayedPitching', 'gamesStartedPitching',\n",
        "       'completeGamesPitching', 'shutoutsPitching', 'winsPitching',\n",
        "       'lossesPitching', 'flyOutsPitching', 'airOutsPitching',\n",
        "       'groundOutsPitching', 'runsPitching', 'doublesPitching',\n",
        "       'triplesPitching', 'homeRunsPitching', 'strikeOutsPitching',\n",
        "       'baseOnBallsPitching', 'intentionalWalksPitching', 'hitsPitching',\n",
        "       'hitByPitchPitching', 'atBatsPitching', 'caughtStealingPitching',\n",
        "       'stolenBasesPitching', 'inningsPitched', 'saveOpportunities',\n",
        "       'earnedRuns', 'battersFaced', 'outsPitching', 'pitchesThrown', 'balls',\n",
        "       'strikes', 'hitBatsmen', 'balks', 'wildPitches', 'pickoffsPitching',\n",
        "       'rbiPitching', 'gamesFinishedPitching', 'inheritedRunners',\n",
        "       'inheritedRunnersScored', 'catchersInterferencePitching',\n",
        "       'sacBuntsPitching', 'sacFliesPitching', 'saves', 'holds', 'blownSaves',\n",
        "       'assists', 'putOuts', 'errors', 'chances']"
      ],
      "id": "greenhouse-plenty",
      "execution_count": null,
      "outputs": []
    },
    {
      "cell_type": "code",
      "metadata": {
        "execution": {
          "iopub.execute_input": "2021-06-17T22:57:22.048199Z",
          "iopub.status.busy": "2021-06-17T22:57:22.047562Z",
          "iopub.status.idle": "2021-06-17T22:57:26.470074Z",
          "shell.execute_reply": "2021-06-17T22:57:26.470589Z",
          "shell.execute_reply.started": "2021-06-17T22:56:02.474486Z"
        },
        "papermill": {
          "duration": 4.444408,
          "end_time": "2021-06-17T22:57:26.470771",
          "exception": false,
          "start_time": "2021-06-17T22:57:22.026363",
          "status": "completed"
        },
        "tags": [],
        "id": "apparent-aircraft"
      },
      "source": [
        "# creat dataset\n",
        "train = targets[targets_cols].merge(players[players_cols], on=['playerId'], how='left')\n",
        "train = train.merge(rosters[rosters_cols], on=['playerId', 'date'], how='left')\n",
        "train = train.merge(scores[scores_cols], on=['playerId', 'date'], how='left')\n",
        "\n",
        "# label encoding\n",
        "player2num = {c: i for i, c in enumerate(train['playerId'].unique())}\n",
        "position2num = {c: i for i, c in enumerate(train['primaryPositionName'].unique())}\n",
        "teamid2num = {c: i for i, c in enumerate(train['teamId'].unique())}\n",
        "status2num = {c: i for i, c in enumerate(train['status'].unique())}\n",
        "train['label_playerId'] = train['playerId'].map(player2num)\n",
        "train['label_primaryPositionName'] = train['primaryPositionName'].map(position2num)\n",
        "train['label_teamId'] = train['teamId'].map(teamid2num)\n",
        "train['label_status'] = train['status'].map(status2num)"
      ],
      "id": "apparent-aircraft",
      "execution_count": null,
      "outputs": []
    },
    {
      "cell_type": "code",
      "metadata": {
        "execution": {
          "iopub.execute_input": "2021-06-17T22:57:26.503160Z",
          "iopub.status.busy": "2021-06-17T22:57:26.501811Z",
          "iopub.status.idle": "2021-06-17T22:57:29.843150Z",
          "shell.execute_reply": "2021-06-17T22:57:29.842394Z",
          "shell.execute_reply.started": "2021-06-17T22:56:07.023735Z"
        },
        "papermill": {
          "duration": 3.360256,
          "end_time": "2021-06-17T22:57:29.843291",
          "exception": false,
          "start_time": "2021-06-17T22:57:26.483035",
          "status": "completed"
        },
        "tags": [],
        "id": "expensive-narrative"
      },
      "source": [
        "train_X = train[feature_cols]\n",
        "train_y = train[['target1', 'target2', 'target3', 'target4']]\n",
        "\n",
        "_index = (train['date'] < 20210401)\n",
        "x_train = train_X.loc[_index].reset_index(drop=True)\n",
        "y_train = train_y.loc[_index].reset_index(drop=True)\n",
        "x_valid = train_X.loc[~_index].reset_index(drop=True)\n",
        "y_valid = train_y.loc[~_index].reset_index(drop=True)"
      ],
      "id": "expensive-narrative",
      "execution_count": null,
      "outputs": []
    },
    {
      "cell_type": "code",
      "metadata": {
        "execution": {
          "iopub.execute_input": "2021-06-17T22:57:29.880242Z",
          "iopub.status.busy": "2021-06-17T22:57:29.879606Z",
          "iopub.status.idle": "2021-06-17T22:56:11.363666Z",
          "shell.execute_reply": "2021-06-17T22:56:11.361681Z",
          "shell.execute_reply.started": "2021-06-17T22:56:11.321603Z"
        },
        "papermill": {
          "duration": null,
          "end_time": null,
          "exception": false,
          "start_time": "2021-06-17T22:57:29.855942",
          "status": "running"
        },
        "tags": [],
        "id": "hollow-siemens"
      },
      "source": [
        "def fit_lgbm(x_train, y_train, x_valid, y_valid, params: dict=None, verbose=100):\n",
        "    oof_pred = np.zeros(len(y_valid), dtype=np.float32)\n",
        "    #model = lgbm.LGBMRegressor(**params)\n",
        "    best_params, tuning_history = {}, []\n",
        "    \n",
        "    lgb_train = lgbm.Dataset(x_train, y_train)\n",
        "    lgb_eval = lgbm.Dataset(x_valid, y_valid, reference=lgb_train)\n",
        "    model = lgbm.train(params, \n",
        "        lgb_train, valid_sets=lgb_eval,  \n",
        "        early_stopping_rounds=100,\n",
        "        num_boost_round=500,\n",
        "        verbose_eval=50,\n",
        "        #verbose=verbose,               \n",
        "        )\n",
        "    oof_pred = model.predict(x_valid)\n",
        "    score = mean_absolute_error(oof_pred, y_valid)\n",
        "    print('mae:', score)\n",
        "    return oof_pred, model, score\n",
        "\n",
        "\n",
        "# training lightgbm\n",
        "params = {\n",
        "    'boosting_type': 'gbdt',\n",
        "    'objective': 'mae',\n",
        "    'metric': \"mae\",\n",
        "    'num_leaves': 50,\n",
        "    'learning_rate': 0.05,\n",
        "    'feature_fraction': 0.9,\n",
        "    'bagging_fraction': 0.8,\n",
        "    'bagging_freq': 5,\n",
        "    'verbose': 0\n",
        "}\n",
        "\n",
        "oof1, model1, score1 = fit_lgbm(\n",
        "    x_train, y_train['target1'],\n",
        "    x_valid, y_valid['target1'],\n",
        "    params\n",
        ")\n",
        "file = '/content/drive/MyDrive/mlb/script/output/model1.pkl'\n",
        "pickle.dump(model1, open(file, 'wb'))\n",
        "\n",
        "oof2, model2, score2 = fit_lgbm(\n",
        "    x_train, y_train['target2'],\n",
        "    x_valid, y_valid['target2'],\n",
        "    params\n",
        ")\n",
        "file = '/content/drive/MyDrive/mlb/script/output/model2.pkl'\n",
        "pickle.dump(model2, open(file, 'wb'))\n",
        "oof3, model3, score3 = fit_lgbm(\n",
        "    x_train, y_train['target3'],\n",
        "    x_valid, y_valid['target3'],\n",
        "    params\n",
        ")\n",
        "file = '/content/drive/MyDrive/mlb/script/output/model3.pkl'\n",
        "pickle.dump(model3, open(file, 'wb'))\n",
        "oof4, model4, score4 = fit_lgbm(\n",
        "    x_train, y_train['target4'],\n",
        "    x_valid, y_valid['target4'],\n",
        "    params\n",
        ")\n",
        "file = '/content/drive/MyDrive/mlb/script/output/model4.pkl'\n",
        "pickle.dump(model4, open(file, 'wb'))\n",
        "score = (score1+score2+score3+score4) / 4\n",
        "print(f'score: {score}')"
      ],
      "id": "hollow-siemens",
      "execution_count": null,
      "outputs": []
    },
    {
      "cell_type": "code",
      "metadata": {
        "execution": {
          "iopub.status.busy": "2021-06-17T22:56:11.365141Z",
          "iopub.status.idle": "2021-06-17T22:56:11.365808Z"
        },
        "papermill": {
          "duration": null,
          "end_time": null,
          "exception": null,
          "start_time": null,
          "status": "pending"
        },
        "tags": [],
        "id": "integral-reducing"
      },
      "source": [
        ""
      ],
      "id": "integral-reducing",
      "execution_count": null,
      "outputs": []
    },
    {
      "cell_type": "markdown",
      "metadata": {
        "papermill": {
          "duration": null,
          "end_time": null,
          "exception": null,
          "start_time": null,
          "status": "pending"
        },
        "tags": [],
        "id": "magnetic-anaheim"
      },
      "source": [
        "## Inference"
      ],
      "id": "magnetic-anaheim"
    },
    {
      "cell_type": "code",
      "metadata": {
        "execution": {
          "iopub.status.busy": "2021-06-17T22:56:11.367204Z",
          "iopub.status.idle": "2021-06-17T22:56:11.367645Z"
        },
        "papermill": {
          "duration": null,
          "end_time": null,
          "exception": null,
          "start_time": null,
          "status": "pending"
        },
        "tags": [],
        "id": "loose-health"
      },
      "source": [
        "\"\"\"players_cols = ['playerId', 'primaryPositionName']\n",
        "rosters_cols = ['playerId', 'teamId', 'status']\n",
        "scores_cols = ['playerId', 'battingOrder', 'gamesPlayedBatting', 'flyOuts',\n",
        "       'groundOuts', 'runsScored', 'doubles', 'triples', 'homeRuns',\n",
        "       'strikeOuts', 'baseOnBalls', 'intentionalWalks', 'hits', 'hitByPitch',\n",
        "       'atBats', 'caughtStealing', 'stolenBases', 'groundIntoDoublePlay',\n",
        "       'groundIntoTriplePlay', 'plateAppearances', 'totalBases', 'rbi',\n",
        "       'leftOnBase', 'sacBunts', 'sacFlies', 'catchersInterference',\n",
        "       'pickoffs', 'gamesPlayedPitching', 'gamesStartedPitching',\n",
        "       'completeGamesPitching', 'shutoutsPitching', 'winsPitching',\n",
        "       'lossesPitching', 'flyOutsPitching', 'airOutsPitching',\n",
        "       'groundOutsPitching', 'runsPitching', 'doublesPitching',\n",
        "       'triplesPitching', 'homeRunsPitching', 'strikeOutsPitching',\n",
        "       'baseOnBallsPitching', 'intentionalWalksPitching', 'hitsPitching',\n",
        "       'hitByPitchPitching', 'atBatsPitching', 'caughtStealingPitching',\n",
        "       'stolenBasesPitching', 'inningsPitched', 'saveOpportunities',\n",
        "       'earnedRuns', 'battersFaced', 'outsPitching', 'pitchesThrown', 'balls',\n",
        "       'strikes', 'hitBatsmen', 'balks', 'wildPitches', 'pickoffsPitching',\n",
        "       'rbiPitching', 'gamesFinishedPitching', 'inheritedRunners',\n",
        "       'inheritedRunnersScored', 'catchersInterferencePitching',\n",
        "       'sacBuntsPitching', 'sacFliesPitching', 'saves', 'holds', 'blownSaves',\n",
        "       'assists', 'putOuts', 'errors', 'chances']\n",
        "\n",
        "null = np.nan\n",
        "true = True\n",
        "false = False\n",
        "\n",
        "env = mlb.make_env() # initialize the environment\n",
        "iter_test = env.iter_test() # iterator which loops over each date in test set\n",
        "\n",
        "for (test_df, sample_prediction_df) in iter_test: # make predictions here\n",
        "    \n",
        "    sample_prediction_df = sample_prediction_df.reset_index(drop=True)\n",
        "    \n",
        "    # creat dataset\n",
        "    sample_prediction_df['playerId'] = sample_prediction_df['date_playerId']\\\n",
        "                                        .map(lambda x: int(x.split('_')[1]))\n",
        "    # Dealing with missing values\n",
        "    if test_df['rosters'].iloc[0] == test_df['rosters'].iloc[0]:\n",
        "        test_rosters = pd.DataFrame(eval(test_df['rosters'].iloc[0]))\n",
        "    else:\n",
        "        test_rosters = pd.DataFrame({'playerId': sample_prediction_df['playerId']})\n",
        "        for col in rosters.columns:\n",
        "            if col == 'playerId': continue\n",
        "            test_rosters[col] = np.nan\n",
        "            \n",
        "    if test_df['playerBoxScores'].iloc[0] == test_df['playerBoxScores'].iloc[0]:\n",
        "        test_scores = pd.DataFrame(eval(test_df['playerBoxScores'].iloc[0]))\n",
        "    else:\n",
        "        test_scores = pd.DataFrame({'playerId': sample_prediction_df['playerId']})\n",
        "        for col in scores.columns:\n",
        "            if col == 'playerId': continue\n",
        "            test_scores[col] = np.nan\n",
        "    test_scores = test_scores.groupby('playerId').sum().reset_index()\n",
        "    test = sample_prediction_df[['playerId']].copy()\n",
        "    test = test.merge(players[players_cols], on='playerId', how='left')\n",
        "    test = test.merge(test_rosters[rosters_cols], on='playerId', how='left')\n",
        "    test = test.merge(test_scores[scores_cols], on='playerId', how='left')\n",
        "\n",
        "    test['label_playerId'] = test['playerId'].map(player2num)\n",
        "    test['label_primaryPositionName'] = test['primaryPositionName'].map(position2num)\n",
        "    test['label_teamId'] = test['teamId'].map(teamid2num)\n",
        "    test['label_status'] = test['status'].map(status2num)\n",
        "    \n",
        "    test_X = test[feature_cols]\n",
        "    \n",
        "    # predict\n",
        "    pred1 = model1.predict(test_X)\n",
        "    pred2 = model2.predict(test_X)\n",
        "    pred3 = model3.predict(test_X)\n",
        "    pred4 = model4.predict(test_X)\n",
        "    \n",
        "    # merge submission\n",
        "    sample_prediction_df['target1'] = np.clip(pred1, 0, 100)\n",
        "    sample_prediction_df['target2'] = np.clip(pred2, 0, 100)\n",
        "    sample_prediction_df['target3'] = np.clip(pred3, 0, 100)\n",
        "    sample_prediction_df['target4'] = np.clip(pred4, 0, 100)\n",
        "    sample_prediction_df = sample_prediction_df.fillna(0.)\n",
        "    del sample_prediction_df['playerId']\n",
        "    \n",
        "    env.predict(sample_prediction_df)\"\"\""
      ],
      "id": "loose-health",
      "execution_count": null,
      "outputs": []
    }
  ]
}