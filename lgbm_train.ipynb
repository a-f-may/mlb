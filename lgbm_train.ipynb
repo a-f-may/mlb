{
  "nbformat": 4,
  "nbformat_minor": 5,
  "metadata": {
    "accelerator": "GPU",
    "colab": {
      "name": "lgbm_train.ipynb",
      "provenance": [],
      "collapsed_sections": [],
      "machine_shape": "hm",
      "include_colab_link": true
    },
    "kernelspec": {
      "display_name": "Python 3",
      "language": "python",
      "name": "python3"
    },
    "language_info": {
      "codemirror_mode": {
        "name": "ipython",
        "version": 3
      },
      "file_extension": ".py",
      "mimetype": "text/x-python",
      "name": "python",
      "nbconvert_exporter": "python",
      "pygments_lexer": "ipython3",
      "version": "3.6.4"
    },
    "papermill": {
      "default_parameters": {},
      "duration": null,
      "end_time": null,
      "environment_variables": {},
      "exception": null,
      "input_path": "__notebook__.ipynb",
      "output_path": "__notebook__.ipynb",
      "parameters": {},
      "start_time": "2021-06-17T22:57:06.946455",
      "version": "2.3.3"
    }
  },
  "cells": [
    {
      "cell_type": "markdown",
      "metadata": {
        "id": "view-in-github",
        "colab_type": "text"
      },
      "source": [
        "<a href=\"https://colab.research.google.com/github/gdollp/mlb/blob/main/lgbm_train.ipynb\" target=\"_parent\"><img src=\"https://colab.research.google.com/assets/colab-badge.svg\" alt=\"Open In Colab\"/></a>"
      ]
    },
    {
      "cell_type": "markdown",
      "metadata": {
        "id": "adaptive-television"
      },
      "source": [
        "This notebook uses lightGBM to make predictions.\n",
        "\n",
        "We use the following features\n",
        "* playerId\n",
        "* position\n",
        "* teamId(rosters)\n",
        "* status(rosters)\n",
        "* playerBoxScores\n",
        "\n",
        "and the date 20200401~20200431 as the validation data.\n",
        "\n",
        "But I think there is room for improvement.  \n",
        "If you have better ways, I would appreciate it if you could comment on it.\n",
        "\n",
        "このnotebookではlightGBMを使って予測します。\n",
        "\n",
        "特徴量は以下のものを使用しています。\n",
        "* playerId\n",
        "* position\n",
        "* teamId(rosters)\n",
        "* status(rosters)\n",
        "* playerBoxScores\n",
        "\n",
        "20200401~20200431を日時をvalidation dataとしていますが、一考の余地がありそうです。  \n",
        "もし良さそうな方法があればコメントしていただけると幸いです。\n",
        "\n"
      ],
      "id": "adaptive-television"
    },
    {
      "cell_type": "code",
      "metadata": {
        "id": "KRP1VvT6hms2",
        "colab": {
          "base_uri": "https://localhost:8080/"
        },
        "outputId": "693b8567-9b61-461d-d65e-73540299c8b4"
      },
      "source": [
        "from google.colab import drive\n",
        "drive.mount('/content/drive')"
      ],
      "id": "KRP1VvT6hms2",
      "execution_count": 174,
      "outputs": [
        {
          "output_type": "stream",
          "text": [
            "Drive already mounted at /content/drive; to attempt to forcibly remount, call drive.mount(\"/content/drive\", force_remount=True).\n"
          ],
          "name": "stdout"
        }
      ]
    },
    {
      "cell_type": "code",
      "metadata": {
        "id": "AqCQBDH0Lgcs"
      },
      "source": [
        "#gamesを特徴量に追加\n",
        "\n",
        "\n",
        "#基本指針 #新しい特徴量を考える　or 利用できていないデータセットの利用"
      ],
      "id": "AqCQBDH0Lgcs",
      "execution_count": 175,
      "outputs": []
    },
    {
      "cell_type": "markdown",
      "metadata": {
        "id": "allied-office"
      },
      "source": [
        "## About Dataset"
      ],
      "id": "allied-office"
    },
    {
      "cell_type": "markdown",
      "metadata": {
        "id": "taken-elizabeth"
      },
      "source": [
        "Train.csv is stored as a csv file with each column as follows.  \n",
        "\n",
        "train.csvを以下のようにして各カラムをcsvファイルとして保管しています。"
      ],
      "id": "taken-elizabeth"
    },
    {
      "cell_type": "code",
      "metadata": {
        "id": "frequent-minneapolis"
      },
      "source": [
        "%%capture\n",
        "\"\"\"\n",
        "!pip install pandarallel \n",
        "\n",
        "import gc\n",
        "\n",
        "import numpy as np\n",
        "import pandas as pd\n",
        "from pathlib import Path\n",
        "\n",
        "from pandarallel import pandarallel\n",
        "pandarallel.initialize()\n",
        "\n",
        "BASE_DIR = Path('../input/mlb-player-digital-engagement-forecasting')\n",
        "train = pd.read_csv(BASE_DIR / 'train.csv')\n",
        "\n",
        "null = np.nan\n",
        "true = True\n",
        "false = False\n",
        "\n",
        "for col in train.columns:\n",
        "\n",
        "    if col == 'date': continue\n",
        "\n",
        "    _index = train[col].notnull()\n",
        "    train.loc[_index, col] = train.loc[_index, col].parallel_apply(lambda x: eval(x))\n",
        "\n",
        "    outputs = []\n",
        "    for index, date, record in train.loc[_index, ['date', col]].itertuples():\n",
        "        _df = pd.DataFrame(record)\n",
        "        _df['index'] = index\n",
        "        _df['date'] = date\n",
        "        outputs.append(_df)\n",
        "\n",
        "    outputs = pd.concat(outputs).reset_index(drop=True)\n",
        "\n",
        "    outputs.to_csv(f'{col}_train.csv', index=False)\n",
        "    outputs.to_pickle(f'{col}_train.pkl')\n",
        "\n",
        "    del outputs\n",
        "    del train[col]\n",
        "    gc.collect()\n",
        "\"\"\""
      ],
      "id": "frequent-minneapolis",
      "execution_count": 176,
      "outputs": []
    },
    {
      "cell_type": "markdown",
      "metadata": {
        "id": "fitting-university"
      },
      "source": [
        "## Training"
      ],
      "id": "fitting-university"
    },
    {
      "cell_type": "code",
      "metadata": {
        "id": "1sb4hEn0lKIg"
      },
      "source": [
        "#!pip install optuna"
      ],
      "id": "1sb4hEn0lKIg",
      "execution_count": 177,
      "outputs": []
    },
    {
      "cell_type": "code",
      "metadata": {
        "id": "piano-fossil"
      },
      "source": [
        "import numpy as np\n",
        "import pandas as pd\n",
        "from pathlib import Path\n",
        "from sklearn.metrics import mean_absolute_error\n",
        "from datetime import timedelta\n",
        "from functools import reduce\n",
        "from tqdm import tqdm\n",
        "#import optuna.integration.lightgbm as lgbm\n",
        "import lightgbm as lgbm\n",
        "import pickle\n",
        "#import mlb\n",
        "import sklearn #機械学習のライブラリ\n",
        "from sklearn.decomposition import PCA #主成分分析器\n",
        "from sklearn.preprocessing import LabelEncoder\n",
        "import gc\n",
        "from datetime import datetime"
      ],
      "id": "piano-fossil",
      "execution_count": 178,
      "outputs": []
    },
    {
      "cell_type": "code",
      "metadata": {
        "id": "detected-solomon"
      },
      "source": [
        "BASE_DIR = Path('/content/drive/MyDrive/mlb/input')\n",
        "TRAIN_DIR = Path('/content/drive/MyDrive/mlb/input/archive')"
      ],
      "id": "detected-solomon",
      "execution_count": 179,
      "outputs": []
    },
    {
      "cell_type": "code",
      "metadata": {
        "id": "stupid-jamaica"
      },
      "source": [
        "players = pd.read_csv(BASE_DIR / 'players.csv')\n",
        "\n",
        "rosters = pd.read_pickle(TRAIN_DIR / 'rosters_train.pkl')\n",
        "targets = pd.read_pickle(TRAIN_DIR / 'nextDayPlayerEngagement_train.pkl')\n",
        "scores1 = pd.read_pickle(TRAIN_DIR / 'playerBoxScores_train.pkl')\n",
        "scores = scores1.groupby(['playerId', 'date']).sum().reset_index()\n",
        "playertwitter = pd.read_pickle(\"/content/drive/MyDrive/mlb/input/archive/playerTwitterFollowers_train.pkl\")\n",
        "games = pd.read_pickle(TRAIN_DIR / 'games_train.pkl')\n",
        "events = pd.read_pickle(TRAIN_DIR / 'events_train.pkl')\n",
        "standings = pd.read_pickle(TRAIN_DIR / 'standings_train.pkl')\n",
        "teamtwitter = pd.read_pickle(TRAIN_DIR / 'teamTwitterFollowers_train.pkl')\n",
        "transaction = pd.read_pickle(TRAIN_DIR / 'teamTwitterFollowers_train.pkl')\n",
        "awards = pd.read_csv(BASE_DIR / 'awards.csv')\n",
        "seasons = pd.read_csv(BASE_DIR / 'seasons.csv')\n",
        "teams = pd.read_csv(BASE_DIR / 'teams.csv')\n",
        "player_target_stats = pd.read_csv(BASE_DIR /\"player_target_stats.csv\")\n"
      ],
      "id": "stupid-jamaica",
      "execution_count": 180,
      "outputs": []
    },
    {
      "cell_type": "code",
      "metadata": {
        "id": "2pPv7IrQ5fJz"
      },
      "source": [
        "events_p = events\n",
        "events_p[\"playerId\"] = events_p[\"pitcherId\"]\n",
        "events_h = events\n",
        "events_h[\"playerId\"] = events_p[\"hitterId\"]"
      ],
      "id": "2pPv7IrQ5fJz",
      "execution_count": 181,
      "outputs": []
    },
    {
      "cell_type": "code",
      "metadata": {
        "id": "4Fb2NbfrmSPU",
        "colab": {
          "base_uri": "https://localhost:8080/",
          "height": 419
        },
        "outputId": "5aa9f99e-211d-4b46-8835-fae65cce3cf0"
      },
      "source": [
        "teamtwitter"
      ],
      "id": "4Fb2NbfrmSPU",
      "execution_count": 192,
      "outputs": [
        {
          "output_type": "execute_result",
          "data": {
            "text/html": [
              "<div>\n",
              "<style scoped>\n",
              "    .dataframe tbody tr th:only-of-type {\n",
              "        vertical-align: middle;\n",
              "    }\n",
              "\n",
              "    .dataframe tbody tr th {\n",
              "        vertical-align: top;\n",
              "    }\n",
              "\n",
              "    .dataframe thead th {\n",
              "        text-align: right;\n",
              "    }\n",
              "</style>\n",
              "<table border=\"1\" class=\"dataframe\">\n",
              "  <thead>\n",
              "    <tr style=\"text-align: right;\">\n",
              "      <th></th>\n",
              "      <th>date</th>\n",
              "      <th>teamId</th>\n",
              "      <th>teamName</th>\n",
              "      <th>accountName</th>\n",
              "      <th>twitterHandle</th>\n",
              "      <th>numberOfFollowers</th>\n",
              "      <th>index</th>\n",
              "    </tr>\n",
              "  </thead>\n",
              "  <tbody>\n",
              "    <tr>\n",
              "      <th>0</th>\n",
              "      <td>20180101</td>\n",
              "      <td>147</td>\n",
              "      <td>New York Yankees</td>\n",
              "      <td>New York Yankees</td>\n",
              "      <td>@Yankees</td>\n",
              "      <td>3130482</td>\n",
              "      <td>0</td>\n",
              "    </tr>\n",
              "    <tr>\n",
              "      <th>1</th>\n",
              "      <td>20180101</td>\n",
              "      <td>112</td>\n",
              "      <td>Chicago Cubs</td>\n",
              "      <td>Chicago Cubs</td>\n",
              "      <td>@Cubs</td>\n",
              "      <td>2373710</td>\n",
              "      <td>0</td>\n",
              "    </tr>\n",
              "    <tr>\n",
              "      <th>2</th>\n",
              "      <td>20180101</td>\n",
              "      <td>141</td>\n",
              "      <td>Toronto Blue Jays</td>\n",
              "      <td>Toronto Blue Jays</td>\n",
              "      <td>@BlueJays</td>\n",
              "      <td>2196352</td>\n",
              "      <td>0</td>\n",
              "    </tr>\n",
              "    <tr>\n",
              "      <th>3</th>\n",
              "      <td>20180101</td>\n",
              "      <td>111</td>\n",
              "      <td>Boston Red Sox</td>\n",
              "      <td>Boston Red Sox</td>\n",
              "      <td>@RedSox</td>\n",
              "      <td>1950737</td>\n",
              "      <td>0</td>\n",
              "    </tr>\n",
              "    <tr>\n",
              "      <th>4</th>\n",
              "      <td>20180101</td>\n",
              "      <td>119</td>\n",
              "      <td>Los Angeles Dodgers</td>\n",
              "      <td>Los Angeles Dodgers</td>\n",
              "      <td>@Dodgers</td>\n",
              "      <td>1949542</td>\n",
              "      <td>0</td>\n",
              "    </tr>\n",
              "    <tr>\n",
              "      <th>...</th>\n",
              "      <td>...</td>\n",
              "      <td>...</td>\n",
              "      <td>...</td>\n",
              "      <td>...</td>\n",
              "      <td>...</td>\n",
              "      <td>...</td>\n",
              "      <td>...</td>\n",
              "    </tr>\n",
              "    <tr>\n",
              "      <th>1195</th>\n",
              "      <td>20210401</td>\n",
              "      <td>115</td>\n",
              "      <td>Colorado Rockies</td>\n",
              "      <td>Colorado Rockies</td>\n",
              "      <td>@Rockies</td>\n",
              "      <td>585102</td>\n",
              "      <td>1186</td>\n",
              "    </tr>\n",
              "    <tr>\n",
              "      <th>1196</th>\n",
              "      <td>20210401</td>\n",
              "      <td>133</td>\n",
              "      <td>Oakland Athletics</td>\n",
              "      <td>Oakland Athletics</td>\n",
              "      <td>@Athletics</td>\n",
              "      <td>572565</td>\n",
              "      <td>1186</td>\n",
              "    </tr>\n",
              "    <tr>\n",
              "      <th>1197</th>\n",
              "      <td>20210401</td>\n",
              "      <td>136</td>\n",
              "      <td>Seattle Mariners</td>\n",
              "      <td>Seattle Mariners</td>\n",
              "      <td>@Mariners</td>\n",
              "      <td>571143</td>\n",
              "      <td>1186</td>\n",
              "    </tr>\n",
              "    <tr>\n",
              "      <th>1198</th>\n",
              "      <td>20210401</td>\n",
              "      <td>135</td>\n",
              "      <td>San Diego Padres</td>\n",
              "      <td>San Diego Padres</td>\n",
              "      <td>@Padres</td>\n",
              "      <td>466044</td>\n",
              "      <td>1186</td>\n",
              "    </tr>\n",
              "    <tr>\n",
              "      <th>1199</th>\n",
              "      <td>20210401</td>\n",
              "      <td>146</td>\n",
              "      <td>Miami Marlins</td>\n",
              "      <td>Miami Marlins</td>\n",
              "      <td>@Marlins</td>\n",
              "      <td>365089</td>\n",
              "      <td>1186</td>\n",
              "    </tr>\n",
              "  </tbody>\n",
              "</table>\n",
              "<p>1200 rows × 7 columns</p>\n",
              "</div>"
            ],
            "text/plain": [
              "          date  teamId  ... numberOfFollowers index\n",
              "0     20180101     147  ...           3130482     0\n",
              "1     20180101     112  ...           2373710     0\n",
              "2     20180101     141  ...           2196352     0\n",
              "3     20180101     111  ...           1950737     0\n",
              "4     20180101     119  ...           1949542     0\n",
              "...        ...     ...  ...               ...   ...\n",
              "1195  20210401     115  ...            585102  1186\n",
              "1196  20210401     133  ...            572565  1186\n",
              "1197  20210401     136  ...            571143  1186\n",
              "1198  20210401     135  ...            466044  1186\n",
              "1199  20210401     146  ...            365089  1186\n",
              "\n",
              "[1200 rows x 7 columns]"
            ]
          },
          "metadata": {
            "tags": []
          },
          "execution_count": 192
        }
      ]
    },
    {
      "cell_type": "code",
      "metadata": {
        "colab": {
          "base_uri": "https://localhost:8080/"
        },
        "id": "8UOARhoOV79E",
        "outputId": "f62838bf-937e-4359-8e39-8be8b11ec47d"
      },
      "source": [
        "awards2 = awards.groupby(\"playerId\").count()\n",
        "awards2 = awards2.reset_index()\n",
        "awards2[\"awardName\"]"
      ],
      "id": "8UOARhoOV79E",
      "execution_count": 183,
      "outputs": [
        {
          "output_type": "execute_result",
          "data": {
            "text/plain": [
              "0       12\n",
              "1       38\n",
              "2       24\n",
              "3       43\n",
              "4       20\n",
              "        ..\n",
              "1691     1\n",
              "1692     2\n",
              "1693     1\n",
              "1694     1\n",
              "1695     1\n",
              "Name: awardName, Length: 1696, dtype: int64"
            ]
          },
          "metadata": {
            "tags": []
          },
          "execution_count": 183
        }
      ]
    },
    {
      "cell_type": "code",
      "metadata": {
        "id": "IAGEoUNpu4Vc"
      },
      "source": [
        ""
      ],
      "id": "IAGEoUNpu4Vc",
      "execution_count": 183,
      "outputs": []
    },
    {
      "cell_type": "code",
      "metadata": {
        "id": "greenhouse-plenty"
      },
      "source": [
        "targets_cols = ['playerId', 'target1', 'target2', 'target3', 'target4', 'date']\n",
        "players_cols = ['playerId', 'primaryPositionName']\n",
        "rosters_cols = ['playerId', 'teamId', 'status', 'date']\n",
        "scores_cols = ['playerId', 'battingOrder', 'gamesPlayedBatting', 'flyOuts',\n",
        "       'groundOuts', 'runsScored', 'doubles', 'triples', 'homeRuns',\n",
        "       'strikeOuts', 'baseOnBalls', 'intentionalWalks', 'hits', 'hitByPitch',\n",
        "       'atBats', 'caughtStealing', 'stolenBases', 'groundIntoDoublePlay',\n",
        "       'groundIntoTriplePlay', 'plateAppearances', 'totalBases', 'rbi',\n",
        "       'leftOnBase', 'sacBunts', 'sacFlies', 'catchersInterference',\n",
        "       'pickoffs', 'gamesPlayedPitching', 'gamesStartedPitching',\n",
        "       'completeGamesPitching', 'shutoutsPitching', 'winsPitching',\n",
        "       'lossesPitching', 'flyOutsPitching', 'airOutsPitching',\n",
        "       'groundOutsPitching', 'runsPitching', 'doublesPitching',\n",
        "       'triplesPitching', 'homeRunsPitching', 'strikeOutsPitching',\n",
        "       'baseOnBallsPitching', 'intentionalWalksPitching', 'hitsPitching',\n",
        "       'hitByPitchPitching', 'atBatsPitching', 'caughtStealingPitching',\n",
        "       'stolenBasesPitching', 'inningsPitched', 'saveOpportunities',\n",
        "       'earnedRuns', 'battersFaced', 'outsPitching', 'pitchesThrown', 'balls',\n",
        "       'strikes', 'hitBatsmen', 'balks', 'wildPitches', 'pickoffsPitching',\n",
        "       'rbiPitching', 'gamesFinishedPitching', 'inheritedRunners',\n",
        "       'inheritedRunnersScored', 'catchersInterferencePitching',\n",
        "       'sacBuntsPitching', 'sacFliesPitching', 'saves', 'holds', 'blownSaves',\n",
        "       'assists', 'putOuts', 'errors', 'chances', 'date',\"gamePk\"]\n",
        "games_cols = [\"gamePk\",\"homeId\",\"dayNight\",\"seriesDescription\",\"gamesInSeries\",\"homeWinner\",\"awayWinner\",\"homeScore\",\"awayScore\",\"gameType\"]\n",
        "playertwitter_cols = [\"date\",\"playerId\",\"numberOfFollowers\"]\n",
        "awards_cols = [\"playerId\",\"awardName\"]\n",
        "standings_cols = [\"date\",\"teamId\",\"divisionRank\",\"divisionLeader\",\"wildCardLeader\",\"leagueRank\",\"divisionId\",\"gameDate\"]\n",
        "teamtwitter_cols = [\"date\",\"teamId\",\"numberOfFollowers\"]\n",
        "\n",
        "feature_cols1 = ['label_playerId', 'label_primaryPositionName', 'label_teamId',\n",
        "       'label_status', 'battingOrder', 'gamesPlayedBatting', 'flyOuts',\n",
        "       'groundOuts', 'runsScored', 'doubles', 'triples', 'homeRuns',\n",
        "       'strikeOuts', 'baseOnBalls', 'intentionalWalks', 'hits', 'hitByPitch',\n",
        "       'atBats', 'caughtStealing', 'stolenBases', 'groundIntoDoublePlay',\n",
        "       'groundIntoTriplePlay', 'plateAppearances', 'totalBases', 'rbi',\n",
        "       'leftOnBase', 'sacBunts', 'sacFlies', 'catchersInterference',\n",
        "       'pickoffs', 'gamesPlayedPitching', 'gamesStartedPitching',\n",
        "       'completeGamesPitching', 'shutoutsPitching', 'winsPitching',\n",
        "       'lossesPitching', 'flyOutsPitching', 'airOutsPitching',\n",
        "       'groundOutsPitching', 'runsPitching', 'doublesPitching',\n",
        "       'triplesPitching', 'homeRunsPitching', 'strikeOutsPitching',\n",
        "       'baseOnBallsPitching', 'intentionalWalksPitching', 'hitsPitching',\n",
        "       'hitByPitchPitching', 'atBatsPitching', 'caughtStealingPitching',\n",
        "       'stolenBasesPitching', 'inningsPitched', 'saveOpportunities',\n",
        "       'earnedRuns', 'battersFaced', 'outsPitching', 'pitchesThrown', 'balls',\n",
        "       'strikes', 'hitBatsmen', 'balks', 'wildPitches', 'pickoffsPitching',\n",
        "       'rbiPitching', 'gamesFinishedPitching', 'inheritedRunners',\n",
        "       'inheritedRunnersScored', 'catchersInterferencePitching',\n",
        "       'sacBuntsPitching', 'sacFliesPitching', 'saves', 'holds', 'blownSaves',\"divisionId\",\n",
        "       'assists', 'putOuts', 'errors', 'chances',\"ishome\",\"label_seriesDescription\",\"gamesInSeries\",\"label_daynight\",\"gameType\"]#winorlose\"]\n",
        "\n",
        "\n",
        "feature_cols2 = ['label_playerId', 'label_primaryPositionName', 'label_teamId',\n",
        "       'label_status', 'battingOrder', 'gamesPlayedBatting', 'flyOuts',\n",
        "       'groundOuts', 'runsScored', 'doubles', 'triples', 'homeRuns',\n",
        "       'strikeOuts', 'baseOnBalls', 'intentionalWalks', 'hits', 'hitByPitch',\n",
        "       'atBats', 'caughtStealing', 'stolenBases', 'groundIntoDoublePlay',\n",
        "       'groundIntoTriplePlay', 'plateAppearances', 'totalBases', 'rbi',\n",
        "       'leftOnBase', 'sacBunts', 'sacFlies', 'catchersInterference',\n",
        "       'pickoffs', 'gamesPlayedPitching', 'gamesStartedPitching',\n",
        "       'completeGamesPitching', 'shutoutsPitching', 'winsPitching',\n",
        "       'lossesPitching', 'flyOutsPitching', 'airOutsPitching',\n",
        "       'groundOutsPitching', 'runsPitching', 'doublesPitching',\n",
        "       'triplesPitching', 'homeRunsPitching', 'strikeOutsPitching',\n",
        "       'baseOnBallsPitching', 'intentionalWalksPitching', 'hitsPitching',\n",
        "       'hitByPitchPitching', 'atBatsPitching', 'caughtStealingPitching',\n",
        "       'stolenBasesPitching', 'inningsPitched', 'saveOpportunities',\n",
        "       'earnedRuns', 'battersFaced', 'outsPitching', 'pitchesThrown', 'balls',\n",
        "       'strikes', 'hitBatsmen', 'balks', 'wildPitches', 'pickoffsPitching',\n",
        "       'rbiPitching', 'gamesFinishedPitching', 'inheritedRunners',\n",
        "       'inheritedRunnersScored', 'catchersInterferencePitching',\n",
        "       'sacBuntsPitching', 'sacFliesPitching', 'saves', 'holds', 'blownSaves',\"wildCardLeader\",\n",
        "       'assists', 'putOuts', 'errors', 'chances',\"ishome\",\"label_seriesDescription\",\"gamesInSeries\",\"label_daynight\",\"gameType\",\"awardName\",'target2_mean',\n",
        " 'target2_median',\n",
        " 'target2_std',\n",
        " 'target2_min',\n",
        " 'target2_max','target2_prob',\"divisionRank\",\"divisionId\"]#winorlose\"]\n",
        "\n",
        "feature_cols3 = ['label_playerId', 'label_primaryPositionName', 'label_teamId',\n",
        "       'label_status', 'battingOrder', 'gamesPlayedBatting', 'flyOuts',\n",
        "       'groundOuts', 'runsScored', 'doubles', 'triples', 'homeRuns',\n",
        "       'strikeOuts', 'baseOnBalls', 'intentionalWalks', 'hits', 'hitByPitch',\n",
        "       'atBats', 'caughtStealing', 'stolenBases', 'groundIntoDoublePlay',\n",
        "       'groundIntoTriplePlay', 'plateAppearances', 'totalBases', 'rbi',\n",
        "       'leftOnBase', 'sacBunts', 'sacFlies', 'catchersInterference',\n",
        "       'pickoffs', 'gamesPlayedPitching', 'gamesStartedPitching',\n",
        "       'completeGamesPitching', 'shutoutsPitching', 'winsPitching',\n",
        "       'lossesPitching', 'flyOutsPitching', 'airOutsPitching',\n",
        "       'groundOutsPitching', 'runsPitching', 'doublesPitching',\n",
        "       'triplesPitching', 'homeRunsPitching', 'strikeOutsPitching',\n",
        "       'baseOnBallsPitching', 'intentionalWalksPitching', 'hitsPitching',\n",
        "       'hitByPitchPitching', 'atBatsPitching', 'caughtStealingPitching',\n",
        "       'stolenBasesPitching', 'inningsPitched', 'saveOpportunities',\n",
        "       'earnedRuns', 'battersFaced', 'outsPitching', 'pitchesThrown', 'balls',\n",
        "       'strikes', 'hitBatsmen', 'balks', 'wildPitches', 'pickoffsPitching',\n",
        "       'rbiPitching', 'gamesFinishedPitching', 'inheritedRunners',\n",
        "       'inheritedRunnersScored', 'catchersInterferencePitching',\n",
        "       'sacBuntsPitching', 'sacFliesPitching', 'saves', 'holds', 'blownSaves',\"wildCardLeader\",\n",
        "       'assists', 'putOuts', 'errors', 'chances',\"ishome\",\"label_seriesDescription\",\"gamesInSeries\",\"label_daynight\",\"gameType\",\"awardName\",\n",
        " 'target3_mean',\n",
        " 'target3_median',\n",
        " 'target3_std',\n",
        " 'target3_min',\n",
        " 'target3_max',\n",
        " 'target3_prob',\"divisionRank\",\"divisionId\"\n",
        " ]\n",
        "\n",
        "       #winorlose\"]\n",
        "\n",
        "feature_cols4 = ['label_playerId', 'label_primaryPositionName', 'label_teamId',\n",
        "       'label_status', 'battingOrder', 'gamesPlayedBatting', 'flyOuts',\n",
        "       'groundOuts', 'runsScored', 'doubles', 'triples', 'homeRuns',\n",
        "       'strikeOuts', 'baseOnBalls', 'intentionalWalks', 'hits', 'hitByPitch',\n",
        "       'atBats', 'caughtStealing', 'stolenBases', 'groundIntoDoublePlay',\n",
        "       'groundIntoTriplePlay', 'plateAppearances', 'totalBases', 'rbi',\n",
        "       'leftOnBase', 'sacBunts', 'sacFlies', 'catchersInterference',\n",
        "       'pickoffs', 'gamesPlayedPitching', 'gamesStartedPitching',\n",
        "       'completeGamesPitching', 'shutoutsPitching', 'winsPitching',\n",
        "       'lossesPitching', 'flyOutsPitching', 'airOutsPitching',\n",
        "       'groundOutsPitching', 'runsPitching', 'doublesPitching',\n",
        "       'triplesPitching', 'homeRunsPitching', 'strikeOutsPitching',\n",
        "       'baseOnBallsPitching', 'intentionalWalksPitching', 'hitsPitching',\n",
        "       'hitByPitchPitching', 'atBatsPitching', 'caughtStealingPitching',\n",
        "       'stolenBasesPitching', 'inningsPitched', 'saveOpportunities',\n",
        "       'earnedRuns', 'battersFaced', 'outsPitching', 'pitchesThrown', 'balls',\n",
        "       'strikes', 'hitBatsmen', 'balks', 'wildPitches', 'pickoffsPitching',\n",
        "       'rbiPitching', 'gamesFinishedPitching', 'inheritedRunners',\n",
        "       'inheritedRunnersScored', 'catchersInterferencePitching',\n",
        "       'sacBuntsPitching', 'sacFliesPitching', 'saves', 'holds', 'blownSaves',\n",
        "       'assists', 'putOuts', 'errors', 'chances','target4_mean',\"gameType\",\"awardName\",\"divisionId\",\n",
        " 'target4_median',\n",
        " 'target4_std',\n",
        " 'target4_min',\n",
        " 'target4_max',\n",
        " 'target4_prob',\"divisionRank\"]"
      ],
      "id": "greenhouse-plenty",
      "execution_count": 184,
      "outputs": []
    },
    {
      "cell_type": "code",
      "metadata": {
        "id": "o5kOLakMa8f8"
      },
      "source": [
        "# creat dataset\n",
        "train = targets[targets_cols].merge(players[players_cols], on=['playerId'], how='left')\n",
        "train = train.merge(rosters[rosters_cols], on=['playerId', 'date'], how='left')\n",
        "train = train.merge(scores[scores_cols], on=['playerId', 'date'], how='left')\n",
        "train = train.merge(games[games_cols], on=[\"gamePk\"], how=\"left\")\n",
        "train = train.merge(playertwitter[playertwitter_cols], on=['playerId', 'date'], how='left')\n",
        "#train = train.merge(events[events_cols], on=['gamePk', 'date'], how='left')\n",
        "train = train.merge(awards2[awards_cols], on=['playerId'], how='left')\n",
        "train = train.merge(player_target_stats, how='inner', left_on=[\"playerId\"],right_on=[\"playerId\"])\n",
        "train = train.merge(standings[standings_cols], on=['date',\"teamId\"], how='left')\n",
        "train = train.merge(standings[standings_cols], on=['date',\"teamId\"], how='left')"
      ],
      "id": "o5kOLakMa8f8",
      "execution_count": 185,
      "outputs": []
    },
    {
      "cell_type": "code",
      "metadata": {
        "id": "RMlfcRj3a4G7"
      },
      "source": [
        "train[\"ongame\"] = np.where(train[\"gamePk\"].isnull() == 1,0,1)\n",
        "train[\"ongame\"].unique()\n",
        "train[\"ishome\"] = \"\"\n",
        "train[\"ishome\"] = np.where(train[\"teamId\"]==train[\"homeId\"],2,train[\"ongame\"])\n",
        "train[\"winorlose\"] = np.where(train[\"teamId\"]==train[\"homeId\"],train[\"homeWinner\"],train[\"awayWinner\"])\n",
        "train[\"winorlose\"] = train[\"winorlose\"].fillna(2.0).astype(int)\n",
        "train[\"winorlose\"].unique()\n",
        "train[\"score\"] = np.where(train[\"teamId\"]==train[\"homeId\"],train[\"homeScore\"],train[\"awayScore\"])\n",
        "#train[\"bestmoment\"] =np.where(train[\"playerId\"] == 543333,1,0 )\n",
        "\n",
        "#\"bestmoment\",\"wsmvp\",\n",
        "train[\"divisionRank\"] = train[\"divisionRank\"].fillna(7.0).astype(int)\n",
        "train[\"divisionLeader\"] = train[\"divisionLeader\"].fillna(-1.0).astype(int)\n",
        "train[\"wildCardLeader\"] = np.where(train[\"wildCardLeader\"]==\"True\",1,0)\n",
        "train[\"leagueRank\"]  = train[\"leagueRank\"].fillna(-1.0).astype(int)"
      ],
      "id": "RMlfcRj3a4G7",
      "execution_count": 186,
      "outputs": []
    },
    {
      "cell_type": "code",
      "metadata": {
        "id": "i25cXSOyW4vF",
        "colab": {
          "base_uri": "https://localhost:8080/"
        },
        "outputId": "56307a6e-56e7-49f3-b5f5-5a1751847dde"
      },
      "source": [
        "train[\"pddate\"] = pd.to_datetime(train['gameDate'],format='%Y-%m-%d')\n",
        "\n",
        "train[\"youbi\"] = train[\"pddate\"].dt.dayofweek\n",
        "train[\"youbi\"].unique()"
      ],
      "id": "i25cXSOyW4vF",
      "execution_count": 190,
      "outputs": [
        {
          "output_type": "execute_result",
          "data": {
            "text/plain": [
              "array([nan,  3.,  4.,  5.,  6.,  0.,  1.,  2.])"
            ]
          },
          "metadata": {
            "tags": []
          },
          "execution_count": 190
        }
      ]
    },
    {
      "cell_type": "code",
      "metadata": {
        "colab": {
          "base_uri": "https://localhost:8080/"
        },
        "id": "9gbjxpvlZZ3o",
        "outputId": "d0c6e81a-d206-4df9-ef35-2a691a761252"
      },
      "source": [
        "train[\"youbi\"].isnull().sum()"
      ],
      "id": "9gbjxpvlZZ3o",
      "execution_count": 191,
      "outputs": [
        {
          "output_type": "execute_result",
          "data": {
            "text/plain": [
              "1844643"
            ]
          },
          "metadata": {
            "tags": []
          },
          "execution_count": 191
        }
      ]
    },
    {
      "cell_type": "code",
      "metadata": {
        "id": "u1N_zCZC-FJ4"
      },
      "source": [
        "train[[\"youbi\",\"date\"]].to_csv(\"/content/drive/MyDrive/mlb/input/youbi.csv\")"
      ],
      "id": "u1N_zCZC-FJ4",
      "execution_count": 160,
      "outputs": []
    },
    {
      "cell_type": "code",
      "metadata": {
        "id": "apparent-aircraft"
      },
      "source": [
        "\n",
        "\n",
        "# label encoding\n",
        "player2num = {c: i for i, c in enumerate(train['playerId'].unique())}\n",
        "position2num = {c: i for i, c in enumerate(train['primaryPositionName'].unique())}\n",
        "teamid2num = {c: i for i, c in enumerate(train['teamId'].unique())}\n",
        "status2num = {c: i for i, c in enumerate(train['status'].unique())}\n",
        "daynight2num = {c: i for i, c in enumerate(train['dayNight'].unique())}\n",
        "seriesDescription2num = {c: i for i, c in enumerate(train['seriesDescription'].unique())}\n",
        "gameType2num = {c: i for i, c in enumerate(train['gameType'].unique())}\n",
        "#awardName2num = {c: i for i, c in enumerate(train['awardName'].unique())}\n",
        "train['label_playerId'] = train['playerId'].map(player2num)\n",
        "train['label_primaryPositionName'] = train['primaryPositionName'].map(position2num)\n",
        "train['label_teamId'] = train['teamId'].map(teamid2num)\n",
        "train['label_status'] = train['status'].map(status2num)\n",
        "train[\"label_daynight\"] = train['dayNight'].map(daynight2num)\n",
        "train[\"label_seriesDescription\"] = train[\"seriesDescription\"].map(seriesDescription2num)\n",
        "train[\"gameType\"] = train[\"gameType\"].map(gameType2num)\n",
        "#train[\"awardName\"] = train[\"awardName\"].map(awardName2num)\n"
      ],
      "id": "apparent-aircraft",
      "execution_count": 161,
      "outputs": []
    },
    {
      "cell_type": "code",
      "metadata": {
        "id": "jZqfnS0mnn8h"
      },
      "source": [
        "df[\"gameDate\"]"
      ],
      "id": "jZqfnS0mnn8h",
      "execution_count": 161,
      "outputs": []
    },
    {
      "cell_type": "code",
      "metadata": {
        "id": "OEO0PeWL-yKd"
      },
      "source": [
        "#make feature\n"
      ],
      "id": "OEO0PeWL-yKd",
      "execution_count": 162,
      "outputs": []
    },
    {
      "cell_type": "code",
      "metadata": {
        "colab": {
          "base_uri": "https://localhost:8080/",
          "height": 52
        },
        "id": "hc7ZhiVLZnc9",
        "outputId": "cb8fc4d4-4f07-49f8-e5b4-b69d34f07e57"
      },
      "source": [
        "train_X1 = train[feature_cols1]\n",
        "train_X2 = train[feature_cols2]\n",
        "train_X3 = train[feature_cols3]\n",
        "train_X4 = train[feature_cols4]\n",
        "\n",
        "\"\"\"train_data = [train_X1,train_X2,train_X3,train_X4]\n",
        "\n",
        "remove1 = []\n",
        "remove2 = []\n",
        "remove3 = []\n",
        "remove4 = []\n",
        "remove_col = [remove1,remove2,remove3,remove4]\"\"\"\n",
        "\n",
        "train_y = train[['target1', 'target2', 'target3', 'target4']]\n",
        "\"\"\"\n",
        "for i in range(len(train_data)):\n",
        "  for col in train_data[i].columns:\n",
        "    if train_data[i][col].std() == 0:\n",
        "        remove_col[i].append(col)\n",
        "        train_data[i].drop(remove_col[i], axis=1, inplace=True) \n",
        "\"\"\""
      ],
      "id": "hc7ZhiVLZnc9",
      "execution_count": 163,
      "outputs": [
        {
          "output_type": "execute_result",
          "data": {
            "application/vnd.google.colaboratory.intrinsic+json": {
              "type": "string"
            },
            "text/plain": [
              "'\\nfor i in range(len(train_data)):\\n  for col in train_data[i].columns:\\n    if train_data[i][col].std() == 0:\\n        remove_col[i].append(col)\\n        train_data[i].drop(remove_col[i], axis=1, inplace=True) \\n'"
            ]
          },
          "metadata": {
            "tags": []
          },
          "execution_count": 163
        }
      ]
    },
    {
      "cell_type": "code",
      "metadata": {
        "id": "4h8DljsoY8co"
      },
      "source": [
        "params1 = {'objective':'mae','reg_alpha': 0.14947461820098767, 'reg_lambda': 0.10185644384043743, 'n_estimators': 3633, 'learning_rate': 0.08046301304430488, 'num_leaves': 674, 'feature_fraction': 0.9101240539122566, 'bagging_fraction': 0.9884451442950513, 'bagging_freq': 8, 'min_child_samples': 51}\n",
        "\n",
        "params2 = {\n",
        " 'objective':'mae',\n",
        " 'reg_alpha': 0.1,\n",
        " 'reg_lambda': 0.1, \n",
        " 'n_estimators': 80,\n",
        " 'learning_rate': 0.1,\n",
        " 'random_state': 42,\n",
        " \"num_leaves\": 22\n",
        "}\n",
        "\n",
        "params4 = {'objective':'mae','reg_alpha': 0.016468100279441976, 'reg_lambda': 0.09128335764019105, 'n_estimators': 9868, 'learning_rate': 0.10528150510326864, 'num_leaves': 157, 'feature_fraction': 0.5419185713426886, 'bagging_fraction': 0.2637405128936662, 'bagging_freq': 19, 'min_child_samples': 71}\n",
        "\n",
        "\"\"\"\n",
        "params = {\n",
        " 'objective':'mae',\n",
        " 'reg_alpha': 0.1,\n",
        " 'reg_lambda': 0.1, \n",
        " 'n_estimators': 10000,\n",
        " 'learning_rate': 0.1,\n",
        " 'random_state': 42,\n",
        " \"num_leaves\": 100\n",
        "}\"\"\""
      ],
      "id": "4h8DljsoY8co",
      "execution_count": 164,
      "outputs": []
    },
    {
      "cell_type": "code",
      "metadata": {
        "id": "expensive-narrative",
        "colab": {
          "base_uri": "https://localhost:8080/"
        },
        "outputId": "fbe3b43d-273a-4fbc-b807-a48ab9306d69"
      },
      "source": [
        "#train.to_csv(\"/content/drive/MyDrive/mlb/script/output/train.csv\")\n",
        "\n",
        "\n",
        "_index = (train['date'] < 20210401)\n",
        "\n",
        "del train\n",
        "gc.collect()\n",
        "\n",
        "\n",
        "x_train1 = train_X1.loc[_index].reset_index(drop=True)\n",
        "y_train = train_y.loc[_index].reset_index(drop=True)\n",
        "x_valid1 = train_X1.loc[~_index].reset_index(drop=True)\n",
        "y_valid = train_y.loc[~_index].reset_index(drop=True)\n",
        "\n",
        "x_train2 = train_X2.loc[_index].reset_index(drop=True)\n",
        "x_valid2 = train_X2.loc[~_index].reset_index(drop=True)\n",
        "x_train3 = train_X3.loc[_index].reset_index(drop=True)\n",
        "x_valid3 = train_X3.loc[~_index].reset_index(drop=True)\n",
        "x_train4 = train_X4.loc[_index].reset_index(drop=True)\n",
        "x_valid4 = train_X4.loc[~_index].reset_index(drop=True)\n",
        "\n",
        "del train_X1,train_X2,train_X3,train_X4\n",
        "gc.collect()"
      ],
      "id": "expensive-narrative",
      "execution_count": 165,
      "outputs": [
        {
          "output_type": "execute_result",
          "data": {
            "text/plain": [
              "0"
            ]
          },
          "metadata": {
            "tags": []
          },
          "execution_count": 165
        }
      ]
    },
    {
      "cell_type": "code",
      "metadata": {
        "colab": {
          "base_uri": "https://localhost:8080/"
        },
        "id": "hollow-siemens",
        "outputId": "75e4e7ab-7d38-4af7-d1b9-70a3fda3f32b"
      },
      "source": [
        "def fit_lgbm(x_train, y_train, x_valid, y_valid, params: dict=None, verbose=100):\n",
        "    oof_pred = np.zeros(len(y_valid), dtype=np.float32)\n",
        "    #model = lgbm.LGBMRegressor(**params)\n",
        "    best_params, tuning_history = {}, []\n",
        "    \n",
        "    lgb_train = lgbm.Dataset(x_train, y_train)\n",
        "    lgb_eval = lgbm.Dataset(x_valid, y_valid, reference=lgb_train)\n",
        "    model = lgbm.train(params, \n",
        "        lgb_train, valid_sets=lgb_eval,  \n",
        "        early_stopping_rounds=100,\n",
        "        num_boost_round=500,\n",
        "        verbose_eval=100,\n",
        "        #verbose=verbose,               \n",
        "        )\n",
        "    oof_pred = model.predict(x_valid)\n",
        "    score = mean_absolute_error(oof_pred, y_valid)\n",
        "    print('mae:', score)\n",
        "    return oof_pred, model, score\n",
        "\n",
        "\n",
        "# training lightgbm\n",
        "params = {\n",
        "    'boosting_type': 'gbdt',\n",
        "    'objective': 'mae',\n",
        "    'metric': \"mae\",\n",
        "    'reg_alpha': 0.1,\n",
        "    'reg_lambda': 0.1, \n",
        "    'learning_rate': 0.1,\n",
        "    \"num_leaves\": 100,\n",
        "    'learning_rate': 0.05,\n",
        "    'feature_fraction': 0.9,\n",
        "    'bagging_fraction': 0.8,\n",
        "    'bagging_freq': 5,\n",
        "    'verbose': 0\n",
        "}\n",
        "\n",
        "oof1, model1, score1 = fit_lgbm(\n",
        "    x_train1, y_train['target1'],\n",
        "    x_valid1, y_valid['target1'],\n",
        "    params1\n",
        ")\n",
        "file = '/content/drive/MyDrive/mlb/script/output/model1.pkl'\n",
        "pickle.dump(model1, open(file, 'wb'))\n",
        "\n",
        "oof2, model2, score2 = fit_lgbm(\n",
        "    x_train2, y_train['target2'],\n",
        "    x_valid2, y_valid['target2'],\n",
        "    params2\n",
        ")\n",
        "file = '/content/drive/MyDrive/mlb/script/output/model2.pkl'\n",
        "pickle.dump(model2, open(file, 'wb'))\n",
        "oof3, model3, score3 = fit_lgbm(\n",
        "    x_train3, y_train['target3'],\n",
        "    x_valid3, y_valid['target3'],\n",
        "    params\n",
        ")\n",
        "file = '/content/drive/MyDrive/mlb/script/output/model3.pkl'\n",
        "pickle.dump(model3, open(file, 'wb'))\n",
        "oof4, model4, score4 = fit_lgbm(\n",
        "    x_train4, y_train['target4'],\n",
        "    x_valid4, y_valid['target4'],\n",
        "    params4\n",
        ")\n",
        "file = '/content/drive/MyDrive/mlb/script/output/model4.pkl'\n",
        "pickle.dump(model4, open(file, 'wb'))\n",
        "score = (score1+score2+score3+score4) / 4\n",
        "print(f'score: {score}')"
      ],
      "id": "hollow-siemens",
      "execution_count": 166,
      "outputs": [
        {
          "output_type": "stream",
          "text": [
            "/usr/local/lib/python3.7/dist-packages/lightgbm/engine.py:118: UserWarning: Found `n_estimators` in params. Will use it instead of argument\n",
            "  warnings.warn(\"Found `{}` in params. Will use it instead of argument\".format(alias))\n"
          ],
          "name": "stderr"
        },
        {
          "output_type": "stream",
          "text": [
            "Training until validation scores don't improve for 100 rounds.\n",
            "[100]\tvalid_0's l1: 0.693506\n",
            "[200]\tvalid_0's l1: 0.688475\n",
            "[300]\tvalid_0's l1: 0.686385\n",
            "[400]\tvalid_0's l1: 0.685342\n",
            "[500]\tvalid_0's l1: 0.683786\n",
            "[600]\tvalid_0's l1: 0.682605\n",
            "[700]\tvalid_0's l1: 0.682316\n",
            "[800]\tvalid_0's l1: 0.682095\n",
            "[900]\tvalid_0's l1: 0.682007\n",
            "Early stopping, best iteration is:\n",
            "[853]\tvalid_0's l1: 0.681929\n",
            "mae: 0.6819292213005095\n"
          ],
          "name": "stdout"
        },
        {
          "output_type": "stream",
          "text": [
            "/usr/local/lib/python3.7/dist-packages/lightgbm/engine.py:118: UserWarning: Found `n_estimators` in params. Will use it instead of argument\n",
            "  warnings.warn(\"Found `{}` in params. Will use it instead of argument\".format(alias))\n"
          ],
          "name": "stderr"
        },
        {
          "output_type": "stream",
          "text": [
            "Training until validation scores don't improve for 100 rounds.\n",
            "Did not meet early stopping. Best iteration is:\n",
            "[76]\tvalid_0's l1: 1.41728\n",
            "mae: 1.417275163352289\n"
          ],
          "name": "stdout"
        },
        {
          "output_type": "stream",
          "text": [
            "/usr/local/lib/python3.7/dist-packages/lightgbm/engine.py:118: UserWarning: Found `n_estimators` in params. Will use it instead of argument\n",
            "  warnings.warn(\"Found `{}` in params. Will use it instead of argument\".format(alias))\n"
          ],
          "name": "stderr"
        },
        {
          "output_type": "stream",
          "text": [
            "Training until validation scores don't improve for 100 rounds.\n",
            "[100]\tvalid_0's l1: 0.551972\n",
            "[200]\tvalid_0's l1: 0.551696\n",
            "[300]\tvalid_0's l1: 0.551518\n",
            "Early stopping, best iteration is:\n",
            "[252]\tvalid_0's l1: 0.551513\n",
            "mae: 0.5515126965244794\n"
          ],
          "name": "stdout"
        },
        {
          "output_type": "stream",
          "text": [
            "/usr/local/lib/python3.7/dist-packages/lightgbm/engine.py:118: UserWarning: Found `n_estimators` in params. Will use it instead of argument\n",
            "  warnings.warn(\"Found `{}` in params. Will use it instead of argument\".format(alias))\n"
          ],
          "name": "stderr"
        },
        {
          "output_type": "stream",
          "text": [
            "Training until validation scores don't improve for 100 rounds.\n",
            "[100]\tvalid_0's l1: 1.12705\n",
            "[200]\tvalid_0's l1: 1.12405\n",
            "[300]\tvalid_0's l1: 1.12364\n",
            "[400]\tvalid_0's l1: 1.12296\n",
            "[500]\tvalid_0's l1: 1.12142\n",
            "[600]\tvalid_0's l1: 1.11929\n",
            "[700]\tvalid_0's l1: 1.11925\n",
            "[800]\tvalid_0's l1: 1.11905\n",
            "Early stopping, best iteration is:\n",
            "[730]\tvalid_0's l1: 1.11893\n",
            "mae: 1.1189314759450308\n",
            "score: 0.9424121392805773\n"
          ],
          "name": "stdout"
        }
      ]
    },
    {
      "cell_type": "code",
      "metadata": {
        "colab": {
          "base_uri": "https://localhost:8080/",
          "height": 1000
        },
        "id": "integral-reducing",
        "outputId": "a4af95e3-da3e-4d5b-bb41-0c381d2ed995"
      },
      "source": [
        "importance = pd.DataFrame(model1.feature_importance(), index=x_train1.columns, columns=['importance'])\n",
        "pd.set_option('display.max_rows', 500)\n",
        "importance"
      ],
      "id": "integral-reducing",
      "execution_count": 167,
      "outputs": [
        {
          "output_type": "execute_result",
          "data": {
            "text/html": [
              "<div>\n",
              "<style scoped>\n",
              "    .dataframe tbody tr th:only-of-type {\n",
              "        vertical-align: middle;\n",
              "    }\n",
              "\n",
              "    .dataframe tbody tr th {\n",
              "        vertical-align: top;\n",
              "    }\n",
              "\n",
              "    .dataframe thead th {\n",
              "        text-align: right;\n",
              "    }\n",
              "</style>\n",
              "<table border=\"1\" class=\"dataframe\">\n",
              "  <thead>\n",
              "    <tr style=\"text-align: right;\">\n",
              "      <th></th>\n",
              "      <th>importance</th>\n",
              "    </tr>\n",
              "  </thead>\n",
              "  <tbody>\n",
              "    <tr>\n",
              "      <th>label_playerId</th>\n",
              "      <td>330891</td>\n",
              "    </tr>\n",
              "    <tr>\n",
              "      <th>label_primaryPositionName</th>\n",
              "      <td>72948</td>\n",
              "    </tr>\n",
              "    <tr>\n",
              "      <th>label_teamId</th>\n",
              "      <td>86701</td>\n",
              "    </tr>\n",
              "    <tr>\n",
              "      <th>label_status</th>\n",
              "      <td>19575</td>\n",
              "    </tr>\n",
              "    <tr>\n",
              "      <th>battingOrder</th>\n",
              "      <td>3518</td>\n",
              "    </tr>\n",
              "    <tr>\n",
              "      <th>gamesPlayedBatting</th>\n",
              "      <td>44</td>\n",
              "    </tr>\n",
              "    <tr>\n",
              "      <th>flyOuts</th>\n",
              "      <td>435</td>\n",
              "    </tr>\n",
              "    <tr>\n",
              "      <th>groundOuts</th>\n",
              "      <td>726</td>\n",
              "    </tr>\n",
              "    <tr>\n",
              "      <th>runsScored</th>\n",
              "      <td>448</td>\n",
              "    </tr>\n",
              "    <tr>\n",
              "      <th>doubles</th>\n",
              "      <td>211</td>\n",
              "    </tr>\n",
              "    <tr>\n",
              "      <th>triples</th>\n",
              "      <td>39</td>\n",
              "    </tr>\n",
              "    <tr>\n",
              "      <th>homeRuns</th>\n",
              "      <td>214</td>\n",
              "    </tr>\n",
              "    <tr>\n",
              "      <th>strikeOuts</th>\n",
              "      <td>738</td>\n",
              "    </tr>\n",
              "    <tr>\n",
              "      <th>baseOnBalls</th>\n",
              "      <td>356</td>\n",
              "    </tr>\n",
              "    <tr>\n",
              "      <th>intentionalWalks</th>\n",
              "      <td>33</td>\n",
              "    </tr>\n",
              "    <tr>\n",
              "      <th>hits</th>\n",
              "      <td>586</td>\n",
              "    </tr>\n",
              "    <tr>\n",
              "      <th>hitByPitch</th>\n",
              "      <td>71</td>\n",
              "    </tr>\n",
              "    <tr>\n",
              "      <th>atBats</th>\n",
              "      <td>823</td>\n",
              "    </tr>\n",
              "    <tr>\n",
              "      <th>caughtStealing</th>\n",
              "      <td>31</td>\n",
              "    </tr>\n",
              "    <tr>\n",
              "      <th>stolenBases</th>\n",
              "      <td>148</td>\n",
              "    </tr>\n",
              "    <tr>\n",
              "      <th>groundIntoDoublePlay</th>\n",
              "      <td>135</td>\n",
              "    </tr>\n",
              "    <tr>\n",
              "      <th>groundIntoTriplePlay</th>\n",
              "      <td>0</td>\n",
              "    </tr>\n",
              "    <tr>\n",
              "      <th>plateAppearances</th>\n",
              "      <td>1013</td>\n",
              "    </tr>\n",
              "    <tr>\n",
              "      <th>totalBases</th>\n",
              "      <td>734</td>\n",
              "    </tr>\n",
              "    <tr>\n",
              "      <th>rbi</th>\n",
              "      <td>894</td>\n",
              "    </tr>\n",
              "    <tr>\n",
              "      <th>leftOnBase</th>\n",
              "      <td>965</td>\n",
              "    </tr>\n",
              "    <tr>\n",
              "      <th>sacBunts</th>\n",
              "      <td>18</td>\n",
              "    </tr>\n",
              "    <tr>\n",
              "      <th>sacFlies</th>\n",
              "      <td>89</td>\n",
              "    </tr>\n",
              "    <tr>\n",
              "      <th>catchersInterference</th>\n",
              "      <td>0</td>\n",
              "    </tr>\n",
              "    <tr>\n",
              "      <th>pickoffs</th>\n",
              "      <td>9</td>\n",
              "    </tr>\n",
              "    <tr>\n",
              "      <th>gamesPlayedPitching</th>\n",
              "      <td>18</td>\n",
              "    </tr>\n",
              "    <tr>\n",
              "      <th>gamesStartedPitching</th>\n",
              "      <td>179</td>\n",
              "    </tr>\n",
              "    <tr>\n",
              "      <th>completeGamesPitching</th>\n",
              "      <td>2</td>\n",
              "    </tr>\n",
              "    <tr>\n",
              "      <th>shutoutsPitching</th>\n",
              "      <td>3</td>\n",
              "    </tr>\n",
              "    <tr>\n",
              "      <th>winsPitching</th>\n",
              "      <td>194</td>\n",
              "    </tr>\n",
              "    <tr>\n",
              "      <th>lossesPitching</th>\n",
              "      <td>191</td>\n",
              "    </tr>\n",
              "    <tr>\n",
              "      <th>flyOutsPitching</th>\n",
              "      <td>382</td>\n",
              "    </tr>\n",
              "    <tr>\n",
              "      <th>airOutsPitching</th>\n",
              "      <td>587</td>\n",
              "    </tr>\n",
              "    <tr>\n",
              "      <th>groundOutsPitching</th>\n",
              "      <td>572</td>\n",
              "    </tr>\n",
              "    <tr>\n",
              "      <th>runsPitching</th>\n",
              "      <td>440</td>\n",
              "    </tr>\n",
              "    <tr>\n",
              "      <th>doublesPitching</th>\n",
              "      <td>222</td>\n",
              "    </tr>\n",
              "    <tr>\n",
              "      <th>triplesPitching</th>\n",
              "      <td>27</td>\n",
              "    </tr>\n",
              "    <tr>\n",
              "      <th>homeRunsPitching</th>\n",
              "      <td>236</td>\n",
              "    </tr>\n",
              "    <tr>\n",
              "      <th>strikeOutsPitching</th>\n",
              "      <td>786</td>\n",
              "    </tr>\n",
              "    <tr>\n",
              "      <th>baseOnBallsPitching</th>\n",
              "      <td>341</td>\n",
              "    </tr>\n",
              "    <tr>\n",
              "      <th>intentionalWalksPitching</th>\n",
              "      <td>47</td>\n",
              "    </tr>\n",
              "    <tr>\n",
              "      <th>hitsPitching</th>\n",
              "      <td>513</td>\n",
              "    </tr>\n",
              "    <tr>\n",
              "      <th>hitByPitchPitching</th>\n",
              "      <td>68</td>\n",
              "    </tr>\n",
              "    <tr>\n",
              "      <th>atBatsPitching</th>\n",
              "      <td>585</td>\n",
              "    </tr>\n",
              "    <tr>\n",
              "      <th>caughtStealingPitching</th>\n",
              "      <td>35</td>\n",
              "    </tr>\n",
              "    <tr>\n",
              "      <th>stolenBasesPitching</th>\n",
              "      <td>96</td>\n",
              "    </tr>\n",
              "    <tr>\n",
              "      <th>inningsPitched</th>\n",
              "      <td>748</td>\n",
              "    </tr>\n",
              "    <tr>\n",
              "      <th>saveOpportunities</th>\n",
              "      <td>120</td>\n",
              "    </tr>\n",
              "    <tr>\n",
              "      <th>earnedRuns</th>\n",
              "      <td>342</td>\n",
              "    </tr>\n",
              "    <tr>\n",
              "      <th>battersFaced</th>\n",
              "      <td>560</td>\n",
              "    </tr>\n",
              "    <tr>\n",
              "      <th>outsPitching</th>\n",
              "      <td>48</td>\n",
              "    </tr>\n",
              "    <tr>\n",
              "      <th>pitchesThrown</th>\n",
              "      <td>1235</td>\n",
              "    </tr>\n",
              "    <tr>\n",
              "      <th>balls</th>\n",
              "      <td>1119</td>\n",
              "    </tr>\n",
              "    <tr>\n",
              "      <th>strikes</th>\n",
              "      <td>1117</td>\n",
              "    </tr>\n",
              "    <tr>\n",
              "      <th>hitBatsmen</th>\n",
              "      <td>6</td>\n",
              "    </tr>\n",
              "    <tr>\n",
              "      <th>balks</th>\n",
              "      <td>5</td>\n",
              "    </tr>\n",
              "    <tr>\n",
              "      <th>wildPitches</th>\n",
              "      <td>65</td>\n",
              "    </tr>\n",
              "    <tr>\n",
              "      <th>pickoffsPitching</th>\n",
              "      <td>17</td>\n",
              "    </tr>\n",
              "    <tr>\n",
              "      <th>rbiPitching</th>\n",
              "      <td>351</td>\n",
              "    </tr>\n",
              "    <tr>\n",
              "      <th>gamesFinishedPitching</th>\n",
              "      <td>174</td>\n",
              "    </tr>\n",
              "    <tr>\n",
              "      <th>inheritedRunners</th>\n",
              "      <td>253</td>\n",
              "    </tr>\n",
              "    <tr>\n",
              "      <th>inheritedRunnersScored</th>\n",
              "      <td>113</td>\n",
              "    </tr>\n",
              "    <tr>\n",
              "      <th>catchersInterferencePitching</th>\n",
              "      <td>0</td>\n",
              "    </tr>\n",
              "    <tr>\n",
              "      <th>sacBuntsPitching</th>\n",
              "      <td>19</td>\n",
              "    </tr>\n",
              "    <tr>\n",
              "      <th>sacFliesPitching</th>\n",
              "      <td>52</td>\n",
              "    </tr>\n",
              "    <tr>\n",
              "      <th>saves</th>\n",
              "      <td>261</td>\n",
              "    </tr>\n",
              "    <tr>\n",
              "      <th>holds</th>\n",
              "      <td>145</td>\n",
              "    </tr>\n",
              "    <tr>\n",
              "      <th>blownSaves</th>\n",
              "      <td>49</td>\n",
              "    </tr>\n",
              "    <tr>\n",
              "      <th>divisionId</th>\n",
              "      <td>32525</td>\n",
              "    </tr>\n",
              "    <tr>\n",
              "      <th>assists</th>\n",
              "      <td>897</td>\n",
              "    </tr>\n",
              "    <tr>\n",
              "      <th>putOuts</th>\n",
              "      <td>1287</td>\n",
              "    </tr>\n",
              "    <tr>\n",
              "      <th>errors</th>\n",
              "      <td>120</td>\n",
              "    </tr>\n",
              "    <tr>\n",
              "      <th>chances</th>\n",
              "      <td>1610</td>\n",
              "    </tr>\n",
              "    <tr>\n",
              "      <th>ishome</th>\n",
              "      <td>689</td>\n",
              "    </tr>\n",
              "    <tr>\n",
              "      <th>label_seriesDescription</th>\n",
              "      <td>257</td>\n",
              "    </tr>\n",
              "    <tr>\n",
              "      <th>gamesInSeries</th>\n",
              "      <td>1319</td>\n",
              "    </tr>\n",
              "    <tr>\n",
              "      <th>label_daynight</th>\n",
              "      <td>642</td>\n",
              "    </tr>\n",
              "    <tr>\n",
              "      <th>gameType</th>\n",
              "      <td>7</td>\n",
              "    </tr>\n",
              "  </tbody>\n",
              "</table>\n",
              "</div>"
            ],
            "text/plain": [
              "                              importance\n",
              "label_playerId                    330891\n",
              "label_primaryPositionName          72948\n",
              "label_teamId                       86701\n",
              "label_status                       19575\n",
              "battingOrder                        3518\n",
              "gamesPlayedBatting                    44\n",
              "flyOuts                              435\n",
              "groundOuts                           726\n",
              "runsScored                           448\n",
              "doubles                              211\n",
              "triples                               39\n",
              "homeRuns                             214\n",
              "strikeOuts                           738\n",
              "baseOnBalls                          356\n",
              "intentionalWalks                      33\n",
              "hits                                 586\n",
              "hitByPitch                            71\n",
              "atBats                               823\n",
              "caughtStealing                        31\n",
              "stolenBases                          148\n",
              "groundIntoDoublePlay                 135\n",
              "groundIntoTriplePlay                   0\n",
              "plateAppearances                    1013\n",
              "totalBases                           734\n",
              "rbi                                  894\n",
              "leftOnBase                           965\n",
              "sacBunts                              18\n",
              "sacFlies                              89\n",
              "catchersInterference                   0\n",
              "pickoffs                               9\n",
              "gamesPlayedPitching                   18\n",
              "gamesStartedPitching                 179\n",
              "completeGamesPitching                  2\n",
              "shutoutsPitching                       3\n",
              "winsPitching                         194\n",
              "lossesPitching                       191\n",
              "flyOutsPitching                      382\n",
              "airOutsPitching                      587\n",
              "groundOutsPitching                   572\n",
              "runsPitching                         440\n",
              "doublesPitching                      222\n",
              "triplesPitching                       27\n",
              "homeRunsPitching                     236\n",
              "strikeOutsPitching                   786\n",
              "baseOnBallsPitching                  341\n",
              "intentionalWalksPitching              47\n",
              "hitsPitching                         513\n",
              "hitByPitchPitching                    68\n",
              "atBatsPitching                       585\n",
              "caughtStealingPitching                35\n",
              "stolenBasesPitching                   96\n",
              "inningsPitched                       748\n",
              "saveOpportunities                    120\n",
              "earnedRuns                           342\n",
              "battersFaced                         560\n",
              "outsPitching                          48\n",
              "pitchesThrown                       1235\n",
              "balls                               1119\n",
              "strikes                             1117\n",
              "hitBatsmen                             6\n",
              "balks                                  5\n",
              "wildPitches                           65\n",
              "pickoffsPitching                      17\n",
              "rbiPitching                          351\n",
              "gamesFinishedPitching                174\n",
              "inheritedRunners                     253\n",
              "inheritedRunnersScored               113\n",
              "catchersInterferencePitching           0\n",
              "sacBuntsPitching                      19\n",
              "sacFliesPitching                      52\n",
              "saves                                261\n",
              "holds                                145\n",
              "blownSaves                            49\n",
              "divisionId                         32525\n",
              "assists                              897\n",
              "putOuts                             1287\n",
              "errors                               120\n",
              "chances                             1610\n",
              "ishome                               689\n",
              "label_seriesDescription              257\n",
              "gamesInSeries                       1319\n",
              "label_daynight                       642\n",
              "gameType                               7"
            ]
          },
          "metadata": {
            "tags": []
          },
          "execution_count": 167
        }
      ]
    },
    {
      "cell_type": "code",
      "metadata": {
        "id": "eLOIAnh21Ws0",
        "colab": {
          "base_uri": "https://localhost:8080/"
        },
        "outputId": "05786757-2d74-4a3f-f29e-5bd8921f1d5b"
      },
      "source": [
        "model1.params"
      ],
      "id": "eLOIAnh21Ws0",
      "execution_count": 168,
      "outputs": [
        {
          "output_type": "execute_result",
          "data": {
            "text/plain": [
              "{'bagging_fraction': 0.9884451442950513,\n",
              " 'bagging_freq': 8,\n",
              " 'feature_fraction': 0.9101240539122566,\n",
              " 'learning_rate': 0.08046301304430488,\n",
              " 'min_child_samples': 51,\n",
              " 'num_leaves': 674,\n",
              " 'objective': 'mae',\n",
              " 'reg_alpha': 0.14947461820098767,\n",
              " 'reg_lambda': 0.10185644384043743}"
            ]
          },
          "metadata": {
            "tags": []
          },
          "execution_count": 168
        }
      ]
    },
    {
      "cell_type": "code",
      "metadata": {
        "id": "QPXxI7kqfuI0",
        "colab": {
          "base_uri": "https://localhost:8080/"
        },
        "outputId": "83aa8d72-6883-4915-c738-c7b0cd9192c5"
      },
      "source": [
        "model2.params"
      ],
      "id": "QPXxI7kqfuI0",
      "execution_count": 169,
      "outputs": [
        {
          "output_type": "execute_result",
          "data": {
            "text/plain": [
              "{'learning_rate': 0.1,\n",
              " 'num_leaves': 22,\n",
              " 'objective': 'mae',\n",
              " 'random_state': 42,\n",
              " 'reg_alpha': 0.1,\n",
              " 'reg_lambda': 0.1}"
            ]
          },
          "metadata": {
            "tags": []
          },
          "execution_count": 169
        }
      ]
    },
    {
      "cell_type": "code",
      "metadata": {
        "id": "e5aJEQnYfvXf",
        "colab": {
          "base_uri": "https://localhost:8080/"
        },
        "outputId": "89f72e37-8aa3-4080-fe36-cba6187fe027"
      },
      "source": [
        "model3.params"
      ],
      "id": "e5aJEQnYfvXf",
      "execution_count": 170,
      "outputs": [
        {
          "output_type": "execute_result",
          "data": {
            "text/plain": [
              "{'learning_rate': 0.1,\n",
              " 'num_leaves': 100,\n",
              " 'objective': 'mae',\n",
              " 'random_state': 42,\n",
              " 'reg_alpha': 0.1,\n",
              " 'reg_lambda': 0.1}"
            ]
          },
          "metadata": {
            "tags": []
          },
          "execution_count": 170
        }
      ]
    },
    {
      "cell_type": "code",
      "metadata": {
        "id": "6tPi5bXOfw_N",
        "colab": {
          "base_uri": "https://localhost:8080/"
        },
        "outputId": "3e084c6c-6ef0-4f7e-867a-110ae9ce5f2a"
      },
      "source": [
        "model4.params"
      ],
      "id": "6tPi5bXOfw_N",
      "execution_count": 171,
      "outputs": [
        {
          "output_type": "execute_result",
          "data": {
            "text/plain": [
              "{'bagging_fraction': 0.2637405128936662,\n",
              " 'bagging_freq': 19,\n",
              " 'feature_fraction': 0.5419185713426886,\n",
              " 'learning_rate': 0.10528150510326864,\n",
              " 'min_child_samples': 71,\n",
              " 'num_leaves': 157,\n",
              " 'objective': 'mae',\n",
              " 'reg_alpha': 0.016468100279441976,\n",
              " 'reg_lambda': 0.09128335764019105}"
            ]
          },
          "metadata": {
            "tags": []
          },
          "execution_count": 171
        }
      ]
    },
    {
      "cell_type": "markdown",
      "metadata": {
        "id": "magnetic-anaheim"
      },
      "source": [
        "## Inference"
      ],
      "id": "magnetic-anaheim"
    },
    {
      "cell_type": "code",
      "metadata": {
        "colab": {
          "base_uri": "https://localhost:8080/",
          "height": 103
        },
        "id": "loose-health",
        "outputId": "d0f5ebab-18a0-478d-e60b-6bcd0579fe49"
      },
      "source": [
        "\"\"\"players_cols = ['playerId', 'primaryPositionName']\n",
        "rosters_cols = ['playerId', 'teamId', 'status']\n",
        "scores_cols = ['playerId', 'battingOrder', 'gamesPlayedBatting', 'flyOuts',\n",
        "       'groundOuts', 'runsScored', 'doubles', 'triples', 'homeRuns',\n",
        "       'strikeOuts', 'baseOnBalls', 'intentionalWalks', 'hits', 'hitByPitch',\n",
        "       'atBats', 'caughtStealing', 'stolenBases', 'groundIntoDoublePlay',\n",
        "       'groundIntoTriplePlay', 'plateAppearances', 'totalBases', 'rbi',\n",
        "       'leftOnBase', 'sacBunts', 'sacFlies', 'catchersInterference',\n",
        "       'pickoffs', 'gamesPlayedPitching', 'gamesStartedPitching',\n",
        "       'completeGamesPitching', 'shutoutsPitching', 'winsPitching',\n",
        "       'lossesPitching', 'flyOutsPitching', 'airOutsPitching',\n",
        "       'groundOutsPitching', 'runsPitching', 'doublesPitching',\n",
        "       'triplesPitching', 'homeRunsPitching', 'strikeOutsPitching',\n",
        "       'baseOnBallsPitching', 'intentionalWalksPitching', 'hitsPitching',\n",
        "       'hitByPitchPitching', 'atBatsPitching', 'caughtStealingPitching',\n",
        "       'stolenBasesPitching', 'inningsPitched', 'saveOpportunities',\n",
        "       'earnedRuns', 'battersFaced', 'outsPitching', 'pitchesThrown', 'balls',\n",
        "       'strikes', 'hitBatsmen', 'balks', 'wildPitches', 'pickoffsPitching',\n",
        "       'rbiPitching', 'gamesFinishedPitching', 'inheritedRunners',\n",
        "       'inheritedRunnersScored', 'catchersInterferencePitching',\n",
        "       'sacBuntsPitching', 'sacFliesPitching', 'saves', 'holds', 'blownSaves',\n",
        "       'assists', 'putOuts', 'errors', 'chances']\n",
        "\n",
        "null = np.nan\n",
        "true = True\n",
        "false = False\n",
        "\n",
        "env = mlb.make_env() # initialize the environment\n",
        "iter_test = env.iter_test() # iterator which loops over each date in test set\n",
        "\n",
        "for (test_df, sample_prediction_df) in iter_test: # make predictions here\n",
        "    \n",
        "    sample_prediction_df = sample_prediction_df.reset_index(drop=True)\n",
        "    \n",
        "    # creat dataset\n",
        "    sample_prediction_df['playerId'] = sample_prediction_df['date_playerId']\\\n",
        "                                        .map(lambda x: int(x.split('_')[1]))\n",
        "    # Dealing with missing values\n",
        "    if test_df['rosters'].iloc[0] == test_df['rosters'].iloc[0]:\n",
        "        test_rosters = pd.DataFrame(eval(test_df['rosters'].iloc[0]))\n",
        "    else:\n",
        "        test_rosters = pd.DataFrame({'playerId': sample_prediction_df['playerId']})\n",
        "        for col in rosters.columns:\n",
        "            if col == 'playerId': continue\n",
        "            test_rosters[col] = np.nan\n",
        "            \n",
        "    if test_df['playerBoxScores'].iloc[0] == test_df['playerBoxScores'].iloc[0]:\n",
        "        test_scores = pd.DataFrame(eval(test_df['playerBoxScores'].iloc[0]))\n",
        "    else:\n",
        "        test_scores = pd.DataFrame({'playerId': sample_prediction_df['playerId']})\n",
        "        for col in scores.columns:\n",
        "            if col == 'playerId': continue\n",
        "            test_scores[col] = np.nan\n",
        "    test_scores = test_scores.groupby('playerId').sum().reset_index()\n",
        "    test = sample_prediction_df[['playerId']].copy()\n",
        "    test = test.merge(players[players_cols], on='playerId', how='left')\n",
        "    test = test.merge(test_rosters[rosters_cols], on='playerId', how='left')\n",
        "    test = test.merge(test_scores[scores_cols], on='playerId', how='left')\n",
        "\n",
        "    test['label_playerId'] = test['playerId'].map(player2num)\n",
        "    test['label_primaryPositionName'] = test['primaryPositionName'].map(position2num)\n",
        "    test['label_teamId'] = test['teamId'].map(teamid2num)\n",
        "    test['label_status'] = test['status'].map(status2num)\n",
        "    \n",
        "    test_X = test[feature_cols]\n",
        "    \n",
        "    # predict\n",
        "    pred1 = model1.predict(test_X)\n",
        "    pred2 = model2.predict(test_X)\n",
        "    pred3 = model3.predict(test_X)\n",
        "    pred4 = model4.predict(test_X)\n",
        "    \n",
        "    # merge submission\n",
        "    sample_prediction_df['target1'] = np.clip(pred1, 0, 100)\n",
        "    sample_prediction_df['target2'] = np.clip(pred2, 0, 100)\n",
        "    sample_prediction_df['target3'] = np.clip(pred3, 0, 100)\n",
        "    sample_prediction_df['target4'] = np.clip(pred4, 0, 100)\n",
        "    sample_prediction_df = sample_prediction_df.fillna(0.)\n",
        "    del sample_prediction_df['playerId']\n",
        "    \n",
        "    env.predict(sample_prediction_df)\"\"\""
      ],
      "id": "loose-health",
      "execution_count": 172,
      "outputs": [
        {
          "output_type": "execute_result",
          "data": {
            "application/vnd.google.colaboratory.intrinsic+json": {
              "type": "string"
            },
            "text/plain": [
              "\"players_cols = ['playerId', 'primaryPositionName']\\nrosters_cols = ['playerId', 'teamId', 'status']\\nscores_cols = ['playerId', 'battingOrder', 'gamesPlayedBatting', 'flyOuts',\\n       'groundOuts', 'runsScored', 'doubles', 'triples', 'homeRuns',\\n       'strikeOuts', 'baseOnBalls', 'intentionalWalks', 'hits', 'hitByPitch',\\n       'atBats', 'caughtStealing', 'stolenBases', 'groundIntoDoublePlay',\\n       'groundIntoTriplePlay', 'plateAppearances', 'totalBases', 'rbi',\\n       'leftOnBase', 'sacBunts', 'sacFlies', 'catchersInterference',\\n       'pickoffs', 'gamesPlayedPitching', 'gamesStartedPitching',\\n       'completeGamesPitching', 'shutoutsPitching', 'winsPitching',\\n       'lossesPitching', 'flyOutsPitching', 'airOutsPitching',\\n       'groundOutsPitching', 'runsPitching', 'doublesPitching',\\n       'triplesPitching', 'homeRunsPitching', 'strikeOutsPitching',\\n       'baseOnBallsPitching', 'intentionalWalksPitching', 'hitsPitching',\\n       'hitByPitchPitching', 'atBatsPitching', 'caughtStealingPitching',\\n       'stolenBasesPitching', 'inningsPitched', 'saveOpportunities',\\n       'earnedRuns', 'battersFaced', 'outsPitching', 'pitchesThrown', 'balls',\\n       'strikes', 'hitBatsmen', 'balks', 'wildPitches', 'pickoffsPitching',\\n       'rbiPitching', 'gamesFinishedPitching', 'inheritedRunners',\\n       'inheritedRunnersScored', 'catchersInterferencePitching',\\n       'sacBuntsPitching', 'sacFliesPitching', 'saves', 'holds', 'blownSaves',\\n       'assists', 'putOuts', 'errors', 'chances']\\n\\nnull = np.nan\\ntrue = True\\nfalse = False\\n\\nenv = mlb.make_env() # initialize the environment\\niter_test = env.iter_test() # iterator which loops over each date in test set\\n\\nfor (test_df, sample_prediction_df) in iter_test: # make predictions here\\n    \\n    sample_prediction_df = sample_prediction_df.reset_index(drop=True)\\n    \\n    # creat dataset\\n    sample_prediction_df['playerId'] = sample_prediction_df['date_playerId']                                        .map(lambda x: int(x.split('_')[1]))\\n    # Dealing with missing values\\n    if test_df['rosters'].iloc[0] == test_df['rosters'].iloc[0]:\\n        test_rosters = pd.DataFrame(eval(test_df['rosters'].iloc[0]))\\n    else:\\n        test_rosters = pd.DataFrame({'playerId': sample_prediction_df['playerId']})\\n        for col in rosters.columns:\\n            if col == 'playerId': continue\\n            test_rosters[col] = np.nan\\n            \\n    if test_df['playerBoxScores'].iloc[0] == test_df['playerBoxScores'].iloc[0]:\\n        test_scores = pd.DataFrame(eval(test_df['playerBoxScores'].iloc[0]))\\n    else:\\n        test_scores = pd.DataFrame({'playerId': sample_prediction_df['playerId']})\\n        for col in scores.columns:\\n            if col == 'playerId': continue\\n            test_scores[col] = np.nan\\n    test_scores = test_scores.groupby('playerId').sum().reset_index()\\n    test = sample_prediction_df[['playerId']].copy()\\n    test = test.merge(players[players_cols], on='playerId', how='left')\\n    test = test.merge(test_rosters[rosters_cols], on='playerId', how='left')\\n    test = test.merge(test_scores[scores_cols], on='playerId', how='left')\\n\\n    test['label_playerId'] = test['playerId'].map(player2num)\\n    test['label_primaryPositionName'] = test['primaryPositionName'].map(position2num)\\n    test['label_teamId'] = test['teamId'].map(teamid2num)\\n    test['label_status'] = test['status'].map(status2num)\\n    \\n    test_X = test[feature_cols]\\n    \\n    # predict\\n    pred1 = model1.predict(test_X)\\n    pred2 = model2.predict(test_X)\\n    pred3 = model3.predict(test_X)\\n    pred4 = model4.predict(test_X)\\n    \\n    # merge submission\\n    sample_prediction_df['target1'] = np.clip(pred1, 0, 100)\\n    sample_prediction_df['target2'] = np.clip(pred2, 0, 100)\\n    sample_prediction_df['target3'] = np.clip(pred3, 0, 100)\\n    sample_prediction_df['target4'] = np.clip(pred4, 0, 100)\\n    sample_prediction_df = sample_prediction_df.fillna(0.)\\n    del sample_prediction_df['playerId']\\n    \\n    env.predict(sample_prediction_df)\""
            ]
          },
          "metadata": {
            "tags": []
          },
          "execution_count": 172
        }
      ]
    },
    {
      "cell_type": "code",
      "metadata": {
        "id": "az9HrZbwkW76"
      },
      "source": [
        ""
      ],
      "id": "az9HrZbwkW76",
      "execution_count": 172,
      "outputs": []
    },
    {
      "cell_type": "code",
      "metadata": {
        "id": "4CDs8Hm0kYJD"
      },
      "source": [
        ""
      ],
      "id": "4CDs8Hm0kYJD",
      "execution_count": 172,
      "outputs": []
    },
    {
      "cell_type": "code",
      "metadata": {
        "id": "WWC16Mg8zhY6"
      },
      "source": [
        ""
      ],
      "id": "WWC16Mg8zhY6",
      "execution_count": 172,
      "outputs": []
    },
    {
      "cell_type": "code",
      "metadata": {
        "id": "0a5N_3myMCzS"
      },
      "source": [
        ""
      ],
      "id": "0a5N_3myMCzS",
      "execution_count": 172,
      "outputs": []
    },
    {
      "cell_type": "code",
      "metadata": {
        "id": "v_qd0o1DMQYa"
      },
      "source": [
        ""
      ],
      "id": "v_qd0o1DMQYa",
      "execution_count": 172,
      "outputs": []
    }
  ]
}