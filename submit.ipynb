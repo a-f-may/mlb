{
  "nbformat": 4,
  "nbformat_minor": 5,
  "metadata": {
    "kernelspec": {
      "display_name": "Python 3",
      "language": "python",
      "name": "python3"
    },
    "language_info": {
      "codemirror_mode": {
        "name": "ipython",
        "version": 3
      },
      "file_extension": ".py",
      "mimetype": "text/x-python",
      "name": "python",
      "nbconvert_exporter": "python",
      "pygments_lexer": "ipython3",
      "version": "3.7.10"
    },
    "papermill": {
      "default_parameters": {},
      "duration": 346.121966,
      "end_time": "2021-06-25T22:24:11.045344",
      "environment_variables": {},
      "exception": null,
      "input_path": "__notebook__.ipynb",
      "output_path": "__notebook__.ipynb",
      "parameters": {},
      "start_time": "2021-06-25T22:18:24.923378",
      "version": "2.3.3"
    },
    "colab": {
      "name": "submit.ipynb",
      "provenance": [],
      "machine_shape": "hm",
      "include_colab_link": true
    },
    "accelerator": "TPU"
  },
  "cells": [
    {
      "cell_type": "markdown",
      "metadata": {
        "id": "view-in-github",
        "colab_type": "text"
      },
      "source": [
        "<a href=\"https://colab.research.google.com/github/gdollp/mlb/blob/main/submit.ipynb\" target=\"_parent\"><img src=\"https://colab.research.google.com/assets/colab-badge.svg\" alt=\"Open In Colab\"/></a>"
      ]
    },
    {
      "cell_type": "markdown",
      "metadata": {
        "_cell_guid": "b1076dfc-b9ad-4769-8c92-a6c4dae69d19",
        "_uuid": "8f2839f25d086af736a60e9eeb907d3b93b6e0e5",
        "papermill": {
          "duration": 0.024709,
          "end_time": "2021-06-25T22:18:33.032989",
          "exception": false,
          "start_time": "2021-06-25T22:18:33.008280",
          "status": "completed"
        },
        "tags": [],
        "id": "resident-birthday"
      },
      "source": [
        "This notebook uses lightGBM to make predictions.\n",
        "\n",
        "We use the following features\n",
        "* playerId\n",
        "* position\n",
        "* teamId(rosters)\n",
        "* status(rosters)\n",
        "* playerBoxScores\n",
        "\n",
        "and the date 20200401~20200431 as the validation data.\n",
        "\n",
        "But I think there is room for improvement.  \n",
        "If you have better ways, I would appreciate it if you could comment on it.\n",
        "\n",
        "このnotebookではlightGBMを使って予測します。\n",
        "\n",
        "特徴量は以下のものを使用しています。\n",
        "* playerId\n",
        "* position\n",
        "* teamId(rosters)\n",
        "* status(rosters)\n",
        "* playerBoxScores\n",
        "\n",
        "20200401~20200431を日時をvalidation dataとしていますが、一考の余地がありそうです。  \n",
        "もし良さそうな方法があればコメントしていただけると幸いです。"
      ],
      "id": "resident-birthday"
    },
    {
      "cell_type": "markdown",
      "metadata": {
        "papermill": {
          "duration": 0.027024,
          "end_time": "2021-06-25T22:18:33.083611",
          "exception": false,
          "start_time": "2021-06-25T22:18:33.056587",
          "status": "completed"
        },
        "tags": [],
        "id": "vital-water"
      },
      "source": [
        ""
      ],
      "id": "vital-water"
    },
    {
      "cell_type": "markdown",
      "metadata": {
        "papermill": {
          "duration": 0.025051,
          "end_time": "2021-06-25T22:18:33.139292",
          "exception": false,
          "start_time": "2021-06-25T22:18:33.114241",
          "status": "completed"
        },
        "tags": [],
        "id": "operating-thunder"
      },
      "source": [
        "https://www.kaggle.com/columbia2131/mlb-lightgbm-starter-dataset-code-en-ja"
      ],
      "id": "operating-thunder"
    },
    {
      "cell_type": "markdown",
      "metadata": {
        "papermill": {
          "duration": 0.026534,
          "end_time": "2021-06-25T22:18:33.190839",
          "exception": false,
          "start_time": "2021-06-25T22:18:33.164305",
          "status": "completed"
        },
        "tags": [],
        "id": "theoretical-damages"
      },
      "source": [
        "## About Dataset"
      ],
      "id": "theoretical-damages"
    },
    {
      "cell_type": "markdown",
      "metadata": {
        "papermill": {
          "duration": 0.02311,
          "end_time": "2021-06-25T22:18:33.237635",
          "exception": false,
          "start_time": "2021-06-25T22:18:33.214525",
          "status": "completed"
        },
        "tags": [],
        "id": "clinical-cheat"
      },
      "source": [
        "Train.csv is stored as a csv file with each column as follows.  \n",
        "\n",
        "train.csvを以下のようにして各カラムをcsvファイルとして保管しています。"
      ],
      "id": "clinical-cheat"
    },
    {
      "cell_type": "code",
      "metadata": {
        "execution": {
          "iopub.execute_input": "2021-06-25T22:18:33.300733Z",
          "iopub.status.busy": "2021-06-25T22:18:33.299967Z",
          "iopub.status.idle": "2021-06-25T22:18:33.302980Z",
          "shell.execute_reply": "2021-06-25T22:18:33.302209Z",
          "shell.execute_reply.started": "2021-06-25T21:58:13.679983Z"
        },
        "papermill": {
          "duration": 0.042271,
          "end_time": "2021-06-25T22:18:33.303166",
          "exception": false,
          "start_time": "2021-06-25T22:18:33.260895",
          "status": "completed"
        },
        "tags": [],
        "id": "reasonable-assistant"
      },
      "source": [
        "%%capture\n",
        "\"\"\"\n",
        "!pip install pandarallel \n",
        "\n",
        "import gc\n",
        "\n",
        "import numpy as np\n",
        "import pandas as pd\n",
        "from pathlib import Path\n",
        "\n",
        "from pandarallel import pandarallel\n",
        "pandarallel.initialize()\n",
        "\n",
        "BASE_DIR = Path('../input/mlb-player-digital-engagement-forecasting')\n",
        "train = pd.read_csv(BASE_DIR / 'train.csv')\n",
        "\n",
        "null = np.nan\n",
        "true = True\n",
        "false = False\n",
        "\n",
        "for col in train.columns:\n",
        "\n",
        "    if col == 'date': continue\n",
        "\n",
        "    _index = train[col].notnull()\n",
        "    train.loc[_index, col] = train.loc[_index, col].parallel_apply(lambda x: eval(x))\n",
        "\n",
        "    outputs = []\n",
        "    for index, date, record in train.loc[_index, ['date', col]].itertuples():\n",
        "        _df = pd.DataFrame(record)\n",
        "        _df['index'] = index\n",
        "        _df['date'] = date\n",
        "        outputs.append(_df)\n",
        "\n",
        "    outputs = pd.concat(outputs).reset_index(drop=True)\n",
        "\n",
        "    outputs.to_csv(f'{col}_train.csv', index=False)\n",
        "    outputs.to_pickle(f'{col}_train.pkl')\n",
        "\n",
        "    del outputs\n",
        "    del train[col]\n",
        "    gc.collect()\n",
        "\"\"\""
      ],
      "id": "reasonable-assistant",
      "execution_count": null,
      "outputs": []
    },
    {
      "cell_type": "markdown",
      "metadata": {
        "execution": {
          "iopub.execute_input": "2021-06-16T09:14:33.869905Z",
          "iopub.status.busy": "2021-06-16T09:14:33.869464Z",
          "iopub.status.idle": "2021-06-16T09:14:33.874766Z",
          "shell.execute_reply": "2021-06-16T09:14:33.873097Z",
          "shell.execute_reply.started": "2021-06-16T09:14:33.869879Z"
        },
        "papermill": {
          "duration": 0.025072,
          "end_time": "2021-06-25T22:18:33.352190",
          "exception": false,
          "start_time": "2021-06-25T22:18:33.327118",
          "status": "completed"
        },
        "tags": [],
        "id": "frozen-alfred"
      },
      "source": [
        "## Training"
      ],
      "id": "frozen-alfred"
    },
    {
      "cell_type": "code",
      "metadata": {
        "execution": {
          "iopub.execute_input": "2021-06-25T22:18:33.415350Z",
          "iopub.status.busy": "2021-06-25T22:18:33.414585Z",
          "iopub.status.idle": "2021-06-25T22:18:36.343351Z",
          "shell.execute_reply": "2021-06-25T22:18:36.343900Z",
          "shell.execute_reply.started": "2021-06-25T21:58:13.707952Z"
        },
        "papermill": {
          "duration": 2.967463,
          "end_time": "2021-06-25T22:18:36.344129",
          "exception": false,
          "start_time": "2021-06-25T22:18:33.376666",
          "status": "completed"
        },
        "tags": [],
        "id": "concrete-cruise"
      },
      "source": [
        "import numpy as np\n",
        "import pandas as pd\n",
        "from pathlib import Path\n",
        "from sklearn.metrics import mean_absolute_error\n",
        "from datetime import timedelta\n",
        "from functools import reduce\n",
        "from tqdm import tqdm\n",
        "#import optuna.integration.lightgbm as lgbm\n",
        "import lightgbm as lgbm\n",
        "#import mlb\n",
        "import pickle\n",
        "from datetime import datetime as dt\n",
        "import copy\n",
        "import gc"
      ],
      "id": "concrete-cruise",
      "execution_count": null,
      "outputs": []
    },
    {
      "cell_type": "code",
      "metadata": {
        "colab": {
          "base_uri": "https://localhost:8080/"
        },
        "id": "ykU9DkvWXkRB",
        "outputId": "f46ee27d-5879-4920-f0d7-3ee585e6e8e7"
      },
      "source": [
        "from google.colab import drive\n",
        "drive.mount('/content/drive')"
      ],
      "id": "ykU9DkvWXkRB",
      "execution_count": null,
      "outputs": [
        {
          "output_type": "stream",
          "text": [
            "Drive already mounted at /content/drive; to attempt to forcibly remount, call drive.mount(\"/content/drive\", force_remount=True).\n"
          ],
          "name": "stdout"
        }
      ]
    },
    {
      "cell_type": "code",
      "metadata": {
        "execution": {
          "iopub.execute_input": "2021-06-25T22:18:36.397396Z",
          "iopub.status.busy": "2021-06-25T22:18:36.396731Z",
          "iopub.status.idle": "2021-06-25T22:18:36.401367Z",
          "shell.execute_reply": "2021-06-25T22:18:36.400852Z",
          "shell.execute_reply.started": "2021-06-25T21:58:16.647196Z"
        },
        "papermill": {
          "duration": 0.032131,
          "end_time": "2021-06-25T22:18:36.401524",
          "exception": false,
          "start_time": "2021-06-25T22:18:36.369393",
          "status": "completed"
        },
        "tags": [],
        "id": "declared-principal"
      },
      "source": [
        "BASE_DIR = Path('/content/drive/MyDrive/mlb/input')\n",
        "TRAIN_DIR = Path('/content/drive/MyDrive/mlb/input/archive')"
      ],
      "id": "declared-principal",
      "execution_count": null,
      "outputs": []
    },
    {
      "cell_type": "code",
      "metadata": {
        "execution": {
          "iopub.execute_input": "2021-06-25T22:18:36.461288Z",
          "iopub.status.busy": "2021-06-25T22:18:36.460608Z",
          "iopub.status.idle": "2021-06-25T22:18:55.337941Z",
          "shell.execute_reply": "2021-06-25T22:18:55.336912Z",
          "shell.execute_reply.started": "2021-06-25T21:58:16.654219Z"
        },
        "papermill": {
          "duration": 18.911828,
          "end_time": "2021-06-25T22:18:55.338134",
          "exception": false,
          "start_time": "2021-06-25T22:18:36.426306",
          "status": "completed"
        },
        "tags": [],
        "id": "tough-launch"
      },
      "source": [
        "players = pd.read_csv(BASE_DIR / 'players.csv')\n",
        "\n",
        "rosters = pd.read_pickle(TRAIN_DIR / 'rosters_train.pkl')\n",
        "targets = pd.read_pickle(TRAIN_DIR / 'nextDayPlayerEngagement_train.pkl')\n",
        "scores1 = pd.read_pickle(TRAIN_DIR / 'playerBoxScores_train.pkl')\n",
        "scores = scores1.groupby(['playerId', 'date']).sum().reset_index()\n",
        "#playertwitter = pd.read_pickle(\"/content/drive/MyDrive/mlb/input/archive/playerTwitterFollowers_train.pkl\")\n",
        "games = pd.read_pickle(TRAIN_DIR / 'games_train.pkl')\n",
        "events = pd.read_pickle(TRAIN_DIR / 'events_train.pkl')\n",
        "standings = pd.read_pickle(TRAIN_DIR / 'standings_train.pkl')\n",
        "teamtwitter = pd.read_pickle(TRAIN_DIR / 'teamTwitterFollowers_train.pkl')\n",
        "transaction = pd.read_pickle(TRAIN_DIR / 'teamTwitterFollowers_train.pkl')\n",
        "awards = pd.read_csv(BASE_DIR / 'awards.csv')\n",
        "seasons = pd.read_csv(BASE_DIR / 'seasons.csv')\n",
        "teams = pd.read_csv(BASE_DIR / 'teams.csv')\n",
        "player_target_stats = pd.read_csv(\"/content/drive/MyDrive/mlb/input/player_target_stats.csv\")\n"
      ],
      "id": "tough-launch",
      "execution_count": null,
      "outputs": []
    },
    {
      "cell_type": "code",
      "metadata": {
        "colab": {
          "base_uri": "https://localhost:8080/"
        },
        "id": "4BRMq9l8YfYI",
        "outputId": "48be679f-46dd-4ea3-d8fd-68a3747e17b0"
      },
      "source": [
        "data_names=player_target_stats.columns.values.tolist()\n",
        "data_names"
      ],
      "id": "4BRMq9l8YfYI",
      "execution_count": null,
      "outputs": [
        {
          "output_type": "execute_result",
          "data": {
            "text/plain": [
              "['playerId',\n",
              " 'target1_mean',\n",
              " 'target1_median',\n",
              " 'target1_std',\n",
              " 'target1_min',\n",
              " 'target1_max',\n",
              " 'target1_prob',\n",
              " 'target2_mean',\n",
              " 'target2_median',\n",
              " 'target2_std',\n",
              " 'target2_min',\n",
              " 'target2_max',\n",
              " 'target2_prob',\n",
              " 'target3_mean',\n",
              " 'target3_median',\n",
              " 'target3_std',\n",
              " 'target3_min',\n",
              " 'target3_max',\n",
              " 'target3_prob',\n",
              " 'target4_mean',\n",
              " 'target4_median',\n",
              " 'target4_std',\n",
              " 'target4_min',\n",
              " 'target4_max',\n",
              " 'target4_prob']"
            ]
          },
          "metadata": {
            "tags": []
          },
          "execution_count": 120
        }
      ]
    },
    {
      "cell_type": "code",
      "metadata": {
        "execution": {
          "iopub.execute_input": "2021-06-25T22:18:55.398266Z",
          "iopub.status.busy": "2021-06-25T22:18:55.397258Z",
          "iopub.status.idle": "2021-06-25T22:18:55.429108Z",
          "shell.execute_reply": "2021-06-25T22:18:55.428347Z",
          "shell.execute_reply.started": "2021-06-25T21:58:36.71955Z"
        },
        "papermill": {
          "duration": 0.065838,
          "end_time": "2021-06-25T22:18:55.429265",
          "exception": false,
          "start_time": "2021-06-25T22:18:55.363427",
          "status": "completed"
        },
        "tags": [],
        "id": "joined-traffic"
      },
      "source": [
        "awards2 = awards.groupby(\"playerId\").count()\n",
        "awards2 = awards2.reset_index()"
      ],
      "id": "joined-traffic",
      "execution_count": null,
      "outputs": []
    },
    {
      "cell_type": "code",
      "metadata": {
        "execution": {
          "iopub.execute_input": "2021-06-25T22:18:55.485487Z",
          "iopub.status.busy": "2021-06-25T22:18:55.484858Z",
          "iopub.status.idle": "2021-06-25T22:18:55.559589Z",
          "shell.execute_reply": "2021-06-25T22:18:55.560093Z",
          "shell.execute_reply.started": "2021-06-25T21:58:36.751087Z"
        },
        "papermill": {
          "duration": 0.105303,
          "end_time": "2021-06-25T22:18:55.560260",
          "exception": false,
          "start_time": "2021-06-25T22:18:55.454957",
          "status": "completed"
        },
        "tags": [],
        "id": "saved-assignment"
      },
      "source": [
        "games = pd.read_pickle(TRAIN_DIR / 'games_train.pkl')\n",
        "#games.index[games[\"detailedGameState\"] == \"Postponed\"].shape\n",
        "#games.drop(games.loc[games['detailedGameState']=='Postponed'].index, inplace=True)\n",
        "#games[\"detailedGameState\"].unique()\n",
        "#games[games.duplicated(subset=[\"gamePk\"], keep=False)]\n",
        "#games['detailedGameState']=='Postponed']だとスコアはキロクされていない"
      ],
      "id": "saved-assignment",
      "execution_count": null,
      "outputs": []
    },
    {
      "cell_type": "code",
      "metadata": {
        "execution": {
          "iopub.execute_input": "2021-06-25T22:18:55.632341Z",
          "iopub.status.busy": "2021-06-25T22:18:55.627171Z",
          "iopub.status.idle": "2021-06-25T22:18:55.643964Z",
          "shell.execute_reply": "2021-06-25T22:18:55.643410Z",
          "shell.execute_reply.started": "2021-06-25T21:58:36.823884Z"
        },
        "papermill": {
          "duration": 0.057355,
          "end_time": "2021-06-25T22:18:55.644109",
          "exception": false,
          "start_time": "2021-06-25T22:18:55.586754",
          "status": "completed"
        },
        "tags": [],
        "colab": {
          "base_uri": "https://localhost:8080/",
          "height": 103
        },
        "id": "public-calgary",
        "outputId": "d3d7862c-fb5b-437f-ea61-749032125609"
      },
      "source": [
        "targets_cols = ['playerId', 'target1', 'target2', 'target3', 'target4', 'date']\n",
        "players_cols = ['playerId', 'primaryPositionName']\n",
        "rosters_cols = ['playerId', 'teamId', 'status', 'date']\n",
        "scores_cols = ['playerId', 'battingOrder', 'gamesPlayedBatting', 'flyOuts',\n",
        "       'groundOuts', 'runsScored', 'doubles', 'triples', 'homeRuns',\n",
        "       'strikeOuts', 'baseOnBalls', 'intentionalWalks', 'hits', 'hitByPitch',\n",
        "       'atBats', 'caughtStealing', 'stolenBases', 'groundIntoDoublePlay',\n",
        "       'groundIntoTriplePlay', 'plateAppearances', 'totalBases', 'rbi',\n",
        "       'leftOnBase', 'sacBunts', 'sacFlies', 'catchersInterference',\n",
        "       'pickoffs', 'gamesPlayedPitching', 'gamesStartedPitching',\n",
        "       'completeGamesPitching', 'shutoutsPitching', 'winsPitching',\n",
        "       'lossesPitching', 'flyOutsPitching', 'airOutsPitching',\n",
        "       'groundOutsPitching', 'runsPitching', 'doublesPitching',\n",
        "       'triplesPitching', 'homeRunsPitching', 'strikeOutsPitching',\n",
        "       'baseOnBallsPitching', 'intentionalWalksPitching', 'hitsPitching',\n",
        "       'hitByPitchPitching', 'atBatsPitching', 'caughtStealingPitching',\n",
        "       'stolenBasesPitching', 'inningsPitched', 'saveOpportunities',\n",
        "       'earnedRuns', 'battersFaced', 'outsPitching', 'pitchesThrown', 'balls',\n",
        "       'strikes', 'hitBatsmen', 'balks', 'wildPitches', 'pickoffsPitching',\n",
        "       'rbiPitching', 'gamesFinishedPitching', 'inheritedRunners',\n",
        "       'inheritedRunnersScored', 'catchersInterferencePitching',\n",
        "       'sacBuntsPitching', 'sacFliesPitching', 'saves', 'holds', 'blownSaves',\n",
        "       'assists', 'putOuts', 'errors', 'chances', 'date',\"gamePk\"]\n",
        "games_cols = [\"gamePk\",\"homeId\",\"dayNight\",\"seriesDescription\",\"gamesInSeries\",\"homeWinner\",\"awayWinner\",\"homeScore\",\"awayScore\",\"gameType\"]\n",
        "playertwitter_cols = [\"date\",\"playerId\",\"numberOfFollowers\"]\n",
        "awards_cols = [\"playerId\",\"awardName\"]\n",
        "standings_cols = [\"date\",\"teamId\",\"divisionRank\",\"divisionLeader\",\"wildCardLeader\",\"leagueRank\",\"divisionId\",\"gameDate\"]\n",
        "teamtwitter_cols = [\"date\",\"teamId\",\"numberOfFollowers\"]\n",
        "\"\"\"\n",
        "feature_cols1 = ['label_playerId', 'label_primaryPositionName', 'label_teamId',\n",
        "       'label_status', 'battingOrder', 'gamesPlayedBatting', 'flyOuts',\n",
        "       'groundOuts', 'runsScored', 'doubles', 'triples', 'homeRuns',\n",
        "       'strikeOuts', 'baseOnBalls', 'intentionalWalks', 'hits', 'hitByPitch',\n",
        "       'atBats', 'caughtStealing', 'stolenBases', 'groundIntoDoublePlay',\n",
        "       'groundIntoTriplePlay', 'plateAppearances', 'totalBases', 'rbi',\n",
        "       'leftOnBase', 'sacBunts', 'sacFlies', 'catchersInterference',\n",
        "       'pickoffs', 'gamesPlayedPitching', 'gamesStartedPitching',\n",
        "       'completeGamesPitching', 'shutoutsPitching', 'winsPitching',\n",
        "       'lossesPitching', 'flyOutsPitching', 'airOutsPitching',\n",
        "       'groundOutsPitching', 'runsPitching', 'doublesPitching',\n",
        "       'triplesPitching', 'homeRunsPitching', 'strikeOutsPitching',\n",
        "       'baseOnBallsPitching', 'intentionalWalksPitching', 'hitsPitching',\n",
        "       'hitByPitchPitching', 'atBatsPitching', 'caughtStealingPitching',\n",
        "       'stolenBasesPitching', 'inningsPitched', 'saveOpportunities',\n",
        "       'earnedRuns', 'battersFaced', 'outsPitching', 'pitchesThrown', 'balls',\n",
        "       'strikes', 'hitBatsmen', 'balks', 'wildPitches', 'pickoffsPitching',\n",
        "       'rbiPitching', 'gamesFinishedPitching', 'inheritedRunners',\n",
        "       'inheritedRunnersScored', 'catchersInterferencePitching',\n",
        "       'sacBuntsPitching', 'sacFliesPitching', 'saves', 'holds', 'blownSaves',\"divisionId\",\n",
        "       'assists', 'putOuts', 'errors', 'chances',\"ishome\",\"label_seriesDescription\",\"gamesInSeries\",\"label_daynight\",\"gameType\"]#winorlose\"]\n",
        "\n",
        "\n",
        "feature_cols2 = ['label_playerId', 'label_primaryPositionName', 'label_teamId',\n",
        "       'label_status', 'battingOrder', 'gamesPlayedBatting', 'flyOuts',\n",
        "       'groundOuts', 'runsScored', 'doubles', 'triples', 'homeRuns',\n",
        "       'strikeOuts', 'baseOnBalls', 'intentionalWalks', 'hits', 'hitByPitch',\n",
        "       'atBats', 'caughtStealing', 'stolenBases', 'groundIntoDoublePlay',\n",
        "       'groundIntoTriplePlay', 'plateAppearances', 'totalBases', 'rbi',\n",
        "       'leftOnBase', 'sacBunts', 'sacFlies', 'catchersInterference',\n",
        "       'pickoffs', 'gamesPlayedPitching', 'gamesStartedPitching',\n",
        "       'completeGamesPitching', 'shutoutsPitching', 'winsPitching',\n",
        "       'lossesPitching', 'flyOutsPitching', 'airOutsPitching',\n",
        "       'groundOutsPitching', 'runsPitching', 'doublesPitching',\n",
        "       'triplesPitching', 'homeRunsPitching', 'strikeOutsPitching',\n",
        "       'baseOnBallsPitching', 'intentionalWalksPitching', 'hitsPitching',\n",
        "       'hitByPitchPitching', 'atBatsPitching', 'caughtStealingPitching',\n",
        "       'stolenBasesPitching', 'inningsPitched', 'saveOpportunities',\n",
        "       'earnedRuns', 'battersFaced', 'outsPitching', 'pitchesThrown', 'balls',\n",
        "       'strikes', 'hitBatsmen', 'balks', 'wildPitches', 'pickoffsPitching',\n",
        "       'rbiPitching', 'gamesFinishedPitching', 'inheritedRunners',\n",
        "       'inheritedRunnersScored', 'catchersInterferencePitching',\n",
        "       'sacBuntsPitching', 'sacFliesPitching', 'saves', 'holds', 'blownSaves',\"wildCardLeader\",\n",
        "       'assists', 'putOuts', 'errors', 'chances',\"ishome\",\"label_seriesDescription\",\"gamesInSeries\",\"label_daynight\",\"gameType\",\"awardName\",'target2_mean',\n",
        " 'target2_median',\n",
        " 'target2_std',\n",
        " 'target2_min',\n",
        " 'target2_max','target2_prob',\"divisionRank\",\"divisionId\"]#winorlose\"]\n",
        "\n",
        "feature_cols3 = ['label_playerId', 'label_primaryPositionName', 'label_teamId',\n",
        "       'label_status', 'battingOrder', 'gamesPlayedBatting', 'flyOuts',\n",
        "       'groundOuts', 'runsScored', 'doubles', 'triples', 'homeRuns',\n",
        "       'strikeOuts', 'baseOnBalls', 'intentionalWalks', 'hits', 'hitByPitch',\n",
        "       'atBats', 'caughtStealing', 'stolenBases', 'groundIntoDoublePlay',\n",
        "       'groundIntoTriplePlay', 'plateAppearances', 'totalBases', 'rbi',\n",
        "       'leftOnBase', 'sacBunts', 'sacFlies', 'catchersInterference',\n",
        "       'pickoffs', 'gamesPlayedPitching', 'gamesStartedPitching',\n",
        "       'completeGamesPitching', 'shutoutsPitching', 'winsPitching',\n",
        "       'lossesPitching', 'flyOutsPitching', 'airOutsPitching',\n",
        "       'groundOutsPitching', 'runsPitching', 'doublesPitching',\n",
        "       'triplesPitching', 'homeRunsPitching', 'strikeOutsPitching',\n",
        "       'baseOnBallsPitching', 'intentionalWalksPitching', 'hitsPitching',\n",
        "       'hitByPitchPitching', 'atBatsPitching', 'caughtStealingPitching',\n",
        "       'stolenBasesPitching', 'inningsPitched', 'saveOpportunities',\n",
        "       'earnedRuns', 'battersFaced', 'outsPitching', 'pitchesThrown', 'balls',\n",
        "       'strikes', 'hitBatsmen', 'balks', 'wildPitches', 'pickoffsPitching',\n",
        "       'rbiPitching', 'gamesFinishedPitching', 'inheritedRunners',\n",
        "       'inheritedRunnersScored', 'catchersInterferencePitching',\n",
        "       'sacBuntsPitching', 'sacFliesPitching', 'saves', 'holds', 'blownSaves',\"wildCardLeader\",\n",
        "       'assists', 'putOuts', 'errors', 'chances',\"ishome\",\"label_seriesDescription\",\"gamesInSeries\",\"label_daynight\",\"gameType\",\"awardName\",\n",
        " 'target3_mean',\n",
        " 'target3_median',\n",
        " 'target3_std',\n",
        " 'target3_min',\n",
        " 'target3_max',\n",
        " 'target3_prob',\"divisionRank\",\"divisionId\"\n",
        " ]\n",
        "\n",
        "       #winorlose\"]\n",
        "\n",
        "feature_cols4 = ['label_playerId', 'label_primaryPositionName', 'label_teamId',\n",
        "       'label_status', 'battingOrder', 'gamesPlayedBatting', 'flyOuts',\n",
        "       'groundOuts', 'runsScored', 'doubles', 'triples', 'homeRuns',\n",
        "       'strikeOuts', 'baseOnBalls', 'intentionalWalks', 'hits', 'hitByPitch',\n",
        "       'atBats', 'caughtStealing', 'stolenBases', 'groundIntoDoublePlay',\n",
        "       'groundIntoTriplePlay', 'plateAppearances', 'totalBases', 'rbi',\n",
        "       'leftOnBase', 'sacBunts', 'sacFlies', 'catchersInterference',\n",
        "       'pickoffs', 'gamesPlayedPitching', 'gamesStartedPitching',\n",
        "       'completeGamesPitching', 'shutoutsPitching', 'winsPitching',\n",
        "       'lossesPitching', 'flyOutsPitching', 'airOutsPitching',\n",
        "       'groundOutsPitching', 'runsPitching', 'doublesPitching',\n",
        "       'triplesPitching', 'homeRunsPitching', 'strikeOutsPitching',\n",
        "       'baseOnBallsPitching', 'intentionalWalksPitching', 'hitsPitching',\n",
        "       'hitByPitchPitching', 'atBatsPitching', 'caughtStealingPitching',\n",
        "       'stolenBasesPitching', 'inningsPitched', 'saveOpportunities',\n",
        "       'earnedRuns', 'battersFaced', 'outsPitching', 'pitchesThrown', 'balls',\n",
        "       'strikes', 'hitBatsmen', 'balks', 'wildPitches', 'pickoffsPitching',\n",
        "       'rbiPitching', 'gamesFinishedPitching', 'inheritedRunners',\n",
        "       'inheritedRunnersScored', 'catchersInterferencePitching',\n",
        "       'sacBuntsPitching', 'sacFliesPitching', 'saves', 'holds', 'blownSaves',\n",
        "       'assists', 'putOuts', 'errors', 'chances','target4_mean',\"gameType\",\"awardName\",\"divisionId\",\n",
        " 'target4_median',\n",
        " 'target4_std',\n",
        " 'target4_min',\n",
        " 'target4_max',\n",
        " 'target4_prob',\"divisionRank\"]\"\"\""
      ],
      "id": "public-calgary",
      "execution_count": null,
      "outputs": [
        {
          "output_type": "execute_result",
          "data": {
            "application/vnd.google.colaboratory.intrinsic+json": {
              "type": "string"
            },
            "text/plain": [
              "'\\nfeature_cols1 = [\\'label_playerId\\', \\'label_primaryPositionName\\', \\'label_teamId\\',\\n       \\'label_status\\', \\'battingOrder\\', \\'gamesPlayedBatting\\', \\'flyOuts\\',\\n       \\'groundOuts\\', \\'runsScored\\', \\'doubles\\', \\'triples\\', \\'homeRuns\\',\\n       \\'strikeOuts\\', \\'baseOnBalls\\', \\'intentionalWalks\\', \\'hits\\', \\'hitByPitch\\',\\n       \\'atBats\\', \\'caughtStealing\\', \\'stolenBases\\', \\'groundIntoDoublePlay\\',\\n       \\'groundIntoTriplePlay\\', \\'plateAppearances\\', \\'totalBases\\', \\'rbi\\',\\n       \\'leftOnBase\\', \\'sacBunts\\', \\'sacFlies\\', \\'catchersInterference\\',\\n       \\'pickoffs\\', \\'gamesPlayedPitching\\', \\'gamesStartedPitching\\',\\n       \\'completeGamesPitching\\', \\'shutoutsPitching\\', \\'winsPitching\\',\\n       \\'lossesPitching\\', \\'flyOutsPitching\\', \\'airOutsPitching\\',\\n       \\'groundOutsPitching\\', \\'runsPitching\\', \\'doublesPitching\\',\\n       \\'triplesPitching\\', \\'homeRunsPitching\\', \\'strikeOutsPitching\\',\\n       \\'baseOnBallsPitching\\', \\'intentionalWalksPitching\\', \\'hitsPitching\\',\\n       \\'hitByPitchPitching\\', \\'atBatsPitching\\', \\'caughtStealingPitching\\',\\n       \\'stolenBasesPitching\\', \\'inningsPitched\\', \\'saveOpportunities\\',\\n       \\'earnedRuns\\', \\'battersFaced\\', \\'outsPitching\\', \\'pitchesThrown\\', \\'balls\\',\\n       \\'strikes\\', \\'hitBatsmen\\', \\'balks\\', \\'wildPitches\\', \\'pickoffsPitching\\',\\n       \\'rbiPitching\\', \\'gamesFinishedPitching\\', \\'inheritedRunners\\',\\n       \\'inheritedRunnersScored\\', \\'catchersInterferencePitching\\',\\n       \\'sacBuntsPitching\\', \\'sacFliesPitching\\', \\'saves\\', \\'holds\\', \\'blownSaves\\',\"divisionId\",\\n       \\'assists\\', \\'putOuts\\', \\'errors\\', \\'chances\\',\"ishome\",\"label_seriesDescription\",\"gamesInSeries\",\"label_daynight\",\"gameType\"]#winorlose\"]\\n\\n\\nfeature_cols2 = [\\'label_playerId\\', \\'label_primaryPositionName\\', \\'label_teamId\\',\\n       \\'label_status\\', \\'battingOrder\\', \\'gamesPlayedBatting\\', \\'flyOuts\\',\\n       \\'groundOuts\\', \\'runsScored\\', \\'doubles\\', \\'triples\\', \\'homeRuns\\',\\n       \\'strikeOuts\\', \\'baseOnBalls\\', \\'intentionalWalks\\', \\'hits\\', \\'hitByPitch\\',\\n       \\'atBats\\', \\'caughtStealing\\', \\'stolenBases\\', \\'groundIntoDoublePlay\\',\\n       \\'groundIntoTriplePlay\\', \\'plateAppearances\\', \\'totalBases\\', \\'rbi\\',\\n       \\'leftOnBase\\', \\'sacBunts\\', \\'sacFlies\\', \\'catchersInterference\\',\\n       \\'pickoffs\\', \\'gamesPlayedPitching\\', \\'gamesStartedPitching\\',\\n       \\'completeGamesPitching\\', \\'shutoutsPitching\\', \\'winsPitching\\',\\n       \\'lossesPitching\\', \\'flyOutsPitching\\', \\'airOutsPitching\\',\\n       \\'groundOutsPitching\\', \\'runsPitching\\', \\'doublesPitching\\',\\n       \\'triplesPitching\\', \\'homeRunsPitching\\', \\'strikeOutsPitching\\',\\n       \\'baseOnBallsPitching\\', \\'intentionalWalksPitching\\', \\'hitsPitching\\',\\n       \\'hitByPitchPitching\\', \\'atBatsPitching\\', \\'caughtStealingPitching\\',\\n       \\'stolenBasesPitching\\', \\'inningsPitched\\', \\'saveOpportunities\\',\\n       \\'earnedRuns\\', \\'battersFaced\\', \\'outsPitching\\', \\'pitchesThrown\\', \\'balls\\',\\n       \\'strikes\\', \\'hitBatsmen\\', \\'balks\\', \\'wildPitches\\', \\'pickoffsPitching\\',\\n       \\'rbiPitching\\', \\'gamesFinishedPitching\\', \\'inheritedRunners\\',\\n       \\'inheritedRunnersScored\\', \\'catchersInterferencePitching\\',\\n       \\'sacBuntsPitching\\', \\'sacFliesPitching\\', \\'saves\\', \\'holds\\', \\'blownSaves\\',\"wildCardLeader\",\\n       \\'assists\\', \\'putOuts\\', \\'errors\\', \\'chances\\',\"ishome\",\"label_seriesDescription\",\"gamesInSeries\",\"label_daynight\",\"gameType\",\"awardName\",\\'target2_mean\\',\\n \\'target2_median\\',\\n \\'target2_std\\',\\n \\'target2_min\\',\\n \\'target2_max\\',\\'target2_prob\\',\"divisionRank\",\"divisionId\"]#winorlose\"]\\n\\nfeature_cols3 = [\\'label_playerId\\', \\'label_primaryPositionName\\', \\'label_teamId\\',\\n       \\'label_status\\', \\'battingOrder\\', \\'gamesPlayedBatting\\', \\'flyOuts\\',\\n       \\'groundOuts\\', \\'runsScored\\', \\'doubles\\', \\'triples\\', \\'homeRuns\\',\\n       \\'strikeOuts\\', \\'baseOnBalls\\', \\'intentionalWalks\\', \\'hits\\', \\'hitByPitch\\',\\n       \\'atBats\\', \\'caughtStealing\\', \\'stolenBases\\', \\'groundIntoDoublePlay\\',\\n       \\'groundIntoTriplePlay\\', \\'plateAppearances\\', \\'totalBases\\', \\'rbi\\',\\n       \\'leftOnBase\\', \\'sacBunts\\', \\'sacFlies\\', \\'catchersInterference\\',\\n       \\'pickoffs\\', \\'gamesPlayedPitching\\', \\'gamesStartedPitching\\',\\n       \\'completeGamesPitching\\', \\'shutoutsPitching\\', \\'winsPitching\\',\\n       \\'lossesPitching\\', \\'flyOutsPitching\\', \\'airOutsPitching\\',\\n       \\'groundOutsPitching\\', \\'runsPitching\\', \\'doublesPitching\\',\\n       \\'triplesPitching\\', \\'homeRunsPitching\\', \\'strikeOutsPitching\\',\\n       \\'baseOnBallsPitching\\', \\'intentionalWalksPitching\\', \\'hitsPitching\\',\\n       \\'hitByPitchPitching\\', \\'atBatsPitching\\', \\'caughtStealingPitching\\',\\n       \\'stolenBasesPitching\\', \\'inningsPitched\\', \\'saveOpportunities\\',\\n       \\'earnedRuns\\', \\'battersFaced\\', \\'outsPitching\\', \\'pitchesThrown\\', \\'balls\\',\\n       \\'strikes\\', \\'hitBatsmen\\', \\'balks\\', \\'wildPitches\\', \\'pickoffsPitching\\',\\n       \\'rbiPitching\\', \\'gamesFinishedPitching\\', \\'inheritedRunners\\',\\n       \\'inheritedRunnersScored\\', \\'catchersInterferencePitching\\',\\n       \\'sacBuntsPitching\\', \\'sacFliesPitching\\', \\'saves\\', \\'holds\\', \\'blownSaves\\',\"wildCardLeader\",\\n       \\'assists\\', \\'putOuts\\', \\'errors\\', \\'chances\\',\"ishome\",\"label_seriesDescription\",\"gamesInSeries\",\"label_daynight\",\"gameType\",\"awardName\",\\n \\'target3_mean\\',\\n \\'target3_median\\',\\n \\'target3_std\\',\\n \\'target3_min\\',\\n \\'target3_max\\',\\n \\'target3_prob\\',\"divisionRank\",\"divisionId\"\\n ]\\n\\n       #winorlose\"]\\n\\nfeature_cols4 = [\\'label_playerId\\', \\'label_primaryPositionName\\', \\'label_teamId\\',\\n       \\'label_status\\', \\'battingOrder\\', \\'gamesPlayedBatting\\', \\'flyOuts\\',\\n       \\'groundOuts\\', \\'runsScored\\', \\'doubles\\', \\'triples\\', \\'homeRuns\\',\\n       \\'strikeOuts\\', \\'baseOnBalls\\', \\'intentionalWalks\\', \\'hits\\', \\'hitByPitch\\',\\n       \\'atBats\\', \\'caughtStealing\\', \\'stolenBases\\', \\'groundIntoDoublePlay\\',\\n       \\'groundIntoTriplePlay\\', \\'plateAppearances\\', \\'totalBases\\', \\'rbi\\',\\n       \\'leftOnBase\\', \\'sacBunts\\', \\'sacFlies\\', \\'catchersInterference\\',\\n       \\'pickoffs\\', \\'gamesPlayedPitching\\', \\'gamesStartedPitching\\',\\n       \\'completeGamesPitching\\', \\'shutoutsPitching\\', \\'winsPitching\\',\\n       \\'lossesPitching\\', \\'flyOutsPitching\\', \\'airOutsPitching\\',\\n       \\'groundOutsPitching\\', \\'runsPitching\\', \\'doublesPitching\\',\\n       \\'triplesPitching\\', \\'homeRunsPitching\\', \\'strikeOutsPitching\\',\\n       \\'baseOnBallsPitching\\', \\'intentionalWalksPitching\\', \\'hitsPitching\\',\\n       \\'hitByPitchPitching\\', \\'atBatsPitching\\', \\'caughtStealingPitching\\',\\n       \\'stolenBasesPitching\\', \\'inningsPitched\\', \\'saveOpportunities\\',\\n       \\'earnedRuns\\', \\'battersFaced\\', \\'outsPitching\\', \\'pitchesThrown\\', \\'balls\\',\\n       \\'strikes\\', \\'hitBatsmen\\', \\'balks\\', \\'wildPitches\\', \\'pickoffsPitching\\',\\n       \\'rbiPitching\\', \\'gamesFinishedPitching\\', \\'inheritedRunners\\',\\n       \\'inheritedRunnersScored\\', \\'catchersInterferencePitching\\',\\n       \\'sacBuntsPitching\\', \\'sacFliesPitching\\', \\'saves\\', \\'holds\\', \\'blownSaves\\',\\n       \\'assists\\', \\'putOuts\\', \\'errors\\', \\'chances\\',\\'target4_mean\\',\"gameType\",\"awardName\",\"divisionId\",\\n \\'target4_median\\',\\n \\'target4_std\\',\\n \\'target4_min\\',\\n \\'target4_max\\',\\n \\'target4_prob\\',\"divisionRank\"]'"
            ]
          },
          "metadata": {
            "tags": []
          },
          "execution_count": 123
        }
      ]
    },
    {
      "cell_type": "code",
      "metadata": {
        "id": "a6v4Y4rYUHIW"
      },
      "source": [
        "feature_cols = ['label_playerId', 'label_primaryPositionName', 'label_teamId',\n",
        "       'label_status', 'battingOrder', 'gamesPlayedBatting', 'flyOuts',\n",
        "       'groundOuts', 'runsScored', 'doubles', 'triples', 'homeRuns',\n",
        "       'strikeOuts', 'baseOnBalls', 'intentionalWalks', 'hits', 'hitByPitch',\n",
        "       'atBats', 'caughtStealing', 'stolenBases', 'groundIntoDoublePlay',\n",
        "       'groundIntoTriplePlay', 'plateAppearances', 'totalBases', 'rbi',\n",
        "       'leftOnBase', 'sacBunts', 'sacFlies', 'catchersInterference',\n",
        "       'pickoffs', 'gamesPlayedPitching', 'gamesStartedPitching',\n",
        "       'completeGamesPitching', 'shutoutsPitching', 'winsPitching',\n",
        "       'lossesPitching', 'flyOutsPitching', 'airOutsPitching',\n",
        "       'groundOutsPitching', 'runsPitching', 'doublesPitching',\n",
        "       'triplesPitching', 'homeRunsPitching', 'strikeOutsPitching',\n",
        "       'baseOnBallsPitching', 'intentionalWalksPitching', 'hitsPitching',\n",
        "       'hitByPitchPitching', 'atBatsPitching', 'caughtStealingPitching',\n",
        "       'stolenBasesPitching', 'inningsPitched', 'saveOpportunities',\n",
        "       'earnedRuns', 'battersFaced', 'outsPitching', 'pitchesThrown', 'balls',\n",
        "       'strikes', 'hitBatsmen', 'balks', 'wildPitches', 'pickoffsPitching',\n",
        "       'rbiPitching', 'gamesFinishedPitching', 'inheritedRunners',\n",
        "       'inheritedRunnersScored', 'catchersInterferencePitching',\n",
        "       'sacBuntsPitching', 'sacFliesPitching', 'saves', 'holds', 'blownSaves',\n",
        "       'assists', 'putOuts', 'errors', 'chances','target1_mean',\n",
        " 'target1_median',\n",
        " 'target1_std',\n",
        " 'target1_min',\n",
        " 'target1_max',\n",
        " 'target1_prob',\n",
        " 'target2_mean',\n",
        " 'target2_median',\n",
        " 'target2_std',\n",
        " 'target2_min',\n",
        " 'target2_max',\n",
        " 'target2_prob',\n",
        " 'target3_mean',\n",
        " 'target3_median',\n",
        " 'target3_std',\n",
        " 'target3_min',\n",
        " 'target3_max',\n",
        " 'target3_prob',\n",
        " 'target4_mean',\n",
        " 'target4_median',\n",
        " 'target4_std',\n",
        " 'target4_min',\n",
        " 'target4_max',\n",
        " 'target4_prob',\"divisionId\"]\n",
        "feature_cols2 = ['label_playerId', 'label_primaryPositionName', 'label_teamId',\n",
        "       'label_status', 'battingOrder', 'gamesPlayedBatting', 'flyOuts',\n",
        "       'groundOuts', 'runsScored', 'doubles', 'triples', 'homeRuns',\n",
        "       'strikeOuts', 'baseOnBalls', 'intentionalWalks', 'hits', 'hitByPitch',\n",
        "       'atBats', 'caughtStealing', 'stolenBases', 'groundIntoDoublePlay',\n",
        "       'groundIntoTriplePlay', 'plateAppearances', 'totalBases', 'rbi',\n",
        "       'leftOnBase', 'sacBunts', 'sacFlies', 'catchersInterference',\n",
        "       'pickoffs', 'gamesPlayedPitching', 'gamesStartedPitching',\n",
        "       'completeGamesPitching', 'shutoutsPitching', 'winsPitching',\n",
        "       'lossesPitching', 'flyOutsPitching', 'airOutsPitching',\n",
        "       'groundOutsPitching', 'runsPitching', 'doublesPitching',\n",
        "       'triplesPitching', 'homeRunsPitching', 'strikeOutsPitching',\n",
        "       'baseOnBallsPitching', 'intentionalWalksPitching', 'hitsPitching',\n",
        "       'hitByPitchPitching', 'atBatsPitching', 'caughtStealingPitching',\n",
        "       'stolenBasesPitching', 'inningsPitched', 'saveOpportunities',\n",
        "       'earnedRuns', 'battersFaced', 'outsPitching', 'pitchesThrown', 'balls',\n",
        "       'strikes', 'hitBatsmen', 'balks', 'wildPitches', 'pickoffsPitching',\n",
        "       'rbiPitching', 'gamesFinishedPitching', 'inheritedRunners',\n",
        "       'inheritedRunnersScored', 'catchersInterferencePitching',\n",
        "       'sacBuntsPitching', 'sacFliesPitching', 'saves', 'holds', 'blownSaves',\n",
        "       'assists', 'putOuts', 'errors', 'chances','target1_mean',\n",
        " 'target1_median',\n",
        " 'target1_std',\n",
        " 'target1_min',\n",
        " 'target1_max',\n",
        " 'target1_prob',\n",
        " 'target2_mean',\n",
        " 'target2_median',\n",
        " 'target2_std',\n",
        " 'target2_min',\n",
        " 'target2_max',\n",
        " 'target2_prob',\n",
        " 'target3_mean',\n",
        " 'target3_median',\n",
        " 'target3_std',\n",
        " 'target3_min',\n",
        " 'target3_max',\n",
        " 'target3_prob',\n",
        " 'target4_mean',\n",
        " 'target4_median',\n",
        " 'target4_std',\n",
        " 'target4_min',\n",
        " 'target4_max',\n",
        " 'target4_prob',\n",
        "    'target1',\"divisionId\"]\n",
        "feature_cols3 = ['label_playerId', 'label_primaryPositionName', 'label_teamId',\n",
        "       'label_status', 'battingOrder', 'gamesPlayedBatting', 'flyOuts',\n",
        "       'groundOuts', 'runsScored', 'doubles', 'triples', 'homeRuns',\n",
        "       'strikeOuts', 'baseOnBalls', 'intentionalWalks', 'hits', 'hitByPitch',\n",
        "       'atBats', 'caughtStealing', 'stolenBases', 'groundIntoDoublePlay',\n",
        "       'groundIntoTriplePlay', 'plateAppearances', 'totalBases', 'rbi',\n",
        "       'leftOnBase', 'sacBunts', 'sacFlies', 'catchersInterference',\n",
        "       'pickoffs', 'gamesPlayedPitching', 'gamesStartedPitching',\n",
        "       'completeGamesPitching', 'shutoutsPitching', 'winsPitching',\n",
        "       'lossesPitching', 'flyOutsPitching', 'airOutsPitching',\n",
        "       'groundOutsPitching', 'runsPitching', 'doublesPitching',\n",
        "       'triplesPitching', 'homeRunsPitching', 'strikeOutsPitching',\n",
        "       'baseOnBallsPitching', 'intentionalWalksPitching', 'hitsPitching',\n",
        "       'hitByPitchPitching', 'atBatsPitching', 'caughtStealingPitching',\n",
        "       'stolenBasesPitching', 'inningsPitched', 'saveOpportunities',\n",
        "       'earnedRuns', 'battersFaced', 'outsPitching', 'pitchesThrown', 'balls',\n",
        "       'strikes', 'hitBatsmen', 'balks', 'wildPitches', 'pickoffsPitching',\n",
        "       'rbiPitching', 'gamesFinishedPitching', 'inheritedRunners',\n",
        "       'inheritedRunnersScored', 'catchersInterferencePitching',\n",
        "       'sacBuntsPitching', 'sacFliesPitching', 'saves', 'holds', 'blownSaves',\n",
        "       'assists', 'putOuts', 'errors', 'chances','target1_mean',\n",
        " 'target1_median',\n",
        " 'target1_std',\n",
        " 'target1_min',\n",
        " 'target1_max',\n",
        " 'target1_prob',\n",
        " 'target2_mean',\n",
        " 'target2_median',\n",
        " 'target2_std',\n",
        " 'target2_min',\n",
        " 'target2_max',\n",
        " 'target2_prob',\n",
        " 'target3_mean',\n",
        " 'target3_median',\n",
        " 'target3_std',\n",
        " 'target3_min',\n",
        " 'target3_max',\n",
        " 'target3_prob',\n",
        " 'target4_mean',\n",
        " 'target4_median',\n",
        " 'target4_std',\n",
        " 'target4_min',\n",
        " 'target4_max',\n",
        " 'target4_prob',\n",
        "    'target1',\"divisionId\",\"target2\"]\n",
        "feature_cols4 = ['label_playerId', 'label_primaryPositionName', 'label_teamId',\n",
        "       'label_status', 'battingOrder', 'gamesPlayedBatting', 'flyOuts',\n",
        "       'groundOuts', 'runsScored', 'doubles', 'triples', 'homeRuns',\n",
        "       'strikeOuts', 'baseOnBalls', 'intentionalWalks', 'hits', 'hitByPitch',\n",
        "       'atBats', 'caughtStealing', 'stolenBases', 'groundIntoDoublePlay',\n",
        "       'groundIntoTriplePlay', 'plateAppearances', 'totalBases', 'rbi',\n",
        "       'leftOnBase', 'sacBunts', 'sacFlies', 'catchersInterference',\n",
        "       'pickoffs', 'gamesPlayedPitching', 'gamesStartedPitching',\n",
        "       'completeGamesPitching', 'shutoutsPitching', 'winsPitching',\n",
        "       'lossesPitching', 'flyOutsPitching', 'airOutsPitching',\n",
        "       'groundOutsPitching', 'runsPitching', 'doublesPitching',\n",
        "       'triplesPitching', 'homeRunsPitching', 'strikeOutsPitching',\n",
        "       'baseOnBallsPitching', 'intentionalWalksPitching', 'hitsPitching',\n",
        "       'hitByPitchPitching', 'atBatsPitching', 'caughtStealingPitching',\n",
        "       'stolenBasesPitching', 'inningsPitched', 'saveOpportunities',\n",
        "       'earnedRuns', 'battersFaced', 'outsPitching', 'pitchesThrown', 'balls',\n",
        "       'strikes', 'hitBatsmen', 'balks', 'wildPitches', 'pickoffsPitching',\n",
        "       'rbiPitching', 'gamesFinishedPitching', 'inheritedRunners',\n",
        "       'inheritedRunnersScored', 'catchersInterferencePitching',\n",
        "       'sacBuntsPitching', 'sacFliesPitching', 'saves', 'holds', 'blownSaves',\n",
        "       'assists', 'putOuts', 'errors', 'chances','target1_mean',\n",
        " 'target1_median',\n",
        " 'target1_std',\n",
        " 'target1_min',\n",
        " 'target1_max',\n",
        " 'target1_prob',\n",
        " 'target2_mean',\n",
        " 'target2_median',\n",
        " 'target2_std',\n",
        " 'target2_min',\n",
        " 'target2_max',\n",
        " 'target2_prob',\n",
        " 'target3_mean',\n",
        " 'target3_median',\n",
        " 'target3_std',\n",
        " 'target3_min',\n",
        " 'target3_max',\n",
        " 'target3_prob',\n",
        " 'target4_mean',\n",
        " 'target4_median',\n",
        " 'target4_std',\n",
        " 'target4_min',\n",
        " 'target4_max',\n",
        " 'target4_prob',\n",
        "    'target1',\"divisionId\",\"target2\",\"target3\"]"
      ],
      "id": "a6v4Y4rYUHIW",
      "execution_count": null,
      "outputs": []
    },
    {
      "cell_type": "code",
      "metadata": {
        "execution": {
          "iopub.execute_input": "2021-06-25T22:18:55.703085Z",
          "iopub.status.busy": "2021-06-25T22:18:55.702455Z",
          "iopub.status.idle": "2021-06-25T22:19:05.117538Z",
          "shell.execute_reply": "2021-06-25T22:19:05.116598Z",
          "shell.execute_reply.started": "2021-06-25T21:58:36.852876Z"
        },
        "papermill": {
          "duration": 9.448263,
          "end_time": "2021-06-25T22:19:05.117741",
          "exception": false,
          "start_time": "2021-06-25T22:18:55.669478",
          "status": "completed"
        },
        "tags": [],
        "id": "unauthorized-stretch"
      },
      "source": [
        "train = targets[targets_cols].merge(players[players_cols], on=['playerId'], how='left')\n",
        "train = train.merge(rosters[rosters_cols], on=['playerId', 'date'], how='left')\n",
        "train = train.merge(scores[scores_cols], on=['playerId', 'date'], how='left')\n",
        "train = train.merge(games[games_cols], on=[\"gamePk\"], how=\"left\")\n",
        "train = train.merge(standings[standings_cols], on=['date',\"teamId\"], how='left')\n",
        "train = train.merge(awards2[awards_cols], on=['playerId'], how='left')\n",
        "train = train.merge(player_target_stats, how='inner', left_on=[\"playerId\"],right_on=[\"playerId\"])"
      ],
      "id": "unauthorized-stretch",
      "execution_count": null,
      "outputs": []
    },
    {
      "cell_type": "code",
      "metadata": {
        "id": "adY9aY39Y2ez"
      },
      "source": [
        "del awards\n",
        "del scores\n",
        "del rosters\n",
        "del standings"
      ],
      "id": "adY9aY39Y2ez",
      "execution_count": null,
      "outputs": []
    },
    {
      "cell_type": "code",
      "metadata": {
        "execution": {
          "iopub.execute_input": "2021-06-25T22:19:05.280987Z",
          "iopub.status.busy": "2021-06-25T22:19:05.280074Z",
          "iopub.status.idle": "2021-06-25T22:19:06.308927Z",
          "shell.execute_reply": "2021-06-25T22:19:06.308036Z",
          "shell.execute_reply.started": "2021-06-25T21:58:44.298952Z"
        },
        "papermill": {
          "duration": 1.157038,
          "end_time": "2021-06-25T22:19:06.309107",
          "exception": false,
          "start_time": "2021-06-25T22:19:05.152069",
          "status": "completed"
        },
        "tags": [],
        "colab": {
          "base_uri": "https://localhost:8080/",
          "height": 69
        },
        "id": "identified-resource",
        "outputId": "3639c394-44b5-4b89-d1d8-a7596d64d381"
      },
      "source": [
        "\"\"\"train[\"ongame\"] = np.where(train[\"gamePk\"].isnull() == 1,0,1)\n",
        "train[\"ongame\"].unique()\n",
        "train[\"ishome\"] = \"\"\n",
        "train[\"ishome\"] = np.where(train[\"teamId\"]==train[\"homeId\"],2,train[\"ongame\"])\n",
        "train[\"winorlose\"] = np.where(train[\"teamId\"]==train[\"homeId\"],train[\"homeWinner\"],train[\"awayWinner\"])\n",
        "train[\"winorlose\"] = train[\"winorlose\"].fillna(2.0).astype(int)\n",
        "train[\"winorlose\"].unique()\n",
        "train[\"score\"] = np.where(train[\"teamId\"]==train[\"homeId\"],train[\"homeScore\"],train[\"awayScore\"])\"\"\""
      ],
      "id": "identified-resource",
      "execution_count": null,
      "outputs": [
        {
          "output_type": "execute_result",
          "data": {
            "application/vnd.google.colaboratory.intrinsic+json": {
              "type": "string"
            },
            "text/plain": [
              "'train[\"ongame\"] = np.where(train[\"gamePk\"].isnull() == 1,0,1)\\ntrain[\"ongame\"].unique()\\ntrain[\"ishome\"] = \"\"\\ntrain[\"ishome\"] = np.where(train[\"teamId\"]==train[\"homeId\"],2,train[\"ongame\"])\\ntrain[\"winorlose\"] = np.where(train[\"teamId\"]==train[\"homeId\"],train[\"homeWinner\"],train[\"awayWinner\"])\\ntrain[\"winorlose\"] = train[\"winorlose\"].fillna(2.0).astype(int)\\ntrain[\"winorlose\"].unique()\\ntrain[\"score\"] = np.where(train[\"teamId\"]==train[\"homeId\"],train[\"homeScore\"],train[\"awayScore\"])'"
            ]
          },
          "metadata": {
            "tags": []
          },
          "execution_count": 127
        }
      ]
    },
    {
      "cell_type": "code",
      "metadata": {
        "execution": {
          "iopub.execute_input": "2021-06-25T22:19:06.379223Z",
          "iopub.status.busy": "2021-06-25T22:19:06.378433Z",
          "iopub.status.idle": "2021-06-25T22:19:09.364865Z",
          "shell.execute_reply": "2021-06-25T22:19:09.364128Z",
          "shell.execute_reply.started": "2021-06-25T21:58:45.283486Z"
        },
        "papermill": {
          "duration": 3.0266,
          "end_time": "2021-06-25T22:19:09.365076",
          "exception": false,
          "start_time": "2021-06-25T22:19:06.338476",
          "status": "completed"
        },
        "tags": [],
        "id": "outstanding-spoke"
      },
      "source": [
        "# label encoding\n",
        "player2num = {c: i for i, c in enumerate(train['playerId'].unique())}\n",
        "position2num = {c: i for i, c in enumerate(train['primaryPositionName'].unique())}\n",
        "teamid2num = {c: i for i, c in enumerate(train['teamId'].unique())}\n",
        "status2num = {c: i for i, c in enumerate(train['status'].unique())}\n",
        "daynight2num = {c: i for i, c in enumerate(train['dayNight'].unique())}\n",
        "seriesDescription2num = {c: i for i, c in enumerate(train['seriesDescription'].unique())}\n",
        "gameType2num = {c: i for i, c in enumerate(train['gameType'].unique())}\n",
        "train['label_playerId'] = train['playerId'].map(player2num)\n",
        "train['label_primaryPositionName'] = train['primaryPositionName'].map(position2num)\n",
        "train['label_teamId'] = train['teamId'].map(teamid2num)\n",
        "train['label_status'] = train['status'].map(status2num)\n",
        "train[\"label_daynight\"] = train['dayNight'].map(daynight2num)\n",
        "train[\"label_seriesDescription\"] = train[\"seriesDescription\"].map(seriesDescription2num)"
      ],
      "id": "outstanding-spoke",
      "execution_count": null,
      "outputs": []
    },
    {
      "cell_type": "code",
      "metadata": {
        "execution": {
          "iopub.execute_input": "2021-06-25T22:19:09.441422Z",
          "iopub.status.busy": "2021-06-25T22:19:09.438428Z",
          "iopub.status.idle": "2021-06-25T22:19:17.553819Z",
          "shell.execute_reply": "2021-06-25T22:19:17.554566Z",
          "shell.execute_reply.started": "2021-06-25T21:58:48.179255Z"
        },
        "papermill": {
          "duration": 8.158299,
          "end_time": "2021-06-25T22:19:17.555101",
          "exception": false,
          "start_time": "2021-06-25T22:19:09.396802",
          "status": "completed"
        },
        "tags": [],
        "colab": {
          "base_uri": "https://localhost:8080/"
        },
        "id": "negative-offset",
        "outputId": "323efc6d-fd84-42f1-89db-4816b8f20d6e"
      },
      "source": [
        "train_X1 = train[feature_cols]\n",
        "train_X2 = train[feature_cols2]\n",
        "train_X3 = train[feature_cols3]\n",
        "train_X4 = train[feature_cols4]\n",
        "\n",
        "train_y = train[['target1', 'target2', 'target3', 'target4']]\n",
        "\n",
        "_index = (train['date'] < 20210401)\n",
        "del train\n",
        "gc.collect()\n",
        "\n",
        "\n",
        "x_train1 = train_X1.loc[_index].reset_index(drop=True)\n",
        "y_train = train_y.loc[_index].reset_index(drop=True)\n",
        "x_valid1 = train_X1.loc[~_index].reset_index(drop=True)\n",
        "y_valid = train_y.loc[~_index].reset_index(drop=True)\n",
        "\n",
        "x_train2 = train_X2.loc[_index].reset_index(drop=True)\n",
        "x_valid2 = train_X2.loc[~_index].reset_index(drop=True)\n",
        "x_train3 = train_X3.loc[_index].reset_index(drop=True)\n",
        "x_valid3 = train_X3.loc[~_index].reset_index(drop=True)\n",
        "x_train4 = train_X4.loc[_index].reset_index(drop=True)\n",
        "x_valid4 = train_X4.loc[~_index].reset_index(drop=True)\n",
        "\n",
        "del train_X1,train_X2,train_X3,train_X4\n",
        "gc.collect()"
      ],
      "id": "negative-offset",
      "execution_count": null,
      "outputs": [
        {
          "output_type": "execute_result",
          "data": {
            "text/plain": [
              "0"
            ]
          },
          "metadata": {
            "tags": []
          },
          "execution_count": 129
        }
      ]
    },
    {
      "cell_type": "code",
      "metadata": {
        "execution": {
          "iopub.execute_input": "2021-06-25T22:19:17.614762Z",
          "iopub.status.busy": "2021-06-25T22:19:17.614054Z",
          "iopub.status.idle": "2021-06-25T22:19:17.624743Z",
          "shell.execute_reply": "2021-06-25T22:19:17.625239Z",
          "shell.execute_reply.started": "2021-06-25T21:58:57.444888Z"
        },
        "papermill": {
          "duration": 0.04094,
          "end_time": "2021-06-25T22:19:17.625445",
          "exception": false,
          "start_time": "2021-06-25T22:19:17.584505",
          "status": "completed"
        },
        "tags": [],
        "colab": {
          "base_uri": "https://localhost:8080/"
        },
        "id": "sticky-stand",
        "outputId": "9bb0c13c-5e13-4016-fe51-137905e505cf"
      },
      "source": [
        "def fit_lgbm(x_train, y_train, x_valid, y_valid, params: dict=None, verbose=100):\n",
        "    oof_pred = np.zeros(len(y_valid), dtype=np.float32)\n",
        "    model = lgbm.LGBMRegressor(**params)\n",
        "    model.fit(x_train, y_train, \n",
        "        eval_set=[(x_valid, y_valid)],  \n",
        "        early_stopping_rounds=verbose, \n",
        "        verbose=verbose)\n",
        "    oof_pred = model.predict(x_valid)\n",
        "    score = mean_absolute_error(oof_pred, y_valid)\n",
        "    print('mae:', score)\n",
        "    return oof_pred, model, score\n",
        "\n",
        "\n",
        "# training lightgbm\n",
        "\n",
        "params1 = {'objective':'mae','reg_alpha': 0.14947461820098767, 'reg_lambda': 0.10185644384043743, 'n_estimators': 3633, 'learning_rate': 0.08046301304430488, 'num_leaves': 674, 'feature_fraction': 0.9101240539122566, 'bagging_fraction': 0.9884451442950513, 'bagging_freq': 8, 'min_child_samples': 51}\n",
        "\n",
        "params2 = {\n",
        " 'objective':'mae',\n",
        " 'reg_alpha': 0.1,\n",
        " 'reg_lambda': 0.1, \n",
        " 'n_estimators': 80,\n",
        " 'learning_rate': 0.1,\n",
        " 'random_state': 42,\n",
        " \"num_leaves\": 22\n",
        "}\n",
        "\n",
        "params4 = {'objective':'mae','reg_alpha': 0.016468100279441976, 'reg_lambda': 0.09128335764019105, 'n_estimators': 9868, 'learning_rate': 0.10528150510326864, 'num_leaves': 157, 'feature_fraction': 0.5419185713426886, 'bagging_fraction': 0.2637405128936662, 'bagging_freq': 19, 'min_child_samples': 71}\n",
        "\n",
        "\n",
        "params = {\n",
        " 'objective':'mae',\n",
        " 'reg_alpha': 0.1,\n",
        " 'reg_lambda': 0.1, \n",
        " 'n_estimators': 10000,\n",
        " 'learning_rate': 0.1,\n",
        " 'random_state': 42,\n",
        " \"num_leaves\": 100\n",
        "}\n",
        "\n",
        "\n",
        "oof1, model1, score1 = fit_lgbm(\n",
        "    x_train1, y_train['target1'],\n",
        "    x_valid1, y_valid['target1'],\n",
        "    params1\n",
        ")\n",
        "file = '/content/drive/MyDrive/mlb/script/output/model1.pkl'\n",
        "pickle.dump(model1, open(file, 'wb'))\n",
        "\n",
        "oof2, model2, score2 = fit_lgbm(\n",
        "    x_train2, y_train['target2'],\n",
        "    x_valid2, y_valid['target2'],\n",
        "    params2\n",
        ")\n",
        "file = '/content/drive/MyDrive/mlb/script/output/model2.pkl'\n",
        "pickle.dump(model2, open(file, 'wb'))\n",
        "oof3, model3, score3 = fit_lgbm(\n",
        "    x_train3, y_train['target3'],\n",
        "    x_valid3, y_valid['target3'],\n",
        "    params\n",
        ")\n",
        "file = '/content/drive/MyDrive/mlb/script/output/model3.pkl'\n",
        "pickle.dump(model3, open(file, 'wb'))\n",
        "oof4, model4, score4 = fit_lgbm(\n",
        "    x_train4, y_train['target4'],\n",
        "    x_valid4, y_valid['target4'],\n",
        "    params4\n",
        ")\n",
        "file = '/content/drive/MyDrive/mlb/script/output/model4.pkl'\n",
        "pickle.dump(model4, open(file, 'wb'))\n",
        "score = (score1+score2+score3+score4) / 4\n",
        "print(f'score: {score}')\n"
      ],
      "id": "sticky-stand",
      "execution_count": null,
      "outputs": [
        {
          "output_type": "stream",
          "text": [
            "Training until validation scores don't improve for 100 rounds.\n",
            "[100]\tvalid_0's l1: 0.675479\n",
            "[200]\tvalid_0's l1: 0.675\n",
            "[300]\tvalid_0's l1: 0.674849\n",
            "[400]\tvalid_0's l1: 0.674797\n",
            "Early stopping, best iteration is:\n",
            "[386]\tvalid_0's l1: 0.674795\n",
            "mae: 0.6747952520457534\n",
            "Training until validation scores don't improve for 100 rounds.\n",
            "Did not meet early stopping. Best iteration is:\n",
            "[80]\tvalid_0's l1: 1.33804\n",
            "mae: 1.3380422758323847\n",
            "Training until validation scores don't improve for 100 rounds.\n",
            "[100]\tvalid_0's l1: 0.524984\n",
            "Early stopping, best iteration is:\n",
            "[71]\tvalid_0's l1: 0.524973\n",
            "mae: 0.5249728672534397\n",
            "Training until validation scores don't improve for 100 rounds.\n",
            "[100]\tvalid_0's l1: 1.00816\n",
            "[200]\tvalid_0's l1: 1.00229\n",
            "[300]\tvalid_0's l1: 0.999157\n",
            "[400]\tvalid_0's l1: 0.99896\n",
            "[500]\tvalid_0's l1: 0.997893\n",
            "[600]\tvalid_0's l1: 0.996616\n",
            "[700]\tvalid_0's l1: 0.996125\n",
            "[800]\tvalid_0's l1: 0.995703\n",
            "Early stopping, best iteration is:\n",
            "[759]\tvalid_0's l1: 0.995536\n",
            "mae: 0.9955364616017799\n",
            "score: 0.8833367141833394\n"
          ],
          "name": "stdout"
        }
      ]
    },
    {
      "cell_type": "code",
      "metadata": {
        "execution": {
          "iopub.execute_input": "2021-06-25T22:19:17.682673Z",
          "iopub.status.busy": "2021-06-25T22:19:17.681978Z",
          "iopub.status.idle": "2021-06-25T22:19:19.467296Z",
          "shell.execute_reply": "2021-06-25T22:19:19.467916Z",
          "shell.execute_reply.started": "2021-06-25T21:58:57.456212Z"
        },
        "papermill": {
          "duration": 1.81619,
          "end_time": "2021-06-25T22:19:19.468136",
          "exception": false,
          "start_time": "2021-06-25T22:19:17.651946",
          "status": "completed"
        },
        "tags": [],
        "colab": {
          "base_uri": "https://localhost:8080/",
          "height": 52
        },
        "id": "large-orlando",
        "outputId": "f2444c98-1917-40d7-e5f3-3edb4729b035"
      },
      "source": [
        "\"\"\"\n",
        "model1 = pickle.load(open('../input/mymodels/model1.pkl', 'rb'))\n",
        "model2 = pickle.load(open('../input/mymodels/model2.pkl', 'rb'))\n",
        "model3 = pickle.load(open('../input/mymodels/model3.pkl', 'rb'))\n",
        "model4 = pickle.load(open('../input/mymodels/model4.pkl', 'rb'))\"\"\""
      ],
      "id": "large-orlando",
      "execution_count": null,
      "outputs": [
        {
          "output_type": "execute_result",
          "data": {
            "application/vnd.google.colaboratory.intrinsic+json": {
              "type": "string"
            },
            "text/plain": [
              "\"\\nmodel1 = pickle.load(open('../input/mymodels/model1.pkl', 'rb'))\\nmodel2 = pickle.load(open('../input/mymodels/model2.pkl', 'rb'))\\nmodel3 = pickle.load(open('../input/mymodels/model3.pkl', 'rb'))\\nmodel4 = pickle.load(open('../input/mymodels/model4.pkl', 'rb'))\""
            ]
          },
          "metadata": {
            "tags": []
          },
          "execution_count": 131
        }
      ]
    },
    {
      "cell_type": "code",
      "metadata": {
        "execution": {
          "iopub.execute_input": "2021-06-25T22:19:19.523599Z",
          "iopub.status.busy": "2021-06-25T22:19:19.522922Z",
          "iopub.status.idle": "2021-06-25T22:19:19.531732Z",
          "shell.execute_reply": "2021-06-25T22:19:19.532260Z",
          "shell.execute_reply.started": "2021-06-25T21:58:59.002054Z"
        },
        "papermill": {
          "duration": 0.038158,
          "end_time": "2021-06-25T22:19:19.532427",
          "exception": false,
          "start_time": "2021-06-25T22:19:19.494269",
          "status": "completed"
        },
        "tags": [],
        "id": "sensitive-establishment"
      },
      "source": [
        "players_cols = ['playerId', 'primaryPositionName']\n",
        "rosters_cols = ['playerId', 'teamId', 'status']\n",
        "scores_cols = ['playerId', 'battingOrder', 'gamesPlayedBatting', 'flyOuts',\n",
        "       'groundOuts', 'runsScored', 'doubles', 'triples', 'homeRuns',\n",
        "       'strikeOuts', 'baseOnBalls', 'intentionalWalks', 'hits', 'hitByPitch',\n",
        "       'atBats', 'caughtStealing', 'stolenBases', 'groundIntoDoublePlay',\n",
        "       'groundIntoTriplePlay', 'plateAppearances', 'totalBases', 'rbi',\n",
        "       'leftOnBase', 'sacBunts', 'sacFlies', 'catchersInterference',\n",
        "       'pickoffs', 'gamesPlayedPitching', 'gamesStartedPitching',\n",
        "       'completeGamesPitching', 'shutoutsPitching', 'winsPitching',\n",
        "       'lossesPitching', 'flyOutsPitching', 'airOutsPitching',\n",
        "       'groundOutsPitching', 'runsPitching', 'doublesPitching',\n",
        "       'triplesPitching', 'homeRunsPitching', 'strikeOutsPitching',\n",
        "       'baseOnBallsPitching', 'intentionalWalksPitching', 'hitsPitching',\n",
        "       'hitByPitchPitching', 'atBatsPitching', 'caughtStealingPitching',\n",
        "       'stolenBasesPitching', 'inningsPitched', 'saveOpportunities',\n",
        "       'earnedRuns', 'battersFaced', 'outsPitching', 'pitchesThrown', 'balls',\n",
        "       'strikes', 'hitBatsmen', 'balks', 'wildPitches', 'pickoffsPitching',\n",
        "       'rbiPitching', 'gamesFinishedPitching', 'inheritedRunners',\n",
        "       'inheritedRunnersScored', 'catchersInterferencePitching',\n",
        "       'sacBuntsPitching', 'sacFliesPitching', 'saves', 'holds', 'blownSaves',\n",
        "       'assists', 'putOuts', 'errors', 'chances']\n",
        "standings_cols = [\"teamId\",\"divisionRank\",\"divisionLeader\",\"wildCardLeader\",\"leagueRank\",\"divisionId\",\"gameDate\"]\n",
        "null = np.nan\n",
        "true = True\n",
        "false = False"
      ],
      "id": "sensitive-establishment",
      "execution_count": null,
      "outputs": []
    },
    {
      "cell_type": "code",
      "metadata": {
        "execution": {
          "iopub.execute_input": "2021-06-25T22:19:19.604016Z",
          "iopub.status.busy": "2021-06-25T22:19:19.598864Z",
          "iopub.status.idle": "2021-06-25T22:23:45.296062Z",
          "shell.execute_reply": "2021-06-25T22:23:45.295267Z",
          "shell.execute_reply.started": "2021-06-25T21:58:59.015564Z"
        },
        "papermill": {
          "duration": 265.737683,
          "end_time": "2021-06-25T22:23:45.296307",
          "exception": false,
          "start_time": "2021-06-25T22:19:19.558624",
          "status": "completed"
        },
        "tags": [],
        "colab": {
          "base_uri": "https://localhost:8080/",
          "height": 447
        },
        "id": "hundred-thunder",
        "outputId": "eac1ec80-7fd0-4376-d0a9-133ccb075c65"
      },
      "source": [
        "import pandas as pd\n",
        "import numpy as np\n",
        "from datetime import timedelta\n",
        "from tqdm import tqdm\n",
        "import gc\n",
        "from functools import reduce\n",
        "from sklearn.model_selection import StratifiedKFold\n",
        "\n",
        "ROOT_DIR = \"../input/mlb-player-digital-engagement-forecasting\"\n",
        "\n",
        "#=======================#\n",
        "def flatten(df, col):\n",
        "    du = (df.pivot(index=\"playerId\", columns=\"EvalDate\", \n",
        "               values=col).add_prefix(f\"{col}_\").\n",
        "      rename_axis(None, axis=1).reset_index())\n",
        "    return du\n",
        "#============================#\n",
        "def reducer(left, right):\n",
        "    return left.merge(right, on=\"playerId\")\n",
        "#========================\n",
        "\n",
        "TGTCOLS = [\"target1\",\"target2\",\"target3\",\"target4\"]\n",
        "def train_lag(df, lag=1):\n",
        "    dp = df[[\"playerId\",\"EvalDate\"]+TGTCOLS].copy()\n",
        "    dp[\"EvalDate\"]  =dp[\"EvalDate\"] + timedelta(days=lag) \n",
        "    df = df.merge(dp, on=[\"playerId\", \"EvalDate\"], suffixes=[\"\",f\"_{lag}\"], how=\"left\")\n",
        "    return df\n",
        "#=================================\n",
        "def test_lag(sub):\n",
        "    sub[\"playerId\"] = sub[\"date_playerId\"].apply(lambda s: int(  s.split(\"_\")[1]  ) )\n",
        "    assert sub.date.nunique() == 1\n",
        "    dte = sub[\"date\"].unique()[0]\n",
        "    \n",
        "    eval_dt = pd.to_datetime(dte, format=\"%Y%m%d\")\n",
        "    dtes = [eval_dt + timedelta(days=-k) for k in LAGS]\n",
        "    mp_dtes = {eval_dt + timedelta(days=-k):k for k in LAGS}\n",
        "    \n",
        "    sl = LAST.loc[LAST.EvalDate.between(dtes[-1], dtes[0]), [\"EvalDate\",\"playerId\"]+TGTCOLS].copy()\n",
        "    sl[\"EvalDate\"] = sl[\"EvalDate\"].map(mp_dtes)\n",
        "    du = [flatten(sl, col) for col in TGTCOLS]\n",
        "    du = reduce(reducer, du)\n",
        "    return du, eval_dt\n",
        "    #\n",
        "#===============\n",
        "\n",
        "tr = pd.read_csv(\"../input/mlb-data/target.csv\")\n",
        "print(tr.shape)\n",
        "gc.collect()\n",
        "\n",
        "tr[\"EvalDate\"] = pd.to_datetime(tr[\"EvalDate\"])\n",
        "tr[\"EvalDate\"] = tr[\"EvalDate\"] + timedelta(days=-1)\n",
        "tr[\"EvalYear\"] = tr[\"EvalDate\"].dt.year\n",
        "\n",
        "MED_DF = tr.groupby([\"playerId\",\"EvalYear\"])[TGTCOLS].median().reset_index()\n",
        "MEDCOLS = [\"tgt1_med\",\"tgt2_med\", \"tgt3_med\", \"tgt4_med\"]\n",
        "MED_DF.columns = [\"playerId\",\"EvalYear\"] + MEDCOLS\n",
        "\n",
        "LAGS = list(range(1,21))\n",
        "FECOLS = [f\"{col}_{lag}\" for lag in reversed(LAGS) for col in TGTCOLS]\n",
        "\n",
        "for lag in tqdm(LAGS):\n",
        "    tr = train_lag(tr, lag=lag)\n",
        "    gc.collect()\n",
        "#===========\n",
        "tr = tr.sort_values(by=[\"playerId\", \"EvalDate\"])\n",
        "print(tr.shape)\n",
        "tr = tr.dropna()\n",
        "print(tr.shape)\n",
        "tr = tr.merge(MED_DF, on=[\"playerId\",\"EvalYear\"])\n",
        "gc.collect()\n",
        "\n",
        "X = tr[FECOLS+MEDCOLS].values\n",
        "y = tr[TGTCOLS].values\n",
        "cl = tr[\"playerId\"].values\n",
        "\n",
        "NFOLDS = 6\n",
        "skf = StratifiedKFold(n_splits=NFOLDS)\n",
        "folds = skf.split(X, cl)\n",
        "folds = list(folds)\n",
        "\n",
        "import tensorflow as tf\n",
        "import tensorflow.keras.layers as L\n",
        "import tensorflow.keras.models as M\n",
        "from sklearn.metrics import mean_absolute_error, mean_squared_error\n",
        "from tensorflow.keras.callbacks import ModelCheckpoint, ReduceLROnPlateau, EarlyStopping\n",
        "\n",
        "tf.random.set_seed(777)\n",
        "\n",
        "def make_model(n_in):\n",
        "    inp = L.Input(name=\"inputs\", shape=(n_in,))\n",
        "    x = L.Dense(50, activation=\"relu\", name=\"d1\")(inp)\n",
        "    x = L.Dense(50, activation=\"relu\", name=\"d2\")(x)\n",
        "    preds = L.Dense(4, activation=\"linear\", name=\"preds\")(x)\n",
        "    \n",
        "    model = M.Model(inp, preds, name=\"ANN\")\n",
        "    model.compile(loss=\"mean_absolute_error\", optimizer=\"adam\")\n",
        "    return model\n",
        "\n",
        "net = make_model(X.shape[1])\n",
        "print(net.summary())\n",
        "\n",
        "oof = np.zeros(y.shape)\n",
        "nets = []\n",
        "for idx in range(NFOLDS):\n",
        "    print(\"FOLD:\", idx)\n",
        "    tr_idx, val_idx = folds[idx]\n",
        "    ckpt = ModelCheckpoint(f\"w{idx}.h5\", monitor='val_loss', verbose=1, save_best_only=True,mode='min')\n",
        "    reduce_lr = ReduceLROnPlateau(monitor='val_loss', factor=0.2,patience=3, min_lr=0.0005)\n",
        "    es = EarlyStopping(monitor='val_loss', patience=6)\n",
        "    reg = make_model(X.shape[1])\n",
        "    reg.fit(X[tr_idx], y[tr_idx], epochs=10, batch_size=35_000, validation_data=(X[val_idx], y[val_idx]),\n",
        "            verbose=1, callbacks=[ckpt, reduce_lr, es])\n",
        "    reg.load_weights(f\"w{idx}.h5\")\n",
        "    oof[val_idx] = reg.predict(X[val_idx], batch_size=50_000, verbose=1)\n",
        "    nets.append(reg)\n",
        "    gc.collect()\n",
        "    #\n",
        "#\n",
        "\n",
        "mae = mean_absolute_error(y, oof)\n",
        "mse = mean_squared_error(y, oof, squared=False)\n",
        "print(\"mae:\", mae)\n",
        "print(\"mse:\", mse)\n",
        "\n",
        "# Historical information to use in prediction time\n",
        "bound_dt = pd.to_datetime(\"2021-01-01\")\n",
        "LAST = tr.loc[tr.EvalDate>bound_dt].copy()\n",
        "\n",
        "LAST_MED_DF = MED_DF.loc[MED_DF.EvalYear==2021].copy()\n",
        "LAST_MED_DF.drop(\"EvalYear\", axis=1, inplace=True)\n",
        "del tr\n",
        "\n",
        "#\"\"\"\n",
        "import mlb\n",
        "FE = []; SUB = [];"
      ],
      "id": "hundred-thunder",
      "execution_count": null,
      "outputs": [
        {
          "output_type": "error",
          "ename": "FileNotFoundError",
          "evalue": "ignored",
          "traceback": [
            "\u001b[0;31m---------------------------------------------------------------------------\u001b[0m",
            "\u001b[0;31mFileNotFoundError\u001b[0m                         Traceback (most recent call last)",
            "\u001b[0;32m<ipython-input-133-248adacbd808>\u001b[0m in \u001b[0;36m<module>\u001b[0;34m()\u001b[0m\n\u001b[1;32m     44\u001b[0m \u001b[0;31m#===============\u001b[0m\u001b[0;34m\u001b[0m\u001b[0;34m\u001b[0m\u001b[0;34m\u001b[0m\u001b[0m\n\u001b[1;32m     45\u001b[0m \u001b[0;34m\u001b[0m\u001b[0m\n\u001b[0;32m---> 46\u001b[0;31m \u001b[0mtr\u001b[0m \u001b[0;34m=\u001b[0m \u001b[0mpd\u001b[0m\u001b[0;34m.\u001b[0m\u001b[0mread_csv\u001b[0m\u001b[0;34m(\u001b[0m\u001b[0;34m\"../input/mlb-data/target.csv\"\u001b[0m\u001b[0;34m)\u001b[0m\u001b[0;34m\u001b[0m\u001b[0;34m\u001b[0m\u001b[0m\n\u001b[0m\u001b[1;32m     47\u001b[0m \u001b[0mprint\u001b[0m\u001b[0;34m(\u001b[0m\u001b[0mtr\u001b[0m\u001b[0;34m.\u001b[0m\u001b[0mshape\u001b[0m\u001b[0;34m)\u001b[0m\u001b[0;34m\u001b[0m\u001b[0;34m\u001b[0m\u001b[0m\n\u001b[1;32m     48\u001b[0m \u001b[0mgc\u001b[0m\u001b[0;34m.\u001b[0m\u001b[0mcollect\u001b[0m\u001b[0;34m(\u001b[0m\u001b[0;34m)\u001b[0m\u001b[0;34m\u001b[0m\u001b[0;34m\u001b[0m\u001b[0m\n",
            "\u001b[0;32m/usr/local/lib/python3.7/dist-packages/pandas/io/parsers.py\u001b[0m in \u001b[0;36mread_csv\u001b[0;34m(filepath_or_buffer, sep, delimiter, header, names, index_col, usecols, squeeze, prefix, mangle_dupe_cols, dtype, engine, converters, true_values, false_values, skipinitialspace, skiprows, skipfooter, nrows, na_values, keep_default_na, na_filter, verbose, skip_blank_lines, parse_dates, infer_datetime_format, keep_date_col, date_parser, dayfirst, cache_dates, iterator, chunksize, compression, thousands, decimal, lineterminator, quotechar, quoting, doublequote, escapechar, comment, encoding, dialect, error_bad_lines, warn_bad_lines, delim_whitespace, low_memory, memory_map, float_precision)\u001b[0m\n\u001b[1;32m    686\u001b[0m     )\n\u001b[1;32m    687\u001b[0m \u001b[0;34m\u001b[0m\u001b[0m\n\u001b[0;32m--> 688\u001b[0;31m     \u001b[0;32mreturn\u001b[0m \u001b[0m_read\u001b[0m\u001b[0;34m(\u001b[0m\u001b[0mfilepath_or_buffer\u001b[0m\u001b[0;34m,\u001b[0m \u001b[0mkwds\u001b[0m\u001b[0;34m)\u001b[0m\u001b[0;34m\u001b[0m\u001b[0;34m\u001b[0m\u001b[0m\n\u001b[0m\u001b[1;32m    689\u001b[0m \u001b[0;34m\u001b[0m\u001b[0m\n\u001b[1;32m    690\u001b[0m \u001b[0;34m\u001b[0m\u001b[0m\n",
            "\u001b[0;32m/usr/local/lib/python3.7/dist-packages/pandas/io/parsers.py\u001b[0m in \u001b[0;36m_read\u001b[0;34m(filepath_or_buffer, kwds)\u001b[0m\n\u001b[1;32m    452\u001b[0m \u001b[0;34m\u001b[0m\u001b[0m\n\u001b[1;32m    453\u001b[0m     \u001b[0;31m# Create the parser.\u001b[0m\u001b[0;34m\u001b[0m\u001b[0;34m\u001b[0m\u001b[0;34m\u001b[0m\u001b[0m\n\u001b[0;32m--> 454\u001b[0;31m     \u001b[0mparser\u001b[0m \u001b[0;34m=\u001b[0m \u001b[0mTextFileReader\u001b[0m\u001b[0;34m(\u001b[0m\u001b[0mfp_or_buf\u001b[0m\u001b[0;34m,\u001b[0m \u001b[0;34m**\u001b[0m\u001b[0mkwds\u001b[0m\u001b[0;34m)\u001b[0m\u001b[0;34m\u001b[0m\u001b[0;34m\u001b[0m\u001b[0m\n\u001b[0m\u001b[1;32m    455\u001b[0m \u001b[0;34m\u001b[0m\u001b[0m\n\u001b[1;32m    456\u001b[0m     \u001b[0;32mif\u001b[0m \u001b[0mchunksize\u001b[0m \u001b[0;32mor\u001b[0m \u001b[0miterator\u001b[0m\u001b[0;34m:\u001b[0m\u001b[0;34m\u001b[0m\u001b[0;34m\u001b[0m\u001b[0m\n",
            "\u001b[0;32m/usr/local/lib/python3.7/dist-packages/pandas/io/parsers.py\u001b[0m in \u001b[0;36m__init__\u001b[0;34m(self, f, engine, **kwds)\u001b[0m\n\u001b[1;32m    946\u001b[0m             \u001b[0mself\u001b[0m\u001b[0;34m.\u001b[0m\u001b[0moptions\u001b[0m\u001b[0;34m[\u001b[0m\u001b[0;34m\"has_index_names\"\u001b[0m\u001b[0;34m]\u001b[0m \u001b[0;34m=\u001b[0m \u001b[0mkwds\u001b[0m\u001b[0;34m[\u001b[0m\u001b[0;34m\"has_index_names\"\u001b[0m\u001b[0;34m]\u001b[0m\u001b[0;34m\u001b[0m\u001b[0;34m\u001b[0m\u001b[0m\n\u001b[1;32m    947\u001b[0m \u001b[0;34m\u001b[0m\u001b[0m\n\u001b[0;32m--> 948\u001b[0;31m         \u001b[0mself\u001b[0m\u001b[0;34m.\u001b[0m\u001b[0m_make_engine\u001b[0m\u001b[0;34m(\u001b[0m\u001b[0mself\u001b[0m\u001b[0;34m.\u001b[0m\u001b[0mengine\u001b[0m\u001b[0;34m)\u001b[0m\u001b[0;34m\u001b[0m\u001b[0;34m\u001b[0m\u001b[0m\n\u001b[0m\u001b[1;32m    949\u001b[0m \u001b[0;34m\u001b[0m\u001b[0m\n\u001b[1;32m    950\u001b[0m     \u001b[0;32mdef\u001b[0m \u001b[0mclose\u001b[0m\u001b[0;34m(\u001b[0m\u001b[0mself\u001b[0m\u001b[0;34m)\u001b[0m\u001b[0;34m:\u001b[0m\u001b[0;34m\u001b[0m\u001b[0;34m\u001b[0m\u001b[0m\n",
            "\u001b[0;32m/usr/local/lib/python3.7/dist-packages/pandas/io/parsers.py\u001b[0m in \u001b[0;36m_make_engine\u001b[0;34m(self, engine)\u001b[0m\n\u001b[1;32m   1178\u001b[0m     \u001b[0;32mdef\u001b[0m \u001b[0m_make_engine\u001b[0m\u001b[0;34m(\u001b[0m\u001b[0mself\u001b[0m\u001b[0;34m,\u001b[0m \u001b[0mengine\u001b[0m\u001b[0;34m=\u001b[0m\u001b[0;34m\"c\"\u001b[0m\u001b[0;34m)\u001b[0m\u001b[0;34m:\u001b[0m\u001b[0;34m\u001b[0m\u001b[0;34m\u001b[0m\u001b[0m\n\u001b[1;32m   1179\u001b[0m         \u001b[0;32mif\u001b[0m \u001b[0mengine\u001b[0m \u001b[0;34m==\u001b[0m \u001b[0;34m\"c\"\u001b[0m\u001b[0;34m:\u001b[0m\u001b[0;34m\u001b[0m\u001b[0;34m\u001b[0m\u001b[0m\n\u001b[0;32m-> 1180\u001b[0;31m             \u001b[0mself\u001b[0m\u001b[0;34m.\u001b[0m\u001b[0m_engine\u001b[0m \u001b[0;34m=\u001b[0m \u001b[0mCParserWrapper\u001b[0m\u001b[0;34m(\u001b[0m\u001b[0mself\u001b[0m\u001b[0;34m.\u001b[0m\u001b[0mf\u001b[0m\u001b[0;34m,\u001b[0m \u001b[0;34m**\u001b[0m\u001b[0mself\u001b[0m\u001b[0;34m.\u001b[0m\u001b[0moptions\u001b[0m\u001b[0;34m)\u001b[0m\u001b[0;34m\u001b[0m\u001b[0;34m\u001b[0m\u001b[0m\n\u001b[0m\u001b[1;32m   1181\u001b[0m         \u001b[0;32melse\u001b[0m\u001b[0;34m:\u001b[0m\u001b[0;34m\u001b[0m\u001b[0;34m\u001b[0m\u001b[0m\n\u001b[1;32m   1182\u001b[0m             \u001b[0;32mif\u001b[0m \u001b[0mengine\u001b[0m \u001b[0;34m==\u001b[0m \u001b[0;34m\"python\"\u001b[0m\u001b[0;34m:\u001b[0m\u001b[0;34m\u001b[0m\u001b[0;34m\u001b[0m\u001b[0m\n",
            "\u001b[0;32m/usr/local/lib/python3.7/dist-packages/pandas/io/parsers.py\u001b[0m in \u001b[0;36m__init__\u001b[0;34m(self, src, **kwds)\u001b[0m\n\u001b[1;32m   2008\u001b[0m         \u001b[0mkwds\u001b[0m\u001b[0;34m[\u001b[0m\u001b[0;34m\"usecols\"\u001b[0m\u001b[0;34m]\u001b[0m \u001b[0;34m=\u001b[0m \u001b[0mself\u001b[0m\u001b[0;34m.\u001b[0m\u001b[0musecols\u001b[0m\u001b[0;34m\u001b[0m\u001b[0;34m\u001b[0m\u001b[0m\n\u001b[1;32m   2009\u001b[0m \u001b[0;34m\u001b[0m\u001b[0m\n\u001b[0;32m-> 2010\u001b[0;31m         \u001b[0mself\u001b[0m\u001b[0;34m.\u001b[0m\u001b[0m_reader\u001b[0m \u001b[0;34m=\u001b[0m \u001b[0mparsers\u001b[0m\u001b[0;34m.\u001b[0m\u001b[0mTextReader\u001b[0m\u001b[0;34m(\u001b[0m\u001b[0msrc\u001b[0m\u001b[0;34m,\u001b[0m \u001b[0;34m**\u001b[0m\u001b[0mkwds\u001b[0m\u001b[0;34m)\u001b[0m\u001b[0;34m\u001b[0m\u001b[0;34m\u001b[0m\u001b[0m\n\u001b[0m\u001b[1;32m   2011\u001b[0m         \u001b[0mself\u001b[0m\u001b[0;34m.\u001b[0m\u001b[0munnamed_cols\u001b[0m \u001b[0;34m=\u001b[0m \u001b[0mself\u001b[0m\u001b[0;34m.\u001b[0m\u001b[0m_reader\u001b[0m\u001b[0;34m.\u001b[0m\u001b[0munnamed_cols\u001b[0m\u001b[0;34m\u001b[0m\u001b[0;34m\u001b[0m\u001b[0m\n\u001b[1;32m   2012\u001b[0m \u001b[0;34m\u001b[0m\u001b[0m\n",
            "\u001b[0;32mpandas/_libs/parsers.pyx\u001b[0m in \u001b[0;36mpandas._libs.parsers.TextReader.__cinit__\u001b[0;34m()\u001b[0m\n",
            "\u001b[0;32mpandas/_libs/parsers.pyx\u001b[0m in \u001b[0;36mpandas._libs.parsers.TextReader._setup_parser_source\u001b[0;34m()\u001b[0m\n",
            "\u001b[0;31mFileNotFoundError\u001b[0m: [Errno 2] No such file or directory: '../input/mlb-data/target.csv'"
          ]
        }
      ]
    },
    {
      "cell_type": "markdown",
      "metadata": {
        "papermill": {
          "duration": 0.643124,
          "end_time": "2021-06-25T22:23:46.587799",
          "exception": false,
          "start_time": "2021-06-25T22:23:45.944675",
          "status": "completed"
        },
        "tags": [],
        "id": "defined-colors"
      },
      "source": [
        "## Inference"
      ],
      "id": "defined-colors"
    },
    {
      "cell_type": "code",
      "metadata": {
        "execution": {
          "iopub.execute_input": "2021-06-25T22:23:47.872922Z",
          "iopub.status.busy": "2021-06-25T22:23:47.871916Z",
          "iopub.status.idle": "2021-06-25T22:23:47.875718Z",
          "shell.execute_reply": "2021-06-25T22:23:47.875029Z",
          "shell.execute_reply.started": "2021-06-25T22:03:06.318592Z"
        },
        "papermill": {
          "duration": 0.649231,
          "end_time": "2021-06-25T22:23:47.875889",
          "exception": false,
          "start_time": "2021-06-25T22:23:47.226658",
          "status": "completed"
        },
        "tags": [],
        "id": "classified-cooper"
      },
      "source": [
        "def unpack_json(json_str):\n",
        "    return np.nan if pd.isna(json_str) else pd.read_json(json_str)"
      ],
      "id": "classified-cooper",
      "execution_count": null,
      "outputs": []
    },
    {
      "cell_type": "code",
      "metadata": {
        "execution": {
          "iopub.execute_input": "2021-06-25T22:23:49.244729Z",
          "iopub.status.busy": "2021-06-25T22:23:49.243737Z",
          "iopub.status.idle": "2021-06-25T22:23:49.248381Z",
          "shell.execute_reply": "2021-06-25T22:23:49.247718Z",
          "shell.execute_reply.started": "2021-06-25T22:03:06.324648Z"
        },
        "papermill": {
          "duration": 0.652999,
          "end_time": "2021-06-25T22:23:49.248559",
          "exception": false,
          "start_time": "2021-06-25T22:23:48.595560",
          "status": "completed"
        },
        "tags": [],
        "id": "electoral-tribute"
      },
      "source": [
        "\"\"\"players_cols = ['playerId', 'primaryPositionName']\n",
        "rosters_cols = ['playerId', 'teamId', 'status']\n",
        "scores_cols = ['playerId', 'battingOrder', 'gamesPlayedBatting', 'flyOuts',\n",
        "       'groundOuts', 'runsScored', 'doubles', 'triples', 'homeRuns',\n",
        "       'strikeOuts', 'baseOnBalls', 'intentionalWalks', 'hits', 'hitByPitch',\n",
        "       'atBats', 'caughtStealing', 'stolenBases', 'groundIntoDoublePlay',\n",
        "       'groundIntoTriplePlay', 'plateAppearances', 'totalBases', 'rbi',\n",
        "       'leftOnBase', 'sacBunts', 'sacFlies', 'catchersInterference',\n",
        "       'pickoffs', 'gamesPlayedPitching', 'gamesStartedPitching',\n",
        "       'completeGamesPitching', 'shutoutsPitching', 'winsPitching',\n",
        "       'lossesPitching', 'flyOutsPitching', 'airOutsPitching',\n",
        "       'groundOutsPitching', 'runsPitching', 'doublesPitching',\n",
        "       'triplesPitching', 'homeRunsPitching', 'strikeOutsPitching',\n",
        "       'baseOnBallsPitching', 'intentionalWalksPitching', 'hitsPitching',\n",
        "       'hitByPitchPitching', 'atBatsPitching', 'caughtStealingPitching',\n",
        "       'stolenBasesPitching', 'inningsPitched', 'saveOpportunities',\n",
        "       'earnedRuns', 'battersFaced', 'outsPitching', 'pitchesThrown', 'balls',\n",
        "       'strikes', 'hitBatsmen', 'balks', 'wildPitches', 'pickoffsPitching',\n",
        "       'rbiPitching', 'gamesFinishedPitching', 'inheritedRunners',\n",
        "       'inheritedRunnersScored', 'catchersInterferencePitching',\n",
        "       'sacBuntsPitching', 'sacFliesPitching', 'saves', 'holds', 'blownSaves',\n",
        "       'assists', 'putOuts', 'errors', 'chances']\n",
        "\n",
        "null = np.nan\n",
        "true = True\n",
        "false = False\"\"\""
      ],
      "id": "electoral-tribute",
      "execution_count": null,
      "outputs": []
    },
    {
      "cell_type": "code",
      "metadata": {
        "execution": {
          "iopub.execute_input": "2021-06-25T22:23:50.567106Z",
          "iopub.status.busy": "2021-06-25T22:23:50.561703Z",
          "iopub.status.idle": "2021-06-25T22:24:01.199513Z",
          "shell.execute_reply": "2021-06-25T22:24:01.198747Z",
          "shell.execute_reply.started": "2021-06-25T22:03:06.3406Z"
        },
        "papermill": {
          "duration": 11.293137,
          "end_time": "2021-06-25T22:24:01.199706",
          "exception": false,
          "start_time": "2021-06-25T22:23:49.906569",
          "status": "completed"
        },
        "tags": [],
        "id": "thousand-comfort"
      },
      "source": [
        "\"\"\"players_cols = ['playerId', 'primaryPositionName']\n",
        "rosters_cols = ['playerId', 'teamId', 'status']\n",
        "scores_cols = ['playerId', 'battingOrder', 'gamesPlayedBatting', 'flyOuts',\n",
        "       'groundOuts', 'runsScored', 'doubles', 'triples', 'homeRuns',\n",
        "       'strikeOuts', 'baseOnBalls', 'intentionalWalks', 'hits', 'hitByPitch',\n",
        "       'atBats', 'caughtStealing', 'stolenBases', 'groundIntoDoublePlay',\n",
        "       'groundIntoTriplePlay', 'plateAppearances', 'totalBases', 'rbi',\n",
        "       'leftOnBase', 'sacBunts', 'sacFlies', 'catchersInterference',\n",
        "       'pickoffs', 'gamesPlayedPitching', 'gamesStartedPitching',\n",
        "       'completeGamesPitching', 'shutoutsPitching', 'winsPitching',\n",
        "       'lossesPitching', 'flyOutsPitching', 'airOutsPitching',\n",
        "       'groundOutsPitching', 'runsPitching', 'doublesPitching',\n",
        "       'triplesPitching', 'homeRunsPitching', 'strikeOutsPitching',\n",
        "       'baseOnBallsPitching', 'intentionalWalksPitching', 'hitsPitching',\n",
        "       'hitByPitchPitching', 'atBatsPitching', 'caughtStealingPitching',\n",
        "       'stolenBasesPitching', 'inningsPitched', 'saveOpportunities',\n",
        "       'earnedRuns', 'battersFaced', 'outsPitching', 'pitchesThrown', 'balls',\n",
        "       'strikes', 'hitBatsmen', 'balks', 'wildPitches', 'pickoffsPitching',\n",
        "       'rbiPitching', 'gamesFinishedPitching', 'inheritedRunners',\n",
        "       'inheritedRunnersScored', 'catchersInterferencePitching',\n",
        "       'sacBuntsPitching', 'sacFliesPitching', 'saves', 'holds', 'blownSaves',\n",
        "       'assists', 'putOuts', 'errors', 'chances',\"gamePk\"]\n",
        "\n",
        "null = np.nan\n",
        "true = True\n",
        "false = False\n",
        "\n",
        "env = mlb.make_env() # initialize the environment\n",
        "iter_test = env.iter_test() # iterator which loops over each date in test set\n",
        "\n",
        "for (test_df, sample_prediction_df) in iter_test: # make predictions here\n",
        "    \n",
        "    sub = copy.deepcopy(sample_prediction_df.reset_index())\n",
        "    sample_prediction_df = copy.deepcopy(sample_prediction_df.reset_index(drop=True))\n",
        "    \n",
        "    \n",
        "    # creat dataset\n",
        "    sample_prediction_df['playerId'] = sample_prediction_df['date_playerId']\\\n",
        "                                        .map(lambda x: int(x.split('_')[1]))\n",
        "    # Dealing with missing values\n",
        "    if test_df['rosters'].iloc[0] == test_df['rosters'].iloc[0]:\n",
        "        test_rosters = pd.DataFrame(eval(test_df['rosters'].iloc[0]))\n",
        "    else:\n",
        "        test_rosters = pd.DataFrame({'playerId': sample_prediction_df['playerId']})\n",
        "        for col in rosters.columns:\n",
        "            if col == 'playerId': continue\n",
        "            test_rosters[col] = np.nan\n",
        "            \n",
        "    if test_df['playerBoxScores'].iloc[0] == test_df['playerBoxScores'].iloc[0]:\n",
        "        test_scores = pd.DataFrame(eval(test_df['playerBoxScores'].iloc[0]))\n",
        "    else:\n",
        "        test_scores = pd.DataFrame({'playerId': sample_prediction_df['playerId']})\n",
        "        for col in scores.columns:\n",
        "            if col == 'playerId': continue\n",
        "            test_scores[col] = np.nan\n",
        "    \n",
        "    test_games = unpack_json(test_df[\"games\"].iloc[0])\n",
        "    test_standings = unpack_json(test_df[\"standings\"].iloc[0])\n",
        "    \n",
        "            \n",
        "            \n",
        "    \n",
        "\n",
        "    \n",
        "\n",
        "\n",
        "\n",
        "        \n",
        "    test_scores = test_scores.groupby('playerId').sum().reset_index()\n",
        "    test = sample_prediction_df[['playerId']].copy()\n",
        "    test = test.merge(players[players_cols], on='playerId', how='left')\n",
        "    test = test.merge(test_rosters[rosters_cols], on='playerId', how='left')\n",
        "    test = test.merge(test_scores[scores_cols], on='playerId', how='left')\n",
        "    test = test.merge(test_games[games_cols], on=\"gamePk\", how=\"left\")\n",
        "    test = test.merge(awards2[awards_cols], on=['playerId'], how='left')\n",
        "    test = test.merge(player_target_stats, how='inner', left_on=[\"playerId\"],right_on=[\"playerId\"])\n",
        "    test = test.merge(test_standings[standings_cols], on=[\"teamId\"], how='left')\n",
        "    \n",
        "    #add feature\n",
        "    test[\"ongame\"] = np.where(test[\"gamePk\"].isnull() == 1,0,1)\n",
        "    test[\"ishome\"] = np.where(test[\"teamId\"]==test[\"homeId\"],2,test[\"ongame\"])\n",
        "    test[\"winorlose\"] = np.where(test[\"teamId\"]==test[\"homeId\"],test[\"homeWinner\"],test[\"awayWinner\"])\n",
        "    test[\"winorlose\"] = test[\"winorlose\"].fillna(2.0).astype(int)\n",
        "    test[\"score\"] = np.where(test[\"teamId\"]==test[\"homeId\"],test[\"homeScore\"],test[\"awayScore\"])\n",
        "    test[\"divisionRank\"] = test[\"divisionRank\"].fillna(7.0).astype(int)\n",
        "    test[\"divisionLeader\"] = test[\"divisionLeader\"].fillna(-1.0).astype(int)\n",
        "    test[\"wildCardLeader\"] = np.where(test[\"wildCardLeader\"]==\"True\",1,0)\n",
        "    \n",
        "    \n",
        "    \n",
        "    \n",
        "    #label encoding\n",
        "    test['label_playerId'] = test['playerId'].map(player2num)\n",
        "    test['label_primaryPositionName'] = test['primaryPositionName'].map(position2num)\n",
        "    test['label_teamId'] = test['teamId'].map(teamid2num)\n",
        "    test['label_status'] = test['status'].map(status2num)\n",
        "    test[\"label_daynight\"] = test['dayNight'].map(daynight2num)\n",
        "    test[\"label_seriesDescription\"] = test[\"seriesDescription\"].map(seriesDescription2num)\n",
        "    test[\"gameType\"] = test[\"gameType\"].map(gameType2num)\n",
        "    display(test)\n",
        "    \n",
        "    \n",
        "    test_X1 = test[feature_cols1]\n",
        "    test_X2 = test[feature_cols2]\n",
        "    test_X3 = test[feature_cols3]\n",
        "    test_X4 = test[feature_cols4]\n",
        "    \n",
        "    # predict\n",
        "    pred1 = model1.predict(test_X1)\n",
        "    pred2 = model2.predict(test_X2)\n",
        "    pred3 = model3.predict(test_X3)\n",
        "    pred4 = model4.predict(test_X4)\n",
        "    \n",
        "    # merge submission\n",
        "    sample_prediction_df['target1'] = np.clip(pred1, 0, 100)\n",
        "    sample_prediction_df['target2'] = np.clip(pred2, 0, 100)\n",
        "    sample_prediction_df['target3'] = np.clip(pred3, 0, 100)\n",
        "    sample_prediction_df['target4'] = np.clip(pred4, 0, 100)\n",
        "    sample_prediction_df = sample_prediction_df.fillna(0.)\n",
        "    del sample_prediction_df['playerId']\n",
        "    \n",
        "    # TF summit\n",
        "    # Features computation at Evaluation Date\n",
        "    sub_fe, eval_dt = test_lag(sub)\n",
        "    sub_fe = sub_fe.merge(LAST_MED_DF, on=\"playerId\", how=\"left\")\n",
        "    sub_fe = sub_fe.fillna(0.)\n",
        "    \n",
        "    _preds = 0.\n",
        "    for reg in nets:\n",
        "        _preds += reg.predict(sub_fe[FECOLS + MEDCOLS]) / NFOLDS\n",
        "    sub_fe[TGTCOLS] = np.clip(_preds, 0, 100)\n",
        "    sub.drop([\"date\"]+TGTCOLS, axis=1, inplace=True)\n",
        "    sub = sub.merge(sub_fe[[\"playerId\"]+TGTCOLS], on=\"playerId\", how=\"left\")\n",
        "    sub.drop(\"playerId\", axis=1, inplace=True)\n",
        "    sub = sub.fillna(0.)\n",
        "    # Blending\n",
        "    blend = pd.concat(\n",
        "        [sub[['date_playerId']],\n",
        "        (0.1*sub.drop('date_playerId', axis=1) + 0.9*sample_prediction_df.drop('date_playerId', axis=1))],\n",
        "        axis=1\n",
        "    )\n",
        "    env.predict(blend)\n",
        "    # Update Available information\n",
        "    sub_fe[\"EvalDate\"] = eval_dt\n",
        "    #sub_fe.drop(MEDCOLS, axis=1, inplace=True)\n",
        "    LAST = LAST.append(sub_fe)\n",
        "    LAST = LAST.drop_duplicates(subset=[\"EvalDate\",\"playerId\"], keep=\"last\")\"\"\""
      ],
      "id": "thousand-comfort",
      "execution_count": null,
      "outputs": []
    },
    {
      "cell_type": "code",
      "metadata": {
        "execution": {
          "iopub.execute_input": "2021-06-25T22:24:02.554240Z",
          "iopub.status.busy": "2021-06-25T22:24:02.553286Z",
          "iopub.status.idle": "2021-06-25T22:24:02.557808Z",
          "shell.execute_reply": "2021-06-25T22:24:02.557241Z"
        },
        "papermill": {
          "duration": 0.688226,
          "end_time": "2021-06-25T22:24:02.557998",
          "exception": false,
          "start_time": "2021-06-25T22:24:01.869772",
          "status": "completed"
        },
        "tags": [],
        "id": "brief-palmer"
      },
      "source": [
        "display(test_df['games'])"
      ],
      "id": "brief-palmer",
      "execution_count": null,
      "outputs": []
    },
    {
      "cell_type": "code",
      "metadata": {
        "execution": {
          "iopub.execute_input": "2021-06-25T22:24:03.891241Z",
          "iopub.status.busy": "2021-06-25T22:24:03.890528Z",
          "iopub.status.idle": "2021-06-25T22:24:03.893839Z",
          "shell.execute_reply": "2021-06-25T22:24:03.893065Z"
        },
        "papermill": {
          "duration": 0.657564,
          "end_time": "2021-06-25T22:24:03.894025",
          "exception": false,
          "start_time": "2021-06-25T22:24:03.236461",
          "status": "completed"
        },
        "tags": [],
        "id": "partial-morning"
      },
      "source": [
        "def unpack_json(json_str):\n",
        "    return np.nan if pd.isna(json_str) else pd.read_json(json_str)"
      ],
      "id": "partial-morning",
      "execution_count": null,
      "outputs": []
    },
    {
      "cell_type": "code",
      "metadata": {
        "execution": {
          "iopub.execute_input": "2021-06-25T22:24:05.315595Z",
          "iopub.status.busy": "2021-06-25T22:24:05.314919Z",
          "iopub.status.idle": "2021-06-25T22:24:05.325682Z",
          "shell.execute_reply": "2021-06-25T22:24:05.325144Z"
        },
        "papermill": {
          "duration": 0.761079,
          "end_time": "2021-06-25T22:24:05.325843",
          "exception": false,
          "start_time": "2021-06-25T22:24:04.564764",
          "status": "completed"
        },
        "tags": [],
        "id": "smoking-discretion"
      },
      "source": [
        "unpack_json(test_df[\"games\"].iloc[0])"
      ],
      "id": "smoking-discretion",
      "execution_count": null,
      "outputs": []
    },
    {
      "cell_type": "code",
      "metadata": {
        "execution": {
          "iopub.execute_input": "2021-06-25T22:24:06.665554Z",
          "iopub.status.busy": "2021-06-25T22:24:06.663884Z",
          "iopub.status.idle": "2021-06-25T22:24:06.679898Z",
          "shell.execute_reply": "2021-06-25T22:24:06.679341Z"
        },
        "papermill": {
          "duration": 0.692076,
          "end_time": "2021-06-25T22:24:06.680048",
          "exception": false,
          "start_time": "2021-06-25T22:24:05.987972",
          "status": "completed"
        },
        "tags": [],
        "id": "talented-generic"
      },
      "source": [
        "pd.concat(\n",
        "    [sub[['date_playerId']],\n",
        "    (sub.drop('date_playerId', axis=1) + sample_prediction_df.drop('date_playerId', axis=1)) / 2],\n",
        "    axis=1\n",
        ")"
      ],
      "id": "talented-generic",
      "execution_count": null,
      "outputs": []
    },
    {
      "cell_type": "code",
      "metadata": {
        "execution": {
          "iopub.execute_input": "2021-06-25T22:24:08.007421Z",
          "iopub.status.busy": "2021-06-25T22:24:08.006746Z",
          "iopub.status.idle": "2021-06-25T22:24:08.009957Z",
          "shell.execute_reply": "2021-06-25T22:24:08.010404Z"
        },
        "papermill": {
          "duration": 0.679239,
          "end_time": "2021-06-25T22:24:08.010626",
          "exception": false,
          "start_time": "2021-06-25T22:24:07.331387",
          "status": "completed"
        },
        "tags": [],
        "id": "vertical-ethernet"
      },
      "source": [
        "sample_prediction_df"
      ],
      "id": "vertical-ethernet",
      "execution_count": null,
      "outputs": []
    }
  ]
}